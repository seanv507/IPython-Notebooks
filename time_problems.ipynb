{
 "cells": [
  {
   "cell_type": "code",
   "execution_count": null,
   "metadata": {
    "collapsed": true
   },
   "outputs": [],
   "source": [
    "import pandas as pd\n",
    "d=pd.DataFrame({'a':['2014-10-11', '2014-10-12', '2014-10-16']})\n",
    "e=pd.DataFrame({'a':['2014-10-12','2014-10-13','2014-10-15' ]})\n",
    "d['b']=pd.to_datetime(d.a)\n",
    "e['b']=pd.to_datetime(e.a)\n",
    "find=d['b'].unique()\n",
    "\n",
    "pd.cut(e['b'].values,bins=find,labels=pd.to_datetime(find[:-1]))\n",
    "\n"
   ]
  },
  {
   "cell_type": "code",
   "execution_count": 2,
   "metadata": {
    "collapsed": false
   },
   "outputs": [
    {
     "name": "stdout",
     "output_type": "stream",
     "text": [
      "['h', 'e', 'l', 'l', 'o']\n"
     ]
    }
   ],
   "source": [
    "a=('hello')\n",
    "b=list(a)\n",
    "print b"
   ]
  },
  {
   "cell_type": "code",
   "execution_count": null,
   "metadata": {
    "collapsed": true
   },
   "outputs": [],
   "source": [
    "c:\\users\\sean violante\\documents\\projects\\lendico\\projects\\returns\\src\\returns.py(75)<lambda>()\n",
    "     74         y[y < min_date] = min_date\n",
    "---> 75     return y.map(lambda x: '{}_Q{}'.format(x.year, ((x.month - 1) // 3) + 1))\n",
    "     76 \n",
    "\n",
    "ipdb> type(y)\n",
    "*** NameError: name 'y' is not defined\n",
    "ipdb> u\n",
    "> c:\\anaconda\\lib\\site-packages\\pandas\\core\\series.py(2009)map()\n",
    "   2008         else:\n",
    "-> 2009             mapped = map_f(values, arg)\n",
    "   2010             return self._constructor(mapped,\n",
    "\n",
    "ipdb> u\n",
    "> c:\\users\\sean violante\\documents\\projects\\lendico\\projects\\returns\\src\\returns.py(75)calc_quarter()\n",
    "     74         y[y < min_date] = min_date\n",
    "---> 75     return y.map(lambda x: '{}_Q{}'.format(x.year, ((x.month - 1) // 3) + 1))\n",
    "     76 \n",
    "\n",
    "ipdb> type(y)\n",
    "<class 'pandas.core.series.Series'>\n",
    "ipdb> y.head()\n",
    "0    1389312000000000000\n",
    "1    1389571200000000000\n",
    "2    1389312000000000000\n",
    "3    1389312000000000000\n",
    "4    1389571200000000000\n",
    "Name: payout_date, dtype: object\n",
    "\n",
    "ipdb> "
   ]
  }
 ],
 "metadata": {
  "kernelspec": {
   "display_name": "Python 2",
   "language": "python",
   "name": "python2"
  },
  "language_info": {
   "codemirror_mode": {
    "name": "ipython",
    "version": 2
   },
   "file_extension": ".py",
   "mimetype": "text/x-python",
   "name": "python",
   "nbconvert_exporter": "python",
   "pygments_lexer": "ipython2",
   "version": "2.7.8"
  }
 },
 "nbformat": 4,
 "nbformat_minor": 0
}
