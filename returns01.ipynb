{
 "cells": [
  {
   "cell_type": "code",
   "execution_count": 1,
   "metadata": {
    "collapsed": false
   },
   "outputs": [],
   "source": [
    "from __future__ import division\n",
    "import pandas as pd\n",
    "import numpy as np\n",
    "import matplotlib.pyplot as plt\n",
    "import datetime\n",
    "import scipy.optimize\n",
    "import pandas.io.sql as psql\n",
    "import pandas as pd\n",
    "import sys\n",
    "sys.path.insert(0,'C:\\Users\\Sean Violante\\Documents\\Projects\\lendico\\lib')\n",
    "import dwh"
   ]
  },
  {
   "cell_type": "code",
   "execution_count": 2,
   "metadata": {
    "collapsed": true
   },
   "outputs": [],
   "source": [
    "%matplotlib qt"
   ]
  },
  {
   "cell_type": "code",
   "execution_count": 3,
   "metadata": {
    "collapsed": false
   },
   "outputs": [],
   "source": [
    "conn = dwh.get_DWH()\n"
   ]
  },
  {
   "cell_type": "code",
   "execution_count": 27,
   "metadata": {
    "collapsed": true
   },
   "outputs": [],
   "source": [
    "src_dir=r'C:\\Users\\Sean Violante\\Documents\\Projects\\lendico\\projects\\returns\\src'"
   ]
  },
  {
   "cell_type": "code",
   "execution_count": 4,
   "metadata": {
    "collapsed": false
   },
   "outputs": [
    {
     "name": "stdout",
     "output_type": "stream",
     "text": [
      "C:\\Users\\Sean Violante\\Documents\\Projects\\lendico\\projects\\returns\\src\n"
     ]
    }
   ],
   "source": [
    "%cd  C:\\Users\\Sean Violante\\Documents\\Projects\\lendico\\projects\\returns\\src"
   ]
  },
  {
   "cell_type": "code",
   "execution_count": 14,
   "metadata": {
    "collapsed": true
   },
   "outputs": [],
   "source": [
    "arrears_dict={30:0.15,60:0.35, 90:0.67, 120:1,150:1,180:1,210:1,240:1,270:1}\n",
    "arrears_dict={30:0.195, 60: 0.44, 90:0.611, 120:1,150:1,180:1,210:1,240:1,270:1}\n",
    "arrears_dict={30:0.164, 60: 0.384, 90:0.55, 120:1,150:1,180:1,210:1,240:1,270:1}"
   ]
  },
  {
   "cell_type": "code",
   "execution_count": 615,
   "metadata": {
    "collapsed": false
   },
   "outputs": [
    {
     "data": {
      "text/html": [
       "<div style=\"max-height:1000px;max-width:1500px;overflow:auto;\">\n",
       "<table border=\"1\" class=\"dataframe\">\n",
       "  <thead>\n",
       "    <tr style=\"text-align: right;\">\n",
       "      <th></th>\n",
       "      <th>fk_ranking</th>\n",
       "      <th>date_of_first_loan_offer</th>\n",
       "      <th>base_date</th>\n",
       "      <th>rating</th>\n",
       "      <th>ranking_rating</th>\n",
       "      <th>pd</th>\n",
       "      <th>ranking_pd_start</th>\n",
       "      <th>ranking_pd_end</th>\n",
       "      <th>duration_months</th>\n",
       "      <th>base_return</th>\n",
       "    </tr>\n",
       "  </thead>\n",
       "  <tbody>\n",
       "    <tr>\n",
       "      <th>347</th>\n",
       "      <td>261</td>\n",
       "      <td>2014-08-12</td>\n",
       "      <td>2014-07-01</td>\n",
       "      <td>C5</td>\n",
       "      <td>C5</td>\n",
       "      <td>5.41</td>\n",
       "      <td>5.41</td>\n",
       "      <td>6</td>\n",
       "      <td>60</td>\n",
       "      <td>0.0609</td>\n",
       "    </tr>\n",
       "  </tbody>\n",
       "</table>\n",
       "</div>"
      ],
      "text/plain": [
       "     fk_ranking date_of_first_loan_offer  base_date rating ranking_rating  \\\n",
       "347         261               2014-08-12 2014-07-01     C5             C5   \n",
       "\n",
       "       pd  ranking_pd_start  ranking_pd_end  duration_months  base_return  \n",
       "347  5.41              5.41               6               60       0.0609  "
      ]
     },
     "execution_count": 615,
     "metadata": {},
     "output_type": "execute_result"
    }
   ],
   "source": [
    "loans.loc[loans.id_loan==330,['fk_ranking','date_of_first_loan_offer','base_date','rating','ranking_rating','pd','ranking_pd_start','ranking_pd_end','duration_months','base_return']]"
   ]
  },
  {
   "cell_type": "code",
   "execution_count": 582,
   "metadata": {
    "collapsed": false
   },
   "outputs": [
    {
     "data": {
      "text/html": [
       "<div style=\"max-height:1000px;max-width:1500px;overflow:auto;\">\n",
       "<table border=\"1\" class=\"dataframe\">\n",
       "  <thead>\n",
       "    <tr style=\"text-align: right;\">\n",
       "      <th></th>\n",
       "      <th>date</th>\n",
       "      <th>rating</th>\n",
       "      <th>duration:6</th>\n",
       "      <th>duration:12</th>\n",
       "      <th>duration:24</th>\n",
       "      <th>duration:36</th>\n",
       "      <th>duration:48</th>\n",
       "      <th>duration:60</th>\n",
       "    </tr>\n",
       "  </thead>\n",
       "  <tbody>\n",
       "    <tr>\n",
       "      <th>7</th>\n",
       "      <td>2013-11-01</td>\n",
       "      <td>C2</td>\n",
       "      <td>0.01000</td>\n",
       "      <td>0.01000</td>\n",
       "      <td>0.02000</td>\n",
       "      <td>0.02000</td>\n",
       "      <td>0.02000</td>\n",
       "      <td>0.02000</td>\n",
       "    </tr>\n",
       "    <tr>\n",
       "      <th>33</th>\n",
       "      <td>2014-07-01</td>\n",
       "      <td>C2</td>\n",
       "      <td>0.03900</td>\n",
       "      <td>0.04290</td>\n",
       "      <td>0.04870</td>\n",
       "      <td>0.05200</td>\n",
       "      <td>0.05400</td>\n",
       "      <td>0.05540</td>\n",
       "    </tr>\n",
       "    <tr>\n",
       "      <th>58</th>\n",
       "      <td>2014-10-22</td>\n",
       "      <td>C2</td>\n",
       "      <td>0.01635</td>\n",
       "      <td>0.01824</td>\n",
       "      <td>0.02087</td>\n",
       "      <td>0.02346</td>\n",
       "      <td>0.02653</td>\n",
       "      <td>0.03015</td>\n",
       "    </tr>\n",
       "  </tbody>\n",
       "</table>\n",
       "</div>"
      ],
      "text/plain": [
       "         date rating  duration:6  duration:12  duration:24  duration:36  \\\n",
       "7  2013-11-01     C2     0.01000      0.01000      0.02000      0.02000   \n",
       "33 2014-07-01     C2     0.03900      0.04290      0.04870      0.05200   \n",
       "58 2014-10-22     C2     0.01635      0.01824      0.02087      0.02346   \n",
       "\n",
       "    duration:48  duration:60  \n",
       "7       0.02000      0.02000  \n",
       "33      0.05400      0.05540  \n",
       "58      0.02653      0.03015  "
      ]
     },
     "execution_count": 582,
     "metadata": {},
     "output_type": "execute_result"
    }
   ],
   "source": [
    "base_returns[base_returns.rating=='C2']"
   ]
  },
  {
   "cell_type": "code",
   "execution_count": 391,
   "metadata": {
    "collapsed": false
   },
   "outputs": [
    {
     "name": "stdout",
     "output_type": "stream",
     "text": [
      "['payment_plans_combined', 'payment_plans', 'actual_payments_combined', 'actual_payments', 'loans', 'loan_fundings']\n"
     ]
    }
   ],
   "source": [
    "%run returns_sql.py\n",
    "sql_strings=get_sql_strings(exclude_loans=False)\n",
    "print sql_strings.keys()"
   ]
  },
  {
   "cell_type": "code",
   "execution_count": 401,
   "metadata": {
    "collapsed": false
   },
   "outputs": [
    {
     "data": {
      "text/plain": [
       "2646"
      ]
     },
     "execution_count": 401,
     "metadata": {},
     "output_type": "execute_result"
    }
   ],
   "source": [
    "payment_plans_combined.initial_principal_amount_investor.isnull().sum()"
   ]
  },
  {
   "cell_type": "code",
   "execution_count": 392,
   "metadata": {
    "collapsed": false,
    "scrolled": true
   },
   "outputs": [
    {
     "name": "stdout",
     "output_type": "stream",
     "text": [
      "Wall time: 8min 33s\n",
      "Wall time: 26 s\n",
      "Wall time: 47.1 s\n",
      "Wall time: 18.1 s\n",
      "Wall time: 3min 17s\n"
     ]
    }
   ],
   "source": [
    "%time loans=psql.read_sql(sql_strings['loans'],conn)\n",
    "%time loan_fundings=psql.read_sql(sql_strings['loan_fundings'],conn)\n",
    "%time payment_plans=psql.read_sql(sql_strings['payment_plans'],conn)\n",
    "%time actual_payments=psql.read_sql(sql_strings['actual_payments'],conn)\n",
    "%time actual_payments_combined=psql.read_sql(sql_strings['actual_payments_combined'],conn)"
   ]
  },
  {
   "cell_type": "code",
   "execution_count": 393,
   "metadata": {
    "collapsed": false,
    "scrolled": true
   },
   "outputs": [
    {
     "name": "stdout",
     "output_type": "stream",
     "text": [
      "Wall time: 25min 15s\n"
     ]
    }
   ],
   "source": [
    "%time payment_plans_combined1=psql.read_sql(sql_strings['payment_plans_combined'],conn)"
   ]
  },
  {
   "cell_type": "code",
   "execution_count": 394,
   "metadata": {
    "collapsed": true
   },
   "outputs": [],
   "source": [
    "payment_plans_combined_old=payment_plans_combined\n",
    "payment_plans_combined=payment_plans_combined1"
   ]
  },
  {
   "cell_type": "code",
   "execution_count": 11,
   "metadata": {
    "collapsed": false
   },
   "outputs": [],
   "source": [
    "payment_plans_combined.to_csv('C:\\Users\\Sean Violante\\Documents\\Projects\\lendico\\Projects\\Returns\\payout_plans_combined_may.txt')"
   ]
  },
  {
   "cell_type": "code",
   "execution_count": 277,
   "metadata": {
    "collapsed": true
   },
   "outputs": [],
   "source": [
    "%run returns.py"
   ]
  },
  {
   "cell_type": "code",
   "execution_count": 396,
   "metadata": {
    "collapsed": false
   },
   "outputs": [
    {
     "data": {
      "text/plain": [
       "array([  38,  101,  117,  191,  195,  381,  447,  466,  497,  673, 1947,\n",
       "       2241, 2345, 2375, 2407, 2423, 2425, 2484, 2509, 2558, 2584, 2710,\n",
       "       2725, 2792, 2916, 3086, 3248, 3318, 3465, 3473, 3561, 3801], dtype=int64)"
      ]
     },
     "execution_count": 396,
     "metadata": {},
     "output_type": "execute_result"
    }
   ],
   "source": [
    "payment_plans_combined[payment_plans_combined.fk_loan==36].fk_user_investor.unique()"
   ]
  },
  {
   "cell_type": "code",
   "execution_count": null,
   "metadata": {
    "collapsed": true
   },
   "outputs": [],
   "source": [
    "actual_payments_combined.head"
   ]
  },
  {
   "cell_type": "code",
   "execution_count": 489,
   "metadata": {
    "collapsed": false
   },
   "outputs": [],
   "source": [
    "loans=extend_loans(loans)\n",
    "loan_fundings=extend_loan_fundings(loan_fundings,loans)\n",
    "actual_payments=extend_actual_payments(actual_payments, loans, arrears_dict)\n",
    "actual_payments_combined=extend_actual_payments(actual_payments_combined, loans, arrears_dict)\n",
    "payment_plans=extend_payment_plans(payment_plans,loans)\n",
    "payment_plans_combined=extend_payment_plans(payment_plans_combined,loans)"
   ]
  },
  {
   "cell_type": "markdown",
   "metadata": {},
   "source": [
    "Note we are using payout date not originated since date"
   ]
  },
  {
   "cell_type": "code",
   "execution_count": 533,
   "metadata": {
    "collapsed": false
   },
   "outputs": [],
   "source": [
    "# in calculating irr need to add grouping variables. if keep principal, loan payments and principal repayment separate, then need to readd afterwards"
   ]
  },
  {
   "cell_type": "code",
   "execution_count": 54,
   "metadata": {
    "collapsed": false
   },
   "outputs": [
    {
     "data": {
      "text/plain": [
       "array(['2014-01', '2014-01', '2014-01', '2014-01', '2014-01'], dtype='datetime64[M]')"
      ]
     },
     "execution_count": 54,
     "metadata": {},
     "output_type": "execute_result"
    }
   ],
   "source": [
    " np.array(loans.payout_date.head(),'datetime64[M]')"
   ]
  },
  {
   "cell_type": "code",
   "execution_count": 177,
   "metadata": {
    "collapsed": false
   },
   "outputs": [
    {
     "data": {
      "text/html": [
       "<div style=\"max-height:1000px;max-width:1500px;overflow:auto;\">\n",
       "<table border=\"1\" class=\"dataframe\">\n",
       "  <thead>\n",
       "    <tr style=\"text-align: right;\">\n",
       "      <th></th>\n",
       "      <th>date</th>\n",
       "      <th>fk_user_investor</th>\n",
       "      <th>id_loan</th>\n",
       "      <th>payment</th>\n",
       "      <th>dcf</th>\n",
       "      <th>rating_base</th>\n",
       "      <th>rating_switch</th>\n",
       "      <th>payback_state</th>\n",
       "    </tr>\n",
       "  </thead>\n",
       "  <tbody>\n",
       "    <tr>\n",
       "      <th>75817</th>\n",
       "      <td>2014-09-30</td>\n",
       "      <td>25151</td>\n",
       "      <td>304</td>\n",
       "      <td>11.9300</td>\n",
       "      <td>0.501370</td>\n",
       "      <td>C</td>\n",
       "      <td>2</td>\n",
       "      <td>payback_pending</td>\n",
       "    </tr>\n",
       "    <tr>\n",
       "      <th>75818</th>\n",
       "      <td>2014-10-31</td>\n",
       "      <td>25151</td>\n",
       "      <td>304</td>\n",
       "      <td>50.5000</td>\n",
       "      <td>0.416438</td>\n",
       "      <td>C</td>\n",
       "      <td>2</td>\n",
       "      <td>payback_pending</td>\n",
       "    </tr>\n",
       "    <tr>\n",
       "      <th>75819</th>\n",
       "      <td>2014-11-30</td>\n",
       "      <td>25151</td>\n",
       "      <td>304</td>\n",
       "      <td>50.5000</td>\n",
       "      <td>0.334247</td>\n",
       "      <td>C</td>\n",
       "      <td>2</td>\n",
       "      <td>payback_pending</td>\n",
       "    </tr>\n",
       "    <tr>\n",
       "      <th>75820</th>\n",
       "      <td>2014-12-31</td>\n",
       "      <td>25151</td>\n",
       "      <td>304</td>\n",
       "      <td>0.0000</td>\n",
       "      <td>0.249315</td>\n",
       "      <td>C</td>\n",
       "      <td>2</td>\n",
       "      <td>payback_pending</td>\n",
       "    </tr>\n",
       "    <tr>\n",
       "      <th>75821</th>\n",
       "      <td>2015-01-31</td>\n",
       "      <td>25151</td>\n",
       "      <td>304</td>\n",
       "      <td>101.0000</td>\n",
       "      <td>0.164384</td>\n",
       "      <td>C</td>\n",
       "      <td>2</td>\n",
       "      <td>payback_pending</td>\n",
       "    </tr>\n",
       "    <tr>\n",
       "      <th>75822</th>\n",
       "      <td>2015-02-28</td>\n",
       "      <td>25151</td>\n",
       "      <td>304</td>\n",
       "      <td>50.5000</td>\n",
       "      <td>0.087671</td>\n",
       "      <td>C</td>\n",
       "      <td>2</td>\n",
       "      <td>payback_pending</td>\n",
       "    </tr>\n",
       "    <tr>\n",
       "      <th>75823</th>\n",
       "      <td>2015-03-31</td>\n",
       "      <td>25151</td>\n",
       "      <td>304</td>\n",
       "      <td>51.0200</td>\n",
       "      <td>0.002740</td>\n",
       "      <td>C</td>\n",
       "      <td>2</td>\n",
       "      <td>payback_pending</td>\n",
       "    </tr>\n",
       "    <tr>\n",
       "      <th>75824</th>\n",
       "      <td>2015-04-30</td>\n",
       "      <td>25151</td>\n",
       "      <td>304</td>\n",
       "      <td>51.0200</td>\n",
       "      <td>-0.079452</td>\n",
       "      <td>C</td>\n",
       "      <td>2</td>\n",
       "      <td>payback_pending</td>\n",
       "    </tr>\n",
       "    <tr>\n",
       "      <th>146717</th>\n",
       "      <td>2015-04-30</td>\n",
       "      <td>25151</td>\n",
       "      <td>304</td>\n",
       "      <td>2256.8057</td>\n",
       "      <td>-0.079452</td>\n",
       "      <td>C</td>\n",
       "      <td>2</td>\n",
       "      <td>payback_pending</td>\n",
       "    </tr>\n",
       "    <tr>\n",
       "      <th>172243</th>\n",
       "      <td>2014-08-08</td>\n",
       "      <td>25151</td>\n",
       "      <td>304</td>\n",
       "      <td>-2500.0000</td>\n",
       "      <td>0.646575</td>\n",
       "      <td>C</td>\n",
       "      <td>2</td>\n",
       "      <td>payback_pending</td>\n",
       "    </tr>\n",
       "  </tbody>\n",
       "</table>\n",
       "</div>"
      ],
      "text/plain": [
       "             date  fk_user_investor  id_loan    payment       dcf rating_base  \\\n",
       "75817  2014-09-30             25151      304    11.9300  0.501370           C   \n",
       "75818  2014-10-31             25151      304    50.5000  0.416438           C   \n",
       "75819  2014-11-30             25151      304    50.5000  0.334247           C   \n",
       "75820  2014-12-31             25151      304     0.0000  0.249315           C   \n",
       "75821  2015-01-31             25151      304   101.0000  0.164384           C   \n",
       "75822  2015-02-28             25151      304    50.5000  0.087671           C   \n",
       "75823  2015-03-31             25151      304    51.0200  0.002740           C   \n",
       "75824  2015-04-30             25151      304    51.0200 -0.079452           C   \n",
       "146717 2015-04-30             25151      304  2256.8057 -0.079452           C   \n",
       "172243 2014-08-08             25151      304 -2500.0000  0.646575           C   \n",
       "\n",
       "        rating_switch    payback_state  \n",
       "75817               2  payback_pending  \n",
       "75818               2  payback_pending  \n",
       "75819               2  payback_pending  \n",
       "75820               2  payback_pending  \n",
       "75821               2  payback_pending  \n",
       "75822               2  payback_pending  \n",
       "75823               2  payback_pending  \n",
       "75824               2  payback_pending  \n",
       "146717              2  payback_pending  \n",
       "172243              2  payback_pending  "
      ]
     },
     "execution_count": 177,
     "metadata": {},
     "output_type": "execute_result"
    }
   ],
   "source": [
    "cashflows_act_investor=generate_cashflows_act_investor(actual_payments_combined,loan_fundings1,'2015-04-30')"
   ]
  },
  {
   "cell_type": "code",
   "execution_count": 30,
   "metadata": {
    "collapsed": false
   },
   "outputs": [],
   "source": [
    "payment_plans.sort(['fk_loan','interval'],inplace=True) #prob unnecc? but need sorted for rebase"
   ]
  },
  {
   "cell_type": "code",
   "execution_count": 279,
   "metadata": {
    "collapsed": false
   },
   "outputs": [
    {
     "data": {
      "text/plain": [
       "0    payback\n",
       "1    payback\n",
       "2    payback\n",
       "3    payback\n",
       "Name: payback_state, dtype: object"
      ]
     },
     "execution_count": 279,
     "metadata": {},
     "output_type": "execute_result"
    }
   ],
   "source": [
    "loans.payback_state[loans.fk_loan.isin(filtered_de_payments)]"
   ]
  },
  {
   "cell_type": "code",
   "execution_count": 281,
   "metadata": {
    "collapsed": false
   },
   "outputs": [
    {
     "data": {
      "text/html": [
       "<div style=\"max-height:1000px;max-width:1500px;overflow:auto;\">\n",
       "<table border=\"1\" class=\"dataframe\">\n",
       "  <thead>\n",
       "    <tr style=\"text-align: right;\">\n",
       "      <th></th>\n",
       "      <th>d</th>\n",
       "      <th>e</th>\n",
       "    </tr>\n",
       "  </thead>\n",
       "  <tbody>\n",
       "    <tr>\n",
       "      <th>0</th>\n",
       "      <td>2014-01-31</td>\n",
       "      <td>2013-10-31</td>\n",
       "    </tr>\n",
       "    <tr>\n",
       "      <th>1</th>\n",
       "      <td>2014-02-28</td>\n",
       "      <td>2013-11-30</td>\n",
       "    </tr>\n",
       "    <tr>\n",
       "      <th>2</th>\n",
       "      <td>2014-03-31</td>\n",
       "      <td>2013-12-31</td>\n",
       "    </tr>\n",
       "    <tr>\n",
       "      <th>3</th>\n",
       "      <td>2014-04-30</td>\n",
       "      <td>2014-01-31</td>\n",
       "    </tr>\n",
       "    <tr>\n",
       "      <th>4</th>\n",
       "      <td>2014-05-31</td>\n",
       "      <td>2014-02-28</td>\n",
       "    </tr>\n",
       "    <tr>\n",
       "      <th>5</th>\n",
       "      <td>2014-06-30</td>\n",
       "      <td>2014-03-31</td>\n",
       "    </tr>\n",
       "    <tr>\n",
       "      <th>6</th>\n",
       "      <td>2014-07-31</td>\n",
       "      <td>2014-04-30</td>\n",
       "    </tr>\n",
       "    <tr>\n",
       "      <th>7</th>\n",
       "      <td>2014-08-31</td>\n",
       "      <td>2014-05-31</td>\n",
       "    </tr>\n",
       "    <tr>\n",
       "      <th>8</th>\n",
       "      <td>2014-09-30</td>\n",
       "      <td>2014-06-30</td>\n",
       "    </tr>\n",
       "    <tr>\n",
       "      <th>9</th>\n",
       "      <td>2014-10-31</td>\n",
       "      <td>2014-07-31</td>\n",
       "    </tr>\n",
       "    <tr>\n",
       "      <th>10</th>\n",
       "      <td>2014-11-30</td>\n",
       "      <td>2014-08-31</td>\n",
       "    </tr>\n",
       "    <tr>\n",
       "      <th>11</th>\n",
       "      <td>2014-12-31</td>\n",
       "      <td>2014-09-30</td>\n",
       "    </tr>\n",
       "    <tr>\n",
       "      <th>12</th>\n",
       "      <td>2015-01-31</td>\n",
       "      <td>2014-10-31</td>\n",
       "    </tr>\n",
       "    <tr>\n",
       "      <th>13</th>\n",
       "      <td>2015-02-28</td>\n",
       "      <td>2014-11-30</td>\n",
       "    </tr>\n",
       "    <tr>\n",
       "      <th>14</th>\n",
       "      <td>2015-03-31</td>\n",
       "      <td>2014-12-31</td>\n",
       "    </tr>\n",
       "    <tr>\n",
       "      <th>15</th>\n",
       "      <td>2015-04-30</td>\n",
       "      <td>2015-01-31</td>\n",
       "    </tr>\n",
       "    <tr>\n",
       "      <th>16</th>\n",
       "      <td>2015-05-31</td>\n",
       "      <td>2015-02-28</td>\n",
       "    </tr>\n",
       "  </tbody>\n",
       "</table>\n",
       "</div>"
      ],
      "text/plain": [
       "            d          e\n",
       "0  2014-01-31 2013-10-31\n",
       "1  2014-02-28 2013-11-30\n",
       "2  2014-03-31 2013-12-31\n",
       "3  2014-04-30 2014-01-31\n",
       "4  2014-05-31 2014-02-28\n",
       "5  2014-06-30 2014-03-31\n",
       "6  2014-07-31 2014-04-30\n",
       "7  2014-08-31 2014-05-31\n",
       "8  2014-09-30 2014-06-30\n",
       "9  2014-10-31 2014-07-31\n",
       "10 2014-11-30 2014-08-31\n",
       "11 2014-12-31 2014-09-30\n",
       "12 2015-01-31 2014-10-31\n",
       "13 2015-02-28 2014-11-30\n",
       "14 2015-03-31 2014-12-31\n",
       "15 2015-04-30 2015-01-31\n",
       "16 2015-05-31 2015-02-28"
      ]
     },
     "execution_count": 281,
     "metadata": {},
     "output_type": "execute_result"
    }
   ],
   "source": [
    "EOM_dates=pd.date_range('2014-01-01', '2015-05-31', freq='M')\n",
    "minimum_vintage=pd.tseries.offsets.MonthEnd(3)\n",
    "pd.DataFrame({'d':EOM_dates,'e':EOM_dates -minimum_vintage})"
   ]
  },
  {
   "cell_type": "code",
   "execution_count": 397,
   "metadata": {
    "collapsed": false
   },
   "outputs": [
    {
     "name": "stdout",
     "output_type": "stream",
     "text": [
      "0    payback\n",
      "1    payback\n",
      "2    payback\n",
      "3    payback\n",
      "Name: payback_state, dtype: object\n"
     ]
    }
   ],
   "source": [
    "reporting_dates=EOM_dates\n",
    "irr_df=pd.DataFrame({'irr':np.nan},index=EOM_dates)\n",
    "filtered_de_payments=[3,4,6,8] # they are filtered out of de_payments query. \n",
    "# [these aren't amongst repaid, but would be fine because problem is bad record of actual payments for these loans]\n",
    "print loans.payback_state[loans.fk_loan.isin(filtered_de_payments)]\n",
    "defaulted_but_lendico_paid_back=[27,76] # we assume weren't repaid\n",
    "repaid_loans = loans.fk_loan[(loans.payback_state == 'payback_complete') & \n",
    "                             ~(loans.fk_loan.isin(defaulted_but_lendico_paid_back))]\n",
    "act_pay=actual_payments_combined[~actual_payments_combined.fk_loan.isin(repaid_loans)]\n",
    "plan_repaid=payment_plans_combined[payment_plans_combined.fk_loan.isin(repaid_loans)]\n",
    "plan_repaid=plan_repaid.merge(loan_fundings[['fk_loan', 'fk_user_investor', 'state']],on=['fk_loan', 'fk_user_investor'])\n",
    "plan_repaid=plan_repaid[plan_repaid.state=='funded']\n",
    "# problem with combined payment plan so exclude all \"closed\" loans cut off at payback complete date\n",
    "                              \n",
    "plan_pay=payment_plans_combined[~(payment_plans_combined.fk_loan.isin(filtered_de_payments+repaid_loans.values.tolist()))]                                                             \n",
    "cash_keys=['fk_loan', 'fk_user_investor', 'payout_date']"
   ]
  },
  {
   "cell_type": "code",
   "execution_count": 387,
   "metadata": {
    "collapsed": false
   },
   "outputs": [
    {
     "data": {
      "text/plain": [
       "array([u'funded', u'closed'], dtype=object)"
      ]
     },
     "execution_count": 387,
     "metadata": {},
     "output_type": "execute_result"
    }
   ],
   "source": [
    "loan_fundings.state.unique()"
   ]
  },
  {
   "cell_type": "code",
   "execution_count": 386,
   "metadata": {
    "collapsed": false
   },
   "outputs": [
    {
     "data": {
      "text/plain": [
       "Index([                       u'dwh_country_id',\n",
       "                                     u'fk_loan',\n",
       "                             u'fk_loan_request',\n",
       "                             u'loan_request_nr',\n",
       "                            u'fk_user_investor',\n",
       "                            u'fk_user_borrower',\n",
       "                                u'country_name',\n",
       "                 u'nominal_interest_percentage',\n",
       "                   u'promo_interest_percentage',\n",
       "                              u'has_promo_flag',\n",
       "                              u'is_repaid_flag',\n",
       "                                 u'payout_date',\n",
       "                                    u'interval',\n",
       "                       u'interval_payback_date',\n",
       "                  u'next_interval_payback_date',\n",
       "                               u'loan_coverage',\n",
       "                     u'payment_amount_borrower',\n",
       "                 u'payment_amount_borrower_cum',\n",
       "                   u'principal_amount_borrower',\n",
       "               u'principal_amount_borrower_cum',\n",
       "                    u'interest_amount_borrower',\n",
       "                u'interest_amount_borrower_cum',\n",
       "           u'initial_principal_amount_borrower',\n",
       "           u'residual_interest_amount_borrower',\n",
       "          u'residual_principal_amount_borrower',\n",
       "                            u'calc_service_fee',\n",
       "                     u'payment_amount_investor',\n",
       "                 u'payment_amount_investor_cum',\n",
       "                   u'principal_amount_investor',\n",
       "               u'principal_amount_investor_cum',\n",
       "                    u'interest_amount_investor',\n",
       "                u'interest_amount_investor_cum',\n",
       "           u'initial_principal_amount_investor',\n",
       "       u'sum_interval_interest_amount_investor',\n",
       "           u'residual_interest_amount_investor',\n",
       "          u'residual_principal_amount_investor',\n",
       "                                         u'dcf',\n",
       "                                    u'recovery',\n",
       "                                 u'rating_base'],\n",
       "      dtype='object')"
      ]
     },
     "execution_count": 386,
     "metadata": {},
     "output_type": "execute_result"
    }
   ],
   "source": [
    "plan_repaid.columns"
   ]
  },
  {
   "cell_type": "code",
   "execution_count": 79,
   "metadata": {
    "collapsed": false
   },
   "outputs": [],
   "source": [
    "nar_df['interest_amount_investor']=nar_df['interest_amount_investor'].fillna(0)"
   ]
  },
  {
   "cell_type": "code",
   "execution_count": 101,
   "metadata": {
    "collapsed": false
   },
   "outputs": [],
   "source": [
    "actual_payments_combined[\"payout_date\"]=np.array(actual_payments_combined[\"payout_date_x\"],'datetime64[D]')"
   ]
  },
  {
   "cell_type": "code",
   "execution_count": 88,
   "metadata": {
    "collapsed": false
   },
   "outputs": [],
   "source": [
    "nar_df['act_frac_nar']=nar_df[['interest_amount_investor', u'interest_amount_investor_cum']].sum(axis=1)/nar_df['initial_principal_amount_investor']\n",
    "nar_df['act_nar']=(np.power(1+nar_df['act_frac_nar'],12)-1)*100"
   ]
  },
  {
   "cell_type": "code",
   "execution_count": 90,
   "metadata": {
    "collapsed": false
   },
   "outputs": [
    {
     "data": {
      "text/plain": [
       "<matplotlib.axes._subplots.AxesSubplot at 0x1b292438>"
      ]
     },
     "execution_count": 90,
     "metadata": {},
     "output_type": "execute_result"
    }
   ],
   "source": [
    "nar_df.plot(x='act_irr',y='act_nar',kind='scatter')"
   ]
  },
  {
   "cell_type": "code",
   "execution_count": 77,
   "metadata": {
    "collapsed": false
   },
   "outputs": [],
   "source": [
    "nar_df['act_irr']=df*100"
   ]
  },
  {
   "cell_type": "code",
   "execution_count": 390,
   "metadata": {
    "collapsed": false
   },
   "outputs": [
    {
     "data": {
      "text/plain": [
       "Index([                 u'dwh_country_id',                 u'id_loan_funding',\n",
       "                               u'fk_loan',                 u'fk_loan_request',\n",
       "                      u'fk_user_investor',                    u'country_name',\n",
       "                         u'currency_code',      u'loan_request_creation_date',\n",
       "                                u'amount',                u'investment_yield',\n",
       "                                 u'state',                   u'is_authorized',\n",
       "                   u'authorization_token', u'loan_request_funding_created_at',\n",
       "                               u'country',              u'data_accessible_by',\n",
       "                        u'investment_fee',         u'investment_return_state',\n",
       "                         u'payment_count',               u'last_payment_date',\n",
       "                    u'irregular_payments',                    u'close_reason',\n",
       "                            u'eur_amount',                      u'created_at',\n",
       "                            u'updated_at',                     u'dwh_created',\n",
       "                     u'dwh_last_modified',                     u'payout_date',\n",
       "                       u'payout_date_EOM',                             u'dcf',\n",
       "                           u'payback_day',                u'principal_amount',\n",
       "                               u'payment',                  u'loan_coverage1'],\n",
       "      dtype='object')"
      ]
     },
     "execution_count": 390,
     "metadata": {},
     "output_type": "execute_result"
    }
   ],
   "source": [
    "loan_fundings.columns"
   ]
  },
  {
   "cell_type": "code",
   "execution_count": 488,
   "metadata": {
    "collapsed": true
   },
   "outputs": [],
   "source": [
    "%run returns.py"
   ]
  },
  {
   "cell_type": "code",
   "execution_count": 461,
   "metadata": {
    "collapsed": false
   },
   "outputs": [
    {
     "data": {
      "text/html": [
       "<div style=\"max-height:1000px;max-width:1500px;overflow:auto;\">\n",
       "<table border=\"1\" class=\"dataframe\">\n",
       "  <thead>\n",
       "    <tr style=\"text-align: right;\">\n",
       "      <th></th>\n",
       "      <th>orig</th>\n",
       "      <th>quarter</th>\n",
       "    </tr>\n",
       "  </thead>\n",
       "  <tbody>\n",
       "    <tr>\n",
       "      <th>0</th>\n",
       "      <td>2014-01-10</td>\n",
       "      <td>NaT</td>\n",
       "    </tr>\n",
       "    <tr>\n",
       "      <th>1</th>\n",
       "      <td>2014-01-13</td>\n",
       "      <td>NaT</td>\n",
       "    </tr>\n",
       "    <tr>\n",
       "      <th>2</th>\n",
       "      <td>2014-01-10</td>\n",
       "      <td>NaT</td>\n",
       "    </tr>\n",
       "    <tr>\n",
       "      <th>3</th>\n",
       "      <td>2014-01-10</td>\n",
       "      <td>NaT</td>\n",
       "    </tr>\n",
       "    <tr>\n",
       "      <th>4</th>\n",
       "      <td>2014-01-13</td>\n",
       "      <td>NaT</td>\n",
       "    </tr>\n",
       "  </tbody>\n",
       "</table>\n",
       "</div>"
      ],
      "text/plain": [
       "        orig quarter\n",
       "0 2014-01-10     NaT\n",
       "1 2014-01-13     NaT\n",
       "2 2014-01-10     NaT\n",
       "3 2014-01-10     NaT\n",
       "4 2014-01-13     NaT"
      ]
     },
     "execution_count": 461,
     "metadata": {},
     "output_type": "execute_result"
    }
   ],
   "source": [
    "z3.head()"
   ]
  },
  {
   "cell_type": "code",
   "execution_count": 532,
   "metadata": {
    "collapsed": false
   },
   "outputs": [],
   "source": [
    "xirrs_overall =pd.DataFrame( {'actual':np.nan, 'expected': np.nan}, index=selected_reporting_dates)"
   ]
  },
  {
   "cell_type": "code",
   "execution_count": 542,
   "metadata": {
    "collapsed": false
   },
   "outputs": [],
   "source": [
    "%run returns.py"
   ]
  },
  {
   "cell_type": "code",
   "execution_count": null,
   "metadata": {
    "collapsed": true
   },
   "outputs": [],
   "source": []
  },
  {
   "cell_type": "code",
   "execution_count": 559,
   "metadata": {
    "collapsed": false
   },
   "outputs": [
    {
     "ename": "AssertionError",
     "evalue": "Cannot concat indices that do not have the same number of levels",
     "output_type": "error",
     "traceback": [
      "\u001b[1;31m---------------------------------------------------------------------------\u001b[0m",
      "\u001b[1;31mAssertionError\u001b[0m                            Traceback (most recent call last)",
      "\u001b[1;32m<ipython-input-559-7ce920a37921>\u001b[0m in \u001b[0;36m<module>\u001b[1;34m()\u001b[0m\n\u001b[0;32m    198\u001b[0m \u001b[1;33m\u001b[0m\u001b[0m\n\u001b[0;32m    199\u001b[0m \u001b[1;32mfor\u001b[0m \u001b[0msplit\u001b[0m \u001b[1;32min\u001b[0m \u001b[1;33m(\u001b[0m\u001b[0msplits\u001b[0m \u001b[1;33m)\u001b[0m\u001b[1;33m:\u001b[0m\u001b[1;33m\u001b[0m\u001b[0m\n\u001b[1;32m--> 200\u001b[1;33m     \u001b[0mxirrs_all\u001b[0m\u001b[1;33m[\u001b[0m\u001b[0msplit\u001b[0m\u001b[1;33m]\u001b[0m \u001b[1;33m=\u001b[0m \u001b[0mpd\u001b[0m\u001b[1;33m.\u001b[0m\u001b[0mconcat\u001b[0m\u001b[1;33m(\u001b[0m \u001b[0mxirrs_all_list\u001b[0m\u001b[1;33m[\u001b[0m\u001b[0msplit\u001b[0m\u001b[1;33m]\u001b[0m\u001b[1;33m,\u001b[0m \u001b[0mkeys\u001b[0m\u001b[1;33m=\u001b[0m\u001b[0mselected_reporting_dates\u001b[0m\u001b[1;33m)\u001b[0m\u001b[1;33m\u001b[0m\u001b[0m\n\u001b[0m\u001b[0;32m    201\u001b[0m \u001b[1;33m\u001b[0m\u001b[0m\n",
      "\u001b[1;32mC:\\Anaconda\\lib\\site-packages\\pandas\\tools\\merge.pyc\u001b[0m in \u001b[0;36mconcat\u001b[1;34m(objs, axis, join, join_axes, ignore_index, keys, levels, names, verify_integrity, copy)\u001b[0m\n\u001b[0;32m    752\u001b[0m                        \u001b[0mkeys\u001b[0m\u001b[1;33m=\u001b[0m\u001b[0mkeys\u001b[0m\u001b[1;33m,\u001b[0m \u001b[0mlevels\u001b[0m\u001b[1;33m=\u001b[0m\u001b[0mlevels\u001b[0m\u001b[1;33m,\u001b[0m \u001b[0mnames\u001b[0m\u001b[1;33m=\u001b[0m\u001b[0mnames\u001b[0m\u001b[1;33m,\u001b[0m\u001b[1;33m\u001b[0m\u001b[0m\n\u001b[0;32m    753\u001b[0m                        \u001b[0mverify_integrity\u001b[0m\u001b[1;33m=\u001b[0m\u001b[0mverify_integrity\u001b[0m\u001b[1;33m,\u001b[0m\u001b[1;33m\u001b[0m\u001b[0m\n\u001b[1;32m--> 754\u001b[1;33m                        copy=copy)\n\u001b[0m\u001b[0;32m    755\u001b[0m     \u001b[1;32mreturn\u001b[0m \u001b[0mop\u001b[0m\u001b[1;33m.\u001b[0m\u001b[0mget_result\u001b[0m\u001b[1;33m(\u001b[0m\u001b[1;33m)\u001b[0m\u001b[1;33m\u001b[0m\u001b[0m\n\u001b[0;32m    756\u001b[0m \u001b[1;33m\u001b[0m\u001b[0m\n",
      "\u001b[1;32mC:\\Anaconda\\lib\\site-packages\\pandas\\tools\\merge.pyc\u001b[0m in \u001b[0;36m__init__\u001b[1;34m(self, objs, axis, join, join_axes, keys, levels, names, ignore_index, verify_integrity, copy)\u001b[0m\n\u001b[0;32m    884\u001b[0m         \u001b[0mself\u001b[0m\u001b[1;33m.\u001b[0m\u001b[0mcopy\u001b[0m \u001b[1;33m=\u001b[0m \u001b[0mcopy\u001b[0m\u001b[1;33m\u001b[0m\u001b[0m\n\u001b[0;32m    885\u001b[0m \u001b[1;33m\u001b[0m\u001b[0m\n\u001b[1;32m--> 886\u001b[1;33m         \u001b[0mself\u001b[0m\u001b[1;33m.\u001b[0m\u001b[0mnew_axes\u001b[0m \u001b[1;33m=\u001b[0m \u001b[0mself\u001b[0m\u001b[1;33m.\u001b[0m\u001b[0m_get_new_axes\u001b[0m\u001b[1;33m(\u001b[0m\u001b[1;33m)\u001b[0m\u001b[1;33m\u001b[0m\u001b[0m\n\u001b[0m\u001b[0;32m    887\u001b[0m \u001b[1;33m\u001b[0m\u001b[0m\n\u001b[0;32m    888\u001b[0m     \u001b[1;32mdef\u001b[0m \u001b[0mget_result\u001b[0m\u001b[1;33m(\u001b[0m\u001b[0mself\u001b[0m\u001b[1;33m)\u001b[0m\u001b[1;33m:\u001b[0m\u001b[1;33m\u001b[0m\u001b[0m\n",
      "\u001b[1;32mC:\\Anaconda\\lib\\site-packages\\pandas\\tools\\merge.pyc\u001b[0m in \u001b[0;36m_get_new_axes\u001b[1;34m(self)\u001b[0m\n\u001b[0;32m    957\u001b[0m                 \u001b[0mnew_axes\u001b[0m\u001b[1;33m[\u001b[0m\u001b[0mi\u001b[0m\u001b[1;33m]\u001b[0m \u001b[1;33m=\u001b[0m \u001b[0max\u001b[0m\u001b[1;33m\u001b[0m\u001b[0m\n\u001b[0;32m    958\u001b[0m \u001b[1;33m\u001b[0m\u001b[0m\n\u001b[1;32m--> 959\u001b[1;33m         \u001b[0mnew_axes\u001b[0m\u001b[1;33m[\u001b[0m\u001b[0mself\u001b[0m\u001b[1;33m.\u001b[0m\u001b[0maxis\u001b[0m\u001b[1;33m]\u001b[0m \u001b[1;33m=\u001b[0m \u001b[0mself\u001b[0m\u001b[1;33m.\u001b[0m\u001b[0m_get_concat_axis\u001b[0m\u001b[1;33m(\u001b[0m\u001b[1;33m)\u001b[0m\u001b[1;33m\u001b[0m\u001b[0m\n\u001b[0m\u001b[0;32m    960\u001b[0m         \u001b[1;32mreturn\u001b[0m \u001b[0mnew_axes\u001b[0m\u001b[1;33m\u001b[0m\u001b[0m\n\u001b[0;32m    961\u001b[0m \u001b[1;33m\u001b[0m\u001b[0m\n",
      "\u001b[1;32mC:\\Anaconda\\lib\\site-packages\\pandas\\tools\\merge.pyc\u001b[0m in \u001b[0;36m_get_concat_axis\u001b[1;34m(self)\u001b[0m\n\u001b[0;32m   1012\u001b[0m         \u001b[1;32melse\u001b[0m\u001b[1;33m:\u001b[0m\u001b[1;33m\u001b[0m\u001b[0m\n\u001b[0;32m   1013\u001b[0m             concat_axis = _make_concat_multiindex(indexes, self.keys,\n\u001b[1;32m-> 1014\u001b[1;33m                                                   self.levels, self.names)\n\u001b[0m\u001b[0;32m   1015\u001b[0m \u001b[1;33m\u001b[0m\u001b[0m\n\u001b[0;32m   1016\u001b[0m         \u001b[0mself\u001b[0m\u001b[1;33m.\u001b[0m\u001b[0m_maybe_check_integrity\u001b[0m\u001b[1;33m(\u001b[0m\u001b[0mconcat_axis\u001b[0m\u001b[1;33m)\u001b[0m\u001b[1;33m\u001b[0m\u001b[0m\n",
      "\u001b[1;32mC:\\Anaconda\\lib\\site-packages\\pandas\\tools\\merge.pyc\u001b[0m in \u001b[0;36m_make_concat_multiindex\u001b[1;34m(indexes, keys, levels, names)\u001b[0m\n\u001b[0;32m   1085\u001b[0m             \u001b[1;31m# make sure that all of the passed indices have the same nlevels\u001b[0m\u001b[1;33m\u001b[0m\u001b[1;33m\u001b[0m\u001b[0m\n\u001b[0;32m   1086\u001b[0m             \u001b[1;32mif\u001b[0m \u001b[1;32mnot\u001b[0m \u001b[0mlen\u001b[0m\u001b[1;33m(\u001b[0m\u001b[0mset\u001b[0m\u001b[1;33m(\u001b[0m\u001b[1;33m[\u001b[0m \u001b[0mi\u001b[0m\u001b[1;33m.\u001b[0m\u001b[0mnlevels\u001b[0m \u001b[1;32mfor\u001b[0m \u001b[0mi\u001b[0m \u001b[1;32min\u001b[0m \u001b[0mindexes\u001b[0m \u001b[1;33m]\u001b[0m\u001b[1;33m)\u001b[0m\u001b[1;33m)\u001b[0m \u001b[1;33m==\u001b[0m \u001b[1;36m1\u001b[0m\u001b[1;33m:\u001b[0m\u001b[1;33m\u001b[0m\u001b[0m\n\u001b[1;32m-> 1087\u001b[1;33m                 raise AssertionError(\"Cannot concat indices that do\"\n\u001b[0m\u001b[0;32m   1088\u001b[0m                                      \" not have the same number of levels\")\n\u001b[0;32m   1089\u001b[0m \u001b[1;33m\u001b[0m\u001b[0m\n",
      "\u001b[1;31mAssertionError\u001b[0m: Cannot concat indices that do not have the same number of levels"
     ]
    }
   ],
   "source": [
    "selected_reporting_dates=reporting_dates\n",
    "# need it in adding key in concatenating reports\n",
    "\n",
    "splits = [('payout_quarter'), ('rating_base'), ('fk_loan'), ('rating_switch','rating_base')]\n",
    "\n",
    "# although we don't need to filter out loans <month old we do so to match actual return\n",
    "\n",
    "\n",
    "xirrs_all_list={}\n",
    "xirrs_all={}\n",
    "\n",
    "xirrs_overall =pd.DataFrame( {'actual':np.nan, 'expected': np.nan}, index=selected_reporting_dates)\n",
    "\n",
    "for split in (splits):\n",
    "    xirrs_all_list[split]=[]\n",
    "        \n",
    "for EOM_date in selected_reporting_dates:\n",
    "    max_payout_date = (EOM_date - minimum_vintage).date()\n",
    "    \n",
    "    act_filter = (act_pay.iso_date <= EOM_date.date()) & \\\n",
    "                 (act_pay.payout_date <= max_payout_date)\n",
    "    act_EOM_filter = act_filter & (act_pay.iso_date == EOM_date.date())\n",
    "    plan_filter = (plan_pay.payout_date <= max_payout_date)\n",
    "    \n",
    "    \n",
    "    \n",
    "    # NAR\n",
    "    interest_payments = act_pay.loc[act_EOM_filter,cash_keys +['interest_amount_investor_cum']]\n",
    "    interest_payments_exc0 = act_pay.loc[act_EOM_filter,cash_keys +['interest_amount_investor_cum_exc0']]\n",
    "    interest_payments_int0 = act_pay.loc[act_filter & (act_pay.interval==0),cash_keys + ['interest_amount_investor']]\n",
    "    initial_principal=act_pay.loc[act_filter ,cash_keys + ['interval','initial_principal_amount_investor']]\n",
    "    initial_principal_int0=initial_principal[initial_principal.interval==0].\\\n",
    "        groupby(cash_keys)['initial_principal_amount_investor'].first().reset_index()\n",
    "    \n",
    "    payments_repaid = plan_repaid.loc[(plan_repaid.payout_date <= max_payout_date) & \n",
    "                                        (plan_repaid.interval>0) & \n",
    "                                        (plan_repaid.interval_payback_date <=EOM_date.date())\n",
    "                                               ,cash_keys +['interest_amount_investor', 'initial_principal_amount_investor']]\n",
    "    \n",
    "    in_arrears=act_pay.loc[act_EOM_filter,cash_keys + \n",
    "                                      ['interest_amount_investor','residual_principal_amount_borrower','residual_principal_amount_investor']]\n",
    "    in_arrears['recovery'] = recovery(in_arrears['residual_principal_amount_borrower'])\n",
    "    in_arrears['recovery_principal'] = in_arrears['recovery'] * in_arrears['residual_principal_amount_investor']\n",
    "    in_arrears['lost_principal'] = -(1-in_arrears['recovery']) * in_arrears['residual_principal_amount_investor']\n",
    "    # irregular payments won't be handled correctly ( mupltiple init princ in 1 month)\n",
    "    \n",
    "   \n",
    "    nar_dict = {'interest_payments':('interest_amount_investor_cum',interest_payments), \n",
    "                'interest_payments_int0':('interest_amount_investor', interest_payments_int0),\n",
    "                'interest_payments_exc0':('interest_amount_investor_cum_exc0', interest_payments_exc0),\n",
    "                'initial_principal': ('initial_principal_amount_investor', initial_principal),\n",
    "                'initial_principal_int0': ('initial_principal_amount_investor', initial_principal_int0),\n",
    "                'payments_repaid': (['interest_amount_investor', 'initial_principal_amount_investor'], payments_repaid), \n",
    "                'in_arrears': (['recovery_principal','lost_principal', 'interest_amount_investor'], in_arrears)}\n",
    "    gps_nar = {k:pd.DataFrame(cols_df[1].groupby('fk_loan')[cols_df[0]].sum()) \n",
    "                   for k, cols_df in nar_dict.iteritems() if cols_df[1] is not None}\n",
    "    # add in dataframe name to disambiguate\n",
    "                                   \n",
    "    nar_df = pd.concat(gps_nar, axis=1)\n",
    "    nar1 = nar_df.merge(actual_payments.loc[actual_payments.iso_date==EOM_date.date(),['fk_loan','in_arrears_since',\n",
    "                                    'in_arrears_since_days',u'in_arrears_since_days_30360','bucket','bucket_pd']],\n",
    "                                          left_index=True, right_on='fk_loan')\n",
    "    nar2 = nar1.merge(loans[['fk_loan', 'payout_quarter','payback_state', 'principal_amount']], on='fk_loan')\n",
    "    \n",
    "    nar2['interest'] = nar2[[('interest_payments','interest_amount_investor_cum'),\n",
    "                                ('payments_repaid','interest_amount_investor')]].sum(axis=1)\n",
    "    nar2['interest'] -= nar2[('interest_payments_int0','interest_amount_investor')].fillna(0)\n",
    "    \n",
    "    nar2['default_loss'] = (nar2['bucket']>=120) * nar2[('in_arrears','lost_principal')] \n",
    "    nar2['note_status_adjustment'] = (nar2['bucket']<120) * \\\n",
    "                                     nar2['bucket_pd'] * \\\n",
    "                                     nar2[('in_arrears','lost_principal')]\n",
    "                      \n",
    "    nar2['bucket0_lost'] = (nar2['bucket']==0) * nar2[('in_arrears','lost_principal')]\n",
    "    nar2['bucket30_lost'] = (nar2['bucket']==30) * nar2[('in_arrears','lost_principal')]\n",
    "    nar2['bucket60_lost'] = (nar2['bucket']==60) * nar2[('in_arrears','lost_principal')]\n",
    "    nar2['bucket90_lost'] = (nar2['bucket']==90) * nar2[('in_arrears','lost_principal')]\n",
    "    \n",
    "    nar2['monthly_principals'] = nar2[[('initial_principal','initial_principal_amount_investor'),\n",
    "                              ('payments_repaid', 'initial_principal_amount_investor')]].sum(axis=1)\n",
    "    nar2['monthly_principals'] = nar2['monthly_principals'] - \\\n",
    "                        nar2[[('initial_principal_int0', 'initial_principal_amount_investor')]].fillna(0).values.squeeze()\n",
    "    nar2['top']=nar2[['interest','default_loss']].sum(axis=1)\n",
    "    nar2['nar']=annualise(nar2['top']/nar2['monthly_principals'])\n",
    "    nar2['adj nar']=annualise((nar2['top']+nar2['note_status_adjustment'])/nar2['monthly_principals'])\n",
    "    nar2.set_index('fk_loan', inplace = True)\n",
    "    \n",
    "    #IRR                        \n",
    "    loan_principals = \\\n",
    "        loan_fundings.loc[\n",
    "            (loan_fundings.payout_date <=\n",
    "                max_payout_date) &\n",
    "            ~(loan_fundings.fk_loan.isin(filtered_de_payments)),\n",
    "            cash_keys + [ 'payout_date_EOM', 'dcf', 'payment']]\n",
    "    # loan payments may have payments for loans that have been filterd out\n",
    "    loan_payments=act_pay.loc[act_filter,\n",
    "                    cash_keys + [ 'dcf', 'payment_amount_investor_month']]\\\n",
    "                .rename(columns={'payment_amount_investor_month': 'payment'})\n",
    "    \n",
    "    \n",
    "    # what to do if no matching interval ( borrower never paid?)\n",
    "    residuals, recoveries = generate_residual_act_investor(\n",
    "                                act_pay[act_filter], loan_fundings,\n",
    "                                EOM_date.date(),\n",
    "                                payment_plans=plan_pay[plan_filter])\n",
    "    # Expected IRR\n",
    "    latest_paid_interval_investor = \\\n",
    "        act_pay.loc[act_filter, ['iso_date','fk_loan','fk_user_investor','interval']]\\\n",
    "        .sort('iso_date', inplace=False)\\\n",
    "        .groupby(['fk_loan','fk_user_investor']).interval.last()\n",
    "    latest_paid_interval_investor.name='latest_paid_interval'\n",
    "    if plan_pay[plan_filter].shape[0]>0:\n",
    "        future_cashflows = make_future_pd(plan_pay[plan_filter], act_pay[act_EOM_filter],loans,\n",
    "                        arrears_dict, True,EOM_date.date(),latest_paid_interval_investor)\n",
    "        expected_cashflows = future_cashflows[cash_keys + ['dcf', 'e_tot']].copy()\n",
    "        expected_cashflows = expected_cashflows.rename(columns={'e_tot': 'payment'})\n",
    "    else:\n",
    "        expected_cashflows=None\n",
    "    \n",
    "    repaid_loans_cash = plan_repaid.loc[plan_repaid.payout_date <= max_payout_date,\n",
    "                                        cash_keys + ['interval_payback_date', 'dcf', 'payment_amount_investor']]\\\n",
    "                                   .rename(columns={'payment_amount_investor':'payment'})\n",
    "        \n",
    "    # deal with repaid\n",
    "\n",
    "    def drop_none(li):\n",
    "        return [ zx for zx in li if zx is not None]\n",
    "\n",
    "    cash_list_actual = drop_none([loan_principals,loan_payments, residuals, recoveries, repaid_loans_cash])\n",
    "                    \n",
    "    cash_list_expected =  drop_none([loan_principals,loan_payments, expected_cashflows, repaid_loans_cash])\n",
    "    # originated quarter\n",
    "    merge_fields = ['payout_quarter', 'rating_base', 'rating_switch', 'payback_state']\n",
    "                      \n",
    "    def merge(df_left,df_right,key_list, merge_fields, how='inner'):\n",
    "        # if fields already exist they get name suffixed _x\n",
    "        df = df_left.drop(merge_fields, axis=1, errors='ignore')\n",
    "        return df.merge(df_right[key_list + merge_fields], on=key_list, how=how)\n",
    "        \n",
    "    for i in range(len(cash_list_actual)):\n",
    "        cash_list_actual[i]=merge(cash_list_actual[i], loans, ['fk_loan'], merge_fields)\n",
    "    for i in range(len(cash_list_expected)):\n",
    "        cash_list_expected[i]=merge(cash_list_expected[i], loans, ['fk_loan'], merge_fields)\n",
    "    \n",
    "    def group_payment_sum(grps,grouping):\n",
    "        # what if empty list\n",
    "        # convert scalar to list if necc\n",
    "        if isinstance(grouping,str):\n",
    "            levels = 0\n",
    "            grouping_list = [grouping]+['dcf'] \n",
    "        else:\n",
    "            levels = range(len(grouping))\n",
    "            grouping_list =list(grouping)+['dcf'] # co\n",
    "        # pandas throws error if send [0] when no multiindex\n",
    "        ans= [ zx.groupby(grouping_list).payment.sum().reset_index('dcf').groupby(level=levels) for zx in grps]\n",
    "        return ans\n",
    "\n",
    "    def xirr_group(grps):\n",
    "        # calc irr for group\n",
    "        # grps[0] must be loan_funding - initial principal\n",
    "        # we only take other cashflows if initial principal in list  \n",
    "        return grps[0].apply( lambda x: xirr([x] +\n",
    "                [z.get_group(x.index[0]) for z in grps[1:] if x.index[0] in z.groups.keys()]))\n",
    "    \n",
    "    splits = [('payout_quarter'), ('rating_base'), ('fk_loan'), ('rating_switch','rating_base')]\n",
    "    \n",
    "    gps_actual={}\n",
    "    gps_expected={}\n",
    "    xirrs={}\n",
    "    \n",
    "    split='overall'\n",
    "    gps_actual[split]=[zx.groupby(['dcf']).payment.sum().reset_index('dcf') \\\n",
    "                     for zx in cash_list_actual]\n",
    "    gps_expected[split]=[zx.groupby(['dcf']).payment.sum().reset_index('dcf') \\\n",
    "                     for zx in cash_list_expected]\n",
    "    \n",
    "    xirrs_overall.loc[EOM_date,'actual'] = xirr(gps_actual[split])\n",
    "    xirrs_overall.loc[EOM_date,'expected'] = xirr(gps_expected[split])\n",
    "    \n",
    "    xirrs[split] =pd.DataFrame({'actual':act_irr if act_irr.shape[0]>0 else [], \n",
    "                                'expected':exp_irr if exp_irr.shape[0]>0 else []})\n",
    "        \n",
    "    for split in splits:\n",
    "        gps_actual[split] = group_payment_sum(cash_list_actual, split)\n",
    "        gps_expected[split] = group_payment_sum(cash_list_expected, split)\n",
    "    \n",
    "    for split in (splits ):\n",
    "        act_irr=xirr_group(gps_actual[split])\n",
    "        exp_irr=xirr_group(gps_expected[split])\n",
    "        xirrs[split] =pd.DataFrame({'actual':act_irr if act_irr.shape[0]>0 else [], \n",
    "                                    'expected':exp_irr if exp_irr.shape[0]>0 else []})\n",
    "        \n",
    "        \n",
    "    xirrs['fk_loan'] = xirrs['fk_loan'].merge(actual_payments.loc[actual_payments.iso_date==EOM_date.date(),['fk_loan','in_arrears_since',\n",
    "                                    'in_arrears_since_days',u'in_arrears_since_days_30360','bucket','bucket_pd']],\n",
    "                                          left_index=True, right_on='fk_loan')\n",
    "    \n",
    "    # index dropped when merge?\n",
    "    \n",
    "    xirrs['fk_loan'] = xirrs['fk_loan'].merge(loans[['fk_loan','rating_base','rating_switch','payback_state']],\n",
    "                                          on='fk_loan')\n",
    "    xirrs['fk_loan'].set_index('fk_loan',inplace=True)\n",
    "    cols=[c for c in nar2.columns if c not in \\\n",
    "          [ u'in_arrears_since',u'in_arrears_since_days', u'in_arrears_since_days_30360',  u'bucket', u'bucket_pd',  u'payback_state']]\n",
    "    xirrs['fk_loan']=xirrs['fk_loan'].join(nar2[cols],how='outer')\n",
    "    \n",
    "    for split in splits :\n",
    "        xirrs_all_list[split].append(xirrs[split])\n",
    "    \n",
    "    \n",
    "for split in splits :\n",
    "    xirrs_all[split] = pd.concat( xirrs_all_list[split], keys=selected_reporting_dates)\n",
    "\n"
   ]
  },
  {
   "cell_type": "code",
   "execution_count": 569,
   "metadata": {
    "collapsed": true
   },
   "outputs": [],
   "source": [
    " xirrs_all['fk_loan'].to_clipboard()"
   ]
  },
  {
   "cell_type": "code",
   "execution_count": 565,
   "metadata": {
    "collapsed": false
   },
   "outputs": [
    {
     "data": {
      "text/plain": [
       "['payout_quarter', 'rating_base', 'fk_loan', ('rating_switch', 'rating_base')]"
      ]
     },
     "execution_count": 565,
     "metadata": {},
     "output_type": "execute_result"
    }
   ],
   "source": [
    "splits"
   ]
  },
  {
   "cell_type": "code",
   "execution_count": 567,
   "metadata": {
    "collapsed": false
   },
   "outputs": [],
   "source": [
    "xirrs_all['rating_base'].to_clipboard()"
   ]
  },
  {
   "cell_type": "code",
   "execution_count": 568,
   "metadata": {
    "collapsed": false
   },
   "outputs": [],
   "source": [
    "xirrs_all['payout_quarter'].to_clipboard()"
   ]
  },
  {
   "cell_type": "code",
   "execution_count": 560,
   "metadata": {
    "collapsed": false
   },
   "outputs": [
    {
     "name": "stdout",
     "output_type": "stream",
     "text": [
      "> \u001b[1;32mc:\\anaconda\\lib\\site-packages\\pandas\\tools\\merge.py\u001b[0m(1087)\u001b[0;36m_make_concat_multiindex\u001b[1;34m()\u001b[0m\n",
      "\u001b[1;32m   1086 \u001b[1;33m            \u001b[1;32mif\u001b[0m \u001b[1;32mnot\u001b[0m \u001b[0mlen\u001b[0m\u001b[1;33m(\u001b[0m\u001b[0mset\u001b[0m\u001b[1;33m(\u001b[0m\u001b[1;33m[\u001b[0m \u001b[0mi\u001b[0m\u001b[1;33m.\u001b[0m\u001b[0mnlevels\u001b[0m \u001b[1;32mfor\u001b[0m \u001b[0mi\u001b[0m \u001b[1;32min\u001b[0m \u001b[0mindexes\u001b[0m \u001b[1;33m]\u001b[0m\u001b[1;33m)\u001b[0m\u001b[1;33m)\u001b[0m \u001b[1;33m==\u001b[0m \u001b[1;36m1\u001b[0m\u001b[1;33m:\u001b[0m\u001b[1;33m\u001b[0m\u001b[0m\n",
      "\u001b[0m\u001b[1;32m-> 1087 \u001b[1;33m                raise AssertionError(\"Cannot concat indices that do\"\n",
      "\u001b[0m\u001b[1;32m   1088 \u001b[1;33m                                     \" not have the same number of levels\")\n",
      "\u001b[0m\n",
      "ipdb> q\n"
     ]
    }
   ],
   "source": [
    "%debug"
   ]
  },
  {
   "cell_type": "code",
   "execution_count": 557,
   "metadata": {
    "collapsed": false
   },
   "outputs": [
    {
     "data": {
      "text/plain": [
       "(0, 0)"
      ]
     },
     "execution_count": 557,
     "metadata": {},
     "output_type": "execute_result"
    }
   ],
   "source": [
    "act_irr.shape"
   ]
  },
  {
   "cell_type": "code",
   "execution_count": 551,
   "metadata": {
    "collapsed": false
   },
   "outputs": [
    {
     "data": {
      "text/html": [
       "<div style=\"max-height:1000px;max-width:1500px;overflow:auto;\">\n",
       "<table border=\"1\" class=\"dataframe\">\n",
       "  <thead>\n",
       "    <tr style=\"text-align: right;\">\n",
       "      <th></th>\n",
       "      <th>actual</th>\n",
       "      <th>expected</th>\n",
       "    </tr>\n",
       "  </thead>\n",
       "  <tbody>\n",
       "    <tr>\n",
       "      <th>2015-05-31</th>\n",
       "      <td>0.046227</td>\n",
       "      <td>0.033634</td>\n",
       "    </tr>\n",
       "  </tbody>\n",
       "</table>\n",
       "</div>"
      ],
      "text/plain": [
       "              actual  expected\n",
       "2015-05-31  0.046227  0.033634"
      ]
     },
     "execution_count": 551,
     "metadata": {},
     "output_type": "execute_result"
    }
   ],
   "source": [
    " xirrs_overall"
   ]
  },
  {
   "cell_type": "code",
   "execution_count": 553,
   "metadata": {
    "collapsed": false
   },
   "outputs": [
    {
     "data": {
      "text/html": [
       "<div style=\"max-height:1000px;max-width:1500px;overflow:auto;\">\n",
       "<table border=\"1\" class=\"dataframe\">\n",
       "  <thead>\n",
       "    <tr style=\"text-align: right;\">\n",
       "      <th></th>\n",
       "      <th></th>\n",
       "      <th>actual</th>\n",
       "      <th>expected</th>\n",
       "    </tr>\n",
       "    <tr>\n",
       "      <th></th>\n",
       "      <th>payout_quarter</th>\n",
       "      <th></th>\n",
       "      <th></th>\n",
       "    </tr>\n",
       "  </thead>\n",
       "  <tbody>\n",
       "    <tr>\n",
       "      <th rowspan=\"5\" valign=\"top\">2015-05-31</th>\n",
       "      <th>2014_Q1</th>\n",
       "      <td>0.058662</td>\n",
       "      <td>0.058533</td>\n",
       "    </tr>\n",
       "    <tr>\n",
       "      <th>2014_Q2</th>\n",
       "      <td>0.064646</td>\n",
       "      <td>0.046801</td>\n",
       "    </tr>\n",
       "    <tr>\n",
       "      <th>2014_Q3</th>\n",
       "      <td>0.042113</td>\n",
       "      <td>0.032037</td>\n",
       "    </tr>\n",
       "    <tr>\n",
       "      <th>2014_Q4</th>\n",
       "      <td>0.038446</td>\n",
       "      <td>0.034259</td>\n",
       "    </tr>\n",
       "    <tr>\n",
       "      <th>2015_Q1</th>\n",
       "      <td>0.050369</td>\n",
       "      <td>0.031069</td>\n",
       "    </tr>\n",
       "  </tbody>\n",
       "</table>\n",
       "</div>"
      ],
      "text/plain": [
       "                             actual  expected\n",
       "           payout_quarter                    \n",
       "2015-05-31 2014_Q1         0.058662  0.058533\n",
       "           2014_Q2         0.064646  0.046801\n",
       "           2014_Q3         0.042113  0.032037\n",
       "           2014_Q4         0.038446  0.034259\n",
       "           2015_Q1         0.050369  0.031069"
      ]
     },
     "execution_count": 553,
     "metadata": {},
     "output_type": "execute_result"
    }
   ],
   "source": [
    "xirrs_all[splits[0]]"
   ]
  },
  {
   "cell_type": "code",
   "execution_count": 548,
   "metadata": {
    "collapsed": true
   },
   "outputs": [],
   "source": [
    "cols=[c for c in nar2.columns if c not in \\\n",
    "          [ u'in_arrears_since',u'in_arrears_since_days', u'in_arrears_since_days_30360',  u'bucket', u'bucket_pd',  u'payback_state']]"
   ]
  },
  {
   "cell_type": "code",
   "execution_count": 549,
   "metadata": {
    "collapsed": false
   },
   "outputs": [
    {
     "data": {
      "text/plain": [
       "[('in_arrears', 'recovery_principal'),\n",
       " ('in_arrears', 'lost_principal'),\n",
       " ('in_arrears', 'interest_amount_investor'),\n",
       " ('initial_principal', 'initial_principal_amount_investor'),\n",
       " ('initial_principal_int0', 'initial_principal_amount_investor'),\n",
       " ('interest_payments', 'interest_amount_investor_cum'),\n",
       " ('interest_payments_exc0', 'interest_amount_investor_cum_exc0'),\n",
       " ('interest_payments_int0', 'interest_amount_investor'),\n",
       " ('payments_repaid', 'interest_amount_investor'),\n",
       " ('payments_repaid', 'initial_principal_amount_investor'),\n",
       " 'payout_quarter',\n",
       " 'interest',\n",
       " 'default_loss',\n",
       " 'note_status_adjustment',\n",
       " 'bucket0_lost',\n",
       " 'bucket30_lost',\n",
       " 'bucket60_lost',\n",
       " 'bucket90_lost',\n",
       " 'monthly_principals',\n",
       " 'top',\n",
       " 'nar',\n",
       " 'adj nar']"
      ]
     },
     "execution_count": 549,
     "metadata": {},
     "output_type": "execute_result"
    }
   ],
   "source": [
    "cols"
   ]
  },
  {
   "cell_type": "code",
   "execution_count": 546,
   "metadata": {
    "collapsed": false
   },
   "outputs": [
    {
     "data": {
      "text/plain": [
       "[('in_arrears', 'recovery_principal'),\n",
       " ('in_arrears', 'lost_principal'),\n",
       " ('in_arrears', 'interest_amount_investor'),\n",
       " ('initial_principal', 'initial_principal_amount_investor'),\n",
       " ('initial_principal_int0', 'initial_principal_amount_investor'),\n",
       " ('interest_payments', 'interest_amount_investor_cum'),\n",
       " ('interest_payments_exc0', 'interest_amount_investor_cum_exc0'),\n",
       " ('interest_payments_int0', 'interest_amount_investor'),\n",
       " ('payments_repaid', 'interest_amount_investor'),\n",
       " ('payments_repaid', 'initial_principal_amount_investor'),\n",
       " 'payout_quarter',\n",
       " 'interest',\n",
       " 'default_loss',\n",
       " 'note_status_adjustment',\n",
       " 'bucket0_lost',\n",
       " 'bucket30_lost',\n",
       " 'bucket60_lost',\n",
       " 'bucket90_lost',\n",
       " 'monthly_principals',\n",
       " 'top',\n",
       " 'nar',\n",
       " 'adj nar']"
      ]
     },
     "execution_count": 546,
     "metadata": {},
     "output_type": "execute_result"
    }
   ],
   "source": [
    "[c for c in nar2.columns if c not in [ u'in_arrears_since',       u'in_arrears_since_days',\n",
    "       u'in_arrears_since_days_30360',                      u'bucket',\n",
    "                         u'bucket_pd',               u'payback_state']]"
   ]
  },
  {
   "cell_type": "code",
   "execution_count": 529,
   "metadata": {
    "collapsed": true
   },
   "outputs": [],
   "source": [
    "split='overall'\n",
    "act_irr=xirr(gps_actual[split])"
   ]
  },
  {
   "cell_type": "code",
   "execution_count": 537,
   "metadata": {
    "collapsed": false
   },
   "outputs": [
    {
     "data": {
      "text/html": [
       "<div style=\"max-height:1000px;max-width:1500px;overflow:auto;\">\n",
       "<table border=\"1\" class=\"dataframe\">\n",
       "  <thead>\n",
       "    <tr style=\"text-align: right;\">\n",
       "      <th></th>\n",
       "      <th>(in_arrears, recovery_principal)</th>\n",
       "      <th>(in_arrears, lost_principal)</th>\n",
       "      <th>(in_arrears, interest_amount_investor)</th>\n",
       "      <th>(initial_principal, initial_principal_amount_investor)</th>\n",
       "      <th>(initial_principal_int0, initial_principal_amount_investor)</th>\n",
       "      <th>(interest_payments, interest_amount_investor_cum)</th>\n",
       "      <th>(interest_payments_exc0, interest_amount_investor_cum_exc0)</th>\n",
       "      <th>(interest_payments_int0, interest_amount_investor)</th>\n",
       "      <th>(payments_repaid, interest_amount_investor)</th>\n",
       "      <th>(payments_repaid, initial_principal_amount_investor)</th>\n",
       "      <th>...</th>\n",
       "      <th>default_loss</th>\n",
       "      <th>note_status_adjustment</th>\n",
       "      <th>bucket0_lost</th>\n",
       "      <th>bucket30_lost</th>\n",
       "      <th>bucket60_lost</th>\n",
       "      <th>bucket90_lost</th>\n",
       "      <th>monthly_principals</th>\n",
       "      <th>top</th>\n",
       "      <th>nar</th>\n",
       "      <th>adj nar</th>\n",
       "    </tr>\n",
       "  </thead>\n",
       "  <tbody>\n",
       "    <tr>\n",
       "      <th>0</th>\n",
       "      <td>190.155998</td>\n",
       "      <td>-136.909702</td>\n",
       "      <td>1.4361</td>\n",
       "      <td>11529.6695</td>\n",
       "      <td>950</td>\n",
       "      <td>41.3849</td>\n",
       "      <td>41.3849</td>\n",
       "      <td>NaN</td>\n",
       "      <td>NaN</td>\n",
       "      <td>NaN</td>\n",
       "      <td>...</td>\n",
       "      <td>-0</td>\n",
       "      <td>NaN</td>\n",
       "      <td>-0</td>\n",
       "      <td>-0</td>\n",
       "      <td>-0</td>\n",
       "      <td>-0</td>\n",
       "      <td>10579.6695</td>\n",
       "      <td>41.3849</td>\n",
       "      <td>0.047964</td>\n",
       "      <td>NaN</td>\n",
       "    </tr>\n",
       "    <tr>\n",
       "      <th>1</th>\n",
       "      <td>1823.712386</td>\n",
       "      <td>-5155.669114</td>\n",
       "      <td>18.5707</td>\n",
       "      <td>141062.5346</td>\n",
       "      <td>9325</td>\n",
       "      <td>343.1808</td>\n",
       "      <td>343.1808</td>\n",
       "      <td>NaN</td>\n",
       "      <td>NaN</td>\n",
       "      <td>NaN</td>\n",
       "      <td>...</td>\n",
       "      <td>-0</td>\n",
       "      <td>NaN</td>\n",
       "      <td>-0</td>\n",
       "      <td>-0</td>\n",
       "      <td>-0</td>\n",
       "      <td>-0</td>\n",
       "      <td>131737.5346</td>\n",
       "      <td>343.1808</td>\n",
       "      <td>0.031712</td>\n",
       "      <td>NaN</td>\n",
       "    </tr>\n",
       "    <tr>\n",
       "      <th>2</th>\n",
       "      <td>989.395822</td>\n",
       "      <td>-712.351378</td>\n",
       "      <td>12.2218</td>\n",
       "      <td>59452.6702</td>\n",
       "      <td>4850</td>\n",
       "      <td>348.5479</td>\n",
       "      <td>348.5479</td>\n",
       "      <td>NaN</td>\n",
       "      <td>NaN</td>\n",
       "      <td>NaN</td>\n",
       "      <td>...</td>\n",
       "      <td>-0</td>\n",
       "      <td>NaN</td>\n",
       "      <td>-0</td>\n",
       "      <td>-0</td>\n",
       "      <td>-0</td>\n",
       "      <td>-0</td>\n",
       "      <td>54602.6702</td>\n",
       "      <td>348.5479</td>\n",
       "      <td>0.079348</td>\n",
       "      <td>NaN</td>\n",
       "    </tr>\n",
       "    <tr>\n",
       "      <th>3</th>\n",
       "      <td>635.966599</td>\n",
       "      <td>-457.887201</td>\n",
       "      <td>6.3542</td>\n",
       "      <td>38354.4934</td>\n",
       "      <td>NaN</td>\n",
       "      <td>182.2528</td>\n",
       "      <td>182.2528</td>\n",
       "      <td>NaN</td>\n",
       "      <td>NaN</td>\n",
       "      <td>NaN</td>\n",
       "      <td>...</td>\n",
       "      <td>-0</td>\n",
       "      <td>NaN</td>\n",
       "      <td>-0</td>\n",
       "      <td>-0</td>\n",
       "      <td>-0</td>\n",
       "      <td>-0</td>\n",
       "      <td>38354.4934</td>\n",
       "      <td>182.2528</td>\n",
       "      <td>0.058536</td>\n",
       "      <td>NaN</td>\n",
       "    </tr>\n",
       "    <tr>\n",
       "      <th>4</th>\n",
       "      <td>1577.541238</td>\n",
       "      <td>-4459.738662</td>\n",
       "      <td>27.9884</td>\n",
       "      <td>120988.8110</td>\n",
       "      <td>7950</td>\n",
       "      <td>513.5211</td>\n",
       "      <td>513.5211</td>\n",
       "      <td>NaN</td>\n",
       "      <td>NaN</td>\n",
       "      <td>NaN</td>\n",
       "      <td>...</td>\n",
       "      <td>-0</td>\n",
       "      <td>NaN</td>\n",
       "      <td>-0</td>\n",
       "      <td>-0</td>\n",
       "      <td>-0</td>\n",
       "      <td>-0</td>\n",
       "      <td>113038.8110</td>\n",
       "      <td>513.5211</td>\n",
       "      <td>0.055897</td>\n",
       "      <td>NaN</td>\n",
       "    </tr>\n",
       "  </tbody>\n",
       "</table>\n",
       "<p>5 rows × 29 columns</p>\n",
       "</div>"
      ],
      "text/plain": [
       "   (in_arrears, recovery_principal)  (in_arrears, lost_principal)  \\\n",
       "0                        190.155998                   -136.909702   \n",
       "1                       1823.712386                  -5155.669114   \n",
       "2                        989.395822                   -712.351378   \n",
       "3                        635.966599                   -457.887201   \n",
       "4                       1577.541238                  -4459.738662   \n",
       "\n",
       "   (in_arrears, interest_amount_investor)  \\\n",
       "0                                  1.4361   \n",
       "1                                 18.5707   \n",
       "2                                 12.2218   \n",
       "3                                  6.3542   \n",
       "4                                 27.9884   \n",
       "\n",
       "   (initial_principal, initial_principal_amount_investor)  \\\n",
       "0                                         11529.6695        \n",
       "1                                        141062.5346        \n",
       "2                                         59452.6702        \n",
       "3                                         38354.4934        \n",
       "4                                        120988.8110        \n",
       "\n",
       "   (initial_principal_int0, initial_principal_amount_investor)  \\\n",
       "0                                                950             \n",
       "1                                               9325             \n",
       "2                                               4850             \n",
       "3                                                NaN             \n",
       "4                                               7950             \n",
       "\n",
       "   (interest_payments, interest_amount_investor_cum)  \\\n",
       "0                                            41.3849   \n",
       "1                                           343.1808   \n",
       "2                                           348.5479   \n",
       "3                                           182.2528   \n",
       "4                                           513.5211   \n",
       "\n",
       "   (interest_payments_exc0, interest_amount_investor_cum_exc0)  \\\n",
       "0                                            41.3849             \n",
       "1                                           343.1808             \n",
       "2                                           348.5479             \n",
       "3                                           182.2528             \n",
       "4                                           513.5211             \n",
       "\n",
       "   (interest_payments_int0, interest_amount_investor)  \\\n",
       "0                                                NaN    \n",
       "1                                                NaN    \n",
       "2                                                NaN    \n",
       "3                                                NaN    \n",
       "4                                                NaN    \n",
       "\n",
       "   (payments_repaid, interest_amount_investor)  \\\n",
       "0                                          NaN   \n",
       "1                                          NaN   \n",
       "2                                          NaN   \n",
       "3                                          NaN   \n",
       "4                                          NaN   \n",
       "\n",
       "   (payments_repaid, initial_principal_amount_investor)   ...     \\\n",
       "0                                                NaN      ...      \n",
       "1                                                NaN      ...      \n",
       "2                                                NaN      ...      \n",
       "3                                                NaN      ...      \n",
       "4                                                NaN      ...      \n",
       "\n",
       "   default_loss note_status_adjustment  bucket0_lost  bucket30_lost  \\\n",
       "0            -0                    NaN            -0             -0   \n",
       "1            -0                    NaN            -0             -0   \n",
       "2            -0                    NaN            -0             -0   \n",
       "3            -0                    NaN            -0             -0   \n",
       "4            -0                    NaN            -0             -0   \n",
       "\n",
       "   bucket60_lost  bucket90_lost monthly_principals       top       nar  \\\n",
       "0             -0             -0         10579.6695   41.3849  0.047964   \n",
       "1             -0             -0        131737.5346  343.1808  0.031712   \n",
       "2             -0             -0         54602.6702  348.5479  0.079348   \n",
       "3             -0             -0         38354.4934  182.2528  0.058536   \n",
       "4             -0             -0        113038.8110  513.5211  0.055897   \n",
       "\n",
       "   adj nar  \n",
       "0      NaN  \n",
       "1      NaN  \n",
       "2      NaN  \n",
       "3      NaN  \n",
       "4      NaN  \n",
       "\n",
       "[5 rows x 29 columns]"
      ]
     },
     "execution_count": 537,
     "metadata": {},
     "output_type": "execute_result"
    }
   ],
   "source": [
    "nar2.head()"
   ]
  },
  {
   "cell_type": "code",
   "execution_count": 528,
   "metadata": {
    "collapsed": false
   },
   "outputs": [
    {
     "name": "stdout",
     "output_type": "stream",
     "text": [
      "> \u001b[1;32mc:\\anaconda\\lib\\site-packages\\pandas\\core\\generic.py\u001b[0m(2083)\u001b[0;36m__getattr__\u001b[1;34m()\u001b[0m\n",
      "\u001b[1;32m   2082 \u001b[1;33m            raise AttributeError(\"'%s' object has no attribute '%s'\" %\n",
      "\u001b[0m\u001b[1;32m-> 2083 \u001b[1;33m                                 (type(self).__name__, name))\n",
      "\u001b[0m\u001b[1;32m   2084 \u001b[1;33m\u001b[1;33m\u001b[0m\u001b[0m\n",
      "\u001b[0m\n",
      "ipdb> u\n",
      "> \u001b[1;32m<ipython-input-527-0de1d940be00>\u001b[0m(153)\u001b[0;36m<lambda>\u001b[1;34m()\u001b[0m\n",
      "\u001b[1;32m    152 \u001b[1;33m        return grps[0].apply( lambda x: xirr([x] +\n",
      "\u001b[0m\u001b[1;32m--> 153 \u001b[1;33m                [z.get_group(x.index[0]) for z in grps[1:] if x.index[0] in z.groups.keys()]))\n",
      "\u001b[0m\u001b[1;32m    154 \u001b[1;33m\u001b[1;33m\u001b[0m\u001b[0m\n",
      "\u001b[0m\n",
      "ipdb> u\n",
      "> \u001b[1;32mc:\\anaconda\\lib\\site-packages\\pandas\\core\\frame.py\u001b[0m(3808)\u001b[0;36m_apply_standard\u001b[1;34m()\u001b[0m\n",
      "\u001b[1;32m   3807 \u001b[1;33m                                           com.pprint_thing(k),)\n",
      "\u001b[0m\u001b[1;32m-> 3808 \u001b[1;33m                \u001b[1;32mraise\u001b[0m\u001b[1;33m\u001b[0m\u001b[0m\n",
      "\u001b[0m\u001b[1;32m   3809 \u001b[1;33m\u001b[1;33m\u001b[0m\u001b[0m\n",
      "\u001b[0m\n",
      "ipdb> u\n",
      "> \u001b[1;32mc:\\anaconda\\lib\\site-packages\\pandas\\core\\frame.py\u001b[0m(3709)\u001b[0;36mapply\u001b[1;34m()\u001b[0m\n",
      "\u001b[1;32m   3708 \u001b[1;33m                        \u001b[0mreduce\u001b[0m \u001b[1;33m=\u001b[0m \u001b[0mTrue\u001b[0m\u001b[1;33m\u001b[0m\u001b[0m\n",
      "\u001b[0m\u001b[1;32m-> 3709 \u001b[1;33m                    \u001b[1;32mreturn\u001b[0m \u001b[0mself\u001b[0m\u001b[1;33m.\u001b[0m\u001b[0m_apply_standard\u001b[0m\u001b[1;33m(\u001b[0m\u001b[0mf\u001b[0m\u001b[1;33m,\u001b[0m \u001b[0maxis\u001b[0m\u001b[1;33m,\u001b[0m \u001b[0mreduce\u001b[0m\u001b[1;33m=\u001b[0m\u001b[0mreduce\u001b[0m\u001b[1;33m)\u001b[0m\u001b[1;33m\u001b[0m\u001b[0m\n",
      "\u001b[0m\u001b[1;32m   3710 \u001b[1;33m            \u001b[1;32melse\u001b[0m\u001b[1;33m:\u001b[0m\u001b[1;33m\u001b[0m\u001b[0m\n",
      "\u001b[0m\n",
      "ipdb> u\n",
      "> \u001b[1;32m<ipython-input-527-0de1d940be00>\u001b[0m(152)\u001b[0;36mxirr_group\u001b[1;34m()\u001b[0m\n",
      "\u001b[1;32m    151 \u001b[1;33m        \u001b[1;31m# we only take other cashflows if initial principal in list\u001b[0m\u001b[1;33m\u001b[0m\u001b[1;33m\u001b[0m\u001b[0m\n",
      "\u001b[0m\u001b[1;32m--> 152 \u001b[1;33m        return grps[0].apply( lambda x: xirr([x] +\n",
      "\u001b[0m\u001b[1;32m    153 \u001b[1;33m                [z.get_group(x.index[0]) for z in grps[1:] if x.index[0] in z.groups.keys()]))\n",
      "\u001b[0m\n",
      "ipdb> u\n",
      "> \u001b[1;32m<ipython-input-527-0de1d940be00>\u001b[0m(170)\u001b[0;36m<module>\u001b[1;34m()\u001b[0m\n",
      "\u001b[1;32m    169 \u001b[1;33m    \u001b[1;32mfor\u001b[0m \u001b[0msplit\u001b[0m \u001b[1;32min\u001b[0m \u001b[1;33m(\u001b[0m\u001b[0msplits\u001b[0m \u001b[1;33m+\u001b[0m \u001b[1;33m[\u001b[0m\u001b[1;34m'overall'\u001b[0m\u001b[1;33m]\u001b[0m\u001b[1;33m)\u001b[0m\u001b[1;33m:\u001b[0m\u001b[1;33m\u001b[0m\u001b[0m\n",
      "\u001b[0m\u001b[1;32m--> 170 \u001b[1;33m        \u001b[0mact_irr\u001b[0m\u001b[1;33m=\u001b[0m\u001b[0mxirr_group\u001b[0m\u001b[1;33m(\u001b[0m\u001b[0mgps_actual\u001b[0m\u001b[1;33m[\u001b[0m\u001b[0msplit\u001b[0m\u001b[1;33m]\u001b[0m\u001b[1;33m)\u001b[0m\u001b[1;33m\u001b[0m\u001b[0m\n",
      "\u001b[0m\u001b[1;32m    171 \u001b[1;33m        \u001b[0mexp_irr\u001b[0m\u001b[1;33m=\u001b[0m\u001b[0mxirr_group\u001b[0m\u001b[1;33m(\u001b[0m\u001b[0mgps_expected\u001b[0m\u001b[1;33m[\u001b[0m\u001b[0msplit\u001b[0m\u001b[1;33m]\u001b[0m\u001b[1;33m)\u001b[0m\u001b[1;33m\u001b[0m\u001b[0m\n",
      "\u001b[0m\n",
      "ipdb> split\n",
      "'overall'\n",
      "ipdb> q\n"
     ]
    }
   ],
   "source": [
    "%debug"
   ]
  },
  {
   "cell_type": "code",
   "execution_count": 530,
   "metadata": {
    "collapsed": false
   },
   "outputs": [
    {
     "data": {
      "text/plain": [
       "0.046226781375559654"
      ]
     },
     "execution_count": 530,
     "metadata": {},
     "output_type": "execute_result"
    }
   ],
   "source": [
    "act_irr"
   ]
  },
  {
   "cell_type": "code",
   "execution_count": 521,
   "metadata": {
    "collapsed": false
   },
   "outputs": [],
   "source": [
    "splits1=['payout_quarter', 'rating_base',  ('rating_switch', 'rating_base')]\n",
    "xirrd={}\n",
    "for split in splits1:\n",
    "    xirrd[split]=pd.DataFrame({'actual':xirr_actual[split], 'expected':xirr_expected[split]})"
   ]
  },
  {
   "cell_type": "code",
   "execution_count": 522,
   "metadata": {
    "collapsed": false
   },
   "outputs": [
    {
     "data": {
      "text/html": [
       "<div style=\"max-height:1000px;max-width:1500px;overflow:auto;\">\n",
       "<table border=\"1\" class=\"dataframe\">\n",
       "  <thead>\n",
       "    <tr style=\"text-align: right;\">\n",
       "      <th></th>\n",
       "      <th></th>\n",
       "      <th>actual</th>\n",
       "      <th>expected</th>\n",
       "    </tr>\n",
       "    <tr>\n",
       "      <th>rating_switch</th>\n",
       "      <th>rating_base</th>\n",
       "      <th></th>\n",
       "      <th></th>\n",
       "    </tr>\n",
       "  </thead>\n",
       "  <tbody>\n",
       "    <tr>\n",
       "      <th rowspan=\"5\" valign=\"top\">1</th>\n",
       "      <th>A</th>\n",
       "      <td>0.029843</td>\n",
       "      <td>0.040631</td>\n",
       "    </tr>\n",
       "    <tr>\n",
       "      <th>B</th>\n",
       "      <td>0.049910</td>\n",
       "      <td>0.037516</td>\n",
       "    </tr>\n",
       "    <tr>\n",
       "      <th>C</th>\n",
       "      <td>0.061020</td>\n",
       "      <td>0.041764</td>\n",
       "    </tr>\n",
       "    <tr>\n",
       "      <th>D</th>\n",
       "      <td>0.093666</td>\n",
       "      <td>0.066357</td>\n",
       "    </tr>\n",
       "    <tr>\n",
       "      <th>E</th>\n",
       "      <td>0.116183</td>\n",
       "      <td>0.096917</td>\n",
       "    </tr>\n",
       "    <tr>\n",
       "      <th rowspan=\"5\" valign=\"top\">2</th>\n",
       "      <th>A</th>\n",
       "      <td>0.037788</td>\n",
       "      <td>0.034296</td>\n",
       "    </tr>\n",
       "    <tr>\n",
       "      <th>B</th>\n",
       "      <td>0.040352</td>\n",
       "      <td>0.015260</td>\n",
       "    </tr>\n",
       "    <tr>\n",
       "      <th>C</th>\n",
       "      <td>0.046814</td>\n",
       "      <td>0.036618</td>\n",
       "    </tr>\n",
       "    <tr>\n",
       "      <th>D</th>\n",
       "      <td>0.040297</td>\n",
       "      <td>0.055094</td>\n",
       "    </tr>\n",
       "    <tr>\n",
       "      <th>E</th>\n",
       "      <td>0.117853</td>\n",
       "      <td>0.085129</td>\n",
       "    </tr>\n",
       "    <tr>\n",
       "      <th rowspan=\"5\" valign=\"top\">3</th>\n",
       "      <th>A</th>\n",
       "      <td>0.030887</td>\n",
       "      <td>0.025890</td>\n",
       "    </tr>\n",
       "    <tr>\n",
       "      <th>B</th>\n",
       "      <td>0.040566</td>\n",
       "      <td>0.028258</td>\n",
       "    </tr>\n",
       "    <tr>\n",
       "      <th>C</th>\n",
       "      <td>0.066451</td>\n",
       "      <td>0.036961</td>\n",
       "    </tr>\n",
       "    <tr>\n",
       "      <th>D</th>\n",
       "      <td>-0.001485</td>\n",
       "      <td>0.031015</td>\n",
       "    </tr>\n",
       "    <tr>\n",
       "      <th>E</th>\n",
       "      <td>0.095858</td>\n",
       "      <td>0.043223</td>\n",
       "    </tr>\n",
       "  </tbody>\n",
       "</table>\n",
       "</div>"
      ],
      "text/plain": [
       "                             actual  expected\n",
       "rating_switch rating_base                    \n",
       "1             A            0.029843  0.040631\n",
       "              B            0.049910  0.037516\n",
       "              C            0.061020  0.041764\n",
       "              D            0.093666  0.066357\n",
       "              E            0.116183  0.096917\n",
       "2             A            0.037788  0.034296\n",
       "              B            0.040352  0.015260\n",
       "              C            0.046814  0.036618\n",
       "              D            0.040297  0.055094\n",
       "              E            0.117853  0.085129\n",
       "3             A            0.030887  0.025890\n",
       "              B            0.040566  0.028258\n",
       "              C            0.066451  0.036961\n",
       "              D           -0.001485  0.031015\n",
       "              E            0.095858  0.043223"
      ]
     },
     "execution_count": 522,
     "metadata": {},
     "output_type": "execute_result"
    }
   ],
   "source": [
    "xirrd[split]"
   ]
  },
  {
   "cell_type": "code",
   "execution_count": 519,
   "metadata": {
    "collapsed": false
   },
   "outputs": [
    {
     "data": {
      "text/plain": [
       "rating_switch  rating_base\n",
       "1              A              0.029843\n",
       "               B              0.049910\n",
       "               C              0.061020\n",
       "               D              0.093666\n",
       "               E              0.116183\n",
       "dtype: float64"
      ]
     },
     "execution_count": 519,
     "metadata": {},
     "output_type": "execute_result"
    }
   ],
   "source": [
    "xirr_actual[('rating_switch', 'rating_base')].head()"
   ]
  },
  {
   "cell_type": "code",
   "execution_count": 518,
   "metadata": {
    "collapsed": false
   },
   "outputs": [
    {
     "data": {
      "text/plain": [
       "payout_quarter\n",
       "2014_Q1    0.058662\n",
       "2014_Q2    0.064646\n",
       "2014_Q3    0.042113\n",
       "2014_Q4    0.038446\n",
       "2015_Q1    0.050369\n",
       "dtype: float64"
      ]
     },
     "execution_count": 518,
     "metadata": {},
     "output_type": "execute_result"
    }
   ],
   "source": [
    "xirr_actual['payout_quarter'].head()"
   ]
  },
  {
   "cell_type": "code",
   "execution_count": 511,
   "metadata": {
    "collapsed": false
   },
   "outputs": [
    {
     "name": "stdout",
     "output_type": "stream",
     "text": [
      "['p', 'a', 'y', 'o', 'u', 't', '_', 'q', 'u', 'a', 'r', 't', 'e', 'r']\n",
      "['r', 'a', 't', 'i', 'n', 'g', '_', 'b', 'a', 's', 'e']\n",
      "['f', 'k', '_', 'l', 'o', 'a', 'n']\n",
      "['rating_switch', 'rating_base']\n"
     ]
    }
   ],
   "source": [
    "for split in splits:\n",
    "    print list(split)\n",
    "        "
   ]
  },
  {
   "cell_type": "code",
   "execution_count": 510,
   "metadata": {
    "collapsed": false
   },
   "outputs": [
    {
     "data": {
      "text/plain": [
       "['rating_switch', 'rating_base']"
      ]
     },
     "execution_count": 510,
     "metadata": {},
     "output_type": "execute_result"
    }
   ],
   "source": [
    "list(('rating_switch','rating_base'))"
   ]
  },
  {
   "cell_type": "code",
   "execution_count": 500,
   "metadata": {
    "collapsed": false
   },
   "outputs": [
    {
     "name": "stdout",
     "output_type": "stream",
     "text": [
      "> \u001b[1;32mc:\\anaconda\\lib\\site-packages\\pandas\\core\\indexing.py\u001b[0m(1103)\u001b[0;36m_convert_to_indexer\u001b[1;34m()\u001b[0m\n",
      "\u001b[1;32m   1102 \u001b[1;33m                \u001b[1;32mif\u001b[0m \u001b[0mmask\u001b[0m\u001b[1;33m.\u001b[0m\u001b[0many\u001b[0m\u001b[1;33m(\u001b[0m\u001b[1;33m)\u001b[0m\u001b[1;33m:\u001b[0m\u001b[1;33m\u001b[0m\u001b[0m\n",
      "\u001b[0m\u001b[1;32m-> 1103 \u001b[1;33m                    \u001b[1;32mraise\u001b[0m \u001b[0mKeyError\u001b[0m\u001b[1;33m(\u001b[0m\u001b[1;34m'%s not in index'\u001b[0m \u001b[1;33m%\u001b[0m \u001b[0mobjarr\u001b[0m\u001b[1;33m[\u001b[0m\u001b[0mmask\u001b[0m\u001b[1;33m]\u001b[0m\u001b[1;33m)\u001b[0m\u001b[1;33m\u001b[0m\u001b[0m\n",
      "\u001b[0m\u001b[1;32m   1104 \u001b[1;33m\u001b[1;33m\u001b[0m\u001b[0m\n",
      "\u001b[0m\n",
      "ipdb> u\n",
      "> \u001b[1;32mc:\\anaconda\\lib\\site-packages\\pandas\\core\\frame.py\u001b[0m(1829)\u001b[0;36m_getitem_array\u001b[1;34m()\u001b[0m\n",
      "\u001b[1;32m   1828 \u001b[1;33m        \u001b[1;32melse\u001b[0m\u001b[1;33m:\u001b[0m\u001b[1;33m\u001b[0m\u001b[0m\n",
      "\u001b[0m\u001b[1;32m-> 1829 \u001b[1;33m            \u001b[0mindexer\u001b[0m \u001b[1;33m=\u001b[0m \u001b[0mself\u001b[0m\u001b[1;33m.\u001b[0m\u001b[0mix\u001b[0m\u001b[1;33m.\u001b[0m\u001b[0m_convert_to_indexer\u001b[0m\u001b[1;33m(\u001b[0m\u001b[0mkey\u001b[0m\u001b[1;33m,\u001b[0m \u001b[0maxis\u001b[0m\u001b[1;33m=\u001b[0m\u001b[1;36m1\u001b[0m\u001b[1;33m)\u001b[0m\u001b[1;33m\u001b[0m\u001b[0m\n",
      "\u001b[0m\u001b[1;32m   1830 \u001b[1;33m            \u001b[1;32mreturn\u001b[0m \u001b[0mself\u001b[0m\u001b[1;33m.\u001b[0m\u001b[0mtake\u001b[0m\u001b[1;33m(\u001b[0m\u001b[0mindexer\u001b[0m\u001b[1;33m,\u001b[0m \u001b[0maxis\u001b[0m\u001b[1;33m=\u001b[0m\u001b[1;36m1\u001b[0m\u001b[1;33m,\u001b[0m \u001b[0mconvert\u001b[0m\u001b[1;33m=\u001b[0m\u001b[0mTrue\u001b[0m\u001b[1;33m)\u001b[0m\u001b[1;33m\u001b[0m\u001b[0m\n",
      "\u001b[0m\n",
      "ipdb> u\n",
      "> \u001b[1;32mc:\\anaconda\\lib\\site-packages\\pandas\\core\\frame.py\u001b[0m(1785)\u001b[0;36m__getitem__\u001b[1;34m()\u001b[0m\n",
      "\u001b[1;32m   1784 \u001b[1;33m            \u001b[1;31m# either boolean or fancy integer index\u001b[0m\u001b[1;33m\u001b[0m\u001b[1;33m\u001b[0m\u001b[0m\n",
      "\u001b[0m\u001b[1;32m-> 1785 \u001b[1;33m            \u001b[1;32mreturn\u001b[0m \u001b[0mself\u001b[0m\u001b[1;33m.\u001b[0m\u001b[0m_getitem_array\u001b[0m\u001b[1;33m(\u001b[0m\u001b[0mkey\u001b[0m\u001b[1;33m)\u001b[0m\u001b[1;33m\u001b[0m\u001b[0m\n",
      "\u001b[0m\u001b[1;32m   1786 \u001b[1;33m        \u001b[1;32melif\u001b[0m \u001b[0misinstance\u001b[0m\u001b[1;33m(\u001b[0m\u001b[0mkey\u001b[0m\u001b[1;33m,\u001b[0m \u001b[0mDataFrame\u001b[0m\u001b[1;33m)\u001b[0m\u001b[1;33m:\u001b[0m\u001b[1;33m\u001b[0m\u001b[0m\n",
      "\u001b[0m\n",
      "ipdb> u\n",
      "> \u001b[1;32m<ipython-input-499-534b0f82d6cb>\u001b[0m(119)\u001b[0;36mmerge\u001b[1;34m()\u001b[0m\n",
      "\u001b[1;32m    118 \u001b[1;33m        \u001b[0mdf\u001b[0m \u001b[1;33m=\u001b[0m \u001b[0mdf_left\u001b[0m\u001b[1;33m.\u001b[0m\u001b[0mdrop\u001b[0m\u001b[1;33m(\u001b[0m\u001b[0mmerge_fields\u001b[0m\u001b[1;33m,\u001b[0m \u001b[0maxis\u001b[0m\u001b[1;33m=\u001b[0m\u001b[1;36m1\u001b[0m\u001b[1;33m,\u001b[0m \u001b[0merrors\u001b[0m\u001b[1;33m=\u001b[0m\u001b[1;34m'ignore'\u001b[0m\u001b[1;33m)\u001b[0m\u001b[1;33m\u001b[0m\u001b[0m\n",
      "\u001b[0m\u001b[1;32m--> 119 \u001b[1;33m        \u001b[1;32mreturn\u001b[0m \u001b[0mdf\u001b[0m\u001b[1;33m.\u001b[0m\u001b[0mmerge\u001b[0m\u001b[1;33m(\u001b[0m\u001b[0mdf_right\u001b[0m\u001b[1;33m[\u001b[0m\u001b[0mlist\u001b[0m\u001b[1;33m(\u001b[0m\u001b[0mkey\u001b[0m\u001b[1;33m)\u001b[0m \u001b[1;33m+\u001b[0m \u001b[0mmerge_fields\u001b[0m\u001b[1;33m]\u001b[0m\u001b[1;33m,\u001b[0m \u001b[0mon\u001b[0m\u001b[1;33m=\u001b[0m\u001b[0mkey\u001b[0m\u001b[1;33m,\u001b[0m \u001b[0mhow\u001b[0m\u001b[1;33m=\u001b[0m\u001b[0mhow\u001b[0m\u001b[1;33m)\u001b[0m\u001b[1;33m\u001b[0m\u001b[0m\n",
      "\u001b[0m\u001b[1;32m    120 \u001b[1;33m\u001b[1;33m\u001b[0m\u001b[0m\n",
      "\u001b[0m\n",
      "ipdb> key\n",
      "'fk_loan'\n",
      "ipdb> list(key)\n",
      "*** Error in argument: '(key)'\n",
      "ipdb> list(key)\n",
      "*** Error in argument: '(key)'\n",
      "ipdb> list(3)\n",
      "\u001b[0;32m      1 \u001b[0m\u001b[0mirr_df\u001b[0m \u001b[1;33m=\u001b[0m \u001b[0mpd\u001b[0m\u001b[1;33m.\u001b[0m\u001b[0mDataFrame\u001b[0m\u001b[1;33m(\u001b[0m\u001b[1;33m{\u001b[0m \u001b[1;34m'irr'\u001b[0m\u001b[1;33m:\u001b[0m \u001b[0mnp\u001b[0m\u001b[1;33m.\u001b[0m\u001b[0mnan\u001b[0m\u001b[1;33m}\u001b[0m\u001b[1;33m,\u001b[0m \u001b[0mindex\u001b[0m\u001b[1;33m=\u001b[0m\u001b[0mreporting_dates\u001b[0m\u001b[1;33m)\u001b[0m\u001b[1;33m\u001b[0m\u001b[0m\n",
      "\u001b[0;32m      2 \u001b[0m\u001b[1;31m# paidback loans are filtered out (including defaults!!!)\u001b[0m\u001b[1;33m\u001b[0m\u001b[1;33m\u001b[0m\u001b[0m\n",
      "\u001b[0;32m      3 \u001b[0m\u001b[1;33m\u001b[0m\u001b[0m\n",
      "\u001b[0;32m      4 \u001b[0m\u001b[1;31m# although we don't need to filter out loans <month old we do so to match actual return\u001b[0m\u001b[1;33m\u001b[0m\u001b[1;33m\u001b[0m\u001b[0m\n",
      "\u001b[0;32m      5 \u001b[0m\u001b[0mdfs\u001b[0m \u001b[1;33m=\u001b[0m \u001b[1;33m[\u001b[0m\u001b[1;33m]\u001b[0m\u001b[1;33m\u001b[0m\u001b[0m\n",
      "\u001b[0;32m      6 \u001b[0m\u001b[0mdfs_loan\u001b[0m \u001b[1;33m=\u001b[0m \u001b[1;33m[\u001b[0m\u001b[1;33m]\u001b[0m\u001b[1;33m\u001b[0m\u001b[0m\n",
      "\u001b[0;32m      7 \u001b[0m\u001b[0mselected_reporting_dates\u001b[0m\u001b[1;33m=\u001b[0m\u001b[0mreporting_dates\u001b[0m\u001b[1;33m[\u001b[0m\u001b[1;33m-\u001b[0m\u001b[1;36m1\u001b[0m\u001b[1;33m:\u001b[0m\u001b[1;33m]\u001b[0m\u001b[1;33m\u001b[0m\u001b[0m\n",
      "\u001b[0;32m      8 \u001b[0m\u001b[1;31m# need it in adding key in concatenating reports\u001b[0m\u001b[1;33m\u001b[0m\u001b[1;33m\u001b[0m\u001b[0m\n",
      "\u001b[0;32m      9 \u001b[0m\u001b[1;32mfor\u001b[0m \u001b[0mEOM_date\u001b[0m \u001b[1;32min\u001b[0m \u001b[0mselected_reporting_dates\u001b[0m\u001b[1;33m:\u001b[0m\u001b[1;33m\u001b[0m\u001b[0m\n",
      "\u001b[0;32m     10 \u001b[0m    \u001b[0mmax_payout_date\u001b[0m \u001b[1;33m=\u001b[0m \u001b[1;33m(\u001b[0m\u001b[0mEOM_date\u001b[0m \u001b[1;33m-\u001b[0m \u001b[0mminimum_vintage\u001b[0m\u001b[1;33m)\u001b[0m\u001b[1;33m.\u001b[0m\u001b[0mdate\u001b[0m\u001b[1;33m(\u001b[0m\u001b[1;33m)\u001b[0m\u001b[1;33m\u001b[0m\u001b[0m\n",
      "\u001b[0;32m     11 \u001b[0m\u001b[1;33m\u001b[0m\u001b[0m\n",
      "\n",
      "ipdb> q\n"
     ]
    }
   ],
   "source": [
    "%debug"
   ]
  },
  {
   "cell_type": "code",
   "execution_count": 494,
   "metadata": {
    "collapsed": false
   },
   "outputs": [
    {
     "data": {
      "text/plain": [
       "['r', 'b']"
      ]
     },
     "execution_count": 494,
     "metadata": {},
     "output_type": "execute_result"
    }
   ],
   "source": [
    "list(('r','b'))"
   ]
  },
  {
   "cell_type": "code",
   "execution_count": 501,
   "metadata": {
    "collapsed": false
   },
   "outputs": [
    {
     "data": {
      "text/plain": [
       "['f', 'k', '_', 'l', 'o', 'a', 'n']"
      ]
     },
     "execution_count": 501,
     "metadata": {},
     "output_type": "execute_result"
    }
   ],
   "source": [
    "list('fk_loan')"
   ]
  },
  {
   "cell_type": "code",
   "execution_count": 399,
   "metadata": {
    "collapsed": false
   },
   "outputs": [],
   "source": [
    "\n",
    "irr_df = pd.DataFrame({ 'irr': np.nan}, index=reporting_dates)\n",
    "# paidback loans are filtered out (including defaults!!!)\n",
    "\n",
    "dfs = []\n",
    "for EOM_date in reporting_dates[-2:-1]:\n",
    "    max_payout_date = (EOM_date - minimum_vintage).date()\n",
    "    loan_principals = \\\n",
    "        loan_fundings.loc[\n",
    "            (loan_fundings.payout_date <=\n",
    "                max_payout_date) &\n",
    "            ~(loan_fundings.fk_loan.isin(filtered_de_payments)),\n",
    "            cash_keys + [ 'payout_date_EOM',\n",
    "             'dcf', 'payment']]\n",
    "    # loan payments may have payments for loans that have been filterd out\n",
    "\n",
    "    act_filter = (act_pay.iso_date <= EOM_date.date()) & \\\n",
    "                 (act_pay.payout_date <= max_payout_date)\n",
    "    act_EOM_filter = act_filter & (act_pay.iso_date == EOM_date.date())\n",
    "    plan_filter = (plan_pay.payout_date <= max_payout_date)\n",
    "    loan_payments=act_pay.loc[act_filter,\n",
    "                    cash_keys + [ 'dcf', 'payment_amount_investor_month']]\\\n",
    "            .rename(columns={'payment_amount_investor_month': 'payment'})\n",
    "    interest_payments = act_pay.loc[act_EOM_filter,cash_keys +['interest_amount_investor_cum']]\n",
    "    interest_payments_exc0 = act_pay.loc[act_EOM_filter,cash_keys +['interest_amount_investor_cum_exc0']]\n",
    "    interest_payments_int0 = act_pay.loc[act_filter & (act_pay.interval==0),cash_keys + ['interest_amount_investor']]\n",
    "    initial_principal=act_pay.loc[act_filter ,cash_keys + ['interval','initial_principal_amount_investor']]\n",
    "    initial_principal_int0=initial_principal[initial_principal.interval==0].groupby(cash_keys)['initial_principal_amount_investor'].first().reset_index()\n",
    "    # what to do if no matching interval ( borrower never paid?)\n",
    "    residuals, recoveries = generate_residual_act_investor(\n",
    "                                act_pay[act_filter], loan_fundings,\n",
    "                                EOM_date.date(),\n",
    "                                payment_plans=plan_pay[plan_filter])\n",
    "    repaid_loans_cash = plan_repaid.loc[plan_repaid.payout_date <= max_payout_date,\n",
    "                                        cash_keys + ['interval_payback_date', 'dcf', 'payment_amount_investor']]\\\n",
    "                                   .rename(columns={'payment_amount_investor':'payment'})\n",
    "    payments_repaid = plan_repaid.loc[(plan_repaid.payout_date <= max_payout_date) & \n",
    "                                        (plan_repaid.interval>0) & \n",
    "                                        (plan_repaid.interval_payback_date <=EOM_date.date())\n",
    "                                               ,cash_keys +['interest_amount_investor', 'initial_principal_amount_investor']]\n",
    "    initial_principal_repaid=plan_repaid.loc[(plan_repaid.payout_date <= max_payout_date) & \n",
    "                                        (plan_repaid.interval>0) & \n",
    "                                        (plan_repaid.interval_payback_date <=EOM_date.date())\n",
    "                                             ,cash_keys + ['initial_principal_amount_investor']]\n",
    "    in_arrears=act_pay.loc[act_EOM_filter,cash_keys + \n",
    "                                      ['interest_amount_investor','residual_principal_amount_borrower','residual_principal_amount_investor']]\n",
    "    in_arrears['recovery'] = recovery(in_arrears['residual_principal_amount_borrower'])\n",
    "    in_arrears['recovery_principal'] = in_arrears['recovery'] * in_arrears['residual_principal_amount_investor']\n",
    "    in_arrears['lost_principal'] = -(1-in_arrears['recovery']) * in_arrears['residual_principal_amount_investor']\n",
    "    # irregular payments won't be handled correctly ( mupltiple init princ in 1 month)\n",
    "                                        \n",
    "    cash_list = [loan_principals,loan_payments, residuals, recoveries, repaid_loans_cash]\n",
    "    cash_list =[ zx for zx in cash_list if zx is not None]\n",
    "    nar_dict = {'interest_payments':('interest_amount_investor_cum',interest_payments), \n",
    "                'interest_payments_int0':('interest_amount_investor', interest_payments_int0),\n",
    "                'interest_payments_exc0':('interest_amount_investor_cum_exc0', interest_payments_exc0),\n",
    "                'initial_principal': ('initial_principal_amount_investor', initial_principal),\n",
    "                'initial_principal_int0': ('initial_principal_amount_investor', initial_principal_int0),\n",
    "                'payments_repaid': (['interest_amount_investor', 'initial_principal_amount_investor'], payments_repaid), \n",
    "                'in_arrears': (['recovery_principal','lost_principal', 'interest_amount_investor'], in_arrears)}\n",
    "                            \n",
    "    # deal with repaid\n",
    "    \n",
    "    gps_nar = {k:pd.DataFrame(cols_df[1].groupby('fk_loan')[cols_df[0]].sum()) for k, cols_df in nar_dict.iteritems() if cols_df[1] is not None}\n",
    "    # add in dataframe name to disambiguate\n",
    "                                   \n",
    "    nar_df = pd.concat(gps_nar, axis=1)\n",
    "    nar1 = nar_df.merge(actual_payments.loc[actual_payments.iso_date==EOM_date.date(),['fk_loan','in_arrears_since',\n",
    "                                    'in_arrears_since_days',u'in_arrears_since_days_30360','bucket','bucket_pd']],\n",
    "                                          left_index=True, right_on='fk_loan')\n",
    "    nar2 = nar1.merge(loans[['fk_loan','payback_state']],\n",
    "                                          on='fk_loan')\n",
    "    nar2['interest'] = nar2[[('interest_payments','interest_amount_investor_cum'),\n",
    "                                ('payments_repaid','interest_amount_investor')]].sum(axis=1)\n",
    "    nar2['interest'] -= nar2[('interest_payments_int0','interest_amount_investor')].fillna(0)\n",
    "    \n",
    "    nar2['default_loss'] = (nar2['bucket']>=120) * nar2[('in_arrears','lost_principal')] \n",
    "    nar2['note_status_adjustment'] = (nar2['bucket']<120) * \\\n",
    "                                     nar2['bucket_pd'] * \\\n",
    "                                     nar2[('in_arrears','lost_principal')]\n",
    "    nar2['principal'] = nar2[[('initial_principal','initial_principal_amount_investor'),\n",
    "                              ('payments_repaid', 'initial_principal_amount_investor')]].sum(axis=1)\n",
    "    nar2['principal']= nar2['principal']- nar2[[('initial_principal_int0', 'initial_principal_amount_investor')]].fillna(0).values.squeeze()\n",
    "    nar2['top']=nar2[['interest','default_loss']].sum(axis=1)\n",
    "    nar2['nar']=np.power(1+nar2['top']/nar2['principal'],12)-1\n",
    "    nar2['adj nar']=np.power(1+(nar2['top']+nar2['note_status_adjustment'])/nar2['principal'],12)-1\n",
    "    \n",
    "    gps_irr = [ zx.groupby(['fk_loan','dcf']).payment.sum()\n",
    "            .reset_index('dcf').groupby(level=0) for zx in cash_list]\n",
    "    \n",
    "    df = gps_irr[0].apply(\n",
    "            lambda x: xirr([x] +\n",
    "                           [z.get_group(x.index[0]) for z in gps_irr[1:]\n",
    "                               if x.index[0] in z.groups.keys()]))\n",
    "    dfs.append(df)\n",
    "    gps_overall=[zx.groupby(['dcf']).payment.sum().reset_index('dcf') \\\n",
    "                 for zx in cash_list]\n",
    "    irr_df.loc[EOM_date, 'irr'] = xirr(gps_overall)\n",
    "df_all = pd.concat(dfs, keys=reporting_dates)\n",
    "df_all.columns = ['irr']\n"
   ]
  },
  {
   "cell_type": "code",
   "execution_count": 296,
   "metadata": {
    "collapsed": true
   },
   "outputs": [],
   "source": [
    "def cnull(x): return x.isnull().sum()"
   ]
  },
  {
   "cell_type": "code",
   "execution_count": 240,
   "metadata": {
    "collapsed": false
   },
   "outputs": [
    {
     "data": {
      "text/html": [
       "<div style=\"max-height:1000px;max-width:1500px;overflow:auto;\">\n",
       "<table border=\"1\" class=\"dataframe\">\n",
       "  <thead>\n",
       "    <tr style=\"text-align: right;\">\n",
       "      <th></th>\n",
       "      <th>fk_loan</th>\n",
       "      <th>0</th>\n",
       "    </tr>\n",
       "  </thead>\n",
       "  <tbody>\n",
       "    <tr>\n",
       "      <th>10</th>\n",
       "      <td>15</td>\n",
       "      <td>0.045338</td>\n",
       "    </tr>\n",
       "    <tr>\n",
       "      <th>28</th>\n",
       "      <td>32</td>\n",
       "      <td>0.021651</td>\n",
       "    </tr>\n",
       "    <tr>\n",
       "      <th>42</th>\n",
       "      <td>49</td>\n",
       "      <td>0.076731</td>\n",
       "    </tr>\n",
       "    <tr>\n",
       "      <th>71</th>\n",
       "      <td>66</td>\n",
       "      <td>0.062074</td>\n",
       "    </tr>\n",
       "    <tr>\n",
       "      <th>74</th>\n",
       "      <td>83</td>\n",
       "      <td>0.050714</td>\n",
       "    </tr>\n",
       "  </tbody>\n",
       "</table>\n",
       "</div>"
      ],
      "text/plain": [
       "    fk_loan         0\n",
       "10       15  0.045338\n",
       "28       32  0.021651\n",
       "42       49  0.076731\n",
       "71       66  0.062074\n",
       "74       83  0.050714"
      ]
     },
     "execution_count": 240,
     "metadata": {},
     "output_type": "execute_result"
    }
   ],
   "source": [
    "df_loan2[['fk_loan',0]].head()"
   ]
  },
  {
   "cell_type": "code",
   "execution_count": 341,
   "metadata": {
    "collapsed": false
   },
   "outputs": [
    {
     "data": {
      "text/html": [
       "<div style=\"max-height:1000px;max-width:1500px;overflow:auto;\">\n",
       "<table border=\"1\" class=\"dataframe\">\n",
       "  <thead>\n",
       "    <tr style=\"text-align: right;\">\n",
       "      <th></th>\n",
       "      <th>dwh_country_id</th>\n",
       "      <th>fk_user_borrower</th>\n",
       "      <th>fk_loan</th>\n",
       "      <th>loan_nr</th>\n",
       "      <th>iso_date</th>\n",
       "      <th>interval</th>\n",
       "      <th>interval_payback_date</th>\n",
       "      <th>payment_amount</th>\n",
       "      <th>payment_amount_cum</th>\n",
       "      <th>principal_amount</th>\n",
       "      <th>...</th>\n",
       "      <th>actual_amount_cum</th>\n",
       "      <th>in_arrears_flag</th>\n",
       "      <th>in_arrears_since</th>\n",
       "      <th>in_arrears_since_days</th>\n",
       "      <th>dcf</th>\n",
       "      <th>payout_date</th>\n",
       "      <th>in_arrears_since_days_30360</th>\n",
       "      <th>bucket</th>\n",
       "      <th>bucket_pd</th>\n",
       "      <th>cum_diff</th>\n",
       "    </tr>\n",
       "  </thead>\n",
       "  <tbody>\n",
       "    <tr>\n",
       "      <th>293</th>\n",
       "      <td>1</td>\n",
       "      <td>1708</td>\n",
       "      <td>27</td>\n",
       "      <td>853043464</td>\n",
       "      <td>2014-02-28</td>\n",
       "      <td>0</td>\n",
       "      <td>2014-02-15</td>\n",
       "      <td>10.63</td>\n",
       "      <td>10.63</td>\n",
       "      <td>0.0000</td>\n",
       "      <td>...</td>\n",
       "      <td>11.05</td>\n",
       "      <td>0</td>\n",
       "      <td>None</td>\n",
       "      <td>NaN</td>\n",
       "      <td>1.087671</td>\n",
       "      <td>2014-01-20</td>\n",
       "      <td>NaN</td>\n",
       "      <td>NaN</td>\n",
       "      <td>NaN</td>\n",
       "      <td>-0.42</td>\n",
       "    </tr>\n",
       "    <tr>\n",
       "      <th>294</th>\n",
       "      <td>1</td>\n",
       "      <td>1708</td>\n",
       "      <td>27</td>\n",
       "      <td>853043464</td>\n",
       "      <td>2014-03-31</td>\n",
       "      <td>1</td>\n",
       "      <td>2014-03-15</td>\n",
       "      <td>215.04</td>\n",
       "      <td>225.67</td>\n",
       "      <td>202.2900</td>\n",
       "      <td>...</td>\n",
       "      <td>226.09</td>\n",
       "      <td>0</td>\n",
       "      <td>None</td>\n",
       "      <td>NaN</td>\n",
       "      <td>1.002740</td>\n",
       "      <td>2014-01-20</td>\n",
       "      <td>NaN</td>\n",
       "      <td>NaN</td>\n",
       "      <td>NaN</td>\n",
       "      <td>-0.42</td>\n",
       "    </tr>\n",
       "    <tr>\n",
       "      <th>295</th>\n",
       "      <td>1</td>\n",
       "      <td>1708</td>\n",
       "      <td>27</td>\n",
       "      <td>853043464</td>\n",
       "      <td>2014-04-30</td>\n",
       "      <td>2</td>\n",
       "      <td>2014-04-15</td>\n",
       "      <td>215.04</td>\n",
       "      <td>440.71</td>\n",
       "      <td>202.8058</td>\n",
       "      <td>...</td>\n",
       "      <td>441.13</td>\n",
       "      <td>0</td>\n",
       "      <td>None</td>\n",
       "      <td>NaN</td>\n",
       "      <td>0.920548</td>\n",
       "      <td>2014-01-20</td>\n",
       "      <td>NaN</td>\n",
       "      <td>NaN</td>\n",
       "      <td>NaN</td>\n",
       "      <td>-0.42</td>\n",
       "    </tr>\n",
       "    <tr>\n",
       "      <th>296</th>\n",
       "      <td>1</td>\n",
       "      <td>1708</td>\n",
       "      <td>27</td>\n",
       "      <td>853043464</td>\n",
       "      <td>2014-05-31</td>\n",
       "      <td>3</td>\n",
       "      <td>2014-05-15</td>\n",
       "      <td>215.04</td>\n",
       "      <td>655.75</td>\n",
       "      <td>203.3230</td>\n",
       "      <td>...</td>\n",
       "      <td>656.17</td>\n",
       "      <td>0</td>\n",
       "      <td>None</td>\n",
       "      <td>NaN</td>\n",
       "      <td>0.835616</td>\n",
       "      <td>2014-01-20</td>\n",
       "      <td>NaN</td>\n",
       "      <td>NaN</td>\n",
       "      <td>NaN</td>\n",
       "      <td>-0.42</td>\n",
       "    </tr>\n",
       "    <tr>\n",
       "      <th>297</th>\n",
       "      <td>1</td>\n",
       "      <td>1708</td>\n",
       "      <td>27</td>\n",
       "      <td>853043464</td>\n",
       "      <td>2014-06-30</td>\n",
       "      <td>4</td>\n",
       "      <td>2014-06-15</td>\n",
       "      <td>215.04</td>\n",
       "      <td>870.79</td>\n",
       "      <td>203.8415</td>\n",
       "      <td>...</td>\n",
       "      <td>871.21</td>\n",
       "      <td>0</td>\n",
       "      <td>None</td>\n",
       "      <td>NaN</td>\n",
       "      <td>0.753425</td>\n",
       "      <td>2014-01-20</td>\n",
       "      <td>NaN</td>\n",
       "      <td>NaN</td>\n",
       "      <td>NaN</td>\n",
       "      <td>-0.42</td>\n",
       "    </tr>\n",
       "    <tr>\n",
       "      <th>298</th>\n",
       "      <td>1</td>\n",
       "      <td>1708</td>\n",
       "      <td>27</td>\n",
       "      <td>853043464</td>\n",
       "      <td>2014-07-31</td>\n",
       "      <td>5</td>\n",
       "      <td>2014-07-15</td>\n",
       "      <td>215.04</td>\n",
       "      <td>1085.83</td>\n",
       "      <td>204.3613</td>\n",
       "      <td>...</td>\n",
       "      <td>1086.25</td>\n",
       "      <td>0</td>\n",
       "      <td>None</td>\n",
       "      <td>NaN</td>\n",
       "      <td>0.668493</td>\n",
       "      <td>2014-01-20</td>\n",
       "      <td>NaN</td>\n",
       "      <td>NaN</td>\n",
       "      <td>NaN</td>\n",
       "      <td>-0.42</td>\n",
       "    </tr>\n",
       "    <tr>\n",
       "      <th>299</th>\n",
       "      <td>1</td>\n",
       "      <td>1708</td>\n",
       "      <td>27</td>\n",
       "      <td>853043464</td>\n",
       "      <td>2014-08-31</td>\n",
       "      <td>6</td>\n",
       "      <td>2014-08-15</td>\n",
       "      <td>215.04</td>\n",
       "      <td>1300.87</td>\n",
       "      <td>204.8824</td>\n",
       "      <td>...</td>\n",
       "      <td>1301.29</td>\n",
       "      <td>0</td>\n",
       "      <td>None</td>\n",
       "      <td>NaN</td>\n",
       "      <td>0.583562</td>\n",
       "      <td>2014-01-20</td>\n",
       "      <td>NaN</td>\n",
       "      <td>NaN</td>\n",
       "      <td>NaN</td>\n",
       "      <td>-0.42</td>\n",
       "    </tr>\n",
       "    <tr>\n",
       "      <th>300</th>\n",
       "      <td>1</td>\n",
       "      <td>1708</td>\n",
       "      <td>27</td>\n",
       "      <td>853043464</td>\n",
       "      <td>2014-09-30</td>\n",
       "      <td>7</td>\n",
       "      <td>2014-09-15</td>\n",
       "      <td>215.04</td>\n",
       "      <td>1515.91</td>\n",
       "      <td>205.4048</td>\n",
       "      <td>...</td>\n",
       "      <td>1516.33</td>\n",
       "      <td>0</td>\n",
       "      <td>None</td>\n",
       "      <td>NaN</td>\n",
       "      <td>0.501370</td>\n",
       "      <td>2014-01-20</td>\n",
       "      <td>NaN</td>\n",
       "      <td>NaN</td>\n",
       "      <td>NaN</td>\n",
       "      <td>-0.42</td>\n",
       "    </tr>\n",
       "    <tr>\n",
       "      <th>301</th>\n",
       "      <td>1</td>\n",
       "      <td>1708</td>\n",
       "      <td>27</td>\n",
       "      <td>853043464</td>\n",
       "      <td>2014-10-31</td>\n",
       "      <td>8</td>\n",
       "      <td>2014-10-15</td>\n",
       "      <td>215.04</td>\n",
       "      <td>1730.95</td>\n",
       "      <td>205.9286</td>\n",
       "      <td>...</td>\n",
       "      <td>1731.37</td>\n",
       "      <td>0</td>\n",
       "      <td>None</td>\n",
       "      <td>NaN</td>\n",
       "      <td>0.416438</td>\n",
       "      <td>2014-01-20</td>\n",
       "      <td>NaN</td>\n",
       "      <td>NaN</td>\n",
       "      <td>NaN</td>\n",
       "      <td>-0.42</td>\n",
       "    </tr>\n",
       "    <tr>\n",
       "      <th>302</th>\n",
       "      <td>1</td>\n",
       "      <td>1708</td>\n",
       "      <td>27</td>\n",
       "      <td>853043464</td>\n",
       "      <td>2014-11-30</td>\n",
       "      <td>8</td>\n",
       "      <td>2014-10-15</td>\n",
       "      <td>215.04</td>\n",
       "      <td>1730.95</td>\n",
       "      <td>205.9286</td>\n",
       "      <td>...</td>\n",
       "      <td>1731.37</td>\n",
       "      <td>1</td>\n",
       "      <td>2014-11-15</td>\n",
       "      <td>15</td>\n",
       "      <td>0.334247</td>\n",
       "      <td>2014-01-20</td>\n",
       "      <td>15</td>\n",
       "      <td>30</td>\n",
       "      <td>0.164</td>\n",
       "      <td>214.62</td>\n",
       "    </tr>\n",
       "    <tr>\n",
       "      <th>303</th>\n",
       "      <td>1</td>\n",
       "      <td>1708</td>\n",
       "      <td>27</td>\n",
       "      <td>853043464</td>\n",
       "      <td>2014-12-31</td>\n",
       "      <td>8</td>\n",
       "      <td>2014-10-15</td>\n",
       "      <td>215.04</td>\n",
       "      <td>1730.95</td>\n",
       "      <td>205.9286</td>\n",
       "      <td>...</td>\n",
       "      <td>1731.37</td>\n",
       "      <td>1</td>\n",
       "      <td>2014-11-15</td>\n",
       "      <td>46</td>\n",
       "      <td>0.249315</td>\n",
       "      <td>2014-01-20</td>\n",
       "      <td>46</td>\n",
       "      <td>60</td>\n",
       "      <td>0.384</td>\n",
       "      <td>429.66</td>\n",
       "    </tr>\n",
       "    <tr>\n",
       "      <th>304</th>\n",
       "      <td>1</td>\n",
       "      <td>1708</td>\n",
       "      <td>27</td>\n",
       "      <td>853043464</td>\n",
       "      <td>2015-01-31</td>\n",
       "      <td>8</td>\n",
       "      <td>2014-10-15</td>\n",
       "      <td>215.04</td>\n",
       "      <td>1730.95</td>\n",
       "      <td>205.9286</td>\n",
       "      <td>...</td>\n",
       "      <td>1731.37</td>\n",
       "      <td>1</td>\n",
       "      <td>2014-11-15</td>\n",
       "      <td>77</td>\n",
       "      <td>0.164384</td>\n",
       "      <td>2014-01-20</td>\n",
       "      <td>76</td>\n",
       "      <td>90</td>\n",
       "      <td>0.550</td>\n",
       "      <td>644.70</td>\n",
       "    </tr>\n",
       "    <tr>\n",
       "      <th>305</th>\n",
       "      <td>1</td>\n",
       "      <td>1708</td>\n",
       "      <td>27</td>\n",
       "      <td>853043464</td>\n",
       "      <td>2015-02-28</td>\n",
       "      <td>8</td>\n",
       "      <td>2014-10-15</td>\n",
       "      <td>215.04</td>\n",
       "      <td>1730.95</td>\n",
       "      <td>205.9286</td>\n",
       "      <td>...</td>\n",
       "      <td>1731.37</td>\n",
       "      <td>1</td>\n",
       "      <td>2014-11-15</td>\n",
       "      <td>105</td>\n",
       "      <td>0.087671</td>\n",
       "      <td>2014-01-20</td>\n",
       "      <td>103</td>\n",
       "      <td>120</td>\n",
       "      <td>1.000</td>\n",
       "      <td>859.74</td>\n",
       "    </tr>\n",
       "    <tr>\n",
       "      <th>306</th>\n",
       "      <td>1</td>\n",
       "      <td>1708</td>\n",
       "      <td>27</td>\n",
       "      <td>853043464</td>\n",
       "      <td>2015-03-31</td>\n",
       "      <td>8</td>\n",
       "      <td>2014-10-15</td>\n",
       "      <td>215.04</td>\n",
       "      <td>1730.95</td>\n",
       "      <td>205.9286</td>\n",
       "      <td>...</td>\n",
       "      <td>1731.37</td>\n",
       "      <td>1</td>\n",
       "      <td>2014-11-15</td>\n",
       "      <td>136</td>\n",
       "      <td>0.002740</td>\n",
       "      <td>2014-01-20</td>\n",
       "      <td>136</td>\n",
       "      <td>150</td>\n",
       "      <td>1.000</td>\n",
       "      <td>3404.40</td>\n",
       "    </tr>\n",
       "    <tr>\n",
       "      <th>307</th>\n",
       "      <td>1</td>\n",
       "      <td>1708</td>\n",
       "      <td>27</td>\n",
       "      <td>853043464</td>\n",
       "      <td>2015-04-30</td>\n",
       "      <td>8</td>\n",
       "      <td>2014-10-15</td>\n",
       "      <td>215.04</td>\n",
       "      <td>1730.95</td>\n",
       "      <td>205.9286</td>\n",
       "      <td>...</td>\n",
       "      <td>1731.37</td>\n",
       "      <td>1</td>\n",
       "      <td>2014-11-15</td>\n",
       "      <td>166</td>\n",
       "      <td>-0.079452</td>\n",
       "      <td>2014-01-20</td>\n",
       "      <td>165</td>\n",
       "      <td>180</td>\n",
       "      <td>1.000</td>\n",
       "      <td>3404.40</td>\n",
       "    </tr>\n",
       "    <tr>\n",
       "      <th>308</th>\n",
       "      <td>1</td>\n",
       "      <td>1708</td>\n",
       "      <td>27</td>\n",
       "      <td>853043464</td>\n",
       "      <td>2015-05-31</td>\n",
       "      <td>8</td>\n",
       "      <td>2014-10-15</td>\n",
       "      <td>215.04</td>\n",
       "      <td>1730.95</td>\n",
       "      <td>205.9286</td>\n",
       "      <td>...</td>\n",
       "      <td>1731.37</td>\n",
       "      <td>1</td>\n",
       "      <td>2014-11-15</td>\n",
       "      <td>197</td>\n",
       "      <td>-0.164384</td>\n",
       "      <td>2014-01-20</td>\n",
       "      <td>196</td>\n",
       "      <td>210</td>\n",
       "      <td>1.000</td>\n",
       "      <td>3404.40</td>\n",
       "    </tr>\n",
       "  </tbody>\n",
       "</table>\n",
       "<p>16 rows × 31 columns</p>\n",
       "</div>"
      ],
      "text/plain": [
       "     dwh_country_id  fk_user_borrower  fk_loan    loan_nr    iso_date  \\\n",
       "293               1              1708       27  853043464  2014-02-28   \n",
       "294               1              1708       27  853043464  2014-03-31   \n",
       "295               1              1708       27  853043464  2014-04-30   \n",
       "296               1              1708       27  853043464  2014-05-31   \n",
       "297               1              1708       27  853043464  2014-06-30   \n",
       "298               1              1708       27  853043464  2014-07-31   \n",
       "299               1              1708       27  853043464  2014-08-31   \n",
       "300               1              1708       27  853043464  2014-09-30   \n",
       "301               1              1708       27  853043464  2014-10-31   \n",
       "302               1              1708       27  853043464  2014-11-30   \n",
       "303               1              1708       27  853043464  2014-12-31   \n",
       "304               1              1708       27  853043464  2015-01-31   \n",
       "305               1              1708       27  853043464  2015-02-28   \n",
       "306               1              1708       27  853043464  2015-03-31   \n",
       "307               1              1708       27  853043464  2015-04-30   \n",
       "308               1              1708       27  853043464  2015-05-31   \n",
       "\n",
       "     interval interval_payback_date  payment_amount  payment_amount_cum  \\\n",
       "293         0            2014-02-15           10.63               10.63   \n",
       "294         1            2014-03-15          215.04              225.67   \n",
       "295         2            2014-04-15          215.04              440.71   \n",
       "296         3            2014-05-15          215.04              655.75   \n",
       "297         4            2014-06-15          215.04              870.79   \n",
       "298         5            2014-07-15          215.04             1085.83   \n",
       "299         6            2014-08-15          215.04             1300.87   \n",
       "300         7            2014-09-15          215.04             1515.91   \n",
       "301         8            2014-10-15          215.04             1730.95   \n",
       "302         8            2014-10-15          215.04             1730.95   \n",
       "303         8            2014-10-15          215.04             1730.95   \n",
       "304         8            2014-10-15          215.04             1730.95   \n",
       "305         8            2014-10-15          215.04             1730.95   \n",
       "306         8            2014-10-15          215.04             1730.95   \n",
       "307         8            2014-10-15          215.04             1730.95   \n",
       "308         8            2014-10-15          215.04             1730.95   \n",
       "\n",
       "     principal_amount    ...     actual_amount_cum  in_arrears_flag  \\\n",
       "293            0.0000    ...                 11.05                0   \n",
       "294          202.2900    ...                226.09                0   \n",
       "295          202.8058    ...                441.13                0   \n",
       "296          203.3230    ...                656.17                0   \n",
       "297          203.8415    ...                871.21                0   \n",
       "298          204.3613    ...               1086.25                0   \n",
       "299          204.8824    ...               1301.29                0   \n",
       "300          205.4048    ...               1516.33                0   \n",
       "301          205.9286    ...               1731.37                0   \n",
       "302          205.9286    ...               1731.37                1   \n",
       "303          205.9286    ...               1731.37                1   \n",
       "304          205.9286    ...               1731.37                1   \n",
       "305          205.9286    ...               1731.37                1   \n",
       "306          205.9286    ...               1731.37                1   \n",
       "307          205.9286    ...               1731.37                1   \n",
       "308          205.9286    ...               1731.37                1   \n",
       "\n",
       "     in_arrears_since  in_arrears_since_days       dcf  payout_date  \\\n",
       "293              None                    NaN  1.087671   2014-01-20   \n",
       "294              None                    NaN  1.002740   2014-01-20   \n",
       "295              None                    NaN  0.920548   2014-01-20   \n",
       "296              None                    NaN  0.835616   2014-01-20   \n",
       "297              None                    NaN  0.753425   2014-01-20   \n",
       "298              None                    NaN  0.668493   2014-01-20   \n",
       "299              None                    NaN  0.583562   2014-01-20   \n",
       "300              None                    NaN  0.501370   2014-01-20   \n",
       "301              None                    NaN  0.416438   2014-01-20   \n",
       "302        2014-11-15                     15  0.334247   2014-01-20   \n",
       "303        2014-11-15                     46  0.249315   2014-01-20   \n",
       "304        2014-11-15                     77  0.164384   2014-01-20   \n",
       "305        2014-11-15                    105  0.087671   2014-01-20   \n",
       "306        2014-11-15                    136  0.002740   2014-01-20   \n",
       "307        2014-11-15                    166 -0.079452   2014-01-20   \n",
       "308        2014-11-15                    197 -0.164384   2014-01-20   \n",
       "\n",
       "     in_arrears_since_days_30360  bucket  bucket_pd  cum_diff  \n",
       "293                          NaN     NaN        NaN     -0.42  \n",
       "294                          NaN     NaN        NaN     -0.42  \n",
       "295                          NaN     NaN        NaN     -0.42  \n",
       "296                          NaN     NaN        NaN     -0.42  \n",
       "297                          NaN     NaN        NaN     -0.42  \n",
       "298                          NaN     NaN        NaN     -0.42  \n",
       "299                          NaN     NaN        NaN     -0.42  \n",
       "300                          NaN     NaN        NaN     -0.42  \n",
       "301                          NaN     NaN        NaN     -0.42  \n",
       "302                           15      30      0.164    214.62  \n",
       "303                           46      60      0.384    429.66  \n",
       "304                           76      90      0.550    644.70  \n",
       "305                          103     120      1.000    859.74  \n",
       "306                          136     150      1.000   3404.40  \n",
       "307                          165     180      1.000   3404.40  \n",
       "308                          196     210      1.000   3404.40  \n",
       "\n",
       "[16 rows x 31 columns]"
      ]
     },
     "execution_count": 341,
     "metadata": {},
     "output_type": "execute_result"
    }
   ],
   "source": [
    "actual_payments[actual_payments.fk_loan==27]"
   ]
  },
  {
   "cell_type": "code",
   "execution_count": 401,
   "metadata": {
    "collapsed": false
   },
   "outputs": [],
   "source": [
    "nar3=nar2.merge(df_loan2[['fk_loan',0]].rename(columns={0:'irr'}),on='fk_loan')"
   ]
  },
  {
   "cell_type": "code",
   "execution_count": 402,
   "metadata": {
    "collapsed": false
   },
   "outputs": [],
   "source": [
    "nar4=nar3.merge(avg_yield[['avg_investment_apr']],left_on='fk_loan',right_index=True)"
   ]
  },
  {
   "cell_type": "code",
   "execution_count": 400,
   "metadata": {
    "collapsed": false
   },
   "outputs": [],
   "source": [
    "z=loan_fundings[['fk_loan','amount','investment_yield']].copy()\n",
    "z['amount_yield']=z['amount']*z['investment_yield']\n",
    "                \n",
    "                \n",
    "avg_yield=z.groupby('fk_loan').sum()\n",
    "avg_yield['avg_investment_yield']=avg_yield['amount_yield']/avg_yield['amount']\n",
    "avg_yield['avg_investment_apr']=np.power(1+avg_yield['avg_investment_yield']/1200,12)-1"
   ]
  },
  {
   "cell_type": "code",
   "execution_count": 444,
   "metadata": {
    "collapsed": false
   },
   "outputs": [],
   "source": [
    "nar5=nar4.merge(loans[['fk_loan','rating_base','rating_switch']],on='fk_loan')"
   ]
  },
  {
   "cell_type": "code",
   "execution_count": 445,
   "metadata": {
    "collapsed": false
   },
   "outputs": [],
   "source": [
    "nar5.to_clipboard()"
   ]
  },
  {
   "cell_type": "markdown",
   "metadata": {},
   "source": [
    "# Expected Return\n"
   ]
  },
  {
   "cell_type": "code",
   "execution_count": 367,
   "metadata": {
    "collapsed": false
   },
   "outputs": [
    {
     "data": {
      "text/plain": [
       "0"
      ]
     },
     "execution_count": 367,
     "metadata": {},
     "output_type": "execute_result"
    }
   ],
   "source": [
    "(act_pay.fk_loan==36).sum()"
   ]
  },
  {
   "cell_type": "code",
   "execution_count": 422,
   "metadata": {
    "collapsed": false
   },
   "outputs": [
    {
     "ename": "AssertionError",
     "evalue": "Cannot concat indices that do not have the same number of levels",
     "output_type": "error",
     "traceback": [
      "\u001b[1;31m---------------------------------------------------------------------------\u001b[0m",
      "\u001b[1;31mAssertionError\u001b[0m                            Traceback (most recent call last)",
      "\u001b[1;32m<ipython-input-422-712cc3bb758e>\u001b[0m in \u001b[0;36m<module>\u001b[1;34m()\u001b[0m\n\u001b[0;32m     63\u001b[0m                     if zx is not None]\n\u001b[0;32m     64\u001b[0m     \u001b[0mirr_df\u001b[0m\u001b[1;33m.\u001b[0m\u001b[0mloc\u001b[0m\u001b[1;33m[\u001b[0m\u001b[0mEOM_date\u001b[0m\u001b[1;33m,\u001b[0m \u001b[1;34m'irr'\u001b[0m\u001b[1;33m]\u001b[0m \u001b[1;33m=\u001b[0m \u001b[0mxirr\u001b[0m\u001b[1;33m(\u001b[0m\u001b[0mgps_overall\u001b[0m\u001b[1;33m)\u001b[0m\u001b[1;33m\u001b[0m\u001b[0m\n\u001b[1;32m---> 65\u001b[1;33m \u001b[0mdf_all\u001b[0m \u001b[1;33m=\u001b[0m \u001b[0mpd\u001b[0m\u001b[1;33m.\u001b[0m\u001b[0mconcat\u001b[0m\u001b[1;33m(\u001b[0m\u001b[0mdfs\u001b[0m\u001b[1;33m,\u001b[0m \u001b[0mkeys\u001b[0m\u001b[1;33m=\u001b[0m\u001b[0mselected_reporting_dates\u001b[0m\u001b[1;33m)\u001b[0m\u001b[1;33m\u001b[0m\u001b[0m\n\u001b[0m\u001b[0;32m     66\u001b[0m \u001b[0mdf_all_loans\u001b[0m \u001b[1;33m=\u001b[0m \u001b[0mpd\u001b[0m\u001b[1;33m.\u001b[0m\u001b[0mconcat\u001b[0m\u001b[1;33m(\u001b[0m\u001b[0mdfs_loan\u001b[0m\u001b[1;33m,\u001b[0m \u001b[0mkeys\u001b[0m\u001b[1;33m=\u001b[0m\u001b[0mselected_reporting_dates\u001b[0m\u001b[1;33m)\u001b[0m\u001b[1;33m\u001b[0m\u001b[0m\n\u001b[0;32m     67\u001b[0m \u001b[0mdf_all\u001b[0m\u001b[1;33m.\u001b[0m\u001b[0mname\u001b[0m \u001b[1;33m=\u001b[0m \u001b[1;34m'irr'\u001b[0m\u001b[1;33m\u001b[0m\u001b[0m\n",
      "\u001b[1;32mC:\\Anaconda\\lib\\site-packages\\pandas\\tools\\merge.pyc\u001b[0m in \u001b[0;36mconcat\u001b[1;34m(objs, axis, join, join_axes, ignore_index, keys, levels, names, verify_integrity, copy)\u001b[0m\n\u001b[0;32m    752\u001b[0m                        \u001b[0mkeys\u001b[0m\u001b[1;33m=\u001b[0m\u001b[0mkeys\u001b[0m\u001b[1;33m,\u001b[0m \u001b[0mlevels\u001b[0m\u001b[1;33m=\u001b[0m\u001b[0mlevels\u001b[0m\u001b[1;33m,\u001b[0m \u001b[0mnames\u001b[0m\u001b[1;33m=\u001b[0m\u001b[0mnames\u001b[0m\u001b[1;33m,\u001b[0m\u001b[1;33m\u001b[0m\u001b[0m\n\u001b[0;32m    753\u001b[0m                        \u001b[0mverify_integrity\u001b[0m\u001b[1;33m=\u001b[0m\u001b[0mverify_integrity\u001b[0m\u001b[1;33m,\u001b[0m\u001b[1;33m\u001b[0m\u001b[0m\n\u001b[1;32m--> 754\u001b[1;33m                        copy=copy)\n\u001b[0m\u001b[0;32m    755\u001b[0m     \u001b[1;32mreturn\u001b[0m \u001b[0mop\u001b[0m\u001b[1;33m.\u001b[0m\u001b[0mget_result\u001b[0m\u001b[1;33m(\u001b[0m\u001b[1;33m)\u001b[0m\u001b[1;33m\u001b[0m\u001b[0m\n\u001b[0;32m    756\u001b[0m \u001b[1;33m\u001b[0m\u001b[0m\n",
      "\u001b[1;32mC:\\Anaconda\\lib\\site-packages\\pandas\\tools\\merge.pyc\u001b[0m in \u001b[0;36m__init__\u001b[1;34m(self, objs, axis, join, join_axes, keys, levels, names, ignore_index, verify_integrity, copy)\u001b[0m\n\u001b[0;32m    884\u001b[0m         \u001b[0mself\u001b[0m\u001b[1;33m.\u001b[0m\u001b[0mcopy\u001b[0m \u001b[1;33m=\u001b[0m \u001b[0mcopy\u001b[0m\u001b[1;33m\u001b[0m\u001b[0m\n\u001b[0;32m    885\u001b[0m \u001b[1;33m\u001b[0m\u001b[0m\n\u001b[1;32m--> 886\u001b[1;33m         \u001b[0mself\u001b[0m\u001b[1;33m.\u001b[0m\u001b[0mnew_axes\u001b[0m \u001b[1;33m=\u001b[0m \u001b[0mself\u001b[0m\u001b[1;33m.\u001b[0m\u001b[0m_get_new_axes\u001b[0m\u001b[1;33m(\u001b[0m\u001b[1;33m)\u001b[0m\u001b[1;33m\u001b[0m\u001b[0m\n\u001b[0m\u001b[0;32m    887\u001b[0m \u001b[1;33m\u001b[0m\u001b[0m\n\u001b[0;32m    888\u001b[0m     \u001b[1;32mdef\u001b[0m \u001b[0mget_result\u001b[0m\u001b[1;33m(\u001b[0m\u001b[0mself\u001b[0m\u001b[1;33m)\u001b[0m\u001b[1;33m:\u001b[0m\u001b[1;33m\u001b[0m\u001b[0m\n",
      "\u001b[1;32mC:\\Anaconda\\lib\\site-packages\\pandas\\tools\\merge.pyc\u001b[0m in \u001b[0;36m_get_new_axes\u001b[1;34m(self)\u001b[0m\n\u001b[0;32m    957\u001b[0m                 \u001b[0mnew_axes\u001b[0m\u001b[1;33m[\u001b[0m\u001b[0mi\u001b[0m\u001b[1;33m]\u001b[0m \u001b[1;33m=\u001b[0m \u001b[0max\u001b[0m\u001b[1;33m\u001b[0m\u001b[0m\n\u001b[0;32m    958\u001b[0m \u001b[1;33m\u001b[0m\u001b[0m\n\u001b[1;32m--> 959\u001b[1;33m         \u001b[0mnew_axes\u001b[0m\u001b[1;33m[\u001b[0m\u001b[0mself\u001b[0m\u001b[1;33m.\u001b[0m\u001b[0maxis\u001b[0m\u001b[1;33m]\u001b[0m \u001b[1;33m=\u001b[0m \u001b[0mself\u001b[0m\u001b[1;33m.\u001b[0m\u001b[0m_get_concat_axis\u001b[0m\u001b[1;33m(\u001b[0m\u001b[1;33m)\u001b[0m\u001b[1;33m\u001b[0m\u001b[0m\n\u001b[0m\u001b[0;32m    960\u001b[0m         \u001b[1;32mreturn\u001b[0m \u001b[0mnew_axes\u001b[0m\u001b[1;33m\u001b[0m\u001b[0m\n\u001b[0;32m    961\u001b[0m \u001b[1;33m\u001b[0m\u001b[0m\n",
      "\u001b[1;32mC:\\Anaconda\\lib\\site-packages\\pandas\\tools\\merge.pyc\u001b[0m in \u001b[0;36m_get_concat_axis\u001b[1;34m(self)\u001b[0m\n\u001b[0;32m   1012\u001b[0m         \u001b[1;32melse\u001b[0m\u001b[1;33m:\u001b[0m\u001b[1;33m\u001b[0m\u001b[0m\n\u001b[0;32m   1013\u001b[0m             concat_axis = _make_concat_multiindex(indexes, self.keys,\n\u001b[1;32m-> 1014\u001b[1;33m                                                   self.levels, self.names)\n\u001b[0m\u001b[0;32m   1015\u001b[0m \u001b[1;33m\u001b[0m\u001b[0m\n\u001b[0;32m   1016\u001b[0m         \u001b[0mself\u001b[0m\u001b[1;33m.\u001b[0m\u001b[0m_maybe_check_integrity\u001b[0m\u001b[1;33m(\u001b[0m\u001b[0mconcat_axis\u001b[0m\u001b[1;33m)\u001b[0m\u001b[1;33m\u001b[0m\u001b[0m\n",
      "\u001b[1;32mC:\\Anaconda\\lib\\site-packages\\pandas\\tools\\merge.pyc\u001b[0m in \u001b[0;36m_make_concat_multiindex\u001b[1;34m(indexes, keys, levels, names)\u001b[0m\n\u001b[0;32m   1085\u001b[0m             \u001b[1;31m# make sure that all of the passed indices have the same nlevels\u001b[0m\u001b[1;33m\u001b[0m\u001b[1;33m\u001b[0m\u001b[0m\n\u001b[0;32m   1086\u001b[0m             \u001b[1;32mif\u001b[0m \u001b[1;32mnot\u001b[0m \u001b[0mlen\u001b[0m\u001b[1;33m(\u001b[0m\u001b[0mset\u001b[0m\u001b[1;33m(\u001b[0m\u001b[1;33m[\u001b[0m \u001b[0mi\u001b[0m\u001b[1;33m.\u001b[0m\u001b[0mnlevels\u001b[0m \u001b[1;32mfor\u001b[0m \u001b[0mi\u001b[0m \u001b[1;32min\u001b[0m \u001b[0mindexes\u001b[0m \u001b[1;33m]\u001b[0m\u001b[1;33m)\u001b[0m\u001b[1;33m)\u001b[0m \u001b[1;33m==\u001b[0m \u001b[1;36m1\u001b[0m\u001b[1;33m:\u001b[0m\u001b[1;33m\u001b[0m\u001b[0m\n\u001b[1;32m-> 1087\u001b[1;33m                 raise AssertionError(\"Cannot concat indices that do\"\n\u001b[0m\u001b[0;32m   1088\u001b[0m                                      \" not have the same number of levels\")\n\u001b[0;32m   1089\u001b[0m \u001b[1;33m\u001b[0m\u001b[0m\n",
      "\u001b[1;31mAssertionError\u001b[0m: Cannot concat indices that do not have the same number of levels"
     ]
    }
   ],
   "source": [
    "irr_df = pd.DataFrame({ 'irr': np.nan}, index=reporting_dates)\n",
    "# although we don't need to filter out loans <month old we do so to match actual return\n",
    "dfs = []\n",
    "dfs_loan = []\n",
    "selected_reporting_dates=reporting_dates\n",
    "# need it in adding key in concatenating reports\n",
    "for EOM_date in selected_reporting_dates:\n",
    "    max_payout_date = (EOM_date - minimum_vintage).date()\n",
    "    loan_principals = \\\n",
    "        loan_fundings.loc[\n",
    "            (loan_fundings.payout_date <= max_payout_date) &\n",
    "            ~(loan_fundings.fk_loan.isin(filtered_de_payments)),\n",
    "            cash_keys + [ 'payout_date_EOM', 'dcf', 'payment']]\n",
    "    # loan payments may have payments for loans that have been filterd out\n",
    "\n",
    "    act_filter = (act_pay.iso_date <= EOM_date.date()) & \\\n",
    "                 (act_pay.payout_date <= max_payout_date)\n",
    "    act_EOM_filter = act_filter & (act_pay.iso_date == EOM_date.date())\n",
    "                 \n",
    "    plan_filter = (plan_pay.payout_date <= max_payout_date)\n",
    "    loan_payments=act_pay.loc[act_filter,\n",
    "                              cash_keys +  ['dcf', 'payment_amount_investor_month']]\\\n",
    "            .rename(columns={'payment_amount_investor_month': 'payment'})\n",
    "    latest_paid_interval_investor = \\\n",
    "        act_pay.loc[act_filter, ['iso_date','fk_loan','fk_user_investor','interval']]\\\n",
    "        .sort('iso_date', inplace=False)\\\n",
    "        .groupby(['fk_loan','fk_user_investor']).interval.last()\n",
    "    latest_paid_interval_investor.name='latest_paid_interval'\n",
    "    if plan_pay[plan_filter].shape[0]>0:\n",
    "        future_cashflows = make_future_pd(plan_pay[plan_filter], act_pay[act_EOM_filter],loans,\n",
    "                        arrears_dict, True,EOM_date.date(),latest_paid_interval_investor)\n",
    "        expected_cashflows = future_cashflows[cash_keys + ['dcf', 'e_tot']].copy()\n",
    "        expected_cashflows = expected_cashflows.rename(columns={'e_tot': 'payment'})\n",
    "    else:\n",
    "        expected_cashflows=None\n",
    "    # what about repaid loans?\n",
    "    repaid_loans_cash = plan_repaid.loc[plan_repaid.payout_date <= max_payout_date,\n",
    "                                        cash_keys + ['interval_payback_date', 'dcf', 'payment_amount_investor']]\\\n",
    "                        .rename(columns={'payment_amount_investor':'payment'})\n",
    "    cash_list = [ zx for zx in [loan_principals,loan_payments, expected_cashflows, repaid_loans_cash] if zx is not None ]\n",
    "    merge_fields = ['rating_base', 'rating_switch']\n",
    "    for i in range(len(cash_list)):\n",
    "        cash_list[i].drop(merge_fields, axis=1, inplace=True, errors='ignore')    \n",
    "        cash_list[i] = cash_list[i].merge(loans[['fk_loan'] + merge_fields], on='fk_loan')\n",
    "    \n",
    "    gps = [ zx.groupby(['rating_base','rating_switch','dcf']).payment.sum()\n",
    "            .reset_index('dcf').groupby(level=[0,1]) for zx in cash_list]\n",
    "    gps_loan = [ zx.groupby(['fk_loan','dcf']).payment.sum()\n",
    "            .reset_index('dcf').groupby(level=0) for zx in cash_list]\n",
    "                \n",
    "    df = gps[0].apply(\n",
    "            lambda x: xirr([x] +\n",
    "                           [z.get_group(x.index[0]) for z in gps[1:]\n",
    "                               if x.index[0] in z.groups.keys()]))\n",
    "    df_loan = gps_loan[0].apply(\n",
    "            lambda x: xirr([x] +\n",
    "                           [z.get_group(x.index[0]) for z in gps_loan[1:]\n",
    "                               if x.index[0] in z.groups.keys()]))\n",
    "    df_loan1 = pd.DataFrame(df_loan).merge(actual_payments.loc[actual_payments.iso_date==EOM_date.date(),['fk_loan','in_arrears_since',\n",
    "                                    'in_arrears_since_days',u'in_arrears_since_days_30360','bucket','bucket_pd']],\n",
    "                                          left_index=True, right_on='fk_loan')\n",
    "    df_loan2 = df_loan1.merge(loans[['fk_loan','rating_base','rating_switch','payback_state']],\n",
    "                                          on='fk_loan')\n",
    "    df_loan2.set_index('fk_loan',inplace=True) \n",
    "    dfs.append(df)\n",
    "    dfs_loan.append(df_loan2)\n",
    "    gps_overall=[zx.groupby(['dcf']).payment.sum().reset_index('dcf') \\\n",
    "                 for zx in [loan_principals, loan_payments, expected_cashflows, repaid_loans_cash]\n",
    "                    if zx is not None]\n",
    "    irr_df.loc[EOM_date, 'irr'] = xirr(gps_overall)\n",
    "# concat doesn't work with empty series?\n",
    "df_all = pd.concat(dfs, keys=selected_reporting_dates)\n",
    "# have 0 dataframe\n",
    "df_all_loans = pd.concat(dfs_loan, keys=selected_reporting_dates)\n",
    "df_all.name = 'irr'\n",
    "df_all_loans.rename(columns={0:'irr'},inplace=True)\n"
   ]
  },
  {
   "cell_type": "code",
   "execution_count": 437,
   "metadata": {
    "collapsed": false
   },
   "outputs": [
    {
     "data": {
      "text/plain": [
       "[(0, 0),\n",
       " (0, 0),\n",
       " (1L,),\n",
       " (5L,),\n",
       " (5L,),\n",
       " (5L,),\n",
       " (5L,),\n",
       " (5L,),\n",
       " (5L,),\n",
       " (10L,),\n",
       " (10L,),\n",
       " (10L,),\n",
       " (15L,),\n",
       " (15L,),\n",
       " (15L,),\n",
       " (15L,),\n",
       " (15L,)]"
      ]
     },
     "execution_count": 437,
     "metadata": {},
     "output_type": "execute_result"
    }
   ],
   "source": [
    "map(lambda x: x.shape,dfs)"
   ]
  },
  {
   "cell_type": "code",
   "execution_count": 443,
   "metadata": {
    "collapsed": false
   },
   "outputs": [
    {
     "data": {
      "text/plain": [
       "{30: 0.164,\n",
       " 60: 0.384,\n",
       " 90: 0.55,\n",
       " 120: 1,\n",
       " 150: 1,\n",
       " 180: 1,\n",
       " 210: 1,\n",
       " 240: 1,\n",
       " 270: 1}"
      ]
     },
     "execution_count": 443,
     "metadata": {},
     "output_type": "execute_result"
    }
   ],
   "source": [
    "arrears_dict"
   ]
  },
  {
   "cell_type": "code",
   "execution_count": 441,
   "metadata": {
    "collapsed": false
   },
   "outputs": [
    {
     "data": {
      "text/plain": [
       "pandas.core.series.Series"
      ]
     },
     "execution_count": 441,
     "metadata": {},
     "output_type": "execute_result"
    }
   ],
   "source": [
    "type(dfs[2])"
   ]
  },
  {
   "cell_type": "code",
   "execution_count": 432,
   "metadata": {
    "collapsed": true
   },
   "outputs": [],
   "source": [
    "df_all_loans = pd.concat(dfs_loan, keys=selected_reporting_dates)"
   ]
  },
  {
   "cell_type": "code",
   "execution_count": 442,
   "metadata": {
    "collapsed": true
   },
   "outputs": [],
   "source": [
    "df_all_loans.to_clipboard()"
   ]
  },
  {
   "cell_type": "code",
   "execution_count": 435,
   "metadata": {
    "collapsed": false
   },
   "outputs": [
    {
     "data": {
      "text/plain": [
       "[(0, 8),\n",
       " (0, 8),\n",
       " (1, 9),\n",
       " (31, 9),\n",
       " (56, 9),\n",
       " (84, 9),\n",
       " (109, 9),\n",
       " (134, 9),\n",
       " (169, 9),\n",
       " (225, 9),\n",
       " (308, 9),\n",
       " (411, 9),\n",
       " (523, 9),\n",
       " (652, 9),\n",
       " (782, 9),\n",
       " (983, 9),\n",
       " (1189, 9)]"
      ]
     },
     "execution_count": 435,
     "metadata": {},
     "output_type": "execute_result"
    }
   ],
   "source": [
    "map(lambda x: x.shape,dfs_loan)"
   ]
  },
  {
   "cell_type": "code",
   "execution_count": 429,
   "metadata": {
    "collapsed": false
   },
   "outputs": [],
   "source": [
    "df_all = pd.concat(dfs[2:], keys=selected_reporting_dates[2:])"
   ]
  },
  {
   "cell_type": "code",
   "execution_count": 431,
   "metadata": {
    "collapsed": true
   },
   "outputs": [],
   "source": [
    "df_all.to_clipboard()"
   ]
  },
  {
   "cell_type": "code",
   "execution_count": 418,
   "metadata": {
    "collapsed": false
   },
   "outputs": [],
   "source": [
    "df_all_loans.rename(columns={0:'irr'},inplace=True)"
   ]
  },
  {
   "cell_type": "code",
   "execution_count": 421,
   "metadata": {
    "collapsed": false
   },
   "outputs": [],
   "source": [
    "df_loan2.set_index('fk_loan',inplace=True)"
   ]
  },
  {
   "cell_type": "code",
   "execution_count": 419,
   "metadata": {
    "collapsed": false
   },
   "outputs": [
    {
     "data": {
      "text/html": [
       "<div style=\"max-height:1000px;max-width:1500px;overflow:auto;\">\n",
       "<table border=\"1\" class=\"dataframe\">\n",
       "  <thead>\n",
       "    <tr style=\"text-align: right;\">\n",
       "      <th></th>\n",
       "      <th></th>\n",
       "      <th>irr</th>\n",
       "      <th>fk_loan</th>\n",
       "      <th>in_arrears_since</th>\n",
       "      <th>in_arrears_since_days</th>\n",
       "      <th>in_arrears_since_days_30360</th>\n",
       "      <th>bucket</th>\n",
       "      <th>bucket_pd</th>\n",
       "      <th>payback_state</th>\n",
       "    </tr>\n",
       "  </thead>\n",
       "  <tbody>\n",
       "    <tr>\n",
       "      <th rowspan=\"5\" valign=\"top\">2014-01-31</th>\n",
       "      <th>0</th>\n",
       "      <td>0.044729</td>\n",
       "      <td>7</td>\n",
       "      <td>None</td>\n",
       "      <td>NaN</td>\n",
       "      <td>NaN</td>\n",
       "      <td>NaN</td>\n",
       "      <td>NaN</td>\n",
       "      <td>payback_received</td>\n",
       "    </tr>\n",
       "    <tr>\n",
       "      <th>1</th>\n",
       "      <td>0.021090</td>\n",
       "      <td>9</td>\n",
       "      <td>None</td>\n",
       "      <td>NaN</td>\n",
       "      <td>NaN</td>\n",
       "      <td>NaN</td>\n",
       "      <td>NaN</td>\n",
       "      <td>payback</td>\n",
       "    </tr>\n",
       "    <tr>\n",
       "      <th>2</th>\n",
       "      <td>0.076092</td>\n",
       "      <td>10</td>\n",
       "      <td>None</td>\n",
       "      <td>NaN</td>\n",
       "      <td>NaN</td>\n",
       "      <td>NaN</td>\n",
       "      <td>NaN</td>\n",
       "      <td>payback</td>\n",
       "    </tr>\n",
       "    <tr>\n",
       "      <th>3</th>\n",
       "      <td>0.061606</td>\n",
       "      <td>11</td>\n",
       "      <td>None</td>\n",
       "      <td>NaN</td>\n",
       "      <td>NaN</td>\n",
       "      <td>NaN</td>\n",
       "      <td>NaN</td>\n",
       "      <td>payback</td>\n",
       "    </tr>\n",
       "    <tr>\n",
       "      <th>4</th>\n",
       "      <td>0.050371</td>\n",
       "      <td>12</td>\n",
       "      <td>None</td>\n",
       "      <td>NaN</td>\n",
       "      <td>NaN</td>\n",
       "      <td>NaN</td>\n",
       "      <td>NaN</td>\n",
       "      <td>payback</td>\n",
       "    </tr>\n",
       "  </tbody>\n",
       "</table>\n",
       "</div>"
      ],
      "text/plain": [
       "                   irr  fk_loan in_arrears_since  in_arrears_since_days  \\\n",
       "2014-01-31 0  0.044729        7             None                    NaN   \n",
       "           1  0.021090        9             None                    NaN   \n",
       "           2  0.076092       10             None                    NaN   \n",
       "           3  0.061606       11             None                    NaN   \n",
       "           4  0.050371       12             None                    NaN   \n",
       "\n",
       "              in_arrears_since_days_30360  bucket  bucket_pd     payback_state  \n",
       "2014-01-31 0                          NaN     NaN        NaN  payback_received  \n",
       "           1                          NaN     NaN        NaN           payback  \n",
       "           2                          NaN     NaN        NaN           payback  \n",
       "           3                          NaN     NaN        NaN           payback  \n",
       "           4                          NaN     NaN        NaN           payback  "
      ]
     },
     "execution_count": 419,
     "metadata": {},
     "output_type": "execute_result"
    }
   ],
   "source": [
    "df_all_loans.head()"
   ]
  },
  {
   "cell_type": "code",
   "execution_count": 374,
   "metadata": {
    "collapsed": false
   },
   "outputs": [
    {
     "data": {
      "text/html": [
       "<div style=\"max-height:1000px;max-width:1500px;overflow:auto;\">\n",
       "<table border=\"1\" class=\"dataframe\">\n",
       "  <thead>\n",
       "    <tr style=\"text-align: right;\">\n",
       "      <th></th>\n",
       "      <th>0</th>\n",
       "      <th>fk_loan</th>\n",
       "      <th>in_arrears_since</th>\n",
       "      <th>in_arrears_since_days</th>\n",
       "      <th>in_arrears_since_days_30360</th>\n",
       "      <th>bucket</th>\n",
       "      <th>bucket_pd</th>\n",
       "      <th>payback_state</th>\n",
       "    </tr>\n",
       "  </thead>\n",
       "  <tbody>\n",
       "    <tr>\n",
       "      <th>24</th>\n",
       "      <td>-0.142731</td>\n",
       "      <td>36</td>\n",
       "      <td>None</td>\n",
       "      <td>NaN</td>\n",
       "      <td>NaN</td>\n",
       "      <td>NaN</td>\n",
       "      <td>NaN</td>\n",
       "      <td>payback_complete</td>\n",
       "    </tr>\n",
       "  </tbody>\n",
       "</table>\n",
       "</div>"
      ],
      "text/plain": [
       "           0  fk_loan in_arrears_since  in_arrears_since_days  \\\n",
       "24 -0.142731       36             None                    NaN   \n",
       "\n",
       "    in_arrears_since_days_30360  bucket  bucket_pd     payback_state  \n",
       "24                          NaN     NaN        NaN  payback_complete  "
      ]
     },
     "execution_count": 374,
     "metadata": {},
     "output_type": "execute_result"
    }
   ],
   "source": [
    "df_loan2[df_loan2.fk_loan==36]"
   ]
  },
  {
   "cell_type": "code",
   "execution_count": 168,
   "metadata": {
    "collapsed": false
   },
   "outputs": [],
   "source": [
    "a=map(lambda x: x+'y',['a','b'])"
   ]
  },
  {
   "cell_type": "code",
   "execution_count": 365,
   "metadata": {
    "collapsed": false
   },
   "outputs": [
    {
     "data": {
      "text/html": [
       "<div style=\"max-height:1000px;max-width:1500px;overflow:auto;\">\n",
       "<table border=\"1\" class=\"dataframe\">\n",
       "  <thead>\n",
       "    <tr style=\"text-align: right;\">\n",
       "      <th></th>\n",
       "      <th>fk_loan</th>\n",
       "      <th>fk_user_investor</th>\n",
       "      <th>payout_date</th>\n",
       "      <th>payout_date_EOM</th>\n",
       "      <th>dcf</th>\n",
       "      <th>payment</th>\n",
       "    </tr>\n",
       "  </thead>\n",
       "  <tbody>\n",
       "    <tr>\n",
       "      <th>100</th>\n",
       "      <td>14</td>\n",
       "      <td>829</td>\n",
       "      <td>2014-01-20</td>\n",
       "      <td>2014-02-04</td>\n",
       "      <td>1.153425</td>\n",
       "      <td>-100</td>\n",
       "    </tr>\n",
       "    <tr>\n",
       "      <th>101</th>\n",
       "      <td>14</td>\n",
       "      <td>1058</td>\n",
       "      <td>2014-01-20</td>\n",
       "      <td>2014-02-04</td>\n",
       "      <td>1.153425</td>\n",
       "      <td>-25</td>\n",
       "    </tr>\n",
       "    <tr>\n",
       "      <th>102</th>\n",
       "      <td>14</td>\n",
       "      <td>305</td>\n",
       "      <td>2014-01-20</td>\n",
       "      <td>2014-02-04</td>\n",
       "      <td>1.153425</td>\n",
       "      <td>-25</td>\n",
       "    </tr>\n",
       "    <tr>\n",
       "      <th>103</th>\n",
       "      <td>14</td>\n",
       "      <td>117</td>\n",
       "      <td>2014-01-20</td>\n",
       "      <td>2014-02-04</td>\n",
       "      <td>1.153425</td>\n",
       "      <td>-300</td>\n",
       "    </tr>\n",
       "    <tr>\n",
       "      <th>104</th>\n",
       "      <td>14</td>\n",
       "      <td>38</td>\n",
       "      <td>2014-01-20</td>\n",
       "      <td>2014-02-04</td>\n",
       "      <td>1.153425</td>\n",
       "      <td>-2200</td>\n",
       "    </tr>\n",
       "  </tbody>\n",
       "</table>\n",
       "</div>"
      ],
      "text/plain": [
       "     fk_loan  fk_user_investor payout_date payout_date_EOM       dcf  payment\n",
       "100       14               829  2014-01-20      2014-02-04  1.153425     -100\n",
       "101       14              1058  2014-01-20      2014-02-04  1.153425      -25\n",
       "102       14               305  2014-01-20      2014-02-04  1.153425      -25\n",
       "103       14               117  2014-01-20      2014-02-04  1.153425     -300\n",
       "104       14                38  2014-01-20      2014-02-04  1.153425    -2200"
      ]
     },
     "execution_count": 365,
     "metadata": {},
     "output_type": "execute_result"
    }
   ],
   "source": [
    "loan_principals.head()"
   ]
  },
  {
   "cell_type": "code",
   "execution_count": 385,
   "metadata": {
    "collapsed": false
   },
   "outputs": [],
   "source": [
    "repaid_loans_cash[(repaid_loans_cash.fk_loan==36) & (repaid_loans_cash.fk_user_investor==51)].to_clipboard()"
   ]
  },
  {
   "cell_type": "code",
   "execution_count": 382,
   "metadata": {
    "collapsed": false
   },
   "outputs": [],
   "source": [
    "inv=repaid_loans_cash[(repaid_loans_cash.fk_loan==36)].fk_user_investor.unique()"
   ]
  },
  {
   "cell_type": "code",
   "execution_count": 383,
   "metadata": {
    "collapsed": false
   },
   "outputs": [
    {
     "data": {
      "text/plain": [
       "(45L,)"
      ]
     },
     "execution_count": 383,
     "metadata": {},
     "output_type": "execute_result"
    }
   ],
   "source": [
    "inv.shape"
   ]
  },
  {
   "cell_type": "code",
   "execution_count": 384,
   "metadata": {
    "collapsed": false
   },
   "outputs": [
    {
     "name": "stdout",
     "output_type": "stream",
     "text": [
      "38 0.0540753962013\n",
      "51 -0.652836384464\n",
      "101 0.053280711183\n",
      "117 0.0541588129658\n",
      "122 -0.652836384464\n",
      "191 0.053280711183\n",
      "195 0.053280711183\n",
      "323 -0.652836384464\n",
      "381 0.053280711183\n",
      "405 -0.652836384464\n",
      "416 -0.648309292301\n",
      "447 0.053280711183\n",
      "466 0.0539773549227\n",
      "497 0.0541168077735\n",
      "673 0.0540646821396\n",
      "929 -0.64982086139\n",
      "1415 -0.64982086139\n",
      "1947 0.053280711183\n",
      "2241 0.0540646821396\n",
      "2345 0.0541168077735\n",
      "2375 0.053280711183\n",
      "2407 0.0541588129658\n",
      "2423 0.0538028652797\n",
      "2425 0.0540646821396\n",
      "2484 0.053280711183\n",
      "2509 0.0540646821396\n",
      "2548 -0.648309292301\n",
      "2558 0.0540646821396\n",
      "2584 0.0541168077735\n",
      "2710 0.0538028652797\n",
      "2725 0.0540468346811\n",
      "2792 0.0538028652797\n",
      "2794 -0.648309292301\n",
      "2825 -0.64812016747\n",
      "2916 0.0538028652797\n",
      "3086 0.053280711183\n",
      "3248 0.0541168077735\n",
      "3318 0.053280711183\n",
      "3383 -0.648309292301\n",
      "3424 -0.648813430995\n",
      "3465 0.053280711183\n",
      "3473 0.053280711183\n",
      "3550 -0.648813430995\n",
      "3561 0.0541168077735\n",
      "3801 0.053280711183\n"
     ]
    }
   ],
   "source": [
    "for i in inv:\n",
    "    a1=repaid_loans_cash[(repaid_loans_cash.fk_loan==36) & (repaid_loans_cash.fk_user_investor==i)]\n",
    "    a2=loan_principals[(loan_principals.fk_loan==36) & (loan_principals.fk_user_investor==i)]\n",
    "    print i,xirr([a1,a2])\n"
   ]
  },
  {
   "cell_type": "code",
   "execution_count": 378,
   "metadata": {
    "collapsed": false
   },
   "outputs": [],
   "source": [
    "loan_fundings[(loan_fundings.fk_loan==36)].T.to_clipboard()"
   ]
  },
  {
   "cell_type": "code",
   "execution_count": 209,
   "metadata": {
    "collapsed": false
   },
   "outputs": [],
   "source": [
    "future_pd_30360_arrears=make_future_pd(payment_plans_combined, loans1, arrears_dict,True,'2015-04-30')\n",
    "future_pd_30360_origpd=make_future_pd(payment_plans_combined, loans1, arrears_dict,False,'2015-04-30')\n",
    "future_pd_30360_arrears_latest_paid=make_future_pd(payment_plans_combined, loans1, arrears_dict,True,'2015-04-30',latest_paid_interval_investor)\n",
    "future_pd_30360_origpd_latest_paid=make_future_pd(payment_plans_combined, loans1, arrears_dict,False,'2015-04-30',latest_paid_interval_investor)\n",
    "future_pd_30360_origpd_all=make_future_pd(payment_plans_combined, loans1, arrears_dict,False)"
   ]
  },
  {
   "cell_type": "code",
   "execution_count": 241,
   "metadata": {
    "collapsed": true
   },
   "outputs": [],
   "source": [
    "df_loan2 = df_loan1.merge(loans[['fk_loan','payback_state']],\n",
    "                                          on='fk_loan')"
   ]
  },
  {
   "cell_type": "code",
   "execution_count": 163,
   "metadata": {
    "collapsed": false
   },
   "outputs": [
    {
     "ename": "AttributeError",
     "evalue": "'Series' object has no attribute 'columns'",
     "output_type": "error",
     "traceback": [
      "\u001b[1;31m---------------------------------------------------------------------------\u001b[0m",
      "\u001b[1;31mAttributeError\u001b[0m                            Traceback (most recent call last)",
      "\u001b[1;32m<ipython-input-163-24cc815ef2e3>\u001b[0m in \u001b[0;36m<module>\u001b[1;34m()\u001b[0m\n\u001b[1;32m----> 1\u001b[1;33m \u001b[0mdfs_loan\u001b[0m\u001b[1;33m[\u001b[0m\u001b[1;36m0\u001b[0m\u001b[1;33m]\u001b[0m\u001b[1;33m.\u001b[0m\u001b[0mcolumns\u001b[0m\u001b[1;33m\u001b[0m\u001b[0m\n\u001b[0m",
      "\u001b[1;32mC:\\Anaconda\\lib\\site-packages\\pandas\\core\\generic.pyc\u001b[0m in \u001b[0;36m__getattr__\u001b[1;34m(self, name)\u001b[0m\n\u001b[0;32m   2076\u001b[0m                 \u001b[1;32mor\u001b[0m \u001b[0mname\u001b[0m \u001b[1;32min\u001b[0m \u001b[0mself\u001b[0m\u001b[1;33m.\u001b[0m\u001b[0m_metadata\u001b[0m\u001b[1;33m\u001b[0m\u001b[0m\n\u001b[0;32m   2077\u001b[0m                 or name in self._accessors):\n\u001b[1;32m-> 2078\u001b[1;33m             \u001b[1;32mreturn\u001b[0m \u001b[0mobject\u001b[0m\u001b[1;33m.\u001b[0m\u001b[0m__getattribute__\u001b[0m\u001b[1;33m(\u001b[0m\u001b[0mself\u001b[0m\u001b[1;33m,\u001b[0m \u001b[0mname\u001b[0m\u001b[1;33m)\u001b[0m\u001b[1;33m\u001b[0m\u001b[0m\n\u001b[0m\u001b[0;32m   2079\u001b[0m         \u001b[1;32melse\u001b[0m\u001b[1;33m:\u001b[0m\u001b[1;33m\u001b[0m\u001b[0m\n\u001b[0;32m   2080\u001b[0m             \u001b[1;32mif\u001b[0m \u001b[0mname\u001b[0m \u001b[1;32min\u001b[0m \u001b[0mself\u001b[0m\u001b[1;33m.\u001b[0m\u001b[0m_info_axis\u001b[0m\u001b[1;33m:\u001b[0m\u001b[1;33m\u001b[0m\u001b[0m\n",
      "\u001b[1;31mAttributeError\u001b[0m: 'Series' object has no attribute 'columns'"
     ]
    }
   ],
   "source": [
    "dfs_loan[0].columns"
   ]
  },
  {
   "cell_type": "code",
   "execution_count": 157,
   "metadata": {
    "collapsed": false
   },
   "outputs": [
    {
     "data": {
      "text/plain": [
       "Index([              u'dwh_country_id',             u'fk_user_borrower',\n",
       "                            u'fk_loan',                      u'loan_nr',\n",
       "                           u'iso_date',                     u'interval',\n",
       "              u'interval_payback_date',               u'payment_amount',\n",
       "                 u'payment_amount_cum',             u'principal_amount',\n",
       "                    u'interest_amount', u'sum_interval_interest_amount',\n",
       "                u'interest_amount_cum',     u'residual_interest_amount',\n",
       "               u'principal_amount_cum',     u'initial_principal_amount',\n",
       "          u'residual_principal_amount',        u'expected_amount_month',\n",
       "                u'expected_amount_cum',          u'actual_amount_month',\n",
       "                  u'actual_amount_cum',              u'in_arrears_flag',\n",
       "                   u'in_arrears_since',        u'in_arrears_since_days',\n",
       "                                u'dcf',        u'originated_since_date',\n",
       "        u'in_arrears_since_days_30360',                       u'bucket',\n",
       "                          u'bucket_pd',                     u'cum_diff',\n",
       "                        u'rating_base',                  u'payout_date'],\n",
       "      dtype='object')"
      ]
     },
     "execution_count": 157,
     "metadata": {},
     "output_type": "execute_result"
    }
   ],
   "source": [
    "actual_payments.columns"
   ]
  },
  {
   "cell_type": "code",
   "execution_count": 159,
   "metadata": {
    "collapsed": false
   },
   "outputs": [
    {
     "data": {
      "text/plain": [
       "Index([                 u'dwh_country_id',                         u'fk_loan',\n",
       "                       u'fk_loan_request',                         u'fk_user',\n",
       "                            u'fk_ranking',                    u'country_name',\n",
       "                         u'currency_code',      u'loan_request_creation_date',\n",
       "                              u'user_age',                         u'loan_nr',\n",
       "                                 u'title',                         u'purpose',\n",
       "                   u'financial_situation',                     u'self_rating',\n",
       "                                u'rating',                u'principal_amount',\n",
       "                              u'duration',     u'nominal_interest_percentage',\n",
       "             u'promo_interest_percentage',                      u'fee_amount',\n",
       "                       u'interest_amount',                   u'total_payback',\n",
       "                             u'is_active',                        u'category',\n",
       "                    u'ranking_serialized',                           u'state',\n",
       "                          u'global_state',               u'originating_since',\n",
       "                      u'originated_since',                        u'due_date',\n",
       "                         u'funded_amount',                      u'ip_address',\n",
       "                            u'live_since',               u'ranking_parameter',\n",
       "                        u'acc_account_id',               u'date_of_signature',\n",
       "                          u'borrower_fee',                      u'lender_fee',\n",
       "                    u'data_accessible_by',                  u'date_of_payout',\n",
       "          u'date_of_origination_complete',     u'interest_calculation_method',\n",
       "       u'initial_interest_split_strategy',   u'effective_interest_percentage',\n",
       "                         u'cancel_reason',           u'cancel_reason_comment',\n",
       "                  u'eur_principal_amount',                  u'eur_fee_amount',\n",
       "                   u'eur_interest_amount',               u'eur_total_payback',\n",
       "                            u'created_at',                      u'updated_at',\n",
       "                           u'dwh_created',               u'dwh_last_modified',\n",
       "                   u'credit_agency_score',                              u'pd',\n",
       "                           u'pd_original',                             u'lgd',\n",
       "                      u'in_arrears_since',        u'date_of_first_loan_offer',\n",
       "                        u'ranking_rating',                u'ranking_pd_start',\n",
       "                        u'ranking_pd_end',                     u'payback_day',\n",
       "                           u'payout_date',                   u'payback_state',\n",
       "                 u'auto_in_arrears_since',            u'in_arrears_since_man',\n",
       "                           u'rating_base',           u'originated_since_date',\n",
       "             u'originated_since_date_EOM',                             u'dcf',\n",
       "                       u'payout_date_EOM',                   u'rating_switch'],\n",
       "      dtype='object')"
      ]
     },
     "execution_count": 159,
     "metadata": {},
     "output_type": "execute_result"
    }
   ],
   "source": [
    "loans.columns"
   ]
  },
  {
   "cell_type": "code",
   "execution_count": 142,
   "metadata": {
    "collapsed": false
   },
   "outputs": [],
   "source": [
    "df_loan2=pd.DataFrame(df_loan)"
   ]
  },
  {
   "cell_type": "code",
   "execution_count": 154,
   "metadata": {
    "collapsed": true
   },
   "outputs": [],
   "source": [
    "df_loan3=pd.DataFrame(df_loan).merge(actual_payments.loc[actual_payments.iso_date==EOM_date.date(),['fk_loan','in_arrears_since',\n",
    "                                    'in_arrears_since_days',u'in_arrears_since_days_30360','bucket','bucket_pd']],\n",
    "                                          left_index=True, right_on='fk_loan')"
   ]
  },
  {
   "cell_type": "code",
   "execution_count": 153,
   "metadata": {
    "collapsed": false
   },
   "outputs": [
    {
     "data": {
      "text/plain": [
       "1488"
      ]
     },
     "execution_count": 153,
     "metadata": {},
     "output_type": "execute_result"
    }
   ],
   "source": [
    "(actual_payments.iso_date==EOM_date.date()).sum()"
   ]
  },
  {
   "cell_type": "code",
   "execution_count": 149,
   "metadata": {
    "collapsed": false
   },
   "outputs": [
    {
     "data": {
      "text/plain": [
       "array(['2014-01-31', '2014-02-28', '2014-03-31', '2014-04-30',\n",
       "       '2014-05-31', '2014-06-30', '2014-07-31', '2014-08-31',\n",
       "       '2014-09-30', '2014-10-31'], dtype='datetime64[D]')"
      ]
     },
     "execution_count": 149,
     "metadata": {},
     "output_type": "execute_result"
    }
   ],
   "source": [
    "np.array(actual_payments.iso_date,'datetime64[D]')[0:10]"
   ]
  },
  {
   "cell_type": "code",
   "execution_count": 156,
   "metadata": {
    "collapsed": false
   },
   "outputs": [],
   "source": [
    "df_loan3.to_clipboard()"
   ]
  },
  {
   "cell_type": "code",
   "execution_count": 136,
   "metadata": {
    "collapsed": false
   },
   "outputs": [],
   "source": [
    "df_all_loans.to_clipboard()"
   ]
  },
  {
   "cell_type": "code",
   "execution_count": 38,
   "metadata": {
    "collapsed": false
   },
   "outputs": [
    {
     "data": {
      "text/plain": [
       "(231472, 5)"
      ]
     },
     "execution_count": 38,
     "metadata": {},
     "output_type": "execute_result"
    }
   ],
   "source": [
    "expected_cashflows.shape"
   ]
  },
  {
   "cell_type": "code",
   "execution_count": 39,
   "metadata": {
    "collapsed": false
   },
   "outputs": [
    {
     "data": {
      "text/html": [
       "<div style=\"max-height:1000px;max-width:1500px;overflow:auto;\">\n",
       "<table border=\"1\" class=\"dataframe\">\n",
       "  <thead>\n",
       "    <tr style=\"text-align: right;\">\n",
       "      <th></th>\n",
       "      <th>irr</th>\n",
       "    </tr>\n",
       "  </thead>\n",
       "  <tbody>\n",
       "    <tr>\n",
       "      <th>2014-01-31</th>\n",
       "      <td>NaN</td>\n",
       "    </tr>\n",
       "    <tr>\n",
       "      <th>2014-02-28</th>\n",
       "      <td>NaN</td>\n",
       "    </tr>\n",
       "    <tr>\n",
       "      <th>2014-03-31</th>\n",
       "      <td>NaN</td>\n",
       "    </tr>\n",
       "    <tr>\n",
       "      <th>2014-04-30</th>\n",
       "      <td>NaN</td>\n",
       "    </tr>\n",
       "    <tr>\n",
       "      <th>2014-05-31</th>\n",
       "      <td>NaN</td>\n",
       "    </tr>\n",
       "    <tr>\n",
       "      <th>2014-06-30</th>\n",
       "      <td>NaN</td>\n",
       "    </tr>\n",
       "    <tr>\n",
       "      <th>2014-07-31</th>\n",
       "      <td>NaN</td>\n",
       "    </tr>\n",
       "    <tr>\n",
       "      <th>2014-08-31</th>\n",
       "      <td>NaN</td>\n",
       "    </tr>\n",
       "    <tr>\n",
       "      <th>2014-09-30</th>\n",
       "      <td>0.050904</td>\n",
       "    </tr>\n",
       "    <tr>\n",
       "      <th>2014-10-31</th>\n",
       "      <td>NaN</td>\n",
       "    </tr>\n",
       "    <tr>\n",
       "      <th>2014-11-30</th>\n",
       "      <td>NaN</td>\n",
       "    </tr>\n",
       "    <tr>\n",
       "      <th>2014-12-31</th>\n",
       "      <td>NaN</td>\n",
       "    </tr>\n",
       "    <tr>\n",
       "      <th>2015-01-31</th>\n",
       "      <td>NaN</td>\n",
       "    </tr>\n",
       "    <tr>\n",
       "      <th>2015-02-28</th>\n",
       "      <td>NaN</td>\n",
       "    </tr>\n",
       "    <tr>\n",
       "      <th>2015-03-31</th>\n",
       "      <td>NaN</td>\n",
       "    </tr>\n",
       "    <tr>\n",
       "      <th>2015-04-30</th>\n",
       "      <td>NaN</td>\n",
       "    </tr>\n",
       "  </tbody>\n",
       "</table>\n",
       "</div>"
      ],
      "text/plain": [
       "                 irr\n",
       "2014-01-31       NaN\n",
       "2014-02-28       NaN\n",
       "2014-03-31       NaN\n",
       "2014-04-30       NaN\n",
       "2014-05-31       NaN\n",
       "2014-06-30       NaN\n",
       "2014-07-31       NaN\n",
       "2014-08-31       NaN\n",
       "2014-09-30  0.050904\n",
       "2014-10-31       NaN\n",
       "2014-11-30       NaN\n",
       "2014-12-31       NaN\n",
       "2015-01-31       NaN\n",
       "2015-02-28       NaN\n",
       "2015-03-31       NaN\n",
       "2015-04-30       NaN"
      ]
     },
     "execution_count": 39,
     "metadata": {},
     "output_type": "execute_result"
    }
   ],
   "source": [
    "irr_df"
   ]
  },
  {
   "cell_type": "code",
   "execution_count": 443,
   "metadata": {
    "collapsed": false
   },
   "outputs": [],
   "source": [
    "irr_df.to_clipboard()"
   ]
  },
  {
   "cell_type": "code",
   "execution_count": 109,
   "metadata": {
    "collapsed": true
   },
   "outputs": [],
   "source": [
    "%run returns.py"
   ]
  },
  {
   "cell_type": "code",
   "execution_count": 16,
   "metadata": {
    "collapsed": false
   },
   "outputs": [
    {
     "data": {
      "text/plain": [
       "Index([                       u'dwh_country_id',\n",
       "                            u'fk_user_borrower',\n",
       "                            u'fk_user_investor',\n",
       "                                     u'fk_loan',\n",
       "                             u'loan_request_nr',\n",
       "                                    u'iso_date',\n",
       "                 u'nominal_interest_percentage',\n",
       "                   u'promo_interest_percentage',\n",
       "                              u'has_promo_flag',\n",
       "                              u'is_repaid_flag',\n",
       "                                 u'payout_date',\n",
       "                                    u'interval',\n",
       "                       u'interval_payback_date',\n",
       "                  u'next_interval_payback_date',\n",
       "                               u'loan_coverage',\n",
       "                     u'payment_amount_borrower',\n",
       "                   u'principal_amount_borrower',\n",
       "                    u'interest_amount_borrower',\n",
       "           u'initial_principal_amount_borrower',\n",
       "       u'sum_interval_interest_amount_borrower',\n",
       "           u'residual_interest_amount_borrower',\n",
       "          u'residual_principal_amount_borrower',\n",
       "                            u'calc_service_fee',\n",
       "                     u'payment_amount_investor',\n",
       "                 u'payment_amount_investor_cum',\n",
       "               u'payment_amount_investor_month',\n",
       "                   u'principal_amount_investor',\n",
       "                    u'interest_amount_investor',\n",
       "       u'sum_interval_interest_amount_investor',\n",
       "                u'interest_amount_investor_cum',\n",
       "           u'residual_interest_amount_investor',\n",
       "               u'principal_amount_investor_cum',\n",
       "           u'initial_principal_amount_investor',\n",
       "          u'residual_principal_amount_investor',\n",
       "                       u'expected_amount_month',\n",
       "                         u'expected_amount_cum',\n",
       "                         u'actual_amount_month',\n",
       "                           u'actual_amount_cum',\n",
       "                             u'in_arrears_flag',\n",
       "                            u'in_arrears_since',\n",
       "                       u'in_arrears_since_days',\n",
       "                                         u'dcf',\n",
       "                                 u'rating_base',\n",
       "                       u'originated_since_date',\n",
       "                 u'in_arrears_since_days_30360',\n",
       "                                      u'bucket',\n",
       "                                   u'bucket_pd',\n",
       "                                    u'cum_diff'],\n",
       "      dtype='object')"
      ]
     },
     "execution_count": 16,
     "metadata": {},
     "output_type": "execute_result"
    }
   ],
   "source": [
    "actual_payments_combined.columns"
   ]
  },
  {
   "cell_type": "code",
   "execution_count": 319,
   "metadata": {
    "collapsed": false
   },
   "outputs": [
    {
     "data": {
      "text/plain": [
       "False"
      ]
     },
     "execution_count": 319,
     "metadata": {},
     "output_type": "execute_result"
    }
   ],
   "source": [
    "'dcf' in payment_plans_combined.columns"
   ]
  },
  {
   "cell_type": "code",
   "execution_count": 432,
   "metadata": {
    "collapsed": false
   },
   "outputs": [],
   "source": [
    "df_all_repaid_latest=pd.concat(dfs,keys=reporting_dates)\n",
    "df_all_repaid_latest.columns=['irr']\n",
    "df_all_repaid_latest.to_clipboard()\n"
   ]
  },
  {
   "cell_type": "code",
   "execution_count": 446,
   "metadata": {
    "collapsed": false
   },
   "outputs": [],
   "source": [
    "df_all_repaid_latest.index.names=['date','rating_base']"
   ]
  },
  {
   "cell_type": "code",
   "execution_count": null,
   "metadata": {
    "collapsed": true
   },
   "outputs": [],
   "source": [
    "actual_payments.pivot(index='fk_loan',columns='iso_date',values='bucket')"
   ]
  },
  {
   "cell_type": "code",
   "execution_count": 231,
   "metadata": {
    "collapsed": false
   },
   "outputs": [],
   "source": [
    "df_all.to_clipboard()"
   ]
  },
  {
   "cell_type": "code",
   "execution_count": 349,
   "metadata": {
    "collapsed": false
   },
   "outputs": [
    {
     "data": {
      "text/html": [
       "<div style=\"max-height:1000px;max-width:1500px;overflow:auto;\">\n",
       "<table border=\"1\" class=\"dataframe\">\n",
       "  <thead>\n",
       "    <tr style=\"text-align: right;\">\n",
       "      <th></th>\n",
       "      <th>irr</th>\n",
       "    </tr>\n",
       "  </thead>\n",
       "  <tbody>\n",
       "    <tr>\n",
       "      <th>2014-11-30</th>\n",
       "      <td>0.095392</td>\n",
       "    </tr>\n",
       "    <tr>\n",
       "      <th>2014-12-31</th>\n",
       "      <td>0.095162</td>\n",
       "    </tr>\n",
       "    <tr>\n",
       "      <th>2015-01-31</th>\n",
       "      <td>0.073150</td>\n",
       "    </tr>\n",
       "    <tr>\n",
       "      <th>2015-02-28</th>\n",
       "      <td>0.060508</td>\n",
       "    </tr>\n",
       "    <tr>\n",
       "      <th>2015-03-31</th>\n",
       "      <td>0.050789</td>\n",
       "    </tr>\n",
       "    <tr>\n",
       "      <th>2015-04-30</th>\n",
       "      <td>NaN</td>\n",
       "    </tr>\n",
       "  </tbody>\n",
       "</table>\n",
       "</div>"
      ],
      "text/plain": [
       "                 irr\n",
       "2014-11-30  0.095392\n",
       "2014-12-31  0.095162\n",
       "2015-01-31  0.073150\n",
       "2015-02-28  0.060508\n",
       "2015-03-31  0.050789\n",
       "2015-04-30       NaN"
      ]
     },
     "execution_count": 349,
     "metadata": {},
     "output_type": "execute_result"
    }
   ],
   "source": [
    "df_all.xs(299,level='fk_loan')"
   ]
  },
  {
   "cell_type": "code",
   "execution_count": 380,
   "metadata": {
    "collapsed": true
   },
   "outputs": [],
   "source": [
    "%run returns.py\n"
   ]
  },
  {
   "cell_type": "code",
   "execution_count": 395,
   "metadata": {
    "collapsed": true
   },
   "outputs": [],
   "source": []
  },
  {
   "cell_type": "code",
   "execution_count": 163,
   "metadata": {
    "collapsed": false
   },
   "outputs": [
    {
     "data": {
      "text/plain": [
       "0.031639427173267932"
      ]
     },
     "execution_count": 163,
     "metadata": {},
     "output_type": "execute_result"
    }
   ],
   "source": [
    "xirr([loan_principals[loan_principals.fk_loan==loan_test],\n",
    "      loan_payments[loan_payments.fk_loan==loan_test],residuals[residuals.fk_loan==loan_test],recoveries[recoveries.fk_loan==loan_test]])"
   ]
  },
  {
   "cell_type": "code",
   "execution_count": 384,
   "metadata": {
    "collapsed": true
   },
   "outputs": [],
   "source": [
    "loan_test=921"
   ]
  },
  {
   "cell_type": "code",
   "execution_count": 345,
   "metadata": {
    "collapsed": false
   },
   "outputs": [
    {
     "data": {
      "text/plain": [
       "dcf\n",
       "-0.079452    1491.111214\n",
       "Name: payment, dtype: float64"
      ]
     },
     "execution_count": 345,
     "metadata": {},
     "output_type": "execute_result"
    }
   ],
   "source": [
    "z=recoveries #repaid_loans_cash\n",
    "\n",
    "z[z.fk_loan==loan_test].groupby(['dcf']).payment.sum()"
   ]
  },
  {
   "cell_type": "code",
   "execution_count": 352,
   "metadata": {
    "collapsed": false
   },
   "outputs": [
    {
     "data": {
      "text/html": [
       "<div style=\"max-height:1000px;max-width:1500px;overflow:auto;\">\n",
       "<table border=\"1\" class=\"dataframe\">\n",
       "  <thead>\n",
       "    <tr style=\"text-align: right;\">\n",
       "      <th></th>\n",
       "      <th>10380</th>\n",
       "      <th>10381</th>\n",
       "      <th>10382</th>\n",
       "      <th>10383</th>\n",
       "      <th>10384</th>\n",
       "      <th>10385</th>\n",
       "      <th>10386</th>\n",
       "      <th>10387</th>\n",
       "      <th>10388</th>\n",
       "      <th>10389</th>\n",
       "      <th>...</th>\n",
       "      <th>10427</th>\n",
       "      <th>10428</th>\n",
       "      <th>10429</th>\n",
       "      <th>10430</th>\n",
       "      <th>10431</th>\n",
       "      <th>10432</th>\n",
       "      <th>10433</th>\n",
       "      <th>10434</th>\n",
       "      <th>10435</th>\n",
       "      <th>10436</th>\n",
       "    </tr>\n",
       "  </thead>\n",
       "  <tbody>\n",
       "    <tr>\n",
       "      <th>rating_base</th>\n",
       "      <td>C</td>\n",
       "      <td>C</td>\n",
       "      <td>C</td>\n",
       "      <td>C</td>\n",
       "      <td>C</td>\n",
       "      <td>C</td>\n",
       "      <td>C</td>\n",
       "      <td>C</td>\n",
       "      <td>C</td>\n",
       "      <td>C</td>\n",
       "      <td>...</td>\n",
       "      <td>C</td>\n",
       "      <td>C</td>\n",
       "      <td>C</td>\n",
       "      <td>C</td>\n",
       "      <td>C</td>\n",
       "      <td>C</td>\n",
       "      <td>C</td>\n",
       "      <td>C</td>\n",
       "      <td>C</td>\n",
       "      <td>C</td>\n",
       "    </tr>\n",
       "    <tr>\n",
       "      <th>fk_loan</th>\n",
       "      <td>299</td>\n",
       "      <td>299</td>\n",
       "      <td>299</td>\n",
       "      <td>299</td>\n",
       "      <td>299</td>\n",
       "      <td>299</td>\n",
       "      <td>299</td>\n",
       "      <td>299</td>\n",
       "      <td>299</td>\n",
       "      <td>299</td>\n",
       "      <td>...</td>\n",
       "      <td>299</td>\n",
       "      <td>299</td>\n",
       "      <td>299</td>\n",
       "      <td>299</td>\n",
       "      <td>299</td>\n",
       "      <td>299</td>\n",
       "      <td>299</td>\n",
       "      <td>299</td>\n",
       "      <td>299</td>\n",
       "      <td>299</td>\n",
       "    </tr>\n",
       "    <tr>\n",
       "      <th>fk_user_investor</th>\n",
       "      <td>25050</td>\n",
       "      <td>25151</td>\n",
       "      <td>29364</td>\n",
       "      <td>29426</td>\n",
       "      <td>30190</td>\n",
       "      <td>30245</td>\n",
       "      <td>30300</td>\n",
       "      <td>30532</td>\n",
       "      <td>31192</td>\n",
       "      <td>29841</td>\n",
       "      <td>...</td>\n",
       "      <td>19590</td>\n",
       "      <td>19973</td>\n",
       "      <td>9210</td>\n",
       "      <td>22203</td>\n",
       "      <td>23184</td>\n",
       "      <td>23314</td>\n",
       "      <td>23738</td>\n",
       "      <td>23870</td>\n",
       "      <td>24237</td>\n",
       "      <td>24826</td>\n",
       "    </tr>\n",
       "    <tr>\n",
       "      <th>originated_since_date</th>\n",
       "      <td>2014-08-21 00:00:00</td>\n",
       "      <td>2014-08-21 00:00:00</td>\n",
       "      <td>2014-08-21 00:00:00</td>\n",
       "      <td>2014-08-21 00:00:00</td>\n",
       "      <td>2014-08-21 00:00:00</td>\n",
       "      <td>2014-08-21 00:00:00</td>\n",
       "      <td>2014-08-21 00:00:00</td>\n",
       "      <td>2014-08-21 00:00:00</td>\n",
       "      <td>2014-08-21 00:00:00</td>\n",
       "      <td>2014-08-21 00:00:00</td>\n",
       "      <td>...</td>\n",
       "      <td>2014-08-21 00:00:00</td>\n",
       "      <td>2014-08-21 00:00:00</td>\n",
       "      <td>2014-08-21 00:00:00</td>\n",
       "      <td>2014-08-21 00:00:00</td>\n",
       "      <td>2014-08-21 00:00:00</td>\n",
       "      <td>2014-08-21 00:00:00</td>\n",
       "      <td>2014-08-21 00:00:00</td>\n",
       "      <td>2014-08-21 00:00:00</td>\n",
       "      <td>2014-08-21 00:00:00</td>\n",
       "      <td>2014-08-21 00:00:00</td>\n",
       "    </tr>\n",
       "    <tr>\n",
       "      <th>originated_since_date_EOM</th>\n",
       "      <td>2014-09-19 00:00:00</td>\n",
       "      <td>2014-09-19 00:00:00</td>\n",
       "      <td>2014-09-19 00:00:00</td>\n",
       "      <td>2014-09-19 00:00:00</td>\n",
       "      <td>2014-09-19 00:00:00</td>\n",
       "      <td>2014-09-19 00:00:00</td>\n",
       "      <td>2014-09-19 00:00:00</td>\n",
       "      <td>2014-09-19 00:00:00</td>\n",
       "      <td>2014-09-19 00:00:00</td>\n",
       "      <td>2014-09-19 00:00:00</td>\n",
       "      <td>...</td>\n",
       "      <td>2014-09-19 00:00:00</td>\n",
       "      <td>2014-09-19 00:00:00</td>\n",
       "      <td>2014-09-19 00:00:00</td>\n",
       "      <td>2014-09-19 00:00:00</td>\n",
       "      <td>2014-09-19 00:00:00</td>\n",
       "      <td>2014-09-19 00:00:00</td>\n",
       "      <td>2014-09-19 00:00:00</td>\n",
       "      <td>2014-09-19 00:00:00</td>\n",
       "      <td>2014-09-19 00:00:00</td>\n",
       "      <td>2014-09-19 00:00:00</td>\n",
       "    </tr>\n",
       "    <tr>\n",
       "      <th>dcf</th>\n",
       "      <td>0.5315068</td>\n",
       "      <td>0.5315068</td>\n",
       "      <td>0.5315068</td>\n",
       "      <td>0.5315068</td>\n",
       "      <td>0.5315068</td>\n",
       "      <td>0.5315068</td>\n",
       "      <td>0.5315068</td>\n",
       "      <td>0.5315068</td>\n",
       "      <td>0.5315068</td>\n",
       "      <td>0.5315068</td>\n",
       "      <td>...</td>\n",
       "      <td>0.5315068</td>\n",
       "      <td>0.5315068</td>\n",
       "      <td>0.5315068</td>\n",
       "      <td>0.5315068</td>\n",
       "      <td>0.5315068</td>\n",
       "      <td>0.5315068</td>\n",
       "      <td>0.5315068</td>\n",
       "      <td>0.5315068</td>\n",
       "      <td>0.5315068</td>\n",
       "      <td>0.5315068</td>\n",
       "    </tr>\n",
       "    <tr>\n",
       "      <th>payment</th>\n",
       "      <td>-25</td>\n",
       "      <td>-2000</td>\n",
       "      <td>-25</td>\n",
       "      <td>-25</td>\n",
       "      <td>-25</td>\n",
       "      <td>-50</td>\n",
       "      <td>-25</td>\n",
       "      <td>-50</td>\n",
       "      <td>-100</td>\n",
       "      <td>-50</td>\n",
       "      <td>...</td>\n",
       "      <td>-25</td>\n",
       "      <td>-100</td>\n",
       "      <td>-50</td>\n",
       "      <td>-50</td>\n",
       "      <td>-750</td>\n",
       "      <td>-25</td>\n",
       "      <td>-25</td>\n",
       "      <td>-25</td>\n",
       "      <td>-100</td>\n",
       "      <td>-50</td>\n",
       "    </tr>\n",
       "  </tbody>\n",
       "</table>\n",
       "<p>7 rows × 57 columns</p>\n",
       "</div>"
      ],
      "text/plain": [
       "                                         10380                10381  \\\n",
       "rating_base                                  C                    C   \n",
       "fk_loan                                    299                  299   \n",
       "fk_user_investor                         25050                25151   \n",
       "originated_since_date      2014-08-21 00:00:00  2014-08-21 00:00:00   \n",
       "originated_since_date_EOM  2014-09-19 00:00:00  2014-09-19 00:00:00   \n",
       "dcf                                  0.5315068            0.5315068   \n",
       "payment                                    -25                -2000   \n",
       "\n",
       "                                         10382                10383  \\\n",
       "rating_base                                  C                    C   \n",
       "fk_loan                                    299                  299   \n",
       "fk_user_investor                         29364                29426   \n",
       "originated_since_date      2014-08-21 00:00:00  2014-08-21 00:00:00   \n",
       "originated_since_date_EOM  2014-09-19 00:00:00  2014-09-19 00:00:00   \n",
       "dcf                                  0.5315068            0.5315068   \n",
       "payment                                    -25                  -25   \n",
       "\n",
       "                                         10384                10385  \\\n",
       "rating_base                                  C                    C   \n",
       "fk_loan                                    299                  299   \n",
       "fk_user_investor                         30190                30245   \n",
       "originated_since_date      2014-08-21 00:00:00  2014-08-21 00:00:00   \n",
       "originated_since_date_EOM  2014-09-19 00:00:00  2014-09-19 00:00:00   \n",
       "dcf                                  0.5315068            0.5315068   \n",
       "payment                                    -25                  -50   \n",
       "\n",
       "                                         10386                10387  \\\n",
       "rating_base                                  C                    C   \n",
       "fk_loan                                    299                  299   \n",
       "fk_user_investor                         30300                30532   \n",
       "originated_since_date      2014-08-21 00:00:00  2014-08-21 00:00:00   \n",
       "originated_since_date_EOM  2014-09-19 00:00:00  2014-09-19 00:00:00   \n",
       "dcf                                  0.5315068            0.5315068   \n",
       "payment                                    -25                  -50   \n",
       "\n",
       "                                         10388                10389  \\\n",
       "rating_base                                  C                    C   \n",
       "fk_loan                                    299                  299   \n",
       "fk_user_investor                         31192                29841   \n",
       "originated_since_date      2014-08-21 00:00:00  2014-08-21 00:00:00   \n",
       "originated_since_date_EOM  2014-09-19 00:00:00  2014-09-19 00:00:00   \n",
       "dcf                                  0.5315068            0.5315068   \n",
       "payment                                   -100                  -50   \n",
       "\n",
       "                                  ...                         10427  \\\n",
       "rating_base                       ...                             C   \n",
       "fk_loan                           ...                           299   \n",
       "fk_user_investor                  ...                         19590   \n",
       "originated_since_date             ...           2014-08-21 00:00:00   \n",
       "originated_since_date_EOM         ...           2014-09-19 00:00:00   \n",
       "dcf                               ...                     0.5315068   \n",
       "payment                           ...                           -25   \n",
       "\n",
       "                                         10428                10429  \\\n",
       "rating_base                                  C                    C   \n",
       "fk_loan                                    299                  299   \n",
       "fk_user_investor                         19973                 9210   \n",
       "originated_since_date      2014-08-21 00:00:00  2014-08-21 00:00:00   \n",
       "originated_since_date_EOM  2014-09-19 00:00:00  2014-09-19 00:00:00   \n",
       "dcf                                  0.5315068            0.5315068   \n",
       "payment                                   -100                  -50   \n",
       "\n",
       "                                         10430                10431  \\\n",
       "rating_base                                  C                    C   \n",
       "fk_loan                                    299                  299   \n",
       "fk_user_investor                         22203                23184   \n",
       "originated_since_date      2014-08-21 00:00:00  2014-08-21 00:00:00   \n",
       "originated_since_date_EOM  2014-09-19 00:00:00  2014-09-19 00:00:00   \n",
       "dcf                                  0.5315068            0.5315068   \n",
       "payment                                    -50                 -750   \n",
       "\n",
       "                                         10432                10433  \\\n",
       "rating_base                                  C                    C   \n",
       "fk_loan                                    299                  299   \n",
       "fk_user_investor                         23314                23738   \n",
       "originated_since_date      2014-08-21 00:00:00  2014-08-21 00:00:00   \n",
       "originated_since_date_EOM  2014-09-19 00:00:00  2014-09-19 00:00:00   \n",
       "dcf                                  0.5315068            0.5315068   \n",
       "payment                                    -25                  -25   \n",
       "\n",
       "                                         10434                10435  \\\n",
       "rating_base                                  C                    C   \n",
       "fk_loan                                    299                  299   \n",
       "fk_user_investor                         23870                24237   \n",
       "originated_since_date      2014-08-21 00:00:00  2014-08-21 00:00:00   \n",
       "originated_since_date_EOM  2014-09-19 00:00:00  2014-09-19 00:00:00   \n",
       "dcf                                  0.5315068            0.5315068   \n",
       "payment                                    -25                 -100   \n",
       "\n",
       "                                         10436  \n",
       "rating_base                                  C  \n",
       "fk_loan                                    299  \n",
       "fk_user_investor                         24826  \n",
       "originated_since_date      2014-08-21 00:00:00  \n",
       "originated_since_date_EOM  2014-09-19 00:00:00  \n",
       "dcf                                  0.5315068  \n",
       "payment                                    -50  \n",
       "\n",
       "[7 rows x 57 columns]"
      ]
     },
     "execution_count": 352,
     "metadata": {},
     "output_type": "execute_result"
    }
   ],
   "source": [
    "z=loan_principals #repaid_loans_cash\n",
    "\n",
    "z[z.fk_loan==loan_test].T"
   ]
  },
  {
   "cell_type": "code",
   "execution_count": 353,
   "metadata": {
    "collapsed": false
   },
   "outputs": [],
   "source": [
    "\n",
    "\n",
    "df_tests=[z[z.fk_loan==loan_test].groupby(['dcf']).payment.sum().reset_index() for z in [loan_principals,loan_payments,residuals,recoveries, repaid_loans_cash]]"
   ]
  },
  {
   "cell_type": "code",
   "execution_count": 394,
   "metadata": {
    "collapsed": false
   },
   "outputs": [
    {
     "data": {
      "text/html": [
       "<div style=\"max-height:1000px;max-width:1500px;overflow:auto;\">\n",
       "<table border=\"1\" class=\"dataframe\">\n",
       "  <thead>\n",
       "    <tr style=\"text-align: right;\">\n",
       "      <th></th>\n",
       "      <th>976</th>\n",
       "      <th>977</th>\n",
       "      <th>978</th>\n",
       "      <th>979</th>\n",
       "      <th>980</th>\n",
       "    </tr>\n",
       "  </thead>\n",
       "  <tbody>\n",
       "    <tr>\n",
       "      <th>dwh_country_id</th>\n",
       "      <td>1</td>\n",
       "      <td>1</td>\n",
       "      <td>1</td>\n",
       "      <td>1</td>\n",
       "      <td>1</td>\n",
       "    </tr>\n",
       "    <tr>\n",
       "      <th>fk_user_borrower</th>\n",
       "      <td>601</td>\n",
       "      <td>601</td>\n",
       "      <td>601</td>\n",
       "      <td>601</td>\n",
       "      <td>601</td>\n",
       "    </tr>\n",
       "    <tr>\n",
       "      <th>fk_user_investor</th>\n",
       "      <td>470</td>\n",
       "      <td>51</td>\n",
       "      <td>305</td>\n",
       "      <td>416</td>\n",
       "      <td>895</td>\n",
       "    </tr>\n",
       "    <tr>\n",
       "      <th>fk_loan</th>\n",
       "      <td>11</td>\n",
       "      <td>11</td>\n",
       "      <td>11</td>\n",
       "      <td>11</td>\n",
       "      <td>11</td>\n",
       "    </tr>\n",
       "    <tr>\n",
       "      <th>loan_request_nr</th>\n",
       "      <td>781517257</td>\n",
       "      <td>781517257</td>\n",
       "      <td>781517257</td>\n",
       "      <td>781517257</td>\n",
       "      <td>781517257</td>\n",
       "    </tr>\n",
       "    <tr>\n",
       "      <th>iso_date</th>\n",
       "      <td>2014-01-31</td>\n",
       "      <td>2014-01-31</td>\n",
       "      <td>2014-01-31</td>\n",
       "      <td>2014-01-31</td>\n",
       "      <td>2014-01-31</td>\n",
       "    </tr>\n",
       "    <tr>\n",
       "      <th>nominal_interest_percentage</th>\n",
       "      <td>NaN</td>\n",
       "      <td>NaN</td>\n",
       "      <td>NaN</td>\n",
       "      <td>NaN</td>\n",
       "      <td>NaN</td>\n",
       "    </tr>\n",
       "    <tr>\n",
       "      <th>promo_interest_percentage</th>\n",
       "      <td>NaN</td>\n",
       "      <td>NaN</td>\n",
       "      <td>NaN</td>\n",
       "      <td>NaN</td>\n",
       "      <td>NaN</td>\n",
       "    </tr>\n",
       "    <tr>\n",
       "      <th>has_promo_flag</th>\n",
       "      <td>NaN</td>\n",
       "      <td>NaN</td>\n",
       "      <td>NaN</td>\n",
       "      <td>NaN</td>\n",
       "      <td>NaN</td>\n",
       "    </tr>\n",
       "    <tr>\n",
       "      <th>is_repaid_flag</th>\n",
       "      <td>NaN</td>\n",
       "      <td>NaN</td>\n",
       "      <td>NaN</td>\n",
       "      <td>NaN</td>\n",
       "      <td>NaN</td>\n",
       "    </tr>\n",
       "    <tr>\n",
       "      <th>payout_date</th>\n",
       "      <td>None</td>\n",
       "      <td>None</td>\n",
       "      <td>None</td>\n",
       "      <td>None</td>\n",
       "      <td>None</td>\n",
       "    </tr>\n",
       "    <tr>\n",
       "      <th>interval</th>\n",
       "      <td>NaN</td>\n",
       "      <td>NaN</td>\n",
       "      <td>NaN</td>\n",
       "      <td>NaN</td>\n",
       "      <td>NaN</td>\n",
       "    </tr>\n",
       "    <tr>\n",
       "      <th>interval_payback_date</th>\n",
       "      <td>None</td>\n",
       "      <td>None</td>\n",
       "      <td>None</td>\n",
       "      <td>None</td>\n",
       "      <td>None</td>\n",
       "    </tr>\n",
       "    <tr>\n",
       "      <th>next_interval_payback_date</th>\n",
       "      <td>None</td>\n",
       "      <td>None</td>\n",
       "      <td>None</td>\n",
       "      <td>None</td>\n",
       "      <td>None</td>\n",
       "    </tr>\n",
       "    <tr>\n",
       "      <th>loan_coverage</th>\n",
       "      <td>NaN</td>\n",
       "      <td>NaN</td>\n",
       "      <td>NaN</td>\n",
       "      <td>NaN</td>\n",
       "      <td>NaN</td>\n",
       "    </tr>\n",
       "    <tr>\n",
       "      <th>payment_amount_borrower</th>\n",
       "      <td>NaN</td>\n",
       "      <td>NaN</td>\n",
       "      <td>NaN</td>\n",
       "      <td>NaN</td>\n",
       "      <td>NaN</td>\n",
       "    </tr>\n",
       "    <tr>\n",
       "      <th>principal_amount_borrower</th>\n",
       "      <td>NaN</td>\n",
       "      <td>NaN</td>\n",
       "      <td>NaN</td>\n",
       "      <td>NaN</td>\n",
       "      <td>NaN</td>\n",
       "    </tr>\n",
       "    <tr>\n",
       "      <th>interest_amount_borrower</th>\n",
       "      <td>NaN</td>\n",
       "      <td>NaN</td>\n",
       "      <td>NaN</td>\n",
       "      <td>NaN</td>\n",
       "      <td>NaN</td>\n",
       "    </tr>\n",
       "    <tr>\n",
       "      <th>initial_principal_amount_borrower</th>\n",
       "      <td>NaN</td>\n",
       "      <td>NaN</td>\n",
       "      <td>NaN</td>\n",
       "      <td>NaN</td>\n",
       "      <td>NaN</td>\n",
       "    </tr>\n",
       "    <tr>\n",
       "      <th>sum_interval_interest_amount_borrower</th>\n",
       "      <td>NaN</td>\n",
       "      <td>NaN</td>\n",
       "      <td>NaN</td>\n",
       "      <td>NaN</td>\n",
       "      <td>NaN</td>\n",
       "    </tr>\n",
       "    <tr>\n",
       "      <th>residual_interest_amount_borrower</th>\n",
       "      <td>NaN</td>\n",
       "      <td>NaN</td>\n",
       "      <td>NaN</td>\n",
       "      <td>NaN</td>\n",
       "      <td>NaN</td>\n",
       "    </tr>\n",
       "    <tr>\n",
       "      <th>residual_principal_amount_borrower</th>\n",
       "      <td>NaN</td>\n",
       "      <td>NaN</td>\n",
       "      <td>NaN</td>\n",
       "      <td>NaN</td>\n",
       "      <td>NaN</td>\n",
       "    </tr>\n",
       "    <tr>\n",
       "      <th>calc_service_fee</th>\n",
       "      <td>NaN</td>\n",
       "      <td>NaN</td>\n",
       "      <td>NaN</td>\n",
       "      <td>NaN</td>\n",
       "      <td>NaN</td>\n",
       "    </tr>\n",
       "    <tr>\n",
       "      <th>payment_amount_investor</th>\n",
       "      <td>NaN</td>\n",
       "      <td>NaN</td>\n",
       "      <td>NaN</td>\n",
       "      <td>NaN</td>\n",
       "      <td>NaN</td>\n",
       "    </tr>\n",
       "    <tr>\n",
       "      <th>payment_amount_investor_cum</th>\n",
       "      <td>NaN</td>\n",
       "      <td>NaN</td>\n",
       "      <td>NaN</td>\n",
       "      <td>NaN</td>\n",
       "      <td>NaN</td>\n",
       "    </tr>\n",
       "    <tr>\n",
       "      <th>payment_amount_investor_month</th>\n",
       "      <td>NaN</td>\n",
       "      <td>NaN</td>\n",
       "      <td>NaN</td>\n",
       "      <td>NaN</td>\n",
       "      <td>NaN</td>\n",
       "    </tr>\n",
       "    <tr>\n",
       "      <th>principal_amount_investor</th>\n",
       "      <td>NaN</td>\n",
       "      <td>NaN</td>\n",
       "      <td>NaN</td>\n",
       "      <td>NaN</td>\n",
       "      <td>NaN</td>\n",
       "    </tr>\n",
       "    <tr>\n",
       "      <th>interest_amount_investor</th>\n",
       "      <td>NaN</td>\n",
       "      <td>NaN</td>\n",
       "      <td>NaN</td>\n",
       "      <td>NaN</td>\n",
       "      <td>NaN</td>\n",
       "    </tr>\n",
       "    <tr>\n",
       "      <th>sum_interval_interest_amount_investor</th>\n",
       "      <td>NaN</td>\n",
       "      <td>NaN</td>\n",
       "      <td>NaN</td>\n",
       "      <td>NaN</td>\n",
       "      <td>NaN</td>\n",
       "    </tr>\n",
       "    <tr>\n",
       "      <th>interest_amount_investor_cum</th>\n",
       "      <td>NaN</td>\n",
       "      <td>NaN</td>\n",
       "      <td>NaN</td>\n",
       "      <td>NaN</td>\n",
       "      <td>NaN</td>\n",
       "    </tr>\n",
       "    <tr>\n",
       "      <th>residual_interest_amount_investor</th>\n",
       "      <td>NaN</td>\n",
       "      <td>NaN</td>\n",
       "      <td>NaN</td>\n",
       "      <td>NaN</td>\n",
       "      <td>NaN</td>\n",
       "    </tr>\n",
       "    <tr>\n",
       "      <th>principal_amount_investor_cum</th>\n",
       "      <td>NaN</td>\n",
       "      <td>NaN</td>\n",
       "      <td>NaN</td>\n",
       "      <td>NaN</td>\n",
       "      <td>NaN</td>\n",
       "    </tr>\n",
       "    <tr>\n",
       "      <th>initial_principal_amount_investor</th>\n",
       "      <td>NaN</td>\n",
       "      <td>NaN</td>\n",
       "      <td>NaN</td>\n",
       "      <td>NaN</td>\n",
       "      <td>NaN</td>\n",
       "    </tr>\n",
       "    <tr>\n",
       "      <th>residual_principal_amount_investor</th>\n",
       "      <td>25</td>\n",
       "      <td>25</td>\n",
       "      <td>25</td>\n",
       "      <td>250</td>\n",
       "      <td>25</td>\n",
       "    </tr>\n",
       "    <tr>\n",
       "      <th>expected_amount_month</th>\n",
       "      <td>0.46</td>\n",
       "      <td>0.46</td>\n",
       "      <td>0.46</td>\n",
       "      <td>0.46</td>\n",
       "      <td>0.46</td>\n",
       "    </tr>\n",
       "    <tr>\n",
       "      <th>expected_amount_cum</th>\n",
       "      <td>0.46</td>\n",
       "      <td>0.46</td>\n",
       "      <td>0.46</td>\n",
       "      <td>0.46</td>\n",
       "      <td>0.46</td>\n",
       "    </tr>\n",
       "    <tr>\n",
       "      <th>actual_amount_month</th>\n",
       "      <td>0</td>\n",
       "      <td>0</td>\n",
       "      <td>0</td>\n",
       "      <td>0</td>\n",
       "      <td>0</td>\n",
       "    </tr>\n",
       "    <tr>\n",
       "      <th>actual_amount_cum</th>\n",
       "      <td>0</td>\n",
       "      <td>0</td>\n",
       "      <td>0</td>\n",
       "      <td>0</td>\n",
       "      <td>0</td>\n",
       "    </tr>\n",
       "    <tr>\n",
       "      <th>in_arrears_flag</th>\n",
       "      <td>1</td>\n",
       "      <td>1</td>\n",
       "      <td>1</td>\n",
       "      <td>1</td>\n",
       "      <td>1</td>\n",
       "    </tr>\n",
       "    <tr>\n",
       "      <th>in_arrears_since</th>\n",
       "      <td>2014-01-15</td>\n",
       "      <td>2014-01-15</td>\n",
       "      <td>2014-01-15</td>\n",
       "      <td>2014-01-15</td>\n",
       "      <td>2014-01-15</td>\n",
       "    </tr>\n",
       "    <tr>\n",
       "      <th>in_arrears_since_days</th>\n",
       "      <td>16</td>\n",
       "      <td>16</td>\n",
       "      <td>16</td>\n",
       "      <td>16</td>\n",
       "      <td>16</td>\n",
       "    </tr>\n",
       "    <tr>\n",
       "      <th>dcf</th>\n",
       "      <td>1.164384</td>\n",
       "      <td>1.164384</td>\n",
       "      <td>1.164384</td>\n",
       "      <td>1.164384</td>\n",
       "      <td>1.164384</td>\n",
       "    </tr>\n",
       "    <tr>\n",
       "      <th>in_arrears_since_days_30360</th>\n",
       "      <td>16</td>\n",
       "      <td>16</td>\n",
       "      <td>16</td>\n",
       "      <td>16</td>\n",
       "      <td>16</td>\n",
       "    </tr>\n",
       "    <tr>\n",
       "      <th>bucket</th>\n",
       "      <td>30</td>\n",
       "      <td>30</td>\n",
       "      <td>30</td>\n",
       "      <td>30</td>\n",
       "      <td>30</td>\n",
       "    </tr>\n",
       "    <tr>\n",
       "      <th>bucket_pd</th>\n",
       "      <td>0.164</td>\n",
       "      <td>0.164</td>\n",
       "      <td>0.164</td>\n",
       "      <td>0.164</td>\n",
       "      <td>0.164</td>\n",
       "    </tr>\n",
       "    <tr>\n",
       "      <th>cum_diff</th>\n",
       "      <td>0.46</td>\n",
       "      <td>0.46</td>\n",
       "      <td>0.46</td>\n",
       "      <td>0.46</td>\n",
       "      <td>0.46</td>\n",
       "    </tr>\n",
       "    <tr>\n",
       "      <th>id_loan_x</th>\n",
       "      <td>11</td>\n",
       "      <td>11</td>\n",
       "      <td>11</td>\n",
       "      <td>11</td>\n",
       "      <td>11</td>\n",
       "    </tr>\n",
       "    <tr>\n",
       "      <th>id_loan_y</th>\n",
       "      <td>11</td>\n",
       "      <td>11</td>\n",
       "      <td>11</td>\n",
       "      <td>11</td>\n",
       "      <td>11</td>\n",
       "    </tr>\n",
       "    <tr>\n",
       "      <th>rating_base</th>\n",
       "      <td>B</td>\n",
       "      <td>B</td>\n",
       "      <td>B</td>\n",
       "      <td>B</td>\n",
       "      <td>B</td>\n",
       "    </tr>\n",
       "  </tbody>\n",
       "</table>\n",
       "</div>"
      ],
      "text/plain": [
       "                                              976         977         978  \\\n",
       "dwh_country_id                                  1           1           1   \n",
       "fk_user_borrower                              601         601         601   \n",
       "fk_user_investor                              470          51         305   \n",
       "fk_loan                                        11          11          11   \n",
       "loan_request_nr                         781517257   781517257   781517257   \n",
       "iso_date                               2014-01-31  2014-01-31  2014-01-31   \n",
       "nominal_interest_percentage                   NaN         NaN         NaN   \n",
       "promo_interest_percentage                     NaN         NaN         NaN   \n",
       "has_promo_flag                                NaN         NaN         NaN   \n",
       "is_repaid_flag                                NaN         NaN         NaN   \n",
       "payout_date                                  None        None        None   \n",
       "interval                                      NaN         NaN         NaN   \n",
       "interval_payback_date                        None        None        None   \n",
       "next_interval_payback_date                   None        None        None   \n",
       "loan_coverage                                 NaN         NaN         NaN   \n",
       "payment_amount_borrower                       NaN         NaN         NaN   \n",
       "principal_amount_borrower                     NaN         NaN         NaN   \n",
       "interest_amount_borrower                      NaN         NaN         NaN   \n",
       "initial_principal_amount_borrower             NaN         NaN         NaN   \n",
       "sum_interval_interest_amount_borrower         NaN         NaN         NaN   \n",
       "residual_interest_amount_borrower             NaN         NaN         NaN   \n",
       "residual_principal_amount_borrower            NaN         NaN         NaN   \n",
       "calc_service_fee                              NaN         NaN         NaN   \n",
       "payment_amount_investor                       NaN         NaN         NaN   \n",
       "payment_amount_investor_cum                   NaN         NaN         NaN   \n",
       "payment_amount_investor_month                 NaN         NaN         NaN   \n",
       "principal_amount_investor                     NaN         NaN         NaN   \n",
       "interest_amount_investor                      NaN         NaN         NaN   \n",
       "sum_interval_interest_amount_investor         NaN         NaN         NaN   \n",
       "interest_amount_investor_cum                  NaN         NaN         NaN   \n",
       "residual_interest_amount_investor             NaN         NaN         NaN   \n",
       "principal_amount_investor_cum                 NaN         NaN         NaN   \n",
       "initial_principal_amount_investor             NaN         NaN         NaN   \n",
       "residual_principal_amount_investor             25          25          25   \n",
       "expected_amount_month                        0.46        0.46        0.46   \n",
       "expected_amount_cum                          0.46        0.46        0.46   \n",
       "actual_amount_month                             0           0           0   \n",
       "actual_amount_cum                               0           0           0   \n",
       "in_arrears_flag                                 1           1           1   \n",
       "in_arrears_since                       2014-01-15  2014-01-15  2014-01-15   \n",
       "in_arrears_since_days                          16          16          16   \n",
       "dcf                                      1.164384    1.164384    1.164384   \n",
       "in_arrears_since_days_30360                    16          16          16   \n",
       "bucket                                         30          30          30   \n",
       "bucket_pd                                   0.164       0.164       0.164   \n",
       "cum_diff                                     0.46        0.46        0.46   \n",
       "id_loan_x                                      11          11          11   \n",
       "id_loan_y                                      11          11          11   \n",
       "rating_base                                     B           B           B   \n",
       "\n",
       "                                              979         980  \n",
       "dwh_country_id                                  1           1  \n",
       "fk_user_borrower                              601         601  \n",
       "fk_user_investor                              416         895  \n",
       "fk_loan                                        11          11  \n",
       "loan_request_nr                         781517257   781517257  \n",
       "iso_date                               2014-01-31  2014-01-31  \n",
       "nominal_interest_percentage                   NaN         NaN  \n",
       "promo_interest_percentage                     NaN         NaN  \n",
       "has_promo_flag                                NaN         NaN  \n",
       "is_repaid_flag                                NaN         NaN  \n",
       "payout_date                                  None        None  \n",
       "interval                                      NaN         NaN  \n",
       "interval_payback_date                        None        None  \n",
       "next_interval_payback_date                   None        None  \n",
       "loan_coverage                                 NaN         NaN  \n",
       "payment_amount_borrower                       NaN         NaN  \n",
       "principal_amount_borrower                     NaN         NaN  \n",
       "interest_amount_borrower                      NaN         NaN  \n",
       "initial_principal_amount_borrower             NaN         NaN  \n",
       "sum_interval_interest_amount_borrower         NaN         NaN  \n",
       "residual_interest_amount_borrower             NaN         NaN  \n",
       "residual_principal_amount_borrower            NaN         NaN  \n",
       "calc_service_fee                              NaN         NaN  \n",
       "payment_amount_investor                       NaN         NaN  \n",
       "payment_amount_investor_cum                   NaN         NaN  \n",
       "payment_amount_investor_month                 NaN         NaN  \n",
       "principal_amount_investor                     NaN         NaN  \n",
       "interest_amount_investor                      NaN         NaN  \n",
       "sum_interval_interest_amount_investor         NaN         NaN  \n",
       "interest_amount_investor_cum                  NaN         NaN  \n",
       "residual_interest_amount_investor             NaN         NaN  \n",
       "principal_amount_investor_cum                 NaN         NaN  \n",
       "initial_principal_amount_investor             NaN         NaN  \n",
       "residual_principal_amount_investor            250          25  \n",
       "expected_amount_month                        0.46        0.46  \n",
       "expected_amount_cum                          0.46        0.46  \n",
       "actual_amount_month                             0           0  \n",
       "actual_amount_cum                               0           0  \n",
       "in_arrears_flag                                 1           1  \n",
       "in_arrears_since                       2014-01-15  2014-01-15  \n",
       "in_arrears_since_days                          16          16  \n",
       "dcf                                      1.164384    1.164384  \n",
       "in_arrears_since_days_30360                    16          16  \n",
       "bucket                                         30          30  \n",
       "bucket_pd                                   0.164       0.164  \n",
       "cum_diff                                     0.46        0.46  \n",
       "id_loan_x                                      11          11  \n",
       "id_loan_y                                      11          11  \n",
       "rating_base                                     B           B  "
      ]
     },
     "execution_count": 394,
     "metadata": {},
     "output_type": "execute_result"
    }
   ],
   "source": [
    "actual_payments_combined[actual_payments_combined.residual_principal_amount_borrower.isnull()].head().T"
   ]
  },
  {
   "cell_type": "code",
   "execution_count": 385,
   "metadata": {
    "collapsed": false
   },
   "outputs": [
    {
     "data": {
      "text/html": [
       "<div style=\"max-height:1000px;max-width:1500px;overflow:auto;\">\n",
       "<table border=\"1\" class=\"dataframe\">\n",
       "  <thead>\n",
       "    <tr style=\"text-align: right;\">\n",
       "      <th></th>\n",
       "      <th>iso_date</th>\n",
       "      <th>actual_amount_month</th>\n",
       "      <th>in_arrears_since</th>\n",
       "    </tr>\n",
       "  </thead>\n",
       "  <tbody>\n",
       "    <tr>\n",
       "      <th>6086</th>\n",
       "      <td>2015-02-28</td>\n",
       "      <td>0</td>\n",
       "      <td>2015-02-01</td>\n",
       "    </tr>\n",
       "    <tr>\n",
       "      <th>6087</th>\n",
       "      <td>2015-03-31</td>\n",
       "      <td>0</td>\n",
       "      <td>2015-02-01</td>\n",
       "    </tr>\n",
       "    <tr>\n",
       "      <th>6088</th>\n",
       "      <td>2015-04-30</td>\n",
       "      <td>0</td>\n",
       "      <td>2015-02-01</td>\n",
       "    </tr>\n",
       "  </tbody>\n",
       "</table>\n",
       "</div>"
      ],
      "text/plain": [
       "        iso_date  actual_amount_month in_arrears_since\n",
       "6086  2015-02-28                    0       2015-02-01\n",
       "6087  2015-03-31                    0       2015-02-01\n",
       "6088  2015-04-30                    0       2015-02-01"
      ]
     },
     "execution_count": 385,
     "metadata": {},
     "output_type": "execute_result"
    }
   ],
   "source": [
    "actual_payments.loc[actual_payments.fk_loan==loan_test,['iso_date','actual_amount_month','in_arrears_since']]"
   ]
  },
  {
   "cell_type": "code",
   "execution_count": 379,
   "metadata": {
    "collapsed": false
   },
   "outputs": [],
   "source": [
    "pd.concat(df_tests).to_clipboard()"
   ]
  },
  {
   "cell_type": "code",
   "execution_count": null,
   "metadata": {
    "collapsed": true
   },
   "outputs": [],
   "source": []
  },
  {
   "cell_type": "code",
   "execution_count": 274,
   "metadata": {
    "collapsed": false
   },
   "outputs": [
    {
     "data": {
      "text/plain": [
       "20    payback_complete\n",
       "Name: payback_state, dtype: object"
      ]
     },
     "execution_count": 274,
     "metadata": {},
     "output_type": "execute_result"
    }
   ],
   "source": [
    "loans[loans.fk_loan==loan_test].payback_state"
   ]
  },
  {
   "cell_type": "code",
   "execution_count": 387,
   "metadata": {
    "collapsed": false
   },
   "outputs": [
    {
     "data": {
      "text/html": [
       "<div style=\"max-height:1000px;max-width:1500px;overflow:auto;\">\n",
       "<table border=\"1\" class=\"dataframe\">\n",
       "  <thead>\n",
       "    <tr style=\"text-align: right;\">\n",
       "      <th></th>\n",
       "      <th>rating_base</th>\n",
       "      <th>fk_loan</th>\n",
       "      <th>fk_user_investor</th>\n",
       "      <th>payment</th>\n",
       "      <th>date</th>\n",
       "      <th>dcf</th>\n",
       "    </tr>\n",
       "  </thead>\n",
       "  <tbody>\n",
       "  </tbody>\n",
       "</table>\n",
       "</div>"
      ],
      "text/plain": [
       "Empty DataFrame\n",
       "Columns: [rating_base, fk_loan, fk_user_investor, payment, date, dcf]\n",
       "Index: []"
      ]
     },
     "execution_count": 387,
     "metadata": {},
     "output_type": "execute_result"
    }
   ],
   "source": [
    "recoveries[recoveries.fk_loan==921]"
   ]
  },
  {
   "cell_type": "code",
   "execution_count": 281,
   "metadata": {
    "collapsed": false
   },
   "outputs": [
    {
     "data": {
      "text/plain": [
       "59"
      ]
     },
     "execution_count": 281,
     "metadata": {},
     "output_type": "execute_result"
    }
   ],
   "source": [
    "((loans.originated_since_date<datetime.date(2015,2,28)) & (loans.payback_state=='payback_complete')).sum()"
   ]
  },
  {
   "cell_type": "code",
   "execution_count": 282,
   "metadata": {
    "collapsed": false
   },
   "outputs": [
    {
     "data": {
      "text/plain": [
       "1256"
      ]
     },
     "execution_count": 282,
     "metadata": {},
     "output_type": "execute_result"
    }
   ],
   "source": [
    "((loans.originated_since_date<datetime.date(2015,2,28))).sum()"
   ]
  },
  {
   "cell_type": "code",
   "execution_count": 618,
   "metadata": {
    "collapsed": false
   },
   "outputs": [],
   "source": [
    "future_pd_30360_origpd_all[(future_pd_30360_origpd_all.fk_loan==330) & (future_pd_30360_origpd_all.fk_user_investor==63)].to_clipboard()"
   ]
  },
  {
   "cell_type": "code",
   "execution_count": 686,
   "metadata": {
    "collapsed": false
   },
   "outputs": [],
   "source": [
    "cashflows_act_investor_20150430_def=generate_cashflows_act_investor(actual_payments_combined,loan_fundings1,'2015-04-30',payment_plans_combined)"
   ]
  },
  {
   "cell_type": "code",
   "execution_count": 644,
   "metadata": {
    "collapsed": false
   },
   "outputs": [
    {
     "data": {
      "text/plain": [
       "array([ 27,  76,  85,  88, 299, 355, 362, 439, 449, 675], dtype=int64)"
      ]
     },
     "execution_count": 644,
     "metadata": {},
     "output_type": "execute_result"
    }
   ],
   "source": [
    "defs=actual_payments_combined.loc[(actual_payments_combined.iso_date==datetime.date(2015,4,30))& (actual_payments_combined.in_arrears_since_days_30360>90),['fk_loan','iso_date','in_arrears_since_days_30360']].fk_loan.unique()\n",
    "defs"
   ]
  },
  {
   "cell_type": "code",
   "execution_count": 654,
   "metadata": {
    "collapsed": false
   },
   "outputs": [],
   "source": [
    "cashflows_act_investor_20150430[(cashflows_act_investor_20150430.id_loan==27) & (cashflows_act_investor_20150430.fk_user_investor==2190)].to_clipboard()"
   ]
  },
  {
   "cell_type": "code",
   "execution_count": null,
   "metadata": {
    "collapsed": false
   },
   "outputs": [],
   "source": [
    "z=cashflows_act_investor_20150430_def\n",
    "z[(z.id_loan==85) & (z.fk_user_investor==9614)].to_clipboard()"
   ]
  },
  {
   "cell_type": "code",
   "execution_count": 658,
   "metadata": {
    "collapsed": false
   },
   "outputs": [],
   "source": [
    "cashflows_act_investor_20150430_def=add_loan_rating(cashflows_act_investor_20150430_def,loans1)"
   ]
  },
  {
   "cell_type": "code",
   "execution_count": 691,
   "metadata": {
    "collapsed": false
   },
   "outputs": [
    {
     "data": {
      "text/html": [
       "<div style=\"max-height:1000px;max-width:1500px;overflow:auto;\">\n",
       "<table border=\"1\" class=\"dataframe\">\n",
       "  <thead>\n",
       "    <tr style=\"text-align: right;\">\n",
       "      <th></th>\n",
       "      <th>dwh_country_id</th>\n",
       "      <th>id_loan_funding</th>\n",
       "      <th>fk_loan</th>\n",
       "      <th>fk_loan_request</th>\n",
       "      <th>fk_user</th>\n",
       "      <th>country_name</th>\n",
       "      <th>currency_code</th>\n",
       "      <th>loan_request_creation_date</th>\n",
       "      <th>amount</th>\n",
       "      <th>investment_yield</th>\n",
       "      <th>...</th>\n",
       "      <th>created_at</th>\n",
       "      <th>updated_at</th>\n",
       "      <th>dwh_created</th>\n",
       "      <th>dwh_last_modified</th>\n",
       "      <th>id_loan</th>\n",
       "      <th>originated_since_date</th>\n",
       "      <th>originated_since_date_EOM</th>\n",
       "      <th>payback_day</th>\n",
       "      <th>principal_amount</th>\n",
       "      <th>loan_coverage1</th>\n",
       "    </tr>\n",
       "  </thead>\n",
       "  <tbody>\n",
       "    <tr>\n",
       "      <th>13</th>\n",
       "      <td>1</td>\n",
       "      <td>652</td>\n",
       "      <td>3</td>\n",
       "      <td>10</td>\n",
       "      <td>38</td>\n",
       "      <td>Germany</td>\n",
       "      <td>EUR</td>\n",
       "      <td>2013-11-30</td>\n",
       "      <td>800</td>\n",
       "      <td>4.7033</td>\n",
       "      <td>...</td>\n",
       "      <td>2013-12-09 11:53:09</td>\n",
       "      <td>2015-05-14 09:16:07</td>\n",
       "      <td>2014-02-21 17:33:03.857077</td>\n",
       "      <td>2015-05-14 10:21:02.718089</td>\n",
       "      <td>3</td>\n",
       "      <td>2014-01-10</td>\n",
       "      <td>2014-01-25</td>\n",
       "      <td>15</td>\n",
       "      <td>3800</td>\n",
       "      <td>21.052632</td>\n",
       "    </tr>\n",
       "  </tbody>\n",
       "</table>\n",
       "<p>1 rows × 33 columns</p>\n",
       "</div>"
      ],
      "text/plain": [
       "    dwh_country_id  id_loan_funding  fk_loan  fk_loan_request  fk_user  \\\n",
       "13               1              652        3               10       38   \n",
       "\n",
       "   country_name currency_code loan_request_creation_date  amount  \\\n",
       "13      Germany           EUR                 2013-11-30     800   \n",
       "\n",
       "    investment_yield      ...                created_at          updated_at  \\\n",
       "13            4.7033      ...       2013-12-09 11:53:09 2015-05-14 09:16:07   \n",
       "\n",
       "                  dwh_created          dwh_last_modified  id_loan  \\\n",
       "13 2014-02-21 17:33:03.857077 2015-05-14 10:21:02.718089        3   \n",
       "\n",
       "    originated_since_date  originated_since_date_EOM payback_day  \\\n",
       "13             2014-01-10                 2014-01-25          15   \n",
       "\n",
       "    principal_amount loan_coverage1  \n",
       "13              3800      21.052632  \n",
       "\n",
       "[1 rows x 33 columns]"
      ]
     },
     "execution_count": 691,
     "metadata": {},
     "output_type": "execute_result"
    }
   ],
   "source": [
    "z=loan_fundings1\n",
    "z[(z.fk_loan==3) & (z.fk_user==38)]"
   ]
  },
  {
   "cell_type": "markdown",
   "metadata": {},
   "source": [
    "For actual - to EOM valuation date, we use principal outstanding (ie including in arrears principal)\n",
    "For actual_origpd/arrears - using future cashflows we take future cashflows (ie after EOM date) rather than last paid principal"
   ]
  },
  {
   "cell_type": "code",
   "execution_count": 542,
   "metadata": {
    "collapsed": false
   },
   "outputs": [],
   "source": [
    "cashflows_act_investor_20150430=generate_cashflows_act_investor(actual_payments_combined,loan_fundings1,'2015-04-30',payment_plans_combined)\n",
    "cashflows_act_arrears_investor=generate_cashflows(future_pd_30360_arrears,loan_fundings1,True,'2015-04-30',  actual_payments_combined)\n",
    "cashflows_act_origpd_investor=generate_cashflows(future_pd_30360_origpd,loan_fundings1,True,'2015-04-30', actual_payments_combined)\n",
    "\n",
    "cashflows_act_arrears_latest_paid_investor=generate_cashflows(future_pd_30360_arrears_latest_paid,loan_fundings1,True,'2015-04-30',  actual_payments_combined)\n",
    "cashflows_act_origpd_latest_paid_investor=generate_cashflows(future_pd_30360_origpd_latest_paid,loan_fundings1,True,'2015-04-30', actual_payments_combined)\n",
    "\n"
   ]
  },
  {
   "cell_type": "code",
   "execution_count": 543,
   "metadata": {
    "collapsed": true
   },
   "outputs": [],
   "source": [
    "cashflows_plan_origpd_all=generate_cashflows(future_pd_30360_origpd_all,loan_fundings1,True)\n",
    "cashflows_plan_origpd_noshift_all=generate_cashflows(future_pd_30360_origpd_all,loan_fundings1,False)\n"
   ]
  },
  {
   "cell_type": "code",
   "execution_count": 544,
   "metadata": {
    "collapsed": false
   },
   "outputs": [],
   "source": [
    "cashflows_plan_investor_20150430=generate_cashflows_pp(payment_plans_combined,loan_fundings1,loans,'2015-04-30')\n",
    "cashflows_plan_investor_all=generate_cashflows_pp(payment_plans_combined,loan_fundings1,loans)"
   ]
  },
  {
   "cell_type": "code",
   "execution_count": 545,
   "metadata": {
    "collapsed": false
   },
   "outputs": [],
   "source": [
    "def replace_repaid(actual_cashflows,plan_cashflows):\n",
    "    return pd.concat([actual_cashflows[actual_cashflows.payback_state!='payback_complete'],\n",
    "                      plan_cashflows[plan_cashflows.payback_state=='payback_complete']],ignore_index=True)"
   ]
  },
  {
   "cell_type": "code",
   "execution_count": 546,
   "metadata": {
    "collapsed": false
   },
   "outputs": [],
   "source": [
    "cashflows_act_investor_20150430_repaid = replace_repaid(cashflows_act_investor_20150430,cashflows_plan_investor_all)\n",
    "cashflows_act_arrears_latest_paid_investor_repaid = replace_repaid( cashflows_act_arrears_latest_paid_investor,cashflows_plan_investor_all)\n",
    "cashflows_act_origpd_latest_paid_investor_repaid = replace_repaid( cashflows_act_origpd_latest_paid_investor,cashflows_plan_investor_all)\n"
   ]
  },
  {
   "cell_type": "code",
   "execution_count": 275,
   "metadata": {
    "collapsed": false
   },
   "outputs": [],
   "source": [
    "payment_plans_combined[(payment_plans_combined.fk_loan==34) & (payment_plans_combined.fk_user_investor==38)].to_clipboard()"
   ]
  },
  {
   "cell_type": "code",
   "execution_count": 273,
   "metadata": {
    "collapsed": false
   },
   "outputs": [],
   "source": [
    "cashflows_act_investor_EOM[(cashflows_act_investor_EOM.id_loan==34) & (cashflows_act_investor_EOM.fk_user_investor==38)].to_clipboard()"
   ]
  },
  {
   "cell_type": "code",
   "execution_count": 255,
   "metadata": {
    "collapsed": false
   },
   "outputs": [],
   "source": [
    "cashflows_plan_origpd_noshift_all[(cashflows_plan_origpd_noshift_all.id_loan==574) & (cashflows_plan_origpd_noshift_all.fk_user_investor==31192)].to_clipboard()"
   ]
  },
  {
   "cell_type": "code",
   "execution_count": 256,
   "metadata": {
    "collapsed": true
   },
   "outputs": [],
   "source": [
    "future_pd_30360_origpd_all[(future_pd_30360_origpd_all.fk_loan==574) & (future_pd_30360_origpd_all.fk_user_investor==31192)].to_clipboard()"
   ]
  },
  {
   "cell_type": "code",
   "execution_count": 38,
   "metadata": {
    "collapsed": false
   },
   "outputs": [
    {
     "ename": "NameError",
     "evalue": "name 'cashflows_act_investor' is not defined",
     "output_type": "error",
     "traceback": [
      "\u001b[1;31m---------------------------------------------------------------------------\u001b[0m",
      "\u001b[1;31mNameError\u001b[0m                                 Traceback (most recent call last)",
      "\u001b[1;32m<ipython-input-38-56b6999d409e>\u001b[0m in \u001b[0;36m<module>\u001b[1;34m()\u001b[0m\n\u001b[1;32m----> 1\u001b[1;33m \u001b[0mloans_act_xirr\u001b[0m\u001b[1;33m=\u001b[0m\u001b[0mcashflows_act_investor\u001b[0m\u001b[1;33m.\u001b[0m\u001b[0mgroupby\u001b[0m\u001b[1;33m(\u001b[0m\u001b[1;34m'id_loan'\u001b[0m\u001b[1;33m)\u001b[0m\u001b[1;33m.\u001b[0m\u001b[0mapply\u001b[0m\u001b[1;33m(\u001b[0m\u001b[1;32mlambda\u001b[0m \u001b[0mx\u001b[0m\u001b[1;33m:\u001b[0m \u001b[0mxirr\u001b[0m\u001b[1;33m(\u001b[0m\u001b[0mx\u001b[0m\u001b[1;33m.\u001b[0m\u001b[0mpayment\u001b[0m\u001b[1;33m,\u001b[0m\u001b[0mx\u001b[0m\u001b[1;33m.\u001b[0m\u001b[0mdcf\u001b[0m\u001b[1;33m)\u001b[0m\u001b[1;33m)\u001b[0m\u001b[1;33m\u001b[0m\u001b[0m\n\u001b[0m",
      "\u001b[1;31mNameError\u001b[0m: name 'cashflows_act_investor' is not defined"
     ]
    }
   ],
   "source": [
    "loans_act_xirr=cashflows_act_investor.groupby('id_loan').apply(lambda x: xirr(x.payment,x.dcf))"
   ]
  },
  {
   "cell_type": "code",
   "execution_count": 560,
   "metadata": {
    "collapsed": true
   },
   "outputs": [],
   "source": [
    "loans_act_arrears_latest_paid_xirr=cashflows_act_arrears_latest_paid_investor.groupby('id_loan').apply(lambda x: xirr(x.payment,x.dcf))\n",
    "loans_act_origpd_latest_paid_xirr=cashflows_act_origpd_latest_paid_investor.groupby('id_loan').apply(lambda x: xirr(x.payment,x.dcf))"
   ]
  },
  {
   "cell_type": "code",
   "execution_count": 559,
   "metadata": {
    "collapsed": true
   },
   "outputs": [],
   "source": [
    "loans_act_arrears_latest_paid_repaid_xirr=cashflows_act_arrears_latest_paid_investor_repaid.groupby('id_loan').apply(lambda x: xirr(x.payment,x.dcf))\n",
    "loans_act_origpd_latest_paid__repaid_xirr=cashflows_act_origpd_latest_paid_investor_repaid.groupby('id_loan').apply(lambda x: xirr(x.payment,x.dcf))"
   ]
  },
  {
   "cell_type": "code",
   "execution_count": 151,
   "metadata": {
    "collapsed": false
   },
   "outputs": [],
   "source": [
    "cashflows_act_arrears_investor[(cashflows_act_arrears_investor.id_loan==675) & (cashflows_act_arrears_investor.fk_user_investor==38)].to_clipboard()"
   ]
  },
  {
   "cell_type": "code",
   "execution_count": 548,
   "metadata": {
    "collapsed": false
   },
   "outputs": [],
   "source": [
    "loans_act_20150430_xirr=cashflows_act_investor_20150430.groupby('id_loan').apply(lambda x: xirr(x.payment,x.dcf))"
   ]
  },
  {
   "cell_type": "code",
   "execution_count": 549,
   "metadata": {
    "collapsed": true
   },
   "outputs": [],
   "source": [
    "loans_act_20150430_repaid_xirr=cashflows_act_investor_20150430_repaid.groupby('id_loan').apply(lambda x: xirr(x.payment,x.dcf))"
   ]
  },
  {
   "cell_type": "code",
   "execution_count": 552,
   "metadata": {
    "collapsed": true
   },
   "outputs": [],
   "source": [
    "loans_act_arrears_xirr=cashflows_act_arrears_investor.groupby('id_loan').apply(lambda x: xirr(x.payment,x.dcf))"
   ]
  },
  {
   "cell_type": "code",
   "execution_count": 551,
   "metadata": {
    "collapsed": true
   },
   "outputs": [],
   "source": [
    "loans_act_origpd_xirr=cashflows_act_origpd_investor.groupby('id_loan').apply(lambda x: xirr(x.payment,x.dcf))"
   ]
  },
  {
   "cell_type": "code",
   "execution_count": 553,
   "metadata": {
    "collapsed": true
   },
   "outputs": [],
   "source": [
    "loans_plan_origpd_xirr=cashflows_plan_origpd_all.groupby('id_loan').apply(lambda x: xirr(x.payment,x.dcf))"
   ]
  },
  {
   "cell_type": "code",
   "execution_count": 555,
   "metadata": {
    "collapsed": true
   },
   "outputs": [],
   "source": [
    "loans_plan_origpd_noshift_xirr=cashflows_plan_origpd_noshift_all.groupby('id_loan').apply(lambda x: xirr(x.payment,x.dcf))"
   ]
  },
  {
   "cell_type": "code",
   "execution_count": 557,
   "metadata": {
    "collapsed": true
   },
   "outputs": [],
   "source": [
    "loans_plan_20150430_xirr=cashflows_plan_investor_20150430.groupby('id_loan').apply(lambda x: xirr(x.payment,x.dcf))"
   ]
  },
  {
   "cell_type": "code",
   "execution_count": 242,
   "metadata": {
    "collapsed": false
   },
   "outputs": [
    {
     "data": {
      "text/plain": [
       "0.084111226975740833"
      ]
     },
     "execution_count": 242,
     "metadata": {},
     "output_type": "execute_result"
    }
   ],
   "source": [
    "loans_plan_origpd_xirr[350]"
   ]
  },
  {
   "cell_type": "code",
   "execution_count": 249,
   "metadata": {
    "collapsed": false
   },
   "outputs": [],
   "source": [
    "cashflows_plan_origpd_noshift_all[(cashflows_plan_origpd_noshift_all.id_loan==210)&(cashflows_plan_origpd_noshift_all.fk_user_investor==25151)].to_clipboard()"
   ]
  },
  {
   "cell_type": "code",
   "execution_count": 558,
   "metadata": {
    "collapsed": true
   },
   "outputs": [],
   "source": [
    "loans_plan_all_xirr=cashflows_plan_investor_all.groupby('id_loan').apply(lambda x: xirr(x.payment,x.dcf))"
   ]
  },
  {
   "cell_type": "markdown",
   "metadata": {},
   "source": [
    "plan_all: assumes all payments were made according to plan\n",
    "\n",
    "\n",
    "act_EOM: uses actual payments until reporting date, and assumes outstanding principal repaid\n",
    "\n",
    "\n",
    "act_origpd:: uses actual payments until reporting date, and predicts payments for subsequent dates (so missing payments will never be paid back)\n",
    "\n",
    "\n",
    "act_origpd_latest_paid:: uses actual payments until reporting date, and predicts payments for remaining loan ( including currently in arrears)\n",
    "\n",
    "\n",
    "act_arrears - same but with inarrears pd"
   ]
  },
  {
   "cell_type": "code",
   "execution_count": 195,
   "metadata": {
    "collapsed": false
   },
   "outputs": [
    {
     "data": {
      "text/html": [
       "<div style=\"max-height:1000px;max-width:1500px;overflow:auto;\">\n",
       "<table border=\"1\" class=\"dataframe\">\n",
       "  <thead>\n",
       "    <tr style=\"text-align: right;\">\n",
       "      <th></th>\n",
       "      <th>id_loan</th>\n",
       "      <th>fk_user_investor</th>\n",
       "      <th>date</th>\n",
       "      <th>payment</th>\n",
       "      <th>dcf</th>\n",
       "      <th>originated_since_date</th>\n",
       "      <th>rating_base</th>\n",
       "      <th>rating_switch</th>\n",
       "      <th>payback_state</th>\n",
       "    </tr>\n",
       "  </thead>\n",
       "  <tbody>\n",
       "    <tr>\n",
       "      <th>0</th>\n",
       "      <td>3</td>\n",
       "      <td>38</td>\n",
       "      <td>2014-02-15</td>\n",
       "      <td>34.99</td>\n",
       "      <td>1.123288</td>\n",
       "      <td>2014-01-10</td>\n",
       "      <td>C</td>\n",
       "      <td>1</td>\n",
       "      <td>payback_received</td>\n",
       "    </tr>\n",
       "    <tr>\n",
       "      <th>1</th>\n",
       "      <td>3</td>\n",
       "      <td>38</td>\n",
       "      <td>2014-03-15</td>\n",
       "      <td>34.99</td>\n",
       "      <td>1.046575</td>\n",
       "      <td>2014-01-10</td>\n",
       "      <td>C</td>\n",
       "      <td>1</td>\n",
       "      <td>payback_received</td>\n",
       "    </tr>\n",
       "    <tr>\n",
       "      <th>2</th>\n",
       "      <td>3</td>\n",
       "      <td>38</td>\n",
       "      <td>2014-04-15</td>\n",
       "      <td>34.99</td>\n",
       "      <td>0.961644</td>\n",
       "      <td>2014-01-10</td>\n",
       "      <td>C</td>\n",
       "      <td>1</td>\n",
       "      <td>payback_received</td>\n",
       "    </tr>\n",
       "    <tr>\n",
       "      <th>3</th>\n",
       "      <td>3</td>\n",
       "      <td>38</td>\n",
       "      <td>2014-05-15</td>\n",
       "      <td>34.99</td>\n",
       "      <td>0.879452</td>\n",
       "      <td>2014-01-10</td>\n",
       "      <td>C</td>\n",
       "      <td>1</td>\n",
       "      <td>payback_received</td>\n",
       "    </tr>\n",
       "    <tr>\n",
       "      <th>4</th>\n",
       "      <td>3</td>\n",
       "      <td>38</td>\n",
       "      <td>2014-06-15</td>\n",
       "      <td>34.99</td>\n",
       "      <td>0.794521</td>\n",
       "      <td>2014-01-10</td>\n",
       "      <td>C</td>\n",
       "      <td>1</td>\n",
       "      <td>payback_received</td>\n",
       "    </tr>\n",
       "  </tbody>\n",
       "</table>\n",
       "</div>"
      ],
      "text/plain": [
       "   id_loan  fk_user_investor       date  payment       dcf  \\\n",
       "0        3                38 2014-02-15    34.99  1.123288   \n",
       "1        3                38 2014-03-15    34.99  1.046575   \n",
       "2        3                38 2014-04-15    34.99  0.961644   \n",
       "3        3                38 2014-05-15    34.99  0.879452   \n",
       "4        3                38 2014-06-15    34.99  0.794521   \n",
       "\n",
       "  originated_since_date rating_base  rating_switch     payback_state  \n",
       "0            2014-01-10           C              1  payback_received  \n",
       "1            2014-01-10           C              1  payback_received  \n",
       "2            2014-01-10           C              1  payback_received  \n",
       "3            2014-01-10           C              1  payback_received  \n",
       "4            2014-01-10           C              1  payback_received  "
      ]
     },
     "execution_count": 195,
     "metadata": {},
     "output_type": "execute_result"
    }
   ],
   "source": [
    "cashflows_plan_investor_20150430.head()"
   ]
  },
  {
   "cell_type": "code",
   "execution_count": 587,
   "metadata": {
    "collapsed": false
   },
   "outputs": [],
   "source": [
    "#loans_xirr=pd.DataFrame({'plan':loan_pp_xirr,'origpd':loans_fut_xirr_origpd, 'inarr':loans_fut_xirr_arrears})\n",
    "loans_xirr=pd.DataFrame({'plan_all':loans_plan_all_xirr,\\\n",
    "                         'plan_20150430':loans_plan_20150430_xirr,\\\n",
    "                         'act_20150430':loans_act_20150430_xirr,\n",
    "                         'act_20150430_repaid':loans_act_20150430_repaid_xirr,\n",
    "                         'act_origpd':loans_act_origpd_xirr, \n",
    "                         'act_arrears' :loans_act_arrears_xirr,\n",
    "                         'act_origpd_latest_paid':loans_act_origpd_latest_paid_xirr, \n",
    "                         'act_origpd_latest_paid_repaid':loans_act_origpd_latest_paid__repaid_xirr, \n",
    "                         'act_arrears_latest_paid' :loans_act_arrears_latest_paid_xirr,\n",
    "                         'act_arrears_latest_paid_repaid' :loans_act_arrears_latest_paid_repaid_xirr,\n",
    "                        'plan_origpd': loans_plan_origpd_xirr, \n",
    "                         'plan_origpd_noshift': loans_plan_origpd_noshift_xirr \n",
    "                        })\n",
    "loans_xirr=loans_xirr.merge(loans1[['id_loan','date_of_first_loan_offer','originated_since_date','principal_amount','payback_state','pd','bucket_pd',\n",
    "                                    'rating','base_date', 'base_return']],\\\n",
    "                            left_index=True,right_on='id_loan')\n",
    "loans_xirr['orig_month']=np.array(loans_xirr.originated_since_date,'datetime64[M]')\n",
    "loans_xirr['rating_base']=loans_xirr['rating'].str[0]\n",
    "\n",
    "loans_xirr=loans_xirr.reindex(columns=['id_loan','date_of_first_loan_offer','originated_since_date','orig_month','principal_amount','payback_state',\\\n",
    "                                       'pd','bucket_pd','rating','rating_base','base_date','base_return', 'plan_all','plan_20150430',\\\n",
    "                                       'act_20150430','act_20150430_repaid', 'plan_origpd_noshift','plan_origpd', \\\n",
    "                                      'act_origpd', 'act_arrears', \\\n",
    "                                      'act_origpd_latest_paid','act_origpd_latest_paid_repaid', \\\n",
    "                                       'act_arrears_latest_paid', 'act_arrears_latest_paid_repaid'\n",
    "                                      ])\n",
    "loans_xirr=abs_diff(loans_xirr,[('base_return','plan_origpd_noshift'),\n",
    "                                ('plan_origpd_noshift', 'plan_origpd'),\n",
    "                                ('plan_20150430','act_20150430'),\n",
    "                                ('act_20150430','act_arrears_latest_paid_repaid')])\n",
    "                                \n",
    "                                \n",
    "loans_xirr.to_clipboard(index=False)"
   ]
  },
  {
   "cell_type": "code",
   "execution_count": 268,
   "metadata": {
    "collapsed": false
   },
   "outputs": [
    {
     "data": {
      "text/html": [
       "<div style=\"max-height:1000px;max-width:1500px;overflow:auto;\">\n",
       "<table border=\"1\" class=\"dataframe\">\n",
       "  <thead>\n",
       "    <tr style=\"text-align: right;\">\n",
       "      <th></th>\n",
       "      <th>id_loan</th>\n",
       "      <th>originated_since_date</th>\n",
       "      <th>orig_month</th>\n",
       "      <th>principal_amount</th>\n",
       "      <th>payback_state</th>\n",
       "      <th>pd</th>\n",
       "      <th>bucket_pd</th>\n",
       "      <th>rating</th>\n",
       "      <th>rating_base</th>\n",
       "      <th>rating_switch</th>\n",
       "      <th>plan_all</th>\n",
       "      <th>plan_20150430</th>\n",
       "      <th>act_EOM</th>\n",
       "      <th>plan_origpd_noshift</th>\n",
       "      <th>plan_origpd</th>\n",
       "      <th>act_origpd</th>\n",
       "      <th>act_arrears</th>\n",
       "      <th>act_origpd_latest_paid</th>\n",
       "      <th>act_arrears_latest_paid</th>\n",
       "    </tr>\n",
       "  </thead>\n",
       "  <tbody>\n",
       "    <tr>\n",
       "      <th>20</th>\n",
       "      <td>27</td>\n",
       "      <td>2014-01-20</td>\n",
       "      <td>2014-01-01</td>\n",
       "      <td>5000</td>\n",
       "      <td>payback_complete</td>\n",
       "      <td>1.80</td>\n",
       "      <td>1.000</td>\n",
       "      <td>A3</td>\n",
       "      <td>A</td>\n",
       "      <td>1</td>\n",
       "      <td>0.047859</td>\n",
       "      <td>0.047859</td>\n",
       "      <td>-0.885755</td>\n",
       "      <td>0.040468</td>\n",
       "      <td>0.042525</td>\n",
       "      <td>-0.885755</td>\n",
       "      <td>-0.885755</td>\n",
       "      <td>0.041265</td>\n",
       "      <td>-0.281649</td>\n",
       "    </tr>\n",
       "    <tr>\n",
       "      <th>25</th>\n",
       "      <td>34</td>\n",
       "      <td>2014-01-29</td>\n",
       "      <td>2014-01-01</td>\n",
       "      <td>8000</td>\n",
       "      <td>payback_received</td>\n",
       "      <td>10.25</td>\n",
       "      <td>0.164</td>\n",
       "      <td>E4</td>\n",
       "      <td>E</td>\n",
       "      <td>1</td>\n",
       "      <td>0.146789</td>\n",
       "      <td>0.143436</td>\n",
       "      <td>0.121602</td>\n",
       "      <td>0.069296</td>\n",
       "      <td>0.070657</td>\n",
       "      <td>0.099493</td>\n",
       "      <td>0.075065</td>\n",
       "      <td>0.107446</td>\n",
       "      <td>0.081820</td>\n",
       "    </tr>\n",
       "    <tr>\n",
       "      <th>29</th>\n",
       "      <td>35</td>\n",
       "      <td>2014-01-29</td>\n",
       "      <td>2014-01-01</td>\n",
       "      <td>5000</td>\n",
       "      <td>payback</td>\n",
       "      <td>5.07</td>\n",
       "      <td>0.164</td>\n",
       "      <td>C2</td>\n",
       "      <td>C</td>\n",
       "      <td>1</td>\n",
       "      <td>0.079247</td>\n",
       "      <td>0.079233</td>\n",
       "      <td>0.025790</td>\n",
       "      <td>0.055918</td>\n",
       "      <td>0.060880</td>\n",
       "      <td>0.032465</td>\n",
       "      <td>0.021970</td>\n",
       "      <td>0.076651</td>\n",
       "      <td>0.064536</td>\n",
       "    </tr>\n",
       "    <tr>\n",
       "      <th>35</th>\n",
       "      <td>44</td>\n",
       "      <td>2014-02-10</td>\n",
       "      <td>2014-02-01</td>\n",
       "      <td>5000</td>\n",
       "      <td>payback</td>\n",
       "      <td>10.25</td>\n",
       "      <td>0.164</td>\n",
       "      <td>E4</td>\n",
       "      <td>E</td>\n",
       "      <td>1</td>\n",
       "      <td>0.143996</td>\n",
       "      <td>0.139811</td>\n",
       "      <td>0.112054</td>\n",
       "      <td>0.093955</td>\n",
       "      <td>0.098556</td>\n",
       "      <td>0.107971</td>\n",
       "      <td>0.092042</td>\n",
       "      <td>0.121196</td>\n",
       "      <td>0.104660</td>\n",
       "    </tr>\n",
       "    <tr>\n",
       "      <th>49</th>\n",
       "      <td>50</td>\n",
       "      <td>2014-02-13</td>\n",
       "      <td>2014-02-01</td>\n",
       "      <td>3000</td>\n",
       "      <td>payback</td>\n",
       "      <td>6.96</td>\n",
       "      <td>0.384</td>\n",
       "      <td>D2</td>\n",
       "      <td>D</td>\n",
       "      <td>1</td>\n",
       "      <td>0.110940</td>\n",
       "      <td>0.108226</td>\n",
       "      <td>0.054122</td>\n",
       "      <td>0.078254</td>\n",
       "      <td>0.081898</td>\n",
       "      <td>0.069243</td>\n",
       "      <td>-0.013235</td>\n",
       "      <td>0.093805</td>\n",
       "      <td>0.005128</td>\n",
       "    </tr>\n",
       "  </tbody>\n",
       "</table>\n",
       "</div>"
      ],
      "text/plain": [
       "    id_loan originated_since_date orig_month  principal_amount  \\\n",
       "20       27            2014-01-20 2014-01-01              5000   \n",
       "25       34            2014-01-29 2014-01-01              8000   \n",
       "29       35            2014-01-29 2014-01-01              5000   \n",
       "35       44            2014-02-10 2014-02-01              5000   \n",
       "49       50            2014-02-13 2014-02-01              3000   \n",
       "\n",
       "       payback_state     pd  bucket_pd rating rating_base  rating_switch  \\\n",
       "20  payback_complete   1.80      1.000     A3           A              1   \n",
       "25  payback_received  10.25      0.164     E4           E              1   \n",
       "29           payback   5.07      0.164     C2           C              1   \n",
       "35           payback  10.25      0.164     E4           E              1   \n",
       "49           payback   6.96      0.384     D2           D              1   \n",
       "\n",
       "    plan_all  plan_20150430   act_EOM  plan_origpd_noshift  plan_origpd  \\\n",
       "20  0.047859       0.047859 -0.885755             0.040468     0.042525   \n",
       "25  0.146789       0.143436  0.121602             0.069296     0.070657   \n",
       "29  0.079247       0.079233  0.025790             0.055918     0.060880   \n",
       "35  0.143996       0.139811  0.112054             0.093955     0.098556   \n",
       "49  0.110940       0.108226  0.054122             0.078254     0.081898   \n",
       "\n",
       "    act_origpd  act_arrears  act_origpd_latest_paid  act_arrears_latest_paid  \n",
       "20   -0.885755    -0.885755                0.041265                -0.281649  \n",
       "25    0.099493     0.075065                0.107446                 0.081820  \n",
       "29    0.032465     0.021970                0.076651                 0.064536  \n",
       "35    0.107971     0.092042                0.121196                 0.104660  \n",
       "49    0.069243    -0.013235                0.093805                 0.005128  "
      ]
     },
     "execution_count": 268,
     "metadata": {},
     "output_type": "execute_result"
    }
   ],
   "source": [
    "loans_xirr[loans_xirr.bucket_pd.notnull()].head()"
   ]
  },
  {
   "cell_type": "code",
   "execution_count": 225,
   "metadata": {
    "collapsed": false
   },
   "outputs": [
    {
     "data": {
      "text/html": [
       "<div style=\"max-height:1000px;max-width:1500px;overflow:auto;\">\n",
       "<table border=\"1\" class=\"dataframe\">\n",
       "  <thead>\n",
       "    <tr style=\"text-align: right;\">\n",
       "      <th></th>\n",
       "      <th>id_loan</th>\n",
       "      <th>originated_since_date</th>\n",
       "      <th>orig_month</th>\n",
       "      <th>principal_amount</th>\n",
       "      <th>payback_state</th>\n",
       "      <th>pd</th>\n",
       "      <th>bucket_pd</th>\n",
       "      <th>rating</th>\n",
       "      <th>rating_base</th>\n",
       "      <th>rating_switch</th>\n",
       "      <th>plan_all</th>\n",
       "      <th>plan_20150430</th>\n",
       "      <th>act_EOM</th>\n",
       "      <th>plan_origpd</th>\n",
       "      <th>act_origpd</th>\n",
       "      <th>act_arrears</th>\n",
       "      <th>act_origpd_latest_paid</th>\n",
       "      <th>act_arrears_latest_paid</th>\n",
       "    </tr>\n",
       "  </thead>\n",
       "  <tbody>\n",
       "    <tr>\n",
       "      <th>360</th>\n",
       "      <td>350</td>\n",
       "      <td>2014-09-02</td>\n",
       "      <td>2014-09-01</td>\n",
       "      <td>6500</td>\n",
       "      <td>payback</td>\n",
       "      <td>6.98</td>\n",
       "      <td>NaN</td>\n",
       "      <td>D2</td>\n",
       "      <td>D</td>\n",
       "      <td>2</td>\n",
       "      <td>0.123274</td>\n",
       "      <td>0.124471</td>\n",
       "      <td>0.124442</td>\n",
       "      <td>0.084111</td>\n",
       "      <td>0.101725</td>\n",
       "      <td>0.101725</td>\n",
       "      <td>0.101725</td>\n",
       "      <td>0.101725</td>\n",
       "    </tr>\n",
       "  </tbody>\n",
       "</table>\n",
       "</div>"
      ],
      "text/plain": [
       "     id_loan originated_since_date orig_month  principal_amount payback_state  \\\n",
       "360      350            2014-09-02 2014-09-01              6500       payback   \n",
       "\n",
       "       pd  bucket_pd rating rating_base  rating_switch  plan_all  \\\n",
       "360  6.98        NaN     D2           D              2  0.123274   \n",
       "\n",
       "     plan_20150430   act_EOM  plan_origpd  act_origpd  act_arrears  \\\n",
       "360       0.124471  0.124442     0.084111    0.101725     0.101725   \n",
       "\n",
       "     act_origpd_latest_paid  act_arrears_latest_paid  \n",
       "360                0.101725                 0.101725  "
      ]
     },
     "execution_count": 225,
     "metadata": {},
     "output_type": "execute_result"
    }
   ],
   "source": [
    "loans_xirr[loans_xirr.id_loan==350]"
   ]
  },
  {
   "cell_type": "code",
   "execution_count": 589,
   "metadata": {
    "collapsed": true
   },
   "outputs": [],
   "source": []
  },
  {
   "cell_type": "code",
   "execution_count": 222,
   "metadata": {
    "collapsed": false
   },
   "outputs": [],
   "source": [
    "future_pd_30360_origpd_all[(future_pd_30360_origpd_all.id_loan==350)& (future_pd_30360_origpd_all.fk_user_investor==88)].to_clipboard()"
   ]
  },
  {
   "cell_type": "code",
   "execution_count": 207,
   "metadata": {
    "collapsed": false
   },
   "outputs": [
    {
     "data": {
      "text/plain": [
       "8554    11.5504\n",
       "Name: investment_yield, dtype: float64"
      ]
     },
     "execution_count": 207,
     "metadata": {},
     "output_type": "execute_result"
    }
   ],
   "source": [
    "loan_fundings1[(loan_fundings1.fk_loan==350)&(loan_fundings1.fk_user==88)].investment_yield"
   ]
  },
  {
   "cell_type": "code",
   "execution_count": null,
   "metadata": {
    "collapsed": true
   },
   "outputs": [],
   "source": [
    "cashflow"
   ]
  },
  {
   "cell_type": "code",
   "execution_count": 590,
   "metadata": {
    "collapsed": false,
    "scrolled": true
   },
   "outputs": [],
   "source": [
    "\n",
    "rating_switch_plan_all_xirr=gen_rating(cashflows_plan_investor_all, '2015-01-31',[3,4,6,8,11,14])\n",
    "rating_switch_plan_origpd_xirr=gen_rating(cashflows_plan_origpd_all, '2015-01-31', [3,4,6,8,11,14])\n",
    "rating_switch_plan_20150430_xirr=gen_rating(cashflows_plan_investor_20150430, '2015-01-31', [3,4,6,8,11,14])\n",
    "rating_switch_act_20150430_repaid_xirr=gen_rating(cashflows_act_investor_20150430_repaid, '2015-01-31', [3,4,6,8,11,14])\n",
    "rating_switch_act_arrears_latest_paid_investor_repaid=gen_rating(cashflows_act_arrears_latest_paid_investor_repaid, '2015-01-31', [3,4,6,8,11,14])\n",
    "rating_switch_act_origpd_latest_paid_investor_repaid=gen_rating(cashflows_act_origpd_latest_paid_investor_repaid, '2015-01-31', [3,4,6,8,11,14])\n",
    "#rating_switch_act_xirr=gen_rating(cashflows_act_investor, '2015-02-28', [3,4,6,8,11,14])\n",
    "\n"
   ]
  },
  {
   "cell_type": "code",
   "execution_count": 594,
   "metadata": {
    "collapsed": false
   },
   "outputs": [
    {
     "data": {
      "text/plain": [
       "{30: 0.164,\n",
       " 60: 0.384,\n",
       " 90: 0.55,\n",
       " 120: 1,\n",
       " 150: 1,\n",
       " 180: 1,\n",
       " 210: 1,\n",
       " 240: 1,\n",
       " 270: 1}"
      ]
     },
     "execution_count": 594,
     "metadata": {},
     "output_type": "execute_result"
    }
   ],
   "source": [
    "arrears_dict"
   ]
  },
  {
   "cell_type": "code",
   "execution_count": 592,
   "metadata": {
    "collapsed": false
   },
   "outputs": [
    {
     "data": {
      "text/html": [
       "<div style=\"max-height:1000px;max-width:1500px;overflow:auto;\">\n",
       "<table border=\"1\" class=\"dataframe\">\n",
       "  <thead>\n",
       "    <tr style=\"text-align: right;\">\n",
       "      <th></th>\n",
       "      <th></th>\n",
       "      <th>act_20150430_repaid</th>\n",
       "      <th>act_arrears_latest_paid_repaid</th>\n",
       "      <th>plan_20150430</th>\n",
       "      <th>plan_all</th>\n",
       "      <th>plan_origpd</th>\n",
       "    </tr>\n",
       "    <tr>\n",
       "      <th>base_date</th>\n",
       "      <th>rating_base</th>\n",
       "      <th></th>\n",
       "      <th></th>\n",
       "      <th></th>\n",
       "      <th></th>\n",
       "      <th></th>\n",
       "    </tr>\n",
       "  </thead>\n",
       "  <tbody>\n",
       "    <tr>\n",
       "      <th rowspan=\"5\" valign=\"top\">2013-11-01</th>\n",
       "      <th>A</th>\n",
       "      <td>0.046398</td>\n",
       "      <td>0.042966</td>\n",
       "      <td>0.047052</td>\n",
       "      <td>0.047663</td>\n",
       "      <td>0.039846</td>\n",
       "    </tr>\n",
       "    <tr>\n",
       "      <th>B</th>\n",
       "      <td>0.045773</td>\n",
       "      <td>0.024875</td>\n",
       "      <td>0.054704</td>\n",
       "      <td>0.055155</td>\n",
       "      <td>0.035750</td>\n",
       "    </tr>\n",
       "    <tr>\n",
       "      <th>C</th>\n",
       "      <td>0.068110</td>\n",
       "      <td>0.049172</td>\n",
       "      <td>0.073975</td>\n",
       "      <td>0.073915</td>\n",
       "      <td>0.042027</td>\n",
       "    </tr>\n",
       "    <tr>\n",
       "      <th>D</th>\n",
       "      <td>0.107901</td>\n",
       "      <td>0.074283</td>\n",
       "      <td>0.112281</td>\n",
       "      <td>0.113947</td>\n",
       "      <td>0.065641</td>\n",
       "    </tr>\n",
       "    <tr>\n",
       "      <th>E</th>\n",
       "      <td>0.129219</td>\n",
       "      <td>0.096206</td>\n",
       "      <td>0.135040</td>\n",
       "      <td>0.135587</td>\n",
       "      <td>0.069020</td>\n",
       "    </tr>\n",
       "    <tr>\n",
       "      <th rowspan=\"5\" valign=\"top\">2014-07-01</th>\n",
       "      <th>A</th>\n",
       "      <td>0.031691</td>\n",
       "      <td>0.029720</td>\n",
       "      <td>0.031697</td>\n",
       "      <td>0.033768</td>\n",
       "      <td>0.028535</td>\n",
       "    </tr>\n",
       "    <tr>\n",
       "      <th>B</th>\n",
       "      <td>0.045688</td>\n",
       "      <td>0.035422</td>\n",
       "      <td>0.047638</td>\n",
       "      <td>0.049327</td>\n",
       "      <td>0.036157</td>\n",
       "    </tr>\n",
       "    <tr>\n",
       "      <th>C</th>\n",
       "      <td>0.080639</td>\n",
       "      <td>0.050308</td>\n",
       "      <td>0.092414</td>\n",
       "      <td>0.093909</td>\n",
       "      <td>0.062524</td>\n",
       "    </tr>\n",
       "    <tr>\n",
       "      <th>D</th>\n",
       "      <td>0.092931</td>\n",
       "      <td>0.056388</td>\n",
       "      <td>0.128877</td>\n",
       "      <td>0.130993</td>\n",
       "      <td>0.076537</td>\n",
       "    </tr>\n",
       "    <tr>\n",
       "      <th>E</th>\n",
       "      <td>0.119488</td>\n",
       "      <td>0.090670</td>\n",
       "      <td>0.131330</td>\n",
       "      <td>0.133426</td>\n",
       "      <td>0.081157</td>\n",
       "    </tr>\n",
       "    <tr>\n",
       "      <th rowspan=\"5\" valign=\"top\">2014-10-22</th>\n",
       "      <th>A</th>\n",
       "      <td>0.030765</td>\n",
       "      <td>0.026226</td>\n",
       "      <td>0.031646</td>\n",
       "      <td>0.032112</td>\n",
       "      <td>0.026758</td>\n",
       "    </tr>\n",
       "    <tr>\n",
       "      <th>B</th>\n",
       "      <td>0.038895</td>\n",
       "      <td>0.026691</td>\n",
       "      <td>0.042316</td>\n",
       "      <td>0.043121</td>\n",
       "      <td>0.029963</td>\n",
       "    </tr>\n",
       "    <tr>\n",
       "      <th>C</th>\n",
       "      <td>0.061009</td>\n",
       "      <td>0.034710</td>\n",
       "      <td>0.064779</td>\n",
       "      <td>0.065044</td>\n",
       "      <td>0.035143</td>\n",
       "    </tr>\n",
       "    <tr>\n",
       "      <th>D</th>\n",
       "      <td>0.075147</td>\n",
       "      <td>0.034469</td>\n",
       "      <td>0.095902</td>\n",
       "      <td>0.097162</td>\n",
       "      <td>0.041952</td>\n",
       "    </tr>\n",
       "    <tr>\n",
       "      <th>E</th>\n",
       "      <td>0.103581</td>\n",
       "      <td>0.041727</td>\n",
       "      <td>0.128717</td>\n",
       "      <td>0.131338</td>\n",
       "      <td>0.049799</td>\n",
       "    </tr>\n",
       "  </tbody>\n",
       "</table>\n",
       "</div>"
      ],
      "text/plain": [
       "                        act_20150430_repaid  act_arrears_latest_paid_repaid  \\\n",
       "base_date  rating_base                                                        \n",
       "2013-11-01 A                       0.046398                        0.042966   \n",
       "           B                       0.045773                        0.024875   \n",
       "           C                       0.068110                        0.049172   \n",
       "           D                       0.107901                        0.074283   \n",
       "           E                       0.129219                        0.096206   \n",
       "2014-07-01 A                       0.031691                        0.029720   \n",
       "           B                       0.045688                        0.035422   \n",
       "           C                       0.080639                        0.050308   \n",
       "           D                       0.092931                        0.056388   \n",
       "           E                       0.119488                        0.090670   \n",
       "2014-10-22 A                       0.030765                        0.026226   \n",
       "           B                       0.038895                        0.026691   \n",
       "           C                       0.061009                        0.034710   \n",
       "           D                       0.075147                        0.034469   \n",
       "           E                       0.103581                        0.041727   \n",
       "\n",
       "                        plan_20150430  plan_all  plan_origpd  \n",
       "base_date  rating_base                                        \n",
       "2013-11-01 A                 0.047052  0.047663     0.039846  \n",
       "           B                 0.054704  0.055155     0.035750  \n",
       "           C                 0.073975  0.073915     0.042027  \n",
       "           D                 0.112281  0.113947     0.065641  \n",
       "           E                 0.135040  0.135587     0.069020  \n",
       "2014-07-01 A                 0.031697  0.033768     0.028535  \n",
       "           B                 0.047638  0.049327     0.036157  \n",
       "           C                 0.092414  0.093909     0.062524  \n",
       "           D                 0.128877  0.130993     0.076537  \n",
       "           E                 0.131330  0.133426     0.081157  \n",
       "2014-10-22 A                 0.031646  0.032112     0.026758  \n",
       "           B                 0.042316  0.043121     0.029963  \n",
       "           C                 0.064779  0.065044     0.035143  \n",
       "           D                 0.095902  0.097162     0.041952  \n",
       "           E                 0.128717  0.131338     0.049799  "
      ]
     },
     "execution_count": 592,
     "metadata": {},
     "output_type": "execute_result"
    }
   ],
   "source": [
    "rating_switch_xirr=pd.DataFrame({'plan_all':rating_switch_plan_all_xirr,\\\n",
    "                                'plan_20150430':rating_switch_plan_20150430_xirr,\\\n",
    "                                'plan_origpd':rating_switch_plan_origpd_xirr,\\\n",
    "                                'act_20150430_repaid':rating_switch_act_20150430_repaid_xirr,\\\n",
    "                                'act_arrears_latest_paid_repaid':rating_switch_act_arrears_latest_paid_investor_repaid})\n",
    "rating_switch_xirr.to_clipboard()\n",
    "rating_switch_xirr\n",
    "                                "
   ]
  },
  {
   "cell_type": "code",
   "execution_count": 122,
   "metadata": {
    "collapsed": false
   },
   "outputs": [
    {
     "data": {
      "text/html": [
       "<div style=\"max-height:1000px;max-width:1500px;overflow:auto;\">\n",
       "<table border=\"1\" class=\"dataframe\">\n",
       "  <thead>\n",
       "    <tr style=\"text-align: right;\">\n",
       "      <th></th>\n",
       "      <th>bin</th>\n",
       "      <th>count</th>\n",
       "    </tr>\n",
       "  </thead>\n",
       "  <tbody>\n",
       "    <tr>\n",
       "      <th>0 </th>\n",
       "      <td>-0.50</td>\n",
       "      <td> 0</td>\n",
       "    </tr>\n",
       "    <tr>\n",
       "      <th>1 </th>\n",
       "      <td>-0.49</td>\n",
       "      <td> 0</td>\n",
       "    </tr>\n",
       "    <tr>\n",
       "      <th>2 </th>\n",
       "      <td>-0.48</td>\n",
       "      <td> 0</td>\n",
       "    </tr>\n",
       "    <tr>\n",
       "      <th>3 </th>\n",
       "      <td>-0.47</td>\n",
       "      <td> 0</td>\n",
       "    </tr>\n",
       "    <tr>\n",
       "      <th>4 </th>\n",
       "      <td>-0.46</td>\n",
       "      <td> 0</td>\n",
       "    </tr>\n",
       "    <tr>\n",
       "      <th>5 </th>\n",
       "      <td>-0.45</td>\n",
       "      <td> 0</td>\n",
       "    </tr>\n",
       "    <tr>\n",
       "      <th>6 </th>\n",
       "      <td>-0.44</td>\n",
       "      <td> 0</td>\n",
       "    </tr>\n",
       "    <tr>\n",
       "      <th>7 </th>\n",
       "      <td>-0.43</td>\n",
       "      <td> 0</td>\n",
       "    </tr>\n",
       "    <tr>\n",
       "      <th>8 </th>\n",
       "      <td>-0.42</td>\n",
       "      <td> 0</td>\n",
       "    </tr>\n",
       "    <tr>\n",
       "      <th>9 </th>\n",
       "      <td>-0.41</td>\n",
       "      <td> 0</td>\n",
       "    </tr>\n",
       "    <tr>\n",
       "      <th>10</th>\n",
       "      <td>-0.40</td>\n",
       "      <td> 0</td>\n",
       "    </tr>\n",
       "    <tr>\n",
       "      <th>11</th>\n",
       "      <td>-0.39</td>\n",
       "      <td> 0</td>\n",
       "    </tr>\n",
       "    <tr>\n",
       "      <th>12</th>\n",
       "      <td>-0.38</td>\n",
       "      <td> 1</td>\n",
       "    </tr>\n",
       "    <tr>\n",
       "      <th>13</th>\n",
       "      <td>-0.37</td>\n",
       "      <td> 0</td>\n",
       "    </tr>\n",
       "    <tr>\n",
       "      <th>14</th>\n",
       "      <td>-0.36</td>\n",
       "      <td> 0</td>\n",
       "    </tr>\n",
       "    <tr>\n",
       "      <th>15</th>\n",
       "      <td>-0.35</td>\n",
       "      <td> 0</td>\n",
       "    </tr>\n",
       "    <tr>\n",
       "      <th>16</th>\n",
       "      <td>-0.34</td>\n",
       "      <td> 0</td>\n",
       "    </tr>\n",
       "    <tr>\n",
       "      <th>17</th>\n",
       "      <td>-0.33</td>\n",
       "      <td> 1</td>\n",
       "    </tr>\n",
       "    <tr>\n",
       "      <th>18</th>\n",
       "      <td>-0.32</td>\n",
       "      <td> 0</td>\n",
       "    </tr>\n",
       "    <tr>\n",
       "      <th>19</th>\n",
       "      <td>-0.31</td>\n",
       "      <td> 0</td>\n",
       "    </tr>\n",
       "    <tr>\n",
       "      <th>20</th>\n",
       "      <td>-0.30</td>\n",
       "      <td> 0</td>\n",
       "    </tr>\n",
       "    <tr>\n",
       "      <th>21</th>\n",
       "      <td>-0.29</td>\n",
       "      <td> 0</td>\n",
       "    </tr>\n",
       "    <tr>\n",
       "      <th>22</th>\n",
       "      <td>-0.28</td>\n",
       "      <td> 0</td>\n",
       "    </tr>\n",
       "    <tr>\n",
       "      <th>23</th>\n",
       "      <td>-0.27</td>\n",
       "      <td> 0</td>\n",
       "    </tr>\n",
       "    <tr>\n",
       "      <th>24</th>\n",
       "      <td>-0.26</td>\n",
       "      <td> 0</td>\n",
       "    </tr>\n",
       "    <tr>\n",
       "      <th>25</th>\n",
       "      <td>-0.25</td>\n",
       "      <td> 0</td>\n",
       "    </tr>\n",
       "    <tr>\n",
       "      <th>26</th>\n",
       "      <td>-0.24</td>\n",
       "      <td> 0</td>\n",
       "    </tr>\n",
       "    <tr>\n",
       "      <th>27</th>\n",
       "      <td>-0.23</td>\n",
       "      <td> 0</td>\n",
       "    </tr>\n",
       "    <tr>\n",
       "      <th>28</th>\n",
       "      <td>-0.22</td>\n",
       "      <td> 0</td>\n",
       "    </tr>\n",
       "    <tr>\n",
       "      <th>29</th>\n",
       "      <td>-0.21</td>\n",
       "      <td> 0</td>\n",
       "    </tr>\n",
       "    <tr>\n",
       "      <th>...</th>\n",
       "      <td>...</td>\n",
       "      <td>...</td>\n",
       "    </tr>\n",
       "    <tr>\n",
       "      <th>70</th>\n",
       "      <td> 0.20</td>\n",
       "      <td> 0</td>\n",
       "    </tr>\n",
       "    <tr>\n",
       "      <th>71</th>\n",
       "      <td> 0.21</td>\n",
       "      <td> 0</td>\n",
       "    </tr>\n",
       "    <tr>\n",
       "      <th>72</th>\n",
       "      <td> 0.22</td>\n",
       "      <td> 0</td>\n",
       "    </tr>\n",
       "    <tr>\n",
       "      <th>73</th>\n",
       "      <td> 0.23</td>\n",
       "      <td> 0</td>\n",
       "    </tr>\n",
       "    <tr>\n",
       "      <th>74</th>\n",
       "      <td> 0.24</td>\n",
       "      <td> 0</td>\n",
       "    </tr>\n",
       "    <tr>\n",
       "      <th>75</th>\n",
       "      <td> 0.25</td>\n",
       "      <td> 0</td>\n",
       "    </tr>\n",
       "    <tr>\n",
       "      <th>76</th>\n",
       "      <td> 0.26</td>\n",
       "      <td> 0</td>\n",
       "    </tr>\n",
       "    <tr>\n",
       "      <th>77</th>\n",
       "      <td> 0.27</td>\n",
       "      <td> 0</td>\n",
       "    </tr>\n",
       "    <tr>\n",
       "      <th>78</th>\n",
       "      <td> 0.28</td>\n",
       "      <td> 0</td>\n",
       "    </tr>\n",
       "    <tr>\n",
       "      <th>79</th>\n",
       "      <td> 0.29</td>\n",
       "      <td> 0</td>\n",
       "    </tr>\n",
       "    <tr>\n",
       "      <th>80</th>\n",
       "      <td> 0.30</td>\n",
       "      <td> 0</td>\n",
       "    </tr>\n",
       "    <tr>\n",
       "      <th>81</th>\n",
       "      <td> 0.31</td>\n",
       "      <td> 0</td>\n",
       "    </tr>\n",
       "    <tr>\n",
       "      <th>82</th>\n",
       "      <td> 0.32</td>\n",
       "      <td> 0</td>\n",
       "    </tr>\n",
       "    <tr>\n",
       "      <th>83</th>\n",
       "      <td> 0.33</td>\n",
       "      <td> 0</td>\n",
       "    </tr>\n",
       "    <tr>\n",
       "      <th>84</th>\n",
       "      <td> 0.34</td>\n",
       "      <td> 0</td>\n",
       "    </tr>\n",
       "    <tr>\n",
       "      <th>85</th>\n",
       "      <td> 0.35</td>\n",
       "      <td> 0</td>\n",
       "    </tr>\n",
       "    <tr>\n",
       "      <th>86</th>\n",
       "      <td> 0.36</td>\n",
       "      <td> 0</td>\n",
       "    </tr>\n",
       "    <tr>\n",
       "      <th>87</th>\n",
       "      <td> 0.37</td>\n",
       "      <td> 0</td>\n",
       "    </tr>\n",
       "    <tr>\n",
       "      <th>88</th>\n",
       "      <td> 0.38</td>\n",
       "      <td> 0</td>\n",
       "    </tr>\n",
       "    <tr>\n",
       "      <th>89</th>\n",
       "      <td> 0.39</td>\n",
       "      <td> 0</td>\n",
       "    </tr>\n",
       "    <tr>\n",
       "      <th>90</th>\n",
       "      <td> 0.40</td>\n",
       "      <td> 0</td>\n",
       "    </tr>\n",
       "    <tr>\n",
       "      <th>91</th>\n",
       "      <td> 0.41</td>\n",
       "      <td> 0</td>\n",
       "    </tr>\n",
       "    <tr>\n",
       "      <th>92</th>\n",
       "      <td> 0.42</td>\n",
       "      <td> 0</td>\n",
       "    </tr>\n",
       "    <tr>\n",
       "      <th>93</th>\n",
       "      <td> 0.43</td>\n",
       "      <td> 0</td>\n",
       "    </tr>\n",
       "    <tr>\n",
       "      <th>94</th>\n",
       "      <td> 0.44</td>\n",
       "      <td> 0</td>\n",
       "    </tr>\n",
       "    <tr>\n",
       "      <th>95</th>\n",
       "      <td> 0.45</td>\n",
       "      <td> 0</td>\n",
       "    </tr>\n",
       "    <tr>\n",
       "      <th>96</th>\n",
       "      <td> 0.46</td>\n",
       "      <td> 0</td>\n",
       "    </tr>\n",
       "    <tr>\n",
       "      <th>97</th>\n",
       "      <td> 0.47</td>\n",
       "      <td> 0</td>\n",
       "    </tr>\n",
       "    <tr>\n",
       "      <th>98</th>\n",
       "      <td> 0.48</td>\n",
       "      <td> 0</td>\n",
       "    </tr>\n",
       "    <tr>\n",
       "      <th>99</th>\n",
       "      <td> 0.49</td>\n",
       "      <td> 0</td>\n",
       "    </tr>\n",
       "  </tbody>\n",
       "</table>\n",
       "<p>100 rows × 2 columns</p>\n",
       "</div>"
      ],
      "text/plain": [
       "     bin  count\n",
       "0  -0.50      0\n",
       "1  -0.49      0\n",
       "2  -0.48      0\n",
       "3  -0.47      0\n",
       "4  -0.46      0\n",
       "5  -0.45      0\n",
       "6  -0.44      0\n",
       "7  -0.43      0\n",
       "8  -0.42      0\n",
       "9  -0.41      0\n",
       "10 -0.40      0\n",
       "11 -0.39      0\n",
       "12 -0.38      1\n",
       "13 -0.37      0\n",
       "14 -0.36      0\n",
       "15 -0.35      0\n",
       "16 -0.34      0\n",
       "17 -0.33      1\n",
       "18 -0.32      0\n",
       "19 -0.31      0\n",
       "20 -0.30      0\n",
       "21 -0.29      0\n",
       "22 -0.28      0\n",
       "23 -0.27      0\n",
       "24 -0.26      0\n",
       "25 -0.25      0\n",
       "26 -0.24      0\n",
       "27 -0.23      0\n",
       "28 -0.22      0\n",
       "29 -0.21      0\n",
       "..   ...    ...\n",
       "70  0.20      0\n",
       "71  0.21      0\n",
       "72  0.22      0\n",
       "73  0.23      0\n",
       "74  0.24      0\n",
       "75  0.25      0\n",
       "76  0.26      0\n",
       "77  0.27      0\n",
       "78  0.28      0\n",
       "79  0.29      0\n",
       "80  0.30      0\n",
       "81  0.31      0\n",
       "82  0.32      0\n",
       "83  0.33      0\n",
       "84  0.34      0\n",
       "85  0.35      0\n",
       "86  0.36      0\n",
       "87  0.37      0\n",
       "88  0.38      0\n",
       "89  0.39      0\n",
       "90  0.40      0\n",
       "91  0.41      0\n",
       "92  0.42      0\n",
       "93  0.43      0\n",
       "94  0.44      0\n",
       "95  0.45      0\n",
       "96  0.46      0\n",
       "97  0.47      0\n",
       "98  0.48      0\n",
       "99  0.49      0\n",
       "\n",
       "[100 rows x 2 columns]"
      ]
     },
     "execution_count": 122,
     "metadata": {},
     "output_type": "execute_result"
    }
   ],
   "source": [
    "cnt,bns=np.histogram(investor_fut_bucket_30360_xirr_orig, bins=np.linspace(-.5,.5,101))\n",
    "a=pd.DataFrame({'bin':bns[:-1], 'count':cnt})\n",
    "a.to_clipboard()\n",
    "a"
   ]
  },
  {
   "cell_type": "code",
   "execution_count": 187,
   "metadata": {
    "collapsed": false,
    "scrolled": true
   },
   "outputs": [
    {
     "data": {
      "text/plain": [
       "<matplotlib.axes._subplots.AxesSubplot at 0x19f93160>"
      ]
     },
     "execution_count": 187,
     "metadata": {},
     "output_type": "execute_result"
    },
    {
     "data": {
      "image/png": "[encoded data removed]",
      "text/plain": [
       "<matplotlib.figure.Figure at 0x1a18d4a8>"
      ]
     },
     "metadata": {},
     "output_type": "display_data"
    }
   ],
   "source": [
    "investor_fut_bucket_30360_xirr_orig.hist(bins=np.linspace(-.5,.5,110))"
   ]
  },
  {
   "cell_type": "code",
   "execution_count": 205,
   "metadata": {
    "collapsed": false
   },
   "outputs": [],
   "source": [
    "inv_count,inv_bin=np.histogram(investor_fut_bucket_30360_xirr_orig,bins=np.linspace(-.5,.5,101))\n"
   ]
  },
  {
   "cell_type": "code",
   "execution_count": 240,
   "metadata": {
    "collapsed": false
   },
   "outputs": [
    {
     "data": {
      "text/html": [
       "<div style=\"max-height:1000px;max-width:1500px;overflow:auto;\">\n",
       "<table border=\"1\" class=\"dataframe\">\n",
       "  <thead>\n",
       "    <tr style=\"text-align: right;\">\n",
       "      <th></th>\n",
       "      <th>date</th>\n",
       "      <th>fk_user_investor</th>\n",
       "      <th>id_loan</th>\n",
       "      <th>payment</th>\n",
       "      <th>dcf</th>\n",
       "      <th>rating_base</th>\n",
       "      <th>rating_switch</th>\n",
       "      <th>payback_state</th>\n",
       "    </tr>\n",
       "  </thead>\n",
       "  <tbody>\n",
       "    <tr>\n",
       "      <th>139859</th>\n",
       "      <td>2015-04-30</td>\n",
       "      <td>34180</td>\n",
       "      <td>1545</td>\n",
       "      <td>13.14</td>\n",
       "      <td>-0.079452</td>\n",
       "      <td>E</td>\n",
       "      <td>3</td>\n",
       "      <td>payback_received</td>\n",
       "    </tr>\n",
       "    <tr>\n",
       "      <th>164594</th>\n",
       "      <td>2015-04-30</td>\n",
       "      <td>34180</td>\n",
       "      <td>1545</td>\n",
       "      <td>5000.00</td>\n",
       "      <td>-0.079452</td>\n",
       "      <td>E</td>\n",
       "      <td>3</td>\n",
       "      <td>payback_received</td>\n",
       "    </tr>\n",
       "    <tr>\n",
       "      <th>192195</th>\n",
       "      <td>2015-04-07</td>\n",
       "      <td>34180</td>\n",
       "      <td>1545</td>\n",
       "      <td>-5000.00</td>\n",
       "      <td>-0.016438</td>\n",
       "      <td>E</td>\n",
       "      <td>3</td>\n",
       "      <td>payback_received</td>\n",
       "    </tr>\n",
       "  </tbody>\n",
       "</table>\n",
       "</div>"
      ],
      "text/plain": [
       "             date  fk_user_investor  id_loan  payment       dcf rating_base  \\\n",
       "139859 2015-04-30             34180     1545    13.14 -0.079452           E   \n",
       "164594 2015-04-30             34180     1545  5000.00 -0.079452           E   \n",
       "192195 2015-04-07             34180     1545 -5000.00 -0.016438           E   \n",
       "\n",
       "        rating_switch     payback_state  \n",
       "139859              3  payback_received  \n",
       "164594              3  payback_received  \n",
       "192195              3  payback_received  "
      ]
     },
     "execution_count": 240,
     "metadata": {},
     "output_type": "execute_result"
    }
   ],
   "source": [
    "cashflows_act_investor[cashflows_act_investor.id_loan==1545]"
   ]
  },
  {
   "cell_type": "code",
   "execution_count": 207,
   "metadata": {
    "collapsed": false
   },
   "outputs": [],
   "source": [
    "inv_hist=pd.DataFrame({'bin':inv_bin[:-1],'count':inv_count})"
   ]
  },
  {
   "cell_type": "code",
   "execution_count": 208,
   "metadata": {
    "collapsed": true
   },
   "outputs": [],
   "source": [
    "inv_hist.to_clipboard()"
   ]
  },
  {
   "cell_type": "code",
   "execution_count": 43,
   "metadata": {
    "collapsed": true
   },
   "outputs": [],
   "source": [
    "%matplotlib inline"
   ]
  },
  {
   "cell_type": "code",
   "execution_count": 154,
   "metadata": {
    "collapsed": false
   },
   "outputs": [
    {
     "data": {
      "text/plain": [
       "rating_switch\n",
       "1                2.446569\n",
       "2                3.991386\n",
       "3                3.453717\n",
       "dtype: float64"
      ]
     },
     "execution_count": 154,
     "metadata": {},
     "output_type": "execute_result"
    }
   ],
   "source": [
    "loans_fut_bucket_30360_xirr_orig*100"
   ]
  },
  {
   "cell_type": "code",
   "execution_count": 165,
   "metadata": {
    "collapsed": false
   },
   "outputs": [
    {
     "data": {
      "text/plain": [
       "rating_switch\n",
       "1                2.915440\n",
       "2                4.099140\n",
       "3                3.495064\n",
       "dtype: float64"
      ]
     },
     "execution_count": 165,
     "metadata": {},
     "output_type": "execute_result"
    }
   ],
   "source": [
    "loans_fut_bucket_30360_xirr_orig*100 "
   ]
  },
  {
   "cell_type": "code",
   "execution_count": 47,
   "metadata": {
    "collapsed": false
   },
   "outputs": [
    {
     "data": {
      "text/plain": [
       "0.03470183916784976"
      ]
     },
     "execution_count": 47,
     "metadata": {},
     "output_type": "execute_result"
    }
   ],
   "source": [
    "z1=cashflows_fut_bucket_30360[cashflows_fut_bucket_30360.payback_state!='payback_complete']\n",
    "\n",
    "xirr(z1.payment, z1.dcf)"
   ]
  },
  {
   "cell_type": "code",
   "execution_count": 42,
   "metadata": {
    "collapsed": false
   },
   "outputs": [
    {
     "data": {
      "text/plain": [
       "rating_switch  rating_base\n",
       "1              A              2.164635\n",
       "               B             -0.289620\n",
       "               C              2.843701\n",
       "               D              4.380164\n",
       "               E              7.495481\n",
       "2              A              2.336687\n",
       "               B              3.229219\n",
       "               C              4.145394\n",
       "               D              5.631069\n",
       "               E              7.443198\n",
       "3              A              2.390730\n",
       "               B              2.876238\n",
       "               C              3.830051\n",
       "               D              4.275146\n",
       "               E              4.906416\n",
       "dtype: float64"
      ]
     },
     "execution_count": 42,
     "metadata": {},
     "output_type": "execute_result"
    }
   ],
   "source": [
    "loans_fut_bucket_30360_xirr_groups*100"
   ]
  },
  {
   "cell_type": "code",
   "execution_count": 43,
   "metadata": {
    "collapsed": true
   },
   "outputs": [],
   "source": [
    "loans_fut_bucket_30360_xirr_groups.to_clipboard()"
   ]
  },
  {
   "cell_type": "code",
   "execution_count": 308,
   "metadata": {
    "collapsed": false
   },
   "outputs": [
    {
     "data": {
      "text/plain": [
       "rating_switch  rating_base\n",
       "1              A              1.643829\n",
       "               B             -0.131926\n",
       "               C              2.983228\n",
       "               D              4.437063\n",
       "               E              7.266957\n",
       "2              A              1.954274\n",
       "               B              2.373271\n",
       "               C              4.145764\n",
       "               D              5.446206\n",
       "               E              7.389547\n",
       "3              A              2.368428\n",
       "               B              2.950076\n",
       "               C              3.790125\n",
       "               D              3.940688\n",
       "               E              4.880346\n",
       "dtype: float64"
      ]
     },
     "execution_count": 308,
     "metadata": {},
     "output_type": "execute_result"
    }
   ],
   "source": [
    "loans_fut_bucket_30360_xirr_groups*100"
   ]
  },
  {
   "cell_type": "code",
   "execution_count": 167,
   "metadata": {
    "collapsed": false
   },
   "outputs": [],
   "source": [
    "loans_fut_xirr_groups=cashflows_fut[cashflows_fut.payback_state!='payback_complete'].groupby(['base_date','rating_base']).apply(lambda x: xirr(x.payment,x.dcf))"
   ]
  },
  {
   "cell_type": "code",
   "execution_count": 246,
   "metadata": {
    "collapsed": false
   },
   "outputs": [
    {
     "data": {
      "text/plain": [
       "rating_switch  rating_base\n",
       "1              A               2.318630\n",
       "               B               2.276984\n",
       "               C               3.590574\n",
       "               D               5.797576\n",
       "               E               7.664678\n",
       "2              A               2.533089\n",
       "               B               3.506267\n",
       "               C               6.085838\n",
       "               D               7.710767\n",
       "               E               7.674173\n",
       "3              A             -15.986781\n",
       "               B             -15.818247\n",
       "               C             -14.123845\n",
       "               D             -11.749378\n",
       "               E             -12.484912\n",
       "dtype: float64"
      ]
     },
     "execution_count": 246,
     "metadata": {},
     "output_type": "execute_result"
    }
   ],
   "source": [
    "loans_fut_xirr_groups*100"
   ]
  },
  {
   "cell_type": "code",
   "execution_count": 309,
   "metadata": {
    "collapsed": false
   },
   "outputs": [
    {
     "data": {
      "text/plain": [
       "rating_switch  rating_base\n",
       "1              A              1.643829\n",
       "               B             -0.131926\n",
       "               C              2.983228\n",
       "               D              4.437063\n",
       "               E              7.266957\n",
       "2              A              1.954274\n",
       "               B              2.373271\n",
       "               C              4.145764\n",
       "               D              5.446206\n",
       "               E              7.389547\n",
       "3              A              2.368428\n",
       "               B              2.950076\n",
       "               C              3.790125\n",
       "               D              3.940688\n",
       "               E              4.880346\n",
       "dtype: float64"
      ]
     },
     "execution_count": 309,
     "metadata": {},
     "output_type": "execute_result"
    }
   ],
   "source": [
    "(loans_fut_bucket_xirr_groups*100)"
   ]
  },
  {
   "cell_type": "code",
   "execution_count": 100,
   "metadata": {
    "collapsed": false
   },
   "outputs": [],
   "source": [
    "miss_loans=set(loans.id_loan) ^ set(payment_plans.fk_loan) # symmetric difference"
   ]
  },
  {
   "cell_type": "code",
   "execution_count": 251,
   "metadata": {
    "collapsed": false
   },
   "outputs": [
    {
     "data": {
      "text/plain": [
       "<matplotlib.axes._subplots.AxesSubplot at 0x122aeef0>"
      ]
     },
     "execution_count": 251,
     "metadata": {},
     "output_type": "execute_result"
    }
   ],
   "source": [
    "(loans_xirr.loc[mth3_loans]*100).hist()"
   ]
  },
  {
   "cell_type": "code",
   "execution_count": 39,
   "metadata": {
    "collapsed": true
   },
   "outputs": [],
   "source": [
    "irreg_payments_sql=\"select * from backend.loan_payment_plan where plan ~* 'IRREGULAR' and dwh_country_id=1\"\n",
    "# problem with like '%irregular%#\n",
    "irreg_payments=psql.read_sql_query(irreg_payments_sql,conn)\n",
    "irreg_payments.columns\n",
    "cols=irreg_payments.columns.values.tolist()\n",
    "cols.remove('plan')\n",
    "cols\n",
    "li=[]\n",
    "cols=irreg_payments.columns.values.tolist()\n",
    "cols.remove('plan')\n",
    "\n",
    "for i in range(irreg_payments.shape[0]):\n",
    "    z=pd.read_json(irreg_payments.plan[i])\n",
    "    for c in cols:\n",
    "        z.loc[:,c]=irreg_payments.iloc[i][c]\n",
    "    li.append(z)\n",
    "\n",
    "irreg_p=pd.concat(li)\n"
   ]
  },
  {
   "cell_type": "code",
   "execution_count": 40,
   "metadata": {
    "collapsed": false
   },
   "outputs": [],
   "source": [
    "z1=pd.DataFrame(actual_payments.set_index(['iso_date','fk_loan'])[['in_arrears_since', 'in_arrears_since_days']])\n",
    "z1['bucket']=np.ceil(z1.in_arrears_since_days/30)\n",
    "a1=z1.bucket.unstack()\n",
    "\n",
    "a2=a1.shift(-1, freq='M')\n",
    "a3=a1.shift(-2, freq='M')\n",
    "a4=a1.shift(-3, freq='M')\n",
    "a5=a1.shift(-4, freq='M')\n",
    "a6=a1.shift(-5, freq='M')\n",
    "a7=a1.shift(-6, freq='M')\n",
    "\n",
    "\n",
    "z1['in_arrears_since_1M']=a2.stack()\n",
    "z1['in_arrears_since_2M']=a3.stack()\n",
    "z1['in_arrears_since_3M']=a4.stack()\n",
    "z1['in_arrears_since_4M']=a5.stack()\n",
    "z1['in_arrears_since_5M']=a6.stack()\n",
    "z1['in_arrears_since_6M']=a7.stack()\n",
    "# trying to detemine stability \n",
    "z2=z1.fillna(0)\n",
    "z3=z2.groupby(['bucket','in_arrears_since_1M']).size()"
   ]
  },
  {
   "cell_type": "code",
   "execution_count": 599,
   "metadata": {
    "collapsed": false
   },
   "outputs": [
    {
     "data": {
      "text/plain": [
       "471    547197732\n",
       "Name: loan_nr, dtype: int64"
      ]
     },
     "execution_count": 599,
     "metadata": {},
     "output_type": "execute_result"
    }
   ],
   "source": [
    "loans.loan_nr[loans.id_loan==815]"
   ]
  },
  {
   "cell_type": "code",
   "execution_count": 107,
   "metadata": {
    "collapsed": false
   },
   "outputs": [],
   "source": [
    "loan_plan_nar=payment_plans_idx.loc[payment_plans_idx.interval!=0,['interest_amount','initial_principal_amount']].groupby(level=(0,1)).sum()"
   ]
  }
 ],
 "metadata": {
  "kernelspec": {
   "display_name": "Python 2",
   "language": "python",
   "name": "python2"
  },
  "language_info": {
   "codemirror_mode": {
    "name": "ipython",
    "version": 2
   },
   "file_extension": ".py",
   "mimetype": "text/x-python",
   "name": "python",
   "nbconvert_exporter": "python",
   "pygments_lexer": "ipython2",
   "version": "2.7.8"
  }
 },
 "nbformat": 4,
 "nbformat_minor": 0
}
