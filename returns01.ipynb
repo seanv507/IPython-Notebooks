{
 "cells": [
  {
   "cell_type": "code",
   "execution_count": 4,
   "metadata": {
    "collapsed": false
   },
   "outputs": [],
   "source": [
    "import pandas as pd\n",
    "import numpy as np\n",
    "import matplotlib.pyplot as plt\n",
    "import datetime\n",
    "import scipy.optimize\n",
    "import pandas.io.sql as psql\n",
    "import pandas as pd\n",
    "import sys\n",
    "sys.path.insert(0,'C:\\Users\\Sean Violante\\Documents\\Projects\\lendico\\lib')\n",
    "import dwh\n",
    "from __future__ import division"
   ]
  },
  {
   "cell_type": "code",
   "execution_count": 5,
   "metadata": {
    "collapsed": true
   },
   "outputs": [],
   "source": [
    "%matplotlib qt"
   ]
  },
  {
   "cell_type": "code",
   "execution_count": 170,
   "metadata": {
    "collapsed": false
   },
   "outputs": [],
   "source": [
    "conn = dwh.get_DWH()\n"
   ]
  },
  {
   "cell_type": "code",
   "execution_count": 27,
   "metadata": {
    "collapsed": true
   },
   "outputs": [],
   "source": [
    "src_dir=r'C:\\Users\\Sean Violante\\Documents\\Projects\\lendico\\projects\\returns\\src'"
   ]
  },
  {
   "cell_type": "code",
   "execution_count": null,
   "metadata": {
    "collapsed": true
   },
   "outputs": [],
   "source": [
    "sql_strings=get_sql_strings(exclude_loans=False)"
   ]
  },
  {
   "cell_type": "code",
   "execution_count": 32,
   "metadata": {
    "collapsed": false
   },
   "outputs": [
    {
     "name": "stdout",
     "output_type": "stream",
     "text": [
      "C:\\Users\\Sean Violante\\Documents\\Projects\\lendico\\projects\\returns\\src\n"
     ]
    }
   ],
   "source": [
    "%cd  C:\\Users\\Sean Violante\\Documents\\Projects\\lendico\\projects\\returns\\src"
   ]
  },
  {
   "cell_type": "code",
   "execution_count": 36,
   "metadata": {
    "collapsed": false
   },
   "outputs": [
    {
     "name": "stdout",
     "output_type": "stream",
     "text": [
      "['payment_plans_combined', 'loan_fundings_sql', 'payment_plans', 'actual_payments_combined', 'actual_payments', 'loans']\n"
     ]
    }
   ],
   "source": [
    "%run returns_sql.py\n",
    "sql_strings=get_sql_strings(exclude_loans=False)\n",
    "print sql_strings.keys()"
   ]
  },
  {
   "cell_type": "code",
   "execution_count": 18,
   "metadata": {
    "collapsed": false
   },
   "outputs": [
    {
     "name": "stdout",
     "output_type": "stream",
     "text": [
      "Wall time: 10.8 s\n"
     ]
    }
   ],
   "source": [
    "%time loans=psql.read_sql(loans_sql,conn)"
   ]
  },
  {
   "cell_type": "code",
   "execution_count": 42,
   "metadata": {
    "collapsed": true
   },
   "outputs": [],
   "source": [
    "arrears_dict={30:0.15,60:0.35, 90:0.67, 120:1,150:1,180:1,210:1,240:1,270:1}\n",
    "arrears_dict={30:0.195, 60: 0.44, 90:0.611, 120:1,150:1,180:1,210:1,240:1,270:1}\n",
    "arrears_dict={30:0.164, 60: 0.384, 90:0.55, 120:1,150:1,180:1,210:1,240:1,270:1}"
   ]
  },
  {
   "cell_type": "code",
   "execution_count": 615,
   "metadata": {
    "collapsed": false
   },
   "outputs": [
    {
     "data": {
      "text/html": [
       "<div style=\"max-height:1000px;max-width:1500px;overflow:auto;\">\n",
       "<table border=\"1\" class=\"dataframe\">\n",
       "  <thead>\n",
       "    <tr style=\"text-align: right;\">\n",
       "      <th></th>\n",
       "      <th>fk_ranking</th>\n",
       "      <th>date_of_first_loan_offer</th>\n",
       "      <th>base_date</th>\n",
       "      <th>rating</th>\n",
       "      <th>ranking_rating</th>\n",
       "      <th>pd</th>\n",
       "      <th>ranking_pd_start</th>\n",
       "      <th>ranking_pd_end</th>\n",
       "      <th>duration_months</th>\n",
       "      <th>base_return</th>\n",
       "    </tr>\n",
       "  </thead>\n",
       "  <tbody>\n",
       "    <tr>\n",
       "      <th>347</th>\n",
       "      <td>261</td>\n",
       "      <td>2014-08-12</td>\n",
       "      <td>2014-07-01</td>\n",
       "      <td>C5</td>\n",
       "      <td>C5</td>\n",
       "      <td>5.41</td>\n",
       "      <td>5.41</td>\n",
       "      <td>6</td>\n",
       "      <td>60</td>\n",
       "      <td>0.0609</td>\n",
       "    </tr>\n",
       "  </tbody>\n",
       "</table>\n",
       "</div>"
      ],
      "text/plain": [
       "     fk_ranking date_of_first_loan_offer  base_date rating ranking_rating  \\\n",
       "347         261               2014-08-12 2014-07-01     C5             C5   \n",
       "\n",
       "       pd  ranking_pd_start  ranking_pd_end  duration_months  base_return  \n",
       "347  5.41              5.41               6               60       0.0609  "
      ]
     },
     "execution_count": 615,
     "metadata": {},
     "output_type": "execute_result"
    }
   ],
   "source": [
    "loans.loc[loans.id_loan==330,['fk_ranking','date_of_first_loan_offer','base_date','rating','ranking_rating','pd','ranking_pd_start','ranking_pd_end','duration_months','base_return']]"
   ]
  },
  {
   "cell_type": "code",
   "execution_count": 582,
   "metadata": {
    "collapsed": false
   },
   "outputs": [
    {
     "data": {
      "text/html": [
       "<div style=\"max-height:1000px;max-width:1500px;overflow:auto;\">\n",
       "<table border=\"1\" class=\"dataframe\">\n",
       "  <thead>\n",
       "    <tr style=\"text-align: right;\">\n",
       "      <th></th>\n",
       "      <th>date</th>\n",
       "      <th>rating</th>\n",
       "      <th>duration:6</th>\n",
       "      <th>duration:12</th>\n",
       "      <th>duration:24</th>\n",
       "      <th>duration:36</th>\n",
       "      <th>duration:48</th>\n",
       "      <th>duration:60</th>\n",
       "    </tr>\n",
       "  </thead>\n",
       "  <tbody>\n",
       "    <tr>\n",
       "      <th>7</th>\n",
       "      <td>2013-11-01</td>\n",
       "      <td>C2</td>\n",
       "      <td>0.01000</td>\n",
       "      <td>0.01000</td>\n",
       "      <td>0.02000</td>\n",
       "      <td>0.02000</td>\n",
       "      <td>0.02000</td>\n",
       "      <td>0.02000</td>\n",
       "    </tr>\n",
       "    <tr>\n",
       "      <th>33</th>\n",
       "      <td>2014-07-01</td>\n",
       "      <td>C2</td>\n",
       "      <td>0.03900</td>\n",
       "      <td>0.04290</td>\n",
       "      <td>0.04870</td>\n",
       "      <td>0.05200</td>\n",
       "      <td>0.05400</td>\n",
       "      <td>0.05540</td>\n",
       "    </tr>\n",
       "    <tr>\n",
       "      <th>58</th>\n",
       "      <td>2014-10-22</td>\n",
       "      <td>C2</td>\n",
       "      <td>0.01635</td>\n",
       "      <td>0.01824</td>\n",
       "      <td>0.02087</td>\n",
       "      <td>0.02346</td>\n",
       "      <td>0.02653</td>\n",
       "      <td>0.03015</td>\n",
       "    </tr>\n",
       "  </tbody>\n",
       "</table>\n",
       "</div>"
      ],
      "text/plain": [
       "         date rating  duration:6  duration:12  duration:24  duration:36  \\\n",
       "7  2013-11-01     C2     0.01000      0.01000      0.02000      0.02000   \n",
       "33 2014-07-01     C2     0.03900      0.04290      0.04870      0.05200   \n",
       "58 2014-10-22     C2     0.01635      0.01824      0.02087      0.02346   \n",
       "\n",
       "    duration:48  duration:60  \n",
       "7       0.02000      0.02000  \n",
       "33      0.05400      0.05540  \n",
       "58      0.02653      0.03015  "
      ]
     },
     "execution_count": 582,
     "metadata": {},
     "output_type": "execute_result"
    }
   ],
   "source": [
    "base_returns[base_returns.rating=='C2']"
   ]
  },
  {
   "cell_type": "code",
   "execution_count": 171,
   "metadata": {
    "collapsed": false
   },
   "outputs": [
    {
     "name": "stdout",
     "output_type": "stream",
     "text": [
      "Wall time: 59.9 s\n"
     ]
    }
   ],
   "source": [
    "%time loan_fundings=psql.read_sql(loan_fundings_sql,conn)"
   ]
  },
  {
   "cell_type": "code",
   "execution_count": null,
   "metadata": {
    "collapsed": true
   },
   "outputs": [],
   "source": [
    "%time loan_fundings=psql.read_sql(loan_fundings_sql,conn)\n",
    "%time payment_plans=psql.read_sql(payment_plans_sql,conn)\n",
    "%time actual_payments=psql.read_sql(actual_payments_sql,conn)\n",
    "%time actual_payments_combined=psql.read_sql(actual_payments_combined_sql,conn)"
   ]
  },
  {
   "cell_type": "code",
   "execution_count": 26,
   "metadata": {
    "collapsed": false,
    "scrolled": true
   },
   "outputs": [
    {
     "name": "stdout",
     "output_type": "stream",
     "text": [
      "Wall time: 36min 26s\n"
     ]
    }
   ],
   "source": [
    "%time payment_plans_combined=psql.read_sql(payment_plans_combined_sql,conn)"
   ]
  },
  {
   "cell_type": "code",
   "execution_count": 29,
   "metadata": {
    "collapsed": false
   },
   "outputs": [],
   "source": [
    "payment_plans_combined.to_csv('C:\\Users\\Sean Violante\\Documents\\Projects\\lendico\\Projects\\Returns\\payout_plans_combined.txt')"
   ]
  },
  {
   "cell_type": "code",
   "execution_count": 83,
   "metadata": {
    "collapsed": false
   },
   "outputs": [],
   "source": [
    "actual_payments1=extend_actual_payments(actual_payments1,loans,arrears_dict)"
   ]
  },
  {
   "cell_type": "code",
   "execution_count": 173,
   "metadata": {
    "collapsed": false
   },
   "outputs": [
    {
     "data": {
      "text/plain": [
       "Index([                 u'dwh_country_id',                         u'id_loan',\n",
       "                       u'fk_loan_request',                         u'fk_user',\n",
       "                            u'fk_ranking',                    u'country_name',\n",
       "                         u'currency_code',      u'loan_request_creation_date',\n",
       "                              u'user_age',                         u'loan_nr',\n",
       "                                 u'title',                         u'purpose',\n",
       "                   u'financial_situation',                     u'self_rating',\n",
       "                                u'rating',                u'principal_amount',\n",
       "                              u'duration',     u'nominal_interest_percentage',\n",
       "             u'promo_interest_percentage',                      u'fee_amount',\n",
       "                       u'interest_amount',                   u'total_payback',\n",
       "                             u'is_active',                        u'category',\n",
       "                    u'ranking_serialized',                           u'state',\n",
       "                          u'global_state',               u'originating_since',\n",
       "                      u'originated_since',                        u'due_date',\n",
       "                         u'funded_amount',                      u'ip_address',\n",
       "                            u'live_since',               u'ranking_parameter',\n",
       "                        u'acc_account_id',               u'date_of_signature',\n",
       "                          u'borrower_fee',                      u'lender_fee',\n",
       "                    u'data_accessible_by',                  u'date_of_payout',\n",
       "          u'date_of_origination_complete',     u'interest_calculation_method',\n",
       "       u'initial_interest_split_strategy',   u'effective_interest_percentage',\n",
       "                         u'cancel_reason',           u'cancel_reason_comment',\n",
       "                  u'eur_principal_amount',                  u'eur_fee_amount',\n",
       "                   u'eur_interest_amount',               u'eur_total_payback',\n",
       "                            u'created_at',                      u'updated_at',\n",
       "                           u'dwh_created',               u'dwh_last_modified',\n",
       "                   u'credit_agency_score',                              u'pd',\n",
       "                           u'pd_original',                             u'lgd',\n",
       "                      u'in_arrears_since',        u'date_of_first_loan_offer',\n",
       "                        u'ranking_rating',                u'ranking_pd_start',\n",
       "                        u'ranking_pd_end',                     u'payback_day',\n",
       "                           u'payout_date',                   u'payback_state',\n",
       "                 u'auto_in_arrears_since',            u'in_arrears_since_man',\n",
       "                             u'base_date',                 u'duration_months',\n",
       "                           u'base_return',                     u'rating_base',\n",
       "                 u'originated_since_date',       u'originated_since_date_EOM',\n",
       "                                   u'dcf'],\n",
       "      dtype='object')"
      ]
     },
     "execution_count": 173,
     "metadata": {},
     "output_type": "execute_result"
    }
   ],
   "source": [
    "loans.columns"
   ]
  },
  {
   "cell_type": "code",
   "execution_count": 210,
   "metadata": {
    "collapsed": false
   },
   "outputs": [],
   "source": [
    "loans=extend_loans(loans)\n",
    "loan_fundings=extend_loan_fundings(loan_fundings,loans)\n",
    "actual_payments=extend_actual_payments(actual_payments, loans, arrears_dict)\n",
    "actual_payments_combined=extend_actual_payments(actual_payments_combined, loans, arrears_dict)\n"
   ]
  },
  {
   "cell_type": "code",
   "execution_count": 255,
   "metadata": {
    "collapsed": true
   },
   "outputs": [],
   "source": [
    "%run returns.py"
   ]
  },
  {
   "cell_type": "markdown",
   "metadata": {},
   "source": [
    "Note we are using payout date not originated since date"
   ]
  },
  {
   "cell_type": "code",
   "execution_count": 533,
   "metadata": {
    "collapsed": false
   },
   "outputs": [],
   "source": [
    "# in calculating irr need to add grouping variables. if keep principal, loan payments and principal repayment separate, then need to readd afterwards"
   ]
  },
  {
   "cell_type": "code",
   "execution_count": 90,
   "metadata": {
    "collapsed": false
   },
   "outputs": [],
   "source": [
    " "
   ]
  },
  {
   "cell_type": "code",
   "execution_count": null,
   "metadata": {
    "collapsed": true
   },
   "outputs": [],
   "source": [
    "# find interval of latest date in actual payments\n",
    "latest_paid_interval=actual_payments[['iso_date','fk_loan','interval']].sort('iso_date').groupby('fk_loan').interval.last()\n",
    "latest_paid_interval.name='latest_paid_interval'\n",
    "latest_paid_interval_investor=actual_payments_combined[['iso_date','fk_loan','fk_user_investor','interval']].sort('iso_date')\\\n",
    "    .groupby(['fk_loan','fk_user_investor']).interval.last()\n",
    "latest_paid_interval_investor.name='latest_paid_interval'"
   ]
  },
  {
   "cell_type": "code",
   "execution_count": 177,
   "metadata": {
    "collapsed": false
   },
   "outputs": [
    {
     "data": {
      "text/html": [
       "<div style=\"max-height:1000px;max-width:1500px;overflow:auto;\">\n",
       "<table border=\"1\" class=\"dataframe\">\n",
       "  <thead>\n",
       "    <tr style=\"text-align: right;\">\n",
       "      <th></th>\n",
       "      <th>date</th>\n",
       "      <th>fk_user_investor</th>\n",
       "      <th>id_loan</th>\n",
       "      <th>payment</th>\n",
       "      <th>dcf</th>\n",
       "      <th>rating_base</th>\n",
       "      <th>rating_switch</th>\n",
       "      <th>payback_state</th>\n",
       "    </tr>\n",
       "  </thead>\n",
       "  <tbody>\n",
       "    <tr>\n",
       "      <th>75817</th>\n",
       "      <td>2014-09-30</td>\n",
       "      <td>25151</td>\n",
       "      <td>304</td>\n",
       "      <td>11.9300</td>\n",
       "      <td>0.501370</td>\n",
       "      <td>C</td>\n",
       "      <td>2</td>\n",
       "      <td>payback_pending</td>\n",
       "    </tr>\n",
       "    <tr>\n",
       "      <th>75818</th>\n",
       "      <td>2014-10-31</td>\n",
       "      <td>25151</td>\n",
       "      <td>304</td>\n",
       "      <td>50.5000</td>\n",
       "      <td>0.416438</td>\n",
       "      <td>C</td>\n",
       "      <td>2</td>\n",
       "      <td>payback_pending</td>\n",
       "    </tr>\n",
       "    <tr>\n",
       "      <th>75819</th>\n",
       "      <td>2014-11-30</td>\n",
       "      <td>25151</td>\n",
       "      <td>304</td>\n",
       "      <td>50.5000</td>\n",
       "      <td>0.334247</td>\n",
       "      <td>C</td>\n",
       "      <td>2</td>\n",
       "      <td>payback_pending</td>\n",
       "    </tr>\n",
       "    <tr>\n",
       "      <th>75820</th>\n",
       "      <td>2014-12-31</td>\n",
       "      <td>25151</td>\n",
       "      <td>304</td>\n",
       "      <td>0.0000</td>\n",
       "      <td>0.249315</td>\n",
       "      <td>C</td>\n",
       "      <td>2</td>\n",
       "      <td>payback_pending</td>\n",
       "    </tr>\n",
       "    <tr>\n",
       "      <th>75821</th>\n",
       "      <td>2015-01-31</td>\n",
       "      <td>25151</td>\n",
       "      <td>304</td>\n",
       "      <td>101.0000</td>\n",
       "      <td>0.164384</td>\n",
       "      <td>C</td>\n",
       "      <td>2</td>\n",
       "      <td>payback_pending</td>\n",
       "    </tr>\n",
       "    <tr>\n",
       "      <th>75822</th>\n",
       "      <td>2015-02-28</td>\n",
       "      <td>25151</td>\n",
       "      <td>304</td>\n",
       "      <td>50.5000</td>\n",
       "      <td>0.087671</td>\n",
       "      <td>C</td>\n",
       "      <td>2</td>\n",
       "      <td>payback_pending</td>\n",
       "    </tr>\n",
       "    <tr>\n",
       "      <th>75823</th>\n",
       "      <td>2015-03-31</td>\n",
       "      <td>25151</td>\n",
       "      <td>304</td>\n",
       "      <td>51.0200</td>\n",
       "      <td>0.002740</td>\n",
       "      <td>C</td>\n",
       "      <td>2</td>\n",
       "      <td>payback_pending</td>\n",
       "    </tr>\n",
       "    <tr>\n",
       "      <th>75824</th>\n",
       "      <td>2015-04-30</td>\n",
       "      <td>25151</td>\n",
       "      <td>304</td>\n",
       "      <td>51.0200</td>\n",
       "      <td>-0.079452</td>\n",
       "      <td>C</td>\n",
       "      <td>2</td>\n",
       "      <td>payback_pending</td>\n",
       "    </tr>\n",
       "    <tr>\n",
       "      <th>146717</th>\n",
       "      <td>2015-04-30</td>\n",
       "      <td>25151</td>\n",
       "      <td>304</td>\n",
       "      <td>2256.8057</td>\n",
       "      <td>-0.079452</td>\n",
       "      <td>C</td>\n",
       "      <td>2</td>\n",
       "      <td>payback_pending</td>\n",
       "    </tr>\n",
       "    <tr>\n",
       "      <th>172243</th>\n",
       "      <td>2014-08-08</td>\n",
       "      <td>25151</td>\n",
       "      <td>304</td>\n",
       "      <td>-2500.0000</td>\n",
       "      <td>0.646575</td>\n",
       "      <td>C</td>\n",
       "      <td>2</td>\n",
       "      <td>payback_pending</td>\n",
       "    </tr>\n",
       "  </tbody>\n",
       "</table>\n",
       "</div>"
      ],
      "text/plain": [
       "             date  fk_user_investor  id_loan    payment       dcf rating_base  \\\n",
       "75817  2014-09-30             25151      304    11.9300  0.501370           C   \n",
       "75818  2014-10-31             25151      304    50.5000  0.416438           C   \n",
       "75819  2014-11-30             25151      304    50.5000  0.334247           C   \n",
       "75820  2014-12-31             25151      304     0.0000  0.249315           C   \n",
       "75821  2015-01-31             25151      304   101.0000  0.164384           C   \n",
       "75822  2015-02-28             25151      304    50.5000  0.087671           C   \n",
       "75823  2015-03-31             25151      304    51.0200  0.002740           C   \n",
       "75824  2015-04-30             25151      304    51.0200 -0.079452           C   \n",
       "146717 2015-04-30             25151      304  2256.8057 -0.079452           C   \n",
       "172243 2014-08-08             25151      304 -2500.0000  0.646575           C   \n",
       "\n",
       "        rating_switch    payback_state  \n",
       "75817               2  payback_pending  \n",
       "75818               2  payback_pending  \n",
       "75819               2  payback_pending  \n",
       "75820               2  payback_pending  \n",
       "75821               2  payback_pending  \n",
       "75822               2  payback_pending  \n",
       "75823               2  payback_pending  \n",
       "75824               2  payback_pending  \n",
       "146717              2  payback_pending  \n",
       "172243              2  payback_pending  "
      ]
     },
     "execution_count": 177,
     "metadata": {},
     "output_type": "execute_result"
    }
   ],
   "source": [
    "cashflows_act_investor=generate_cashflows_act_investor(actual_payments_combined,loan_fundings1,'2015-04-30')"
   ]
  },
  {
   "cell_type": "code",
   "execution_count": 30,
   "metadata": {
    "collapsed": false
   },
   "outputs": [],
   "source": [
    "payment_plans.sort(['fk_loan','interval'],inplace=True) #prob unnecc? but need sorted for rebase"
   ]
  },
  {
   "cell_type": "code",
   "execution_count": 209,
   "metadata": {
    "collapsed": false
   },
   "outputs": [],
   "source": [
    "future_pd_30360_arrears=make_future_pd(payment_plans_combined, loans1, arrears_dict,True,'2015-04-30')\n",
    "future_pd_30360_origpd=make_future_pd(payment_plans_combined, loans1, arrears_dict,False,'2015-04-30')\n",
    "future_pd_30360_arrears_latest_paid=make_future_pd(payment_plans_combined, loans1, arrears_dict,True,'2015-04-30',latest_paid_interval_investor)\n",
    "future_pd_30360_origpd_latest_paid=make_future_pd(payment_plans_combined, loans1, arrears_dict,False,'2015-04-30',latest_paid_interval_investor)\n",
    "future_pd_30360_origpd_all=make_future_pd(payment_plans_combined, loans1, arrears_dict,False)"
   ]
  },
  {
   "cell_type": "code",
   "execution_count": 276,
   "metadata": {
    "collapsed": true
   },
   "outputs": [],
   "source": [
    "payback_complete_loans=loans.loc[loans.payback_state=='payback_complete','id_loan']\n",
    "payback_complete_loans_latest=payment_plans[payment_plans.fk_loan.isin(payback_complete_loans)].groupby('fk_loan').interval_payback_date.max()"
   ]
  },
  {
   "cell_type": "code",
   "execution_count": 278,
   "metadata": {
    "collapsed": false
   },
   "outputs": [
    {
     "data": {
      "text/plain": [
       "datetime.date(2015, 5, 1)"
      ]
     },
     "execution_count": 278,
     "metadata": {},
     "output_type": "execute_result"
    }
   ],
   "source": [
    "payback_complete_loans_latest.max()"
   ]
  },
  {
   "cell_type": "code",
   "execution_count": 47,
   "metadata": {
    "collapsed": false
   },
   "outputs": [
    {
     "data": {
      "text/plain": [
       "(202798, 46)"
      ]
     },
     "execution_count": 47,
     "metadata": {},
     "output_type": "execute_result"
    }
   ],
   "source": [
    "actual_payments_combined.shape"
   ]
  },
  {
   "cell_type": "code",
   "execution_count": 249,
   "metadata": {
    "collapsed": false
   },
   "outputs": [
    {
     "data": {
      "text/html": [
       "<div style=\"max-height:1000px;max-width:1500px;overflow:auto;\">\n",
       "<table border=\"1\" class=\"dataframe\">\n",
       "  <thead>\n",
       "    <tr style=\"text-align: right;\">\n",
       "      <th></th>\n",
       "      <th>d</th>\n",
       "      <th>e</th>\n",
       "    </tr>\n",
       "  </thead>\n",
       "  <tbody>\n",
       "    <tr>\n",
       "      <th>0</th>\n",
       "      <td>2014-01-31</td>\n",
       "      <td>2013-10-31</td>\n",
       "    </tr>\n",
       "    <tr>\n",
       "      <th>1</th>\n",
       "      <td>2014-02-28</td>\n",
       "      <td>2013-11-30</td>\n",
       "    </tr>\n",
       "    <tr>\n",
       "      <th>2</th>\n",
       "      <td>2014-03-31</td>\n",
       "      <td>2013-12-31</td>\n",
       "    </tr>\n",
       "    <tr>\n",
       "      <th>3</th>\n",
       "      <td>2014-04-30</td>\n",
       "      <td>2014-01-31</td>\n",
       "    </tr>\n",
       "    <tr>\n",
       "      <th>4</th>\n",
       "      <td>2014-05-31</td>\n",
       "      <td>2014-02-28</td>\n",
       "    </tr>\n",
       "    <tr>\n",
       "      <th>5</th>\n",
       "      <td>2014-06-30</td>\n",
       "      <td>2014-03-31</td>\n",
       "    </tr>\n",
       "    <tr>\n",
       "      <th>6</th>\n",
       "      <td>2014-07-31</td>\n",
       "      <td>2014-04-30</td>\n",
       "    </tr>\n",
       "    <tr>\n",
       "      <th>7</th>\n",
       "      <td>2014-08-31</td>\n",
       "      <td>2014-05-31</td>\n",
       "    </tr>\n",
       "    <tr>\n",
       "      <th>8</th>\n",
       "      <td>2014-09-30</td>\n",
       "      <td>2014-06-30</td>\n",
       "    </tr>\n",
       "    <tr>\n",
       "      <th>9</th>\n",
       "      <td>2014-10-31</td>\n",
       "      <td>2014-07-31</td>\n",
       "    </tr>\n",
       "    <tr>\n",
       "      <th>10</th>\n",
       "      <td>2014-11-30</td>\n",
       "      <td>2014-08-31</td>\n",
       "    </tr>\n",
       "    <tr>\n",
       "      <th>11</th>\n",
       "      <td>2014-12-31</td>\n",
       "      <td>2014-09-30</td>\n",
       "    </tr>\n",
       "    <tr>\n",
       "      <th>12</th>\n",
       "      <td>2015-01-31</td>\n",
       "      <td>2014-10-31</td>\n",
       "    </tr>\n",
       "    <tr>\n",
       "      <th>13</th>\n",
       "      <td>2015-02-28</td>\n",
       "      <td>2014-11-30</td>\n",
       "    </tr>\n",
       "    <tr>\n",
       "      <th>14</th>\n",
       "      <td>2015-03-31</td>\n",
       "      <td>2014-12-31</td>\n",
       "    </tr>\n",
       "    <tr>\n",
       "      <th>15</th>\n",
       "      <td>2015-04-30</td>\n",
       "      <td>2015-01-31</td>\n",
       "    </tr>\n",
       "  </tbody>\n",
       "</table>\n",
       "</div>"
      ],
      "text/plain": [
       "            d          e\n",
       "0  2014-01-31 2013-10-31\n",
       "1  2014-02-28 2013-11-30\n",
       "2  2014-03-31 2013-12-31\n",
       "3  2014-04-30 2014-01-31\n",
       "4  2014-05-31 2014-02-28\n",
       "5  2014-06-30 2014-03-31\n",
       "6  2014-07-31 2014-04-30\n",
       "7  2014-08-31 2014-05-31\n",
       "8  2014-09-30 2014-06-30\n",
       "9  2014-10-31 2014-07-31\n",
       "10 2014-11-30 2014-08-31\n",
       "11 2014-12-31 2014-09-30\n",
       "12 2015-01-31 2014-10-31\n",
       "13 2015-02-28 2014-11-30\n",
       "14 2015-03-31 2014-12-31\n",
       "15 2015-04-30 2015-01-31"
      ]
     },
     "execution_count": 249,
     "metadata": {},
     "output_type": "execute_result"
    }
   ],
   "source": [
    "EOM_dates=pd.date_range('2014-01-01', '2015-04-30', freq='M')\n",
    "pd.DataFrame({'d':EOM_dates,'e':EOM_dates + pd.tseries.offsets.MonthEnd(-3)})"
   ]
  },
  {
   "cell_type": "code",
   "execution_count": 56,
   "metadata": {
    "collapsed": false
   },
   "outputs": [
    {
     "data": {
      "text/plain": [
       "DatetimeIndex(['2013-10-31', '2013-11-30', '2013-12-31', '2014-01-31',\n",
       "               '2014-02-28', '2014-03-31', '2014-04-30', '2014-05-31',\n",
       "               '2014-06-30', '2014-07-31', '2014-08-31', '2014-09-30',\n",
       "               '2014-10-31', '2014-11-30', '2014-12-31', '2015-01-31'],\n",
       "              dtype='datetime64[ns]', freq='M', tz=None)"
      ]
     },
     "execution_count": 56,
     "metadata": {},
     "output_type": "execute_result"
    }
   ],
   "source": [
    "\n",
    "#np.array(actual_payments_combined.iso_date.unique(),'datetime64[D]')\n",
    "minimum_vintage=pd.tseries.offsets.MonthEnd(3)\n",
    "EOM_dates-minimum_vintage"
   ]
  },
  {
   "cell_type": "code",
   "execution_count": 184,
   "metadata": {
    "collapsed": true
   },
   "outputs": [],
   "source": [
    "import itertools"
   ]
  },
  {
   "cell_type": "code",
   "execution_count": 256,
   "metadata": {
    "collapsed": false
   },
   "outputs": [],
   "source": [
    "reporting_dates=EOM_dates\n",
    "loan_ids=loan_fundings\n",
    "#irrs=pd.DataFrame({ 'irr': np.nan},index=[reporting_dates,)\n",
    "dfs=[]                                          \n",
    "for EOM_date in reporting_dates:\n",
    "    loan_principals=loan_fundings.loc[loan_fundings.originated_since_date<=(EOM_date-minimum_vintage),\n",
    "                        ['rating_base','fk_loan', 'fk_user_investor', \n",
    "                         'originated_since_date','originated_since_date_EOM','dcf','payment']]\n",
    "    # loan payments may have payments for loans that have been filterd out by origination date but grouping filters it out\n",
    "    loan_payments=actual_payments_combined.loc[actual_payments_combined.iso_date<=EOM_date.date(),\n",
    "                    ['rating_base','fk_loan','fk_user_investor', 'originated_since_date','dcf','payment_amount_investor_month']]\\\n",
    "            .rename(columns={'payment_amount_investor_month':'payment'})\n",
    "    residuals, recoveries=generate_residual_act_investor(actual_payments_combined, loan_fundings,\\\n",
    "                                                       EOM_date.date(), payment_plans=None)\n",
    "    gps=[ zx.groupby(['fk_loan','dcf']).payment.sum().reset_index('dcf').groupby(level=0) \\\n",
    "             for zx in [loan_principals,loan_payments,residuals,recoveries] if zx is not None ]\n",
    "    df=gps[0].apply(lambda x: xirr([x]+[z.get_group(x.index[0]) for z in gps[1:] if x.index[0] in z.groups.keys()]))\n",
    "    dfs.append(df)\n",
    "    \n",
    "    #loan_payments=payments paid before EOM_date\n",
    "    #loan_final_principal=remaining principal\n",
    "# what about repayment\n",
    "# what about end of loan\n",
    "    #group by rating/date (to sum over investors)\n",
    "    #generate IRR"
   ]
  },
  {
   "cell_type": "code",
   "execution_count": 257,
   "metadata": {
    "collapsed": false
   },
   "outputs": [],
   "source": [
    "df_all=pd.concat(dfs,keys=reporting_dates)\n",
    "df_all.columns=['irr']\n",
    "df_all.to_clipboard()\n"
   ]
  },
  {
   "cell_type": "code",
   "execution_count": 217,
   "metadata": {
    "collapsed": false
   },
   "outputs": [
    {
     "data": {
      "text/plain": [
       "87   2014-03-28\n",
       "Name: originated_since_date, dtype: datetime64[ns]"
      ]
     },
     "execution_count": 217,
     "metadata": {},
     "output_type": "execute_result"
    }
   ],
   "source": [
    "loans.loc[loans.fk_loan==95].originated_since_date"
   ]
  },
  {
   "cell_type": "code",
   "execution_count": 218,
   "metadata": {
    "collapsed": false
   },
   "outputs": [
    {
     "data": {
      "text/plain": [
       "array([ 8,  4,  3,  6,  9, 14, 20, 18, 12, 13, 15, 11,  7, 16, 10, 17, 21,\n",
       "       19, 26, 28, 27, 23, 24, 30, 22, 34, 29, 33, 32, 35, 37, 31, 36, 46,\n",
       "       41, 44, 38, 43, 57, 40, 42, 45, 49, 47, 54, 59, 63, 56, 51, 50, 48,\n",
       "       65, 61, 53, 55, 81, 58, 74, 67, 64, 60, 69, 76, 68, 72, 77, 71, 80,\n",
       "       73, 62, 70, 66, 75, 87, 83, 89, 93, 85, 82, 84, 88, 92, 86, 96, 91,\n",
       "       95, 98, 97], dtype=int64)"
      ]
     },
     "execution_count": 218,
     "metadata": {},
     "output_type": "execute_result"
    }
   ],
   "source": [
    "loan_principals.fk_loan.unique()"
   ]
  },
  {
   "cell_type": "code",
   "execution_count": 231,
   "metadata": {
    "collapsed": false
   },
   "outputs": [],
   "source": [
    "df_all.to_clipboard()"
   ]
  },
  {
   "cell_type": "code",
   "execution_count": 114,
   "metadata": {
    "collapsed": false
   },
   "outputs": [
    {
     "data": {
      "text/plain": [
       "datetime.date(2013, 10, 31)"
      ]
     },
     "execution_count": 114,
     "metadata": {},
     "output_type": "execute_result"
    }
   ],
   "source": [
    "(EOM_date-minimum_vintage).date()"
   ]
  },
  {
   "cell_type": "code",
   "execution_count": 163,
   "metadata": {
    "collapsed": false
   },
   "outputs": [
    {
     "data": {
      "text/plain": [
       "0.031639427173267932"
      ]
     },
     "execution_count": 163,
     "metadata": {},
     "output_type": "execute_result"
    }
   ],
   "source": [
    "xirr([loan_principals[loan_principals.fk_loan==loan_test],\n",
    "      loan_payments[loan_payments.fk_loan==loan_test],residuals[residuals.fk_loan==loan_test],recoveries[recoveries.fk_loan==loan_test]])"
   ]
  },
  {
   "cell_type": "code",
   "execution_count": 234,
   "metadata": {
    "collapsed": true
   },
   "outputs": [],
   "source": [
    "loan_test=10"
   ]
  },
  {
   "cell_type": "code",
   "execution_count": 248,
   "metadata": {
    "collapsed": false
   },
   "outputs": [
    {
     "data": {
      "text/plain": [
       "Timestamp('2014-05-30 00:00:00', offset='BM')"
      ]
     },
     "execution_count": 248,
     "metadata": {},
     "output_type": "execute_result"
    }
   ],
   "source": [
    "EOM_date"
   ]
  },
  {
   "cell_type": "code",
   "execution_count": 251,
   "metadata": {
    "collapsed": false
   },
   "outputs": [
    {
     "data": {
      "text/plain": [
       "dcf\n",
       "0.835616    225.29\n",
       "0.920548    450.58\n",
       "1.002740      0.00\n",
       "1.087671    225.29\n",
       "1.164384      0.00\n",
       "Name: payment, dtype: float64"
      ]
     },
     "execution_count": 251,
     "metadata": {},
     "output_type": "execute_result"
    }
   ],
   "source": [
    "z=loan_payments\n",
    "z[z.fk_loan==loan_test].groupby(['dcf']).payment.sum()"
   ]
  },
  {
   "cell_type": "code",
   "execution_count": 244,
   "metadata": {
    "collapsed": false
   },
   "outputs": [
    {
     "data": {
      "text/html": [
       "<div style=\"max-height:1000px;max-width:1500px;overflow:auto;\">\n",
       "<table border=\"1\" class=\"dataframe\">\n",
       "  <thead>\n",
       "    <tr style=\"text-align: right;\">\n",
       "      <th></th>\n",
       "      <th>iso_date</th>\n",
       "      <th>actual_amount_month</th>\n",
       "    </tr>\n",
       "  </thead>\n",
       "  <tbody>\n",
       "    <tr>\n",
       "      <th>32</th>\n",
       "      <td>2014-01-31</td>\n",
       "      <td>0.79</td>\n",
       "    </tr>\n",
       "    <tr>\n",
       "      <th>33</th>\n",
       "      <td>2014-02-28</td>\n",
       "      <td>220.91</td>\n",
       "    </tr>\n",
       "    <tr>\n",
       "      <th>34</th>\n",
       "      <td>2014-03-31</td>\n",
       "      <td>0.00</td>\n",
       "    </tr>\n",
       "    <tr>\n",
       "      <th>35</th>\n",
       "      <td>2014-04-30</td>\n",
       "      <td>445.05</td>\n",
       "    </tr>\n",
       "    <tr>\n",
       "      <th>36</th>\n",
       "      <td>2014-05-31</td>\n",
       "      <td>220.91</td>\n",
       "    </tr>\n",
       "    <tr>\n",
       "      <th>37</th>\n",
       "      <td>2014-06-30</td>\n",
       "      <td>220.91</td>\n",
       "    </tr>\n",
       "    <tr>\n",
       "      <th>38</th>\n",
       "      <td>2014-07-31</td>\n",
       "      <td>220.91</td>\n",
       "    </tr>\n",
       "    <tr>\n",
       "      <th>39</th>\n",
       "      <td>2014-08-31</td>\n",
       "      <td>220.91</td>\n",
       "    </tr>\n",
       "    <tr>\n",
       "      <th>40</th>\n",
       "      <td>2014-09-30</td>\n",
       "      <td>220.91</td>\n",
       "    </tr>\n",
       "    <tr>\n",
       "      <th>41</th>\n",
       "      <td>2014-10-31</td>\n",
       "      <td>220.91</td>\n",
       "    </tr>\n",
       "    <tr>\n",
       "      <th>42</th>\n",
       "      <td>2014-11-30</td>\n",
       "      <td>220.91</td>\n",
       "    </tr>\n",
       "    <tr>\n",
       "      <th>43</th>\n",
       "      <td>2014-12-31</td>\n",
       "      <td>220.91</td>\n",
       "    </tr>\n",
       "    <tr>\n",
       "      <th>44</th>\n",
       "      <td>2015-01-31</td>\n",
       "      <td>220.91</td>\n",
       "    </tr>\n",
       "    <tr>\n",
       "      <th>45</th>\n",
       "      <td>2015-02-28</td>\n",
       "      <td>220.91</td>\n",
       "    </tr>\n",
       "    <tr>\n",
       "      <th>46</th>\n",
       "      <td>2015-03-31</td>\n",
       "      <td>220.91</td>\n",
       "    </tr>\n",
       "    <tr>\n",
       "      <th>47</th>\n",
       "      <td>2015-04-30</td>\n",
       "      <td>220.91</td>\n",
       "    </tr>\n",
       "  </tbody>\n",
       "</table>\n",
       "</div>"
      ],
      "text/plain": [
       "      iso_date  actual_amount_month\n",
       "32  2014-01-31                 0.79\n",
       "33  2014-02-28               220.91\n",
       "34  2014-03-31                 0.00\n",
       "35  2014-04-30               445.05\n",
       "36  2014-05-31               220.91\n",
       "37  2014-06-30               220.91\n",
       "38  2014-07-31               220.91\n",
       "39  2014-08-31               220.91\n",
       "40  2014-09-30               220.91\n",
       "41  2014-10-31               220.91\n",
       "42  2014-11-30               220.91\n",
       "43  2014-12-31               220.91\n",
       "44  2015-01-31               220.91\n",
       "45  2015-02-28               220.91\n",
       "46  2015-03-31               220.91\n",
       "47  2015-04-30               220.91"
      ]
     },
     "execution_count": 244,
     "metadata": {},
     "output_type": "execute_result"
    }
   ],
   "source": [
    "actual_payments.loc[actual_payments.fk_loan==loan_test,['iso_date','actual_amount_month']]"
   ]
  },
  {
   "cell_type": "code",
   "execution_count": 241,
   "metadata": {
    "collapsed": false
   },
   "outputs": [
    {
     "data": {
      "text/plain": [
       "Index([              u'dwh_country_id',             u'fk_user_borrower',\n",
       "                            u'fk_loan',                      u'loan_nr',\n",
       "                           u'iso_date',                     u'interval',\n",
       "              u'interval_payback_date',               u'payment_amount',\n",
       "                 u'payment_amount_cum',             u'principal_amount',\n",
       "                    u'interest_amount', u'sum_interval_interest_amount',\n",
       "                u'interest_amount_cum',     u'residual_interest_amount',\n",
       "               u'principal_amount_cum',     u'initial_principal_amount',\n",
       "          u'residual_principal_amount',        u'expected_amount_month',\n",
       "                u'expected_amount_cum',          u'actual_amount_month',\n",
       "                  u'actual_amount_cum',              u'in_arrears_flag',\n",
       "                   u'in_arrears_since',        u'in_arrears_since_days',\n",
       "                                u'dcf',  u'in_arrears_since_days_30360',\n",
       "                             u'bucket',                    u'bucket_pd',\n",
       "                           u'cum_diff',                    u'id_loan_x',\n",
       "                          u'id_loan_y',                  u'rating_base'],\n",
       "      dtype='object')"
      ]
     },
     "execution_count": 241,
     "metadata": {},
     "output_type": "execute_result"
    }
   ],
   "source": [
    "actual_payments.columns"
   ]
  },
  {
   "cell_type": "code",
   "execution_count": 157,
   "metadata": {
    "collapsed": false
   },
   "outputs": [
    {
     "data": {
      "text/html": [
       "<div style=\"max-height:1000px;max-width:1500px;overflow:auto;\">\n",
       "<table border=\"1\" class=\"dataframe\">\n",
       "  <thead>\n",
       "    <tr style=\"text-align: right;\">\n",
       "      <th></th>\n",
       "      <th>rating_base</th>\n",
       "      <th>fk_loan</th>\n",
       "      <th>originated_since_date</th>\n",
       "      <th>dcf</th>\n",
       "      <th>payment</th>\n",
       "    </tr>\n",
       "  </thead>\n",
       "  <tbody>\n",
       "    <tr>\n",
       "      <th>0</th>\n",
       "      <td>C</td>\n",
       "      <td>7</td>\n",
       "      <td>NaN</td>\n",
       "      <td>1.164384</td>\n",
       "      <td>0</td>\n",
       "    </tr>\n",
       "    <tr>\n",
       "      <th>1</th>\n",
       "      <td>C</td>\n",
       "      <td>7</td>\n",
       "      <td>NaN</td>\n",
       "      <td>1.164384</td>\n",
       "      <td>0</td>\n",
       "    </tr>\n",
       "    <tr>\n",
       "      <th>2</th>\n",
       "      <td>C</td>\n",
       "      <td>7</td>\n",
       "      <td>NaN</td>\n",
       "      <td>1.164384</td>\n",
       "      <td>0</td>\n",
       "    </tr>\n",
       "    <tr>\n",
       "      <th>3</th>\n",
       "      <td>C</td>\n",
       "      <td>7</td>\n",
       "      <td>NaN</td>\n",
       "      <td>1.164384</td>\n",
       "      <td>0</td>\n",
       "    </tr>\n",
       "    <tr>\n",
       "      <th>4</th>\n",
       "      <td>C</td>\n",
       "      <td>7</td>\n",
       "      <td>NaN</td>\n",
       "      <td>1.164384</td>\n",
       "      <td>0</td>\n",
       "    </tr>\n",
       "  </tbody>\n",
       "</table>\n",
       "</div>"
      ],
      "text/plain": [
       "  rating_base  fk_loan  originated_since_date       dcf  payment\n",
       "0           C        7                    NaN  1.164384        0\n",
       "1           C        7                    NaN  1.164384        0\n",
       "2           C        7                    NaN  1.164384        0\n",
       "3           C        7                    NaN  1.164384        0\n",
       "4           C        7                    NaN  1.164384        0"
      ]
     },
     "execution_count": 157,
     "metadata": {},
     "output_type": "execute_result"
    }
   ],
   "source": [
    "loan_payments.head()"
   ]
  },
  {
   "cell_type": "code",
   "execution_count": null,
   "metadata": {
    "collapsed": true
   },
   "outputs": [],
   "source": [
    "recoveries"
   ]
  },
  {
   "cell_type": "code",
   "execution_count": 147,
   "metadata": {
    "collapsed": false
   },
   "outputs": [
    {
     "data": {
      "text/plain": [
       "0    8\n",
       "1    8\n",
       "2    8\n",
       "3    8\n",
       "4    8\n",
       "Name: fk_loan, dtype: int64"
      ]
     },
     "execution_count": 147,
     "metadata": {},
     "output_type": "execute_result"
    }
   ],
   "source": [
    "loan_principals.fk_loan.head()"
   ]
  },
  {
   "cell_type": "code",
   "execution_count": 146,
   "metadata": {
    "collapsed": false
   },
   "outputs": [
    {
     "data": {
      "text/plain": [
       "Timestamp('2015-04-30 00:00:00', offset='BM')"
      ]
     },
     "execution_count": 146,
     "metadata": {},
     "output_type": "execute_result"
    }
   ],
   "source": [
    "EOM_date"
   ]
  },
  {
   "cell_type": "code",
   "execution_count": 177,
   "metadata": {
    "collapsed": false
   },
   "outputs": [
    {
     "data": {
      "text/html": [
       "<div style=\"max-height:1000px;max-width:1500px;overflow:auto;\">\n",
       "<table border=\"1\" class=\"dataframe\">\n",
       "  <thead>\n",
       "    <tr style=\"text-align: right;\">\n",
       "      <th></th>\n",
       "      <th>irr</th>\n",
       "    </tr>\n",
       "  </thead>\n",
       "  <tbody>\n",
       "    <tr>\n",
       "      <th>2014-01-31</th>\n",
       "      <td>-1.000000</td>\n",
       "    </tr>\n",
       "    <tr>\n",
       "      <th>2014-02-28</th>\n",
       "      <td>-1.000000</td>\n",
       "    </tr>\n",
       "    <tr>\n",
       "      <th>2014-03-31</th>\n",
       "      <td>-1.000000</td>\n",
       "    </tr>\n",
       "    <tr>\n",
       "      <th>2014-04-30</th>\n",
       "      <td>NaN</td>\n",
       "    </tr>\n",
       "    <tr>\n",
       "      <th>2014-05-30</th>\n",
       "      <td>-1.000000</td>\n",
       "    </tr>\n",
       "    <tr>\n",
       "      <th>2014-06-30</th>\n",
       "      <td>NaN</td>\n",
       "    </tr>\n",
       "    <tr>\n",
       "      <th>2014-07-31</th>\n",
       "      <td>NaN</td>\n",
       "    </tr>\n",
       "    <tr>\n",
       "      <th>2014-08-29</th>\n",
       "      <td>NaN</td>\n",
       "    </tr>\n",
       "    <tr>\n",
       "      <th>2014-09-30</th>\n",
       "      <td>NaN</td>\n",
       "    </tr>\n",
       "    <tr>\n",
       "      <th>2014-10-31</th>\n",
       "      <td>NaN</td>\n",
       "    </tr>\n",
       "    <tr>\n",
       "      <th>2014-11-28</th>\n",
       "      <td>NaN</td>\n",
       "    </tr>\n",
       "    <tr>\n",
       "      <th>2014-12-31</th>\n",
       "      <td>3.089615</td>\n",
       "    </tr>\n",
       "    <tr>\n",
       "      <th>2015-01-30</th>\n",
       "      <td>NaN</td>\n",
       "    </tr>\n",
       "    <tr>\n",
       "      <th>2015-02-27</th>\n",
       "      <td>NaN</td>\n",
       "    </tr>\n",
       "    <tr>\n",
       "      <th>2015-03-31</th>\n",
       "      <td>2.122632</td>\n",
       "    </tr>\n",
       "    <tr>\n",
       "      <th>2015-04-30</th>\n",
       "      <td>1.792390</td>\n",
       "    </tr>\n",
       "  </tbody>\n",
       "</table>\n",
       "</div>"
      ],
      "text/plain": [
       "                 irr\n",
       "2014-01-31 -1.000000\n",
       "2014-02-28 -1.000000\n",
       "2014-03-31 -1.000000\n",
       "2014-04-30       NaN\n",
       "2014-05-30 -1.000000\n",
       "2014-06-30       NaN\n",
       "2014-07-31       NaN\n",
       "2014-08-29       NaN\n",
       "2014-09-30       NaN\n",
       "2014-10-31       NaN\n",
       "2014-11-28       NaN\n",
       "2014-12-31  3.089615\n",
       "2015-01-30       NaN\n",
       "2015-02-27       NaN\n",
       "2015-03-31  2.122632\n",
       "2015-04-30  1.792390"
      ]
     },
     "execution_count": 177,
     "metadata": {},
     "output_type": "execute_result"
    }
   ],
   "source": [
    "irrs"
   ]
  },
  {
   "cell_type": "code",
   "execution_count": 139,
   "metadata": {
    "collapsed": false
   },
   "outputs": [
    {
     "name": "stdout",
     "output_type": "stream",
     "text": [
      "> \u001b[1;32mc:\\anaconda\\lib\\site-packages\\pandas\\core\\generic.py\u001b[0m(2083)\u001b[0;36m__getattr__\u001b[1;34m()\u001b[0m\n",
      "\u001b[1;32m   2082 \u001b[1;33m            raise AttributeError(\"'%s' object has no attribute '%s'\" %\n",
      "\u001b[0m\u001b[1;32m-> 2083 \u001b[1;33m                                 (type(self).__name__, name))\n",
      "\u001b[0m\u001b[1;32m   2084 \u001b[1;33m\u001b[1;33m\u001b[0m\u001b[0m\n",
      "\u001b[0m\n",
      "ipdb> u\n",
      "> \u001b[1;32mc:\\users\\sean violante\\documents\\projects\\lendico\\projects\\returns\\src\\returns.py\u001b[0m(47)\u001b[0;36mxnpv\u001b[1;34m()\u001b[0m\n",
      "\u001b[1;32m     46 \u001b[1;33m        \u001b[1;32melse\u001b[0m\u001b[1;33m:\u001b[0m\u001b[1;33m\u001b[0m\u001b[0m\n",
      "\u001b[0m\u001b[1;32m---> 47 \u001b[1;33m            \u001b[0mdcfs\u001b[0m \u001b[1;33m=\u001b[0m \u001b[0mamount_dcf_or_list\u001b[0m\u001b[1;33m.\u001b[0m\u001b[0mdcf\u001b[0m\u001b[1;33m\u001b[0m\u001b[0m\n",
      "\u001b[0m\u001b[1;32m     48 \u001b[1;33m            \u001b[0mamounts\u001b[0m \u001b[1;33m=\u001b[0m \u001b[0mamount_dcf_or_list\u001b[0m\u001b[1;33m.\u001b[0m\u001b[0mpayment\u001b[0m\u001b[1;33m\u001b[0m\u001b[0m\n",
      "\u001b[0m\n",
      "ipdb> amount_dcf_or_list.columns\n",
      "Index([u'rating_base', u'fk_loan', u'originated_since_date',\n",
      "       u'originated_since_date_EOM', u'payment'],\n",
      "      dtype='object')\n",
      "ipdb> q\n"
     ]
    }
   ],
   "source": [
    "%debug"
   ]
  },
  {
   "cell_type": "code",
   "execution_count": 68,
   "metadata": {
    "collapsed": false
   },
   "outputs": [
    {
     "data": {
      "text/html": [
       "<div style=\"max-height:1000px;max-width:1500px;overflow:auto;\">\n",
       "<table border=\"1\" class=\"dataframe\">\n",
       "  <thead>\n",
       "    <tr style=\"text-align: right;\">\n",
       "      <th></th>\n",
       "      <th>rating_base</th>\n",
       "      <th>originated_since_date</th>\n",
       "      <th>originated_since_date_EOM</th>\n",
       "      <th>payment</th>\n",
       "    </tr>\n",
       "  </thead>\n",
       "  <tbody>\n",
       "    <tr>\n",
       "      <th>272</th>\n",
       "      <td>C</td>\n",
       "      <td>2013-12-27</td>\n",
       "      <td>2014-01-25</td>\n",
       "      <td>-300</td>\n",
       "    </tr>\n",
       "    <tr>\n",
       "      <th>273</th>\n",
       "      <td>C</td>\n",
       "      <td>2013-12-27</td>\n",
       "      <td>2014-01-25</td>\n",
       "      <td>-300</td>\n",
       "    </tr>\n",
       "    <tr>\n",
       "      <th>274</th>\n",
       "      <td>C</td>\n",
       "      <td>2013-12-27</td>\n",
       "      <td>2014-01-25</td>\n",
       "      <td>-75</td>\n",
       "    </tr>\n",
       "    <tr>\n",
       "      <th>275</th>\n",
       "      <td>C</td>\n",
       "      <td>2013-12-27</td>\n",
       "      <td>2014-01-25</td>\n",
       "      <td>-50</td>\n",
       "    </tr>\n",
       "    <tr>\n",
       "      <th>276</th>\n",
       "      <td>C</td>\n",
       "      <td>2013-12-27</td>\n",
       "      <td>2014-01-25</td>\n",
       "      <td>-25</td>\n",
       "    </tr>\n",
       "    <tr>\n",
       "      <th>277</th>\n",
       "      <td>C</td>\n",
       "      <td>2013-12-27</td>\n",
       "      <td>2014-01-25</td>\n",
       "      <td>-25</td>\n",
       "    </tr>\n",
       "    <tr>\n",
       "      <th>278</th>\n",
       "      <td>C</td>\n",
       "      <td>2013-12-27</td>\n",
       "      <td>2014-01-25</td>\n",
       "      <td>-50</td>\n",
       "    </tr>\n",
       "    <tr>\n",
       "      <th>279</th>\n",
       "      <td>C</td>\n",
       "      <td>2013-12-27</td>\n",
       "      <td>2014-01-25</td>\n",
       "      <td>-50</td>\n",
       "    </tr>\n",
       "    <tr>\n",
       "      <th>280</th>\n",
       "      <td>C</td>\n",
       "      <td>2013-12-27</td>\n",
       "      <td>2014-01-25</td>\n",
       "      <td>-25</td>\n",
       "    </tr>\n",
       "    <tr>\n",
       "      <th>281</th>\n",
       "      <td>C</td>\n",
       "      <td>2013-12-27</td>\n",
       "      <td>2014-01-25</td>\n",
       "      <td>-100</td>\n",
       "    </tr>\n",
       "  </tbody>\n",
       "</table>\n",
       "</div>"
      ],
      "text/plain": [
       "    rating_base originated_since_date originated_since_date_EOM  payment\n",
       "272           C            2013-12-27                2014-01-25     -300\n",
       "273           C            2013-12-27                2014-01-25     -300\n",
       "274           C            2013-12-27                2014-01-25      -75\n",
       "275           C            2013-12-27                2014-01-25      -50\n",
       "276           C            2013-12-27                2014-01-25      -25\n",
       "277           C            2013-12-27                2014-01-25      -25\n",
       "278           C            2013-12-27                2014-01-25      -50\n",
       "279           C            2013-12-27                2014-01-25      -50\n",
       "280           C            2013-12-27                2014-01-25      -25\n",
       "281           C            2013-12-27                2014-01-25     -100"
      ]
     },
     "execution_count": 68,
     "metadata": {},
     "output_type": "execute_result"
    }
   ],
   "source": [
    "loan_principals"
   ]
  },
  {
   "cell_type": "code",
   "execution_count": 281,
   "metadata": {
    "collapsed": false
   },
   "outputs": [
    {
     "data": {
      "text/plain": [
       "59"
      ]
     },
     "execution_count": 281,
     "metadata": {},
     "output_type": "execute_result"
    }
   ],
   "source": [
    "((loans.originated_since_date<datetime.date(2015,2,28)) & (loans.payback_state=='payback_complete')).sum()"
   ]
  },
  {
   "cell_type": "code",
   "execution_count": 282,
   "metadata": {
    "collapsed": false
   },
   "outputs": [
    {
     "data": {
      "text/plain": [
       "1256"
      ]
     },
     "execution_count": 282,
     "metadata": {},
     "output_type": "execute_result"
    }
   ],
   "source": [
    "((loans.originated_since_date<datetime.date(2015,2,28))).sum()"
   ]
  },
  {
   "cell_type": "code",
   "execution_count": 618,
   "metadata": {
    "collapsed": false
   },
   "outputs": [],
   "source": [
    "future_pd_30360_origpd_all[(future_pd_30360_origpd_all.fk_loan==330) & (future_pd_30360_origpd_all.fk_user_investor==63)].to_clipboard()"
   ]
  },
  {
   "cell_type": "code",
   "execution_count": 686,
   "metadata": {
    "collapsed": false
   },
   "outputs": [],
   "source": [
    "cashflows_act_investor_20150430_def=generate_cashflows_act_investor(actual_payments_combined,loan_fundings1,'2015-04-30',payment_plans_combined)"
   ]
  },
  {
   "cell_type": "code",
   "execution_count": 644,
   "metadata": {
    "collapsed": false
   },
   "outputs": [
    {
     "data": {
      "text/plain": [
       "array([ 27,  76,  85,  88, 299, 355, 362, 439, 449, 675], dtype=int64)"
      ]
     },
     "execution_count": 644,
     "metadata": {},
     "output_type": "execute_result"
    }
   ],
   "source": [
    "defs=actual_payments_combined.loc[(actual_payments_combined.iso_date==datetime.date(2015,4,30))& (actual_payments_combined.in_arrears_since_days_30360>90),['fk_loan','iso_date','in_arrears_since_days_30360']].fk_loan.unique()\n",
    "defs"
   ]
  },
  {
   "cell_type": "code",
   "execution_count": 687,
   "metadata": {
    "collapsed": false
   },
   "outputs": [
    {
     "data": {
      "text/html": [
       "<div style=\"max-height:1000px;max-width:1500px;overflow:auto;\">\n",
       "<table border=\"1\" class=\"dataframe\">\n",
       "  <thead>\n",
       "    <tr style=\"text-align: right;\">\n",
       "      <th></th>\n",
       "      <th>dwh_country_id</th>\n",
       "      <th>fk_user_borrower</th>\n",
       "      <th>fk_user_investor</th>\n",
       "      <th>fk_loan</th>\n",
       "      <th>loan_request_nr</th>\n",
       "      <th>iso_date</th>\n",
       "      <th>nominal_interest_percentage</th>\n",
       "      <th>promo_interest_percentage</th>\n",
       "      <th>has_promo_flag</th>\n",
       "      <th>is_repaid_flag</th>\n",
       "      <th>...</th>\n",
       "      <th>residual_principal_amount_investor</th>\n",
       "      <th>expected_amount_month</th>\n",
       "      <th>expected_amount_cum</th>\n",
       "      <th>actual_amount_month</th>\n",
       "      <th>actual_amount_cum</th>\n",
       "      <th>in_arrears_flag</th>\n",
       "      <th>in_arrears_since</th>\n",
       "      <th>in_arrears_since_days</th>\n",
       "      <th>in_arrears_since_days_30360</th>\n",
       "      <th>cum_diff</th>\n",
       "    </tr>\n",
       "  </thead>\n",
       "  <tbody>\n",
       "    <tr>\n",
       "      <th>18729</th>\n",
       "      <td>1</td>\n",
       "      <td>9384</td>\n",
       "      <td>9614</td>\n",
       "      <td>85</td>\n",
       "      <td>68722247</td>\n",
       "      <td>2014-04-30</td>\n",
       "      <td>4.03</td>\n",
       "      <td>3</td>\n",
       "      <td>1</td>\n",
       "      <td>NaN</td>\n",
       "      <td>...</td>\n",
       "      <td>50.0000</td>\n",
       "      <td>10.07</td>\n",
       "      <td>10.07</td>\n",
       "      <td>10.07</td>\n",
       "      <td>10.07</td>\n",
       "      <td>0</td>\n",
       "      <td>None</td>\n",
       "      <td>NaN</td>\n",
       "      <td>NaN</td>\n",
       "      <td>0.00</td>\n",
       "    </tr>\n",
       "    <tr>\n",
       "      <th>18738</th>\n",
       "      <td>1</td>\n",
       "      <td>9384</td>\n",
       "      <td>9614</td>\n",
       "      <td>85</td>\n",
       "      <td>68722247</td>\n",
       "      <td>2014-05-31</td>\n",
       "      <td>4.03</td>\n",
       "      <td>3</td>\n",
       "      <td>1</td>\n",
       "      <td>NaN</td>\n",
       "      <td>...</td>\n",
       "      <td>49.2951</td>\n",
       "      <td>92.16</td>\n",
       "      <td>102.23</td>\n",
       "      <td>92.16</td>\n",
       "      <td>102.23</td>\n",
       "      <td>0</td>\n",
       "      <td>None</td>\n",
       "      <td>NaN</td>\n",
       "      <td>NaN</td>\n",
       "      <td>0.00</td>\n",
       "    </tr>\n",
       "    <tr>\n",
       "      <th>18757</th>\n",
       "      <td>1</td>\n",
       "      <td>9384</td>\n",
       "      <td>9614</td>\n",
       "      <td>85</td>\n",
       "      <td>68722247</td>\n",
       "      <td>2014-06-30</td>\n",
       "      <td>4.03</td>\n",
       "      <td>3</td>\n",
       "      <td>1</td>\n",
       "      <td>NaN</td>\n",
       "      <td>...</td>\n",
       "      <td>48.5863</td>\n",
       "      <td>92.16</td>\n",
       "      <td>194.39</td>\n",
       "      <td>92.16</td>\n",
       "      <td>194.39</td>\n",
       "      <td>0</td>\n",
       "      <td>None</td>\n",
       "      <td>NaN</td>\n",
       "      <td>NaN</td>\n",
       "      <td>0.00</td>\n",
       "    </tr>\n",
       "    <tr>\n",
       "      <th>18773</th>\n",
       "      <td>1</td>\n",
       "      <td>9384</td>\n",
       "      <td>9614</td>\n",
       "      <td>85</td>\n",
       "      <td>68722247</td>\n",
       "      <td>2014-07-31</td>\n",
       "      <td>4.03</td>\n",
       "      <td>3</td>\n",
       "      <td>1</td>\n",
       "      <td>NaN</td>\n",
       "      <td>...</td>\n",
       "      <td>47.8736</td>\n",
       "      <td>92.16</td>\n",
       "      <td>286.55</td>\n",
       "      <td>92.16</td>\n",
       "      <td>286.55</td>\n",
       "      <td>0</td>\n",
       "      <td>None</td>\n",
       "      <td>NaN</td>\n",
       "      <td>NaN</td>\n",
       "      <td>0.00</td>\n",
       "    </tr>\n",
       "    <tr>\n",
       "      <th>18782</th>\n",
       "      <td>1</td>\n",
       "      <td>9384</td>\n",
       "      <td>9614</td>\n",
       "      <td>85</td>\n",
       "      <td>68722247</td>\n",
       "      <td>2014-08-31</td>\n",
       "      <td>4.03</td>\n",
       "      <td>3</td>\n",
       "      <td>1</td>\n",
       "      <td>NaN</td>\n",
       "      <td>...</td>\n",
       "      <td>47.1570</td>\n",
       "      <td>92.16</td>\n",
       "      <td>378.71</td>\n",
       "      <td>92.16</td>\n",
       "      <td>378.71</td>\n",
       "      <td>0</td>\n",
       "      <td>None</td>\n",
       "      <td>NaN</td>\n",
       "      <td>NaN</td>\n",
       "      <td>0.00</td>\n",
       "    </tr>\n",
       "    <tr>\n",
       "      <th>18810</th>\n",
       "      <td>1</td>\n",
       "      <td>9384</td>\n",
       "      <td>9614</td>\n",
       "      <td>85</td>\n",
       "      <td>68722247</td>\n",
       "      <td>2014-09-30</td>\n",
       "      <td>4.03</td>\n",
       "      <td>3</td>\n",
       "      <td>1</td>\n",
       "      <td>NaN</td>\n",
       "      <td>...</td>\n",
       "      <td>46.4365</td>\n",
       "      <td>92.16</td>\n",
       "      <td>470.87</td>\n",
       "      <td>92.16</td>\n",
       "      <td>470.87</td>\n",
       "      <td>0</td>\n",
       "      <td>None</td>\n",
       "      <td>NaN</td>\n",
       "      <td>NaN</td>\n",
       "      <td>0.00</td>\n",
       "    </tr>\n",
       "    <tr>\n",
       "      <th>18815</th>\n",
       "      <td>1</td>\n",
       "      <td>9384</td>\n",
       "      <td>9614</td>\n",
       "      <td>85</td>\n",
       "      <td>68722247</td>\n",
       "      <td>2014-10-31</td>\n",
       "      <td>4.03</td>\n",
       "      <td>3</td>\n",
       "      <td>1</td>\n",
       "      <td>NaN</td>\n",
       "      <td>...</td>\n",
       "      <td>45.7120</td>\n",
       "      <td>92.16</td>\n",
       "      <td>563.03</td>\n",
       "      <td>92.16</td>\n",
       "      <td>563.03</td>\n",
       "      <td>0</td>\n",
       "      <td>None</td>\n",
       "      <td>NaN</td>\n",
       "      <td>NaN</td>\n",
       "      <td>0.00</td>\n",
       "    </tr>\n",
       "    <tr>\n",
       "      <th>18839</th>\n",
       "      <td>1</td>\n",
       "      <td>9384</td>\n",
       "      <td>9614</td>\n",
       "      <td>85</td>\n",
       "      <td>68722247</td>\n",
       "      <td>2014-11-30</td>\n",
       "      <td>4.03</td>\n",
       "      <td>3</td>\n",
       "      <td>1</td>\n",
       "      <td>NaN</td>\n",
       "      <td>...</td>\n",
       "      <td>44.9835</td>\n",
       "      <td>92.16</td>\n",
       "      <td>655.19</td>\n",
       "      <td>92.16</td>\n",
       "      <td>655.19</td>\n",
       "      <td>0</td>\n",
       "      <td>None</td>\n",
       "      <td>NaN</td>\n",
       "      <td>NaN</td>\n",
       "      <td>0.00</td>\n",
       "    </tr>\n",
       "    <tr>\n",
       "      <th>18842</th>\n",
       "      <td>1</td>\n",
       "      <td>9384</td>\n",
       "      <td>9614</td>\n",
       "      <td>85</td>\n",
       "      <td>68722247</td>\n",
       "      <td>2014-12-31</td>\n",
       "      <td>4.03</td>\n",
       "      <td>3</td>\n",
       "      <td>1</td>\n",
       "      <td>NaN</td>\n",
       "      <td>...</td>\n",
       "      <td>44.2510</td>\n",
       "      <td>92.16</td>\n",
       "      <td>747.35</td>\n",
       "      <td>95.16</td>\n",
       "      <td>750.35</td>\n",
       "      <td>0</td>\n",
       "      <td>None</td>\n",
       "      <td>NaN</td>\n",
       "      <td>NaN</td>\n",
       "      <td>-3.00</td>\n",
       "    </tr>\n",
       "    <tr>\n",
       "      <th>18870</th>\n",
       "      <td>1</td>\n",
       "      <td>9384</td>\n",
       "      <td>9614</td>\n",
       "      <td>85</td>\n",
       "      <td>68722247</td>\n",
       "      <td>2015-01-31</td>\n",
       "      <td>4.03</td>\n",
       "      <td>3</td>\n",
       "      <td>1</td>\n",
       "      <td>NaN</td>\n",
       "      <td>...</td>\n",
       "      <td>44.2510</td>\n",
       "      <td>92.16</td>\n",
       "      <td>839.51</td>\n",
       "      <td>0.00</td>\n",
       "      <td>750.35</td>\n",
       "      <td>1</td>\n",
       "      <td>2015-01-01</td>\n",
       "      <td>30</td>\n",
       "      <td>30</td>\n",
       "      <td>89.16</td>\n",
       "    </tr>\n",
       "    <tr>\n",
       "      <th>18876</th>\n",
       "      <td>1</td>\n",
       "      <td>9384</td>\n",
       "      <td>9614</td>\n",
       "      <td>85</td>\n",
       "      <td>68722247</td>\n",
       "      <td>2015-02-28</td>\n",
       "      <td>4.03</td>\n",
       "      <td>3</td>\n",
       "      <td>1</td>\n",
       "      <td>NaN</td>\n",
       "      <td>...</td>\n",
       "      <td>44.2510</td>\n",
       "      <td>92.16</td>\n",
       "      <td>931.67</td>\n",
       "      <td>0.00</td>\n",
       "      <td>750.35</td>\n",
       "      <td>1</td>\n",
       "      <td>2015-01-01</td>\n",
       "      <td>58</td>\n",
       "      <td>57</td>\n",
       "      <td>181.32</td>\n",
       "    </tr>\n",
       "    <tr>\n",
       "      <th>18894</th>\n",
       "      <td>1</td>\n",
       "      <td>9384</td>\n",
       "      <td>9614</td>\n",
       "      <td>85</td>\n",
       "      <td>68722247</td>\n",
       "      <td>2015-03-31</td>\n",
       "      <td>4.03</td>\n",
       "      <td>3</td>\n",
       "      <td>1</td>\n",
       "      <td>NaN</td>\n",
       "      <td>...</td>\n",
       "      <td>44.2510</td>\n",
       "      <td>92.16</td>\n",
       "      <td>1023.83</td>\n",
       "      <td>0.00</td>\n",
       "      <td>750.35</td>\n",
       "      <td>1</td>\n",
       "      <td>2015-01-01</td>\n",
       "      <td>89</td>\n",
       "      <td>90</td>\n",
       "      <td>273.48</td>\n",
       "    </tr>\n",
       "    <tr>\n",
       "      <th>18914</th>\n",
       "      <td>1</td>\n",
       "      <td>9384</td>\n",
       "      <td>9614</td>\n",
       "      <td>85</td>\n",
       "      <td>68722247</td>\n",
       "      <td>2015-04-30</td>\n",
       "      <td>4.03</td>\n",
       "      <td>3</td>\n",
       "      <td>1</td>\n",
       "      <td>NaN</td>\n",
       "      <td>...</td>\n",
       "      <td>44.2510</td>\n",
       "      <td>92.16</td>\n",
       "      <td>1115.99</td>\n",
       "      <td>0.00</td>\n",
       "      <td>750.35</td>\n",
       "      <td>1</td>\n",
       "      <td>2015-01-01</td>\n",
       "      <td>119</td>\n",
       "      <td>119</td>\n",
       "      <td>365.64</td>\n",
       "    </tr>\n",
       "  </tbody>\n",
       "</table>\n",
       "<p>13 rows × 43 columns</p>\n",
       "</div>"
      ],
      "text/plain": [
       "       dwh_country_id  fk_user_borrower  fk_user_investor  fk_loan  \\\n",
       "18729               1              9384              9614       85   \n",
       "18738               1              9384              9614       85   \n",
       "18757               1              9384              9614       85   \n",
       "18773               1              9384              9614       85   \n",
       "18782               1              9384              9614       85   \n",
       "18810               1              9384              9614       85   \n",
       "18815               1              9384              9614       85   \n",
       "18839               1              9384              9614       85   \n",
       "18842               1              9384              9614       85   \n",
       "18870               1              9384              9614       85   \n",
       "18876               1              9384              9614       85   \n",
       "18894               1              9384              9614       85   \n",
       "18914               1              9384              9614       85   \n",
       "\n",
       "       loan_request_nr    iso_date  nominal_interest_percentage  \\\n",
       "18729         68722247  2014-04-30                         4.03   \n",
       "18738         68722247  2014-05-31                         4.03   \n",
       "18757         68722247  2014-06-30                         4.03   \n",
       "18773         68722247  2014-07-31                         4.03   \n",
       "18782         68722247  2014-08-31                         4.03   \n",
       "18810         68722247  2014-09-30                         4.03   \n",
       "18815         68722247  2014-10-31                         4.03   \n",
       "18839         68722247  2014-11-30                         4.03   \n",
       "18842         68722247  2014-12-31                         4.03   \n",
       "18870         68722247  2015-01-31                         4.03   \n",
       "18876         68722247  2015-02-28                         4.03   \n",
       "18894         68722247  2015-03-31                         4.03   \n",
       "18914         68722247  2015-04-30                         4.03   \n",
       "\n",
       "       promo_interest_percentage  has_promo_flag  is_repaid_flag    ...     \\\n",
       "18729                          3               1             NaN    ...      \n",
       "18738                          3               1             NaN    ...      \n",
       "18757                          3               1             NaN    ...      \n",
       "18773                          3               1             NaN    ...      \n",
       "18782                          3               1             NaN    ...      \n",
       "18810                          3               1             NaN    ...      \n",
       "18815                          3               1             NaN    ...      \n",
       "18839                          3               1             NaN    ...      \n",
       "18842                          3               1             NaN    ...      \n",
       "18870                          3               1             NaN    ...      \n",
       "18876                          3               1             NaN    ...      \n",
       "18894                          3               1             NaN    ...      \n",
       "18914                          3               1             NaN    ...      \n",
       "\n",
       "      residual_principal_amount_investor  expected_amount_month  \\\n",
       "18729                            50.0000                  10.07   \n",
       "18738                            49.2951                  92.16   \n",
       "18757                            48.5863                  92.16   \n",
       "18773                            47.8736                  92.16   \n",
       "18782                            47.1570                  92.16   \n",
       "18810                            46.4365                  92.16   \n",
       "18815                            45.7120                  92.16   \n",
       "18839                            44.9835                  92.16   \n",
       "18842                            44.2510                  92.16   \n",
       "18870                            44.2510                  92.16   \n",
       "18876                            44.2510                  92.16   \n",
       "18894                            44.2510                  92.16   \n",
       "18914                            44.2510                  92.16   \n",
       "\n",
       "      expected_amount_cum actual_amount_month  actual_amount_cum  \\\n",
       "18729               10.07               10.07              10.07   \n",
       "18738              102.23               92.16             102.23   \n",
       "18757              194.39               92.16             194.39   \n",
       "18773              286.55               92.16             286.55   \n",
       "18782              378.71               92.16             378.71   \n",
       "18810              470.87               92.16             470.87   \n",
       "18815              563.03               92.16             563.03   \n",
       "18839              655.19               92.16             655.19   \n",
       "18842              747.35               95.16             750.35   \n",
       "18870              839.51                0.00             750.35   \n",
       "18876              931.67                0.00             750.35   \n",
       "18894             1023.83                0.00             750.35   \n",
       "18914             1115.99                0.00             750.35   \n",
       "\n",
       "       in_arrears_flag  in_arrears_since  in_arrears_since_days  \\\n",
       "18729                0              None                    NaN   \n",
       "18738                0              None                    NaN   \n",
       "18757                0              None                    NaN   \n",
       "18773                0              None                    NaN   \n",
       "18782                0              None                    NaN   \n",
       "18810                0              None                    NaN   \n",
       "18815                0              None                    NaN   \n",
       "18839                0              None                    NaN   \n",
       "18842                0              None                    NaN   \n",
       "18870                1        2015-01-01                     30   \n",
       "18876                1        2015-01-01                     58   \n",
       "18894                1        2015-01-01                     89   \n",
       "18914                1        2015-01-01                    119   \n",
       "\n",
       "       in_arrears_since_days_30360  cum_diff  \n",
       "18729                          NaN      0.00  \n",
       "18738                          NaN      0.00  \n",
       "18757                          NaN      0.00  \n",
       "18773                          NaN      0.00  \n",
       "18782                          NaN      0.00  \n",
       "18810                          NaN      0.00  \n",
       "18815                          NaN      0.00  \n",
       "18839                          NaN      0.00  \n",
       "18842                          NaN     -3.00  \n",
       "18870                           30     89.16  \n",
       "18876                           57    181.32  \n",
       "18894                           90    273.48  \n",
       "18914                          119    365.64  \n",
       "\n",
       "[13 rows x 43 columns]"
      ]
     },
     "execution_count": 687,
     "metadata": {},
     "output_type": "execute_result"
    }
   ],
   "source": [
    "z=actual_payments_combined\n",
    "z[(z.fk_loan==85) & (z.fk_user_investor==9614)].to_clipboard()"
   ]
  },
  {
   "cell_type": "code",
   "execution_count": 654,
   "metadata": {
    "collapsed": false
   },
   "outputs": [],
   "source": [
    "cashflows_act_investor_20150430[(cashflows_act_investor_20150430.id_loan==27) & (cashflows_act_investor_20150430.fk_user_investor==2190)].to_clipboard()"
   ]
  },
  {
   "cell_type": "code",
   "execution_count": null,
   "metadata": {
    "collapsed": false
   },
   "outputs": [],
   "source": [
    "z=cashflows_act_investor_20150430_def\n",
    "z[(z.id_loan==85) & (z.fk_user_investor==9614)].to_clipboard()"
   ]
  },
  {
   "cell_type": "code",
   "execution_count": 658,
   "metadata": {
    "collapsed": false
   },
   "outputs": [],
   "source": [
    "cashflows_act_investor_20150430_def=add_loan_rating(cashflows_act_investor_20150430_def,loans1)"
   ]
  },
  {
   "cell_type": "code",
   "execution_count": 691,
   "metadata": {
    "collapsed": false
   },
   "outputs": [
    {
     "data": {
      "text/html": [
       "<div style=\"max-height:1000px;max-width:1500px;overflow:auto;\">\n",
       "<table border=\"1\" class=\"dataframe\">\n",
       "  <thead>\n",
       "    <tr style=\"text-align: right;\">\n",
       "      <th></th>\n",
       "      <th>dwh_country_id</th>\n",
       "      <th>id_loan_funding</th>\n",
       "      <th>fk_loan</th>\n",
       "      <th>fk_loan_request</th>\n",
       "      <th>fk_user</th>\n",
       "      <th>country_name</th>\n",
       "      <th>currency_code</th>\n",
       "      <th>loan_request_creation_date</th>\n",
       "      <th>amount</th>\n",
       "      <th>investment_yield</th>\n",
       "      <th>...</th>\n",
       "      <th>created_at</th>\n",
       "      <th>updated_at</th>\n",
       "      <th>dwh_created</th>\n",
       "      <th>dwh_last_modified</th>\n",
       "      <th>id_loan</th>\n",
       "      <th>originated_since_date</th>\n",
       "      <th>originated_since_date_EOM</th>\n",
       "      <th>payback_day</th>\n",
       "      <th>principal_amount</th>\n",
       "      <th>loan_coverage1</th>\n",
       "    </tr>\n",
       "  </thead>\n",
       "  <tbody>\n",
       "    <tr>\n",
       "      <th>13</th>\n",
       "      <td>1</td>\n",
       "      <td>652</td>\n",
       "      <td>3</td>\n",
       "      <td>10</td>\n",
       "      <td>38</td>\n",
       "      <td>Germany</td>\n",
       "      <td>EUR</td>\n",
       "      <td>2013-11-30</td>\n",
       "      <td>800</td>\n",
       "      <td>4.7033</td>\n",
       "      <td>...</td>\n",
       "      <td>2013-12-09 11:53:09</td>\n",
       "      <td>2015-05-14 09:16:07</td>\n",
       "      <td>2014-02-21 17:33:03.857077</td>\n",
       "      <td>2015-05-14 10:21:02.718089</td>\n",
       "      <td>3</td>\n",
       "      <td>2014-01-10</td>\n",
       "      <td>2014-01-25</td>\n",
       "      <td>15</td>\n",
       "      <td>3800</td>\n",
       "      <td>21.052632</td>\n",
       "    </tr>\n",
       "  </tbody>\n",
       "</table>\n",
       "<p>1 rows × 33 columns</p>\n",
       "</div>"
      ],
      "text/plain": [
       "    dwh_country_id  id_loan_funding  fk_loan  fk_loan_request  fk_user  \\\n",
       "13               1              652        3               10       38   \n",
       "\n",
       "   country_name currency_code loan_request_creation_date  amount  \\\n",
       "13      Germany           EUR                 2013-11-30     800   \n",
       "\n",
       "    investment_yield      ...                created_at          updated_at  \\\n",
       "13            4.7033      ...       2013-12-09 11:53:09 2015-05-14 09:16:07   \n",
       "\n",
       "                  dwh_created          dwh_last_modified  id_loan  \\\n",
       "13 2014-02-21 17:33:03.857077 2015-05-14 10:21:02.718089        3   \n",
       "\n",
       "    originated_since_date  originated_since_date_EOM payback_day  \\\n",
       "13             2014-01-10                 2014-01-25          15   \n",
       "\n",
       "    principal_amount loan_coverage1  \n",
       "13              3800      21.052632  \n",
       "\n",
       "[1 rows x 33 columns]"
      ]
     },
     "execution_count": 691,
     "metadata": {},
     "output_type": "execute_result"
    }
   ],
   "source": [
    "z=loan_fundings1\n",
    "z[(z.fk_loan==3) & (z.fk_user==38)]"
   ]
  },
  {
   "cell_type": "markdown",
   "metadata": {},
   "source": [
    "For actual - to EOM valuation date, we use principal outstanding (ie including in arrears principal)\n",
    "For actual_origpd/arrears - using future cashflows we take future cashflows (ie after EOM date) rather than last paid principal"
   ]
  },
  {
   "cell_type": "code",
   "execution_count": 542,
   "metadata": {
    "collapsed": false
   },
   "outputs": [],
   "source": [
    "cashflows_act_investor_20150430=generate_cashflows_act_investor(actual_payments_combined,loan_fundings1,'2015-04-30',payment_plans_combined)\n",
    "cashflows_act_arrears_investor=generate_cashflows(future_pd_30360_arrears,loan_fundings1,True,'2015-04-30',  actual_payments_combined)\n",
    "cashflows_act_origpd_investor=generate_cashflows(future_pd_30360_origpd,loan_fundings1,True,'2015-04-30', actual_payments_combined)\n",
    "\n",
    "cashflows_act_arrears_latest_paid_investor=generate_cashflows(future_pd_30360_arrears_latest_paid,loan_fundings1,True,'2015-04-30',  actual_payments_combined)\n",
    "cashflows_act_origpd_latest_paid_investor=generate_cashflows(future_pd_30360_origpd_latest_paid,loan_fundings1,True,'2015-04-30', actual_payments_combined)\n",
    "\n"
   ]
  },
  {
   "cell_type": "code",
   "execution_count": 543,
   "metadata": {
    "collapsed": true
   },
   "outputs": [],
   "source": [
    "cashflows_plan_origpd_all=generate_cashflows(future_pd_30360_origpd_all,loan_fundings1,True)\n",
    "cashflows_plan_origpd_noshift_all=generate_cashflows(future_pd_30360_origpd_all,loan_fundings1,False)\n"
   ]
  },
  {
   "cell_type": "code",
   "execution_count": 544,
   "metadata": {
    "collapsed": false
   },
   "outputs": [],
   "source": [
    "cashflows_plan_investor_20150430=generate_cashflows_pp(payment_plans_combined,loan_fundings1,loans,'2015-04-30')\n",
    "cashflows_plan_investor_all=generate_cashflows_pp(payment_plans_combined,loan_fundings1,loans)"
   ]
  },
  {
   "cell_type": "code",
   "execution_count": 545,
   "metadata": {
    "collapsed": false
   },
   "outputs": [],
   "source": [
    "def replace_repaid(actual_cashflows,plan_cashflows):\n",
    "    return pd.concat([actual_cashflows[actual_cashflows.payback_state!='payback_complete'],\n",
    "                      plan_cashflows[plan_cashflows.payback_state=='payback_complete']],ignore_index=True)"
   ]
  },
  {
   "cell_type": "code",
   "execution_count": 546,
   "metadata": {
    "collapsed": false
   },
   "outputs": [],
   "source": [
    "cashflows_act_investor_20150430_repaid = replace_repaid(cashflows_act_investor_20150430,cashflows_plan_investor_all)\n",
    "cashflows_act_arrears_latest_paid_investor_repaid = replace_repaid( cashflows_act_arrears_latest_paid_investor,cashflows_plan_investor_all)\n",
    "cashflows_act_origpd_latest_paid_investor_repaid = replace_repaid( cashflows_act_origpd_latest_paid_investor,cashflows_plan_investor_all)\n"
   ]
  },
  {
   "cell_type": "code",
   "execution_count": 275,
   "metadata": {
    "collapsed": false
   },
   "outputs": [],
   "source": [
    "payment_plans_combined[(payment_plans_combined.fk_loan==34) & (payment_plans_combined.fk_user_investor==38)].to_clipboard()"
   ]
  },
  {
   "cell_type": "code",
   "execution_count": 273,
   "metadata": {
    "collapsed": false
   },
   "outputs": [],
   "source": [
    "cashflows_act_investor_EOM[(cashflows_act_investor_EOM.id_loan==34) & (cashflows_act_investor_EOM.fk_user_investor==38)].to_clipboard()"
   ]
  },
  {
   "cell_type": "code",
   "execution_count": 255,
   "metadata": {
    "collapsed": false
   },
   "outputs": [],
   "source": [
    "cashflows_plan_origpd_noshift_all[(cashflows_plan_origpd_noshift_all.id_loan==574) & (cashflows_plan_origpd_noshift_all.fk_user_investor==31192)].to_clipboard()"
   ]
  },
  {
   "cell_type": "code",
   "execution_count": 256,
   "metadata": {
    "collapsed": true
   },
   "outputs": [],
   "source": [
    "future_pd_30360_origpd_all[(future_pd_30360_origpd_all.fk_loan==574) & (future_pd_30360_origpd_all.fk_user_investor==31192)].to_clipboard()"
   ]
  },
  {
   "cell_type": "code",
   "execution_count": 38,
   "metadata": {
    "collapsed": false
   },
   "outputs": [
    {
     "ename": "NameError",
     "evalue": "name 'cashflows_act_investor' is not defined",
     "output_type": "error",
     "traceback": [
      "\u001b[1;31m---------------------------------------------------------------------------\u001b[0m",
      "\u001b[1;31mNameError\u001b[0m                                 Traceback (most recent call last)",
      "\u001b[1;32m<ipython-input-38-56b6999d409e>\u001b[0m in \u001b[0;36m<module>\u001b[1;34m()\u001b[0m\n\u001b[1;32m----> 1\u001b[1;33m \u001b[0mloans_act_xirr\u001b[0m\u001b[1;33m=\u001b[0m\u001b[0mcashflows_act_investor\u001b[0m\u001b[1;33m.\u001b[0m\u001b[0mgroupby\u001b[0m\u001b[1;33m(\u001b[0m\u001b[1;34m'id_loan'\u001b[0m\u001b[1;33m)\u001b[0m\u001b[1;33m.\u001b[0m\u001b[0mapply\u001b[0m\u001b[1;33m(\u001b[0m\u001b[1;32mlambda\u001b[0m \u001b[0mx\u001b[0m\u001b[1;33m:\u001b[0m \u001b[0mxirr\u001b[0m\u001b[1;33m(\u001b[0m\u001b[0mx\u001b[0m\u001b[1;33m.\u001b[0m\u001b[0mpayment\u001b[0m\u001b[1;33m,\u001b[0m\u001b[0mx\u001b[0m\u001b[1;33m.\u001b[0m\u001b[0mdcf\u001b[0m\u001b[1;33m)\u001b[0m\u001b[1;33m)\u001b[0m\u001b[1;33m\u001b[0m\u001b[0m\n\u001b[0m",
      "\u001b[1;31mNameError\u001b[0m: name 'cashflows_act_investor' is not defined"
     ]
    }
   ],
   "source": [
    "loans_act_xirr=cashflows_act_investor.groupby('id_loan').apply(lambda x: xirr(x.payment,x.dcf))"
   ]
  },
  {
   "cell_type": "code",
   "execution_count": 560,
   "metadata": {
    "collapsed": true
   },
   "outputs": [],
   "source": [
    "loans_act_arrears_latest_paid_xirr=cashflows_act_arrears_latest_paid_investor.groupby('id_loan').apply(lambda x: xirr(x.payment,x.dcf))\n",
    "loans_act_origpd_latest_paid_xirr=cashflows_act_origpd_latest_paid_investor.groupby('id_loan').apply(lambda x: xirr(x.payment,x.dcf))"
   ]
  },
  {
   "cell_type": "code",
   "execution_count": 559,
   "metadata": {
    "collapsed": true
   },
   "outputs": [],
   "source": [
    "loans_act_arrears_latest_paid_repaid_xirr=cashflows_act_arrears_latest_paid_investor_repaid.groupby('id_loan').apply(lambda x: xirr(x.payment,x.dcf))\n",
    "loans_act_origpd_latest_paid__repaid_xirr=cashflows_act_origpd_latest_paid_investor_repaid.groupby('id_loan').apply(lambda x: xirr(x.payment,x.dcf))"
   ]
  },
  {
   "cell_type": "code",
   "execution_count": 151,
   "metadata": {
    "collapsed": false
   },
   "outputs": [],
   "source": [
    "cashflows_act_arrears_investor[(cashflows_act_arrears_investor.id_loan==675) & (cashflows_act_arrears_investor.fk_user_investor==38)].to_clipboard()"
   ]
  },
  {
   "cell_type": "code",
   "execution_count": 548,
   "metadata": {
    "collapsed": false
   },
   "outputs": [],
   "source": [
    "loans_act_20150430_xirr=cashflows_act_investor_20150430.groupby('id_loan').apply(lambda x: xirr(x.payment,x.dcf))"
   ]
  },
  {
   "cell_type": "code",
   "execution_count": 549,
   "metadata": {
    "collapsed": true
   },
   "outputs": [],
   "source": [
    "loans_act_20150430_repaid_xirr=cashflows_act_investor_20150430_repaid.groupby('id_loan').apply(lambda x: xirr(x.payment,x.dcf))"
   ]
  },
  {
   "cell_type": "code",
   "execution_count": 552,
   "metadata": {
    "collapsed": true
   },
   "outputs": [],
   "source": [
    "loans_act_arrears_xirr=cashflows_act_arrears_investor.groupby('id_loan').apply(lambda x: xirr(x.payment,x.dcf))"
   ]
  },
  {
   "cell_type": "code",
   "execution_count": 551,
   "metadata": {
    "collapsed": true
   },
   "outputs": [],
   "source": [
    "loans_act_origpd_xirr=cashflows_act_origpd_investor.groupby('id_loan').apply(lambda x: xirr(x.payment,x.dcf))"
   ]
  },
  {
   "cell_type": "code",
   "execution_count": 553,
   "metadata": {
    "collapsed": true
   },
   "outputs": [],
   "source": [
    "loans_plan_origpd_xirr=cashflows_plan_origpd_all.groupby('id_loan').apply(lambda x: xirr(x.payment,x.dcf))"
   ]
  },
  {
   "cell_type": "code",
   "execution_count": 555,
   "metadata": {
    "collapsed": true
   },
   "outputs": [],
   "source": [
    "loans_plan_origpd_noshift_xirr=cashflows_plan_origpd_noshift_all.groupby('id_loan').apply(lambda x: xirr(x.payment,x.dcf))"
   ]
  },
  {
   "cell_type": "code",
   "execution_count": 557,
   "metadata": {
    "collapsed": true
   },
   "outputs": [],
   "source": [
    "loans_plan_20150430_xirr=cashflows_plan_investor_20150430.groupby('id_loan').apply(lambda x: xirr(x.payment,x.dcf))"
   ]
  },
  {
   "cell_type": "code",
   "execution_count": 242,
   "metadata": {
    "collapsed": false
   },
   "outputs": [
    {
     "data": {
      "text/plain": [
       "0.084111226975740833"
      ]
     },
     "execution_count": 242,
     "metadata": {},
     "output_type": "execute_result"
    }
   ],
   "source": [
    "loans_plan_origpd_xirr[350]"
   ]
  },
  {
   "cell_type": "code",
   "execution_count": 249,
   "metadata": {
    "collapsed": false
   },
   "outputs": [],
   "source": [
    "cashflows_plan_origpd_noshift_all[(cashflows_plan_origpd_noshift_all.id_loan==210)&(cashflows_plan_origpd_noshift_all.fk_user_investor==25151)].to_clipboard()"
   ]
  },
  {
   "cell_type": "code",
   "execution_count": 558,
   "metadata": {
    "collapsed": true
   },
   "outputs": [],
   "source": [
    "loans_plan_all_xirr=cashflows_plan_investor_all.groupby('id_loan').apply(lambda x: xirr(x.payment,x.dcf))"
   ]
  },
  {
   "cell_type": "markdown",
   "metadata": {},
   "source": [
    "plan_all: assumes all payments were made according to plan\n",
    "\n",
    "\n",
    "act_EOM: uses actual payments until reporting date, and assumes outstanding principal repaid\n",
    "\n",
    "\n",
    "act_origpd:: uses actual payments until reporting date, and predicts payments for subsequent dates (so missing payments will never be paid back)\n",
    "\n",
    "\n",
    "act_origpd_latest_paid:: uses actual payments until reporting date, and predicts payments for remaining loan ( including currently in arrears)\n",
    "\n",
    "\n",
    "act_arrears - same but with inarrears pd"
   ]
  },
  {
   "cell_type": "code",
   "execution_count": 195,
   "metadata": {
    "collapsed": false
   },
   "outputs": [
    {
     "data": {
      "text/html": [
       "<div style=\"max-height:1000px;max-width:1500px;overflow:auto;\">\n",
       "<table border=\"1\" class=\"dataframe\">\n",
       "  <thead>\n",
       "    <tr style=\"text-align: right;\">\n",
       "      <th></th>\n",
       "      <th>id_loan</th>\n",
       "      <th>fk_user_investor</th>\n",
       "      <th>date</th>\n",
       "      <th>payment</th>\n",
       "      <th>dcf</th>\n",
       "      <th>originated_since_date</th>\n",
       "      <th>rating_base</th>\n",
       "      <th>rating_switch</th>\n",
       "      <th>payback_state</th>\n",
       "    </tr>\n",
       "  </thead>\n",
       "  <tbody>\n",
       "    <tr>\n",
       "      <th>0</th>\n",
       "      <td>3</td>\n",
       "      <td>38</td>\n",
       "      <td>2014-02-15</td>\n",
       "      <td>34.99</td>\n",
       "      <td>1.123288</td>\n",
       "      <td>2014-01-10</td>\n",
       "      <td>C</td>\n",
       "      <td>1</td>\n",
       "      <td>payback_received</td>\n",
       "    </tr>\n",
       "    <tr>\n",
       "      <th>1</th>\n",
       "      <td>3</td>\n",
       "      <td>38</td>\n",
       "      <td>2014-03-15</td>\n",
       "      <td>34.99</td>\n",
       "      <td>1.046575</td>\n",
       "      <td>2014-01-10</td>\n",
       "      <td>C</td>\n",
       "      <td>1</td>\n",
       "      <td>payback_received</td>\n",
       "    </tr>\n",
       "    <tr>\n",
       "      <th>2</th>\n",
       "      <td>3</td>\n",
       "      <td>38</td>\n",
       "      <td>2014-04-15</td>\n",
       "      <td>34.99</td>\n",
       "      <td>0.961644</td>\n",
       "      <td>2014-01-10</td>\n",
       "      <td>C</td>\n",
       "      <td>1</td>\n",
       "      <td>payback_received</td>\n",
       "    </tr>\n",
       "    <tr>\n",
       "      <th>3</th>\n",
       "      <td>3</td>\n",
       "      <td>38</td>\n",
       "      <td>2014-05-15</td>\n",
       "      <td>34.99</td>\n",
       "      <td>0.879452</td>\n",
       "      <td>2014-01-10</td>\n",
       "      <td>C</td>\n",
       "      <td>1</td>\n",
       "      <td>payback_received</td>\n",
       "    </tr>\n",
       "    <tr>\n",
       "      <th>4</th>\n",
       "      <td>3</td>\n",
       "      <td>38</td>\n",
       "      <td>2014-06-15</td>\n",
       "      <td>34.99</td>\n",
       "      <td>0.794521</td>\n",
       "      <td>2014-01-10</td>\n",
       "      <td>C</td>\n",
       "      <td>1</td>\n",
       "      <td>payback_received</td>\n",
       "    </tr>\n",
       "  </tbody>\n",
       "</table>\n",
       "</div>"
      ],
      "text/plain": [
       "   id_loan  fk_user_investor       date  payment       dcf  \\\n",
       "0        3                38 2014-02-15    34.99  1.123288   \n",
       "1        3                38 2014-03-15    34.99  1.046575   \n",
       "2        3                38 2014-04-15    34.99  0.961644   \n",
       "3        3                38 2014-05-15    34.99  0.879452   \n",
       "4        3                38 2014-06-15    34.99  0.794521   \n",
       "\n",
       "  originated_since_date rating_base  rating_switch     payback_state  \n",
       "0            2014-01-10           C              1  payback_received  \n",
       "1            2014-01-10           C              1  payback_received  \n",
       "2            2014-01-10           C              1  payback_received  \n",
       "3            2014-01-10           C              1  payback_received  \n",
       "4            2014-01-10           C              1  payback_received  "
      ]
     },
     "execution_count": 195,
     "metadata": {},
     "output_type": "execute_result"
    }
   ],
   "source": [
    "cashflows_plan_investor_20150430.head()"
   ]
  },
  {
   "cell_type": "code",
   "execution_count": null,
   "metadata": {
    "collapsed": true
   },
   "outputs": [],
   "source": [
    "loans.date_of_first_loan_offer"
   ]
  },
  {
   "cell_type": "code",
   "execution_count": 584,
   "metadata": {
    "collapsed": false
   },
   "outputs": [],
   "source": []
  },
  {
   "cell_type": "code",
   "execution_count": 587,
   "metadata": {
    "collapsed": false
   },
   "outputs": [],
   "source": [
    "#loans_xirr=pd.DataFrame({'plan':loan_pp_xirr,'origpd':loans_fut_xirr_origpd, 'inarr':loans_fut_xirr_arrears})\n",
    "loans_xirr=pd.DataFrame({'plan_all':loans_plan_all_xirr,\\\n",
    "                         'plan_20150430':loans_plan_20150430_xirr,\\\n",
    "                         'act_20150430':loans_act_20150430_xirr,\n",
    "                         'act_20150430_repaid':loans_act_20150430_repaid_xirr,\n",
    "                         'act_origpd':loans_act_origpd_xirr, \n",
    "                         'act_arrears' :loans_act_arrears_xirr,\n",
    "                         'act_origpd_latest_paid':loans_act_origpd_latest_paid_xirr, \n",
    "                         'act_origpd_latest_paid_repaid':loans_act_origpd_latest_paid__repaid_xirr, \n",
    "                         'act_arrears_latest_paid' :loans_act_arrears_latest_paid_xirr,\n",
    "                         'act_arrears_latest_paid_repaid' :loans_act_arrears_latest_paid_repaid_xirr,\n",
    "                        'plan_origpd': loans_plan_origpd_xirr, \n",
    "                         'plan_origpd_noshift': loans_plan_origpd_noshift_xirr \n",
    "                        })\n",
    "loans_xirr=loans_xirr.merge(loans1[['id_loan','date_of_first_loan_offer','originated_since_date','principal_amount','payback_state','pd','bucket_pd',\n",
    "                                    'rating','base_date', 'base_return']],\\\n",
    "                            left_index=True,right_on='id_loan')\n",
    "loans_xirr['orig_month']=np.array(loans_xirr.originated_since_date,'datetime64[M]')\n",
    "loans_xirr['rating_base']=loans_xirr['rating'].str[0]\n",
    "\n",
    "loans_xirr=loans_xirr.reindex(columns=['id_loan','date_of_first_loan_offer','originated_since_date','orig_month','principal_amount','payback_state',\\\n",
    "                                       'pd','bucket_pd','rating','rating_base','base_date','base_return', 'plan_all','plan_20150430',\\\n",
    "                                       'act_20150430','act_20150430_repaid', 'plan_origpd_noshift','plan_origpd', \\\n",
    "                                      'act_origpd', 'act_arrears', \\\n",
    "                                      'act_origpd_latest_paid','act_origpd_latest_paid_repaid', \\\n",
    "                                       'act_arrears_latest_paid', 'act_arrears_latest_paid_repaid'\n",
    "                                      ])\n",
    "loans_xirr=abs_diff(loans_xirr,[('base_return','plan_origpd_noshift'),\n",
    "                                ('plan_origpd_noshift', 'plan_origpd'),\n",
    "                                ('plan_20150430','act_20150430'),\n",
    "                                ('act_20150430','act_arrears_latest_paid_repaid')])\n",
    "                                \n",
    "                                \n",
    "loans_xirr.to_clipboard(index=False)"
   ]
  },
  {
   "cell_type": "code",
   "execution_count": 268,
   "metadata": {
    "collapsed": false
   },
   "outputs": [
    {
     "data": {
      "text/html": [
       "<div style=\"max-height:1000px;max-width:1500px;overflow:auto;\">\n",
       "<table border=\"1\" class=\"dataframe\">\n",
       "  <thead>\n",
       "    <tr style=\"text-align: right;\">\n",
       "      <th></th>\n",
       "      <th>id_loan</th>\n",
       "      <th>originated_since_date</th>\n",
       "      <th>orig_month</th>\n",
       "      <th>principal_amount</th>\n",
       "      <th>payback_state</th>\n",
       "      <th>pd</th>\n",
       "      <th>bucket_pd</th>\n",
       "      <th>rating</th>\n",
       "      <th>rating_base</th>\n",
       "      <th>rating_switch</th>\n",
       "      <th>plan_all</th>\n",
       "      <th>plan_20150430</th>\n",
       "      <th>act_EOM</th>\n",
       "      <th>plan_origpd_noshift</th>\n",
       "      <th>plan_origpd</th>\n",
       "      <th>act_origpd</th>\n",
       "      <th>act_arrears</th>\n",
       "      <th>act_origpd_latest_paid</th>\n",
       "      <th>act_arrears_latest_paid</th>\n",
       "    </tr>\n",
       "  </thead>\n",
       "  <tbody>\n",
       "    <tr>\n",
       "      <th>20</th>\n",
       "      <td>27</td>\n",
       "      <td>2014-01-20</td>\n",
       "      <td>2014-01-01</td>\n",
       "      <td>5000</td>\n",
       "      <td>payback_complete</td>\n",
       "      <td>1.80</td>\n",
       "      <td>1.000</td>\n",
       "      <td>A3</td>\n",
       "      <td>A</td>\n",
       "      <td>1</td>\n",
       "      <td>0.047859</td>\n",
       "      <td>0.047859</td>\n",
       "      <td>-0.885755</td>\n",
       "      <td>0.040468</td>\n",
       "      <td>0.042525</td>\n",
       "      <td>-0.885755</td>\n",
       "      <td>-0.885755</td>\n",
       "      <td>0.041265</td>\n",
       "      <td>-0.281649</td>\n",
       "    </tr>\n",
       "    <tr>\n",
       "      <th>25</th>\n",
       "      <td>34</td>\n",
       "      <td>2014-01-29</td>\n",
       "      <td>2014-01-01</td>\n",
       "      <td>8000</td>\n",
       "      <td>payback_received</td>\n",
       "      <td>10.25</td>\n",
       "      <td>0.164</td>\n",
       "      <td>E4</td>\n",
       "      <td>E</td>\n",
       "      <td>1</td>\n",
       "      <td>0.146789</td>\n",
       "      <td>0.143436</td>\n",
       "      <td>0.121602</td>\n",
       "      <td>0.069296</td>\n",
       "      <td>0.070657</td>\n",
       "      <td>0.099493</td>\n",
       "      <td>0.075065</td>\n",
       "      <td>0.107446</td>\n",
       "      <td>0.081820</td>\n",
       "    </tr>\n",
       "    <tr>\n",
       "      <th>29</th>\n",
       "      <td>35</td>\n",
       "      <td>2014-01-29</td>\n",
       "      <td>2014-01-01</td>\n",
       "      <td>5000</td>\n",
       "      <td>payback</td>\n",
       "      <td>5.07</td>\n",
       "      <td>0.164</td>\n",
       "      <td>C2</td>\n",
       "      <td>C</td>\n",
       "      <td>1</td>\n",
       "      <td>0.079247</td>\n",
       "      <td>0.079233</td>\n",
       "      <td>0.025790</td>\n",
       "      <td>0.055918</td>\n",
       "      <td>0.060880</td>\n",
       "      <td>0.032465</td>\n",
       "      <td>0.021970</td>\n",
       "      <td>0.076651</td>\n",
       "      <td>0.064536</td>\n",
       "    </tr>\n",
       "    <tr>\n",
       "      <th>35</th>\n",
       "      <td>44</td>\n",
       "      <td>2014-02-10</td>\n",
       "      <td>2014-02-01</td>\n",
       "      <td>5000</td>\n",
       "      <td>payback</td>\n",
       "      <td>10.25</td>\n",
       "      <td>0.164</td>\n",
       "      <td>E4</td>\n",
       "      <td>E</td>\n",
       "      <td>1</td>\n",
       "      <td>0.143996</td>\n",
       "      <td>0.139811</td>\n",
       "      <td>0.112054</td>\n",
       "      <td>0.093955</td>\n",
       "      <td>0.098556</td>\n",
       "      <td>0.107971</td>\n",
       "      <td>0.092042</td>\n",
       "      <td>0.121196</td>\n",
       "      <td>0.104660</td>\n",
       "    </tr>\n",
       "    <tr>\n",
       "      <th>49</th>\n",
       "      <td>50</td>\n",
       "      <td>2014-02-13</td>\n",
       "      <td>2014-02-01</td>\n",
       "      <td>3000</td>\n",
       "      <td>payback</td>\n",
       "      <td>6.96</td>\n",
       "      <td>0.384</td>\n",
       "      <td>D2</td>\n",
       "      <td>D</td>\n",
       "      <td>1</td>\n",
       "      <td>0.110940</td>\n",
       "      <td>0.108226</td>\n",
       "      <td>0.054122</td>\n",
       "      <td>0.078254</td>\n",
       "      <td>0.081898</td>\n",
       "      <td>0.069243</td>\n",
       "      <td>-0.013235</td>\n",
       "      <td>0.093805</td>\n",
       "      <td>0.005128</td>\n",
       "    </tr>\n",
       "  </tbody>\n",
       "</table>\n",
       "</div>"
      ],
      "text/plain": [
       "    id_loan originated_since_date orig_month  principal_amount  \\\n",
       "20       27            2014-01-20 2014-01-01              5000   \n",
       "25       34            2014-01-29 2014-01-01              8000   \n",
       "29       35            2014-01-29 2014-01-01              5000   \n",
       "35       44            2014-02-10 2014-02-01              5000   \n",
       "49       50            2014-02-13 2014-02-01              3000   \n",
       "\n",
       "       payback_state     pd  bucket_pd rating rating_base  rating_switch  \\\n",
       "20  payback_complete   1.80      1.000     A3           A              1   \n",
       "25  payback_received  10.25      0.164     E4           E              1   \n",
       "29           payback   5.07      0.164     C2           C              1   \n",
       "35           payback  10.25      0.164     E4           E              1   \n",
       "49           payback   6.96      0.384     D2           D              1   \n",
       "\n",
       "    plan_all  plan_20150430   act_EOM  plan_origpd_noshift  plan_origpd  \\\n",
       "20  0.047859       0.047859 -0.885755             0.040468     0.042525   \n",
       "25  0.146789       0.143436  0.121602             0.069296     0.070657   \n",
       "29  0.079247       0.079233  0.025790             0.055918     0.060880   \n",
       "35  0.143996       0.139811  0.112054             0.093955     0.098556   \n",
       "49  0.110940       0.108226  0.054122             0.078254     0.081898   \n",
       "\n",
       "    act_origpd  act_arrears  act_origpd_latest_paid  act_arrears_latest_paid  \n",
       "20   -0.885755    -0.885755                0.041265                -0.281649  \n",
       "25    0.099493     0.075065                0.107446                 0.081820  \n",
       "29    0.032465     0.021970                0.076651                 0.064536  \n",
       "35    0.107971     0.092042                0.121196                 0.104660  \n",
       "49    0.069243    -0.013235                0.093805                 0.005128  "
      ]
     },
     "execution_count": 268,
     "metadata": {},
     "output_type": "execute_result"
    }
   ],
   "source": [
    "loans_xirr[loans_xirr.bucket_pd.notnull()].head()"
   ]
  },
  {
   "cell_type": "code",
   "execution_count": 225,
   "metadata": {
    "collapsed": false
   },
   "outputs": [
    {
     "data": {
      "text/html": [
       "<div style=\"max-height:1000px;max-width:1500px;overflow:auto;\">\n",
       "<table border=\"1\" class=\"dataframe\">\n",
       "  <thead>\n",
       "    <tr style=\"text-align: right;\">\n",
       "      <th></th>\n",
       "      <th>id_loan</th>\n",
       "      <th>originated_since_date</th>\n",
       "      <th>orig_month</th>\n",
       "      <th>principal_amount</th>\n",
       "      <th>payback_state</th>\n",
       "      <th>pd</th>\n",
       "      <th>bucket_pd</th>\n",
       "      <th>rating</th>\n",
       "      <th>rating_base</th>\n",
       "      <th>rating_switch</th>\n",
       "      <th>plan_all</th>\n",
       "      <th>plan_20150430</th>\n",
       "      <th>act_EOM</th>\n",
       "      <th>plan_origpd</th>\n",
       "      <th>act_origpd</th>\n",
       "      <th>act_arrears</th>\n",
       "      <th>act_origpd_latest_paid</th>\n",
       "      <th>act_arrears_latest_paid</th>\n",
       "    </tr>\n",
       "  </thead>\n",
       "  <tbody>\n",
       "    <tr>\n",
       "      <th>360</th>\n",
       "      <td>350</td>\n",
       "      <td>2014-09-02</td>\n",
       "      <td>2014-09-01</td>\n",
       "      <td>6500</td>\n",
       "      <td>payback</td>\n",
       "      <td>6.98</td>\n",
       "      <td>NaN</td>\n",
       "      <td>D2</td>\n",
       "      <td>D</td>\n",
       "      <td>2</td>\n",
       "      <td>0.123274</td>\n",
       "      <td>0.124471</td>\n",
       "      <td>0.124442</td>\n",
       "      <td>0.084111</td>\n",
       "      <td>0.101725</td>\n",
       "      <td>0.101725</td>\n",
       "      <td>0.101725</td>\n",
       "      <td>0.101725</td>\n",
       "    </tr>\n",
       "  </tbody>\n",
       "</table>\n",
       "</div>"
      ],
      "text/plain": [
       "     id_loan originated_since_date orig_month  principal_amount payback_state  \\\n",
       "360      350            2014-09-02 2014-09-01              6500       payback   \n",
       "\n",
       "       pd  bucket_pd rating rating_base  rating_switch  plan_all  \\\n",
       "360  6.98        NaN     D2           D              2  0.123274   \n",
       "\n",
       "     plan_20150430   act_EOM  plan_origpd  act_origpd  act_arrears  \\\n",
       "360       0.124471  0.124442     0.084111    0.101725     0.101725   \n",
       "\n",
       "     act_origpd_latest_paid  act_arrears_latest_paid  \n",
       "360                0.101725                 0.101725  "
      ]
     },
     "execution_count": 225,
     "metadata": {},
     "output_type": "execute_result"
    }
   ],
   "source": [
    "loans_xirr[loans_xirr.id_loan==350]"
   ]
  },
  {
   "cell_type": "code",
   "execution_count": 589,
   "metadata": {
    "collapsed": true
   },
   "outputs": [],
   "source": []
  },
  {
   "cell_type": "code",
   "execution_count": 222,
   "metadata": {
    "collapsed": false
   },
   "outputs": [],
   "source": [
    "future_pd_30360_origpd_all[(future_pd_30360_origpd_all.id_loan==350)& (future_pd_30360_origpd_all.fk_user_investor==88)].to_clipboard()"
   ]
  },
  {
   "cell_type": "code",
   "execution_count": 207,
   "metadata": {
    "collapsed": false
   },
   "outputs": [
    {
     "data": {
      "text/plain": [
       "8554    11.5504\n",
       "Name: investment_yield, dtype: float64"
      ]
     },
     "execution_count": 207,
     "metadata": {},
     "output_type": "execute_result"
    }
   ],
   "source": [
    "loan_fundings1[(loan_fundings1.fk_loan==350)&(loan_fundings1.fk_user==88)].investment_yield"
   ]
  },
  {
   "cell_type": "code",
   "execution_count": null,
   "metadata": {
    "collapsed": true
   },
   "outputs": [],
   "source": [
    "cashflow"
   ]
  },
  {
   "cell_type": "code",
   "execution_count": 590,
   "metadata": {
    "collapsed": false,
    "scrolled": true
   },
   "outputs": [],
   "source": [
    "\n",
    "rating_switch_plan_all_xirr=gen_rating(cashflows_plan_investor_all, '2015-01-31',[3,4,6,8,11,14])\n",
    "rating_switch_plan_origpd_xirr=gen_rating(cashflows_plan_origpd_all, '2015-01-31', [3,4,6,8,11,14])\n",
    "rating_switch_plan_20150430_xirr=gen_rating(cashflows_plan_investor_20150430, '2015-01-31', [3,4,6,8,11,14])\n",
    "rating_switch_act_20150430_repaid_xirr=gen_rating(cashflows_act_investor_20150430_repaid, '2015-01-31', [3,4,6,8,11,14])\n",
    "rating_switch_act_arrears_latest_paid_investor_repaid=gen_rating(cashflows_act_arrears_latest_paid_investor_repaid, '2015-01-31', [3,4,6,8,11,14])\n",
    "rating_switch_act_origpd_latest_paid_investor_repaid=gen_rating(cashflows_act_origpd_latest_paid_investor_repaid, '2015-01-31', [3,4,6,8,11,14])\n",
    "#rating_switch_act_xirr=gen_rating(cashflows_act_investor, '2015-02-28', [3,4,6,8,11,14])\n",
    "\n"
   ]
  },
  {
   "cell_type": "code",
   "execution_count": 594,
   "metadata": {
    "collapsed": false
   },
   "outputs": [
    {
     "data": {
      "text/plain": [
       "{30: 0.164,\n",
       " 60: 0.384,\n",
       " 90: 0.55,\n",
       " 120: 1,\n",
       " 150: 1,\n",
       " 180: 1,\n",
       " 210: 1,\n",
       " 240: 1,\n",
       " 270: 1}"
      ]
     },
     "execution_count": 594,
     "metadata": {},
     "output_type": "execute_result"
    }
   ],
   "source": [
    "arrears_dict"
   ]
  },
  {
   "cell_type": "code",
   "execution_count": 592,
   "metadata": {
    "collapsed": false
   },
   "outputs": [
    {
     "data": {
      "text/html": [
       "<div style=\"max-height:1000px;max-width:1500px;overflow:auto;\">\n",
       "<table border=\"1\" class=\"dataframe\">\n",
       "  <thead>\n",
       "    <tr style=\"text-align: right;\">\n",
       "      <th></th>\n",
       "      <th></th>\n",
       "      <th>act_20150430_repaid</th>\n",
       "      <th>act_arrears_latest_paid_repaid</th>\n",
       "      <th>plan_20150430</th>\n",
       "      <th>plan_all</th>\n",
       "      <th>plan_origpd</th>\n",
       "    </tr>\n",
       "    <tr>\n",
       "      <th>base_date</th>\n",
       "      <th>rating_base</th>\n",
       "      <th></th>\n",
       "      <th></th>\n",
       "      <th></th>\n",
       "      <th></th>\n",
       "      <th></th>\n",
       "    </tr>\n",
       "  </thead>\n",
       "  <tbody>\n",
       "    <tr>\n",
       "      <th rowspan=\"5\" valign=\"top\">2013-11-01</th>\n",
       "      <th>A</th>\n",
       "      <td>0.046398</td>\n",
       "      <td>0.042966</td>\n",
       "      <td>0.047052</td>\n",
       "      <td>0.047663</td>\n",
       "      <td>0.039846</td>\n",
       "    </tr>\n",
       "    <tr>\n",
       "      <th>B</th>\n",
       "      <td>0.045773</td>\n",
       "      <td>0.024875</td>\n",
       "      <td>0.054704</td>\n",
       "      <td>0.055155</td>\n",
       "      <td>0.035750</td>\n",
       "    </tr>\n",
       "    <tr>\n",
       "      <th>C</th>\n",
       "      <td>0.068110</td>\n",
       "      <td>0.049172</td>\n",
       "      <td>0.073975</td>\n",
       "      <td>0.073915</td>\n",
       "      <td>0.042027</td>\n",
       "    </tr>\n",
       "    <tr>\n",
       "      <th>D</th>\n",
       "      <td>0.107901</td>\n",
       "      <td>0.074283</td>\n",
       "      <td>0.112281</td>\n",
       "      <td>0.113947</td>\n",
       "      <td>0.065641</td>\n",
       "    </tr>\n",
       "    <tr>\n",
       "      <th>E</th>\n",
       "      <td>0.129219</td>\n",
       "      <td>0.096206</td>\n",
       "      <td>0.135040</td>\n",
       "      <td>0.135587</td>\n",
       "      <td>0.069020</td>\n",
       "    </tr>\n",
       "    <tr>\n",
       "      <th rowspan=\"5\" valign=\"top\">2014-07-01</th>\n",
       "      <th>A</th>\n",
       "      <td>0.031691</td>\n",
       "      <td>0.029720</td>\n",
       "      <td>0.031697</td>\n",
       "      <td>0.033768</td>\n",
       "      <td>0.028535</td>\n",
       "    </tr>\n",
       "    <tr>\n",
       "      <th>B</th>\n",
       "      <td>0.045688</td>\n",
       "      <td>0.035422</td>\n",
       "      <td>0.047638</td>\n",
       "      <td>0.049327</td>\n",
       "      <td>0.036157</td>\n",
       "    </tr>\n",
       "    <tr>\n",
       "      <th>C</th>\n",
       "      <td>0.080639</td>\n",
       "      <td>0.050308</td>\n",
       "      <td>0.092414</td>\n",
       "      <td>0.093909</td>\n",
       "      <td>0.062524</td>\n",
       "    </tr>\n",
       "    <tr>\n",
       "      <th>D</th>\n",
       "      <td>0.092931</td>\n",
       "      <td>0.056388</td>\n",
       "      <td>0.128877</td>\n",
       "      <td>0.130993</td>\n",
       "      <td>0.076537</td>\n",
       "    </tr>\n",
       "    <tr>\n",
       "      <th>E</th>\n",
       "      <td>0.119488</td>\n",
       "      <td>0.090670</td>\n",
       "      <td>0.131330</td>\n",
       "      <td>0.133426</td>\n",
       "      <td>0.081157</td>\n",
       "    </tr>\n",
       "    <tr>\n",
       "      <th rowspan=\"5\" valign=\"top\">2014-10-22</th>\n",
       "      <th>A</th>\n",
       "      <td>0.030765</td>\n",
       "      <td>0.026226</td>\n",
       "      <td>0.031646</td>\n",
       "      <td>0.032112</td>\n",
       "      <td>0.026758</td>\n",
       "    </tr>\n",
       "    <tr>\n",
       "      <th>B</th>\n",
       "      <td>0.038895</td>\n",
       "      <td>0.026691</td>\n",
       "      <td>0.042316</td>\n",
       "      <td>0.043121</td>\n",
       "      <td>0.029963</td>\n",
       "    </tr>\n",
       "    <tr>\n",
       "      <th>C</th>\n",
       "      <td>0.061009</td>\n",
       "      <td>0.034710</td>\n",
       "      <td>0.064779</td>\n",
       "      <td>0.065044</td>\n",
       "      <td>0.035143</td>\n",
       "    </tr>\n",
       "    <tr>\n",
       "      <th>D</th>\n",
       "      <td>0.075147</td>\n",
       "      <td>0.034469</td>\n",
       "      <td>0.095902</td>\n",
       "      <td>0.097162</td>\n",
       "      <td>0.041952</td>\n",
       "    </tr>\n",
       "    <tr>\n",
       "      <th>E</th>\n",
       "      <td>0.103581</td>\n",
       "      <td>0.041727</td>\n",
       "      <td>0.128717</td>\n",
       "      <td>0.131338</td>\n",
       "      <td>0.049799</td>\n",
       "    </tr>\n",
       "  </tbody>\n",
       "</table>\n",
       "</div>"
      ],
      "text/plain": [
       "                        act_20150430_repaid  act_arrears_latest_paid_repaid  \\\n",
       "base_date  rating_base                                                        \n",
       "2013-11-01 A                       0.046398                        0.042966   \n",
       "           B                       0.045773                        0.024875   \n",
       "           C                       0.068110                        0.049172   \n",
       "           D                       0.107901                        0.074283   \n",
       "           E                       0.129219                        0.096206   \n",
       "2014-07-01 A                       0.031691                        0.029720   \n",
       "           B                       0.045688                        0.035422   \n",
       "           C                       0.080639                        0.050308   \n",
       "           D                       0.092931                        0.056388   \n",
       "           E                       0.119488                        0.090670   \n",
       "2014-10-22 A                       0.030765                        0.026226   \n",
       "           B                       0.038895                        0.026691   \n",
       "           C                       0.061009                        0.034710   \n",
       "           D                       0.075147                        0.034469   \n",
       "           E                       0.103581                        0.041727   \n",
       "\n",
       "                        plan_20150430  plan_all  plan_origpd  \n",
       "base_date  rating_base                                        \n",
       "2013-11-01 A                 0.047052  0.047663     0.039846  \n",
       "           B                 0.054704  0.055155     0.035750  \n",
       "           C                 0.073975  0.073915     0.042027  \n",
       "           D                 0.112281  0.113947     0.065641  \n",
       "           E                 0.135040  0.135587     0.069020  \n",
       "2014-07-01 A                 0.031697  0.033768     0.028535  \n",
       "           B                 0.047638  0.049327     0.036157  \n",
       "           C                 0.092414  0.093909     0.062524  \n",
       "           D                 0.128877  0.130993     0.076537  \n",
       "           E                 0.131330  0.133426     0.081157  \n",
       "2014-10-22 A                 0.031646  0.032112     0.026758  \n",
       "           B                 0.042316  0.043121     0.029963  \n",
       "           C                 0.064779  0.065044     0.035143  \n",
       "           D                 0.095902  0.097162     0.041952  \n",
       "           E                 0.128717  0.131338     0.049799  "
      ]
     },
     "execution_count": 592,
     "metadata": {},
     "output_type": "execute_result"
    }
   ],
   "source": [
    "rating_switch_xirr=pd.DataFrame({'plan_all':rating_switch_plan_all_xirr,\\\n",
    "                                'plan_20150430':rating_switch_plan_20150430_xirr,\\\n",
    "                                'plan_origpd':rating_switch_plan_origpd_xirr,\\\n",
    "                                'act_20150430_repaid':rating_switch_act_20150430_repaid_xirr,\\\n",
    "                                'act_arrears_latest_paid_repaid':rating_switch_act_arrears_latest_paid_investor_repaid})\n",
    "rating_switch_xirr.to_clipboard()\n",
    "rating_switch_xirr\n",
    "                                "
   ]
  },
  {
   "cell_type": "code",
   "execution_count": 122,
   "metadata": {
    "collapsed": false
   },
   "outputs": [
    {
     "data": {
      "text/html": [
       "<div style=\"max-height:1000px;max-width:1500px;overflow:auto;\">\n",
       "<table border=\"1\" class=\"dataframe\">\n",
       "  <thead>\n",
       "    <tr style=\"text-align: right;\">\n",
       "      <th></th>\n",
       "      <th>bin</th>\n",
       "      <th>count</th>\n",
       "    </tr>\n",
       "  </thead>\n",
       "  <tbody>\n",
       "    <tr>\n",
       "      <th>0 </th>\n",
       "      <td>-0.50</td>\n",
       "      <td> 0</td>\n",
       "    </tr>\n",
       "    <tr>\n",
       "      <th>1 </th>\n",
       "      <td>-0.49</td>\n",
       "      <td> 0</td>\n",
       "    </tr>\n",
       "    <tr>\n",
       "      <th>2 </th>\n",
       "      <td>-0.48</td>\n",
       "      <td> 0</td>\n",
       "    </tr>\n",
       "    <tr>\n",
       "      <th>3 </th>\n",
       "      <td>-0.47</td>\n",
       "      <td> 0</td>\n",
       "    </tr>\n",
       "    <tr>\n",
       "      <th>4 </th>\n",
       "      <td>-0.46</td>\n",
       "      <td> 0</td>\n",
       "    </tr>\n",
       "    <tr>\n",
       "      <th>5 </th>\n",
       "      <td>-0.45</td>\n",
       "      <td> 0</td>\n",
       "    </tr>\n",
       "    <tr>\n",
       "      <th>6 </th>\n",
       "      <td>-0.44</td>\n",
       "      <td> 0</td>\n",
       "    </tr>\n",
       "    <tr>\n",
       "      <th>7 </th>\n",
       "      <td>-0.43</td>\n",
       "      <td> 0</td>\n",
       "    </tr>\n",
       "    <tr>\n",
       "      <th>8 </th>\n",
       "      <td>-0.42</td>\n",
       "      <td> 0</td>\n",
       "    </tr>\n",
       "    <tr>\n",
       "      <th>9 </th>\n",
       "      <td>-0.41</td>\n",
       "      <td> 0</td>\n",
       "    </tr>\n",
       "    <tr>\n",
       "      <th>10</th>\n",
       "      <td>-0.40</td>\n",
       "      <td> 0</td>\n",
       "    </tr>\n",
       "    <tr>\n",
       "      <th>11</th>\n",
       "      <td>-0.39</td>\n",
       "      <td> 0</td>\n",
       "    </tr>\n",
       "    <tr>\n",
       "      <th>12</th>\n",
       "      <td>-0.38</td>\n",
       "      <td> 1</td>\n",
       "    </tr>\n",
       "    <tr>\n",
       "      <th>13</th>\n",
       "      <td>-0.37</td>\n",
       "      <td> 0</td>\n",
       "    </tr>\n",
       "    <tr>\n",
       "      <th>14</th>\n",
       "      <td>-0.36</td>\n",
       "      <td> 0</td>\n",
       "    </tr>\n",
       "    <tr>\n",
       "      <th>15</th>\n",
       "      <td>-0.35</td>\n",
       "      <td> 0</td>\n",
       "    </tr>\n",
       "    <tr>\n",
       "      <th>16</th>\n",
       "      <td>-0.34</td>\n",
       "      <td> 0</td>\n",
       "    </tr>\n",
       "    <tr>\n",
       "      <th>17</th>\n",
       "      <td>-0.33</td>\n",
       "      <td> 1</td>\n",
       "    </tr>\n",
       "    <tr>\n",
       "      <th>18</th>\n",
       "      <td>-0.32</td>\n",
       "      <td> 0</td>\n",
       "    </tr>\n",
       "    <tr>\n",
       "      <th>19</th>\n",
       "      <td>-0.31</td>\n",
       "      <td> 0</td>\n",
       "    </tr>\n",
       "    <tr>\n",
       "      <th>20</th>\n",
       "      <td>-0.30</td>\n",
       "      <td> 0</td>\n",
       "    </tr>\n",
       "    <tr>\n",
       "      <th>21</th>\n",
       "      <td>-0.29</td>\n",
       "      <td> 0</td>\n",
       "    </tr>\n",
       "    <tr>\n",
       "      <th>22</th>\n",
       "      <td>-0.28</td>\n",
       "      <td> 0</td>\n",
       "    </tr>\n",
       "    <tr>\n",
       "      <th>23</th>\n",
       "      <td>-0.27</td>\n",
       "      <td> 0</td>\n",
       "    </tr>\n",
       "    <tr>\n",
       "      <th>24</th>\n",
       "      <td>-0.26</td>\n",
       "      <td> 0</td>\n",
       "    </tr>\n",
       "    <tr>\n",
       "      <th>25</th>\n",
       "      <td>-0.25</td>\n",
       "      <td> 0</td>\n",
       "    </tr>\n",
       "    <tr>\n",
       "      <th>26</th>\n",
       "      <td>-0.24</td>\n",
       "      <td> 0</td>\n",
       "    </tr>\n",
       "    <tr>\n",
       "      <th>27</th>\n",
       "      <td>-0.23</td>\n",
       "      <td> 0</td>\n",
       "    </tr>\n",
       "    <tr>\n",
       "      <th>28</th>\n",
       "      <td>-0.22</td>\n",
       "      <td> 0</td>\n",
       "    </tr>\n",
       "    <tr>\n",
       "      <th>29</th>\n",
       "      <td>-0.21</td>\n",
       "      <td> 0</td>\n",
       "    </tr>\n",
       "    <tr>\n",
       "      <th>...</th>\n",
       "      <td>...</td>\n",
       "      <td>...</td>\n",
       "    </tr>\n",
       "    <tr>\n",
       "      <th>70</th>\n",
       "      <td> 0.20</td>\n",
       "      <td> 0</td>\n",
       "    </tr>\n",
       "    <tr>\n",
       "      <th>71</th>\n",
       "      <td> 0.21</td>\n",
       "      <td> 0</td>\n",
       "    </tr>\n",
       "    <tr>\n",
       "      <th>72</th>\n",
       "      <td> 0.22</td>\n",
       "      <td> 0</td>\n",
       "    </tr>\n",
       "    <tr>\n",
       "      <th>73</th>\n",
       "      <td> 0.23</td>\n",
       "      <td> 0</td>\n",
       "    </tr>\n",
       "    <tr>\n",
       "      <th>74</th>\n",
       "      <td> 0.24</td>\n",
       "      <td> 0</td>\n",
       "    </tr>\n",
       "    <tr>\n",
       "      <th>75</th>\n",
       "      <td> 0.25</td>\n",
       "      <td> 0</td>\n",
       "    </tr>\n",
       "    <tr>\n",
       "      <th>76</th>\n",
       "      <td> 0.26</td>\n",
       "      <td> 0</td>\n",
       "    </tr>\n",
       "    <tr>\n",
       "      <th>77</th>\n",
       "      <td> 0.27</td>\n",
       "      <td> 0</td>\n",
       "    </tr>\n",
       "    <tr>\n",
       "      <th>78</th>\n",
       "      <td> 0.28</td>\n",
       "      <td> 0</td>\n",
       "    </tr>\n",
       "    <tr>\n",
       "      <th>79</th>\n",
       "      <td> 0.29</td>\n",
       "      <td> 0</td>\n",
       "    </tr>\n",
       "    <tr>\n",
       "      <th>80</th>\n",
       "      <td> 0.30</td>\n",
       "      <td> 0</td>\n",
       "    </tr>\n",
       "    <tr>\n",
       "      <th>81</th>\n",
       "      <td> 0.31</td>\n",
       "      <td> 0</td>\n",
       "    </tr>\n",
       "    <tr>\n",
       "      <th>82</th>\n",
       "      <td> 0.32</td>\n",
       "      <td> 0</td>\n",
       "    </tr>\n",
       "    <tr>\n",
       "      <th>83</th>\n",
       "      <td> 0.33</td>\n",
       "      <td> 0</td>\n",
       "    </tr>\n",
       "    <tr>\n",
       "      <th>84</th>\n",
       "      <td> 0.34</td>\n",
       "      <td> 0</td>\n",
       "    </tr>\n",
       "    <tr>\n",
       "      <th>85</th>\n",
       "      <td> 0.35</td>\n",
       "      <td> 0</td>\n",
       "    </tr>\n",
       "    <tr>\n",
       "      <th>86</th>\n",
       "      <td> 0.36</td>\n",
       "      <td> 0</td>\n",
       "    </tr>\n",
       "    <tr>\n",
       "      <th>87</th>\n",
       "      <td> 0.37</td>\n",
       "      <td> 0</td>\n",
       "    </tr>\n",
       "    <tr>\n",
       "      <th>88</th>\n",
       "      <td> 0.38</td>\n",
       "      <td> 0</td>\n",
       "    </tr>\n",
       "    <tr>\n",
       "      <th>89</th>\n",
       "      <td> 0.39</td>\n",
       "      <td> 0</td>\n",
       "    </tr>\n",
       "    <tr>\n",
       "      <th>90</th>\n",
       "      <td> 0.40</td>\n",
       "      <td> 0</td>\n",
       "    </tr>\n",
       "    <tr>\n",
       "      <th>91</th>\n",
       "      <td> 0.41</td>\n",
       "      <td> 0</td>\n",
       "    </tr>\n",
       "    <tr>\n",
       "      <th>92</th>\n",
       "      <td> 0.42</td>\n",
       "      <td> 0</td>\n",
       "    </tr>\n",
       "    <tr>\n",
       "      <th>93</th>\n",
       "      <td> 0.43</td>\n",
       "      <td> 0</td>\n",
       "    </tr>\n",
       "    <tr>\n",
       "      <th>94</th>\n",
       "      <td> 0.44</td>\n",
       "      <td> 0</td>\n",
       "    </tr>\n",
       "    <tr>\n",
       "      <th>95</th>\n",
       "      <td> 0.45</td>\n",
       "      <td> 0</td>\n",
       "    </tr>\n",
       "    <tr>\n",
       "      <th>96</th>\n",
       "      <td> 0.46</td>\n",
       "      <td> 0</td>\n",
       "    </tr>\n",
       "    <tr>\n",
       "      <th>97</th>\n",
       "      <td> 0.47</td>\n",
       "      <td> 0</td>\n",
       "    </tr>\n",
       "    <tr>\n",
       "      <th>98</th>\n",
       "      <td> 0.48</td>\n",
       "      <td> 0</td>\n",
       "    </tr>\n",
       "    <tr>\n",
       "      <th>99</th>\n",
       "      <td> 0.49</td>\n",
       "      <td> 0</td>\n",
       "    </tr>\n",
       "  </tbody>\n",
       "</table>\n",
       "<p>100 rows × 2 columns</p>\n",
       "</div>"
      ],
      "text/plain": [
       "     bin  count\n",
       "0  -0.50      0\n",
       "1  -0.49      0\n",
       "2  -0.48      0\n",
       "3  -0.47      0\n",
       "4  -0.46      0\n",
       "5  -0.45      0\n",
       "6  -0.44      0\n",
       "7  -0.43      0\n",
       "8  -0.42      0\n",
       "9  -0.41      0\n",
       "10 -0.40      0\n",
       "11 -0.39      0\n",
       "12 -0.38      1\n",
       "13 -0.37      0\n",
       "14 -0.36      0\n",
       "15 -0.35      0\n",
       "16 -0.34      0\n",
       "17 -0.33      1\n",
       "18 -0.32      0\n",
       "19 -0.31      0\n",
       "20 -0.30      0\n",
       "21 -0.29      0\n",
       "22 -0.28      0\n",
       "23 -0.27      0\n",
       "24 -0.26      0\n",
       "25 -0.25      0\n",
       "26 -0.24      0\n",
       "27 -0.23      0\n",
       "28 -0.22      0\n",
       "29 -0.21      0\n",
       "..   ...    ...\n",
       "70  0.20      0\n",
       "71  0.21      0\n",
       "72  0.22      0\n",
       "73  0.23      0\n",
       "74  0.24      0\n",
       "75  0.25      0\n",
       "76  0.26      0\n",
       "77  0.27      0\n",
       "78  0.28      0\n",
       "79  0.29      0\n",
       "80  0.30      0\n",
       "81  0.31      0\n",
       "82  0.32      0\n",
       "83  0.33      0\n",
       "84  0.34      0\n",
       "85  0.35      0\n",
       "86  0.36      0\n",
       "87  0.37      0\n",
       "88  0.38      0\n",
       "89  0.39      0\n",
       "90  0.40      0\n",
       "91  0.41      0\n",
       "92  0.42      0\n",
       "93  0.43      0\n",
       "94  0.44      0\n",
       "95  0.45      0\n",
       "96  0.46      0\n",
       "97  0.47      0\n",
       "98  0.48      0\n",
       "99  0.49      0\n",
       "\n",
       "[100 rows x 2 columns]"
      ]
     },
     "execution_count": 122,
     "metadata": {},
     "output_type": "execute_result"
    }
   ],
   "source": [
    "cnt,bns=np.histogram(investor_fut_bucket_30360_xirr_orig, bins=np.linspace(-.5,.5,101))\n",
    "a=pd.DataFrame({'bin':bns[:-1], 'count':cnt})\n",
    "a.to_clipboard()\n",
    "a"
   ]
  },
  {
   "cell_type": "code",
   "execution_count": 187,
   "metadata": {
    "collapsed": false,
    "scrolled": true
   },
   "outputs": [
    {
     "data": {
      "text/plain": [
       "<matplotlib.axes._subplots.AxesSubplot at 0x19f93160>"
      ]
     },
     "execution_count": 187,
     "metadata": {},
     "output_type": "execute_result"
    },
    {
     "data": {
      "image/png": "[encoded data removed]",
      "text/plain": [
       "<matplotlib.figure.Figure at 0x1a18d4a8>"
      ]
     },
     "metadata": {},
     "output_type": "display_data"
    }
   ],
   "source": [
    "investor_fut_bucket_30360_xirr_orig.hist(bins=np.linspace(-.5,.5,110))"
   ]
  },
  {
   "cell_type": "code",
   "execution_count": 205,
   "metadata": {
    "collapsed": false
   },
   "outputs": [],
   "source": [
    "inv_count,inv_bin=np.histogram(investor_fut_bucket_30360_xirr_orig,bins=np.linspace(-.5,.5,101))\n"
   ]
  },
  {
   "cell_type": "code",
   "execution_count": 240,
   "metadata": {
    "collapsed": false
   },
   "outputs": [
    {
     "data": {
      "text/html": [
       "<div style=\"max-height:1000px;max-width:1500px;overflow:auto;\">\n",
       "<table border=\"1\" class=\"dataframe\">\n",
       "  <thead>\n",
       "    <tr style=\"text-align: right;\">\n",
       "      <th></th>\n",
       "      <th>date</th>\n",
       "      <th>fk_user_investor</th>\n",
       "      <th>id_loan</th>\n",
       "      <th>payment</th>\n",
       "      <th>dcf</th>\n",
       "      <th>rating_base</th>\n",
       "      <th>rating_switch</th>\n",
       "      <th>payback_state</th>\n",
       "    </tr>\n",
       "  </thead>\n",
       "  <tbody>\n",
       "    <tr>\n",
       "      <th>139859</th>\n",
       "      <td>2015-04-30</td>\n",
       "      <td>34180</td>\n",
       "      <td>1545</td>\n",
       "      <td>13.14</td>\n",
       "      <td>-0.079452</td>\n",
       "      <td>E</td>\n",
       "      <td>3</td>\n",
       "      <td>payback_received</td>\n",
       "    </tr>\n",
       "    <tr>\n",
       "      <th>164594</th>\n",
       "      <td>2015-04-30</td>\n",
       "      <td>34180</td>\n",
       "      <td>1545</td>\n",
       "      <td>5000.00</td>\n",
       "      <td>-0.079452</td>\n",
       "      <td>E</td>\n",
       "      <td>3</td>\n",
       "      <td>payback_received</td>\n",
       "    </tr>\n",
       "    <tr>\n",
       "      <th>192195</th>\n",
       "      <td>2015-04-07</td>\n",
       "      <td>34180</td>\n",
       "      <td>1545</td>\n",
       "      <td>-5000.00</td>\n",
       "      <td>-0.016438</td>\n",
       "      <td>E</td>\n",
       "      <td>3</td>\n",
       "      <td>payback_received</td>\n",
       "    </tr>\n",
       "  </tbody>\n",
       "</table>\n",
       "</div>"
      ],
      "text/plain": [
       "             date  fk_user_investor  id_loan  payment       dcf rating_base  \\\n",
       "139859 2015-04-30             34180     1545    13.14 -0.079452           E   \n",
       "164594 2015-04-30             34180     1545  5000.00 -0.079452           E   \n",
       "192195 2015-04-07             34180     1545 -5000.00 -0.016438           E   \n",
       "\n",
       "        rating_switch     payback_state  \n",
       "139859              3  payback_received  \n",
       "164594              3  payback_received  \n",
       "192195              3  payback_received  "
      ]
     },
     "execution_count": 240,
     "metadata": {},
     "output_type": "execute_result"
    }
   ],
   "source": [
    "cashflows_act_investor[cashflows_act_investor.id_loan==1545]"
   ]
  },
  {
   "cell_type": "code",
   "execution_count": 207,
   "metadata": {
    "collapsed": false
   },
   "outputs": [],
   "source": [
    "inv_hist=pd.DataFrame({'bin':inv_bin[:-1],'count':inv_count})"
   ]
  },
  {
   "cell_type": "code",
   "execution_count": 208,
   "metadata": {
    "collapsed": true
   },
   "outputs": [],
   "source": [
    "inv_hist.to_clipboard()"
   ]
  },
  {
   "cell_type": "code",
   "execution_count": 43,
   "metadata": {
    "collapsed": true
   },
   "outputs": [],
   "source": [
    "%matplotlib inline"
   ]
  },
  {
   "cell_type": "code",
   "execution_count": 154,
   "metadata": {
    "collapsed": false
   },
   "outputs": [
    {
     "data": {
      "text/plain": [
       "rating_switch\n",
       "1                2.446569\n",
       "2                3.991386\n",
       "3                3.453717\n",
       "dtype: float64"
      ]
     },
     "execution_count": 154,
     "metadata": {},
     "output_type": "execute_result"
    }
   ],
   "source": [
    "loans_fut_bucket_30360_xirr_orig*100"
   ]
  },
  {
   "cell_type": "code",
   "execution_count": 165,
   "metadata": {
    "collapsed": false
   },
   "outputs": [
    {
     "data": {
      "text/plain": [
       "rating_switch\n",
       "1                2.915440\n",
       "2                4.099140\n",
       "3                3.495064\n",
       "dtype: float64"
      ]
     },
     "execution_count": 165,
     "metadata": {},
     "output_type": "execute_result"
    }
   ],
   "source": [
    "loans_fut_bucket_30360_xirr_orig*100 "
   ]
  },
  {
   "cell_type": "code",
   "execution_count": 47,
   "metadata": {
    "collapsed": false
   },
   "outputs": [
    {
     "data": {
      "text/plain": [
       "0.03470183916784976"
      ]
     },
     "execution_count": 47,
     "metadata": {},
     "output_type": "execute_result"
    }
   ],
   "source": [
    "z1=cashflows_fut_bucket_30360[cashflows_fut_bucket_30360.payback_state!='payback_complete']\n",
    "\n",
    "xirr(z1.payment, z1.dcf)"
   ]
  },
  {
   "cell_type": "code",
   "execution_count": 42,
   "metadata": {
    "collapsed": false
   },
   "outputs": [
    {
     "data": {
      "text/plain": [
       "rating_switch  rating_base\n",
       "1              A              2.164635\n",
       "               B             -0.289620\n",
       "               C              2.843701\n",
       "               D              4.380164\n",
       "               E              7.495481\n",
       "2              A              2.336687\n",
       "               B              3.229219\n",
       "               C              4.145394\n",
       "               D              5.631069\n",
       "               E              7.443198\n",
       "3              A              2.390730\n",
       "               B              2.876238\n",
       "               C              3.830051\n",
       "               D              4.275146\n",
       "               E              4.906416\n",
       "dtype: float64"
      ]
     },
     "execution_count": 42,
     "metadata": {},
     "output_type": "execute_result"
    }
   ],
   "source": [
    "loans_fut_bucket_30360_xirr_groups*100"
   ]
  },
  {
   "cell_type": "code",
   "execution_count": 43,
   "metadata": {
    "collapsed": true
   },
   "outputs": [],
   "source": [
    "loans_fut_bucket_30360_xirr_groups.to_clipboard()"
   ]
  },
  {
   "cell_type": "code",
   "execution_count": 308,
   "metadata": {
    "collapsed": false
   },
   "outputs": [
    {
     "data": {
      "text/plain": [
       "rating_switch  rating_base\n",
       "1              A              1.643829\n",
       "               B             -0.131926\n",
       "               C              2.983228\n",
       "               D              4.437063\n",
       "               E              7.266957\n",
       "2              A              1.954274\n",
       "               B              2.373271\n",
       "               C              4.145764\n",
       "               D              5.446206\n",
       "               E              7.389547\n",
       "3              A              2.368428\n",
       "               B              2.950076\n",
       "               C              3.790125\n",
       "               D              3.940688\n",
       "               E              4.880346\n",
       "dtype: float64"
      ]
     },
     "execution_count": 308,
     "metadata": {},
     "output_type": "execute_result"
    }
   ],
   "source": [
    "loans_fut_bucket_30360_xirr_groups*100"
   ]
  },
  {
   "cell_type": "code",
   "execution_count": 167,
   "metadata": {
    "collapsed": false
   },
   "outputs": [],
   "source": [
    "loans_fut_xirr_groups=cashflows_fut[cashflows_fut.payback_state!='payback_complete'].groupby(['base_date','rating_base']).apply(lambda x: xirr(x.payment,x.dcf))"
   ]
  },
  {
   "cell_type": "code",
   "execution_count": 246,
   "metadata": {
    "collapsed": false
   },
   "outputs": [
    {
     "data": {
      "text/plain": [
       "rating_switch  rating_base\n",
       "1              A               2.318630\n",
       "               B               2.276984\n",
       "               C               3.590574\n",
       "               D               5.797576\n",
       "               E               7.664678\n",
       "2              A               2.533089\n",
       "               B               3.506267\n",
       "               C               6.085838\n",
       "               D               7.710767\n",
       "               E               7.674173\n",
       "3              A             -15.986781\n",
       "               B             -15.818247\n",
       "               C             -14.123845\n",
       "               D             -11.749378\n",
       "               E             -12.484912\n",
       "dtype: float64"
      ]
     },
     "execution_count": 246,
     "metadata": {},
     "output_type": "execute_result"
    }
   ],
   "source": [
    "loans_fut_xirr_groups*100"
   ]
  },
  {
   "cell_type": "code",
   "execution_count": 309,
   "metadata": {
    "collapsed": false
   },
   "outputs": [
    {
     "data": {
      "text/plain": [
       "rating_switch  rating_base\n",
       "1              A              1.643829\n",
       "               B             -0.131926\n",
       "               C              2.983228\n",
       "               D              4.437063\n",
       "               E              7.266957\n",
       "2              A              1.954274\n",
       "               B              2.373271\n",
       "               C              4.145764\n",
       "               D              5.446206\n",
       "               E              7.389547\n",
       "3              A              2.368428\n",
       "               B              2.950076\n",
       "               C              3.790125\n",
       "               D              3.940688\n",
       "               E              4.880346\n",
       "dtype: float64"
      ]
     },
     "execution_count": 309,
     "metadata": {},
     "output_type": "execute_result"
    }
   ],
   "source": [
    "(loans_fut_bucket_xirr_groups*100)"
   ]
  },
  {
   "cell_type": "code",
   "execution_count": 100,
   "metadata": {
    "collapsed": false
   },
   "outputs": [],
   "source": [
    "miss_loans=set(loans.id_loan) ^ set(payment_plans.fk_loan) # symmetric difference"
   ]
  },
  {
   "cell_type": "code",
   "execution_count": 251,
   "metadata": {
    "collapsed": false
   },
   "outputs": [
    {
     "data": {
      "text/plain": [
       "<matplotlib.axes._subplots.AxesSubplot at 0x122aeef0>"
      ]
     },
     "execution_count": 251,
     "metadata": {},
     "output_type": "execute_result"
    }
   ],
   "source": [
    "(loans_xirr.loc[mth3_loans]*100).hist()"
   ]
  },
  {
   "cell_type": "code",
   "execution_count": 39,
   "metadata": {
    "collapsed": true
   },
   "outputs": [],
   "source": [
    "irreg_payments_sql=\"select * from backend.loan_payment_plan where plan ~* 'IRREGULAR' and dwh_country_id=1\"\n",
    "# problem with like '%irregular%#\n",
    "irreg_payments=psql.read_sql_query(irreg_payments_sql,conn)\n",
    "irreg_payments.columns\n",
    "cols=irreg_payments.columns.values.tolist()\n",
    "cols.remove('plan')\n",
    "cols\n",
    "li=[]\n",
    "cols=irreg_payments.columns.values.tolist()\n",
    "cols.remove('plan')\n",
    "\n",
    "for i in range(irreg_payments.shape[0]):\n",
    "    z=pd.read_json(irreg_payments.plan[i])\n",
    "    for c in cols:\n",
    "        z.loc[:,c]=irreg_payments.iloc[i][c]\n",
    "    li.append(z)\n",
    "\n",
    "irreg_p=pd.concat(li)\n"
   ]
  },
  {
   "cell_type": "code",
   "execution_count": 40,
   "metadata": {
    "collapsed": false
   },
   "outputs": [],
   "source": [
    "z1=pd.DataFrame(actual_payments.set_index(['iso_date','fk_loan'])[['in_arrears_since', 'in_arrears_since_days']])\n",
    "z1['bucket']=np.ceil(z1.in_arrears_since_days/30)\n",
    "a1=z1.bucket.unstack()\n",
    "\n",
    "a2=a1.shift(-1, freq='M')\n",
    "a3=a1.shift(-2, freq='M')\n",
    "a4=a1.shift(-3, freq='M')\n",
    "a5=a1.shift(-4, freq='M')\n",
    "a6=a1.shift(-5, freq='M')\n",
    "a7=a1.shift(-6, freq='M')\n",
    "\n",
    "\n",
    "z1['in_arrears_since_1M']=a2.stack()\n",
    "z1['in_arrears_since_2M']=a3.stack()\n",
    "z1['in_arrears_since_3M']=a4.stack()\n",
    "z1['in_arrears_since_4M']=a5.stack()\n",
    "z1['in_arrears_since_5M']=a6.stack()\n",
    "z1['in_arrears_since_6M']=a7.stack()\n",
    "# trying to detemine stability \n",
    "z2=z1.fillna(0)\n",
    "z3=z2.groupby(['bucket','in_arrears_since_1M']).size()"
   ]
  },
  {
   "cell_type": "code",
   "execution_count": 599,
   "metadata": {
    "collapsed": false
   },
   "outputs": [
    {
     "data": {
      "text/plain": [
       "471    547197732\n",
       "Name: loan_nr, dtype: int64"
      ]
     },
     "execution_count": 599,
     "metadata": {},
     "output_type": "execute_result"
    }
   ],
   "source": [
    "loans.loan_nr[loans.id_loan==815]"
   ]
  },
  {
   "cell_type": "code",
   "execution_count": 107,
   "metadata": {
    "collapsed": false
   },
   "outputs": [],
   "source": [
    "loan_plan_nar=payment_plans_idx.loc[payment_plans_idx.interval!=0,['interest_amount','initial_principal_amount']].groupby(level=(0,1)).sum()"
   ]
  }
 ],
 "metadata": {
  "kernelspec": {
   "display_name": "Python 2",
   "language": "python",
   "name": "python2"
  },
  "language_info": {
   "codemirror_mode": {
    "name": "ipython",
    "version": 2
   },
   "file_extension": ".py",
   "mimetype": "text/x-python",
   "name": "python",
   "nbconvert_exporter": "python",
   "pygments_lexer": "ipython2",
   "version": "2.7.8"
  }
 },
 "nbformat": 4,
 "nbformat_minor": 0
}
