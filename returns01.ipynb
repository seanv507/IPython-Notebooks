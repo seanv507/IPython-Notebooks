{
 "cells": [
  {
   "cell_type": "code",
   "execution_count": 1,
   "metadata": {
    "collapsed": false
   },
   "outputs": [],
   "source": [
    "import pandas as pd\n",
    "import numpy as np\n",
    "import matplotlib.pyplot as plt\n",
    "import datetime\n",
    "import scipy.optimize\n",
    "import pandas.io.sql as psql\n",
    "import pandas as pd\n",
    "import sys\n",
    "sys.path.insert(0,'C:\\Users\\Sean Violante\\Documents\\Projects\\lendico\\lib')\n",
    "import dwh\n",
    "from __future__ import division"
   ]
  },
  {
   "cell_type": "code",
   "execution_count": 2,
   "metadata": {
    "collapsed": true
   },
   "outputs": [],
   "source": [
    "%matplotlib qt"
   ]
  },
  {
   "cell_type": "code",
   "execution_count": 3,
   "metadata": {
    "collapsed": false
   },
   "outputs": [],
   "source": [
    "conn = dwh.get_DWH()"
   ]
  },
  {
   "cell_type": "code",
   "execution_count": 4,
   "metadata": {
    "collapsed": false
   },
   "outputs": [
    {
     "name": "stdout",
     "output_type": "stream",
     "text": [
      " hello (3, 4, 6, 8, 11, 14, 526, 528, 558, 630, 557, 556, 555, 553, 552, 554, 578, 579, 580, 603, 596, 611, 642)\n"
     ]
    }
   ],
   "source": [
    "excluded_loans=(3,4,6,8,11,14,526,528,558,630,557,556,555,553,552,554,578,579,580,603,596,611,642)\n",
    "print(\" hello {}\".format(excluded_loans))"
   ]
  },
  {
   "cell_type": "code",
   "execution_count": 23,
   "metadata": {
    "collapsed": true
   },
   "outputs": [],
   "source": [
    "excluded_loans=\"(-1)\""
   ]
  },
  {
   "cell_type": "code",
   "execution_count": 71,
   "metadata": {
    "collapsed": true
   },
   "outputs": [],
   "source": [
    "payment_plans_combined_sql=\"\"\"SELECT pp.dwh_country_id, pp.fk_loan, pp.fk_loan_request,l.loan_nr as loan_request_nr, \n",
    "        pp.fk_user_investor, pp.fk_user_borrower, pp.country_name, \n",
    "        pp.nominal_interest_percentage, pp.promo_interest_percentage, pp.has_promo_flag, \n",
    "        pp.is_repaid_flag, \n",
    "        pp.payout_date, pp.interval, pp.interval_payback_date, pp.next_interval_payback_date, \n",
    "        pp.loan_coverage, \n",
    "    \n",
    "        pp.payment_amount_borrower,\n",
    "        sum(pp.payment_amount_borrower) OVER wind as payment_amount_borrower_cum,\n",
    "        \n",
    "        pp.principal_amount_borrower, \n",
    "        sum(pp.principal_amount_borrower) OVER wind as principal_amount_borrower_cum,\n",
    "        \n",
    "        pp.interest_amount_borrower,\n",
    "        sum(pp.interest_amount_borrower) OVER wind as interest_amount_borrower_cum,\n",
    "        \n",
    "        pp.initial_principal_amount_borrower, \n",
    "        pp.residual_interest_amount_borrower, pp.residual_principal_amount_borrower, \n",
    "        \n",
    "        pp.calc_service_fee, \n",
    "        \n",
    "        pp.payment_amount_investor, \n",
    "        sum(pp.payment_amount_investor) OVER wind as payment_amount_investor_cum,\n",
    "        \n",
    "        pp.principal_amount_investor, \n",
    "        sum(pp.principal_amount_investor) OVER wind as principal_amount_investor_cum,\n",
    "        \n",
    "        pp.interest_amount_investor, \n",
    "        sum(pp.interest_amount_investor) OVER wind as interest_amount_investor_cum,\n",
    "        \n",
    "        pp.initial_principal_amount_investor, pp.sum_interval_interest_amount_investor, \n",
    "        pp.residual_interest_amount_investor, pp.residual_principal_amount_investor\n",
    "    \n",
    "        \n",
    "        FROM base.loan_payment_plan_combined_item pp\n",
    "        join base.loan l on (pp.dwh_country_id=l.dwh_country_id and pp.fk_loan=l.id_loan )\n",
    "        join base.loan_funding lf on (pp.dwh_country_id=lf.dwh_country_id and pp.fk_loan=lf.fk_loan and pp.fk_user_investor=lf.fk_user)\n",
    "        where pp.dwh_country_id=1 and \n",
    "        l.state!='canceled' \n",
    "        and l.id_loan not in {} and \n",
    "        l.originated_since is not null and\n",
    "        lf.state='funded'\n",
    "        WINDOW wind as (PARTITION BY pp.dwh_country_id, pp.fk_loan, pp.fk_user_investor order by interval)\n",
    "        \"\"\".format(excluded_loans)\n",
    "\n",
    "# load german combined payment plan up to system date (very large), removing cancelled/non funded loans and loans created by lendico 'borrowers'"
   ]
  },
  {
   "cell_type": "code",
   "execution_count": 26,
   "metadata": {
    "collapsed": false
   },
   "outputs": [],
   "source": [
    "payment_plans_sql=\"\"\"select \n",
    "pp.dwh_country_id, pp.fk_loan_payment_plan, pp.fk_user, pp.fk_loan_request, pp.fk_loan, \n",
    "pp.country_name, pp.currency_code, pp.loan_request_creation_date, \n",
    "interval, payment_amount, pp.interest_amount, pp.principal_amount, interval_payback_date, next_interval_payback_date, \n",
    "initial_principal_amount, sum_interval_interest_amount, residual_interest_amount, residual_principal_amount\n",
    "from base.loan_payment_plan_item pp\n",
    "join base.loan l on          (pp.dwh_country_id=l.dwh_country_id and pp.fk_loan=l.id_loan )\n",
    "where pp.dwh_country_id=1 and l.state!='canceled'  and l.originated_since is not null\n",
    "and l.id_loan not in {}\"\"\".format(excluded_loans)\n",
    "# load german borrower payment plan , removing cancelled, not yet originated  loans and loans created by lendico 'borrowers'\n"
   ]
  },
  {
   "cell_type": "code",
   "execution_count": 374,
   "metadata": {
    "collapsed": false
   },
   "outputs": [],
   "source": [
    "loans_sql=\"\"\"select l.*, gblrc.credit_agency_score, gblrc.pd, gblrc.pd_original, gblrc.lgd, gblrc.in_arrears_since, \n",
    "lp.payback_day,lp.payout_date, lp.state as payback_state, lp.auto_in_arrears_since, lp.in_arrears_since in_arrears_since_man\n",
    "from base.loan l\n",
    "join il.global_borrower_loan_requests_cohort gblrc\n",
    "on (l.dwh_country_id=gblrc.dwh_country_id and l.loan_nr=gblrc.loan_request_nr)\n",
    "\n",
    "join base.loan_payback lp\n",
    "on (l.dwh_country_id=lp.dwh_country_id and l.id_loan=lp.fk_loan)\n",
    "where \n",
    "    l.dwh_country_id=1 and \n",
    "    l.state!='canceled' and \n",
    "    id_loan not in {} and \n",
    "    originated_since is not null\"\"\".format(excluded_loans)\n",
    "\n",
    "\n",
    "# load loans removing cancelled, not yet originated  loans and loans created by lendico 'borrowers'"
   ]
  },
  {
   "cell_type": "code",
   "execution_count": 105,
   "metadata": {
    "collapsed": false
   },
   "outputs": [],
   "source": [
    "actual_payments_combined_sql= \"\"\"\n",
    "with \n",
    "actual_payments as (select \n",
    "dp.dwh_country_id, dp.fk_user as fk_user_borrower, dp.fk_loan, dp.loan_request_nr\n",
    " ,dp.iso_date \n",
    " ,dp.expected_amount_cum, dp.actual_amount_cum, in_arrears_flag, dp.in_arrears_since\n",
    " ,in_arrears_since_days\n",
    " -- expected/actual payment over month (by taking diff of cumsum)\n",
    ",dp.expected_amount_cum - lag(expected_amount_cum,1,0.0) over ( partition by dp.dwh_country_id, dp.fk_loan  order by dp.iso_date)  expected_amount_month\n",
    ",dp.actual_amount_cum - lag(actual_amount_cum,1,0.0) over ( partition by dp.dwh_country_id, dp.fk_loan order by iso_date)\n",
    " actual_amount_month\n",
    " from base.de_payments dp\n",
    "join base.loan_payback lp on (lp.dwh_country_id=dp.dwh_country_id and lp.fk_loan=dp.fk_loan) \n",
    "where dp.iso_date=(date_trunc('MONTH', dp.iso_date) + INTERVAL '1 MONTH - 1 day')::date\n",
    "and (lp.state!='payback_complete' or lp.in_arrears_since is not null or dp.iso_date <=lp.last_payment_date)\n",
    "and dp.fk_loan not in {}\n",
    ") ,\n",
    "-- select End of month, excluding those that have now paid back ( apart from those that were paid back by lendico)\n",
    "-- find corresponding payment plan item.\n",
    "-- we find the maximum payment plan interval that has cum_payment<= actual_cum \n",
    "-- could also use distinct on?\n",
    "-- match only actual payments that have happened after plan date\n",
    "-- problem is overpayments [ ie where payment plan has not been updated with extra payment.. because \n",
    "actual_payments_cum as (\n",
    "select \n",
    "ap.dwh_country_id, ap.fk_loan, \n",
    "-- dp.iso_date as date,min(pp.interval) as interval, min(interval_payback_date) interval_payback_date--, dp.actual_amount_cum, pp.payment_amount_cum'\n",
    "ap.iso_date,max(pp.interval) as interval\n",
    "\n",
    "from actual_payments ap\n",
    "\n",
    "join \n",
    "(select dwh_country_id, fk_loan, interval, interval_payback_date, sum(payment_amount) \n",
    "\tOVER (partition by dwh_country_id,fk_loan order by interval) payment_amount_cum  \n",
    "\tfrom base.loan_payment_plan_item  where interval_payback_date<=current_date) pp\n",
    "on \n",
    " (ap.dwh_country_id=pp.dwh_country_id and\n",
    " ap.fk_loan=pp.fk_loan and -- we need this to exclude extra payments that have not been added to payment plan\n",
    " ap.iso_date>=pp.interval_payback_date and\n",
    " ap.actual_amount_cum>=pp.payment_amount_cum )\n",
    " \n",
    "\n",
    "group by ap.dwh_country_id, ap.fk_loan,  ap.iso_date \n",
    "--order by date, interval\n",
    "\n",
    "),\n",
    "\n",
    "\n",
    " paymentplan as\n",
    "(\n",
    "        SELECT pp.dwh_country_id, pp.fk_loan, pp.fk_loan_request,  l.loan_nr as loan_request_nr,\n",
    "        pp.fk_user_investor, pp.fk_user_borrower, pp.country_name, pp.nominal_interest_percentage, pp.promo_interest_percentage, pp.has_promo_flag, \n",
    "        pp.is_repaid_flag, pp.payout_date, \n",
    "\t\tpp.interval, pp.interval_payback_date, pp.next_interval_payback_date, pp.loan_coverage, \n",
    "        pp.payment_amount_borrower, pp.principal_amount_borrower, pp.interest_amount_borrower, \n",
    "\t\tpp.initial_principal_amount_borrower, pp.sum_interval_interest_amount_borrower, \n",
    "        pp.residual_interest_amount_borrower, pp.residual_principal_amount_borrower, pp.payment_amount_promo, pp.principal_amount_promo, pp.interest_amount_promo, pp.initial_principal_amount_promo, \n",
    "        pp.sum_interval_interest_amount_promo, pp.residual_interest_amount_promo, pp.residual_principal_amount_promo, pp.calc_service_fee,\n",
    "        pp.payment_amount_investor, \n",
    " \n",
    "\t\tpp.principal_amount_investor, pp.interest_amount_investor, \n",
    "\t\tpp.initial_principal_amount_investor, pp.sum_interval_interest_amount_investor, \n",
    "        pp.residual_interest_amount_investor, pp.residual_principal_amount_investor\n",
    "\t\t, sum(coalesce(payment_amount_investor,0) ) OVER W::float as payment_amount_investor_cum\n",
    "\t\t, sum(coalesce(pp.interest_amount_investor,0) ) OVER W::float as interest_amount_investor_cum\n",
    "\t\t, sum(coalesce(pp.principal_amount_investor,0) ) OVER W::float as principal_amount_investor_cum\n",
    "        FROM base.loan_payment_plan_combined_item pp\n",
    "\n",
    " join   base.loan l    \n",
    " on     l.id_loan=pp.fk_loan and l.dwh_country_id=pp.dwh_country_id  \n",
    " join  base.loan_funding lf   on   \n",
    " (pp.dwh_country_id=lf.dwh_country_id and pp.fk_loan=lf.fk_loan and pp.fk_user_investor=lf.fk_user)\n",
    "where pp.dwh_country_id=1 and  pp.interval_payback_date<=current_date and  lf.state='funded' and l.state!='canceled'\n",
    "WINDOW W as (partition by pp.dwh_country_id, pp.fk_loan, pp.fk_user_investor ORDER BY pp.interval_payback_date)\n",
    ")\n",
    "\n",
    "select \n",
    "\n",
    " ap.dwh_country_id as dwh_country_id\n",
    " , ap.fk_user_borrower\n",
    " ,lf.fk_user as fk_user_investor\n",
    " , ap.fk_loan as fk_loan\n",
    " , ap.loan_request_nr\n",
    " , ap.iso_date,\n",
    " \n",
    " \n",
    "pp.nominal_interest_percentage, pp.promo_interest_percentage, pp.has_promo_flag, \n",
    "pp.is_repaid_flag, pp.payout_date, pp.interval, pp.interval_payback_date, pp.next_interval_payback_date, pp.loan_coverage, \n",
    "pp.payment_amount_borrower, pp.principal_amount_borrower, pp.interest_amount_borrower, pp.initial_principal_amount_borrower, pp.sum_interval_interest_amount_borrower, \n",
    "pp.residual_interest_amount_borrower, pp.residual_principal_amount_borrower, pp.calc_service_fee,\n",
    "\n",
    "pp.payment_amount_investor, pp.payment_amount_investor_cum,\n",
    "pp.payment_amount_investor_cum - lag(pp.payment_amount_investor_cum,1,0.0::float) over W payment_amount_investor_month,\n",
    "pp.principal_amount_investor, pp.interest_amount_investor, pp.sum_interval_interest_amount_investor, \n",
    "pp.interest_amount_investor_cum,\n",
    "pp.residual_interest_amount_investor,\n",
    "pp.principal_amount_investor_cum,\n",
    "pp.initial_principal_amount_investor, \n",
    "coalesce (pp.residual_principal_amount_investor, lf.amount) as residual_principal_amount_investor\n",
    "\n",
    ",expected_amount_month, expected_amount_cum\n",
    ",actual_amount_month, actual_amount_cum\n",
    ", in_arrears_flag, in_arrears_since\n",
    " ,in_arrears_since_days  \n",
    "\n",
    "\n",
    "from actual_payments ap\n",
    "left join actual_payments_cum ap_cum \n",
    "   on( \n",
    "  ap.dwh_country_id=ap_cum.dwh_country_id and \n",
    "  ap.fk_loan=ap_cum.fk_loan and \n",
    "  ap.iso_date=ap_cum.iso_date\n",
    "   )\n",
    "\n",
    "join base.loan_funding lf on (\n",
    " ap.dwh_country_id=lf.dwh_country_id and\n",
    " ap.fk_loan=lf.fk_loan\n",
    "\n",
    ")\n",
    "   \n",
    "left join paymentplan pp on (\n",
    "    pp.dwh_country_id=ap.dwh_country_id and \n",
    "    pp.fk_user_investor = lf.fk_user and\n",
    "    pp.fk_loan=ap.fk_loan and \n",
    "    ap_cum.interval=pp.interval) \n",
    "where  ap.dwh_country_id=1 and ap.iso_date <=current_date and lf.state='funded'\n",
    "WINDOW W as( partition by ap.dwh_country_id, ap.fk_loan, pp.fk_user_investor  order by ap.iso_date)\n",
    "order by dwh_country_id,fk_loan,iso_date \n",
    ";\"\"\".format(excluded_loans)\n"
   ]
  },
  {
   "cell_type": "code",
   "execution_count": 78,
   "metadata": {
    "collapsed": false
   },
   "outputs": [],
   "source": [
    "actual_payments_sql= \"\"\"\n",
    "with \n",
    "actual_payments as (select \n",
    "dp.dwh_country_id, dp.fk_user as fk_user_borrower, dp.fk_loan, dp.loan_request_nr\n",
    " ,dp.iso_date \n",
    " ,dp.expected_amount_cum, dp.actual_amount_cum, in_arrears_flag, dp.in_arrears_since\n",
    " ,in_arrears_since_days\n",
    "-- expected/actual payment over month (by taking diff of cumsum)\n",
    ",dp.expected_amount_cum - lag(expected_amount_cum,1,0.0) over ( partition by dp.dwh_country_id, dp.fk_loan  order by dp.iso_date)  expected_amount_month\n",
    ",dp.actual_amount_cum - lag(actual_amount_cum,1,0.0) over ( partition by dp.dwh_country_id, dp.fk_loan order by iso_date)\n",
    " actual_amount_month\n",
    " from base.de_payments dp\n",
    " join base.loan_payback lp on (lp.dwh_country_id=dp.dwh_country_id and lp.fk_loan=dp.fk_loan) \n",
    "where dp.iso_date=(date_trunc('MONTH', dp.iso_date) + INTERVAL '1 MONTH - 1 day')::date\n",
    "and (lp.state!='payback_complete' or lp.in_arrears_since is not null or dp.iso_date <=lp.last_payment_date)\n",
    "and dp.fk_loan not in {0}\n",
    ") ,\n",
    "-- select End of month, excluding those that have now paid back ( apart from those that were paid back by lendico)\n",
    "-- find corresponding payment plan item.\n",
    "-- we find the maximum payment plan interval that has cum_payment<= actual_cum \n",
    "-- could also use distinct on?\n",
    "-- match only actual payments that have happened after plan date\n",
    "-- problem is overpayments [ ie where payment plan has not been updated with extra payment.. because \n",
    "actual_payments_cum as (\n",
    "select \n",
    "ap.dwh_country_id, ap.fk_loan, \n",
    "-- dp.iso_date as date,min(pp.interval) as interval, min(interval_payback_date) interval_payback_date--, dp.actual_amount_cum, pp.payment_amount_cum'\n",
    "ap.iso_date,max(pp.interval) as interval\n",
    "\n",
    "from actual_payments ap\n",
    "\n",
    "join \n",
    "(select dwh_country_id, fk_loan, interval, interval_payback_date, sum(payment_amount) \\\n",
    "    OVER (partition by dwh_country_id,fk_loan order by interval) payment_amount_cum  \n",
    "    from base.loan_payment_plan_item where interval_payback_date<=current_date) pp\n",
    "on \n",
    " (ap.dwh_country_id=pp.dwh_country_id and\n",
    " ap.fk_loan=pp.fk_loan and -- we need this to exclude extra payments that have not been added to payment plan\n",
    " ap.iso_date>=pp.interval_payback_date and \n",
    " ap.actual_amount_cum>=pp.payment_amount_cum )\n",
    " \n",
    "group by ap.dwh_country_id, ap.fk_loan,  ap.iso_date \n",
    "--order by date, interval\n",
    "\n",
    "),\n",
    "\n",
    "\n",
    " paymentplan as\n",
    "(\n",
    "\n",
    "\tSELECT pp.dwh_country_id, pp.fk_user, pp.fk_loan_request,pp.fk_loan, l.loan_nr\n",
    "\t,pp.country_name, interval, payment_amount, pp.interest_amount\n",
    "\t,pp.principal_amount,interval_payback_date,next_interval_payback_date,\n",
    "\tinitial_principal_amount, sum_interval_interest_amount,\n",
    "\tresidual_interest_amount,residual_principal_amount\n",
    "\t, sum(coalesce(payment_amount,0) )  OVER W::float as payment_amount_cum\n",
    "\t, sum(coalesce(pp.interest_amount,0) ) OVER W::float as interest_amount_cum\n",
    "\t, sum(coalesce(pp.principal_amount,0) ) OVER W::float as principal_amount_cum\n",
    "\n",
    " FROM base.loan_payment_plan_item pp \n",
    "        \n",
    "\n",
    " join   base.loan l    \n",
    " on     l.id_loan=pp.fk_loan and l.dwh_country_id=pp.dwh_country_id  \n",
    " where  pp.dwh_country_id=1 and pp.interval_payback_date<=current_date\n",
    "WINDOW W as (partition by pp.dwh_country_id, pp.fk_loan ORDER BY pp.interval_payback_date)\n",
    ")\n",
    "\n",
    "select \n",
    "\n",
    " \n",
    " ap.dwh_country_id as dwh_country_id\n",
    " , ap.fk_user_borrower\n",
    " , ap.fk_loan as fk_loan\n",
    " , ap.loan_request_nr as loan_nr --changed from pp.loan_nr\n",
    " , ap.iso_date\n",
    " , pp.interval\n",
    " , pp.interval_payback_date\n",
    ",pp.payment_amount, pp.payment_amount_cum,\n",
    "\n",
    "pp.principal_amount, pp.interest_amount, pp.sum_interval_interest_amount, \n",
    "pp.interest_amount_cum,\n",
    "pp.residual_interest_amount,\n",
    " pp.principal_amount_cum,\n",
    " pp.initial_principal_amount, \n",
    "coalesce (pp.residual_principal_amount, l.principal_amount) as residual_principal_amount\n",
    "\n",
    ",expected_amount_month, expected_amount_cum\n",
    ",actual_amount_month, actual_amount_cum\n",
    ", in_arrears_flag, in_arrears_since\n",
    " ,in_arrears_since_days  \n",
    "\n",
    "\n",
    "\n",
    "from actual_payments ap\n",
    "left join actual_payments_cum ap_cum \n",
    "   on( \n",
    "  ap.dwh_country_id=ap_cum.dwh_country_id and \n",
    "  ap.fk_loan=ap_cum.fk_loan and \n",
    "  ap.iso_date=ap_cum.iso_date\n",
    "   )\n",
    "  \n",
    "left join paymentplan pp\n",
    " \n",
    "on (pp.dwh_country_id=ap.dwh_country_id and \n",
    "        pp.fk_loan=ap.fk_loan and \n",
    "        ap_cum.interval=pp.interval)\n",
    "join base.loan l \n",
    "on (ap.dwh_country_id=l.dwh_country_id and ap.fk_loan=l.id_loan)\n",
    "where  ap.dwh_country_id=1 and ap.iso_date <=current_date and  ap.fk_loan not in {0} \n",
    "\n",
    "order by dwh_country_id,fk_loan,iso_date ;\n",
    "\"\"\".format(excluded_loans)\n"
   ]
  },
  {
   "cell_type": "code",
   "execution_count": 29,
   "metadata": {
    "collapsed": true
   },
   "outputs": [],
   "source": [
    "loan_fundings_sql=\"\"\"select * from base.loan_funding where dwh_country_id=1 \n",
    "and fk_loan not in {} and state='funded'\"\"\".format(excluded_loans)"
   ]
  },
  {
   "cell_type": "code",
   "execution_count": null,
   "metadata": {
    "collapsed": false
   },
   "outputs": [],
   "source": [
    "%time loans=psql.read_sql(loans_sql,conn)"
   ]
  },
  {
   "cell_type": "code",
   "execution_count": 61,
   "metadata": {
    "collapsed": false
   },
   "outputs": [
    {
     "name": "stdout",
     "output_type": "stream",
     "text": [
      "Wall time: 26 s\n"
     ]
    }
   ],
   "source": [
    "%time loan_fundings=psql.read_sql(loan_fundings_sql,conn)"
   ]
  },
  {
   "cell_type": "code",
   "execution_count": 62,
   "metadata": {
    "collapsed": false
   },
   "outputs": [
    {
     "name": "stdout",
     "output_type": "stream",
     "text": [
      "Wall time: 38.3 s\n"
     ]
    }
   ],
   "source": [
    "%time payment_plans=psql.read_sql(payment_plans_sql,conn)"
   ]
  },
  {
   "cell_type": "code",
   "execution_count": 72,
   "metadata": {
    "collapsed": false,
    "scrolled": true
   },
   "outputs": [
    {
     "name": "stdout",
     "output_type": "stream",
     "text": [
      "Wall time: 19min 59s\n"
     ]
    }
   ],
   "source": [
    "%time payment_plans_combined=psql.read_sql(payment_plans_combined_sql,conn)"
   ]
  },
  {
   "cell_type": "code",
   "execution_count": 80,
   "metadata": {
    "collapsed": false
   },
   "outputs": [
    {
     "name": "stdout",
     "output_type": "stream",
     "text": [
      "Wall time: 13.1 s\n"
     ]
    }
   ],
   "source": [
    "%time actual_payments=psql.read_sql(actual_payments_sql,conn)"
   ]
  },
  {
   "cell_type": "code",
   "execution_count": 106,
   "metadata": {
    "collapsed": false
   },
   "outputs": [
    {
     "name": "stdout",
     "output_type": "stream",
     "text": [
      "Wall time: 2min 28s\n"
     ]
    }
   ],
   "source": [
    "%time actual_payments_combined=psql.read_sql(actual_payments_combined_sql,conn)"
   ]
  },
  {
   "cell_type": "code",
   "execution_count": 261,
   "metadata": {
    "collapsed": false
   },
   "outputs": [],
   "source": [
    "loans['rating_base']=loans.rating.str[0]\n",
    "loans['originated_since_date']=np.array(loans.originated_since,'datetime64[D]')\n",
    "loans['rating_switch']=1 + \\\n",
    "    (loans['originated_since_date']>np.datetime64('2014-06-30')) + \\\n",
    "    (loans['originated_since_date']>np.datetime64('2014-10-14'))"
   ]
  },
  {
   "cell_type": "code",
   "execution_count": 276,
   "metadata": {
    "collapsed": false
   },
   "outputs": [],
   "source": [
    "loans['originated_since_date_EOM']=loans['originated_since_date']+np.array(30-loans.payback_day,'timedelta64[D]')"
   ]
  },
  {
   "cell_type": "code",
   "execution_count": 277,
   "metadata": {
    "collapsed": false
   },
   "outputs": [],
   "source": [
    "loan_fundings1=loan_fundings.merge(loans[['id_loan','originated_since_date','originated_since_date_EOM','payback_day','principal_amount']],left_on=['fk_loan'],right_on=['id_loan'])"
   ]
  },
  {
   "cell_type": "code",
   "execution_count": 266,
   "metadata": {
    "collapsed": false
   },
   "outputs": [],
   "source": [
    "loan_fundings1['loan_coverage1']=loan_fundings1.amount/loan_fundings1.principal_amount*100"
   ]
  },
  {
   "cell_type": "code",
   "execution_count": 146,
   "metadata": {
    "collapsed": false
   },
   "outputs": [],
   "source": [
    "z1=pd.DataFrame(actual_payments.set_index(['iso_date','fk_loan'])[['in_arrears_since', 'in_arrears_since_days']])\n",
    "z1['bucket']=np.ceil(z1.in_arrears_since_days/30)\n",
    "a1=z1.bucket.unstack()\n",
    "\n",
    "a2=a1.shift(-1, freq='M')\n",
    "a3=a1.shift(-2, freq='M')\n",
    "a4=a1.shift(-3, freq='M')\n",
    "a5=a1.shift(-4, freq='M')\n",
    "a6=a1.shift(-5, freq='M')\n",
    "a7=a1.shift(-6, freq='M')\n",
    "\n",
    "\n",
    "z1['in_arrears_since_1M']=a2.stack()\n",
    "z1['in_arrears_since_2M']=a3.stack()\n",
    "z1['in_arrears_since_3M']=a4.stack()\n",
    "z1['in_arrears_since_4M']=a5.stack()\n",
    "z1['in_arrears_since_5M']=a6.stack()\n",
    "z1['in_arrears_since_6M']=a7.stack()\n",
    "\n"
   ]
  },
  {
   "cell_type": "code",
   "execution_count": null,
   "metadata": {
    "collapsed": true
   },
   "outputs": [],
   "source": [
    "# trying to detemine stability "
   ]
  },
  {
   "cell_type": "code",
   "execution_count": 148,
   "metadata": {
    "collapsed": false
   },
   "outputs": [],
   "source": [
    "z2=z1.fillna(0)"
   ]
  },
  {
   "cell_type": "code",
   "execution_count": 150,
   "metadata": {
    "collapsed": true
   },
   "outputs": [],
   "source": [
    "z3=z2.groupby(['bucket','in_arrears_since_1M']).size()"
   ]
  },
  {
   "cell_type": "code",
   "execution_count": 134,
   "metadata": {
    "collapsed": false
   },
   "outputs": [],
   "source": [
    "z1=actual_payments_combined[actual_payments_combined.iso_date==datetime.date(2015,4,30)].residual_principal_amount_investor"
   ]
  },
  {
   "cell_type": "code",
   "execution_count": 137,
   "metadata": {
    "collapsed": false
   },
   "outputs": [
    {
     "data": {
      "text/plain": [
       "0"
      ]
     },
     "execution_count": 137,
     "metadata": {},
     "output_type": "execute_result"
    }
   ],
   "source": [
    "(z1.isnull()).sum()\n"
   ]
  },
  {
   "cell_type": "code",
   "execution_count": 359,
   "metadata": {
    "collapsed": false
   },
   "outputs": [],
   "source": [
    "def days360_tup(diff):\n",
    "    # not actually 30360 as in bond basis. \n",
    "    # note february -> 30 so longer ( and 31 months get shortened)\n",
    "    x=None\n",
    "    try:\n",
    "        x=(diff[1].year-diff[0].year)*360+(diff[1].month-diff[0].month)*30+min((diff[1].day-diff[0].day),30)\n",
    "    except AttributeError:\n",
    "        pass\n",
    "    return x\n",
    "       \n",
    "def days360(start,end):\n",
    "    diffs=zip(start,end)\n",
    "    \n",
    "    return map(days360_tup, diffs)\n",
    "\n",
    "def rebase(x):\n",
    "    # we treat interval 0 as special ( can't default then)\n",
    "    # might consider doing fractional amount\n",
    "    # if first interval is zero, return x otherwise x-x[0]+1\n",
    "    # different investors may or may not have zero ( if investment too loo <1 cent interest)\n",
    "    min_interval=x.min()\n",
    "    if min_interval!=0:\n",
    "        min_interval-=1\n",
    "    return x-min_interval\n",
    "\n",
    "def calc_survival(pp):\n",
    "    # outputs new dataframe\n",
    "    ### CURRENTLY WRONG initial principal_amount is borrower not investor\n",
    "    pp=pp.copy()\n",
    "    pp['interval_rebased']=pp[['fk_loan','interval']].groupby('fk_loan').transform(rebase)\n",
    "    \n",
    "    pp['surv_month']=(1-pp.pd).pow(1/12.0)\n",
    "    pp['survive'] =pp.surv_month.pow(pp.interval_rebased)\n",
    "    pp['default'] =(pp.interval_rebased>0) * pp.surv_month.pow(pp.interval_rebased-1) * (1-pp.surv_month)\n",
    "    pp['e_payment_amount']=pp.survive * pp.payment_amount\n",
    "    pp['e_recovery']=pp.default * pp.recovery*pp.initial_principal_amount\n",
    "    pp['e_tot']=pp.e_payment_amount + pp.e_recovery\n",
    "    pp['e_tot_svc']=pp['e_tot']*(1-0.01)\n",
    "    return pp\n",
    "\n",
    "def calc_survival_investor(pp):\n",
    "    # outputs new dataframe\n",
    "    pp=pp.copy()\n",
    "    pp['interval_rebased']=pp[['fk_loan','interval']].groupby(['fk_loan']).transform(rebase)\n",
    "    \n",
    "    pp['surv_month']=(1-pp.pd).pow(1/12.0)\n",
    "    pp['survive'] =pp.surv_month.pow(pp.interval_rebased)\n",
    "    pp['default'] =(pp.interval_rebased>0) * pp.surv_month.pow(pp.interval_rebased-1) * (1-pp.surv_month)\n",
    "    pp['e_payment_amount_investor']=pp.survive * pp.payment_amount_investor\n",
    "    pp['e_recovery']=pp.default * pp.recovery*pp.initial_principal_amount_investor\n",
    "    pp['e_tot']=pp.e_payment_amount_investor + pp.e_recovery\n",
    "    return pp\n",
    "\n",
    "\n",
    "\n",
    "def make_pd_arrears( act_pay, loans, latest_date,arrears_dict):\n",
    "    act_pay=act_pay[np.array(act_pay.iso_date,'datetime64[D]')==np.datetime64(latest_date,'D')].copy()\n",
    "    act_pay['bucket']=np.ceil(act_pay.in_arrears_since_days_30360/30)*30\n",
    "    act_pay['bucket_pd']=act_pay.bucket.map(arrears_dict)\n",
    "    \n",
    "    return loans.merge(act_pay[['fk_loan','in_arrears_since', 'in_arrears_since_days',\\\n",
    "                                'in_arrears_since_days_30360', 'bucket', 'bucket_pd']], \\\n",
    "                       left_on='id_loan',right_on='fk_loan',how='left')\n",
    "    \n",
    "def add_pd(pp, loans, use_in_arrears):\n",
    "    \"\"\" add pd from loans, divide by 100, and create dupl pd_noarr \"\"\"\n",
    "    pp_pd=pp.merge(loans[['id_loan','pd','bucket_pd']],left_on='fk_loan',right_on='id_loan')\n",
    "    pp_pd['pd']=pp_pd['pd']/100.0\n",
    "    pp_pd['pd_noarr']=pp_pd['pd']\n",
    "    if use_in_arrears:\n",
    "        pp_pd.loc[pp_pd.bucket_pd.notnull(),'pd']=pp_pd.loc[pp_pd.bucket_pd.notnull(),'bucket_pd']\n",
    "    return pp_pd                \n",
    "\n",
    "def make_future_pd(payment_plans,loans, arrears_dict, use_in_arrears, EOM_date_str=None, latest_paid_interval=None):\n",
    "    \"\"\" \n",
    "        select future payments ( after EOM_date_str)\n",
    "        for each loan remove payment_plans where already paid\n",
    "        if EOM_date_str is None use all data \n",
    "    \"\"\"\n",
    "    \n",
    "    if EOM_date_str is not None:\n",
    "        EOM_date=datetime.datetime.strptime(EOM_date_str,'%Y-%m-%d').date()\n",
    "        fut=payment_plans[payment_plans.interval_payback_date > EOM_date ].merge(\\\n",
    "                        pd.DataFrame(latest_paid_interval),left_on=['fk_loan','fk_user_investor'],right_index=True,how='left')\n",
    "        fut=fut[(fut.latest_paid_interval.isnull() )|(fut.interval>fut.latest_paid_interval)]\n",
    "    else:\n",
    "        fut=payment_plans.copy()\n",
    "    # drop intervals already in actual???\n",
    "    fut_pd=add_pd(fut, loans, use_in_arrears)\n",
    "    fut_pd=calc_survival_investor(fut_pd)\n",
    "    return fut_pd\n",
    "\n",
    "def generate_cashflows_act_investor( actual,loan_funding, EOM_date_str):\n",
    "    # take payments and add initial principal and remaining principal\n",
    "    # the remaining principal is all that has to be paid back (including in arrears principals)\n",
    "    EOM_date=datetime.datetime.strptime(EOM_date_str,'%Y-%m-%d').date()\n",
    "    \n",
    "    \n",
    "    loans_orig=loan_funding.loc[loan_funding.originated_since_date<EOM_date,['fk_loan','fk_user','originated_since_date_EOM','amount']].copy()\n",
    "    loans_orig.amount=-loans_orig.amount    \n",
    "    loans_orig.rename(columns={'fk_loan':'id_loan', 'fk_user':'fk_user_investor','originated_since_date_EOM':'date' ,'amount':'payment'},inplace=True)\n",
    "    \n",
    "    act=actual.loc[actual.iso_date<=EOM_date,['fk_loan','iso_date','fk_user_investor','payment_amount_investor_month']].\\\n",
    "        rename(columns={'fk_loan':'id_loan','iso_date':'date',\n",
    "                        'payment_amount_investor_month':'payment'})\n",
    "    act.date=np.array(act.date,'datetime64[D]')\n",
    "    residual=actual.loc[actual.iso_date==EOM_date,['fk_loan','fk_user_investor', 'residual_principal_amount_investor']].\\\n",
    "            rename(columns={'fk_loan':'id_loan','residual_principal_amount_investor':'payment'})\n",
    "    residual['date']=np.datetime64(EOM_date,'D')\n",
    "    \n",
    "    cashflows=act.append([residual,loans_orig],ignore_index=True)\n",
    "    cashflows['dcf']=(np.datetime64('2015-04-01','D')  -cashflows[\"date\"].values)/np.timedelta64(1,'D')/365\n",
    "    cashflows=cashflows.merge(loans[['id_loan','originated_since_date','rating_base','rating_switch','payback_state']],on='id_loan',how='left')\n",
    "    return cashflows\n",
    "\n",
    "\n",
    "def generate_cashflows_pp(pp,loan_fundings,loans, EOM_date_str=None):\n",
    "    if EOM_date_str is None:\n",
    "        EOM_date_str='2300-01-01'\n",
    "    EOM_date=datetime.datetime.strptime(EOM_date_str,'%Y-%m-%d').date()\n",
    "    # generate cashflows from plan for xirr ( by taking payment amount, loan funding and residual principal\n",
    "    # exclude loans for which no plan yet or interval zero where \n",
    "    cashflows=pp.loc[pp.interval_payback_date<=EOM_date,['fk_loan','fk_user_investor','interval_payback_date','payment_amount_investor']].copy()\n",
    "   \n",
    "    \n",
    "    cashflows=cashflows[cashflows.payment_amount_investor.notnull()]\n",
    "    cashflows['interval_payback_date']=np.array(cashflows['interval_payback_date'],'datetime64[D]') \n",
    "    investor_loan_ids=cashflows[['fk_loan','fk_user_investor']].drop_duplicates()\n",
    "    \n",
    "    # filter out cases with no plan yet ( depends on investor because first payment could be <1 cent)\n",
    "    cashflows.rename(columns={'fk_loan':'id_loan','interval_payback_date':'date','payment_amount_investor':'payment'},inplace=True)\n",
    "    loan_fundings=loan_fundings[['fk_loan','fk_user','originated_since_date','amount']]\\\n",
    "        .merge(investor_loan_ids,left_on=['fk_loan','fk_user'],right_on=['fk_loan','fk_user_investor'])\n",
    "    del loan_fundings['fk_user_investor']\n",
    "    #loan_fundings['date']=np.array(loan_fundings['date'],'datetime64[D]') \n",
    "    loan_fundings.amount=-loan_fundings.amount\n",
    "    loan_fundings.rename(columns={'fk_loan':'id_loan', 'fk_user':'fk_user_investor','originated_since_date':'date' ,'amount':'payment'},inplace=True)\n",
    "    \n",
    "    residuals=pp.loc[pp.interval_payback_date<=EOM_date,['fk_loan','fk_user_investor','interval_payback_date','residual_principal_amount_investor']]\\\n",
    "        .groupby(['fk_loan','fk_user_investor']).agg({\\\n",
    "                                'interval_payback_date':np.max,\\\n",
    "                                'residual_principal_amount_investor':np.min}).reset_index()\n",
    "    \n",
    "    # should be same as finding principal at max date!\n",
    "    residuals=residuals[residuals.residual_principal_amount_investor.notnull()]\n",
    "    residuals['interval_payback_date']=np.array(residuals['interval_payback_date'],'datetime64[D]') \n",
    "    residuals.rename(columns={'fk_loan':'id_loan','interval_payback_date':'date' ,\\\n",
    "                              'residual_principal_amount_investor':'payment'},inplace=True)    \n",
    "    \n",
    "    cashflows=cashflows.append([loan_fundings, residuals],ignore_index=True)\n",
    "    # warning a mix of datetimes and dates causes problems - datetimes -> 1970-...\n",
    "    cashflows['date']=np.array(cashflows['date'],'datetime64[D]')\n",
    "    \n",
    "    cashflows['dcf']=(datetime.date(2015,4,1)  -cashflows['date'])/np.timedelta64(1,'D')/365\n",
    "    cashflows=cashflows.merge(loans[['id_loan','originated_since_date','rating_base','rating_switch','payback_state']],on='id_loan',how='left')\n",
    "    return cashflows\n",
    "\n",
    "    \n",
    "def generate_cashflows(pred_pp, loan_funding, EOM_date_str=None, actual=None):\n",
    "    \"\"\" prepare data for IRR calculation.\n",
    "        take predicted future cashflows together with inital principal \n",
    "        and any actual payments and return merged cashflows for IRR calculation\n",
    "        EOM_date_str: only used to filter loans that were originated before EOM_str\n",
    "    \"\"\"\n",
    "    if EOM_date_str is not None:\n",
    "        EOM_date=datetime.datetime.strptime(EOM_date_str,'%Y-%m-%d').date()\n",
    "        \n",
    "    # take payments and add initial principal\n",
    "    cashflows=pred_pp[['fk_loan','fk_user_investor','e_tot']].copy()\n",
    "    cashflows['interval_payback_date']=np.array(pred_pp.interval_payback_date,'datetime64[D]')\n",
    "    cashflows.rename(columns={'fk_loan':'id_loan','interval_payback_date':'date','e_tot':'payment'},inplace=True)\n",
    "    # ids=cashflows.id_loan.unique()\n",
    "    \n",
    "    \n",
    "    if EOM_date_str is not None:    \n",
    "        loans_orig=loan_funding.loc[loan_funding.originated_since_date<EOM_date,['fk_loan','fk_user','originated_since_date_EOM','amount']].copy()\n",
    "    else:\n",
    "        loans_orig=loan_funding[['fk_loan','fk_user','originated_since_date_EOM','amount']].copy()\n",
    "    loans_orig.amount=-loans_orig.amount\n",
    "    loans_orig.rename(columns={'fk_loan':'id_loan', 'fk_user':'fk_user_investor','originated_since_date_EOM':'date' ,'amount':'payment'},inplace=True)\n",
    "    if actual is not None:\n",
    "        act=actual[['fk_loan','fk_user_investor','iso_date','payment_amount_investor_month']].\\\n",
    "        rename(columns={'fk_loan':'id_loan','iso_date':'date','payment_amount_investor_month':'payment'})\n",
    "    \n",
    "        act.date=np.array(act.date,'datetime64[D]')\n",
    "    else:\n",
    "        act=None\n",
    "    cashflows=pd.concat([act,cashflows,loans_orig],ignore_index=True)\n",
    "    cashflows['dcf']=(np.datetime64('2015-04-01','D')  -cashflows[\"date\"].values)/np.timedelta64(1,'D')/365\n",
    "    cashflows=cashflows.merge(loans[['id_loan','rating_base','rating_switch','payback_state']],on='id_loan',how='left')\n",
    "    return cashflows\n",
    "\n",
    "\n",
    "\n",
    "def xnpv(rs,amounts, taus):\n",
    "    \"\"\" should work for scalars and vectors. \n",
    "    taus: is the day count fraction as of the valuation date (tau=0)\n",
    "    \"\"\"\n",
    "    qs=np.power(1+rs ,taus)\n",
    "    return np.sum(amounts*qs)\n",
    "\n",
    "def xirr(amounts,taus, guess=0.1):\n",
    "    # RuntimeError: Failed to converge after 50 iterations, value is nan\n",
    "    try:\n",
    "        z=scipy.optimize.newton(lambda r: xnpv(r,amounts, taus),guess)\n",
    "    except RuntimeError:\n",
    "        z=np.nan\n",
    "    return z\n",
    "\n",
    "# merge in investor field and loan coverage, change borrower payment to investor cashflow ( ie according to their allocation of loan) \n",
    "def add_investor_coverage(cashflows,loan_fundings):\n",
    "    cashflows1=cashflows.merge(loan_fundings[['fk_loan','fk_user','loan_coverage1']],left_on='id_loan',right_on='fk_loan')\n",
    "    cashflows1['orig_payment']=cashflows1['payment']\n",
    "    cashflows1['payment']=cashflows1['orig_payment']*cashflows1['loan_coverage1']/100.0\n",
    "    return cashflows1\n"
   ]
  },
  {
   "cell_type": "code",
   "execution_count": 141,
   "metadata": {
    "collapsed": false
   },
   "outputs": [],
   "source": [
    "actual_payments['in_arrears_since_days_30360']=days360(actual_payments.in_arrears_since.values,actual_payments.iso_date.values)\n",
    "actual_payments_combined['in_arrears_since_days_30360']=days360(actual_payments_combined.in_arrears_since.values,actual_payments_combined.iso_date.values)"
   ]
  },
  {
   "cell_type": "code",
   "execution_count": 47,
   "metadata": {
    "collapsed": true
   },
   "outputs": [],
   "source": [
    "irreg_payments_sql=\"select * from backend.loan_payment_plan where plan ~* 'IRREGULAR' and dwh_country_id=1\"\n",
    "# problem with like '%irregular%#"
   ]
  },
  {
   "cell_type": "code",
   "execution_count": 48,
   "metadata": {
    "collapsed": false
   },
   "outputs": [],
   "source": [
    "irreg_payments=psql.read_sql_query(irreg_payments_sql,conn)"
   ]
  },
  {
   "cell_type": "code",
   "execution_count": 51,
   "metadata": {
    "collapsed": false
   },
   "outputs": [
    {
     "data": {
      "text/plain": [
       "Index([u'dwh_country_id', u'id_loan_payment_plan', u'fk_user', u'fk_loan', u'interval_payment', u'last_interval_payment', u'plan', u'created_at', u'updated_at', u'dwh_created', u'dwh_last_modified', u'country', u'dwh_row_hash'], dtype='object')"
      ]
     },
     "execution_count": 51,
     "metadata": {},
     "output_type": "execute_result"
    }
   ],
   "source": [
    "irreg_payments.columns"
   ]
  },
  {
   "cell_type": "code",
   "execution_count": 49,
   "metadata": {
    "collapsed": false
   },
   "outputs": [
    {
     "data": {
      "text/plain": [
       "[u'dwh_country_id',\n",
       " u'id_loan_payment_plan',\n",
       " u'fk_user',\n",
       " u'fk_loan',\n",
       " u'interval_payment',\n",
       " u'last_interval_payment',\n",
       " u'created_at',\n",
       " u'updated_at',\n",
       " u'dwh_created',\n",
       " u'dwh_last_modified',\n",
       " u'country',\n",
       " u'dwh_row_hash']"
      ]
     },
     "execution_count": 49,
     "metadata": {},
     "output_type": "execute_result"
    }
   ],
   "source": [
    "cols=irreg_payments.columns.values.tolist()\n",
    "cols.remove('plan')\n",
    "cols\n"
   ]
  },
  {
   "cell_type": "code",
   "execution_count": 50,
   "metadata": {
    "collapsed": false
   },
   "outputs": [],
   "source": [
    "li=[]\n",
    "cols=irreg_payments.columns.values.tolist()\n",
    "cols.remove('plan')\n",
    "\n",
    "for i in range(irreg_payments.shape[0]):\n",
    "    z=pd.read_json(irreg_payments.plan[i])\n",
    "    for c in cols:\n",
    "        z.loc[:,c]=irreg_payments.iloc[i][c]\n",
    "    li.append(z)\n",
    "\n",
    "irreg_p=pd.concat(li)"
   ]
  },
  {
   "cell_type": "code",
   "execution_count": 81,
   "metadata": {
    "collapsed": false
   },
   "outputs": [
    {
     "data": {
      "text/plain": [
       "array([ 20,  28,  51, 241,  65,  92, 264, 360, 135, 324, 334, 270,  37,\n",
       "       354, 253, 579, 311, 168,  58, 232, 379,  41, 366, 422, 764, 860,\n",
       "        77,  30, 498,  76,  71, 378, 507, 419, 552, 526, 580, 349,  27,\n",
       "        19,  98, 553, 557, 630, 817, 400, 480, 256, 267, 528, 269, 735,\n",
       "        33, 394, 571, 904, 138, 132, 408, 323,  94], dtype=int64)"
      ]
     },
     "execution_count": 81,
     "metadata": {},
     "output_type": "execute_result"
    }
   ],
   "source": [
    "irreg_p.fk_loan.unique()"
   ]
  },
  {
   "cell_type": "code",
   "execution_count": 143,
   "metadata": {
    "collapsed": true
   },
   "outputs": [],
   "source": [
    "actual_payments['cum_diff']=actual_payments.expected_amount_cum-actual_payments.actual_amount_cum\n",
    "actual_payments_combined['cum_diff']=actual_payments_combined.expected_amount_cum-actual_payments_combined.actual_amount_cum"
   ]
  },
  {
   "cell_type": "code",
   "execution_count": 177,
   "metadata": {
    "collapsed": false
   },
   "outputs": [
    {
     "data": {
      "text/html": [
       "<div style=\"max-height:1000px;max-width:1500px;overflow:auto;\">\n",
       "<table border=\"1\" class=\"dataframe\">\n",
       "  <thead>\n",
       "    <tr style=\"text-align: right;\">\n",
       "      <th></th>\n",
       "      <th>date</th>\n",
       "      <th>fk_user_investor</th>\n",
       "      <th>id_loan</th>\n",
       "      <th>payment</th>\n",
       "      <th>dcf</th>\n",
       "      <th>rating_base</th>\n",
       "      <th>rating_switch</th>\n",
       "      <th>payback_state</th>\n",
       "    </tr>\n",
       "  </thead>\n",
       "  <tbody>\n",
       "    <tr>\n",
       "      <th>75817</th>\n",
       "      <td>2014-09-30</td>\n",
       "      <td>25151</td>\n",
       "      <td>304</td>\n",
       "      <td>11.9300</td>\n",
       "      <td>0.501370</td>\n",
       "      <td>C</td>\n",
       "      <td>2</td>\n",
       "      <td>payback_pending</td>\n",
       "    </tr>\n",
       "    <tr>\n",
       "      <th>75818</th>\n",
       "      <td>2014-10-31</td>\n",
       "      <td>25151</td>\n",
       "      <td>304</td>\n",
       "      <td>50.5000</td>\n",
       "      <td>0.416438</td>\n",
       "      <td>C</td>\n",
       "      <td>2</td>\n",
       "      <td>payback_pending</td>\n",
       "    </tr>\n",
       "    <tr>\n",
       "      <th>75819</th>\n",
       "      <td>2014-11-30</td>\n",
       "      <td>25151</td>\n",
       "      <td>304</td>\n",
       "      <td>50.5000</td>\n",
       "      <td>0.334247</td>\n",
       "      <td>C</td>\n",
       "      <td>2</td>\n",
       "      <td>payback_pending</td>\n",
       "    </tr>\n",
       "    <tr>\n",
       "      <th>75820</th>\n",
       "      <td>2014-12-31</td>\n",
       "      <td>25151</td>\n",
       "      <td>304</td>\n",
       "      <td>0.0000</td>\n",
       "      <td>0.249315</td>\n",
       "      <td>C</td>\n",
       "      <td>2</td>\n",
       "      <td>payback_pending</td>\n",
       "    </tr>\n",
       "    <tr>\n",
       "      <th>75821</th>\n",
       "      <td>2015-01-31</td>\n",
       "      <td>25151</td>\n",
       "      <td>304</td>\n",
       "      <td>101.0000</td>\n",
       "      <td>0.164384</td>\n",
       "      <td>C</td>\n",
       "      <td>2</td>\n",
       "      <td>payback_pending</td>\n",
       "    </tr>\n",
       "    <tr>\n",
       "      <th>75822</th>\n",
       "      <td>2015-02-28</td>\n",
       "      <td>25151</td>\n",
       "      <td>304</td>\n",
       "      <td>50.5000</td>\n",
       "      <td>0.087671</td>\n",
       "      <td>C</td>\n",
       "      <td>2</td>\n",
       "      <td>payback_pending</td>\n",
       "    </tr>\n",
       "    <tr>\n",
       "      <th>75823</th>\n",
       "      <td>2015-03-31</td>\n",
       "      <td>25151</td>\n",
       "      <td>304</td>\n",
       "      <td>51.0200</td>\n",
       "      <td>0.002740</td>\n",
       "      <td>C</td>\n",
       "      <td>2</td>\n",
       "      <td>payback_pending</td>\n",
       "    </tr>\n",
       "    <tr>\n",
       "      <th>75824</th>\n",
       "      <td>2015-04-30</td>\n",
       "      <td>25151</td>\n",
       "      <td>304</td>\n",
       "      <td>51.0200</td>\n",
       "      <td>-0.079452</td>\n",
       "      <td>C</td>\n",
       "      <td>2</td>\n",
       "      <td>payback_pending</td>\n",
       "    </tr>\n",
       "    <tr>\n",
       "      <th>146717</th>\n",
       "      <td>2015-04-30</td>\n",
       "      <td>25151</td>\n",
       "      <td>304</td>\n",
       "      <td>2256.8057</td>\n",
       "      <td>-0.079452</td>\n",
       "      <td>C</td>\n",
       "      <td>2</td>\n",
       "      <td>payback_pending</td>\n",
       "    </tr>\n",
       "    <tr>\n",
       "      <th>172243</th>\n",
       "      <td>2014-08-08</td>\n",
       "      <td>25151</td>\n",
       "      <td>304</td>\n",
       "      <td>-2500.0000</td>\n",
       "      <td>0.646575</td>\n",
       "      <td>C</td>\n",
       "      <td>2</td>\n",
       "      <td>payback_pending</td>\n",
       "    </tr>\n",
       "  </tbody>\n",
       "</table>\n",
       "</div>"
      ],
      "text/plain": [
       "             date  fk_user_investor  id_loan    payment       dcf rating_base  \\\n",
       "75817  2014-09-30             25151      304    11.9300  0.501370           C   \n",
       "75818  2014-10-31             25151      304    50.5000  0.416438           C   \n",
       "75819  2014-11-30             25151      304    50.5000  0.334247           C   \n",
       "75820  2014-12-31             25151      304     0.0000  0.249315           C   \n",
       "75821  2015-01-31             25151      304   101.0000  0.164384           C   \n",
       "75822  2015-02-28             25151      304    50.5000  0.087671           C   \n",
       "75823  2015-03-31             25151      304    51.0200  0.002740           C   \n",
       "75824  2015-04-30             25151      304    51.0200 -0.079452           C   \n",
       "146717 2015-04-30             25151      304  2256.8057 -0.079452           C   \n",
       "172243 2014-08-08             25151      304 -2500.0000  0.646575           C   \n",
       "\n",
       "        rating_switch    payback_state  \n",
       "75817               2  payback_pending  \n",
       "75818               2  payback_pending  \n",
       "75819               2  payback_pending  \n",
       "75820               2  payback_pending  \n",
       "75821               2  payback_pending  \n",
       "75822               2  payback_pending  \n",
       "75823               2  payback_pending  \n",
       "75824               2  payback_pending  \n",
       "146717              2  payback_pending  \n",
       "172243              2  payback_pending  "
      ]
     },
     "execution_count": 177,
     "metadata": {},
     "output_type": "execute_result"
    }
   ],
   "source": [
    "cashflows_act_investor=generate_cashflows_act_investor(actual_payments_combined,loan_fundings1,'2015-04-30')"
   ]
  },
  {
   "cell_type": "code",
   "execution_count": 332,
   "metadata": {
    "collapsed": false
   },
   "outputs": [],
   "source": [
    "actual_payments[abs(actual_payments.cum_diff)>0.01].to_clipboard()"
   ]
  },
  {
   "cell_type": "code",
   "execution_count": 146,
   "metadata": {
    "collapsed": false
   },
   "outputs": [
    {
     "data": {
      "text/plain": [
       "(7194, 26)"
      ]
     },
     "execution_count": 146,
     "metadata": {},
     "output_type": "execute_result"
    }
   ],
   "source": [
    "actual_payments.shape"
   ]
  },
  {
   "cell_type": "code",
   "execution_count": 52,
   "metadata": {
    "collapsed": false
   },
   "outputs": [],
   "source": [
    "payment_plans.sort(['fk_loan','interval'],inplace=True) #prob unnecc? but need sorted for rebase"
   ]
  },
  {
   "cell_type": "code",
   "execution_count": 179,
   "metadata": {
    "collapsed": true
   },
   "outputs": [],
   "source": [
    "def recovery(amounts):\n",
    "    return 0.1425+(0.2613-.1425)*(amounts<=25000)+ (0.5814 - 0.2613)*(amounts<=5000)\n",
    "    # losses return 0.4186+(0.7387-.4186)*(amounts>5000)+ (0.8575 - 0.7387)*(amounts>25000)"
   ]
  },
  {
   "cell_type": "code",
   "execution_count": 308,
   "metadata": {
    "collapsed": false
   },
   "outputs": [],
   "source": [
    "payment_plans['recovery']=recovery(payment_plans.initial_principal_amount)\n",
    "payment_plans_combined['recovery']=recovery(payment_plans_combined.initial_principal_amount_investor)"
   ]
  },
  {
   "cell_type": "code",
   "execution_count": 309,
   "metadata": {
    "collapsed": true
   },
   "outputs": [],
   "source": [
    "latest_paid_interval=actual_payments.groupby('fk_loan')['interval'].max()\n",
    "latest_paid_interval.name='latest_paid_interval'\n",
    "latest_paid_interval_investor=actual_payments_combined.groupby(['fk_loan','fk_user_investor'])['interval'].max()\n",
    "latest_paid_interval_investor.name='latest_paid_interval'"
   ]
  },
  {
   "cell_type": "code",
   "execution_count": 305,
   "metadata": {
    "collapsed": true
   },
   "outputs": [],
   "source": [
    "arrears_dict={30:0.15,60:0.35, 90:0.67, 120:1,150:1,180:1,210:1,240:1,270:1}\n",
    "arrears_dict={30:0.195, 60: 0.44, 90:0.611, 120:1,150:1,180:1,210:1,240:1,270:1}\n",
    "arrears_dict={30:0.164, 60: 0.384, 90:0.55, 120:1,150:1,180:1,210:1,240:1,270:1}"
   ]
  },
  {
   "cell_type": "code",
   "execution_count": 306,
   "metadata": {
    "collapsed": false
   },
   "outputs": [],
   "source": [
    "loans1=make_pd_arrears( actual_payments, loans, latest_date='2015-04-30',arrears_dict=arrears_dict)"
   ]
  },
  {
   "cell_type": "code",
   "execution_count": 316,
   "metadata": {
    "collapsed": false
   },
   "outputs": [],
   "source": [
    "future_pd_30360_arrears=make_future_pd(payment_plans_combined, actual_payments_combined,loans1, '2015-04-30',latest_paid_interval_investor, arrears_dict,True)\n",
    "future_pd_30360_origpd=make_future_pd(payment_plans_combined, actual_payments_combined,loans1, '2015-04-30',latest_paid_interval_investor, arrears_dict,False)\n",
    "future_pd_30360_origpd_all=make_future_pd(payment_plans_combined, loans1, arrears_dict,False)"
   ]
  },
  {
   "cell_type": "code",
   "execution_count": 299,
   "metadata": {
    "collapsed": false
   },
   "outputs": [],
   "source": []
  },
  {
   "cell_type": "code",
   "execution_count": 338,
   "metadata": {
    "collapsed": false
   },
   "outputs": [],
   "source": [
    "cashflows_act_investor_EOM=generate_cashflows_act_investor(actual_payments_combined,loan_fundings1,'2015-04-30')\n",
    "cashflows_act_arrears_investor=generate_cashflows(future_pd_30360_arrears, actual_payments_combined,loan_fundings1,'2015-04-30')\n",
    "cashflows_act_origpd_investor=generate_cashflows(future_pd_30360_origpd, actual_payments_combined,loan_fundings1,'2015-04-30')\n",
    "cashflows_plan_origpd_all=generate_cashflows(future_pd_30360_origpd_all,loan_fundings1)"
   ]
  },
  {
   "cell_type": "code",
   "execution_count": 301,
   "metadata": {
    "collapsed": false
   },
   "outputs": [],
   "source": [
    "cashflows_plan_investor_20150430=generate_cashflows_pp(payment_plans_combined,loan_fundings1,loans,'2015-04-30')\n",
    "cashflows_plan_investor_all=generate_cashflows_pp(payment_plans_combined,loan_fundings1,loans)"
   ]
  },
  {
   "cell_type": "code",
   "execution_count": 181,
   "metadata": {
    "collapsed": false
   },
   "outputs": [
    {
     "name": "stderr",
     "output_type": "stream",
     "text": [
      "C:\\Anaconda\\lib\\site-packages\\scipy\\optimize\\zeros.py:150: RuntimeWarning: Tolerance of 0.00011 reached\n",
      "  warnings.warn(msg, RuntimeWarning)\n"
     ]
    }
   ],
   "source": [
    "loans_act_xirr=cashflows_act_investor.groupby('id_loan').apply(lambda x: xirr(x.payment,x.dcf))"
   ]
  },
  {
   "cell_type": "code",
   "execution_count": 283,
   "metadata": {
    "collapsed": false
   },
   "outputs": [],
   "source": [
    "loans_act_EOM_xirr=cashflows_act_investor_EOM.groupby('id_loan').apply(lambda x: xirr(x.payment,x.dcf))"
   ]
  },
  {
   "cell_type": "code",
   "execution_count": 339,
   "metadata": {
    "collapsed": true
   },
   "outputs": [],
   "source": [
    "loans_act_arrears_xirr=cashflows_act_arrears_investor.groupby('id_loan').apply(lambda x: xirr(x.payment,x.dcf))"
   ]
  },
  {
   "cell_type": "code",
   "execution_count": 340,
   "metadata": {
    "collapsed": true
   },
   "outputs": [],
   "source": [
    "loans_act_origpd_xirr=cashflows_act_origpd_investor.groupby('id_loan').apply(lambda x: xirr(x.payment,x.dcf))"
   ]
  },
  {
   "cell_type": "code",
   "execution_count": 362,
   "metadata": {
    "collapsed": true
   },
   "outputs": [],
   "source": [
    "loans_plan_origpd_xirr=cashflows_plan_origpd_all.groupby('id_loan').apply(lambda x: xirr(x.payment,x.dcf))"
   ]
  },
  {
   "cell_type": "code",
   "execution_count": 232,
   "metadata": {
    "collapsed": true
   },
   "outputs": [],
   "source": [
    "loans_plan_20150430_xirr=cashflows_plan_investor_20150430.groupby('id_loan').apply(lambda x: xirr(x.payment,x.dcf))"
   ]
  },
  {
   "cell_type": "code",
   "execution_count": 237,
   "metadata": {
    "collapsed": true
   },
   "outputs": [],
   "source": [
    "loans_plan_all_xirr=cashflows_plan_investor_all.groupby('id_loan').apply(lambda x: xirr(x.payment,x.dcf))"
   ]
  },
  {
   "cell_type": "code",
   "execution_count": 365,
   "metadata": {
    "collapsed": false
   },
   "outputs": [],
   "source": [
    "#loans_xirr=pd.DataFrame({'plan':loan_pp_xirr,'origpd':loans_fut_xirr_origpd, 'inarr':loans_fut_xirr_arrears})\n",
    "loans_xirr=pd.DataFrame({'plan_all':loans_plan_all_xirr,'plan_20150430':loans_plan_20150430_xirr,\\\n",
    "                         'act_EOM':loans_act_EOM_xirr,\n",
    "                         'act':loans_act_xirr, \n",
    "                         'act_origpd':loans_act_origpd_xirr, \n",
    "                         'act_arrears' :loans_act_arrears_xirr,\n",
    "                        'plan_origpd': loans_plan_origpd_xirr})\n",
    "loans_xirr=loans_xirr.merge(loans1[['id_loan','originated_since_date','principal_amount','payback_state','pd','bucket_pd','rating','rating_switch']],\\\n",
    "                            left_index=True,right_on='id_loan')\n",
    "loans_xirr=loans_xirr.reindex(columns=['id_loan','originated_since_date','principal_amount','payback_state',\\\n",
    "                                       'pd','bucket_pd','rating','rating_switch', 'plan_all','plan_20150430','act_EOM', 'plan_origpd', \\\n",
    "                                      'act_origpd', 'act_arrears', 'act'])\n",
    "loans_xirr.to_clipboard(index=False)"
   ]
  },
  {
   "cell_type": "code",
   "execution_count": 295,
   "metadata": {
    "collapsed": true
   },
   "outputs": [],
   "source": [
    "def gen_rating(cashflows, orig_date_str):\n",
    "    orig_date=datetime.datetime.strptime(orig_date_str,'%Y-%m-%d').date()\n",
    "    return cashflows[(cashflows.payback_state!='payback_complete') & (cashflows.originated_since_date<orig_date)]\\\n",
    "        .groupby(['rating_switch','rating_base']).apply(lambda x: xirr(x.payment,x.dcf))"
   ]
  },
  {
   "cell_type": "code",
   "execution_count": 303,
   "metadata": {
    "collapsed": false,
    "scrolled": true
   },
   "outputs": [],
   "source": [
    "rating_switch_plan_20150430_xirr=gen_rating(cashflows_plan_investor_20150430, '2015-02-28')\n",
    "rating_switch_plan_all_xirr=gen_rating(cashflows_plan_investor_all, '2015-02-28')\n",
    "rating_switch_act_EOM_xirr=gen_rating(cashflows_act_investor_EOM, '2015-02-28')\n",
    "rating_switch_act_xirr=gen_rating(cashflows_act_investor, '2015-02-28')\n",
    "\n"
   ]
  },
  {
   "cell_type": "code",
   "execution_count": 304,
   "metadata": {
    "collapsed": false
   },
   "outputs": [
    {
     "data": {
      "text/html": [
       "<div style=\"max-height:1000px;max-width:1500px;overflow:auto;\">\n",
       "<table border=\"1\" class=\"dataframe\">\n",
       "  <thead>\n",
       "    <tr style=\"text-align: right;\">\n",
       "      <th></th>\n",
       "      <th></th>\n",
       "      <th>act</th>\n",
       "      <th>act_EOM</th>\n",
       "      <th>plan_20150430</th>\n",
       "      <th>plan_all</th>\n",
       "    </tr>\n",
       "    <tr>\n",
       "      <th>rating_switch</th>\n",
       "      <th>rating_base</th>\n",
       "      <th></th>\n",
       "      <th></th>\n",
       "      <th></th>\n",
       "      <th></th>\n",
       "    </tr>\n",
       "  </thead>\n",
       "  <tbody>\n",
       "    <tr>\n",
       "      <th rowspan=\"5\" valign=\"top\">1</th>\n",
       "      <th>A</th>\n",
       "      <td>2.364152</td>\n",
       "      <td>2.364152</td>\n",
       "      <td>4.738477</td>\n",
       "      <td>4.815076</td>\n",
       "    </tr>\n",
       "    <tr>\n",
       "      <th>B</th>\n",
       "      <td>5.279308</td>\n",
       "      <td>5.279308</td>\n",
       "      <td>5.476586</td>\n",
       "      <td>5.491889</td>\n",
       "    </tr>\n",
       "    <tr>\n",
       "      <th>C</th>\n",
       "      <td>1.967525</td>\n",
       "      <td>1.967525</td>\n",
       "      <td>7.251619</td>\n",
       "      <td>7.306934</td>\n",
       "    </tr>\n",
       "    <tr>\n",
       "      <th>D</th>\n",
       "      <td>4.419282</td>\n",
       "      <td>4.419282</td>\n",
       "      <td>10.499537</td>\n",
       "      <td>10.534176</td>\n",
       "    </tr>\n",
       "    <tr>\n",
       "      <th>E</th>\n",
       "      <td>13.400911</td>\n",
       "      <td>13.400911</td>\n",
       "      <td>13.672518</td>\n",
       "      <td>13.777656</td>\n",
       "    </tr>\n",
       "    <tr>\n",
       "      <th rowspan=\"5\" valign=\"top\">2</th>\n",
       "      <th>A</th>\n",
       "      <td>3.744125</td>\n",
       "      <td>3.744125</td>\n",
       "      <td>3.745004</td>\n",
       "      <td>3.886309</td>\n",
       "    </tr>\n",
       "    <tr>\n",
       "      <th>B</th>\n",
       "      <td>4.888032</td>\n",
       "      <td>4.888032</td>\n",
       "      <td>4.923645</td>\n",
       "      <td>5.108540</td>\n",
       "    </tr>\n",
       "    <tr>\n",
       "      <th>C</th>\n",
       "      <td>8.451150</td>\n",
       "      <td>8.451150</td>\n",
       "      <td>8.819369</td>\n",
       "      <td>9.104919</td>\n",
       "    </tr>\n",
       "    <tr>\n",
       "      <th>D</th>\n",
       "      <td>11.636838</td>\n",
       "      <td>11.636838</td>\n",
       "      <td>12.578647</td>\n",
       "      <td>12.846123</td>\n",
       "    </tr>\n",
       "    <tr>\n",
       "      <th>E</th>\n",
       "      <td>12.396607</td>\n",
       "      <td>12.396607</td>\n",
       "      <td>12.520218</td>\n",
       "      <td>12.831571</td>\n",
       "    </tr>\n",
       "    <tr>\n",
       "      <th rowspan=\"5\" valign=\"top\">3</th>\n",
       "      <th>A</th>\n",
       "      <td>3.176623</td>\n",
       "      <td>3.176623</td>\n",
       "      <td>3.185562</td>\n",
       "      <td>3.181114</td>\n",
       "    </tr>\n",
       "    <tr>\n",
       "      <th>B</th>\n",
       "      <td>4.333357</td>\n",
       "      <td>4.333357</td>\n",
       "      <td>4.381635</td>\n",
       "      <td>4.422096</td>\n",
       "    </tr>\n",
       "    <tr>\n",
       "      <th>C</th>\n",
       "      <td>6.987783</td>\n",
       "      <td>6.987783</td>\n",
       "      <td>7.095121</td>\n",
       "      <td>6.900172</td>\n",
       "    </tr>\n",
       "    <tr>\n",
       "      <th>D</th>\n",
       "      <td>9.985483</td>\n",
       "      <td>9.985483</td>\n",
       "      <td>10.573016</td>\n",
       "      <td>10.280560</td>\n",
       "    </tr>\n",
       "    <tr>\n",
       "      <th>E</th>\n",
       "      <td>12.270069</td>\n",
       "      <td>12.270069</td>\n",
       "      <td>13.072759</td>\n",
       "      <td>13.253357</td>\n",
       "    </tr>\n",
       "  </tbody>\n",
       "</table>\n",
       "</div>"
      ],
      "text/plain": [
       "                                 act    act_EOM  plan_20150430   plan_all\n",
       "rating_switch rating_base                                                \n",
       "1             A             2.364152   2.364152       4.738477   4.815076\n",
       "              B             5.279308   5.279308       5.476586   5.491889\n",
       "              C             1.967525   1.967525       7.251619   7.306934\n",
       "              D             4.419282   4.419282      10.499537  10.534176\n",
       "              E            13.400911  13.400911      13.672518  13.777656\n",
       "2             A             3.744125   3.744125       3.745004   3.886309\n",
       "              B             4.888032   4.888032       4.923645   5.108540\n",
       "              C             8.451150   8.451150       8.819369   9.104919\n",
       "              D            11.636838  11.636838      12.578647  12.846123\n",
       "              E            12.396607  12.396607      12.520218  12.831571\n",
       "3             A             3.176623   3.176623       3.185562   3.181114\n",
       "              B             4.333357   4.333357       4.381635   4.422096\n",
       "              C             6.987783   6.987783       7.095121   6.900172\n",
       "              D             9.985483   9.985483      10.573016  10.280560\n",
       "              E            12.270069  12.270069      13.072759  13.253357"
      ]
     },
     "execution_count": 304,
     "metadata": {},
     "output_type": "execute_result"
    }
   ],
   "source": [
    "rating_switch_xirr=pd.DataFrame({'plan_all':rating_switch_plan_all_xirr,\\\n",
    "                                'plan_20150430':rating_switch_plan_20150430_xirr,\\\n",
    "                                'act_EOM':rating_switch_act_EOM_xirr,\\\n",
    "                                'act':rating_switch_act_xirr})\n",
    "rating_switch_xirr*100\n",
    "                                "
   ]
  },
  {
   "cell_type": "code",
   "execution_count": 122,
   "metadata": {
    "collapsed": false
   },
   "outputs": [
    {
     "data": {
      "text/html": [
       "<div style=\"max-height:1000px;max-width:1500px;overflow:auto;\">\n",
       "<table border=\"1\" class=\"dataframe\">\n",
       "  <thead>\n",
       "    <tr style=\"text-align: right;\">\n",
       "      <th></th>\n",
       "      <th>bin</th>\n",
       "      <th>count</th>\n",
       "    </tr>\n",
       "  </thead>\n",
       "  <tbody>\n",
       "    <tr>\n",
       "      <th>0 </th>\n",
       "      <td>-0.50</td>\n",
       "      <td> 0</td>\n",
       "    </tr>\n",
       "    <tr>\n",
       "      <th>1 </th>\n",
       "      <td>-0.49</td>\n",
       "      <td> 0</td>\n",
       "    </tr>\n",
       "    <tr>\n",
       "      <th>2 </th>\n",
       "      <td>-0.48</td>\n",
       "      <td> 0</td>\n",
       "    </tr>\n",
       "    <tr>\n",
       "      <th>3 </th>\n",
       "      <td>-0.47</td>\n",
       "      <td> 0</td>\n",
       "    </tr>\n",
       "    <tr>\n",
       "      <th>4 </th>\n",
       "      <td>-0.46</td>\n",
       "      <td> 0</td>\n",
       "    </tr>\n",
       "    <tr>\n",
       "      <th>5 </th>\n",
       "      <td>-0.45</td>\n",
       "      <td> 0</td>\n",
       "    </tr>\n",
       "    <tr>\n",
       "      <th>6 </th>\n",
       "      <td>-0.44</td>\n",
       "      <td> 0</td>\n",
       "    </tr>\n",
       "    <tr>\n",
       "      <th>7 </th>\n",
       "      <td>-0.43</td>\n",
       "      <td> 0</td>\n",
       "    </tr>\n",
       "    <tr>\n",
       "      <th>8 </th>\n",
       "      <td>-0.42</td>\n",
       "      <td> 0</td>\n",
       "    </tr>\n",
       "    <tr>\n",
       "      <th>9 </th>\n",
       "      <td>-0.41</td>\n",
       "      <td> 0</td>\n",
       "    </tr>\n",
       "    <tr>\n",
       "      <th>10</th>\n",
       "      <td>-0.40</td>\n",
       "      <td> 0</td>\n",
       "    </tr>\n",
       "    <tr>\n",
       "      <th>11</th>\n",
       "      <td>-0.39</td>\n",
       "      <td> 0</td>\n",
       "    </tr>\n",
       "    <tr>\n",
       "      <th>12</th>\n",
       "      <td>-0.38</td>\n",
       "      <td> 1</td>\n",
       "    </tr>\n",
       "    <tr>\n",
       "      <th>13</th>\n",
       "      <td>-0.37</td>\n",
       "      <td> 0</td>\n",
       "    </tr>\n",
       "    <tr>\n",
       "      <th>14</th>\n",
       "      <td>-0.36</td>\n",
       "      <td> 0</td>\n",
       "    </tr>\n",
       "    <tr>\n",
       "      <th>15</th>\n",
       "      <td>-0.35</td>\n",
       "      <td> 0</td>\n",
       "    </tr>\n",
       "    <tr>\n",
       "      <th>16</th>\n",
       "      <td>-0.34</td>\n",
       "      <td> 0</td>\n",
       "    </tr>\n",
       "    <tr>\n",
       "      <th>17</th>\n",
       "      <td>-0.33</td>\n",
       "      <td> 1</td>\n",
       "    </tr>\n",
       "    <tr>\n",
       "      <th>18</th>\n",
       "      <td>-0.32</td>\n",
       "      <td> 0</td>\n",
       "    </tr>\n",
       "    <tr>\n",
       "      <th>19</th>\n",
       "      <td>-0.31</td>\n",
       "      <td> 0</td>\n",
       "    </tr>\n",
       "    <tr>\n",
       "      <th>20</th>\n",
       "      <td>-0.30</td>\n",
       "      <td> 0</td>\n",
       "    </tr>\n",
       "    <tr>\n",
       "      <th>21</th>\n",
       "      <td>-0.29</td>\n",
       "      <td> 0</td>\n",
       "    </tr>\n",
       "    <tr>\n",
       "      <th>22</th>\n",
       "      <td>-0.28</td>\n",
       "      <td> 0</td>\n",
       "    </tr>\n",
       "    <tr>\n",
       "      <th>23</th>\n",
       "      <td>-0.27</td>\n",
       "      <td> 0</td>\n",
       "    </tr>\n",
       "    <tr>\n",
       "      <th>24</th>\n",
       "      <td>-0.26</td>\n",
       "      <td> 0</td>\n",
       "    </tr>\n",
       "    <tr>\n",
       "      <th>25</th>\n",
       "      <td>-0.25</td>\n",
       "      <td> 0</td>\n",
       "    </tr>\n",
       "    <tr>\n",
       "      <th>26</th>\n",
       "      <td>-0.24</td>\n",
       "      <td> 0</td>\n",
       "    </tr>\n",
       "    <tr>\n",
       "      <th>27</th>\n",
       "      <td>-0.23</td>\n",
       "      <td> 0</td>\n",
       "    </tr>\n",
       "    <tr>\n",
       "      <th>28</th>\n",
       "      <td>-0.22</td>\n",
       "      <td> 0</td>\n",
       "    </tr>\n",
       "    <tr>\n",
       "      <th>29</th>\n",
       "      <td>-0.21</td>\n",
       "      <td> 0</td>\n",
       "    </tr>\n",
       "    <tr>\n",
       "      <th>...</th>\n",
       "      <td>...</td>\n",
       "      <td>...</td>\n",
       "    </tr>\n",
       "    <tr>\n",
       "      <th>70</th>\n",
       "      <td> 0.20</td>\n",
       "      <td> 0</td>\n",
       "    </tr>\n",
       "    <tr>\n",
       "      <th>71</th>\n",
       "      <td> 0.21</td>\n",
       "      <td> 0</td>\n",
       "    </tr>\n",
       "    <tr>\n",
       "      <th>72</th>\n",
       "      <td> 0.22</td>\n",
       "      <td> 0</td>\n",
       "    </tr>\n",
       "    <tr>\n",
       "      <th>73</th>\n",
       "      <td> 0.23</td>\n",
       "      <td> 0</td>\n",
       "    </tr>\n",
       "    <tr>\n",
       "      <th>74</th>\n",
       "      <td> 0.24</td>\n",
       "      <td> 0</td>\n",
       "    </tr>\n",
       "    <tr>\n",
       "      <th>75</th>\n",
       "      <td> 0.25</td>\n",
       "      <td> 0</td>\n",
       "    </tr>\n",
       "    <tr>\n",
       "      <th>76</th>\n",
       "      <td> 0.26</td>\n",
       "      <td> 0</td>\n",
       "    </tr>\n",
       "    <tr>\n",
       "      <th>77</th>\n",
       "      <td> 0.27</td>\n",
       "      <td> 0</td>\n",
       "    </tr>\n",
       "    <tr>\n",
       "      <th>78</th>\n",
       "      <td> 0.28</td>\n",
       "      <td> 0</td>\n",
       "    </tr>\n",
       "    <tr>\n",
       "      <th>79</th>\n",
       "      <td> 0.29</td>\n",
       "      <td> 0</td>\n",
       "    </tr>\n",
       "    <tr>\n",
       "      <th>80</th>\n",
       "      <td> 0.30</td>\n",
       "      <td> 0</td>\n",
       "    </tr>\n",
       "    <tr>\n",
       "      <th>81</th>\n",
       "      <td> 0.31</td>\n",
       "      <td> 0</td>\n",
       "    </tr>\n",
       "    <tr>\n",
       "      <th>82</th>\n",
       "      <td> 0.32</td>\n",
       "      <td> 0</td>\n",
       "    </tr>\n",
       "    <tr>\n",
       "      <th>83</th>\n",
       "      <td> 0.33</td>\n",
       "      <td> 0</td>\n",
       "    </tr>\n",
       "    <tr>\n",
       "      <th>84</th>\n",
       "      <td> 0.34</td>\n",
       "      <td> 0</td>\n",
       "    </tr>\n",
       "    <tr>\n",
       "      <th>85</th>\n",
       "      <td> 0.35</td>\n",
       "      <td> 0</td>\n",
       "    </tr>\n",
       "    <tr>\n",
       "      <th>86</th>\n",
       "      <td> 0.36</td>\n",
       "      <td> 0</td>\n",
       "    </tr>\n",
       "    <tr>\n",
       "      <th>87</th>\n",
       "      <td> 0.37</td>\n",
       "      <td> 0</td>\n",
       "    </tr>\n",
       "    <tr>\n",
       "      <th>88</th>\n",
       "      <td> 0.38</td>\n",
       "      <td> 0</td>\n",
       "    </tr>\n",
       "    <tr>\n",
       "      <th>89</th>\n",
       "      <td> 0.39</td>\n",
       "      <td> 0</td>\n",
       "    </tr>\n",
       "    <tr>\n",
       "      <th>90</th>\n",
       "      <td> 0.40</td>\n",
       "      <td> 0</td>\n",
       "    </tr>\n",
       "    <tr>\n",
       "      <th>91</th>\n",
       "      <td> 0.41</td>\n",
       "      <td> 0</td>\n",
       "    </tr>\n",
       "    <tr>\n",
       "      <th>92</th>\n",
       "      <td> 0.42</td>\n",
       "      <td> 0</td>\n",
       "    </tr>\n",
       "    <tr>\n",
       "      <th>93</th>\n",
       "      <td> 0.43</td>\n",
       "      <td> 0</td>\n",
       "    </tr>\n",
       "    <tr>\n",
       "      <th>94</th>\n",
       "      <td> 0.44</td>\n",
       "      <td> 0</td>\n",
       "    </tr>\n",
       "    <tr>\n",
       "      <th>95</th>\n",
       "      <td> 0.45</td>\n",
       "      <td> 0</td>\n",
       "    </tr>\n",
       "    <tr>\n",
       "      <th>96</th>\n",
       "      <td> 0.46</td>\n",
       "      <td> 0</td>\n",
       "    </tr>\n",
       "    <tr>\n",
       "      <th>97</th>\n",
       "      <td> 0.47</td>\n",
       "      <td> 0</td>\n",
       "    </tr>\n",
       "    <tr>\n",
       "      <th>98</th>\n",
       "      <td> 0.48</td>\n",
       "      <td> 0</td>\n",
       "    </tr>\n",
       "    <tr>\n",
       "      <th>99</th>\n",
       "      <td> 0.49</td>\n",
       "      <td> 0</td>\n",
       "    </tr>\n",
       "  </tbody>\n",
       "</table>\n",
       "<p>100 rows × 2 columns</p>\n",
       "</div>"
      ],
      "text/plain": [
       "     bin  count\n",
       "0  -0.50      0\n",
       "1  -0.49      0\n",
       "2  -0.48      0\n",
       "3  -0.47      0\n",
       "4  -0.46      0\n",
       "5  -0.45      0\n",
       "6  -0.44      0\n",
       "7  -0.43      0\n",
       "8  -0.42      0\n",
       "9  -0.41      0\n",
       "10 -0.40      0\n",
       "11 -0.39      0\n",
       "12 -0.38      1\n",
       "13 -0.37      0\n",
       "14 -0.36      0\n",
       "15 -0.35      0\n",
       "16 -0.34      0\n",
       "17 -0.33      1\n",
       "18 -0.32      0\n",
       "19 -0.31      0\n",
       "20 -0.30      0\n",
       "21 -0.29      0\n",
       "22 -0.28      0\n",
       "23 -0.27      0\n",
       "24 -0.26      0\n",
       "25 -0.25      0\n",
       "26 -0.24      0\n",
       "27 -0.23      0\n",
       "28 -0.22      0\n",
       "29 -0.21      0\n",
       "..   ...    ...\n",
       "70  0.20      0\n",
       "71  0.21      0\n",
       "72  0.22      0\n",
       "73  0.23      0\n",
       "74  0.24      0\n",
       "75  0.25      0\n",
       "76  0.26      0\n",
       "77  0.27      0\n",
       "78  0.28      0\n",
       "79  0.29      0\n",
       "80  0.30      0\n",
       "81  0.31      0\n",
       "82  0.32      0\n",
       "83  0.33      0\n",
       "84  0.34      0\n",
       "85  0.35      0\n",
       "86  0.36      0\n",
       "87  0.37      0\n",
       "88  0.38      0\n",
       "89  0.39      0\n",
       "90  0.40      0\n",
       "91  0.41      0\n",
       "92  0.42      0\n",
       "93  0.43      0\n",
       "94  0.44      0\n",
       "95  0.45      0\n",
       "96  0.46      0\n",
       "97  0.47      0\n",
       "98  0.48      0\n",
       "99  0.49      0\n",
       "\n",
       "[100 rows x 2 columns]"
      ]
     },
     "execution_count": 122,
     "metadata": {},
     "output_type": "execute_result"
    }
   ],
   "source": [
    "cnt,bns=np.histogram(investor_fut_bucket_30360_xirr_orig, bins=np.linspace(-.5,.5,101))\n",
    "a=pd.DataFrame({'bin':bns[:-1], 'count':cnt})\n",
    "a.to_clipboard()\n",
    "a"
   ]
  },
  {
   "cell_type": "code",
   "execution_count": 187,
   "metadata": {
    "collapsed": false,
    "scrolled": true
   },
   "outputs": [
    {
     "data": {
      "text/plain": [
       "<matplotlib.axes._subplots.AxesSubplot at 0x19f93160>"
      ]
     },
     "execution_count": 187,
     "metadata": {},
     "output_type": "execute_result"
    },
    {
     "data": {
      "image/png": "[encoded data removed]",
      "text/plain": [
       "<matplotlib.figure.Figure at 0x1a18d4a8>"
      ]
     },
     "metadata": {},
     "output_type": "display_data"
    }
   ],
   "source": [
    "investor_fut_bucket_30360_xirr_orig.hist(bins=np.linspace(-.5,.5,110))"
   ]
  },
  {
   "cell_type": "code",
   "execution_count": 197,
   "metadata": {
    "collapsed": false
   },
   "outputs": [
    {
     "data": {
      "text/plain": [
       "fk_user\n",
       "10109     -37.459966\n",
       "34054     -19.200474\n",
       "10860     -15.587540\n",
       "43106     -11.646885\n",
       "18565      -9.395938\n",
       "39596      -8.292229\n",
       "1051       -6.674273\n",
       "57196      -6.615652\n",
       "10875      -6.033690\n",
       "21689      -5.237668\n",
       "21616      -5.237668\n",
       "70380      -5.207702\n",
       "34979      -4.757932\n",
       "30313      -4.374064\n",
       "27499      -4.374064\n",
       "30250      -4.374064\n",
       "23793      -4.374064\n",
       "74370      -3.311351\n",
       "73515      -3.185728\n",
       "52551      -2.955957\n",
       "25480      -2.583975\n",
       "30245      -2.283771\n",
       "138        -2.171029\n",
       "20702      -1.932459\n",
       "45815      -1.900109\n",
       "75380      -1.867716\n",
       "19633      -1.668579\n",
       "6122       -1.646010\n",
       "16137      -1.308895\n",
       "55239      -0.931836\n",
       "1835       -0.928396\n",
       "23775      -0.903602\n",
       "73709      -0.681998\n",
       "73537      -0.378624\n",
       "670        -0.031558\n",
       "18621      -0.016670\n",
       "dtype: float64"
      ]
     },
     "execution_count": 197,
     "metadata": {},
     "output_type": "execute_result"
    }
   ],
   "source": [
    "(investor_fut_bucket_30360_xirr_orig[investor_fut_bucket_30360_xirr_orig<0]*100).sort(inplace=False)"
   ]
  },
  {
   "cell_type": "code",
   "execution_count": 205,
   "metadata": {
    "collapsed": false
   },
   "outputs": [],
   "source": [
    "inv_count,inv_bin=np.histogram(investor_fut_bucket_30360_xirr_orig,bins=np.linspace(-.5,.5,101))\n"
   ]
  },
  {
   "cell_type": "code",
   "execution_count": 240,
   "metadata": {
    "collapsed": false
   },
   "outputs": [
    {
     "data": {
      "text/html": [
       "<div style=\"max-height:1000px;max-width:1500px;overflow:auto;\">\n",
       "<table border=\"1\" class=\"dataframe\">\n",
       "  <thead>\n",
       "    <tr style=\"text-align: right;\">\n",
       "      <th></th>\n",
       "      <th>date</th>\n",
       "      <th>fk_user_investor</th>\n",
       "      <th>id_loan</th>\n",
       "      <th>payment</th>\n",
       "      <th>dcf</th>\n",
       "      <th>rating_base</th>\n",
       "      <th>rating_switch</th>\n",
       "      <th>payback_state</th>\n",
       "    </tr>\n",
       "  </thead>\n",
       "  <tbody>\n",
       "    <tr>\n",
       "      <th>139859</th>\n",
       "      <td>2015-04-30</td>\n",
       "      <td>34180</td>\n",
       "      <td>1545</td>\n",
       "      <td>13.14</td>\n",
       "      <td>-0.079452</td>\n",
       "      <td>E</td>\n",
       "      <td>3</td>\n",
       "      <td>payback_received</td>\n",
       "    </tr>\n",
       "    <tr>\n",
       "      <th>164594</th>\n",
       "      <td>2015-04-30</td>\n",
       "      <td>34180</td>\n",
       "      <td>1545</td>\n",
       "      <td>5000.00</td>\n",
       "      <td>-0.079452</td>\n",
       "      <td>E</td>\n",
       "      <td>3</td>\n",
       "      <td>payback_received</td>\n",
       "    </tr>\n",
       "    <tr>\n",
       "      <th>192195</th>\n",
       "      <td>2015-04-07</td>\n",
       "      <td>34180</td>\n",
       "      <td>1545</td>\n",
       "      <td>-5000.00</td>\n",
       "      <td>-0.016438</td>\n",
       "      <td>E</td>\n",
       "      <td>3</td>\n",
       "      <td>payback_received</td>\n",
       "    </tr>\n",
       "  </tbody>\n",
       "</table>\n",
       "</div>"
      ],
      "text/plain": [
       "             date  fk_user_investor  id_loan  payment       dcf rating_base  \\\n",
       "139859 2015-04-30             34180     1545    13.14 -0.079452           E   \n",
       "164594 2015-04-30             34180     1545  5000.00 -0.079452           E   \n",
       "192195 2015-04-07             34180     1545 -5000.00 -0.016438           E   \n",
       "\n",
       "        rating_switch     payback_state  \n",
       "139859              3  payback_received  \n",
       "164594              3  payback_received  \n",
       "192195              3  payback_received  "
      ]
     },
     "execution_count": 240,
     "metadata": {},
     "output_type": "execute_result"
    }
   ],
   "source": [
    "cashflows_act_investor[cashflows_act_investor.id_loan==1545]"
   ]
  },
  {
   "cell_type": "code",
   "execution_count": 207,
   "metadata": {
    "collapsed": false
   },
   "outputs": [],
   "source": [
    "inv_hist=pd.DataFrame({'bin':inv_bin[:-1],'count':inv_count})"
   ]
  },
  {
   "cell_type": "code",
   "execution_count": 208,
   "metadata": {
    "collapsed": true
   },
   "outputs": [],
   "source": [
    "inv_hist.to_clipboard()"
   ]
  },
  {
   "cell_type": "code",
   "execution_count": 43,
   "metadata": {
    "collapsed": true
   },
   "outputs": [],
   "source": [
    "%matplotlib inline"
   ]
  },
  {
   "cell_type": "code",
   "execution_count": 154,
   "metadata": {
    "collapsed": false
   },
   "outputs": [
    {
     "data": {
      "text/plain": [
       "rating_switch\n",
       "1                2.446569\n",
       "2                3.991386\n",
       "3                3.453717\n",
       "dtype: float64"
      ]
     },
     "execution_count": 154,
     "metadata": {},
     "output_type": "execute_result"
    }
   ],
   "source": [
    "loans_fut_bucket_30360_xirr_orig*100"
   ]
  },
  {
   "cell_type": "code",
   "execution_count": 165,
   "metadata": {
    "collapsed": false
   },
   "outputs": [
    {
     "data": {
      "text/plain": [
       "rating_switch\n",
       "1                2.915440\n",
       "2                4.099140\n",
       "3                3.495064\n",
       "dtype: float64"
      ]
     },
     "execution_count": 165,
     "metadata": {},
     "output_type": "execute_result"
    }
   ],
   "source": [
    "loans_fut_bucket_30360_xirr_orig*100 "
   ]
  },
  {
   "cell_type": "code",
   "execution_count": 47,
   "metadata": {
    "collapsed": false
   },
   "outputs": [
    {
     "data": {
      "text/plain": [
       "0.03470183916784976"
      ]
     },
     "execution_count": 47,
     "metadata": {},
     "output_type": "execute_result"
    }
   ],
   "source": [
    "z1=cashflows_fut_bucket_30360[cashflows_fut_bucket_30360.payback_state!='payback_complete']\n",
    "\n",
    "xirr(z1.payment, z1.dcf)"
   ]
  },
  {
   "cell_type": "code",
   "execution_count": 42,
   "metadata": {
    "collapsed": false
   },
   "outputs": [
    {
     "data": {
      "text/plain": [
       "rating_switch  rating_base\n",
       "1              A              2.164635\n",
       "               B             -0.289620\n",
       "               C              2.843701\n",
       "               D              4.380164\n",
       "               E              7.495481\n",
       "2              A              2.336687\n",
       "               B              3.229219\n",
       "               C              4.145394\n",
       "               D              5.631069\n",
       "               E              7.443198\n",
       "3              A              2.390730\n",
       "               B              2.876238\n",
       "               C              3.830051\n",
       "               D              4.275146\n",
       "               E              4.906416\n",
       "dtype: float64"
      ]
     },
     "execution_count": 42,
     "metadata": {},
     "output_type": "execute_result"
    }
   ],
   "source": [
    "loans_fut_bucket_30360_xirr_groups*100"
   ]
  },
  {
   "cell_type": "code",
   "execution_count": 43,
   "metadata": {
    "collapsed": true
   },
   "outputs": [],
   "source": [
    "loans_fut_bucket_30360_xirr_groups.to_clipboard()"
   ]
  },
  {
   "cell_type": "code",
   "execution_count": 308,
   "metadata": {
    "collapsed": false
   },
   "outputs": [
    {
     "data": {
      "text/plain": [
       "rating_switch  rating_base\n",
       "1              A              1.643829\n",
       "               B             -0.131926\n",
       "               C              2.983228\n",
       "               D              4.437063\n",
       "               E              7.266957\n",
       "2              A              1.954274\n",
       "               B              2.373271\n",
       "               C              4.145764\n",
       "               D              5.446206\n",
       "               E              7.389547\n",
       "3              A              2.368428\n",
       "               B              2.950076\n",
       "               C              3.790125\n",
       "               D              3.940688\n",
       "               E              4.880346\n",
       "dtype: float64"
      ]
     },
     "execution_count": 308,
     "metadata": {},
     "output_type": "execute_result"
    }
   ],
   "source": [
    "loans_fut_bucket_30360_xirr_groups*100"
   ]
  },
  {
   "cell_type": "code",
   "execution_count": 167,
   "metadata": {
    "collapsed": false
   },
   "outputs": [],
   "source": [
    "loans_fut_xirr_groups=cashflows_fut[cashflows_fut.payback_state!='payback_complete'].groupby(['rating_switch','rating_base']).apply(lambda x: xirr(x.payment,x.dcf))"
   ]
  },
  {
   "cell_type": "code",
   "execution_count": 246,
   "metadata": {
    "collapsed": false
   },
   "outputs": [
    {
     "data": {
      "text/plain": [
       "rating_switch  rating_base\n",
       "1              A               2.318630\n",
       "               B               2.276984\n",
       "               C               3.590574\n",
       "               D               5.797576\n",
       "               E               7.664678\n",
       "2              A               2.533089\n",
       "               B               3.506267\n",
       "               C               6.085838\n",
       "               D               7.710767\n",
       "               E               7.674173\n",
       "3              A             -15.986781\n",
       "               B             -15.818247\n",
       "               C             -14.123845\n",
       "               D             -11.749378\n",
       "               E             -12.484912\n",
       "dtype: float64"
      ]
     },
     "execution_count": 246,
     "metadata": {},
     "output_type": "execute_result"
    }
   ],
   "source": [
    "loans_fut_xirr_groups*100"
   ]
  },
  {
   "cell_type": "code",
   "execution_count": 309,
   "metadata": {
    "collapsed": false
   },
   "outputs": [
    {
     "data": {
      "text/plain": [
       "rating_switch  rating_base\n",
       "1              A              1.643829\n",
       "               B             -0.131926\n",
       "               C              2.983228\n",
       "               D              4.437063\n",
       "               E              7.266957\n",
       "2              A              1.954274\n",
       "               B              2.373271\n",
       "               C              4.145764\n",
       "               D              5.446206\n",
       "               E              7.389547\n",
       "3              A              2.368428\n",
       "               B              2.950076\n",
       "               C              3.790125\n",
       "               D              3.940688\n",
       "               E              4.880346\n",
       "dtype: float64"
      ]
     },
     "execution_count": 309,
     "metadata": {},
     "output_type": "execute_result"
    }
   ],
   "source": [
    "(loans_fut_bucket_xirr_groups*100)"
   ]
  },
  {
   "cell_type": "code",
   "execution_count": 168,
   "metadata": {
    "collapsed": false
   },
   "outputs": [
    {
     "data": {
      "text/plain": [
       "rating_switch  rating_base\n",
       "1              A              2.317944\n",
       "               B             -0.195389\n",
       "               C              3.016421\n",
       "               D              8.264013\n",
       "               E              7.614183\n",
       "2              A              2.525294\n",
       "               B              3.289584\n",
       "               C              4.318376\n",
       "               D              5.665452\n",
       "               E              7.526119\n",
       "3              A              2.410894\n",
       "               B              2.911874\n",
       "               C              3.853142\n",
       "               D              4.340949\n",
       "               E              5.067028\n",
       "dtype: float64"
      ]
     },
     "execution_count": 168,
     "metadata": {},
     "output_type": "execute_result"
    }
   ],
   "source": [
    "loans_fut_bucket_xirr_groups=cashflows_fut_bucket_30360[cashflows_fut_bucket_30360.payback_state!='payback_complete'].groupby(['rating_switch','rating_base']).apply(lambda x: xirr(x.payment,x.dcf))\n",
    "(loans_fut_bucket_xirr_groups*100)"
   ]
  },
  {
   "cell_type": "code",
   "execution_count": 154,
   "metadata": {
    "collapsed": false
   },
   "outputs": [],
   "source": [
    "loans_fut_xirr=pd.DataFrame(loans_fut_xirr,columns=['irr'])\n",
    "loans_fut_xirr_pb=loans_fut_xirr.merge(loans[['id_loan','payback_state']],left_index=True,right_on='id_loan',how='left')\n",
    "loans_fut_xirr_pb.set_index('id_loan', inplace=True)"
   ]
  },
  {
   "cell_type": "code",
   "execution_count": 153,
   "metadata": {
    "collapsed": false
   },
   "outputs": [
    {
     "data": {
      "text/html": [
       "<div style=\"max-height:1000px;max-width:1500px;overflow:auto;\">\n",
       "<table border=\"1\" class=\"dataframe\">\n",
       "  <thead>\n",
       "    <tr style=\"text-align: right;\">\n",
       "      <th></th>\n",
       "      <th>irr</th>\n",
       "      <th>id_loan</th>\n",
       "      <th>payback_state</th>\n",
       "    </tr>\n",
       "  </thead>\n",
       "  <tbody>\n",
       "    <tr>\n",
       "      <th>6</th>\n",
       "      <td> 0.051250</td>\n",
       "      <td>  7</td>\n",
       "      <td> payback</td>\n",
       "    </tr>\n",
       "    <tr>\n",
       "      <th>0</th>\n",
       "      <td> 0.025000</td>\n",
       "      <td>  9</td>\n",
       "      <td> payback</td>\n",
       "    </tr>\n",
       "    <tr>\n",
       "      <th>8</th>\n",
       "      <td> 0.052125</td>\n",
       "      <td> 10</td>\n",
       "      <td> payback</td>\n",
       "    </tr>\n",
       "    <tr>\n",
       "      <th>4</th>\n",
       "      <td> 0.023063</td>\n",
       "      <td> 12</td>\n",
       "      <td> payback</td>\n",
       "    </tr>\n",
       "    <tr>\n",
       "      <th>3</th>\n",
       "      <td> 0.027797</td>\n",
       "      <td> 13</td>\n",
       "      <td> payback</td>\n",
       "    </tr>\n",
       "  </tbody>\n",
       "</table>\n",
       "</div>"
      ],
      "text/plain": [
       "        irr  id_loan payback_state\n",
       "6  0.051250        7       payback\n",
       "0  0.025000        9       payback\n",
       "8  0.052125       10       payback\n",
       "4  0.023063       12       payback\n",
       "3  0.027797       13       payback"
      ]
     },
     "execution_count": 153,
     "metadata": {},
     "output_type": "execute_result"
    }
   ],
   "source": [
    "loans_fut_xirr1.head()"
   ]
  },
  {
   "cell_type": "code",
   "execution_count": 89,
   "metadata": {
    "collapsed": false
   },
   "outputs": [
    {
     "data": {
      "text/plain": [
       "id_loan\n",
       "51          1.550209\n",
       "65          2.082980\n",
       "71          1.026548\n",
       "92          0.913007\n",
       "98          0.921890\n",
       "232         2.715411\n",
       "253         2.530222\n",
       "270         3.796371\n",
       "304         0.236168\n",
       "334         5.211220\n",
       "349         2.898589\n",
       "354         4.808944\n",
       "366         3.689217\n",
       "498         6.032595\n",
       "507         5.509628\n",
       "625         0.961159\n",
       "860        68.781251\n",
       "dtype: float64"
      ]
     },
     "execution_count": 89,
     "metadata": {},
     "output_type": "execute_result"
    }
   ],
   "source": [
    "loans_fut_xirr[loans_fut_xirr>.2]\n"
   ]
  },
  {
   "cell_type": "code",
   "execution_count": 103,
   "metadata": {
    "collapsed": false
   },
   "outputs": [
    {
     "data": {
      "text/plain": [
       "id_loan\n",
       "27        -0.871503\n",
       "76        -0.959543\n",
       "449       -0.470978\n",
       "dtype: float64"
      ]
     },
     "execution_count": 103,
     "metadata": {},
     "output_type": "execute_result"
    }
   ],
   "source": [
    "loans_fut_xirr[loans_fut_xirr<-.2]"
   ]
  },
  {
   "cell_type": "code",
   "execution_count": 136,
   "metadata": {
    "collapsed": false
   },
   "outputs": [
    {
     "data": {
      "text/plain": [
       "<matplotlib.axes._subplots.AxesSubplot at 0x243d4278>"
      ]
     },
     "execution_count": 136,
     "metadata": {},
     "output_type": "execute_result"
    }
   ],
   "source": [
    "(loans_fut_xirr[loans_fut_xirr<.2]*100).hist(bins=100)"
   ]
  },
  {
   "cell_type": "code",
   "execution_count": 121,
   "metadata": {
    "collapsed": false
   },
   "outputs": [
    {
     "data": {
      "text/plain": [
       "payback                    1669\n",
       "payout_pending                8\n",
       "payout_approval_pending       2\n",
       "dtype: int64"
      ]
     },
     "execution_count": 121,
     "metadata": {},
     "output_type": "execute_result"
    }
   ],
   "source": [
    "loans.state.value_counts()"
   ]
  },
  {
   "cell_type": "code",
   "execution_count": 96,
   "metadata": {
    "collapsed": false
   },
   "outputs": [
    {
     "data": {
      "text/html": [
       "<div style=\"max-height:1000px;max-width:1500px;overflow:auto;\">\n",
       "<table border=\"1\" class=\"dataframe\">\n",
       "  <thead>\n",
       "    <tr style=\"text-align: right;\">\n",
       "      <th></th>\n",
       "      <th>dwh_country_id</th>\n",
       "      <th>fk_loan_payment_plan</th>\n",
       "      <th>fk_user</th>\n",
       "      <th>fk_loan_request</th>\n",
       "      <th>fk_loan</th>\n",
       "      <th>country_name</th>\n",
       "      <th>currency_code</th>\n",
       "      <th>loan_request_creation_date</th>\n",
       "      <th>interval</th>\n",
       "      <th>payment_amount</th>\n",
       "      <th>interest_amount</th>\n",
       "      <th>principal_amount</th>\n",
       "      <th>interval_payback_date</th>\n",
       "      <th>next_interval_payback_date</th>\n",
       "      <th>initial_principal_amount</th>\n",
       "      <th>sum_interval_interest_amount</th>\n",
       "      <th>residual_interest_amount</th>\n",
       "      <th>residual_principal_amount</th>\n",
       "      <th>eur_payment_amount</th>\n",
       "      <th>recovery</th>\n",
       "    </tr>\n",
       "  </thead>\n",
       "  <tbody>\n",
       "    <tr>\n",
       "      <th>2067</th>\n",
       "      <td> 1</td>\n",
       "      <td> 63</td>\n",
       "      <td> 5527</td>\n",
       "      <td> 3533</td>\n",
       "      <td> 65</td>\n",
       "      <td> Germany</td>\n",
       "      <td> EUR</td>\n",
       "      <td>2014-01-29</td>\n",
       "      <td> 1</td>\n",
       "      <td>  549.32</td>\n",
       "      <td>  92.0000</td>\n",
       "      <td>  457.3200</td>\n",
       "      <td> 2014-04-01</td>\n",
       "      <td> 2014-04-17</td>\n",
       "      <td> 12000.0000</td>\n",
       "      <td>  92.0000</td>\n",
       "      <td> 517.9653</td>\n",
       "      <td> 11542.6800</td>\n",
       "      <td>  549.32</td>\n",
       "      <td> 0.2613</td>\n",
       "    </tr>\n",
       "    <tr>\n",
       "      <th>2068</th>\n",
       "      <td> 1</td>\n",
       "      <td> 63</td>\n",
       "      <td> 5527</td>\n",
       "      <td> 3533</td>\n",
       "      <td> 65</td>\n",
       "      <td> Germany</td>\n",
       "      <td> EUR</td>\n",
       "      <td>2014-01-29</td>\n",
       "      <td> 2</td>\n",
       "      <td>    0.00</td>\n",
       "      <td>   0.0000</td>\n",
       "      <td>    0.0000</td>\n",
       "      <td> 2014-04-17</td>\n",
       "      <td> 2014-05-15</td>\n",
       "      <td> 11542.6800</td>\n",
       "      <td>  92.0000</td>\n",
       "      <td> 517.9653</td>\n",
       "      <td> 11542.6800</td>\n",
       "      <td>    0.00</td>\n",
       "      <td> 0.2613</td>\n",
       "    </tr>\n",
       "    <tr>\n",
       "      <th>2069</th>\n",
       "      <td> 1</td>\n",
       "      <td> 63</td>\n",
       "      <td> 5527</td>\n",
       "      <td> 3533</td>\n",
       "      <td> 65</td>\n",
       "      <td> Germany</td>\n",
       "      <td> EUR</td>\n",
       "      <td>2014-01-29</td>\n",
       "      <td> 3</td>\n",
       "      <td>  549.32</td>\n",
       "      <td> 129.7910</td>\n",
       "      <td>  419.5290</td>\n",
       "      <td> 2014-05-15</td>\n",
       "      <td> 2014-06-15</td>\n",
       "      <td> 11542.6800</td>\n",
       "      <td> 221.7910</td>\n",
       "      <td> 388.1743</td>\n",
       "      <td> 11123.1510</td>\n",
       "      <td>  549.32</td>\n",
       "      <td> 0.2613</td>\n",
       "    </tr>\n",
       "    <tr>\n",
       "      <th>2070</th>\n",
       "      <td> 1</td>\n",
       "      <td> 63</td>\n",
       "      <td> 5527</td>\n",
       "      <td> 3533</td>\n",
       "      <td> 65</td>\n",
       "      <td> Germany</td>\n",
       "      <td> EUR</td>\n",
       "      <td>2014-01-29</td>\n",
       "      <td> 4</td>\n",
       "      <td>  549.32</td>\n",
       "      <td>  85.2775</td>\n",
       "      <td>  464.0425</td>\n",
       "      <td> 2014-06-15</td>\n",
       "      <td> 2014-07-15</td>\n",
       "      <td> 11123.1510</td>\n",
       "      <td> 307.0685</td>\n",
       "      <td> 302.8968</td>\n",
       "      <td> 10659.1085</td>\n",
       "      <td>  549.32</td>\n",
       "      <td> 0.2613</td>\n",
       "    </tr>\n",
       "    <tr>\n",
       "      <th>2071</th>\n",
       "      <td> 1</td>\n",
       "      <td> 63</td>\n",
       "      <td> 5527</td>\n",
       "      <td> 3533</td>\n",
       "      <td> 65</td>\n",
       "      <td> Germany</td>\n",
       "      <td> EUR</td>\n",
       "      <td>2014-01-29</td>\n",
       "      <td> 5</td>\n",
       "      <td>  549.32</td>\n",
       "      <td>  81.7198</td>\n",
       "      <td>  467.6002</td>\n",
       "      <td> 2014-07-15</td>\n",
       "      <td> 2014-08-15</td>\n",
       "      <td> 10659.1085</td>\n",
       "      <td> 388.7883</td>\n",
       "      <td> 221.1770</td>\n",
       "      <td> 10191.5083</td>\n",
       "      <td>  549.32</td>\n",
       "      <td> 0.2613</td>\n",
       "    </tr>\n",
       "    <tr>\n",
       "      <th>2072</th>\n",
       "      <td> 1</td>\n",
       "      <td> 63</td>\n",
       "      <td> 5527</td>\n",
       "      <td> 3533</td>\n",
       "      <td> 65</td>\n",
       "      <td> Germany</td>\n",
       "      <td> EUR</td>\n",
       "      <td>2014-01-29</td>\n",
       "      <td> 6</td>\n",
       "      <td>  549.32</td>\n",
       "      <td>  78.1349</td>\n",
       "      <td>  471.1851</td>\n",
       "      <td> 2014-08-15</td>\n",
       "      <td> 2014-09-15</td>\n",
       "      <td> 10191.5083</td>\n",
       "      <td> 466.9232</td>\n",
       "      <td> 143.0421</td>\n",
       "      <td>  9720.3232</td>\n",
       "      <td>  549.32</td>\n",
       "      <td> 0.2613</td>\n",
       "    </tr>\n",
       "    <tr>\n",
       "      <th>2073</th>\n",
       "      <td> 1</td>\n",
       "      <td> 63</td>\n",
       "      <td> 5527</td>\n",
       "      <td> 3533</td>\n",
       "      <td> 65</td>\n",
       "      <td> Germany</td>\n",
       "      <td> EUR</td>\n",
       "      <td>2014-01-29</td>\n",
       "      <td> 7</td>\n",
       "      <td>  549.32</td>\n",
       "      <td>  74.5225</td>\n",
       "      <td>  474.7975</td>\n",
       "      <td> 2014-09-15</td>\n",
       "      <td> 2014-10-14</td>\n",
       "      <td>  9720.3232</td>\n",
       "      <td> 541.4457</td>\n",
       "      <td>  68.5196</td>\n",
       "      <td>  9245.5257</td>\n",
       "      <td>  549.32</td>\n",
       "      <td> 0.2613</td>\n",
       "    </tr>\n",
       "    <tr>\n",
       "      <th>2074</th>\n",
       "      <td> 1</td>\n",
       "      <td> 63</td>\n",
       "      <td> 5527</td>\n",
       "      <td> 3533</td>\n",
       "      <td> 65</td>\n",
       "      <td> Germany</td>\n",
       "      <td> EUR</td>\n",
       "      <td>2014-01-29</td>\n",
       "      <td> 8</td>\n",
       "      <td> 9314.05</td>\n",
       "      <td>  68.5196</td>\n",
       "      <td> 9245.5257</td>\n",
       "      <td> 2014-10-14</td>\n",
       "      <td> 2199-01-01</td>\n",
       "      <td>  9245.5257</td>\n",
       "      <td> 609.9653</td>\n",
       "      <td>   0.0000</td>\n",
       "      <td>     0.0000</td>\n",
       "      <td> 9314.05</td>\n",
       "      <td> 0.2613</td>\n",
       "    </tr>\n",
       "  </tbody>\n",
       "</table>\n",
       "</div>"
      ],
      "text/plain": [
       "      dwh_country_id  fk_loan_payment_plan  fk_user  fk_loan_request  fk_loan  \\\n",
       "2067               1                    63     5527             3533       65   \n",
       "2068               1                    63     5527             3533       65   \n",
       "2069               1                    63     5527             3533       65   \n",
       "2070               1                    63     5527             3533       65   \n",
       "2071               1                    63     5527             3533       65   \n",
       "2072               1                    63     5527             3533       65   \n",
       "2073               1                    63     5527             3533       65   \n",
       "2074               1                    63     5527             3533       65   \n",
       "\n",
       "     country_name currency_code loan_request_creation_date  interval  \\\n",
       "2067      Germany           EUR                 2014-01-29         1   \n",
       "2068      Germany           EUR                 2014-01-29         2   \n",
       "2069      Germany           EUR                 2014-01-29         3   \n",
       "2070      Germany           EUR                 2014-01-29         4   \n",
       "2071      Germany           EUR                 2014-01-29         5   \n",
       "2072      Germany           EUR                 2014-01-29         6   \n",
       "2073      Germany           EUR                 2014-01-29         7   \n",
       "2074      Germany           EUR                 2014-01-29         8   \n",
       "\n",
       "      payment_amount  interest_amount  principal_amount interval_payback_date  \\\n",
       "2067          549.32          92.0000          457.3200            2014-04-01   \n",
       "2068            0.00           0.0000            0.0000            2014-04-17   \n",
       "2069          549.32         129.7910          419.5290            2014-05-15   \n",
       "2070          549.32          85.2775          464.0425            2014-06-15   \n",
       "2071          549.32          81.7198          467.6002            2014-07-15   \n",
       "2072          549.32          78.1349          471.1851            2014-08-15   \n",
       "2073          549.32          74.5225          474.7975            2014-09-15   \n",
       "2074         9314.05          68.5196         9245.5257            2014-10-14   \n",
       "\n",
       "     next_interval_payback_date  initial_principal_amount  \\\n",
       "2067                 2014-04-17                12000.0000   \n",
       "2068                 2014-05-15                11542.6800   \n",
       "2069                 2014-06-15                11542.6800   \n",
       "2070                 2014-07-15                11123.1510   \n",
       "2071                 2014-08-15                10659.1085   \n",
       "2072                 2014-09-15                10191.5083   \n",
       "2073                 2014-10-14                 9720.3232   \n",
       "2074                 2199-01-01                 9245.5257   \n",
       "\n",
       "      sum_interval_interest_amount  residual_interest_amount  \\\n",
       "2067                       92.0000                  517.9653   \n",
       "2068                       92.0000                  517.9653   \n",
       "2069                      221.7910                  388.1743   \n",
       "2070                      307.0685                  302.8968   \n",
       "2071                      388.7883                  221.1770   \n",
       "2072                      466.9232                  143.0421   \n",
       "2073                      541.4457                   68.5196   \n",
       "2074                      609.9653                    0.0000   \n",
       "\n",
       "      residual_principal_amount  eur_payment_amount  recovery  \n",
       "2067                 11542.6800              549.32    0.2613  \n",
       "2068                 11542.6800                0.00    0.2613  \n",
       "2069                 11123.1510              549.32    0.2613  \n",
       "2070                 10659.1085              549.32    0.2613  \n",
       "2071                 10191.5083              549.32    0.2613  \n",
       "2072                  9720.3232              549.32    0.2613  \n",
       "2073                  9245.5257              549.32    0.2613  \n",
       "2074                     0.0000             9314.05    0.2613  "
      ]
     },
     "execution_count": 96,
     "metadata": {},
     "output_type": "execute_result"
    }
   ],
   "source": [
    "payment_plans[payment_plans.fk_loan==65]"
   ]
  },
  {
   "cell_type": "code",
   "execution_count": 122,
   "metadata": {
    "collapsed": false
   },
   "outputs": [
    {
     "data": {
      "text/plain": [
       "(array([   70,   328,   263,   504, 17098, 60279,  7554]),\n",
       " array([   0,    1,    5,   10,   20,  100,  500, 1000]))"
      ]
     },
     "execution_count": 122,
     "metadata": {},
     "output_type": "execute_result"
    }
   ],
   "source": [
    "np.histogram(payment_plans.payment_amount,bins=[0,1,5,10,20,100,500,1000])"
   ]
  },
  {
   "cell_type": "code",
   "execution_count": 127,
   "metadata": {
    "collapsed": false
   },
   "outputs": [
    {
     "data": {
      "text/plain": [
       "(array([ 69, 328, 263, 383, 705,  60,   0]),\n",
       " array([   0,    1,    5,   10,   20,  100,  500, 1000]))"
      ]
     },
     "execution_count": 127,
     "metadata": {},
     "output_type": "execute_result"
    }
   ],
   "source": [
    "np.histogram(payment_plans.payment_amount[payment_plans.interval==0],bins=[0,1,5,10,20,100,500,1000])"
   ]
  },
  {
   "cell_type": "code",
   "execution_count": 164,
   "metadata": {
    "collapsed": false,
    "scrolled": true
   },
   "outputs": [],
   "source": [
    "resid=payment_plans_idx.loc[idx[:,:,payment_plans_idx.index.get_level_values(2)<'2015-03-24']\\\n",
    "                        ,'residual_principal_amount'].groupby(level=(0,1)).nth(-1)\n",
    "cashflows=payment_plans_idx.loc[idx[:,:,payment_plans_idx.index.get_level_values(2)<'2015-03-24'],'payment_amount']\n",
    "cashflows1=cashflows.append([-loan_orig.principal_amount,resid])\n",
    "cashflows2=pd.DataFrame(cashflows1)\n",
    "cashflows2['dcf']=(np.datetime64('2015-03-24','D')-np.array(cashflows2.index.get_level_values(2).to_datetime(),dtype='datetime64[D]'))/np.timedelta64(1,'D')/365"
   ]
  },
  {
   "cell_type": "code",
   "execution_count": 255,
   "metadata": {
    "collapsed": false
   },
   "outputs": [],
   "source": [
    "cashflows=pd.DataFrame(payment_plans_pd.loc[~(payment_plans_pd.fk_loan.isin(miss_loans)),['fk_loan','interval_payback_date','e_tot']])\n",
    "cashflows.interval_payback_date=np.array(cashflows.interval_payback_date,'datetime64[D]')\n",
    "cashflows.e_tot*=(1-.01)\n",
    "loans_orig=loans.loc[~(payment_plans_pd.fk_loan.isin(miss_loans)),['id_loan','originated_since','principal_amount']]\n",
    "loans_orig.principal_amount=-loans_orig.principal_amount\n",
    "loans_orig['originated_since_date']=np.array(loans_orig['originated_since'],'datetime64[D]')\n",
    "\n",
    "cashflows1=cashflows.rename(columns={'fk_loan':'id_loan','interval_payback_date':'date','e_tot':'payment'})\n"
   ]
  },
  {
   "cell_type": "code",
   "execution_count": 169,
   "metadata": {
    "collapsed": false
   },
   "outputs": [
    {
     "data": {
      "text/html": [
       "<div style=\"max-height:1000px;max-width:1500px;overflow:auto;\">\n",
       "<table border=\"1\" class=\"dataframe\">\n",
       "  <thead>\n",
       "    <tr style=\"text-align: right;\">\n",
       "      <th></th>\n",
       "      <th>fk_loan</th>\n",
       "      <th>interval_payback_date</th>\n",
       "      <th>e_tot</th>\n",
       "    </tr>\n",
       "  </thead>\n",
       "  <tbody>\n",
       "    <tr>\n",
       "      <th>0</th>\n",
       "      <td> 7</td>\n",
       "      <td> 2014-01-01</td>\n",
       "      <td>  0.630000</td>\n",
       "    </tr>\n",
       "    <tr>\n",
       "      <th>1</th>\n",
       "      <td> 7</td>\n",
       "      <td> 2014-02-01</td>\n",
       "      <td> 44.000624</td>\n",
       "    </tr>\n",
       "    <tr>\n",
       "      <th>2</th>\n",
       "      <td> 7</td>\n",
       "      <td> 2014-03-01</td>\n",
       "      <td> 43.810256</td>\n",
       "    </tr>\n",
       "    <tr>\n",
       "      <th>3</th>\n",
       "      <td> 7</td>\n",
       "      <td> 2014-04-01</td>\n",
       "      <td> 43.620712</td>\n",
       "    </tr>\n",
       "    <tr>\n",
       "      <th>4</th>\n",
       "      <td> 7</td>\n",
       "      <td> 2014-05-01</td>\n",
       "      <td> 43.431988</td>\n",
       "    </tr>\n",
       "  </tbody>\n",
       "</table>\n",
       "</div>"
      ],
      "text/plain": [
       "   fk_loan interval_payback_date      e_tot\n",
       "0        7            2014-01-01   0.630000\n",
       "1        7            2014-02-01  44.000624\n",
       "2        7            2014-03-01  43.810256\n",
       "3        7            2014-04-01  43.620712\n",
       "4        7            2014-05-01  43.431988"
      ]
     },
     "execution_count": 169,
     "metadata": {},
     "output_type": "execute_result"
    }
   ],
   "source": [
    "cashflows.head()"
   ]
  },
  {
   "cell_type": "code",
   "execution_count": 256,
   "metadata": {
    "collapsed": false
   },
   "outputs": [],
   "source": [
    "principal_payments=loans_orig[['id_loan','originated_since_date' ,'principal_amount']].\\\n",
    "    rename(columns={'originated_since_date':'date' ,'principal_amount':'payment'})\n",
    "cashflows2=cashflows1.append(principal_payments,ignore_index=True)\n",
    "cashflows2[\"dcf\"]=(np.datetime64('2015-03-24','D')  -cashflows2[\"date\"].values)/np.timedelta64(1,'D')/365"
   ]
  },
  {
   "cell_type": "code",
   "execution_count": 257,
   "metadata": {
    "collapsed": false
   },
   "outputs": [],
   "source": [
    "cashflows2[\"dcf\"]=(np.datetime64('2015-03-24','D')  -cashflows2[\"date\"].values)/np.timedelta64(1,'D')/365"
   ]
  },
  {
   "cell_type": "code",
   "execution_count": null,
   "metadata": {
    "collapsed": true
   },
   "outputs": [],
   "source": [
    "cashflows2[cashflows2.id_loan==85]"
   ]
  },
  {
   "cell_type": "code",
   "execution_count": 258,
   "metadata": {
    "collapsed": false
   },
   "outputs": [
    {
     "data": {
      "text/html": [
       "<div style=\"max-height:1000px;max-width:1500px;overflow:auto;\">\n",
       "<table border=\"1\" class=\"dataframe\">\n",
       "  <thead>\n",
       "    <tr style=\"text-align: right;\">\n",
       "      <th></th>\n",
       "      <th>id_loan</th>\n",
       "      <th>date</th>\n",
       "      <th>payment</th>\n",
       "      <th>dcf</th>\n",
       "    </tr>\n",
       "  </thead>\n",
       "  <tbody>\n",
       "    <tr>\n",
       "      <th>43329</th>\n",
       "      <td> 966</td>\n",
       "      <td>2015-02-01</td>\n",
       "      <td>    9.098100</td>\n",
       "      <td> 0.139726</td>\n",
       "    </tr>\n",
       "    <tr>\n",
       "      <th>43330</th>\n",
       "      <td> 966</td>\n",
       "      <td>2015-03-01</td>\n",
       "      <td>   81.251575</td>\n",
       "      <td> 0.063014</td>\n",
       "    </tr>\n",
       "    <tr>\n",
       "      <th>43331</th>\n",
       "      <td> 966</td>\n",
       "      <td>2015-04-01</td>\n",
       "      <td>   80.553800</td>\n",
       "      <td>-0.021918</td>\n",
       "    </tr>\n",
       "    <tr>\n",
       "      <th>43332</th>\n",
       "      <td> 966</td>\n",
       "      <td>2015-05-01</td>\n",
       "      <td>   79.860454</td>\n",
       "      <td>-0.104110</td>\n",
       "    </tr>\n",
       "    <tr>\n",
       "      <th>43333</th>\n",
       "      <td> 966</td>\n",
       "      <td>2015-06-01</td>\n",
       "      <td>   79.171508</td>\n",
       "      <td>-0.189041</td>\n",
       "    </tr>\n",
       "    <tr>\n",
       "      <th>43334</th>\n",
       "      <td> 966</td>\n",
       "      <td>2015-07-01</td>\n",
       "      <td>   78.486937</td>\n",
       "      <td>-0.271233</td>\n",
       "    </tr>\n",
       "    <tr>\n",
       "      <th>43335</th>\n",
       "      <td> 966</td>\n",
       "      <td>2015-08-01</td>\n",
       "      <td>   77.806712</td>\n",
       "      <td>-0.356164</td>\n",
       "    </tr>\n",
       "    <tr>\n",
       "      <th>43336</th>\n",
       "      <td> 966</td>\n",
       "      <td>2015-09-01</td>\n",
       "      <td>   77.130806</td>\n",
       "      <td>-0.441096</td>\n",
       "    </tr>\n",
       "    <tr>\n",
       "      <th>43337</th>\n",
       "      <td> 966</td>\n",
       "      <td>2015-10-01</td>\n",
       "      <td>   76.459193</td>\n",
       "      <td>-0.523288</td>\n",
       "    </tr>\n",
       "    <tr>\n",
       "      <th>43338</th>\n",
       "      <td> 966</td>\n",
       "      <td>2015-11-01</td>\n",
       "      <td>   75.791845</td>\n",
       "      <td>-0.608219</td>\n",
       "    </tr>\n",
       "    <tr>\n",
       "      <th>43339</th>\n",
       "      <td> 966</td>\n",
       "      <td>2015-12-01</td>\n",
       "      <td>   75.128737</td>\n",
       "      <td>-0.690411</td>\n",
       "    </tr>\n",
       "    <tr>\n",
       "      <th>43340</th>\n",
       "      <td> 966</td>\n",
       "      <td>2016-01-01</td>\n",
       "      <td>   74.469842</td>\n",
       "      <td>-0.775342</td>\n",
       "    </tr>\n",
       "    <tr>\n",
       "      <th>43341</th>\n",
       "      <td> 966</td>\n",
       "      <td>2016-02-01</td>\n",
       "      <td>   73.815133</td>\n",
       "      <td>-0.860274</td>\n",
       "    </tr>\n",
       "    <tr>\n",
       "      <th>43342</th>\n",
       "      <td> 966</td>\n",
       "      <td>2016-03-01</td>\n",
       "      <td>   73.164585</td>\n",
       "      <td>-0.939726</td>\n",
       "    </tr>\n",
       "    <tr>\n",
       "      <th>43343</th>\n",
       "      <td> 966</td>\n",
       "      <td>2016-04-01</td>\n",
       "      <td>   72.518172</td>\n",
       "      <td>-1.024658</td>\n",
       "    </tr>\n",
       "    <tr>\n",
       "      <th>43344</th>\n",
       "      <td> 966</td>\n",
       "      <td>2016-05-01</td>\n",
       "      <td>   71.875868</td>\n",
       "      <td>-1.106849</td>\n",
       "    </tr>\n",
       "    <tr>\n",
       "      <th>43345</th>\n",
       "      <td> 966</td>\n",
       "      <td>2016-06-01</td>\n",
       "      <td>   71.237648</td>\n",
       "      <td>-1.191781</td>\n",
       "    </tr>\n",
       "    <tr>\n",
       "      <th>43346</th>\n",
       "      <td> 966</td>\n",
       "      <td>2016-07-01</td>\n",
       "      <td>   70.603486</td>\n",
       "      <td>-1.273973</td>\n",
       "    </tr>\n",
       "    <tr>\n",
       "      <th>43347</th>\n",
       "      <td> 966</td>\n",
       "      <td>2016-08-01</td>\n",
       "      <td>   69.973356</td>\n",
       "      <td>-1.358904</td>\n",
       "    </tr>\n",
       "    <tr>\n",
       "      <th>43348</th>\n",
       "      <td> 966</td>\n",
       "      <td>2016-09-01</td>\n",
       "      <td>   69.347235</td>\n",
       "      <td>-1.443836</td>\n",
       "    </tr>\n",
       "    <tr>\n",
       "      <th>43349</th>\n",
       "      <td> 966</td>\n",
       "      <td>2016-10-01</td>\n",
       "      <td>   68.725097</td>\n",
       "      <td>-1.526027</td>\n",
       "    </tr>\n",
       "    <tr>\n",
       "      <th>43350</th>\n",
       "      <td> 966</td>\n",
       "      <td>2016-11-01</td>\n",
       "      <td>   68.106916</td>\n",
       "      <td>-1.610959</td>\n",
       "    </tr>\n",
       "    <tr>\n",
       "      <th>43351</th>\n",
       "      <td> 966</td>\n",
       "      <td>2016-12-01</td>\n",
       "      <td>   67.492669</td>\n",
       "      <td>-1.693151</td>\n",
       "    </tr>\n",
       "    <tr>\n",
       "      <th>43352</th>\n",
       "      <td> 966</td>\n",
       "      <td>2017-01-01</td>\n",
       "      <td>   66.882331</td>\n",
       "      <td>-1.778082</td>\n",
       "    </tr>\n",
       "    <tr>\n",
       "      <th>43353</th>\n",
       "      <td> 966</td>\n",
       "      <td>2017-02-01</td>\n",
       "      <td>   66.275878</td>\n",
       "      <td>-1.863014</td>\n",
       "    </tr>\n",
       "    <tr>\n",
       "      <th>43354</th>\n",
       "      <td> 966</td>\n",
       "      <td>2017-03-01</td>\n",
       "      <td>   65.673286</td>\n",
       "      <td>-1.939726</td>\n",
       "    </tr>\n",
       "    <tr>\n",
       "      <th>43355</th>\n",
       "      <td> 966</td>\n",
       "      <td>2017-04-01</td>\n",
       "      <td>   65.074530</td>\n",
       "      <td>-2.024658</td>\n",
       "    </tr>\n",
       "    <tr>\n",
       "      <th>43356</th>\n",
       "      <td> 966</td>\n",
       "      <td>2017-05-01</td>\n",
       "      <td>   64.479586</td>\n",
       "      <td>-2.106849</td>\n",
       "    </tr>\n",
       "    <tr>\n",
       "      <th>43357</th>\n",
       "      <td> 966</td>\n",
       "      <td>2017-06-01</td>\n",
       "      <td>   63.888432</td>\n",
       "      <td>-2.191781</td>\n",
       "    </tr>\n",
       "    <tr>\n",
       "      <th>43358</th>\n",
       "      <td> 966</td>\n",
       "      <td>2017-07-01</td>\n",
       "      <td>   63.301043</td>\n",
       "      <td>-2.273973</td>\n",
       "    </tr>\n",
       "    <tr>\n",
       "      <th>43359</th>\n",
       "      <td> 966</td>\n",
       "      <td>2017-08-01</td>\n",
       "      <td>   62.717396</td>\n",
       "      <td>-2.358904</td>\n",
       "    </tr>\n",
       "    <tr>\n",
       "      <th>43360</th>\n",
       "      <td> 966</td>\n",
       "      <td>2017-09-01</td>\n",
       "      <td>   62.137468</td>\n",
       "      <td>-2.443836</td>\n",
       "    </tr>\n",
       "    <tr>\n",
       "      <th>43361</th>\n",
       "      <td> 966</td>\n",
       "      <td>2017-10-01</td>\n",
       "      <td>   61.561235</td>\n",
       "      <td>-2.526027</td>\n",
       "    </tr>\n",
       "    <tr>\n",
       "      <th>43362</th>\n",
       "      <td> 966</td>\n",
       "      <td>2017-11-01</td>\n",
       "      <td>   60.988675</td>\n",
       "      <td>-2.610959</td>\n",
       "    </tr>\n",
       "    <tr>\n",
       "      <th>43363</th>\n",
       "      <td> 966</td>\n",
       "      <td>2017-12-01</td>\n",
       "      <td>   60.419765</td>\n",
       "      <td>-2.693151</td>\n",
       "    </tr>\n",
       "    <tr>\n",
       "      <th>43364</th>\n",
       "      <td> 966</td>\n",
       "      <td>2018-01-01</td>\n",
       "      <td>   59.854481</td>\n",
       "      <td>-2.778082</td>\n",
       "    </tr>\n",
       "    <tr>\n",
       "      <th>43365</th>\n",
       "      <td> 966</td>\n",
       "      <td>2018-02-01</td>\n",
       "      <td>   59.292803</td>\n",
       "      <td>-2.863014</td>\n",
       "    </tr>\n",
       "    <tr>\n",
       "      <th>43366</th>\n",
       "      <td> 966</td>\n",
       "      <td>2018-03-01</td>\n",
       "      <td>   58.734706</td>\n",
       "      <td>-2.939726</td>\n",
       "    </tr>\n",
       "    <tr>\n",
       "      <th>43367</th>\n",
       "      <td> 966</td>\n",
       "      <td>2018-04-01</td>\n",
       "      <td>   58.180169</td>\n",
       "      <td>-3.024658</td>\n",
       "    </tr>\n",
       "    <tr>\n",
       "      <th>43368</th>\n",
       "      <td> 966</td>\n",
       "      <td>2018-05-01</td>\n",
       "      <td>   57.629170</td>\n",
       "      <td>-3.106849</td>\n",
       "    </tr>\n",
       "    <tr>\n",
       "      <th>43369</th>\n",
       "      <td> 966</td>\n",
       "      <td>2018-06-01</td>\n",
       "      <td>   57.081686</td>\n",
       "      <td>-3.191781</td>\n",
       "    </tr>\n",
       "    <tr>\n",
       "      <th>43370</th>\n",
       "      <td> 966</td>\n",
       "      <td>2018-07-01</td>\n",
       "      <td>   56.537696</td>\n",
       "      <td>-3.273973</td>\n",
       "    </tr>\n",
       "    <tr>\n",
       "      <th>43371</th>\n",
       "      <td> 966</td>\n",
       "      <td>2018-08-01</td>\n",
       "      <td>   55.997178</td>\n",
       "      <td>-3.358904</td>\n",
       "    </tr>\n",
       "    <tr>\n",
       "      <th>43372</th>\n",
       "      <td> 966</td>\n",
       "      <td>2018-09-01</td>\n",
       "      <td>   55.460110</td>\n",
       "      <td>-3.443836</td>\n",
       "    </tr>\n",
       "    <tr>\n",
       "      <th>43373</th>\n",
       "      <td> 966</td>\n",
       "      <td>2018-10-01</td>\n",
       "      <td>   54.926471</td>\n",
       "      <td>-3.526027</td>\n",
       "    </tr>\n",
       "    <tr>\n",
       "      <th>43374</th>\n",
       "      <td> 966</td>\n",
       "      <td>2018-11-01</td>\n",
       "      <td>   54.396240</td>\n",
       "      <td>-3.610959</td>\n",
       "    </tr>\n",
       "    <tr>\n",
       "      <th>43375</th>\n",
       "      <td> 966</td>\n",
       "      <td>2018-12-01</td>\n",
       "      <td>   53.869396</td>\n",
       "      <td>-3.693151</td>\n",
       "    </tr>\n",
       "    <tr>\n",
       "      <th>43376</th>\n",
       "      <td> 966</td>\n",
       "      <td>2019-01-01</td>\n",
       "      <td>   53.345916</td>\n",
       "      <td>-3.778082</td>\n",
       "    </tr>\n",
       "    <tr>\n",
       "      <th>43377</th>\n",
       "      <td> 966</td>\n",
       "      <td>2019-02-01</td>\n",
       "      <td>   52.649568</td>\n",
       "      <td>-3.863014</td>\n",
       "    </tr>\n",
       "    <tr>\n",
       "      <th>78219</th>\n",
       "      <td> 966</td>\n",
       "      <td>2015-01-15</td>\n",
       "      <td>-3000.000000</td>\n",
       "      <td> 0.186301</td>\n",
       "    </tr>\n",
       "  </tbody>\n",
       "</table>\n",
       "</div>"
      ],
      "text/plain": [
       "       id_loan       date      payment       dcf\n",
       "43329      966 2015-02-01     9.098100  0.139726\n",
       "43330      966 2015-03-01    81.251575  0.063014\n",
       "43331      966 2015-04-01    80.553800 -0.021918\n",
       "43332      966 2015-05-01    79.860454 -0.104110\n",
       "43333      966 2015-06-01    79.171508 -0.189041\n",
       "43334      966 2015-07-01    78.486937 -0.271233\n",
       "43335      966 2015-08-01    77.806712 -0.356164\n",
       "43336      966 2015-09-01    77.130806 -0.441096\n",
       "43337      966 2015-10-01    76.459193 -0.523288\n",
       "43338      966 2015-11-01    75.791845 -0.608219\n",
       "43339      966 2015-12-01    75.128737 -0.690411\n",
       "43340      966 2016-01-01    74.469842 -0.775342\n",
       "43341      966 2016-02-01    73.815133 -0.860274\n",
       "43342      966 2016-03-01    73.164585 -0.939726\n",
       "43343      966 2016-04-01    72.518172 -1.024658\n",
       "43344      966 2016-05-01    71.875868 -1.106849\n",
       "43345      966 2016-06-01    71.237648 -1.191781\n",
       "43346      966 2016-07-01    70.603486 -1.273973\n",
       "43347      966 2016-08-01    69.973356 -1.358904\n",
       "43348      966 2016-09-01    69.347235 -1.443836\n",
       "43349      966 2016-10-01    68.725097 -1.526027\n",
       "43350      966 2016-11-01    68.106916 -1.610959\n",
       "43351      966 2016-12-01    67.492669 -1.693151\n",
       "43352      966 2017-01-01    66.882331 -1.778082\n",
       "43353      966 2017-02-01    66.275878 -1.863014\n",
       "43354      966 2017-03-01    65.673286 -1.939726\n",
       "43355      966 2017-04-01    65.074530 -2.024658\n",
       "43356      966 2017-05-01    64.479586 -2.106849\n",
       "43357      966 2017-06-01    63.888432 -2.191781\n",
       "43358      966 2017-07-01    63.301043 -2.273973\n",
       "43359      966 2017-08-01    62.717396 -2.358904\n",
       "43360      966 2017-09-01    62.137468 -2.443836\n",
       "43361      966 2017-10-01    61.561235 -2.526027\n",
       "43362      966 2017-11-01    60.988675 -2.610959\n",
       "43363      966 2017-12-01    60.419765 -2.693151\n",
       "43364      966 2018-01-01    59.854481 -2.778082\n",
       "43365      966 2018-02-01    59.292803 -2.863014\n",
       "43366      966 2018-03-01    58.734706 -2.939726\n",
       "43367      966 2018-04-01    58.180169 -3.024658\n",
       "43368      966 2018-05-01    57.629170 -3.106849\n",
       "43369      966 2018-06-01    57.081686 -3.191781\n",
       "43370      966 2018-07-01    56.537696 -3.273973\n",
       "43371      966 2018-08-01    55.997178 -3.358904\n",
       "43372      966 2018-09-01    55.460110 -3.443836\n",
       "43373      966 2018-10-01    54.926471 -3.526027\n",
       "43374      966 2018-11-01    54.396240 -3.610959\n",
       "43375      966 2018-12-01    53.869396 -3.693151\n",
       "43376      966 2019-01-01    53.345916 -3.778082\n",
       "43377      966 2019-02-01    52.649568 -3.863014\n",
       "78219      966 2015-01-15 -3000.000000  0.186301"
      ]
     },
     "execution_count": 258,
     "metadata": {},
     "output_type": "execute_result"
    }
   ],
   "source": [
    "cashflows2[cashflows2.id_loan==85]"
   ]
  },
  {
   "cell_type": "code",
   "execution_count": 286,
   "metadata": {
    "collapsed": false
   },
   "outputs": [
    {
     "data": {
      "text/html": [
       "<div style=\"max-height:1000px;max-width:1500px;overflow:auto;\">\n",
       "<table border=\"1\" class=\"dataframe\">\n",
       "  <thead>\n",
       "    <tr style=\"text-align: right;\">\n",
       "      <th></th>\n",
       "      <th>dwh_country_id</th>\n",
       "      <th>fk_user_borrower</th>\n",
       "      <th>fk_loan</th>\n",
       "      <th>loan_nr</th>\n",
       "      <th>iso_date</th>\n",
       "      <th>payment_amount</th>\n",
       "      <th>payment_amount_cum</th>\n",
       "      <th>principal_amount</th>\n",
       "      <th>interest_amount</th>\n",
       "      <th>sum_interval_interest_amount</th>\n",
       "      <th>...</th>\n",
       "      <th>principal_amount_cum</th>\n",
       "      <th>initial_principal_amount</th>\n",
       "      <th>residual_principal_amount</th>\n",
       "      <th>expected_amount_month</th>\n",
       "      <th>expected_amount_cum</th>\n",
       "      <th>actual_amount_month</th>\n",
       "      <th>actual_amount_cum</th>\n",
       "      <th>in_arrears_flag</th>\n",
       "      <th>in_arrears_since</th>\n",
       "      <th>in_arrears_since_days</th>\n",
       "    </tr>\n",
       "  </thead>\n",
       "  <tbody>\n",
       "    <tr>\n",
       "      <th>5343</th>\n",
       "      <td> 1</td>\n",
       "      <td> 73957</td>\n",
       "      <td> 966</td>\n",
       "      <td> 140346852</td>\n",
       "      <td> 2015-02-28</td>\n",
       "      <td>  9.19</td>\n",
       "      <td>  9.19</td>\n",
       "      <td>  0.000</td>\n",
       "      <td>  9.1867</td>\n",
       "      <td>  9.1867</td>\n",
       "      <td>...</td>\n",
       "      <td>  0.000</td>\n",
       "      <td> 3000</td>\n",
       "      <td> 3000.000</td>\n",
       "      <td>  9.19</td>\n",
       "      <td>  9.19</td>\n",
       "      <td>  9.19</td>\n",
       "      <td>  9.19</td>\n",
       "      <td> 0</td>\n",
       "      <td> NaN</td>\n",
       "      <td>NaN</td>\n",
       "    </tr>\n",
       "    <tr>\n",
       "      <th>5344</th>\n",
       "      <td> 1</td>\n",
       "      <td> 73957</td>\n",
       "      <td> 966</td>\n",
       "      <td> 140346852</td>\n",
       "      <td> 2015-03-31</td>\n",
       "      <td> 71.69</td>\n",
       "      <td> 80.88</td>\n",
       "      <td> 54.465</td>\n",
       "      <td> 17.2250</td>\n",
       "      <td> 26.4117</td>\n",
       "      <td>...</td>\n",
       "      <td> 54.465</td>\n",
       "      <td> 3000</td>\n",
       "      <td> 2945.535</td>\n",
       "      <td> 71.69</td>\n",
       "      <td> 80.88</td>\n",
       "      <td> 71.69</td>\n",
       "      <td> 80.88</td>\n",
       "      <td> 0</td>\n",
       "      <td> NaN</td>\n",
       "      <td>NaN</td>\n",
       "    </tr>\n",
       "  </tbody>\n",
       "</table>\n",
       "<p>2 rows × 22 columns</p>\n",
       "</div>"
      ],
      "text/plain": [
       "      dwh_country_id  fk_user_borrower  fk_loan    loan_nr    iso_date  \\\n",
       "5343               1             73957      966  140346852  2015-02-28   \n",
       "5344               1             73957      966  140346852  2015-03-31   \n",
       "\n",
       "      payment_amount  payment_amount_cum  principal_amount  interest_amount  \\\n",
       "5343            9.19                9.19             0.000           9.1867   \n",
       "5344           71.69               80.88            54.465          17.2250   \n",
       "\n",
       "      sum_interval_interest_amount          ...            \\\n",
       "5343                        9.1867          ...             \n",
       "5344                       26.4117          ...             \n",
       "\n",
       "      principal_amount_cum  initial_principal_amount  \\\n",
       "5343                 0.000                      3000   \n",
       "5344                54.465                      3000   \n",
       "\n",
       "      residual_principal_amount  expected_amount_month  expected_amount_cum  \\\n",
       "5343                   3000.000                   9.19                 9.19   \n",
       "5344                   2945.535                  71.69                80.88   \n",
       "\n",
       "      actual_amount_month  actual_amount_cum  in_arrears_flag  \\\n",
       "5343                 9.19               9.19                0   \n",
       "5344                71.69              80.88                0   \n",
       "\n",
       "      in_arrears_since  in_arrears_since_days  \n",
       "5343               NaN                    NaN  \n",
       "5344               NaN                    NaN  \n",
       "\n",
       "[2 rows x 22 columns]"
      ]
     },
     "execution_count": 286,
     "metadata": {},
     "output_type": "execute_result"
    }
   ],
   "source": [
    "actual_payments[actual_payments.fk_loan==966]"
   ]
  },
  {
   "cell_type": "code",
   "execution_count": 186,
   "metadata": {
    "collapsed": false
   },
   "outputs": [
    {
     "data": {
      "text/plain": [
       "5.4735134310179845"
      ]
     },
     "execution_count": 186,
     "metadata": {},
     "output_type": "execute_result"
    }
   ],
   "source": [
    "xirr(cashflows2.loc[cashflows2.id_loan==500,'payment'],cashflows2.loc[cashflows2.id_loan==500,'dcf'])*100"
   ]
  },
  {
   "cell_type": "code",
   "execution_count": 100,
   "metadata": {
    "collapsed": false
   },
   "outputs": [],
   "source": [
    "miss_loans=set(loans.id_loan) ^ set(payment_plans.fk_loan) # symmetric difference"
   ]
  },
  {
   "cell_type": "code",
   "execution_count": 259,
   "metadata": {
    "collapsed": false
   },
   "outputs": [],
   "source": [
    "loans_xirr=cashflows2.groupby('id_loan').apply(lambda x: xirr(x.payment,x.dcf))"
   ]
  },
  {
   "cell_type": "code",
   "execution_count": 215,
   "metadata": {
    "collapsed": false
   },
   "outputs": [],
   "source": [
    "mth3_loans=loans_orig.id_loan[loans_orig.originated_since_date<np.datetime64('2015-01-22')]"
   ]
  },
  {
   "cell_type": "code",
   "execution_count": 252,
   "metadata": {
    "collapsed": false
   },
   "outputs": [],
   "source": [
    "payment_plans_pd[payment_plans_pd.fk_loan==966].to_clipboard()"
   ]
  },
  {
   "cell_type": "code",
   "execution_count": 260,
   "metadata": {
    "collapsed": false
   },
   "outputs": [
    {
     "data": {
      "text/plain": [
       "<matplotlib.axes._subplots.AxesSubplot at 0x13a89320>"
      ]
     },
     "execution_count": 260,
     "metadata": {},
     "output_type": "execute_result"
    }
   ],
   "source": [
    "\n",
    "f=plt.figure(1)\n",
    "f.clf()\n",
    "(loans_xirr*100).hist()"
   ]
  },
  {
   "cell_type": "code",
   "execution_count": 207,
   "metadata": {
    "collapsed": false,
    "scrolled": true
   },
   "outputs": [
    {
     "data": {
      "text/html": [
       "<div style=\"max-height:1000px;max-width:1500px;overflow:auto;\">\n",
       "<table border=\"1\" class=\"dataframe\">\n",
       "  <thead>\n",
       "    <tr style=\"text-align: right;\">\n",
       "      <th></th>\n",
       "      <th>991</th>\n",
       "    </tr>\n",
       "  </thead>\n",
       "  <tbody>\n",
       "    <tr>\n",
       "      <th>dwh_country_id</th>\n",
       "      <td>                                                 1</td>\n",
       "    </tr>\n",
       "    <tr>\n",
       "      <th>id_loan</th>\n",
       "      <td>                                               966</td>\n",
       "    </tr>\n",
       "    <tr>\n",
       "      <th>fk_loan_request</th>\n",
       "      <td>                                             55818</td>\n",
       "    </tr>\n",
       "    <tr>\n",
       "      <th>fk_user</th>\n",
       "      <td>                                             73957</td>\n",
       "    </tr>\n",
       "    <tr>\n",
       "      <th>fk_ranking</th>\n",
       "      <td>                                             13143</td>\n",
       "    </tr>\n",
       "    <tr>\n",
       "      <th>country_name</th>\n",
       "      <td>                                           Germany</td>\n",
       "    </tr>\n",
       "    <tr>\n",
       "      <th>currency_code</th>\n",
       "      <td>                                               EUR</td>\n",
       "    </tr>\n",
       "    <tr>\n",
       "      <th>loan_request_creation_date</th>\n",
       "      <td>                               2015-01-07 00:00:00</td>\n",
       "    </tr>\n",
       "    <tr>\n",
       "      <th>user_age</th>\n",
       "      <td>                                                55</td>\n",
       "    </tr>\n",
       "    <tr>\n",
       "      <th>loan_nr</th>\n",
       "      <td>                                         140346852</td>\n",
       "    </tr>\n",
       "    <tr>\n",
       "      <th>title</th>\n",
       "      <td>                                       Umschuldung</td>\n",
       "    </tr>\n",
       "    <tr>\n",
       "      <th>purpose</th>\n",
       "      <td> Dieser Kreditnehmer hat keine Kreditbeschreibu...</td>\n",
       "    </tr>\n",
       "    <tr>\n",
       "      <th>financial_situation</th>\n",
       "      <td>                                              None</td>\n",
       "    </tr>\n",
       "    <tr>\n",
       "      <th>self_rating</th>\n",
       "      <td>                                              None</td>\n",
       "    </tr>\n",
       "    <tr>\n",
       "      <th>rating</th>\n",
       "      <td>                                                D2</td>\n",
       "    </tr>\n",
       "    <tr>\n",
       "      <th>principal_amount</th>\n",
       "      <td>                                              3000</td>\n",
       "    </tr>\n",
       "    <tr>\n",
       "      <th>duration</th>\n",
       "      <td>                                              1440</td>\n",
       "    </tr>\n",
       "    <tr>\n",
       "      <th>nominal_interest_percentage</th>\n",
       "      <td>                                              6.89</td>\n",
       "    </tr>\n",
       "    <tr>\n",
       "      <th>promo_interest_percentage</th>\n",
       "      <td>                                                 0</td>\n",
       "    </tr>\n",
       "    <tr>\n",
       "      <th>fee_amount</th>\n",
       "      <td>                                              67.5</td>\n",
       "    </tr>\n",
       "    <tr>\n",
       "      <th>interest_amount</th>\n",
       "      <td>                                            450.07</td>\n",
       "    </tr>\n",
       "    <tr>\n",
       "      <th>total_payback</th>\n",
       "      <td>                                           3450.07</td>\n",
       "    </tr>\n",
       "    <tr>\n",
       "      <th>is_active</th>\n",
       "      <td>                                            active</td>\n",
       "    </tr>\n",
       "    <tr>\n",
       "      <th>category</th>\n",
       "      <td>                                debt_consolidation</td>\n",
       "    </tr>\n",
       "    <tr>\n",
       "      <th>ranking_serialized</th>\n",
       "      <td> O:45:\"Intlend\\Base\\Web\\RankingBundle\\Propel\\Ra...</td>\n",
       "    </tr>\n",
       "    <tr>\n",
       "      <th>state</th>\n",
       "      <td>                                           payback</td>\n",
       "    </tr>\n",
       "    <tr>\n",
       "      <th>global_state</th>\n",
       "      <td>                                   payout_complete</td>\n",
       "    </tr>\n",
       "    <tr>\n",
       "      <th>originating_since</th>\n",
       "      <td>                                              None</td>\n",
       "    </tr>\n",
       "    <tr>\n",
       "      <th>originated_since</th>\n",
       "      <td>                               2015-01-15 15:27:19</td>\n",
       "    </tr>\n",
       "    <tr>\n",
       "      <th>due_date</th>\n",
       "      <td>                                                 1</td>\n",
       "    </tr>\n",
       "    <tr>\n",
       "      <th>funded_amount</th>\n",
       "      <td>                                              3000</td>\n",
       "    </tr>\n",
       "    <tr>\n",
       "      <th>ip_address</th>\n",
       "      <td>                                              None</td>\n",
       "    </tr>\n",
       "    <tr>\n",
       "      <th>live_since</th>\n",
       "      <td>                                              None</td>\n",
       "    </tr>\n",
       "    <tr>\n",
       "      <th>ranking_parameter</th>\n",
       "      <td>                                              None</td>\n",
       "    </tr>\n",
       "    <tr>\n",
       "      <th>acc_account_id</th>\n",
       "      <td>                                              None</td>\n",
       "    </tr>\n",
       "    <tr>\n",
       "      <th>date_of_signature</th>\n",
       "      <td>                                        14.01.2015</td>\n",
       "    </tr>\n",
       "    <tr>\n",
       "      <th>borrower_fee</th>\n",
       "      <td>                                              2.25</td>\n",
       "    </tr>\n",
       "    <tr>\n",
       "      <th>lender_fee</th>\n",
       "      <td>                                                 1</td>\n",
       "    </tr>\n",
       "    <tr>\n",
       "      <th>data_accessible_by</th>\n",
       "      <td>                                      4.611686e+18</td>\n",
       "    </tr>\n",
       "    <tr>\n",
       "      <th>date_of_payout</th>\n",
       "      <td>                                              None</td>\n",
       "    </tr>\n",
       "    <tr>\n",
       "      <th>date_of_origination_complete</th>\n",
       "      <td>                                              None</td>\n",
       "    </tr>\n",
       "    <tr>\n",
       "      <th>interest_calculation_method</th>\n",
       "      <td>                                            30/360</td>\n",
       "    </tr>\n",
       "    <tr>\n",
       "      <th>initial_interest_split_strategy</th>\n",
       "      <td>                                                 1</td>\n",
       "    </tr>\n",
       "    <tr>\n",
       "      <th>effective_interest_percentage</th>\n",
       "      <td>                                            8.3741</td>\n",
       "    </tr>\n",
       "    <tr>\n",
       "      <th>cancel_reason</th>\n",
       "      <td>                                              None</td>\n",
       "    </tr>\n",
       "    <tr>\n",
       "      <th>cancel_reason_comment</th>\n",
       "      <td>                                              None</td>\n",
       "    </tr>\n",
       "    <tr>\n",
       "      <th>eur_principal_amount</th>\n",
       "      <td>                                              3000</td>\n",
       "    </tr>\n",
       "    <tr>\n",
       "      <th>eur_fee_amount</th>\n",
       "      <td>                                              67.5</td>\n",
       "    </tr>\n",
       "    <tr>\n",
       "      <th>eur_interest_amount</th>\n",
       "      <td>                                            450.07</td>\n",
       "    </tr>\n",
       "    <tr>\n",
       "      <th>eur_total_payback</th>\n",
       "      <td>                                           3450.07</td>\n",
       "    </tr>\n",
       "    <tr>\n",
       "      <th>created_at</th>\n",
       "      <td>                               2015-01-12 09:38:53</td>\n",
       "    </tr>\n",
       "    <tr>\n",
       "      <th>updated_at</th>\n",
       "      <td>                               2015-01-16 10:53:47</td>\n",
       "    </tr>\n",
       "    <tr>\n",
       "      <th>dwh_created</th>\n",
       "      <td>                        2015-01-12 10:07:03.201171</td>\n",
       "    </tr>\n",
       "    <tr>\n",
       "      <th>dwh_last_modified</th>\n",
       "      <td>                        2015-03-20 14:59:18.092006</td>\n",
       "    </tr>\n",
       "    <tr>\n",
       "      <th>credit_agency_score</th>\n",
       "      <td>                                              8971</td>\n",
       "    </tr>\n",
       "    <tr>\n",
       "      <th>pd</th>\n",
       "      <td>                                               7.2</td>\n",
       "    </tr>\n",
       "    <tr>\n",
       "      <th>pd_original</th>\n",
       "      <td>                                               7.2</td>\n",
       "    </tr>\n",
       "    <tr>\n",
       "      <th>lgd</th>\n",
       "      <td>                                               100</td>\n",
       "    </tr>\n",
       "    <tr>\n",
       "      <th>in_arrears_since</th>\n",
       "      <td>                                              None</td>\n",
       "    </tr>\n",
       "  </tbody>\n",
       "</table>\n",
       "</div>"
      ],
      "text/plain": [
       "                                                                               991\n",
       "dwh_country_id                                                                   1\n",
       "id_loan                                                                        966\n",
       "fk_loan_request                                                              55818\n",
       "fk_user                                                                      73957\n",
       "fk_ranking                                                                   13143\n",
       "country_name                                                               Germany\n",
       "currency_code                                                                  EUR\n",
       "loan_request_creation_date                                     2015-01-07 00:00:00\n",
       "user_age                                                                        55\n",
       "loan_nr                                                                  140346852\n",
       "title                                                                  Umschuldung\n",
       "purpose                          Dieser Kreditnehmer hat keine Kreditbeschreibu...\n",
       "financial_situation                                                           None\n",
       "self_rating                                                                   None\n",
       "rating                                                                          D2\n",
       "principal_amount                                                              3000\n",
       "duration                                                                      1440\n",
       "nominal_interest_percentage                                                   6.89\n",
       "promo_interest_percentage                                                        0\n",
       "fee_amount                                                                    67.5\n",
       "interest_amount                                                             450.07\n",
       "total_payback                                                              3450.07\n",
       "is_active                                                                   active\n",
       "category                                                        debt_consolidation\n",
       "ranking_serialized               O:45:\"Intlend\\Base\\Web\\RankingBundle\\Propel\\Ra...\n",
       "state                                                                      payback\n",
       "global_state                                                       payout_complete\n",
       "originating_since                                                             None\n",
       "originated_since                                               2015-01-15 15:27:19\n",
       "due_date                                                                         1\n",
       "funded_amount                                                                 3000\n",
       "ip_address                                                                    None\n",
       "live_since                                                                    None\n",
       "ranking_parameter                                                             None\n",
       "acc_account_id                                                                None\n",
       "date_of_signature                                                       14.01.2015\n",
       "borrower_fee                                                                  2.25\n",
       "lender_fee                                                                       1\n",
       "data_accessible_by                                                    4.611686e+18\n",
       "date_of_payout                                                                None\n",
       "date_of_origination_complete                                                  None\n",
       "interest_calculation_method                                                 30/360\n",
       "initial_interest_split_strategy                                                  1\n",
       "effective_interest_percentage                                               8.3741\n",
       "cancel_reason                                                                 None\n",
       "cancel_reason_comment                                                         None\n",
       "eur_principal_amount                                                          3000\n",
       "eur_fee_amount                                                                67.5\n",
       "eur_interest_amount                                                         450.07\n",
       "eur_total_payback                                                          3450.07\n",
       "created_at                                                     2015-01-12 09:38:53\n",
       "updated_at                                                     2015-01-16 10:53:47\n",
       "dwh_created                                             2015-01-12 10:07:03.201171\n",
       "dwh_last_modified                                       2015-03-20 14:59:18.092006\n",
       "credit_agency_score                                                           8971\n",
       "pd                                                                             7.2\n",
       "pd_original                                                                    7.2\n",
       "lgd                                                                            100\n",
       "in_arrears_since                                                              None"
      ]
     },
     "execution_count": 207,
     "metadata": {},
     "output_type": "execute_result"
    }
   ],
   "source": [
    "loans[loans.id_loan==966].T"
   ]
  },
  {
   "cell_type": "code",
   "execution_count": 251,
   "metadata": {
    "collapsed": false
   },
   "outputs": [
    {
     "data": {
      "text/plain": [
       "<matplotlib.axes._subplots.AxesSubplot at 0x122aeef0>"
      ]
     },
     "execution_count": 251,
     "metadata": {},
     "output_type": "execute_result"
    }
   ],
   "source": [
    "(loans_xirr.loc[mth3_loans]*100).hist()"
   ]
  },
  {
   "cell_type": "code",
   "execution_count": 253,
   "metadata": {
    "collapsed": false
   },
   "outputs": [
    {
     "data": {
      "text/plain": [
       "0.03870272564140468"
      ]
     },
     "execution_count": 253,
     "metadata": {},
     "output_type": "execute_result"
    }
   ],
   "source": [
    "loans_xirr.loc[966]"
   ]
  },
  {
   "cell_type": "code",
   "execution_count": 254,
   "metadata": {
    "collapsed": false
   },
   "outputs": [
    {
     "data": {
      "text/html": [
       "<div style=\"max-height:1000px;max-width:1500px;overflow:auto;\">\n",
       "<table border=\"1\" class=\"dataframe\">\n",
       "  <thead>\n",
       "    <tr style=\"text-align: right;\">\n",
       "      <th></th>\n",
       "      <th>id_loan</th>\n",
       "      <th>originated_since</th>\n",
       "      <th>principal_amount</th>\n",
       "      <th>originated_since_date</th>\n",
       "    </tr>\n",
       "  </thead>\n",
       "  <tbody>\n",
       "    <tr>\n",
       "      <th>991</th>\n",
       "      <td> 966</td>\n",
       "      <td>2015-01-15 15:27:19</td>\n",
       "      <td>-3000</td>\n",
       "      <td>2015-01-15</td>\n",
       "    </tr>\n",
       "  </tbody>\n",
       "</table>\n",
       "</div>"
      ],
      "text/plain": [
       "     id_loan    originated_since  principal_amount originated_since_date\n",
       "991      966 2015-01-15 15:27:19             -3000            2015-01-15"
      ]
     },
     "execution_count": 254,
     "metadata": {},
     "output_type": "execute_result"
    }
   ],
   "source": [
    "loans_orig[loans_orig.id_loan==966]"
   ]
  },
  {
   "cell_type": "code",
   "execution_count": 203,
   "metadata": {
    "collapsed": false
   },
   "outputs": [],
   "source": [
    "cashflows2[cashflows2.id_loan==966].sort('date').to_clipboard()"
   ]
  },
  {
   "cell_type": "code",
   "execution_count": 103,
   "metadata": {
    "collapsed": false
   },
   "outputs": [
    {
     "data": {
      "text/plain": [
       "{16,\n",
       " 21,\n",
       " 38,\n",
       " 40,\n",
       " 63,\n",
       " 64,\n",
       " 65,\n",
       " 68,\n",
       " 73,\n",
       " 94,\n",
       " 195,\n",
       " 200,\n",
       " 202,\n",
       " 203,\n",
       " 204,\n",
       " 205,\n",
       " 234,\n",
       " 245,\n",
       " 251,\n",
       " 253,\n",
       " 256,\n",
       " 257,\n",
       " 258,\n",
       " 271,\n",
       " 320,\n",
       " 435,\n",
       " 704,\n",
       " 709,\n",
       " 718,\n",
       " 719,\n",
       " 721,\n",
       " 730,\n",
       " 784,\n",
       " 978,\n",
       " 1502,\n",
       " 1602,\n",
       " 1618,\n",
       " 1625,\n",
       " 1628,\n",
       " 1631,\n",
       " 1645,\n",
       " 1647,\n",
       " 1654,\n",
       " 1690,\n",
       " 1703,\n",
       " 1728,\n",
       " 1730,\n",
       " 1754,\n",
       " 1756}"
      ]
     },
     "execution_count": 103,
     "metadata": {},
     "output_type": "execute_result"
    }
   ],
   "source": [
    "no0=set(payment_plans.fk_loan.unique()) - set( pp1.fk_loan.unique()) # checking if each loan has interval 0 \n",
    "no0"
   ]
  },
  {
   "cell_type": "code",
   "execution_count": 39,
   "metadata": {
    "collapsed": true
   },
   "outputs": [],
   "source": []
  },
  {
   "cell_type": "code",
   "execution_count": 40,
   "metadata": {
    "collapsed": false
   },
   "outputs": [],
   "source": []
  },
  {
   "cell_type": "code",
   "execution_count": 297,
   "metadata": {
    "collapsed": true
   },
   "outputs": [],
   "source": []
  },
  {
   "cell_type": "code",
   "execution_count": 107,
   "metadata": {
    "collapsed": false
   },
   "outputs": [],
   "source": [
    "loan_plan_nar=payment_plans_idx.loc[payment_plans_idx.interval!=0,['interest_amount','initial_principal_amount']].groupby(level=(0,1)).sum()"
   ]
  }
 ],
 "metadata": {
  "kernelspec": {
   "display_name": "Python 2",
   "language": "python",
   "name": "python2"
  },
  "language_info": {
   "codemirror_mode": {
    "name": "ipython",
    "version": 2
   },
   "file_extension": ".py",
   "mimetype": "text/x-python",
   "name": "python",
   "nbconvert_exporter": "python",
   "pygments_lexer": "ipython2",
   "version": "2.7.8"
  }
 },
 "nbformat": 4,
 "nbformat_minor": 0
}
