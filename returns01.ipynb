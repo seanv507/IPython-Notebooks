{
 "cells": [
  {
   "cell_type": "code",
   "execution_count": 1,
   "metadata": {
    "collapsed": false
   },
   "outputs": [],
   "source": [
    "import pandas as pd\n",
    "import numpy as np\n",
    "import matplotlib.pyplot as plt\n",
    "import datetime\n",
    "import scipy.optimize\n",
    "import pandas.io.sql as psql\n",
    "import pandas as pd\n",
    "import sys\n",
    "sys.path.insert(0,'C:\\Users\\Sean Violante\\Documents\\Projects\\lendico\\lib')\n",
    "import dwh\n",
    "from __future__ import division"
   ]
  },
  {
   "cell_type": "code",
   "execution_count": 2,
   "metadata": {
    "collapsed": true
   },
   "outputs": [],
   "source": [
    "%matplotlib qt"
   ]
  },
  {
   "cell_type": "code",
   "execution_count": 3,
   "metadata": {
    "collapsed": false
   },
   "outputs": [],
   "source": [
    "conn = dwh.get_DWH()"
   ]
  },
  {
   "cell_type": "code",
   "execution_count": 4,
   "metadata": {
    "collapsed": false
   },
   "outputs": [
    {
     "name": "stdout",
     "output_type": "stream",
     "text": [
      " hello (3, 4, 6, 8, 11, 14, 526, 528, 558, 630, 557, 556, 555, 553, 552, 554, 578, 579, 580, 603, 596, 611, 642)\n"
     ]
    }
   ],
   "source": [
    "excluded_loans=(3,4,6,8,11,14,526,528,558,630,557,556,555,553,552,554,578,579,580,603,596,611,642)\n",
    "print(\" hello {}\".format(excluded_loans))"
   ]
  },
  {
   "cell_type": "code",
   "execution_count": 4,
   "metadata": {
    "collapsed": true
   },
   "outputs": [],
   "source": [
    "excluded_loans=\"(-1)\""
   ]
  },
  {
   "cell_type": "code",
   "execution_count": 5,
   "metadata": {
    "collapsed": true
   },
   "outputs": [],
   "source": [
    "payment_plans_combined_sql=\"\"\"SELECT pp.dwh_country_id, pp.fk_loan, pp.fk_loan_request,l.loan_nr as loan_request_nr, \n",
    "        pp.fk_user_investor, pp.fk_user_borrower, pp.country_name, \n",
    "        pp.nominal_interest_percentage, pp.promo_interest_percentage, pp.has_promo_flag, \n",
    "        pp.is_repaid_flag, \n",
    "        pp.payout_date, pp.interval, pp.interval_payback_date, pp.next_interval_payback_date, \n",
    "        pp.loan_coverage, \n",
    "    \n",
    "        pp.payment_amount_borrower,\n",
    "        sum(pp.payment_amount_borrower) OVER wind as payment_amount_borrower_cum,\n",
    "        \n",
    "        pp.principal_amount_borrower, \n",
    "        sum(pp.principal_amount_borrower) OVER wind as principal_amount_borrower_cum,\n",
    "        \n",
    "        pp.interest_amount_borrower,\n",
    "        sum(pp.interest_amount_borrower) OVER wind as interest_amount_borrower_cum,\n",
    "        \n",
    "        pp.initial_principal_amount_borrower, \n",
    "        pp.residual_interest_amount_borrower, pp.residual_principal_amount_borrower, \n",
    "        \n",
    "        pp.calc_service_fee, \n",
    "        \n",
    "        pp.payment_amount_investor, \n",
    "        sum(pp.payment_amount_investor) OVER wind as payment_amount_investor_cum,\n",
    "        \n",
    "        pp.principal_amount_investor, \n",
    "        sum(pp.principal_amount_investor) OVER wind as principal_amount_investor_cum,\n",
    "        \n",
    "        pp.interest_amount_investor, \n",
    "        sum(pp.interest_amount_investor) OVER wind as interest_amount_investor_cum,\n",
    "        \n",
    "        pp.initial_principal_amount_investor, pp.sum_interval_interest_amount_investor, \n",
    "        pp.residual_interest_amount_investor, pp.residual_principal_amount_investor\n",
    "    \n",
    "        \n",
    "        FROM base.loan_payment_plan_combined_item pp\n",
    "        join base.loan l on (pp.dwh_country_id=l.dwh_country_id and pp.fk_loan=l.id_loan )\n",
    "        join base.loan_funding lf on (pp.dwh_country_id=lf.dwh_country_id and pp.fk_loan=lf.fk_loan and pp.fk_user_investor=lf.fk_user)\n",
    "        where pp.dwh_country_id=1 and \n",
    "        l.state!='canceled' \n",
    "        and l.id_loan not in {} and \n",
    "        l.originated_since is not null and\n",
    "        lf.state='funded'\n",
    "        WINDOW wind as (PARTITION BY pp.dwh_country_id, pp.fk_loan, pp.fk_user_investor order by interval)\n",
    "        \"\"\".format(excluded_loans)\n",
    "\n",
    "# load german combined payment plan up to system date (very large), removing cancelled/non funded loans and loans created by lendico 'borrowers'"
   ]
  },
  {
   "cell_type": "code",
   "execution_count": 6,
   "metadata": {
    "collapsed": false
   },
   "outputs": [],
   "source": [
    "payment_plans_sql=\"\"\"select \n",
    "pp.dwh_country_id, pp.fk_loan_payment_plan, pp.fk_user, pp.fk_loan_request, pp.fk_loan, \n",
    "pp.country_name, pp.currency_code, pp.loan_request_creation_date, \n",
    "interval, payment_amount, pp.interest_amount, pp.principal_amount, interval_payback_date, next_interval_payback_date, \n",
    "initial_principal_amount, sum_interval_interest_amount, residual_interest_amount, residual_principal_amount\n",
    "from base.loan_payment_plan_item pp\n",
    "join base.loan l on          (pp.dwh_country_id=l.dwh_country_id and pp.fk_loan=l.id_loan )\n",
    "where pp.dwh_country_id=1 and l.state!='canceled'  and l.originated_since is not null\n",
    "and l.id_loan not in {}\"\"\".format(excluded_loans)\n",
    "# load german borrower payment plan , removing cancelled, not yet originated  loans and loans created by lendico 'borrowers'\n"
   ]
  },
  {
   "cell_type": "code",
   "execution_count": 7,
   "metadata": {
    "collapsed": false
   },
   "outputs": [],
   "source": [
    "loans_sql=\"\"\"select l.*, gblrc.credit_agency_score, gblrc.pd, gblrc.pd_original, gblrc.lgd, gblrc.in_arrears_since, \n",
    "lp.payback_day,lp.payout_date, lp.state as payback_state, lp.auto_in_arrears_since, lp.in_arrears_since in_arrears_since_man\n",
    "from base.loan l\n",
    "join il.global_borrower_loan_requests_cohort gblrc\n",
    "on (l.dwh_country_id=gblrc.dwh_country_id and l.loan_nr=gblrc.loan_request_nr)\n",
    "\n",
    "join base.loan_payback lp\n",
    "on (l.dwh_country_id=lp.dwh_country_id and l.id_loan=lp.fk_loan)\n",
    "where \n",
    "    l.dwh_country_id=1 and \n",
    "    l.state!='canceled' and \n",
    "    id_loan not in {} and \n",
    "    originated_since is not null\"\"\".format(excluded_loans)\n",
    "\n",
    "\n",
    "# load loans removing cancelled, not yet originated  loans and loans created by lendico 'borrowers'"
   ]
  },
  {
   "cell_type": "code",
   "execution_count": 8,
   "metadata": {
    "collapsed": false
   },
   "outputs": [],
   "source": [
    "actual_payments_combined_sql= \"\"\"\n",
    "with \n",
    "actual_payments as (select \n",
    "dp.dwh_country_id, dp.fk_user as fk_user_borrower, dp.fk_loan, dp.loan_request_nr\n",
    " ,dp.iso_date \n",
    " ,dp.expected_amount_cum, dp.actual_amount_cum, in_arrears_flag, dp.in_arrears_since\n",
    " ,in_arrears_since_days\n",
    " -- expected/actual payment over month (by taking diff of cumsum)\n",
    ",dp.expected_amount_cum - lag(expected_amount_cum,1,0.0) over ( partition by dp.dwh_country_id, dp.fk_loan  order by dp.iso_date)  expected_amount_month\n",
    ",dp.actual_amount_cum - lag(actual_amount_cum,1,0.0) over ( partition by dp.dwh_country_id, dp.fk_loan order by iso_date)\n",
    " actual_amount_month\n",
    " from base.de_payments dp\n",
    "join base.loan_payback lp on (lp.dwh_country_id=dp.dwh_country_id and lp.fk_loan=dp.fk_loan) \n",
    "where dp.iso_date=(date_trunc('MONTH', dp.iso_date) + INTERVAL '1 MONTH - 1 day')::date\n",
    "and (lp.state!='payback_complete' or lp.in_arrears_since is not null or dp.iso_date <=lp.last_payment_date)\n",
    "and dp.fk_loan not in {}\n",
    ") ,\n",
    "-- select End of month, excluding those that have now paid back ( apart from those that were paid back by lendico)\n",
    "-- find corresponding payment plan item.\n",
    "-- we find the maximum payment plan interval that has cum_payment<= actual_cum \n",
    "-- could also use distinct on?\n",
    "-- match only actual payments that have happened after plan date\n",
    "-- problem is overpayments [ ie where payment plan has not been updated with extra payment.. because \n",
    "actual_payments_cum as (\n",
    "select \n",
    "ap.dwh_country_id, ap.fk_loan, \n",
    "-- dp.iso_date as date,min(pp.interval) as interval, min(interval_payback_date) interval_payback_date--, dp.actual_amount_cum, pp.payment_amount_cum'\n",
    "ap.iso_date,max(pp.interval) as interval\n",
    "\n",
    "from actual_payments ap\n",
    "\n",
    "join \n",
    "(select dwh_country_id, fk_loan, interval, interval_payback_date, sum(payment_amount) \n",
    "\tOVER (partition by dwh_country_id,fk_loan order by interval) payment_amount_cum  \n",
    "\tfrom base.loan_payment_plan_item  where interval_payback_date<=current_date) pp\n",
    "on \n",
    " (ap.dwh_country_id=pp.dwh_country_id and\n",
    " ap.fk_loan=pp.fk_loan and -- we need this to exclude extra payments that have not been added to payment plan\n",
    " ap.iso_date>=pp.interval_payback_date and\n",
    " ap.actual_amount_cum>=pp.payment_amount_cum )\n",
    " \n",
    "\n",
    "group by ap.dwh_country_id, ap.fk_loan,  ap.iso_date \n",
    "--order by date, interval\n",
    "\n",
    "),\n",
    "\n",
    "\n",
    " paymentplan as\n",
    "(\n",
    "        SELECT pp.dwh_country_id, pp.fk_loan, pp.fk_loan_request,  l.loan_nr as loan_request_nr,\n",
    "        pp.fk_user_investor, pp.fk_user_borrower, pp.country_name, pp.nominal_interest_percentage, pp.promo_interest_percentage, pp.has_promo_flag, \n",
    "        pp.is_repaid_flag, pp.payout_date, \n",
    "\t\tpp.interval, pp.interval_payback_date, pp.next_interval_payback_date, pp.loan_coverage, \n",
    "        pp.payment_amount_borrower, pp.principal_amount_borrower, pp.interest_amount_borrower, \n",
    "\t\tpp.initial_principal_amount_borrower, pp.sum_interval_interest_amount_borrower, \n",
    "        pp.residual_interest_amount_borrower, pp.residual_principal_amount_borrower, pp.payment_amount_promo, pp.principal_amount_promo, pp.interest_amount_promo, pp.initial_principal_amount_promo, \n",
    "        pp.sum_interval_interest_amount_promo, pp.residual_interest_amount_promo, pp.residual_principal_amount_promo, pp.calc_service_fee,\n",
    "        pp.payment_amount_investor, \n",
    " \n",
    "\t\tpp.principal_amount_investor, pp.interest_amount_investor, \n",
    "\t\tpp.initial_principal_amount_investor, pp.sum_interval_interest_amount_investor, \n",
    "        pp.residual_interest_amount_investor, pp.residual_principal_amount_investor\n",
    "\t\t, sum(coalesce(payment_amount_investor,0) ) OVER W::float as payment_amount_investor_cum\n",
    "\t\t, sum(coalesce(pp.interest_amount_investor,0) ) OVER W::float as interest_amount_investor_cum\n",
    "\t\t, sum(coalesce(pp.principal_amount_investor,0) ) OVER W::float as principal_amount_investor_cum\n",
    "        FROM base.loan_payment_plan_combined_item pp\n",
    "\n",
    " join   base.loan l    \n",
    " on     l.id_loan=pp.fk_loan and l.dwh_country_id=pp.dwh_country_id  \n",
    " join  base.loan_funding lf   on   \n",
    " (pp.dwh_country_id=lf.dwh_country_id and pp.fk_loan=lf.fk_loan and pp.fk_user_investor=lf.fk_user)\n",
    "where pp.dwh_country_id=1 and  pp.interval_payback_date<=current_date and  lf.state='funded' and l.state!='canceled'\n",
    "WINDOW W as (partition by pp.dwh_country_id, pp.fk_loan, pp.fk_user_investor ORDER BY pp.interval_payback_date)\n",
    ")\n",
    "\n",
    "select \n",
    "\n",
    " ap.dwh_country_id as dwh_country_id\n",
    " , ap.fk_user_borrower\n",
    " ,lf.fk_user as fk_user_investor\n",
    " , ap.fk_loan as fk_loan\n",
    " , ap.loan_request_nr\n",
    " , ap.iso_date,\n",
    " \n",
    " \n",
    "pp.nominal_interest_percentage, pp.promo_interest_percentage, pp.has_promo_flag, \n",
    "pp.is_repaid_flag, pp.payout_date, pp.interval, pp.interval_payback_date, pp.next_interval_payback_date, pp.loan_coverage, \n",
    "pp.payment_amount_borrower, pp.principal_amount_borrower, pp.interest_amount_borrower, pp.initial_principal_amount_borrower, pp.sum_interval_interest_amount_borrower, \n",
    "pp.residual_interest_amount_borrower, pp.residual_principal_amount_borrower, pp.calc_service_fee,\n",
    "\n",
    "pp.payment_amount_investor, pp.payment_amount_investor_cum,\n",
    "pp.payment_amount_investor_cum - lag(pp.payment_amount_investor_cum,1,0.0::float) over W payment_amount_investor_month,\n",
    "pp.principal_amount_investor, pp.interest_amount_investor, pp.sum_interval_interest_amount_investor, \n",
    "pp.interest_amount_investor_cum,\n",
    "pp.residual_interest_amount_investor,\n",
    "pp.principal_amount_investor_cum,\n",
    "pp.initial_principal_amount_investor, \n",
    "coalesce (pp.residual_principal_amount_investor, lf.amount) as residual_principal_amount_investor\n",
    "\n",
    ",expected_amount_month, expected_amount_cum\n",
    ",actual_amount_month, actual_amount_cum\n",
    ", in_arrears_flag, in_arrears_since\n",
    " ,in_arrears_since_days  \n",
    "\n",
    "\n",
    "from actual_payments ap\n",
    "left join actual_payments_cum ap_cum \n",
    "   on( \n",
    "  ap.dwh_country_id=ap_cum.dwh_country_id and \n",
    "  ap.fk_loan=ap_cum.fk_loan and \n",
    "  ap.iso_date=ap_cum.iso_date\n",
    "   )\n",
    "\n",
    "join base.loan_funding lf on (\n",
    " ap.dwh_country_id=lf.dwh_country_id and\n",
    " ap.fk_loan=lf.fk_loan\n",
    "\n",
    ")\n",
    "   \n",
    "left join paymentplan pp on (\n",
    "    pp.dwh_country_id=ap.dwh_country_id and \n",
    "    pp.fk_user_investor = lf.fk_user and\n",
    "    pp.fk_loan=ap.fk_loan and \n",
    "    ap_cum.interval=pp.interval) \n",
    "where  ap.dwh_country_id=1 and ap.iso_date <=current_date and lf.state='funded'\n",
    "WINDOW W as( partition by ap.dwh_country_id, ap.fk_loan, pp.fk_user_investor  order by ap.iso_date)\n",
    "order by dwh_country_id,fk_loan,iso_date \n",
    ";\"\"\".format(excluded_loans)\n"
   ]
  },
  {
   "cell_type": "code",
   "execution_count": 9,
   "metadata": {
    "collapsed": false
   },
   "outputs": [],
   "source": [
    "actual_payments_sql= \"\"\"\n",
    "with \n",
    "actual_payments as (select \n",
    "dp.dwh_country_id, dp.fk_user as fk_user_borrower, dp.fk_loan, dp.loan_request_nr\n",
    " ,dp.iso_date \n",
    " ,dp.expected_amount_cum, dp.actual_amount_cum, in_arrears_flag, dp.in_arrears_since\n",
    " ,in_arrears_since_days\n",
    "-- expected/actual payment over month (by taking diff of cumsum)\n",
    ",dp.expected_amount_cum - lag(expected_amount_cum,1,0.0) over ( partition by dp.dwh_country_id, dp.fk_loan  order by dp.iso_date)  expected_amount_month\n",
    ",dp.actual_amount_cum - lag(actual_amount_cum,1,0.0) over ( partition by dp.dwh_country_id, dp.fk_loan order by iso_date)\n",
    " actual_amount_month\n",
    " from base.de_payments dp\n",
    " join base.loan_payback lp on (lp.dwh_country_id=dp.dwh_country_id and lp.fk_loan=dp.fk_loan) \n",
    "where dp.iso_date=(date_trunc('MONTH', dp.iso_date) + INTERVAL '1 MONTH - 1 day')::date\n",
    "and (lp.state!='payback_complete' or lp.in_arrears_since is not null or dp.iso_date <=lp.last_payment_date)\n",
    "and dp.fk_loan not in {0}\n",
    ") ,\n",
    "-- select End of month, excluding those that have now paid back ( apart from those that were paid back by lendico)\n",
    "-- find corresponding payment plan item.\n",
    "-- we find the maximum payment plan interval that has cum_payment<= actual_cum \n",
    "-- could also use distinct on?\n",
    "-- match only actual payments that have happened after plan date\n",
    "-- problem is overpayments [ ie where payment plan has not been updated with extra payment.. because \n",
    "actual_payments_cum as (\n",
    "select \n",
    "ap.dwh_country_id, ap.fk_loan, \n",
    "-- dp.iso_date as date,min(pp.interval) as interval, min(interval_payback_date) interval_payback_date--, dp.actual_amount_cum, pp.payment_amount_cum'\n",
    "ap.iso_date,max(pp.interval) as interval\n",
    "\n",
    "from actual_payments ap\n",
    "\n",
    "join \n",
    "(select dwh_country_id, fk_loan, interval, interval_payback_date, sum(payment_amount) \\\n",
    "    OVER (partition by dwh_country_id,fk_loan order by interval) payment_amount_cum  \n",
    "    from base.loan_payment_plan_item where interval_payback_date<=current_date) pp\n",
    "on \n",
    " (ap.dwh_country_id=pp.dwh_country_id and\n",
    " ap.fk_loan=pp.fk_loan and -- we need this to exclude extra payments that have not been added to payment plan\n",
    " ap.iso_date>=pp.interval_payback_date and \n",
    " ap.actual_amount_cum>=pp.payment_amount_cum )\n",
    " \n",
    "group by ap.dwh_country_id, ap.fk_loan,  ap.iso_date \n",
    "--order by date, interval\n",
    "\n",
    "),\n",
    "\n",
    "\n",
    " paymentplan as\n",
    "(\n",
    "\n",
    "\tSELECT pp.dwh_country_id, pp.fk_user, pp.fk_loan_request,pp.fk_loan, l.loan_nr\n",
    "\t,pp.country_name, interval, payment_amount, pp.interest_amount\n",
    "\t,pp.principal_amount,interval_payback_date,next_interval_payback_date,\n",
    "\tinitial_principal_amount, sum_interval_interest_amount,\n",
    "\tresidual_interest_amount,residual_principal_amount\n",
    "\t, sum(coalesce(payment_amount,0) )  OVER W::float as payment_amount_cum\n",
    "\t, sum(coalesce(pp.interest_amount,0) ) OVER W::float as interest_amount_cum\n",
    "\t, sum(coalesce(pp.principal_amount,0) ) OVER W::float as principal_amount_cum\n",
    "\n",
    " FROM base.loan_payment_plan_item pp \n",
    "        \n",
    "\n",
    " join   base.loan l    \n",
    " on     l.id_loan=pp.fk_loan and l.dwh_country_id=pp.dwh_country_id  \n",
    " where  pp.dwh_country_id=1 and pp.interval_payback_date<=current_date\n",
    "WINDOW W as (partition by pp.dwh_country_id, pp.fk_loan ORDER BY pp.interval_payback_date)\n",
    ")\n",
    "\n",
    "select \n",
    "\n",
    " \n",
    " ap.dwh_country_id as dwh_country_id\n",
    " , ap.fk_user_borrower\n",
    " , ap.fk_loan as fk_loan\n",
    " , ap.loan_request_nr as loan_nr --changed from pp.loan_nr\n",
    " , ap.iso_date\n",
    " , pp.interval\n",
    " , pp.interval_payback_date\n",
    ",pp.payment_amount, pp.payment_amount_cum,\n",
    "\n",
    "pp.principal_amount, pp.interest_amount, pp.sum_interval_interest_amount, \n",
    "pp.interest_amount_cum,\n",
    "pp.residual_interest_amount,\n",
    " pp.principal_amount_cum,\n",
    " pp.initial_principal_amount, \n",
    "coalesce (pp.residual_principal_amount, l.principal_amount) as residual_principal_amount\n",
    "\n",
    ",expected_amount_month, expected_amount_cum\n",
    ",actual_amount_month, actual_amount_cum\n",
    ", in_arrears_flag, in_arrears_since\n",
    " ,in_arrears_since_days  \n",
    "\n",
    "\n",
    "\n",
    "from actual_payments ap\n",
    "left join actual_payments_cum ap_cum \n",
    "   on( \n",
    "  ap.dwh_country_id=ap_cum.dwh_country_id and \n",
    "  ap.fk_loan=ap_cum.fk_loan and \n",
    "  ap.iso_date=ap_cum.iso_date\n",
    "   )\n",
    "  \n",
    "left join paymentplan pp\n",
    " \n",
    "on (pp.dwh_country_id=ap.dwh_country_id and \n",
    "        pp.fk_loan=ap.fk_loan and \n",
    "        ap_cum.interval=pp.interval)\n",
    "join base.loan l \n",
    "on (ap.dwh_country_id=l.dwh_country_id and ap.fk_loan=l.id_loan)\n",
    "where  ap.dwh_country_id=1 and ap.iso_date <=current_date and  ap.fk_loan not in {0} \n",
    "\n",
    "order by dwh_country_id,fk_loan,iso_date ;\n",
    "\"\"\".format(excluded_loans)\n"
   ]
  },
  {
   "cell_type": "code",
   "execution_count": 10,
   "metadata": {
    "collapsed": true
   },
   "outputs": [],
   "source": [
    "loan_fundings_sql=\"\"\"select * from base.loan_funding where dwh_country_id=1 \n",
    "and fk_loan not in {} and state='funded'\"\"\".format(excluded_loans)"
   ]
  },
  {
   "cell_type": "code",
   "execution_count": 11,
   "metadata": {
    "collapsed": false
   },
   "outputs": [
    {
     "name": "stdout",
     "output_type": "stream",
     "text": [
      "Wall time: 35.1 s\n"
     ]
    }
   ],
   "source": [
    "%time loans=psql.read_sql(loans_sql,conn)"
   ]
  },
  {
   "cell_type": "code",
   "execution_count": 12,
   "metadata": {
    "collapsed": false
   },
   "outputs": [
    {
     "name": "stdout",
     "output_type": "stream",
     "text": [
      "Wall time: 24.5 s\n",
      "Wall time: 1min 16s\n",
      "Wall time: 15.6 s\n",
      "Wall time: 3min 28s\n"
     ]
    }
   ],
   "source": [
    "%time loan_fundings=psql.read_sql(loan_fundings_sql,conn)\n",
    "%time payment_plans=psql.read_sql(payment_plans_sql,conn)\n",
    "%time actual_payments=psql.read_sql(actual_payments_sql,conn)\n",
    "%time actual_payments_combined=psql.read_sql(actual_payments_combined_sql,conn)"
   ]
  },
  {
   "cell_type": "code",
   "execution_count": 15,
   "metadata": {
    "collapsed": false,
    "scrolled": true
   },
   "outputs": [
    {
     "name": "stdout",
     "output_type": "stream",
     "text": [
      "Wall time: 26min 56s\n"
     ]
    }
   ],
   "source": [
    "%time payment_plans_combined=psql.read_sql(payment_plans_combined_sql,conn)"
   ]
  },
  {
   "cell_type": "code",
   "execution_count": 29,
   "metadata": {
    "collapsed": false
   },
   "outputs": [],
   "source": [
    "payment_plans_combined.to_csv('C:\\Users\\Sean Violante\\Documents\\Projects\\lendico\\Projects\\Returns\\payout_plans_combined.txt')"
   ]
  },
  {
   "cell_type": "markdown",
   "metadata": {},
   "source": [
    "Note we are using payout date not originated since date"
   ]
  },
  {
   "cell_type": "code",
   "execution_count": 17,
   "metadata": {
    "collapsed": false
   },
   "outputs": [],
   "source": [
    "loans['rating_base']=loans.rating.str[0]\n",
    "loans['originated_since_date']=np.array(loans.payout_date,'datetime64[D]')\n",
    "loans['rating_switch']=1 + \\\n",
    "    (loans['originated_since_date']>np.datetime64('2014-06-30')) + \\\n",
    "    (loans['originated_since_date']>np.datetime64('2014-10-14'))"
   ]
  },
  {
   "cell_type": "code",
   "execution_count": 18,
   "metadata": {
    "collapsed": false
   },
   "outputs": [],
   "source": [
    "loans['originated_since_date_EOM']=loans['originated_since_date']+np.array(30-loans.payback_day,'timedelta64[D]')"
   ]
  },
  {
   "cell_type": "code",
   "execution_count": 19,
   "metadata": {
    "collapsed": false
   },
   "outputs": [],
   "source": [
    "loan_fundings1=loan_fundings.merge(loans[['id_loan','originated_since_date','originated_since_date_EOM','payback_day','principal_amount']],left_on=['fk_loan'],right_on=['id_loan'])"
   ]
  },
  {
   "cell_type": "code",
   "execution_count": 20,
   "metadata": {
    "collapsed": false
   },
   "outputs": [],
   "source": [
    "loan_fundings1['loan_coverage1']=loan_fundings1.amount/loan_fundings1.principal_amount*100"
   ]
  },
  {
   "cell_type": "code",
   "execution_count": 146,
   "metadata": {
    "collapsed": false
   },
   "outputs": [],
   "source": [
    "z1=pd.DataFrame(actual_payments.set_index(['iso_date','fk_loan'])[['in_arrears_since', 'in_arrears_since_days']])\n",
    "z1['bucket']=np.ceil(z1.in_arrears_since_days/30)\n",
    "a1=z1.bucket.unstack()\n",
    "\n",
    "a2=a1.shift(-1, freq='M')\n",
    "a3=a1.shift(-2, freq='M')\n",
    "a4=a1.shift(-3, freq='M')\n",
    "a5=a1.shift(-4, freq='M')\n",
    "a6=a1.shift(-5, freq='M')\n",
    "a7=a1.shift(-6, freq='M')\n",
    "\n",
    "\n",
    "z1['in_arrears_since_1M']=a2.stack()\n",
    "z1['in_arrears_since_2M']=a3.stack()\n",
    "z1['in_arrears_since_3M']=a4.stack()\n",
    "z1['in_arrears_since_4M']=a5.stack()\n",
    "z1['in_arrears_since_5M']=a6.stack()\n",
    "z1['in_arrears_since_6M']=a7.stack()\n",
    "\n"
   ]
  },
  {
   "cell_type": "code",
   "execution_count": null,
   "metadata": {
    "collapsed": true
   },
   "outputs": [],
   "source": [
    "# trying to detemine stability "
   ]
  },
  {
   "cell_type": "code",
   "execution_count": 148,
   "metadata": {
    "collapsed": false
   },
   "outputs": [],
   "source": [
    "z2=z1.fillna(0)"
   ]
  },
  {
   "cell_type": "code",
   "execution_count": 150,
   "metadata": {
    "collapsed": true
   },
   "outputs": [],
   "source": [
    "z3=z2.groupby(['bucket','in_arrears_since_1M']).size()"
   ]
  },
  {
   "cell_type": "code",
   "execution_count": 134,
   "metadata": {
    "collapsed": false
   },
   "outputs": [],
   "source": [
    "z1=actual_payments_combined[actual_payments_combined.iso_date==datetime.date(2015,4,30)].residual_principal_amount_investor"
   ]
  },
  {
   "cell_type": "code",
   "execution_count": 137,
   "metadata": {
    "collapsed": false
   },
   "outputs": [
    {
     "data": {
      "text/plain": [
       "0"
      ]
     },
     "execution_count": 137,
     "metadata": {},
     "output_type": "execute_result"
    }
   ],
   "source": [
    "(z1.isnull()).sum()\n"
   ]
  },
  {
   "cell_type": "code",
   "execution_count": 21,
   "metadata": {
    "collapsed": false
   },
   "outputs": [],
   "source": [
    "def days360_tup(diff):\n",
    "    # not actually 30360 as in bond basis. \n",
    "    # note february -> 30 so longer ( and 31 months get shortened)\n",
    "    x=None\n",
    "    try:\n",
    "        x=(diff[1].year-diff[0].year)*360+(diff[1].month-diff[0].month)*30+min((diff[1].day-diff[0].day),30)\n",
    "    except AttributeError:\n",
    "        pass\n",
    "    return x\n",
    "       \n",
    "def days360(start,end):\n",
    "    diffs=zip(start,end)\n",
    "    \n",
    "    return map(days360_tup, diffs)\n",
    "\n",
    "def rebase(x):\n",
    "    # we treat interval 0 as special ( can't default then)\n",
    "    # might consider doing fractional amount\n",
    "    # if first interval is zero, return x otherwise x-x[0]+1\n",
    "    # different investors may or may not have zero ( if investment too loo <1 cent interest)\n",
    "    min_interval=x.min()\n",
    "    if min_interval!=0:\n",
    "        min_interval-=1\n",
    "    return x-min_interval\n",
    "\n",
    "def calc_survival(pp):\n",
    "    # outputs new dataframe\n",
    "    ### CURRENTLY WRONG initial principal_amount is borrower not investor\n",
    "    pp=pp.copy()\n",
    "    pp['interval_rebased']=pp[['fk_loan','interval']].groupby('fk_loan').transform(rebase)\n",
    "    \n",
    "    pp['surv_month']=(1-pp.pd).pow(1/12.0)\n",
    "    pp['survive'] =pp.surv_month.pow(pp.interval_rebased)\n",
    "    pp['default'] =(pp.interval_rebased>0) * pp.surv_month.pow(pp.interval_rebased-1) * (1-pp.surv_month)\n",
    "    pp['e_payment_amount']=pp.survive * pp.payment_amount\n",
    "    pp['e_recovery']=pp.default * pp.recovery*pp.initial_principal_amount\n",
    "    pp['e_tot']=pp.e_payment_amount + pp.e_recovery\n",
    "    pp['e_tot_svc']=pp['e_tot']*(1-0.01)\n",
    "    return pp\n",
    "\n",
    "def calc_survival_investor(pp):\n",
    "    # outputs new dataframe\n",
    "    pp=pp.copy()\n",
    "    pp['interval_rebased']=pp[['fk_loan','interval']].groupby(['fk_loan']).transform(rebase)\n",
    "    \n",
    "    pp['surv_month']=(1-pp.pd).pow(1/12.0)\n",
    "    pp['survive'] =pp.surv_month.pow(pp.interval_rebased)\n",
    "    pp['default'] =(pp.interval_rebased>0) * pp.surv_month.pow(pp.interval_rebased-1) * (1-pp.surv_month)\n",
    "    pp['e_payment_amount_investor']=pp.survive * pp.payment_amount_investor\n",
    "    pp['e_recovery']=pp.default * pp.recovery*pp.initial_principal_amount_investor\n",
    "    pp['e_tot']=pp.e_payment_amount_investor + pp.e_recovery\n",
    "    return pp\n",
    "\n",
    "\n",
    "\n",
    "def make_pd_arrears( act_pay, loans, latest_date,arrears_dict):\n",
    "    act_pay=act_pay[np.array(act_pay.iso_date,'datetime64[D]')==np.datetime64(latest_date,'D')].copy()\n",
    "    act_pay['bucket']=np.ceil(act_pay.in_arrears_since_days_30360/30)*30\n",
    "    act_pay['bucket_pd']=act_pay.bucket.map(arrears_dict)\n",
    "    \n",
    "    return loans.merge(act_pay[['fk_loan','in_arrears_since', 'in_arrears_since_days',\\\n",
    "                                'in_arrears_since_days_30360', 'bucket', 'bucket_pd']], \\\n",
    "                       left_on='id_loan',right_on='fk_loan',how='left')\n",
    "    \n",
    "def add_pd(pp, loans, use_in_arrears):\n",
    "    \"\"\" add pd from loans, divide by 100, and create dupl pd_noarr \"\"\"\n",
    "    pp_pd=pp.merge(loans[['id_loan','pd','bucket_pd']],left_on='fk_loan',right_on='id_loan')\n",
    "    pp_pd['pd']=pp_pd['pd']/100.0\n",
    "    pp_pd['pd_noarr']=pp_pd['pd']\n",
    "    if use_in_arrears:\n",
    "        pp_pd.loc[pp_pd.bucket_pd.notnull(),'pd']=pp_pd.loc[pp_pd.bucket_pd.notnull(),'bucket_pd']\n",
    "    return pp_pd                \n",
    "\n",
    "def make_future_pd(payment_plans,loans, arrears_dict, use_in_arrears, EOM_date_str=None, latest_paid_interval=None):\n",
    "    \"\"\" \n",
    "        select future payments ( after EOM_date_str)\n",
    "        for each loan remove payment_plans where already paid\n",
    "        if EOM_date_str is None use all data \n",
    "    \"\"\"\n",
    "    \n",
    "    if EOM_date_str is not None:\n",
    "        EOM_date=datetime.datetime.strptime(EOM_date_str,'%Y-%m-%d').date()\n",
    "        fut=payment_plans[payment_plans.interval_payback_date > EOM_date ].merge(\\\n",
    "                        pd.DataFrame(latest_paid_interval),left_on=['fk_loan','fk_user_investor'],right_index=True,how='left')\n",
    "        fut=fut[(fut.latest_paid_interval.isnull() )|(fut.interval>fut.latest_paid_interval)]\n",
    "    else:\n",
    "        fut=payment_plans.copy()\n",
    "    # drop intervals already in actual???\n",
    "    fut_pd=add_pd(fut, loans, use_in_arrears)\n",
    "    fut_pd=calc_survival_investor(fut_pd)\n",
    "    return fut_pd\n",
    "\n",
    "def generate_cashflows_act_investor( actual,loan_funding, EOM_date_str):\n",
    "    # take payments and add initial principal and remaining principal\n",
    "    # the remaining principal is all that has to be paid back (including in arrears principals)\n",
    "    EOM_date=datetime.datetime.strptime(EOM_date_str,'%Y-%m-%d').date()\n",
    "    \n",
    "    \n",
    "    loans_orig=loan_funding.loc[loan_funding.originated_since_date<EOM_date,['fk_loan','fk_user','originated_since_date_EOM','amount']].copy()\n",
    "    loans_orig.amount=-loans_orig.amount    \n",
    "    loans_orig.rename(columns={'fk_loan':'id_loan', 'fk_user':'fk_user_investor','originated_since_date_EOM':'date' ,'amount':'payment'},inplace=True)\n",
    "    \n",
    "    act=actual.loc[actual.iso_date<=EOM_date,['fk_loan','iso_date','fk_user_investor','payment_amount_investor_month']].\\\n",
    "        rename(columns={'fk_loan':'id_loan','iso_date':'date',\n",
    "                        'payment_amount_investor_month':'payment'})\n",
    "    act.date=np.array(act.date,'datetime64[D]')\n",
    "    residual=actual.loc[actual.iso_date==EOM_date,['fk_loan','fk_user_investor', 'residual_principal_amount_investor']].\\\n",
    "            rename(columns={'fk_loan':'id_loan','residual_principal_amount_investor':'payment'})\n",
    "    residual['date']=np.datetime64(EOM_date,'D')\n",
    "    \n",
    "    cashflows=act.append([residual,loans_orig],ignore_index=True)\n",
    "    cashflows['dcf']=(np.datetime64('2015-04-01','D')  -cashflows[\"date\"].values)/np.timedelta64(1,'D')/365\n",
    "    cashflows=cashflows.merge(loans[['id_loan','originated_since_date','rating_base','rating_switch','payback_state']],on='id_loan',how='left')\n",
    "    return cashflows\n",
    "\n",
    "\n",
    "def generate_cashflows_pp(pp,loan_fundings,loans, EOM_date_str=None):\n",
    "    if EOM_date_str is None:\n",
    "        EOM_date_str='2300-01-01'\n",
    "    EOM_date=datetime.datetime.strptime(EOM_date_str,'%Y-%m-%d').date()\n",
    "    # generate cashflows from plan for xirr ( by taking payment amount, loan funding and residual principal\n",
    "    # exclude loans for which no plan yet or interval zero where \n",
    "    cashflows=pp.loc[pp.interval_payback_date<=EOM_date,['fk_loan','fk_user_investor','interval_payback_date','payment_amount_investor']].copy()\n",
    "   \n",
    "    \n",
    "    cashflows=cashflows[cashflows.payment_amount_investor.notnull()]\n",
    "    cashflows['interval_payback_date']=np.array(cashflows['interval_payback_date'],'datetime64[D]') \n",
    "    investor_loan_ids=cashflows[['fk_loan','fk_user_investor']].drop_duplicates()\n",
    "    \n",
    "    # filter out cases with no plan yet ( depends on investor because first payment could be <1 cent)\n",
    "    cashflows.rename(columns={'fk_loan':'id_loan','interval_payback_date':'date','payment_amount_investor':'payment'},inplace=True)\n",
    "    loan_fundings=loan_fundings[['fk_loan','fk_user','originated_since_date','amount']]\\\n",
    "        .merge(investor_loan_ids,left_on=['fk_loan','fk_user'],right_on=['fk_loan','fk_user_investor'])\n",
    "    del loan_fundings['fk_user_investor']\n",
    "    #loan_fundings['date']=np.array(loan_fundings['date'],'datetime64[D]') \n",
    "    loan_fundings.amount=-loan_fundings.amount\n",
    "    loan_fundings.rename(columns={'fk_loan':'id_loan', 'fk_user':'fk_user_investor','originated_since_date':'date' ,'amount':'payment'},inplace=True)\n",
    "    \n",
    "    residuals=pp.loc[pp.interval_payback_date<=EOM_date,['fk_loan','fk_user_investor','interval_payback_date','residual_principal_amount_investor']]\\\n",
    "        .groupby(['fk_loan','fk_user_investor']).agg({\\\n",
    "                                'interval_payback_date':np.max,\\\n",
    "                                'residual_principal_amount_investor':np.min}).reset_index()\n",
    "    \n",
    "    # should be same as finding principal at max date!\n",
    "    residuals=residuals[residuals.residual_principal_amount_investor.notnull()]\n",
    "    residuals['interval_payback_date']=np.array(residuals['interval_payback_date'],'datetime64[D]') \n",
    "    residuals.rename(columns={'fk_loan':'id_loan','interval_payback_date':'date' ,\\\n",
    "                              'residual_principal_amount_investor':'payment'},inplace=True)    \n",
    "    \n",
    "    cashflows=cashflows.append([loan_fundings, residuals],ignore_index=True)\n",
    "    # warning a mix of datetimes and dates causes problems - datetimes -> 1970-...\n",
    "    cashflows['date']=np.array(cashflows['date'],'datetime64[D]')\n",
    "    \n",
    "    cashflows['dcf']=(datetime.date(2015,4,1)  -cashflows['date'])/np.timedelta64(1,'D')/365\n",
    "    cashflows=cashflows.merge(loans[['id_loan','originated_since_date','rating_base','rating_switch','payback_state']],on='id_loan',how='left')\n",
    "    return cashflows\n",
    "\n",
    "    \n",
    "def generate_cashflows(pred_pp, loan_funding, EOM_date_str=None, actual=None):\n",
    "    \"\"\" prepare data for IRR calculation.\n",
    "        take predicted future cashflows together with inital principal \n",
    "        and any actual payments and return merged cashflows for IRR calculation\n",
    "        EOM_date_str: only used to filter loans that were originated before EOM_str\n",
    "    \"\"\"\n",
    "    if EOM_date_str is not None:\n",
    "        EOM_date=datetime.datetime.strptime(EOM_date_str,'%Y-%m-%d').date()\n",
    "        \n",
    "    # take payments and add initial principal\n",
    "    cashflows=pred_pp[['fk_loan','fk_user_investor','e_tot']].copy()\n",
    "    cashflows['interval_payback_date']=np.array(pred_pp.interval_payback_date,'datetime64[D]')\n",
    "    cashflows.rename(columns={'fk_loan':'id_loan','interval_payback_date':'date','e_tot':'payment'},inplace=True)\n",
    "    # ids=cashflows.id_loan.unique()\n",
    "    \n",
    "    \n",
    "    if EOM_date_str is not None:    \n",
    "        loans_orig=loan_funding.loc[loan_funding.originated_since_date<EOM_date,['fk_loan','fk_user','originated_since_date_EOM','amount']].copy()\n",
    "    else:\n",
    "        loans_orig=loan_funding[['fk_loan','fk_user','originated_since_date_EOM','amount']].copy()\n",
    "    loans_orig.amount=-loans_orig.amount\n",
    "    loans_orig.rename(columns={'fk_loan':'id_loan', 'fk_user':'fk_user_investor','originated_since_date_EOM':'date' ,'amount':'payment'},inplace=True)\n",
    "    if actual is not None:\n",
    "        act=actual[['fk_loan','fk_user_investor','iso_date','payment_amount_investor_month']].\\\n",
    "        rename(columns={'fk_loan':'id_loan','iso_date':'date','payment_amount_investor_month':'payment'})\n",
    "    \n",
    "        act.date=np.array(act.date,'datetime64[D]')\n",
    "    else:\n",
    "        act=None\n",
    "    cashflows=pd.concat([act,cashflows,loans_orig],ignore_index=True)\n",
    "    cashflows['dcf']=(np.datetime64('2015-04-01','D')  -cashflows[\"date\"].values)/np.timedelta64(1,'D')/365\n",
    "    cashflows=cashflows.merge(loans[['id_loan','rating_base','rating_switch','payback_state']],on='id_loan',how='left')\n",
    "    return cashflows\n",
    "\n",
    "\n",
    "\n",
    "def xnpv(rs,amounts, taus):\n",
    "    \"\"\" should work for scalars and vectors. \n",
    "    taus: is the day count fraction as of the valuation date (tau=0)\n",
    "    \"\"\"\n",
    "    qs=np.power(1+rs ,taus)\n",
    "    return np.sum(amounts*qs)\n",
    "\n",
    "def xirr(amounts,taus, guess=0.1):\n",
    "    # RuntimeError: Failed to converge after 50 iterations, value is nan\n",
    "    try:\n",
    "        z=scipy.optimize.newton(lambda r: xnpv(r,amounts, taus),guess)\n",
    "    except RuntimeError:\n",
    "        z=np.nan\n",
    "    return z\n",
    "\n",
    "# merge in investor field and loan coverage, change borrower payment to investor cashflow ( ie according to their allocation of loan) \n",
    "def add_investor_coverage(cashflows,loan_fundings):\n",
    "    cashflows1=cashflows.merge(loan_fundings[['fk_loan','fk_user','loan_coverage1']],left_on='id_loan',right_on='fk_loan')\n",
    "    cashflows1['orig_payment']=cashflows1['payment']\n",
    "    cashflows1['payment']=cashflows1['orig_payment']*cashflows1['loan_coverage1']/100.0\n",
    "    return cashflows1\n"
   ]
  },
  {
   "cell_type": "code",
   "execution_count": 22,
   "metadata": {
    "collapsed": false
   },
   "outputs": [],
   "source": [
    "actual_payments['in_arrears_since_days_30360']=days360(actual_payments.in_arrears_since.values,actual_payments.iso_date.values)\n",
    "actual_payments_combined['in_arrears_since_days_30360']=days360(actual_payments_combined.in_arrears_since.values,actual_payments_combined.iso_date.values)"
   ]
  },
  {
   "cell_type": "code",
   "execution_count": 54,
   "metadata": {
    "collapsed": false
   },
   "outputs": [],
   "source": [
    "actual_payments_combined[(actual_payments_combined.fk_loan==20) & (actual_payments_combined.fk_user_investor==914)].to_clipboard(index=False)"
   ]
  },
  {
   "cell_type": "code",
   "execution_count": 50,
   "metadata": {
    "collapsed": false
   },
   "outputs": [
    {
     "data": {
      "text/plain": [
       "1024   2015-02-28\n",
       "Name: originated_since_date_EOM, dtype: datetime64[ns]"
      ]
     },
     "execution_count": 50,
     "metadata": {},
     "output_type": "execute_result"
    }
   ],
   "source": [
    "loans[loans.id_loan==1167].originated_since_date_EOM"
   ]
  },
  {
   "cell_type": "code",
   "execution_count": 47,
   "metadata": {
    "collapsed": true
   },
   "outputs": [],
   "source": [
    "irreg_payments_sql=\"select * from backend.loan_payment_plan where plan ~* 'IRREGULAR' and dwh_country_id=1\"\n",
    "# problem with like '%irregular%#"
   ]
  },
  {
   "cell_type": "code",
   "execution_count": 48,
   "metadata": {
    "collapsed": false
   },
   "outputs": [],
   "source": [
    "irreg_payments=psql.read_sql_query(irreg_payments_sql,conn)"
   ]
  },
  {
   "cell_type": "code",
   "execution_count": 51,
   "metadata": {
    "collapsed": false
   },
   "outputs": [
    {
     "data": {
      "text/plain": [
       "Index([u'dwh_country_id', u'id_loan_payment_plan', u'fk_user', u'fk_loan', u'interval_payment', u'last_interval_payment', u'plan', u'created_at', u'updated_at', u'dwh_created', u'dwh_last_modified', u'country', u'dwh_row_hash'], dtype='object')"
      ]
     },
     "execution_count": 51,
     "metadata": {},
     "output_type": "execute_result"
    }
   ],
   "source": [
    "irreg_payments.columns"
   ]
  },
  {
   "cell_type": "code",
   "execution_count": 49,
   "metadata": {
    "collapsed": false
   },
   "outputs": [
    {
     "data": {
      "text/plain": [
       "[u'dwh_country_id',\n",
       " u'id_loan_payment_plan',\n",
       " u'fk_user',\n",
       " u'fk_loan',\n",
       " u'interval_payment',\n",
       " u'last_interval_payment',\n",
       " u'created_at',\n",
       " u'updated_at',\n",
       " u'dwh_created',\n",
       " u'dwh_last_modified',\n",
       " u'country',\n",
       " u'dwh_row_hash']"
      ]
     },
     "execution_count": 49,
     "metadata": {},
     "output_type": "execute_result"
    }
   ],
   "source": [
    "cols=irreg_payments.columns.values.tolist()\n",
    "cols.remove('plan')\n",
    "cols\n"
   ]
  },
  {
   "cell_type": "code",
   "execution_count": 50,
   "metadata": {
    "collapsed": false
   },
   "outputs": [],
   "source": [
    "li=[]\n",
    "cols=irreg_payments.columns.values.tolist()\n",
    "cols.remove('plan')\n",
    "\n",
    "for i in range(irreg_payments.shape[0]):\n",
    "    z=pd.read_json(irreg_payments.plan[i])\n",
    "    for c in cols:\n",
    "        z.loc[:,c]=irreg_payments.iloc[i][c]\n",
    "    li.append(z)\n",
    "\n",
    "irreg_p=pd.concat(li)"
   ]
  },
  {
   "cell_type": "code",
   "execution_count": 81,
   "metadata": {
    "collapsed": false
   },
   "outputs": [
    {
     "data": {
      "text/plain": [
       "array([ 20,  28,  51, 241,  65,  92, 264, 360, 135, 324, 334, 270,  37,\n",
       "       354, 253, 579, 311, 168,  58, 232, 379,  41, 366, 422, 764, 860,\n",
       "        77,  30, 498,  76,  71, 378, 507, 419, 552, 526, 580, 349,  27,\n",
       "        19,  98, 553, 557, 630, 817, 400, 480, 256, 267, 528, 269, 735,\n",
       "        33, 394, 571, 904, 138, 132, 408, 323,  94], dtype=int64)"
      ]
     },
     "execution_count": 81,
     "metadata": {},
     "output_type": "execute_result"
    }
   ],
   "source": [
    "irreg_p.fk_loan.unique()"
   ]
  },
  {
   "cell_type": "code",
   "execution_count": 23,
   "metadata": {
    "collapsed": true
   },
   "outputs": [],
   "source": [
    "actual_payments['cum_diff']=actual_payments.expected_amount_cum-actual_payments.actual_amount_cum\n",
    "actual_payments_combined['cum_diff']=actual_payments_combined.expected_amount_cum-actual_payments_combined.actual_amount_cum"
   ]
  },
  {
   "cell_type": "code",
   "execution_count": 177,
   "metadata": {
    "collapsed": false
   },
   "outputs": [
    {
     "data": {
      "text/html": [
       "<div style=\"max-height:1000px;max-width:1500px;overflow:auto;\">\n",
       "<table border=\"1\" class=\"dataframe\">\n",
       "  <thead>\n",
       "    <tr style=\"text-align: right;\">\n",
       "      <th></th>\n",
       "      <th>date</th>\n",
       "      <th>fk_user_investor</th>\n",
       "      <th>id_loan</th>\n",
       "      <th>payment</th>\n",
       "      <th>dcf</th>\n",
       "      <th>rating_base</th>\n",
       "      <th>rating_switch</th>\n",
       "      <th>payback_state</th>\n",
       "    </tr>\n",
       "  </thead>\n",
       "  <tbody>\n",
       "    <tr>\n",
       "      <th>75817</th>\n",
       "      <td>2014-09-30</td>\n",
       "      <td>25151</td>\n",
       "      <td>304</td>\n",
       "      <td>11.9300</td>\n",
       "      <td>0.501370</td>\n",
       "      <td>C</td>\n",
       "      <td>2</td>\n",
       "      <td>payback_pending</td>\n",
       "    </tr>\n",
       "    <tr>\n",
       "      <th>75818</th>\n",
       "      <td>2014-10-31</td>\n",
       "      <td>25151</td>\n",
       "      <td>304</td>\n",
       "      <td>50.5000</td>\n",
       "      <td>0.416438</td>\n",
       "      <td>C</td>\n",
       "      <td>2</td>\n",
       "      <td>payback_pending</td>\n",
       "    </tr>\n",
       "    <tr>\n",
       "      <th>75819</th>\n",
       "      <td>2014-11-30</td>\n",
       "      <td>25151</td>\n",
       "      <td>304</td>\n",
       "      <td>50.5000</td>\n",
       "      <td>0.334247</td>\n",
       "      <td>C</td>\n",
       "      <td>2</td>\n",
       "      <td>payback_pending</td>\n",
       "    </tr>\n",
       "    <tr>\n",
       "      <th>75820</th>\n",
       "      <td>2014-12-31</td>\n",
       "      <td>25151</td>\n",
       "      <td>304</td>\n",
       "      <td>0.0000</td>\n",
       "      <td>0.249315</td>\n",
       "      <td>C</td>\n",
       "      <td>2</td>\n",
       "      <td>payback_pending</td>\n",
       "    </tr>\n",
       "    <tr>\n",
       "      <th>75821</th>\n",
       "      <td>2015-01-31</td>\n",
       "      <td>25151</td>\n",
       "      <td>304</td>\n",
       "      <td>101.0000</td>\n",
       "      <td>0.164384</td>\n",
       "      <td>C</td>\n",
       "      <td>2</td>\n",
       "      <td>payback_pending</td>\n",
       "    </tr>\n",
       "    <tr>\n",
       "      <th>75822</th>\n",
       "      <td>2015-02-28</td>\n",
       "      <td>25151</td>\n",
       "      <td>304</td>\n",
       "      <td>50.5000</td>\n",
       "      <td>0.087671</td>\n",
       "      <td>C</td>\n",
       "      <td>2</td>\n",
       "      <td>payback_pending</td>\n",
       "    </tr>\n",
       "    <tr>\n",
       "      <th>75823</th>\n",
       "      <td>2015-03-31</td>\n",
       "      <td>25151</td>\n",
       "      <td>304</td>\n",
       "      <td>51.0200</td>\n",
       "      <td>0.002740</td>\n",
       "      <td>C</td>\n",
       "      <td>2</td>\n",
       "      <td>payback_pending</td>\n",
       "    </tr>\n",
       "    <tr>\n",
       "      <th>75824</th>\n",
       "      <td>2015-04-30</td>\n",
       "      <td>25151</td>\n",
       "      <td>304</td>\n",
       "      <td>51.0200</td>\n",
       "      <td>-0.079452</td>\n",
       "      <td>C</td>\n",
       "      <td>2</td>\n",
       "      <td>payback_pending</td>\n",
       "    </tr>\n",
       "    <tr>\n",
       "      <th>146717</th>\n",
       "      <td>2015-04-30</td>\n",
       "      <td>25151</td>\n",
       "      <td>304</td>\n",
       "      <td>2256.8057</td>\n",
       "      <td>-0.079452</td>\n",
       "      <td>C</td>\n",
       "      <td>2</td>\n",
       "      <td>payback_pending</td>\n",
       "    </tr>\n",
       "    <tr>\n",
       "      <th>172243</th>\n",
       "      <td>2014-08-08</td>\n",
       "      <td>25151</td>\n",
       "      <td>304</td>\n",
       "      <td>-2500.0000</td>\n",
       "      <td>0.646575</td>\n",
       "      <td>C</td>\n",
       "      <td>2</td>\n",
       "      <td>payback_pending</td>\n",
       "    </tr>\n",
       "  </tbody>\n",
       "</table>\n",
       "</div>"
      ],
      "text/plain": [
       "             date  fk_user_investor  id_loan    payment       dcf rating_base  \\\n",
       "75817  2014-09-30             25151      304    11.9300  0.501370           C   \n",
       "75818  2014-10-31             25151      304    50.5000  0.416438           C   \n",
       "75819  2014-11-30             25151      304    50.5000  0.334247           C   \n",
       "75820  2014-12-31             25151      304     0.0000  0.249315           C   \n",
       "75821  2015-01-31             25151      304   101.0000  0.164384           C   \n",
       "75822  2015-02-28             25151      304    50.5000  0.087671           C   \n",
       "75823  2015-03-31             25151      304    51.0200  0.002740           C   \n",
       "75824  2015-04-30             25151      304    51.0200 -0.079452           C   \n",
       "146717 2015-04-30             25151      304  2256.8057 -0.079452           C   \n",
       "172243 2014-08-08             25151      304 -2500.0000  0.646575           C   \n",
       "\n",
       "        rating_switch    payback_state  \n",
       "75817               2  payback_pending  \n",
       "75818               2  payback_pending  \n",
       "75819               2  payback_pending  \n",
       "75820               2  payback_pending  \n",
       "75821               2  payback_pending  \n",
       "75822               2  payback_pending  \n",
       "75823               2  payback_pending  \n",
       "75824               2  payback_pending  \n",
       "146717              2  payback_pending  \n",
       "172243              2  payback_pending  "
      ]
     },
     "execution_count": 177,
     "metadata": {},
     "output_type": "execute_result"
    }
   ],
   "source": [
    "cashflows_act_investor=generate_cashflows_act_investor(actual_payments_combined,loan_fundings1,'2015-04-30')"
   ]
  },
  {
   "cell_type": "code",
   "execution_count": 332,
   "metadata": {
    "collapsed": false
   },
   "outputs": [],
   "source": [
    "actual_payments[abs(actual_payments.cum_diff)>0.01].to_clipboard()"
   ]
  },
  {
   "cell_type": "code",
   "execution_count": 146,
   "metadata": {
    "collapsed": false
   },
   "outputs": [
    {
     "data": {
      "text/plain": [
       "(7194, 26)"
      ]
     },
     "execution_count": 146,
     "metadata": {},
     "output_type": "execute_result"
    }
   ],
   "source": [
    "actual_payments.shape"
   ]
  },
  {
   "cell_type": "code",
   "execution_count": 30,
   "metadata": {
    "collapsed": false
   },
   "outputs": [],
   "source": [
    "payment_plans.sort(['fk_loan','interval'],inplace=True) #prob unnecc? but need sorted for rebase"
   ]
  },
  {
   "cell_type": "code",
   "execution_count": 24,
   "metadata": {
    "collapsed": true
   },
   "outputs": [],
   "source": [
    "def recovery(amounts):\n",
    "    return 0.1425+(0.2613-.1425)*(amounts<=25000)+ (0.5814 - 0.2613)*(amounts<=5000)\n",
    "    # losses return 0.4186+(0.7387-.4186)*(amounts>5000)+ (0.8575 - 0.7387)*(amounts>25000)"
   ]
  },
  {
   "cell_type": "code",
   "execution_count": 25,
   "metadata": {
    "collapsed": false
   },
   "outputs": [],
   "source": [
    "payment_plans['recovery']=recovery(payment_plans.initial_principal_amount)\n",
    "payment_plans_combined['recovery']=recovery(payment_plans_combined.initial_principal_amount_investor)"
   ]
  },
  {
   "cell_type": "code",
   "execution_count": 26,
   "metadata": {
    "collapsed": true
   },
   "outputs": [],
   "source": [
    "latest_paid_interval=actual_payments.groupby('fk_loan')['interval'].max()\n",
    "latest_paid_interval.name='latest_paid_interval'\n",
    "latest_paid_interval_investor=actual_payments_combined.groupby(['fk_loan','fk_user_investor'])['interval'].max()\n",
    "latest_paid_interval_investor.name='latest_paid_interval'"
   ]
  },
  {
   "cell_type": "code",
   "execution_count": 27,
   "metadata": {
    "collapsed": true
   },
   "outputs": [],
   "source": [
    "arrears_dict={30:0.15,60:0.35, 90:0.67, 120:1,150:1,180:1,210:1,240:1,270:1}\n",
    "arrears_dict={30:0.195, 60: 0.44, 90:0.611, 120:1,150:1,180:1,210:1,240:1,270:1}\n",
    "arrears_dict={30:0.164, 60: 0.384, 90:0.55, 120:1,150:1,180:1,210:1,240:1,270:1}"
   ]
  },
  {
   "cell_type": "code",
   "execution_count": 31,
   "metadata": {
    "collapsed": false
   },
   "outputs": [],
   "source": [
    "loans1=make_pd_arrears( actual_payments, loans, latest_date='2015-04-30',arrears_dict=arrears_dict)"
   ]
  },
  {
   "cell_type": "code",
   "execution_count": 34,
   "metadata": {
    "collapsed": false
   },
   "outputs": [],
   "source": [
    "future_pd_30360_arrears=make_future_pd(payment_plans_combined, loans1, arrears_dict,True, '2015-04-30',latest_paid_interval_investor)\n",
    "future_pd_30360_origpd=make_future_pd(payment_plans_combined, loans1, arrears_dict,False,'2015-04-30',latest_paid_interval_investor)\n",
    "future_pd_30360_origpd_all=make_future_pd(payment_plans_combined, loans1, arrears_dict,False)"
   ]
  },
  {
   "cell_type": "code",
   "execution_count": 299,
   "metadata": {
    "collapsed": false
   },
   "outputs": [],
   "source": []
  },
  {
   "cell_type": "code",
   "execution_count": 36,
   "metadata": {
    "collapsed": false
   },
   "outputs": [],
   "source": [
    "cashflows_act_investor_EOM=generate_cashflows_act_investor(actual_payments_combined,loan_fundings1,'2015-04-30')\n",
    "cashflows_act_arrears_investor=generate_cashflows(future_pd_30360_arrears,loan_fundings1,'2015-04-30',  actual_payments_combined)\n",
    "cashflows_act_origpd_investor=generate_cashflows(future_pd_30360_origpd,loan_fundings1,'2015-04-30', actual_payments_combined)\n",
    "cashflows_plan_origpd_all=generate_cashflows(future_pd_30360_origpd_all,loan_fundings1)"
   ]
  },
  {
   "cell_type": "code",
   "execution_count": 37,
   "metadata": {
    "collapsed": false
   },
   "outputs": [],
   "source": [
    "cashflows_plan_investor_20150430=generate_cashflows_pp(payment_plans_combined,loan_fundings1,loans,'2015-04-30')\n",
    "cashflows_plan_investor_all=generate_cashflows_pp(payment_plans_combined,loan_fundings1,loans)"
   ]
  },
  {
   "cell_type": "code",
   "execution_count": 38,
   "metadata": {
    "collapsed": false
   },
   "outputs": [
    {
     "ename": "NameError",
     "evalue": "name 'cashflows_act_investor' is not defined",
     "output_type": "error",
     "traceback": [
      "\u001b[1;31m---------------------------------------------------------------------------\u001b[0m",
      "\u001b[1;31mNameError\u001b[0m                                 Traceback (most recent call last)",
      "\u001b[1;32m<ipython-input-38-56b6999d409e>\u001b[0m in \u001b[0;36m<module>\u001b[1;34m()\u001b[0m\n\u001b[1;32m----> 1\u001b[1;33m \u001b[0mloans_act_xirr\u001b[0m\u001b[1;33m=\u001b[0m\u001b[0mcashflows_act_investor\u001b[0m\u001b[1;33m.\u001b[0m\u001b[0mgroupby\u001b[0m\u001b[1;33m(\u001b[0m\u001b[1;34m'id_loan'\u001b[0m\u001b[1;33m)\u001b[0m\u001b[1;33m.\u001b[0m\u001b[0mapply\u001b[0m\u001b[1;33m(\u001b[0m\u001b[1;32mlambda\u001b[0m \u001b[0mx\u001b[0m\u001b[1;33m:\u001b[0m \u001b[0mxirr\u001b[0m\u001b[1;33m(\u001b[0m\u001b[0mx\u001b[0m\u001b[1;33m.\u001b[0m\u001b[0mpayment\u001b[0m\u001b[1;33m,\u001b[0m\u001b[0mx\u001b[0m\u001b[1;33m.\u001b[0m\u001b[0mdcf\u001b[0m\u001b[1;33m)\u001b[0m\u001b[1;33m)\u001b[0m\u001b[1;33m\u001b[0m\u001b[0m\n\u001b[0m",
      "\u001b[1;31mNameError\u001b[0m: name 'cashflows_act_investor' is not defined"
     ]
    }
   ],
   "source": [
    "loans_act_xirr=cashflows_act_investor.groupby('id_loan').apply(lambda x: xirr(x.payment,x.dcf))"
   ]
  },
  {
   "cell_type": "code",
   "execution_count": 39,
   "metadata": {
    "collapsed": false
   },
   "outputs": [],
   "source": [
    "loans_act_EOM_xirr=cashflows_act_investor_EOM.groupby('id_loan').apply(lambda x: xirr(x.payment,x.dcf))"
   ]
  },
  {
   "cell_type": "code",
   "execution_count": 40,
   "metadata": {
    "collapsed": true
   },
   "outputs": [],
   "source": [
    "loans_act_arrears_xirr=cashflows_act_arrears_investor.groupby('id_loan').apply(lambda x: xirr(x.payment,x.dcf))"
   ]
  },
  {
   "cell_type": "code",
   "execution_count": 41,
   "metadata": {
    "collapsed": true
   },
   "outputs": [],
   "source": [
    "loans_act_origpd_xirr=cashflows_act_origpd_investor.groupby('id_loan').apply(lambda x: xirr(x.payment,x.dcf))"
   ]
  },
  {
   "cell_type": "code",
   "execution_count": 42,
   "metadata": {
    "collapsed": true
   },
   "outputs": [],
   "source": [
    "loans_plan_origpd_xirr=cashflows_plan_origpd_all.groupby('id_loan').apply(lambda x: xirr(x.payment,x.dcf))"
   ]
  },
  {
   "cell_type": "code",
   "execution_count": 43,
   "metadata": {
    "collapsed": true
   },
   "outputs": [],
   "source": [
    "loans_plan_20150430_xirr=cashflows_plan_investor_20150430.groupby('id_loan').apply(lambda x: xirr(x.payment,x.dcf))"
   ]
  },
  {
   "cell_type": "code",
   "execution_count": 44,
   "metadata": {
    "collapsed": true
   },
   "outputs": [],
   "source": [
    "loans_plan_all_xirr=cashflows_plan_investor_all.groupby('id_loan').apply(lambda x: xirr(x.payment,x.dcf))"
   ]
  },
  {
   "cell_type": "code",
   "execution_count": 46,
   "metadata": {
    "collapsed": false
   },
   "outputs": [],
   "source": [
    "#loans_xirr=pd.DataFrame({'plan':loan_pp_xirr,'origpd':loans_fut_xirr_origpd, 'inarr':loans_fut_xirr_arrears})\n",
    "loans_xirr=pd.DataFrame({'plan_all':loans_plan_all_xirr,'plan_20150430':loans_plan_20150430_xirr,\\\n",
    "                         'act_EOM':loans_act_EOM_xirr,\n",
    "                         'act_origpd':loans_act_origpd_xirr, \n",
    "                         'act_arrears' :loans_act_arrears_xirr,\n",
    "                        'plan_origpd': loans_plan_origpd_xirr})\n",
    "loans_xirr=loans_xirr.merge(loans1[['id_loan','originated_since_date','principal_amount','payback_state','pd','bucket_pd','rating','rating_switch']],\\\n",
    "                            left_index=True,right_on='id_loan')\n",
    "loans_xirr=loans_xirr.reindex(columns=['id_loan','originated_since_date','principal_amount','payback_state',\\\n",
    "                                       'pd','bucket_pd','rating','rating_switch', 'plan_all','plan_20150430','act_EOM', 'plan_origpd', \\\n",
    "                                      'act_origpd', 'act_arrears', 'act'])\n",
    "loans_xirr.to_clipboard(index=False)"
   ]
  },
  {
   "cell_type": "code",
   "execution_count": 295,
   "metadata": {
    "collapsed": true
   },
   "outputs": [],
   "source": [
    "def gen_rating(cashflows, orig_date_str):\n",
    "    orig_date=datetime.datetime.strptime(orig_date_str,'%Y-%m-%d').date()\n",
    "    return cashflows[(cashflows.payback_state!='payback_complete') & (cashflows.originated_since_date<orig_date)]\\\n",
    "        .groupby(['rating_switch','rating_base']).apply(lambda x: xirr(x.payment,x.dcf))"
   ]
  },
  {
   "cell_type": "code",
   "execution_count": 303,
   "metadata": {
    "collapsed": false,
    "scrolled": true
   },
   "outputs": [],
   "source": [
    "rating_switch_plan_20150430_xirr=gen_rating(cashflows_plan_investor_20150430, '2015-02-28')\n",
    "rating_switch_plan_all_xirr=gen_rating(cashflows_plan_investor_all, '2015-02-28')\n",
    "rating_switch_act_EOM_xirr=gen_rating(cashflows_act_investor_EOM, '2015-02-28')\n",
    "rating_switch_act_xirr=gen_rating(cashflows_act_investor, '2015-02-28')\n",
    "\n"
   ]
  },
  {
   "cell_type": "code",
   "execution_count": 304,
   "metadata": {
    "collapsed": false
   },
   "outputs": [
    {
     "data": {
      "text/html": [
       "<div style=\"max-height:1000px;max-width:1500px;overflow:auto;\">\n",
       "<table border=\"1\" class=\"dataframe\">\n",
       "  <thead>\n",
       "    <tr style=\"text-align: right;\">\n",
       "      <th></th>\n",
       "      <th></th>\n",
       "      <th>act</th>\n",
       "      <th>act_EOM</th>\n",
       "      <th>plan_20150430</th>\n",
       "      <th>plan_all</th>\n",
       "    </tr>\n",
       "    <tr>\n",
       "      <th>rating_switch</th>\n",
       "      <th>rating_base</th>\n",
       "      <th></th>\n",
       "      <th></th>\n",
       "      <th></th>\n",
       "      <th></th>\n",
       "    </tr>\n",
       "  </thead>\n",
       "  <tbody>\n",
       "    <tr>\n",
       "      <th rowspan=\"5\" valign=\"top\">1</th>\n",
       "      <th>A</th>\n",
       "      <td>2.364152</td>\n",
       "      <td>2.364152</td>\n",
       "      <td>4.738477</td>\n",
       "      <td>4.815076</td>\n",
       "    </tr>\n",
       "    <tr>\n",
       "      <th>B</th>\n",
       "      <td>5.279308</td>\n",
       "      <td>5.279308</td>\n",
       "      <td>5.476586</td>\n",
       "      <td>5.491889</td>\n",
       "    </tr>\n",
       "    <tr>\n",
       "      <th>C</th>\n",
       "      <td>1.967525</td>\n",
       "      <td>1.967525</td>\n",
       "      <td>7.251619</td>\n",
       "      <td>7.306934</td>\n",
       "    </tr>\n",
       "    <tr>\n",
       "      <th>D</th>\n",
       "      <td>4.419282</td>\n",
       "      <td>4.419282</td>\n",
       "      <td>10.499537</td>\n",
       "      <td>10.534176</td>\n",
       "    </tr>\n",
       "    <tr>\n",
       "      <th>E</th>\n",
       "      <td>13.400911</td>\n",
       "      <td>13.400911</td>\n",
       "      <td>13.672518</td>\n",
       "      <td>13.777656</td>\n",
       "    </tr>\n",
       "    <tr>\n",
       "      <th rowspan=\"5\" valign=\"top\">2</th>\n",
       "      <th>A</th>\n",
       "      <td>3.744125</td>\n",
       "      <td>3.744125</td>\n",
       "      <td>3.745004</td>\n",
       "      <td>3.886309</td>\n",
       "    </tr>\n",
       "    <tr>\n",
       "      <th>B</th>\n",
       "      <td>4.888032</td>\n",
       "      <td>4.888032</td>\n",
       "      <td>4.923645</td>\n",
       "      <td>5.108540</td>\n",
       "    </tr>\n",
       "    <tr>\n",
       "      <th>C</th>\n",
       "      <td>8.451150</td>\n",
       "      <td>8.451150</td>\n",
       "      <td>8.819369</td>\n",
       "      <td>9.104919</td>\n",
       "    </tr>\n",
       "    <tr>\n",
       "      <th>D</th>\n",
       "      <td>11.636838</td>\n",
       "      <td>11.636838</td>\n",
       "      <td>12.578647</td>\n",
       "      <td>12.846123</td>\n",
       "    </tr>\n",
       "    <tr>\n",
       "      <th>E</th>\n",
       "      <td>12.396607</td>\n",
       "      <td>12.396607</td>\n",
       "      <td>12.520218</td>\n",
       "      <td>12.831571</td>\n",
       "    </tr>\n",
       "    <tr>\n",
       "      <th rowspan=\"5\" valign=\"top\">3</th>\n",
       "      <th>A</th>\n",
       "      <td>3.176623</td>\n",
       "      <td>3.176623</td>\n",
       "      <td>3.185562</td>\n",
       "      <td>3.181114</td>\n",
       "    </tr>\n",
       "    <tr>\n",
       "      <th>B</th>\n",
       "      <td>4.333357</td>\n",
       "      <td>4.333357</td>\n",
       "      <td>4.381635</td>\n",
       "      <td>4.422096</td>\n",
       "    </tr>\n",
       "    <tr>\n",
       "      <th>C</th>\n",
       "      <td>6.987783</td>\n",
       "      <td>6.987783</td>\n",
       "      <td>7.095121</td>\n",
       "      <td>6.900172</td>\n",
       "    </tr>\n",
       "    <tr>\n",
       "      <th>D</th>\n",
       "      <td>9.985483</td>\n",
       "      <td>9.985483</td>\n",
       "      <td>10.573016</td>\n",
       "      <td>10.280560</td>\n",
       "    </tr>\n",
       "    <tr>\n",
       "      <th>E</th>\n",
       "      <td>12.270069</td>\n",
       "      <td>12.270069</td>\n",
       "      <td>13.072759</td>\n",
       "      <td>13.253357</td>\n",
       "    </tr>\n",
       "  </tbody>\n",
       "</table>\n",
       "</div>"
      ],
      "text/plain": [
       "                                 act    act_EOM  plan_20150430   plan_all\n",
       "rating_switch rating_base                                                \n",
       "1             A             2.364152   2.364152       4.738477   4.815076\n",
       "              B             5.279308   5.279308       5.476586   5.491889\n",
       "              C             1.967525   1.967525       7.251619   7.306934\n",
       "              D             4.419282   4.419282      10.499537  10.534176\n",
       "              E            13.400911  13.400911      13.672518  13.777656\n",
       "2             A             3.744125   3.744125       3.745004   3.886309\n",
       "              B             4.888032   4.888032       4.923645   5.108540\n",
       "              C             8.451150   8.451150       8.819369   9.104919\n",
       "              D            11.636838  11.636838      12.578647  12.846123\n",
       "              E            12.396607  12.396607      12.520218  12.831571\n",
       "3             A             3.176623   3.176623       3.185562   3.181114\n",
       "              B             4.333357   4.333357       4.381635   4.422096\n",
       "              C             6.987783   6.987783       7.095121   6.900172\n",
       "              D             9.985483   9.985483      10.573016  10.280560\n",
       "              E            12.270069  12.270069      13.072759  13.253357"
      ]
     },
     "execution_count": 304,
     "metadata": {},
     "output_type": "execute_result"
    }
   ],
   "source": [
    "rating_switch_xirr=pd.DataFrame({'plan_all':rating_switch_plan_all_xirr,\\\n",
    "                                'plan_20150430':rating_switch_plan_20150430_xirr,\\\n",
    "                                'act_EOM':rating_switch_act_EOM_xirr,\\\n",
    "                                'act':rating_switch_act_xirr})\n",
    "rating_switch_xirr*100\n",
    "                                "
   ]
  },
  {
   "cell_type": "code",
   "execution_count": 122,
   "metadata": {
    "collapsed": false
   },
   "outputs": [
    {
     "data": {
      "text/html": [
       "<div style=\"max-height:1000px;max-width:1500px;overflow:auto;\">\n",
       "<table border=\"1\" class=\"dataframe\">\n",
       "  <thead>\n",
       "    <tr style=\"text-align: right;\">\n",
       "      <th></th>\n",
       "      <th>bin</th>\n",
       "      <th>count</th>\n",
       "    </tr>\n",
       "  </thead>\n",
       "  <tbody>\n",
       "    <tr>\n",
       "      <th>0 </th>\n",
       "      <td>-0.50</td>\n",
       "      <td> 0</td>\n",
       "    </tr>\n",
       "    <tr>\n",
       "      <th>1 </th>\n",
       "      <td>-0.49</td>\n",
       "      <td> 0</td>\n",
       "    </tr>\n",
       "    <tr>\n",
       "      <th>2 </th>\n",
       "      <td>-0.48</td>\n",
       "      <td> 0</td>\n",
       "    </tr>\n",
       "    <tr>\n",
       "      <th>3 </th>\n",
       "      <td>-0.47</td>\n",
       "      <td> 0</td>\n",
       "    </tr>\n",
       "    <tr>\n",
       "      <th>4 </th>\n",
       "      <td>-0.46</td>\n",
       "      <td> 0</td>\n",
       "    </tr>\n",
       "    <tr>\n",
       "      <th>5 </th>\n",
       "      <td>-0.45</td>\n",
       "      <td> 0</td>\n",
       "    </tr>\n",
       "    <tr>\n",
       "      <th>6 </th>\n",
       "      <td>-0.44</td>\n",
       "      <td> 0</td>\n",
       "    </tr>\n",
       "    <tr>\n",
       "      <th>7 </th>\n",
       "      <td>-0.43</td>\n",
       "      <td> 0</td>\n",
       "    </tr>\n",
       "    <tr>\n",
       "      <th>8 </th>\n",
       "      <td>-0.42</td>\n",
       "      <td> 0</td>\n",
       "    </tr>\n",
       "    <tr>\n",
       "      <th>9 </th>\n",
       "      <td>-0.41</td>\n",
       "      <td> 0</td>\n",
       "    </tr>\n",
       "    <tr>\n",
       "      <th>10</th>\n",
       "      <td>-0.40</td>\n",
       "      <td> 0</td>\n",
       "    </tr>\n",
       "    <tr>\n",
       "      <th>11</th>\n",
       "      <td>-0.39</td>\n",
       "      <td> 0</td>\n",
       "    </tr>\n",
       "    <tr>\n",
       "      <th>12</th>\n",
       "      <td>-0.38</td>\n",
       "      <td> 1</td>\n",
       "    </tr>\n",
       "    <tr>\n",
       "      <th>13</th>\n",
       "      <td>-0.37</td>\n",
       "      <td> 0</td>\n",
       "    </tr>\n",
       "    <tr>\n",
       "      <th>14</th>\n",
       "      <td>-0.36</td>\n",
       "      <td> 0</td>\n",
       "    </tr>\n",
       "    <tr>\n",
       "      <th>15</th>\n",
       "      <td>-0.35</td>\n",
       "      <td> 0</td>\n",
       "    </tr>\n",
       "    <tr>\n",
       "      <th>16</th>\n",
       "      <td>-0.34</td>\n",
       "      <td> 0</td>\n",
       "    </tr>\n",
       "    <tr>\n",
       "      <th>17</th>\n",
       "      <td>-0.33</td>\n",
       "      <td> 1</td>\n",
       "    </tr>\n",
       "    <tr>\n",
       "      <th>18</th>\n",
       "      <td>-0.32</td>\n",
       "      <td> 0</td>\n",
       "    </tr>\n",
       "    <tr>\n",
       "      <th>19</th>\n",
       "      <td>-0.31</td>\n",
       "      <td> 0</td>\n",
       "    </tr>\n",
       "    <tr>\n",
       "      <th>20</th>\n",
       "      <td>-0.30</td>\n",
       "      <td> 0</td>\n",
       "    </tr>\n",
       "    <tr>\n",
       "      <th>21</th>\n",
       "      <td>-0.29</td>\n",
       "      <td> 0</td>\n",
       "    </tr>\n",
       "    <tr>\n",
       "      <th>22</th>\n",
       "      <td>-0.28</td>\n",
       "      <td> 0</td>\n",
       "    </tr>\n",
       "    <tr>\n",
       "      <th>23</th>\n",
       "      <td>-0.27</td>\n",
       "      <td> 0</td>\n",
       "    </tr>\n",
       "    <tr>\n",
       "      <th>24</th>\n",
       "      <td>-0.26</td>\n",
       "      <td> 0</td>\n",
       "    </tr>\n",
       "    <tr>\n",
       "      <th>25</th>\n",
       "      <td>-0.25</td>\n",
       "      <td> 0</td>\n",
       "    </tr>\n",
       "    <tr>\n",
       "      <th>26</th>\n",
       "      <td>-0.24</td>\n",
       "      <td> 0</td>\n",
       "    </tr>\n",
       "    <tr>\n",
       "      <th>27</th>\n",
       "      <td>-0.23</td>\n",
       "      <td> 0</td>\n",
       "    </tr>\n",
       "    <tr>\n",
       "      <th>28</th>\n",
       "      <td>-0.22</td>\n",
       "      <td> 0</td>\n",
       "    </tr>\n",
       "    <tr>\n",
       "      <th>29</th>\n",
       "      <td>-0.21</td>\n",
       "      <td> 0</td>\n",
       "    </tr>\n",
       "    <tr>\n",
       "      <th>...</th>\n",
       "      <td>...</td>\n",
       "      <td>...</td>\n",
       "    </tr>\n",
       "    <tr>\n",
       "      <th>70</th>\n",
       "      <td> 0.20</td>\n",
       "      <td> 0</td>\n",
       "    </tr>\n",
       "    <tr>\n",
       "      <th>71</th>\n",
       "      <td> 0.21</td>\n",
       "      <td> 0</td>\n",
       "    </tr>\n",
       "    <tr>\n",
       "      <th>72</th>\n",
       "      <td> 0.22</td>\n",
       "      <td> 0</td>\n",
       "    </tr>\n",
       "    <tr>\n",
       "      <th>73</th>\n",
       "      <td> 0.23</td>\n",
       "      <td> 0</td>\n",
       "    </tr>\n",
       "    <tr>\n",
       "      <th>74</th>\n",
       "      <td> 0.24</td>\n",
       "      <td> 0</td>\n",
       "    </tr>\n",
       "    <tr>\n",
       "      <th>75</th>\n",
       "      <td> 0.25</td>\n",
       "      <td> 0</td>\n",
       "    </tr>\n",
       "    <tr>\n",
       "      <th>76</th>\n",
       "      <td> 0.26</td>\n",
       "      <td> 0</td>\n",
       "    </tr>\n",
       "    <tr>\n",
       "      <th>77</th>\n",
       "      <td> 0.27</td>\n",
       "      <td> 0</td>\n",
       "    </tr>\n",
       "    <tr>\n",
       "      <th>78</th>\n",
       "      <td> 0.28</td>\n",
       "      <td> 0</td>\n",
       "    </tr>\n",
       "    <tr>\n",
       "      <th>79</th>\n",
       "      <td> 0.29</td>\n",
       "      <td> 0</td>\n",
       "    </tr>\n",
       "    <tr>\n",
       "      <th>80</th>\n",
       "      <td> 0.30</td>\n",
       "      <td> 0</td>\n",
       "    </tr>\n",
       "    <tr>\n",
       "      <th>81</th>\n",
       "      <td> 0.31</td>\n",
       "      <td> 0</td>\n",
       "    </tr>\n",
       "    <tr>\n",
       "      <th>82</th>\n",
       "      <td> 0.32</td>\n",
       "      <td> 0</td>\n",
       "    </tr>\n",
       "    <tr>\n",
       "      <th>83</th>\n",
       "      <td> 0.33</td>\n",
       "      <td> 0</td>\n",
       "    </tr>\n",
       "    <tr>\n",
       "      <th>84</th>\n",
       "      <td> 0.34</td>\n",
       "      <td> 0</td>\n",
       "    </tr>\n",
       "    <tr>\n",
       "      <th>85</th>\n",
       "      <td> 0.35</td>\n",
       "      <td> 0</td>\n",
       "    </tr>\n",
       "    <tr>\n",
       "      <th>86</th>\n",
       "      <td> 0.36</td>\n",
       "      <td> 0</td>\n",
       "    </tr>\n",
       "    <tr>\n",
       "      <th>87</th>\n",
       "      <td> 0.37</td>\n",
       "      <td> 0</td>\n",
       "    </tr>\n",
       "    <tr>\n",
       "      <th>88</th>\n",
       "      <td> 0.38</td>\n",
       "      <td> 0</td>\n",
       "    </tr>\n",
       "    <tr>\n",
       "      <th>89</th>\n",
       "      <td> 0.39</td>\n",
       "      <td> 0</td>\n",
       "    </tr>\n",
       "    <tr>\n",
       "      <th>90</th>\n",
       "      <td> 0.40</td>\n",
       "      <td> 0</td>\n",
       "    </tr>\n",
       "    <tr>\n",
       "      <th>91</th>\n",
       "      <td> 0.41</td>\n",
       "      <td> 0</td>\n",
       "    </tr>\n",
       "    <tr>\n",
       "      <th>92</th>\n",
       "      <td> 0.42</td>\n",
       "      <td> 0</td>\n",
       "    </tr>\n",
       "    <tr>\n",
       "      <th>93</th>\n",
       "      <td> 0.43</td>\n",
       "      <td> 0</td>\n",
       "    </tr>\n",
       "    <tr>\n",
       "      <th>94</th>\n",
       "      <td> 0.44</td>\n",
       "      <td> 0</td>\n",
       "    </tr>\n",
       "    <tr>\n",
       "      <th>95</th>\n",
       "      <td> 0.45</td>\n",
       "      <td> 0</td>\n",
       "    </tr>\n",
       "    <tr>\n",
       "      <th>96</th>\n",
       "      <td> 0.46</td>\n",
       "      <td> 0</td>\n",
       "    </tr>\n",
       "    <tr>\n",
       "      <th>97</th>\n",
       "      <td> 0.47</td>\n",
       "      <td> 0</td>\n",
       "    </tr>\n",
       "    <tr>\n",
       "      <th>98</th>\n",
       "      <td> 0.48</td>\n",
       "      <td> 0</td>\n",
       "    </tr>\n",
       "    <tr>\n",
       "      <th>99</th>\n",
       "      <td> 0.49</td>\n",
       "      <td> 0</td>\n",
       "    </tr>\n",
       "  </tbody>\n",
       "</table>\n",
       "<p>100 rows × 2 columns</p>\n",
       "</div>"
      ],
      "text/plain": [
       "     bin  count\n",
       "0  -0.50      0\n",
       "1  -0.49      0\n",
       "2  -0.48      0\n",
       "3  -0.47      0\n",
       "4  -0.46      0\n",
       "5  -0.45      0\n",
       "6  -0.44      0\n",
       "7  -0.43      0\n",
       "8  -0.42      0\n",
       "9  -0.41      0\n",
       "10 -0.40      0\n",
       "11 -0.39      0\n",
       "12 -0.38      1\n",
       "13 -0.37      0\n",
       "14 -0.36      0\n",
       "15 -0.35      0\n",
       "16 -0.34      0\n",
       "17 -0.33      1\n",
       "18 -0.32      0\n",
       "19 -0.31      0\n",
       "20 -0.30      0\n",
       "21 -0.29      0\n",
       "22 -0.28      0\n",
       "23 -0.27      0\n",
       "24 -0.26      0\n",
       "25 -0.25      0\n",
       "26 -0.24      0\n",
       "27 -0.23      0\n",
       "28 -0.22      0\n",
       "29 -0.21      0\n",
       "..   ...    ...\n",
       "70  0.20      0\n",
       "71  0.21      0\n",
       "72  0.22      0\n",
       "73  0.23      0\n",
       "74  0.24      0\n",
       "75  0.25      0\n",
       "76  0.26      0\n",
       "77  0.27      0\n",
       "78  0.28      0\n",
       "79  0.29      0\n",
       "80  0.30      0\n",
       "81  0.31      0\n",
       "82  0.32      0\n",
       "83  0.33      0\n",
       "84  0.34      0\n",
       "85  0.35      0\n",
       "86  0.36      0\n",
       "87  0.37      0\n",
       "88  0.38      0\n",
       "89  0.39      0\n",
       "90  0.40      0\n",
       "91  0.41      0\n",
       "92  0.42      0\n",
       "93  0.43      0\n",
       "94  0.44      0\n",
       "95  0.45      0\n",
       "96  0.46      0\n",
       "97  0.47      0\n",
       "98  0.48      0\n",
       "99  0.49      0\n",
       "\n",
       "[100 rows x 2 columns]"
      ]
     },
     "execution_count": 122,
     "metadata": {},
     "output_type": "execute_result"
    }
   ],
   "source": [
    "cnt,bns=np.histogram(investor_fut_bucket_30360_xirr_orig, bins=np.linspace(-.5,.5,101))\n",
    "a=pd.DataFrame({'bin':bns[:-1], 'count':cnt})\n",
    "a.to_clipboard()\n",
    "a"
   ]
  },
  {
   "cell_type": "code",
   "execution_count": 187,
   "metadata": {
    "collapsed": false,
    "scrolled": true
   },
   "outputs": [
    {
     "data": {
      "text/plain": [
       "<matplotlib.axes._subplots.AxesSubplot at 0x19f93160>"
      ]
     },
     "execution_count": 187,
     "metadata": {},
     "output_type": "execute_result"
    },
    {
     "data": {
      "image/png": "[encoded data removed]",
      "text/plain": [
       "<matplotlib.figure.Figure at 0x1a18d4a8>"
      ]
     },
     "metadata": {},
     "output_type": "display_data"
    }
   ],
   "source": [
    "investor_fut_bucket_30360_xirr_orig.hist(bins=np.linspace(-.5,.5,110))"
   ]
  },
  {
   "cell_type": "code",
   "execution_count": 205,
   "metadata": {
    "collapsed": false
   },
   "outputs": [],
   "source": [
    "inv_count,inv_bin=np.histogram(investor_fut_bucket_30360_xirr_orig,bins=np.linspace(-.5,.5,101))\n"
   ]
  },
  {
   "cell_type": "code",
   "execution_count": 240,
   "metadata": {
    "collapsed": false
   },
   "outputs": [
    {
     "data": {
      "text/html": [
       "<div style=\"max-height:1000px;max-width:1500px;overflow:auto;\">\n",
       "<table border=\"1\" class=\"dataframe\">\n",
       "  <thead>\n",
       "    <tr style=\"text-align: right;\">\n",
       "      <th></th>\n",
       "      <th>date</th>\n",
       "      <th>fk_user_investor</th>\n",
       "      <th>id_loan</th>\n",
       "      <th>payment</th>\n",
       "      <th>dcf</th>\n",
       "      <th>rating_base</th>\n",
       "      <th>rating_switch</th>\n",
       "      <th>payback_state</th>\n",
       "    </tr>\n",
       "  </thead>\n",
       "  <tbody>\n",
       "    <tr>\n",
       "      <th>139859</th>\n",
       "      <td>2015-04-30</td>\n",
       "      <td>34180</td>\n",
       "      <td>1545</td>\n",
       "      <td>13.14</td>\n",
       "      <td>-0.079452</td>\n",
       "      <td>E</td>\n",
       "      <td>3</td>\n",
       "      <td>payback_received</td>\n",
       "    </tr>\n",
       "    <tr>\n",
       "      <th>164594</th>\n",
       "      <td>2015-04-30</td>\n",
       "      <td>34180</td>\n",
       "      <td>1545</td>\n",
       "      <td>5000.00</td>\n",
       "      <td>-0.079452</td>\n",
       "      <td>E</td>\n",
       "      <td>3</td>\n",
       "      <td>payback_received</td>\n",
       "    </tr>\n",
       "    <tr>\n",
       "      <th>192195</th>\n",
       "      <td>2015-04-07</td>\n",
       "      <td>34180</td>\n",
       "      <td>1545</td>\n",
       "      <td>-5000.00</td>\n",
       "      <td>-0.016438</td>\n",
       "      <td>E</td>\n",
       "      <td>3</td>\n",
       "      <td>payback_received</td>\n",
       "    </tr>\n",
       "  </tbody>\n",
       "</table>\n",
       "</div>"
      ],
      "text/plain": [
       "             date  fk_user_investor  id_loan  payment       dcf rating_base  \\\n",
       "139859 2015-04-30             34180     1545    13.14 -0.079452           E   \n",
       "164594 2015-04-30             34180     1545  5000.00 -0.079452           E   \n",
       "192195 2015-04-07             34180     1545 -5000.00 -0.016438           E   \n",
       "\n",
       "        rating_switch     payback_state  \n",
       "139859              3  payback_received  \n",
       "164594              3  payback_received  \n",
       "192195              3  payback_received  "
      ]
     },
     "execution_count": 240,
     "metadata": {},
     "output_type": "execute_result"
    }
   ],
   "source": [
    "cashflows_act_investor[cashflows_act_investor.id_loan==1545]"
   ]
  },
  {
   "cell_type": "code",
   "execution_count": 207,
   "metadata": {
    "collapsed": false
   },
   "outputs": [],
   "source": [
    "inv_hist=pd.DataFrame({'bin':inv_bin[:-1],'count':inv_count})"
   ]
  },
  {
   "cell_type": "code",
   "execution_count": 208,
   "metadata": {
    "collapsed": true
   },
   "outputs": [],
   "source": [
    "inv_hist.to_clipboard()"
   ]
  },
  {
   "cell_type": "code",
   "execution_count": 43,
   "metadata": {
    "collapsed": true
   },
   "outputs": [],
   "source": [
    "%matplotlib inline"
   ]
  },
  {
   "cell_type": "code",
   "execution_count": 154,
   "metadata": {
    "collapsed": false
   },
   "outputs": [
    {
     "data": {
      "text/plain": [
       "rating_switch\n",
       "1                2.446569\n",
       "2                3.991386\n",
       "3                3.453717\n",
       "dtype: float64"
      ]
     },
     "execution_count": 154,
     "metadata": {},
     "output_type": "execute_result"
    }
   ],
   "source": [
    "loans_fut_bucket_30360_xirr_orig*100"
   ]
  },
  {
   "cell_type": "code",
   "execution_count": 165,
   "metadata": {
    "collapsed": false
   },
   "outputs": [
    {
     "data": {
      "text/plain": [
       "rating_switch\n",
       "1                2.915440\n",
       "2                4.099140\n",
       "3                3.495064\n",
       "dtype: float64"
      ]
     },
     "execution_count": 165,
     "metadata": {},
     "output_type": "execute_result"
    }
   ],
   "source": [
    "loans_fut_bucket_30360_xirr_orig*100 "
   ]
  },
  {
   "cell_type": "code",
   "execution_count": 47,
   "metadata": {
    "collapsed": false
   },
   "outputs": [
    {
     "data": {
      "text/plain": [
       "0.03470183916784976"
      ]
     },
     "execution_count": 47,
     "metadata": {},
     "output_type": "execute_result"
    }
   ],
   "source": [
    "z1=cashflows_fut_bucket_30360[cashflows_fut_bucket_30360.payback_state!='payback_complete']\n",
    "\n",
    "xirr(z1.payment, z1.dcf)"
   ]
  },
  {
   "cell_type": "code",
   "execution_count": 42,
   "metadata": {
    "collapsed": false
   },
   "outputs": [
    {
     "data": {
      "text/plain": [
       "rating_switch  rating_base\n",
       "1              A              2.164635\n",
       "               B             -0.289620\n",
       "               C              2.843701\n",
       "               D              4.380164\n",
       "               E              7.495481\n",
       "2              A              2.336687\n",
       "               B              3.229219\n",
       "               C              4.145394\n",
       "               D              5.631069\n",
       "               E              7.443198\n",
       "3              A              2.390730\n",
       "               B              2.876238\n",
       "               C              3.830051\n",
       "               D              4.275146\n",
       "               E              4.906416\n",
       "dtype: float64"
      ]
     },
     "execution_count": 42,
     "metadata": {},
     "output_type": "execute_result"
    }
   ],
   "source": [
    "loans_fut_bucket_30360_xirr_groups*100"
   ]
  },
  {
   "cell_type": "code",
   "execution_count": 43,
   "metadata": {
    "collapsed": true
   },
   "outputs": [],
   "source": [
    "loans_fut_bucket_30360_xirr_groups.to_clipboard()"
   ]
  },
  {
   "cell_type": "code",
   "execution_count": 308,
   "metadata": {
    "collapsed": false
   },
   "outputs": [
    {
     "data": {
      "text/plain": [
       "rating_switch  rating_base\n",
       "1              A              1.643829\n",
       "               B             -0.131926\n",
       "               C              2.983228\n",
       "               D              4.437063\n",
       "               E              7.266957\n",
       "2              A              1.954274\n",
       "               B              2.373271\n",
       "               C              4.145764\n",
       "               D              5.446206\n",
       "               E              7.389547\n",
       "3              A              2.368428\n",
       "               B              2.950076\n",
       "               C              3.790125\n",
       "               D              3.940688\n",
       "               E              4.880346\n",
       "dtype: float64"
      ]
     },
     "execution_count": 308,
     "metadata": {},
     "output_type": "execute_result"
    }
   ],
   "source": [
    "loans_fut_bucket_30360_xirr_groups*100"
   ]
  },
  {
   "cell_type": "code",
   "execution_count": 167,
   "metadata": {
    "collapsed": false
   },
   "outputs": [],
   "source": [
    "loans_fut_xirr_groups=cashflows_fut[cashflows_fut.payback_state!='payback_complete'].groupby(['rating_switch','rating_base']).apply(lambda x: xirr(x.payment,x.dcf))"
   ]
  },
  {
   "cell_type": "code",
   "execution_count": 246,
   "metadata": {
    "collapsed": false
   },
   "outputs": [
    {
     "data": {
      "text/plain": [
       "rating_switch  rating_base\n",
       "1              A               2.318630\n",
       "               B               2.276984\n",
       "               C               3.590574\n",
       "               D               5.797576\n",
       "               E               7.664678\n",
       "2              A               2.533089\n",
       "               B               3.506267\n",
       "               C               6.085838\n",
       "               D               7.710767\n",
       "               E               7.674173\n",
       "3              A             -15.986781\n",
       "               B             -15.818247\n",
       "               C             -14.123845\n",
       "               D             -11.749378\n",
       "               E             -12.484912\n",
       "dtype: float64"
      ]
     },
     "execution_count": 246,
     "metadata": {},
     "output_type": "execute_result"
    }
   ],
   "source": [
    "loans_fut_xirr_groups*100"
   ]
  },
  {
   "cell_type": "code",
   "execution_count": 309,
   "metadata": {
    "collapsed": false
   },
   "outputs": [
    {
     "data": {
      "text/plain": [
       "rating_switch  rating_base\n",
       "1              A              1.643829\n",
       "               B             -0.131926\n",
       "               C              2.983228\n",
       "               D              4.437063\n",
       "               E              7.266957\n",
       "2              A              1.954274\n",
       "               B              2.373271\n",
       "               C              4.145764\n",
       "               D              5.446206\n",
       "               E              7.389547\n",
       "3              A              2.368428\n",
       "               B              2.950076\n",
       "               C              3.790125\n",
       "               D              3.940688\n",
       "               E              4.880346\n",
       "dtype: float64"
      ]
     },
     "execution_count": 309,
     "metadata": {},
     "output_type": "execute_result"
    }
   ],
   "source": [
    "(loans_fut_bucket_xirr_groups*100)"
   ]
  },
  {
   "cell_type": "code",
   "execution_count": 186,
   "metadata": {
    "collapsed": false
   },
   "outputs": [
    {
     "data": {
      "text/plain": [
       "5.4735134310179845"
      ]
     },
     "execution_count": 186,
     "metadata": {},
     "output_type": "execute_result"
    }
   ],
   "source": [
    "xirr(cashflows2.loc[cashflows2.id_loan==500,'payment'],cashflows2.loc[cashflows2.id_loan==500,'dcf'])*100"
   ]
  },
  {
   "cell_type": "code",
   "execution_count": 100,
   "metadata": {
    "collapsed": false
   },
   "outputs": [],
   "source": [
    "miss_loans=set(loans.id_loan) ^ set(payment_plans.fk_loan) # symmetric difference"
   ]
  },
  {
   "cell_type": "code",
   "execution_count": 251,
   "metadata": {
    "collapsed": false
   },
   "outputs": [
    {
     "data": {
      "text/plain": [
       "<matplotlib.axes._subplots.AxesSubplot at 0x122aeef0>"
      ]
     },
     "execution_count": 251,
     "metadata": {},
     "output_type": "execute_result"
    }
   ],
   "source": [
    "(loans_xirr.loc[mth3_loans]*100).hist()"
   ]
  },
  {
   "cell_type": "code",
   "execution_count": 39,
   "metadata": {
    "collapsed": true
   },
   "outputs": [],
   "source": []
  },
  {
   "cell_type": "code",
   "execution_count": 40,
   "metadata": {
    "collapsed": false
   },
   "outputs": [],
   "source": []
  },
  {
   "cell_type": "code",
   "execution_count": 297,
   "metadata": {
    "collapsed": true
   },
   "outputs": [],
   "source": []
  },
  {
   "cell_type": "code",
   "execution_count": 107,
   "metadata": {
    "collapsed": false
   },
   "outputs": [],
   "source": [
    "loan_plan_nar=payment_plans_idx.loc[payment_plans_idx.interval!=0,['interest_amount','initial_principal_amount']].groupby(level=(0,1)).sum()"
   ]
  }
 ],
 "metadata": {
  "kernelspec": {
   "display_name": "Python 2",
   "language": "python",
   "name": "python2"
  },
  "language_info": {
   "codemirror_mode": {
    "name": "ipython",
    "version": 2
   },
   "file_extension": ".py",
   "mimetype": "text/x-python",
   "name": "python",
   "nbconvert_exporter": "python",
   "pygments_lexer": "ipython2",
   "version": "2.7.8"
  }
 },
 "nbformat": 4,
 "nbformat_minor": 0
}
