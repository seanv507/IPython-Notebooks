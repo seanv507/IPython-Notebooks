{
 "cells": [
  {
   "cell_type": "code",
   "execution_count": 1,
   "metadata": {
    "collapsed": true
   },
   "outputs": [],
   "source": [
    "import json"
   ]
  },
  {
   "cell_type": "code",
   "execution_count": 2,
   "metadata": {
    "collapsed": true
   },
   "outputs": [],
   "source": [
    "import numpy as np\n",
    "import pandas as pd\n"
   ]
  },
  {
   "cell_type": "code",
   "execution_count": 3,
   "metadata": {
    "collapsed": false
   },
   "outputs": [],
   "source": [
    "import matplotlib.pyplot as plt"
   ]
  },
  {
   "cell_type": "code",
   "execution_count": 4,
   "metadata": {
    "collapsed": false
   },
   "outputs": [],
   "source": [
    "import cv2"
   ]
  },
  {
   "cell_type": "code",
   "execution_count": 5,
   "metadata": {
    "collapsed": true
   },
   "outputs": [],
   "source": [
    "filename_labels='C:\\Users\\Sean Violante\\Documents\\Projects\\kaggle\\kaggle-drc-viewer\\\\filenames.json'\n",
    "filename_desc='C:\\Users\\Sean Violante\\Documents\\Projects\\\\kaggle\\\\train\\\\images.txt'"
   ]
  },
  {
   "cell_type": "code",
   "execution_count": 6,
   "metadata": {
    "collapsed": false
   },
   "outputs": [
    {
     "data": {
      "text/plain": [
       "'C:\\\\Users\\\\Sean Violante\\\\Documents\\\\Projects\\\\kaggle\\\\train\\\\images.txt'"
      ]
     },
     "execution_count": 6,
     "metadata": {},
     "output_type": "execute_result"
    }
   ],
   "source": [
    "filename_desc"
   ]
  },
  {
   "cell_type": "code",
   "execution_count": 7,
   "metadata": {
    "collapsed": false
   },
   "outputs": [],
   "source": [
    "a=open(filename_labels)\n",
    "z=a.readline()\n",
    "g=json.loads(z)"
   ]
  },
  {
   "cell_type": "code",
   "execution_count": 8,
   "metadata": {
    "collapsed": false
   },
   "outputs": [
    {
     "ename": "NameError",
     "evalue": "name 'df' is not defined",
     "output_type": "error",
     "traceback": [
      "\u001b[1;31m---------------------------------------------------------------------------\u001b[0m",
      "\u001b[1;31mNameError\u001b[0m                                 Traceback (most recent call last)",
      "\u001b[1;32m<ipython-input-8-7ed0097d7e9e>\u001b[0m in \u001b[0;36m<module>\u001b[1;34m()\u001b[0m\n\u001b[1;32m----> 1\u001b[1;33m \u001b[0mdf\u001b[0m\u001b[1;33m\u001b[0m\u001b[0m\n\u001b[0m",
      "\u001b[1;31mNameError\u001b[0m: name 'df' is not defined"
     ]
    }
   ],
   "source": [
    "df"
   ]
  },
  {
   "cell_type": "code",
   "execution_count": 9,
   "metadata": {
    "collapsed": false
   },
   "outputs": [],
   "source": [
    "dfs=[]\n",
    "for k,images in g.iteritems():\n",
    "    dfs.append(pd.DataFrame({'image':images,'label':k}))\n",
    "df_all=pd.concat(dfs)"
   ]
  },
  {
   "cell_type": "code",
   "execution_count": 10,
   "metadata": {
    "collapsed": false
   },
   "outputs": [],
   "source": [
    "df_all.label=df_all.label.astype(np.int)"
   ]
  },
  {
   "cell_type": "code",
   "execution_count": 11,
   "metadata": {
    "collapsed": false
   },
   "outputs": [
    {
     "data": {
      "text/html": [
       "<div style=\"max-height:1000px;max-width:1500px;overflow:auto;\">\n",
       "<table border=\"1\" class=\"dataframe\">\n",
       "  <thead>\n",
       "    <tr style=\"text-align: right;\">\n",
       "      <th></th>\n",
       "      <th>image</th>\n",
       "      <th>label</th>\n",
       "    </tr>\n",
       "  </thead>\n",
       "  <tbody>\n",
       "    <tr>\n",
       "      <th>0</th>\n",
       "      <td>  train/15_left.jpeg</td>\n",
       "      <td> 1</td>\n",
       "    </tr>\n",
       "    <tr>\n",
       "      <th>1</th>\n",
       "      <td> train/17_right.jpeg</td>\n",
       "      <td> 1</td>\n",
       "    </tr>\n",
       "    <tr>\n",
       "      <th>2</th>\n",
       "      <td>  train/30_left.jpeg</td>\n",
       "      <td> 1</td>\n",
       "    </tr>\n",
       "    <tr>\n",
       "      <th>3</th>\n",
       "      <td>  train/36_left.jpeg</td>\n",
       "      <td> 1</td>\n",
       "    </tr>\n",
       "    <tr>\n",
       "      <th>4</th>\n",
       "      <td> train/114_left.jpeg</td>\n",
       "      <td> 1</td>\n",
       "    </tr>\n",
       "  </tbody>\n",
       "</table>\n",
       "</div>"
      ],
      "text/plain": [
       "                 image  label\n",
       "0   train/15_left.jpeg      1\n",
       "1  train/17_right.jpeg      1\n",
       "2   train/30_left.jpeg      1\n",
       "3   train/36_left.jpeg      1\n",
       "4  train/114_left.jpeg      1"
      ]
     },
     "execution_count": 11,
     "metadata": {},
     "output_type": "execute_result"
    }
   ],
   "source": [
    "df_all.head()"
   ]
  },
  {
   "cell_type": "code",
   "execution_count": 12,
   "metadata": {
    "collapsed": false
   },
   "outputs": [
    {
     "name": "stdout",
     "output_type": "stream",
     "text": [
      "Using matplotlib backend: Qt4Agg\n"
     ]
    }
   ],
   "source": [
    "%matplotlib"
   ]
  },
  {
   "cell_type": "code",
   "execution_count": 13,
   "metadata": {
    "collapsed": false
   },
   "outputs": [
    {
     "data": {
      "text/plain": [
       "<matplotlib.axes._subplots.AxesSubplot at 0xc4ca860>"
      ]
     },
     "execution_count": 13,
     "metadata": {},
     "output_type": "execute_result"
    }
   ],
   "source": [
    "df_all.label.hist()"
   ]
  },
  {
   "cell_type": "code",
   "execution_count": 33,
   "metadata": {
    "collapsed": false
   },
   "outputs": [
    {
     "data": {
      "text/plain": [
       "count    35126.000000\n",
       "mean         0.526049\n",
       "std          0.970390\n",
       "min          0.000000\n",
       "25%          0.000000\n",
       "50%          0.000000\n",
       "75%          1.000000\n",
       "max          4.000000\n",
       "Name: label, dtype: float64"
      ]
     },
     "execution_count": 33,
     "metadata": {},
     "output_type": "execute_result"
    }
   ],
   "source": [
    "df_all.label.describe()"
   ]
  },
  {
   "cell_type": "code",
   "execution_count": 14,
   "metadata": {
    "collapsed": false
   },
   "outputs": [
    {
     "data": {
      "text/plain": [
       "0    25810\n",
       "2     5292\n",
       "1     2443\n",
       "3      873\n",
       "4      708\n",
       "dtype: int64"
      ]
     },
     "execution_count": 14,
     "metadata": {},
     "output_type": "execute_result"
    }
   ],
   "source": [
    "df_all.label.value_counts()"
   ]
  },
  {
   "cell_type": "code",
   "execution_count": 15,
   "metadata": {
    "collapsed": false
   },
   "outputs": [],
   "source": [
    "image_desc=pd.read_csv(filename_desc,sep=' ',header=None,names=['filename','type','dim','dimx','bit','col','mem','x','y'])"
   ]
  },
  {
   "cell_type": "code",
   "execution_count": 16,
   "metadata": {
    "collapsed": false
   },
   "outputs": [
    {
     "data": {
      "text/html": [
       "<div style=\"max-height:1000px;max-width:1500px;overflow:auto;\">\n",
       "<table border=\"1\" class=\"dataframe\">\n",
       "  <thead>\n",
       "    <tr style=\"text-align: right;\">\n",
       "      <th></th>\n",
       "      <th>filename</th>\n",
       "      <th>type</th>\n",
       "      <th>dim</th>\n",
       "      <th>dimx</th>\n",
       "      <th>bit</th>\n",
       "      <th>col</th>\n",
       "      <th>mem</th>\n",
       "      <th>x</th>\n",
       "      <th>y</th>\n",
       "    </tr>\n",
       "  </thead>\n",
       "  <tbody>\n",
       "    <tr>\n",
       "      <th>0</th>\n",
       "      <td>     10003_left.jpeg</td>\n",
       "      <td> JPEG</td>\n",
       "      <td> 4752x3168</td>\n",
       "      <td> 4752x3168+0+0</td>\n",
       "      <td> 8-bit</td>\n",
       "      <td> sRGB</td>\n",
       "      <td> 1.563MB</td>\n",
       "      <td> 0.000u</td>\n",
       "      <td> 0:00.000</td>\n",
       "    </tr>\n",
       "    <tr>\n",
       "      <th>1</th>\n",
       "      <td> 10003_right.jpeg[1]</td>\n",
       "      <td> JPEG</td>\n",
       "      <td> 4752x3168</td>\n",
       "      <td> 4752x3168+0+0</td>\n",
       "      <td> 8-bit</td>\n",
       "      <td> sRGB</td>\n",
       "      <td> 1.584MB</td>\n",
       "      <td> 0.000u</td>\n",
       "      <td> 0:00.001</td>\n",
       "    </tr>\n",
       "    <tr>\n",
       "      <th>2</th>\n",
       "      <td>  10007_left.jpeg[2]</td>\n",
       "      <td> JPEG</td>\n",
       "      <td> 3456x2304</td>\n",
       "      <td> 3456x2304+0+0</td>\n",
       "      <td> 8-bit</td>\n",
       "      <td> sRGB</td>\n",
       "      <td>   823KB</td>\n",
       "      <td> 0.000u</td>\n",
       "      <td> 0:00.000</td>\n",
       "    </tr>\n",
       "    <tr>\n",
       "      <th>3</th>\n",
       "      <td> 10007_right.jpeg[3]</td>\n",
       "      <td> JPEG</td>\n",
       "      <td> 3456x2304</td>\n",
       "      <td> 3456x2304+0+0</td>\n",
       "      <td> 8-bit</td>\n",
       "      <td> sRGB</td>\n",
       "      <td>   863KB</td>\n",
       "      <td> 0.000u</td>\n",
       "      <td> 0:00.000</td>\n",
       "    </tr>\n",
       "    <tr>\n",
       "      <th>4</th>\n",
       "      <td>  10009_left.jpeg[4]</td>\n",
       "      <td> JPEG</td>\n",
       "      <td> 3888x2592</td>\n",
       "      <td> 3888x2592+0+0</td>\n",
       "      <td> 8-bit</td>\n",
       "      <td> sRGB</td>\n",
       "      <td> 1.542MB</td>\n",
       "      <td> 0.000u</td>\n",
       "      <td> 0:00.000</td>\n",
       "    </tr>\n",
       "  </tbody>\n",
       "</table>\n",
       "</div>"
      ],
      "text/plain": [
       "              filename  type        dim           dimx    bit   col      mem  \\\n",
       "0      10003_left.jpeg  JPEG  4752x3168  4752x3168+0+0  8-bit  sRGB  1.563MB   \n",
       "1  10003_right.jpeg[1]  JPEG  4752x3168  4752x3168+0+0  8-bit  sRGB  1.584MB   \n",
       "2   10007_left.jpeg[2]  JPEG  3456x2304  3456x2304+0+0  8-bit  sRGB    823KB   \n",
       "3  10007_right.jpeg[3]  JPEG  3456x2304  3456x2304+0+0  8-bit  sRGB    863KB   \n",
       "4   10009_left.jpeg[4]  JPEG  3888x2592  3888x2592+0+0  8-bit  sRGB  1.542MB   \n",
       "\n",
       "        x         y  \n",
       "0  0.000u  0:00.000  \n",
       "1  0.000u  0:00.001  \n",
       "2  0.000u  0:00.000  \n",
       "3  0.000u  0:00.000  \n",
       "4  0.000u  0:00.000  "
      ]
     },
     "execution_count": 16,
     "metadata": {},
     "output_type": "execute_result"
    }
   ],
   "source": [
    "image_desc.head()"
   ]
  },
  {
   "cell_type": "code",
   "execution_count": 17,
   "metadata": {
    "collapsed": false
   },
   "outputs": [],
   "source": [
    "image_desc[['dim_x','dim_y']]=image_desc.dim.str.split('x').apply(pd.Series)"
   ]
  },
  {
   "cell_type": "code",
   "execution_count": 18,
   "metadata": {
    "collapsed": false
   },
   "outputs": [
    {
     "data": {
      "text/html": [
       "<div style=\"max-height:1000px;max-width:1500px;overflow:auto;\">\n",
       "<table border=\"1\" class=\"dataframe\">\n",
       "  <thead>\n",
       "    <tr style=\"text-align: right;\">\n",
       "      <th></th>\n",
       "      <th>filename</th>\n",
       "      <th>type</th>\n",
       "      <th>dim</th>\n",
       "      <th>dimx</th>\n",
       "      <th>bit</th>\n",
       "      <th>col</th>\n",
       "      <th>mem</th>\n",
       "      <th>x</th>\n",
       "      <th>y</th>\n",
       "      <th>dim_x</th>\n",
       "      <th>dim_y</th>\n",
       "    </tr>\n",
       "  </thead>\n",
       "  <tbody>\n",
       "    <tr>\n",
       "      <th>35121</th>\n",
       "      <td> 9998_right.jpeg[35121]</td>\n",
       "      <td> JPEG</td>\n",
       "      <td> 4272x2848</td>\n",
       "      <td> 4272x2848+0+0</td>\n",
       "      <td> 8-bit</td>\n",
       "      <td> sRGB</td>\n",
       "      <td> 1.583MB</td>\n",
       "      <td> 0.000u</td>\n",
       "      <td> 0:00.000</td>\n",
       "      <td> 4272</td>\n",
       "      <td> 2848</td>\n",
       "    </tr>\n",
       "    <tr>\n",
       "      <th>35122</th>\n",
       "      <td>  9999_left.jpeg[35122]</td>\n",
       "      <td> JPEG</td>\n",
       "      <td> 3888x2592</td>\n",
       "      <td> 3888x2592+0+0</td>\n",
       "      <td> 8-bit</td>\n",
       "      <td> sRGB</td>\n",
       "      <td> 1.409MB</td>\n",
       "      <td> 0.000u</td>\n",
       "      <td> 0:00.001</td>\n",
       "      <td> 3888</td>\n",
       "      <td> 2592</td>\n",
       "    </tr>\n",
       "    <tr>\n",
       "      <th>35123</th>\n",
       "      <td> 9999_right.jpeg[35123]</td>\n",
       "      <td> JPEG</td>\n",
       "      <td> 3888x2592</td>\n",
       "      <td> 3888x2592+0+0</td>\n",
       "      <td> 8-bit</td>\n",
       "      <td> sRGB</td>\n",
       "      <td> 1.457MB</td>\n",
       "      <td> 0.016u</td>\n",
       "      <td> 0:00.000</td>\n",
       "      <td> 3888</td>\n",
       "      <td> 2592</td>\n",
       "    </tr>\n",
       "    <tr>\n",
       "      <th>35124</th>\n",
       "      <td>    99_left.jpeg[35124]</td>\n",
       "      <td> JPEG</td>\n",
       "      <td> 2560x1920</td>\n",
       "      <td> 2560x1920+0+0</td>\n",
       "      <td> 8-bit</td>\n",
       "      <td> sRGB</td>\n",
       "      <td>   333KB</td>\n",
       "      <td> 0.000u</td>\n",
       "      <td> 0:00.001</td>\n",
       "      <td> 2560</td>\n",
       "      <td> 1920</td>\n",
       "    </tr>\n",
       "    <tr>\n",
       "      <th>35125</th>\n",
       "      <td>   99_right.jpeg[35125]</td>\n",
       "      <td> JPEG</td>\n",
       "      <td> 2560x1920</td>\n",
       "      <td> 2560x1920+0+0</td>\n",
       "      <td> 8-bit</td>\n",
       "      <td> sRGB</td>\n",
       "      <td>   380KB</td>\n",
       "      <td> 0.000u</td>\n",
       "      <td> 0:00.000</td>\n",
       "      <td> 2560</td>\n",
       "      <td> 1920</td>\n",
       "    </tr>\n",
       "  </tbody>\n",
       "</table>\n",
       "</div>"
      ],
      "text/plain": [
       "                     filename  type        dim           dimx    bit   col  \\\n",
       "35121  9998_right.jpeg[35121]  JPEG  4272x2848  4272x2848+0+0  8-bit  sRGB   \n",
       "35122   9999_left.jpeg[35122]  JPEG  3888x2592  3888x2592+0+0  8-bit  sRGB   \n",
       "35123  9999_right.jpeg[35123]  JPEG  3888x2592  3888x2592+0+0  8-bit  sRGB   \n",
       "35124     99_left.jpeg[35124]  JPEG  2560x1920  2560x1920+0+0  8-bit  sRGB   \n",
       "35125    99_right.jpeg[35125]  JPEG  2560x1920  2560x1920+0+0  8-bit  sRGB   \n",
       "\n",
       "           mem       x         y dim_x dim_y  \n",
       "35121  1.583MB  0.000u  0:00.000  4272  2848  \n",
       "35122  1.409MB  0.000u  0:00.001  3888  2592  \n",
       "35123  1.457MB  0.016u  0:00.000  3888  2592  \n",
       "35124    333KB  0.000u  0:00.001  2560  1920  \n",
       "35125    380KB  0.000u  0:00.000  2560  1920  "
      ]
     },
     "execution_count": 18,
     "metadata": {},
     "output_type": "execute_result"
    }
   ],
   "source": [
    "image_desc.tail()"
   ]
  },
  {
   "cell_type": "code",
   "execution_count": 19,
   "metadata": {
    "collapsed": false
   },
   "outputs": [],
   "source": [
    "image_desc['name']=image_desc.filename.str.split('.').str[0] # get up to ."
   ]
  },
  {
   "cell_type": "code",
   "execution_count": 20,
   "metadata": {
    "collapsed": true
   },
   "outputs": [],
   "source": [
    "df_all['name']=df_all['image'].str[6:-5]"
   ]
  },
  {
   "cell_type": "code",
   "execution_count": 21,
   "metadata": {
    "collapsed": false
   },
   "outputs": [],
   "source": [
    "image_table=image_desc.merge(df_all,on='name')"
   ]
  },
  {
   "cell_type": "code",
   "execution_count": 22,
   "metadata": {
    "collapsed": false
   },
   "outputs": [
    {
     "data": {
      "text/html": [
       "<div style=\"max-height:1000px;max-width:1500px;overflow:auto;\">\n",
       "<table border=\"1\" class=\"dataframe\">\n",
       "  <thead>\n",
       "    <tr style=\"text-align: right;\">\n",
       "      <th></th>\n",
       "      <th></th>\n",
       "      <th>filename</th>\n",
       "      <th>type</th>\n",
       "      <th>dim</th>\n",
       "      <th>dimx</th>\n",
       "      <th>bit</th>\n",
       "      <th>col</th>\n",
       "      <th>mem</th>\n",
       "      <th>x</th>\n",
       "      <th>y</th>\n",
       "      <th>dim_x</th>\n",
       "      <th>dim_y</th>\n",
       "      <th>name</th>\n",
       "      <th>image</th>\n",
       "      <th>label</th>\n",
       "    </tr>\n",
       "    <tr>\n",
       "      <th>label</th>\n",
       "      <th></th>\n",
       "      <th></th>\n",
       "      <th></th>\n",
       "      <th></th>\n",
       "      <th></th>\n",
       "      <th></th>\n",
       "      <th></th>\n",
       "      <th></th>\n",
       "      <th></th>\n",
       "      <th></th>\n",
       "      <th></th>\n",
       "      <th></th>\n",
       "      <th></th>\n",
       "      <th></th>\n",
       "      <th></th>\n",
       "    </tr>\n",
       "  </thead>\n",
       "  <tbody>\n",
       "    <tr>\n",
       "      <th rowspan=\"5\" valign=\"top\">0</th>\n",
       "      <th>0  </th>\n",
       "      <td>       10003_left.jpeg</td>\n",
       "      <td> JPEG</td>\n",
       "      <td> 4752x3168</td>\n",
       "      <td> 4752x3168+0+0</td>\n",
       "      <td> 8-bit</td>\n",
       "      <td> sRGB</td>\n",
       "      <td> 1.563MB</td>\n",
       "      <td> 0.000u</td>\n",
       "      <td> 0:00.000</td>\n",
       "      <td> 4752</td>\n",
       "      <td> 3168</td>\n",
       "      <td>  10003_left</td>\n",
       "      <td>  train/10003_left.jpeg</td>\n",
       "      <td> 0</td>\n",
       "    </tr>\n",
       "    <tr>\n",
       "      <th>1  </th>\n",
       "      <td>   10003_right.jpeg[1]</td>\n",
       "      <td> JPEG</td>\n",
       "      <td> 4752x3168</td>\n",
       "      <td> 4752x3168+0+0</td>\n",
       "      <td> 8-bit</td>\n",
       "      <td> sRGB</td>\n",
       "      <td> 1.584MB</td>\n",
       "      <td> 0.000u</td>\n",
       "      <td> 0:00.001</td>\n",
       "      <td> 4752</td>\n",
       "      <td> 3168</td>\n",
       "      <td> 10003_right</td>\n",
       "      <td> train/10003_right.jpeg</td>\n",
       "      <td> 0</td>\n",
       "    </tr>\n",
       "    <tr>\n",
       "      <th>2  </th>\n",
       "      <td>    10007_left.jpeg[2]</td>\n",
       "      <td> JPEG</td>\n",
       "      <td> 3456x2304</td>\n",
       "      <td> 3456x2304+0+0</td>\n",
       "      <td> 8-bit</td>\n",
       "      <td> sRGB</td>\n",
       "      <td>   823KB</td>\n",
       "      <td> 0.000u</td>\n",
       "      <td> 0:00.000</td>\n",
       "      <td> 3456</td>\n",
       "      <td> 2304</td>\n",
       "      <td>  10007_left</td>\n",
       "      <td>  train/10007_left.jpeg</td>\n",
       "      <td> 0</td>\n",
       "    </tr>\n",
       "    <tr>\n",
       "      <th>3  </th>\n",
       "      <td>   10007_right.jpeg[3]</td>\n",
       "      <td> JPEG</td>\n",
       "      <td> 3456x2304</td>\n",
       "      <td> 3456x2304+0+0</td>\n",
       "      <td> 8-bit</td>\n",
       "      <td> sRGB</td>\n",
       "      <td>   863KB</td>\n",
       "      <td> 0.000u</td>\n",
       "      <td> 0:00.000</td>\n",
       "      <td> 3456</td>\n",
       "      <td> 2304</td>\n",
       "      <td> 10007_right</td>\n",
       "      <td> train/10007_right.jpeg</td>\n",
       "      <td> 0</td>\n",
       "    </tr>\n",
       "    <tr>\n",
       "      <th>4  </th>\n",
       "      <td>    10009_left.jpeg[4]</td>\n",
       "      <td> JPEG</td>\n",
       "      <td> 3888x2592</td>\n",
       "      <td> 3888x2592+0+0</td>\n",
       "      <td> 8-bit</td>\n",
       "      <td> sRGB</td>\n",
       "      <td> 1.542MB</td>\n",
       "      <td> 0.000u</td>\n",
       "      <td> 0:00.000</td>\n",
       "      <td> 3888</td>\n",
       "      <td> 2592</td>\n",
       "      <td>  10009_left</td>\n",
       "      <td>  train/10009_left.jpeg</td>\n",
       "      <td> 0</td>\n",
       "    </tr>\n",
       "    <tr>\n",
       "      <th rowspan=\"5\" valign=\"top\">1</th>\n",
       "      <th>26 </th>\n",
       "      <td>   10030_left.jpeg[26]</td>\n",
       "      <td> JPEG</td>\n",
       "      <td> 2592x1944</td>\n",
       "      <td> 2592x1944+0+0</td>\n",
       "      <td> 8-bit</td>\n",
       "      <td> sRGB</td>\n",
       "      <td>   783KB</td>\n",
       "      <td> 0.000u</td>\n",
       "      <td> 0:00.001</td>\n",
       "      <td> 2592</td>\n",
       "      <td> 1944</td>\n",
       "      <td>  10030_left</td>\n",
       "      <td>  train/10030_left.jpeg</td>\n",
       "      <td> 1</td>\n",
       "    </tr>\n",
       "    <tr>\n",
       "      <th>27 </th>\n",
       "      <td>  10030_right.jpeg[27]</td>\n",
       "      <td> JPEG</td>\n",
       "      <td> 2592x1944</td>\n",
       "      <td> 2592x1944+0+0</td>\n",
       "      <td> 8-bit</td>\n",
       "      <td> sRGB</td>\n",
       "      <td>   787KB</td>\n",
       "      <td> 0.000u</td>\n",
       "      <td> 0:00.000</td>\n",
       "      <td> 2592</td>\n",
       "      <td> 1944</td>\n",
       "      <td> 10030_right</td>\n",
       "      <td> train/10030_right.jpeg</td>\n",
       "      <td> 1</td>\n",
       "    </tr>\n",
       "    <tr>\n",
       "      <th>64 </th>\n",
       "      <td>   10085_left.jpeg[64]</td>\n",
       "      <td> JPEG</td>\n",
       "      <td> 3888x2592</td>\n",
       "      <td> 3888x2592+0+0</td>\n",
       "      <td> 8-bit</td>\n",
       "      <td> sRGB</td>\n",
       "      <td> 1.646MB</td>\n",
       "      <td> 0.000u</td>\n",
       "      <td> 0:00.000</td>\n",
       "      <td> 3888</td>\n",
       "      <td> 2592</td>\n",
       "      <td>  10085_left</td>\n",
       "      <td>  train/10085_left.jpeg</td>\n",
       "      <td> 1</td>\n",
       "    </tr>\n",
       "    <tr>\n",
       "      <th>65 </th>\n",
       "      <td>  10085_right.jpeg[65]</td>\n",
       "      <td> JPEG</td>\n",
       "      <td> 3888x2592</td>\n",
       "      <td> 3888x2592+0+0</td>\n",
       "      <td> 8-bit</td>\n",
       "      <td> sRGB</td>\n",
       "      <td> 1.538MB</td>\n",
       "      <td> 0.000u</td>\n",
       "      <td> 0:00.000</td>\n",
       "      <td> 3888</td>\n",
       "      <td> 2592</td>\n",
       "      <td> 10085_right</td>\n",
       "      <td> train/10085_right.jpeg</td>\n",
       "      <td> 1</td>\n",
       "    </tr>\n",
       "    <tr>\n",
       "      <th>123</th>\n",
       "      <td> 10150_right.jpeg[123]</td>\n",
       "      <td> JPEG</td>\n",
       "      <td> 4928x3264</td>\n",
       "      <td> 4928x3264+0+0</td>\n",
       "      <td> 8-bit</td>\n",
       "      <td> sRGB</td>\n",
       "      <td> 1.358MB</td>\n",
       "      <td> 0.000u</td>\n",
       "      <td> 0:00.000</td>\n",
       "      <td> 4928</td>\n",
       "      <td> 3264</td>\n",
       "      <td> 10150_right</td>\n",
       "      <td> train/10150_right.jpeg</td>\n",
       "      <td> 1</td>\n",
       "    </tr>\n",
       "    <tr>\n",
       "      <th rowspan=\"5\" valign=\"top\">2</th>\n",
       "      <th>25 </th>\n",
       "      <td>   1002_right.jpeg[25]</td>\n",
       "      <td> JPEG</td>\n",
       "      <td> 3888x2592</td>\n",
       "      <td> 3888x2592+0+0</td>\n",
       "      <td> 8-bit</td>\n",
       "      <td> sRGB</td>\n",
       "      <td> 1.406MB</td>\n",
       "      <td> 0.000u</td>\n",
       "      <td> 0:00.000</td>\n",
       "      <td> 3888</td>\n",
       "      <td> 2592</td>\n",
       "      <td>  1002_right</td>\n",
       "      <td>  train/1002_right.jpeg</td>\n",
       "      <td> 2</td>\n",
       "    </tr>\n",
       "    <tr>\n",
       "      <th>36 </th>\n",
       "      <td>   10043_left.jpeg[36]</td>\n",
       "      <td> JPEG</td>\n",
       "      <td> 2592x1944</td>\n",
       "      <td> 2592x1944+0+0</td>\n",
       "      <td> 8-bit</td>\n",
       "      <td> sRGB</td>\n",
       "      <td>   686KB</td>\n",
       "      <td> 0.000u</td>\n",
       "      <td> 0:00.000</td>\n",
       "      <td> 2592</td>\n",
       "      <td> 1944</td>\n",
       "      <td>  10043_left</td>\n",
       "      <td>  train/10043_left.jpeg</td>\n",
       "      <td> 2</td>\n",
       "    </tr>\n",
       "    <tr>\n",
       "      <th>37 </th>\n",
       "      <td>  10043_right.jpeg[37]</td>\n",
       "      <td> JPEG</td>\n",
       "      <td> 2592x1944</td>\n",
       "      <td> 2592x1944+0+0</td>\n",
       "      <td> 8-bit</td>\n",
       "      <td> sRGB</td>\n",
       "      <td>   702KB</td>\n",
       "      <td> 0.000u</td>\n",
       "      <td> 0:00.000</td>\n",
       "      <td> 2592</td>\n",
       "      <td> 1944</td>\n",
       "      <td> 10043_right</td>\n",
       "      <td> train/10043_right.jpeg</td>\n",
       "      <td> 2</td>\n",
       "    </tr>\n",
       "    <tr>\n",
       "      <th>82 </th>\n",
       "      <td>   10109_left.jpeg[82]</td>\n",
       "      <td> JPEG</td>\n",
       "      <td> 3888x2592</td>\n",
       "      <td> 3888x2592+0+0</td>\n",
       "      <td> 8-bit</td>\n",
       "      <td> sRGB</td>\n",
       "      <td> 1.043MB</td>\n",
       "      <td> 0.000u</td>\n",
       "      <td> 0:00.000</td>\n",
       "      <td> 3888</td>\n",
       "      <td> 2592</td>\n",
       "      <td>  10109_left</td>\n",
       "      <td>  train/10109_left.jpeg</td>\n",
       "      <td> 2</td>\n",
       "    </tr>\n",
       "    <tr>\n",
       "      <th>83 </th>\n",
       "      <td>  10109_right.jpeg[83]</td>\n",
       "      <td> JPEG</td>\n",
       "      <td> 3888x2592</td>\n",
       "      <td> 3888x2592+0+0</td>\n",
       "      <td> 8-bit</td>\n",
       "      <td> sRGB</td>\n",
       "      <td> 1.076MB</td>\n",
       "      <td> 0.000u</td>\n",
       "      <td> 0:00.000</td>\n",
       "      <td> 3888</td>\n",
       "      <td> 2592</td>\n",
       "      <td> 10109_right</td>\n",
       "      <td> train/10109_right.jpeg</td>\n",
       "      <td> 2</td>\n",
       "    </tr>\n",
       "    <tr>\n",
       "      <th rowspan=\"5\" valign=\"top\">3</th>\n",
       "      <th>24 </th>\n",
       "      <td>    1002_left.jpeg[24]</td>\n",
       "      <td> JPEG</td>\n",
       "      <td> 3888x2592</td>\n",
       "      <td> 3888x2592+0+0</td>\n",
       "      <td> 8-bit</td>\n",
       "      <td> sRGB</td>\n",
       "      <td>  1.45MB</td>\n",
       "      <td> 0.000u</td>\n",
       "      <td> 0:00.000</td>\n",
       "      <td> 3888</td>\n",
       "      <td> 2592</td>\n",
       "      <td>   1002_left</td>\n",
       "      <td>   train/1002_left.jpeg</td>\n",
       "      <td> 3</td>\n",
       "    </tr>\n",
       "    <tr>\n",
       "      <th>40 </th>\n",
       "      <td>   10047_left.jpeg[40]</td>\n",
       "      <td> JPEG</td>\n",
       "      <td> 3888x2592</td>\n",
       "      <td> 3888x2592+0+0</td>\n",
       "      <td> 8-bit</td>\n",
       "      <td> sRGB</td>\n",
       "      <td> 1.382MB</td>\n",
       "      <td> 0.000u</td>\n",
       "      <td> 0:00.000</td>\n",
       "      <td> 3888</td>\n",
       "      <td> 2592</td>\n",
       "      <td>  10047_left</td>\n",
       "      <td>  train/10047_left.jpeg</td>\n",
       "      <td> 3</td>\n",
       "    </tr>\n",
       "    <tr>\n",
       "      <th>66 </th>\n",
       "      <td>    1008_left.jpeg[66]</td>\n",
       "      <td> JPEG</td>\n",
       "      <td> 3888x2592</td>\n",
       "      <td> 3888x2592+0+0</td>\n",
       "      <td> 8-bit</td>\n",
       "      <td> sRGB</td>\n",
       "      <td> 1.159MB</td>\n",
       "      <td> 0.000u</td>\n",
       "      <td> 0:00.000</td>\n",
       "      <td> 3888</td>\n",
       "      <td> 2592</td>\n",
       "      <td>   1008_left</td>\n",
       "      <td>   train/1008_left.jpeg</td>\n",
       "      <td> 3</td>\n",
       "    </tr>\n",
       "    <tr>\n",
       "      <th>67 </th>\n",
       "      <td>   1008_right.jpeg[67]</td>\n",
       "      <td> JPEG</td>\n",
       "      <td> 3888x2592</td>\n",
       "      <td> 3888x2592+0+0</td>\n",
       "      <td> 8-bit</td>\n",
       "      <td> sRGB</td>\n",
       "      <td> 1.164MB</td>\n",
       "      <td> 0.000u</td>\n",
       "      <td> 0:00.000</td>\n",
       "      <td> 3888</td>\n",
       "      <td> 2592</td>\n",
       "      <td>  1008_right</td>\n",
       "      <td>  train/1008_right.jpeg</td>\n",
       "      <td> 3</td>\n",
       "    </tr>\n",
       "    <tr>\n",
       "      <th>96 </th>\n",
       "      <td>   10125_left.jpeg[96]</td>\n",
       "      <td> JPEG</td>\n",
       "      <td> 4272x2848</td>\n",
       "      <td> 4272x2848+0+0</td>\n",
       "      <td> 8-bit</td>\n",
       "      <td> sRGB</td>\n",
       "      <td> 1.644MB</td>\n",
       "      <td> 0.000u</td>\n",
       "      <td> 0:00.000</td>\n",
       "      <td> 4272</td>\n",
       "      <td> 2848</td>\n",
       "      <td>  10125_left</td>\n",
       "      <td>  train/10125_left.jpeg</td>\n",
       "      <td> 3</td>\n",
       "    </tr>\n",
       "    <tr>\n",
       "      <th rowspan=\"5\" valign=\"top\">4</th>\n",
       "      <th>16 </th>\n",
       "      <td>   10017_left.jpeg[16]</td>\n",
       "      <td> JPEG</td>\n",
       "      <td> 3888x2592</td>\n",
       "      <td> 3888x2592+0+0</td>\n",
       "      <td> 8-bit</td>\n",
       "      <td> sRGB</td>\n",
       "      <td> 1.212MB</td>\n",
       "      <td> 0.000u</td>\n",
       "      <td> 0:00.000</td>\n",
       "      <td> 3888</td>\n",
       "      <td> 2592</td>\n",
       "      <td>  10017_left</td>\n",
       "      <td>  train/10017_left.jpeg</td>\n",
       "      <td> 4</td>\n",
       "    </tr>\n",
       "    <tr>\n",
       "      <th>17 </th>\n",
       "      <td>  10017_right.jpeg[17]</td>\n",
       "      <td> JPEG</td>\n",
       "      <td> 3888x2592</td>\n",
       "      <td> 3888x2592+0+0</td>\n",
       "      <td> 8-bit</td>\n",
       "      <td> sRGB</td>\n",
       "      <td> 1.209MB</td>\n",
       "      <td> 0.000u</td>\n",
       "      <td> 0:00.000</td>\n",
       "      <td> 3888</td>\n",
       "      <td> 2592</td>\n",
       "      <td> 10017_right</td>\n",
       "      <td> train/10017_right.jpeg</td>\n",
       "      <td> 4</td>\n",
       "    </tr>\n",
       "    <tr>\n",
       "      <th>41 </th>\n",
       "      <td>  10047_right.jpeg[41]</td>\n",
       "      <td> JPEG</td>\n",
       "      <td> 3888x2592</td>\n",
       "      <td> 3888x2592+0+0</td>\n",
       "      <td> 8-bit</td>\n",
       "      <td> sRGB</td>\n",
       "      <td> 1.378MB</td>\n",
       "      <td> 0.000u</td>\n",
       "      <td> 0:00.000</td>\n",
       "      <td> 3888</td>\n",
       "      <td> 2592</td>\n",
       "      <td> 10047_right</td>\n",
       "      <td> train/10047_right.jpeg</td>\n",
       "      <td> 4</td>\n",
       "    </tr>\n",
       "    <tr>\n",
       "      <th>169</th>\n",
       "      <td> 10193_right.jpeg[169]</td>\n",
       "      <td> JPEG</td>\n",
       "      <td> 3888x2592</td>\n",
       "      <td> 3888x2592+0+0</td>\n",
       "      <td> 8-bit</td>\n",
       "      <td> sRGB</td>\n",
       "      <td> 1.566MB</td>\n",
       "      <td> 0.000u</td>\n",
       "      <td> 0:00.000</td>\n",
       "      <td> 3888</td>\n",
       "      <td> 2592</td>\n",
       "      <td> 10193_right</td>\n",
       "      <td> train/10193_right.jpeg</td>\n",
       "      <td> 4</td>\n",
       "    </tr>\n",
       "    <tr>\n",
       "      <th>280</th>\n",
       "      <td>  10312_left.jpeg[280]</td>\n",
       "      <td> JPEG</td>\n",
       "      <td> 4928x3264</td>\n",
       "      <td> 4928x3264+0+0</td>\n",
       "      <td> 8-bit</td>\n",
       "      <td> sRGB</td>\n",
       "      <td> 1.056MB</td>\n",
       "      <td> 0.000u</td>\n",
       "      <td> 0:00.000</td>\n",
       "      <td> 4928</td>\n",
       "      <td> 3264</td>\n",
       "      <td>  10312_left</td>\n",
       "      <td>  train/10312_left.jpeg</td>\n",
       "      <td> 4</td>\n",
       "    </tr>\n",
       "  </tbody>\n",
       "</table>\n",
       "</div>"
      ],
      "text/plain": [
       "                        filename  type        dim           dimx    bit   col  \\\n",
       "label                                                                           \n",
       "0     0          10003_left.jpeg  JPEG  4752x3168  4752x3168+0+0  8-bit  sRGB   \n",
       "      1      10003_right.jpeg[1]  JPEG  4752x3168  4752x3168+0+0  8-bit  sRGB   \n",
       "      2       10007_left.jpeg[2]  JPEG  3456x2304  3456x2304+0+0  8-bit  sRGB   \n",
       "      3      10007_right.jpeg[3]  JPEG  3456x2304  3456x2304+0+0  8-bit  sRGB   \n",
       "      4       10009_left.jpeg[4]  JPEG  3888x2592  3888x2592+0+0  8-bit  sRGB   \n",
       "1     26     10030_left.jpeg[26]  JPEG  2592x1944  2592x1944+0+0  8-bit  sRGB   \n",
       "      27    10030_right.jpeg[27]  JPEG  2592x1944  2592x1944+0+0  8-bit  sRGB   \n",
       "      64     10085_left.jpeg[64]  JPEG  3888x2592  3888x2592+0+0  8-bit  sRGB   \n",
       "      65    10085_right.jpeg[65]  JPEG  3888x2592  3888x2592+0+0  8-bit  sRGB   \n",
       "      123  10150_right.jpeg[123]  JPEG  4928x3264  4928x3264+0+0  8-bit  sRGB   \n",
       "2     25     1002_right.jpeg[25]  JPEG  3888x2592  3888x2592+0+0  8-bit  sRGB   \n",
       "      36     10043_left.jpeg[36]  JPEG  2592x1944  2592x1944+0+0  8-bit  sRGB   \n",
       "      37    10043_right.jpeg[37]  JPEG  2592x1944  2592x1944+0+0  8-bit  sRGB   \n",
       "      82     10109_left.jpeg[82]  JPEG  3888x2592  3888x2592+0+0  8-bit  sRGB   \n",
       "      83    10109_right.jpeg[83]  JPEG  3888x2592  3888x2592+0+0  8-bit  sRGB   \n",
       "3     24      1002_left.jpeg[24]  JPEG  3888x2592  3888x2592+0+0  8-bit  sRGB   \n",
       "      40     10047_left.jpeg[40]  JPEG  3888x2592  3888x2592+0+0  8-bit  sRGB   \n",
       "      66      1008_left.jpeg[66]  JPEG  3888x2592  3888x2592+0+0  8-bit  sRGB   \n",
       "      67     1008_right.jpeg[67]  JPEG  3888x2592  3888x2592+0+0  8-bit  sRGB   \n",
       "      96     10125_left.jpeg[96]  JPEG  4272x2848  4272x2848+0+0  8-bit  sRGB   \n",
       "4     16     10017_left.jpeg[16]  JPEG  3888x2592  3888x2592+0+0  8-bit  sRGB   \n",
       "      17    10017_right.jpeg[17]  JPEG  3888x2592  3888x2592+0+0  8-bit  sRGB   \n",
       "      41    10047_right.jpeg[41]  JPEG  3888x2592  3888x2592+0+0  8-bit  sRGB   \n",
       "      169  10193_right.jpeg[169]  JPEG  3888x2592  3888x2592+0+0  8-bit  sRGB   \n",
       "      280   10312_left.jpeg[280]  JPEG  4928x3264  4928x3264+0+0  8-bit  sRGB   \n",
       "\n",
       "               mem       x         y dim_x dim_y         name  \\\n",
       "label                                                           \n",
       "0     0    1.563MB  0.000u  0:00.000  4752  3168   10003_left   \n",
       "      1    1.584MB  0.000u  0:00.001  4752  3168  10003_right   \n",
       "      2      823KB  0.000u  0:00.000  3456  2304   10007_left   \n",
       "      3      863KB  0.000u  0:00.000  3456  2304  10007_right   \n",
       "      4    1.542MB  0.000u  0:00.000  3888  2592   10009_left   \n",
       "1     26     783KB  0.000u  0:00.001  2592  1944   10030_left   \n",
       "      27     787KB  0.000u  0:00.000  2592  1944  10030_right   \n",
       "      64   1.646MB  0.000u  0:00.000  3888  2592   10085_left   \n",
       "      65   1.538MB  0.000u  0:00.000  3888  2592  10085_right   \n",
       "      123  1.358MB  0.000u  0:00.000  4928  3264  10150_right   \n",
       "2     25   1.406MB  0.000u  0:00.000  3888  2592   1002_right   \n",
       "      36     686KB  0.000u  0:00.000  2592  1944   10043_left   \n",
       "      37     702KB  0.000u  0:00.000  2592  1944  10043_right   \n",
       "      82   1.043MB  0.000u  0:00.000  3888  2592   10109_left   \n",
       "      83   1.076MB  0.000u  0:00.000  3888  2592  10109_right   \n",
       "3     24    1.45MB  0.000u  0:00.000  3888  2592    1002_left   \n",
       "      40   1.382MB  0.000u  0:00.000  3888  2592   10047_left   \n",
       "      66   1.159MB  0.000u  0:00.000  3888  2592    1008_left   \n",
       "      67   1.164MB  0.000u  0:00.000  3888  2592   1008_right   \n",
       "      96   1.644MB  0.000u  0:00.000  4272  2848   10125_left   \n",
       "4     16   1.212MB  0.000u  0:00.000  3888  2592   10017_left   \n",
       "      17   1.209MB  0.000u  0:00.000  3888  2592  10017_right   \n",
       "      41   1.378MB  0.000u  0:00.000  3888  2592  10047_right   \n",
       "      169  1.566MB  0.000u  0:00.000  3888  2592  10193_right   \n",
       "      280  1.056MB  0.000u  0:00.000  4928  3264   10312_left   \n",
       "\n",
       "                            image  label  \n",
       "label                                     \n",
       "0     0     train/10003_left.jpeg      0  \n",
       "      1    train/10003_right.jpeg      0  \n",
       "      2     train/10007_left.jpeg      0  \n",
       "      3    train/10007_right.jpeg      0  \n",
       "      4     train/10009_left.jpeg      0  \n",
       "1     26    train/10030_left.jpeg      1  \n",
       "      27   train/10030_right.jpeg      1  \n",
       "      64    train/10085_left.jpeg      1  \n",
       "      65   train/10085_right.jpeg      1  \n",
       "      123  train/10150_right.jpeg      1  \n",
       "2     25    train/1002_right.jpeg      2  \n",
       "      36    train/10043_left.jpeg      2  \n",
       "      37   train/10043_right.jpeg      2  \n",
       "      82    train/10109_left.jpeg      2  \n",
       "      83   train/10109_right.jpeg      2  \n",
       "3     24     train/1002_left.jpeg      3  \n",
       "      40    train/10047_left.jpeg      3  \n",
       "      66     train/1008_left.jpeg      3  \n",
       "      67    train/1008_right.jpeg      3  \n",
       "      96    train/10125_left.jpeg      3  \n",
       "4     16    train/10017_left.jpeg      4  \n",
       "      17   train/10017_right.jpeg      4  \n",
       "      41   train/10047_right.jpeg      4  \n",
       "      169  train/10193_right.jpeg      4  \n",
       "      280   train/10312_left.jpeg      4  "
      ]
     },
     "execution_count": 22,
     "metadata": {},
     "output_type": "execute_result"
    }
   ],
   "source": [
    "image_table.groupby('label').apply(lambda x: x.head())"
   ]
  },
  {
   "cell_type": "code",
   "execution_count": 26,
   "metadata": {
    "collapsed": false
   },
   "outputs": [],
   "source": [
    "image_desc.dim_x=image_desc.dim_x.astype(np.int)"
   ]
  },
  {
   "cell_type": "code",
   "execution_count": 27,
   "metadata": {
    "collapsed": true
   },
   "outputs": [],
   "source": [
    "image_desc.dim_y=image_desc.dim_y.astype(np.int)"
   ]
  },
  {
   "cell_type": "code",
   "execution_count": 62,
   "metadata": {
    "collapsed": false
   },
   "outputs": [
    {
     "data": {
      "text/plain": [
       "<matplotlib.axes._subplots.AxesSubplot at 0x17810d68>"
      ]
     },
     "execution_count": 62,
     "metadata": {},
     "output_type": "execute_result"
    }
   ],
   "source": [
    "image_desc.dim_y.hist()"
   ]
  },
  {
   "cell_type": "code",
   "execution_count": 59,
   "metadata": {
    "collapsed": true
   },
   "outputs": [],
   "source": [
    "import matplotlib.pyplot as plt"
   ]
  },
  {
   "cell_type": "code",
   "execution_count": 61,
   "metadata": {
    "collapsed": false
   },
   "outputs": [],
   "source": [
    "plt.show()"
   ]
  },
  {
   "cell_type": "code",
   "execution_count": 75,
   "metadata": {
    "collapsed": false
   },
   "outputs": [
    {
     "data": {
      "text/html": [
       "<div style=\"max-height:1000px;max-width:1500px;overflow:auto;\">\n",
       "<table border=\"1\" class=\"dataframe\">\n",
       "  <thead>\n",
       "    <tr style=\"text-align: right;\">\n",
       "      <th></th>\n",
       "      <th>image</th>\n",
       "      <th>label</th>\n",
       "      <th>name</th>\n",
       "      <th>number</th>\n",
       "      <th>lr</th>\n",
       "    </tr>\n",
       "  </thead>\n",
       "  <tbody>\n",
       "    <tr>\n",
       "      <th>0</th>\n",
       "      <td>  train/15_left.jpeg</td>\n",
       "      <td> 1</td>\n",
       "      <td>  15_left</td>\n",
       "      <td>  15</td>\n",
       "      <td>  left</td>\n",
       "    </tr>\n",
       "    <tr>\n",
       "      <th>1</th>\n",
       "      <td> train/17_right.jpeg</td>\n",
       "      <td> 1</td>\n",
       "      <td> 17_right</td>\n",
       "      <td>  17</td>\n",
       "      <td> right</td>\n",
       "    </tr>\n",
       "    <tr>\n",
       "      <th>2</th>\n",
       "      <td>  train/30_left.jpeg</td>\n",
       "      <td> 1</td>\n",
       "      <td>  30_left</td>\n",
       "      <td>  30</td>\n",
       "      <td>  left</td>\n",
       "    </tr>\n",
       "    <tr>\n",
       "      <th>3</th>\n",
       "      <td>  train/36_left.jpeg</td>\n",
       "      <td> 1</td>\n",
       "      <td>  36_left</td>\n",
       "      <td>  36</td>\n",
       "      <td>  left</td>\n",
       "    </tr>\n",
       "    <tr>\n",
       "      <th>4</th>\n",
       "      <td> train/114_left.jpeg</td>\n",
       "      <td> 1</td>\n",
       "      <td> 114_left</td>\n",
       "      <td> 114</td>\n",
       "      <td>  left</td>\n",
       "    </tr>\n",
       "  </tbody>\n",
       "</table>\n",
       "</div>"
      ],
      "text/plain": [
       "                 image  label      name  number     lr\n",
       "0   train/15_left.jpeg      1   15_left      15   left\n",
       "1  train/17_right.jpeg      1  17_right      17  right\n",
       "2   train/30_left.jpeg      1   30_left      30   left\n",
       "3   train/36_left.jpeg      1   36_left      36   left\n",
       "4  train/114_left.jpeg      1  114_left     114   left"
      ]
     },
     "execution_count": 75,
     "metadata": {},
     "output_type": "execute_result"
    }
   ],
   "source": [
    "df_all.head()"
   ]
  },
  {
   "cell_type": "code",
   "execution_count": 64,
   "metadata": {
    "collapsed": false
   },
   "outputs": [
    {
     "data": {
      "text/html": [
       "<div style=\"max-height:1000px;max-width:1500px;overflow:auto;\">\n",
       "<table border=\"1\" class=\"dataframe\">\n",
       "  <thead>\n",
       "    <tr style=\"text-align: right;\">\n",
       "      <th></th>\n",
       "      <th>image</th>\n",
       "      <th>label</th>\n",
       "    </tr>\n",
       "  </thead>\n",
       "  <tbody>\n",
       "    <tr>\n",
       "      <th>5802</th>\n",
       "      <td> train/10003_left.jpeg</td>\n",
       "      <td> 0</td>\n",
       "    </tr>\n",
       "  </tbody>\n",
       "</table>\n",
       "</div>"
      ],
      "text/plain": [
       "                      image  label\n",
       "5802  train/10003_left.jpeg      0"
      ]
     },
     "execution_count": 64,
     "metadata": {},
     "output_type": "execute_result"
    }
   ],
   "source": [
    "df_all[df_all.image=='train/10003_left.jpeg']"
   ]
  },
  {
   "cell_type": "code",
   "execution_count": 95,
   "metadata": {
    "collapsed": false,
    "scrolled": true
   },
   "outputs": [
    {
     "data": {
      "text/html": [
       "<div style=\"max-height:1000px;max-width:1500px;overflow:auto;\">\n",
       "<table border=\"1\" class=\"dataframe\">\n",
       "  <thead>\n",
       "    <tr style=\"text-align: right;\">\n",
       "      <th></th>\n",
       "      <th>image</th>\n",
       "      <th>label</th>\n",
       "      <th>name</th>\n",
       "      <th>number</th>\n",
       "      <th>lr</th>\n",
       "    </tr>\n",
       "  </thead>\n",
       "  <tbody>\n",
       "    <tr>\n",
       "      <th>0  </th>\n",
       "      <td>     train/16_left.jpeg</td>\n",
       "      <td> 4</td>\n",
       "      <td>     16_left</td>\n",
       "      <td>    16</td>\n",
       "      <td>  left</td>\n",
       "    </tr>\n",
       "    <tr>\n",
       "      <th>1  </th>\n",
       "      <td>    train/16_right.jpeg</td>\n",
       "      <td> 4</td>\n",
       "      <td>    16_right</td>\n",
       "      <td>    16</td>\n",
       "      <td> right</td>\n",
       "    </tr>\n",
       "    <tr>\n",
       "      <th>2  </th>\n",
       "      <td>    train/217_left.jpeg</td>\n",
       "      <td> 4</td>\n",
       "      <td>    217_left</td>\n",
       "      <td>   217</td>\n",
       "      <td>  left</td>\n",
       "    </tr>\n",
       "    <tr>\n",
       "      <th>3  </th>\n",
       "      <td>   train/217_right.jpeg</td>\n",
       "      <td> 4</td>\n",
       "      <td>   217_right</td>\n",
       "      <td>   217</td>\n",
       "      <td> right</td>\n",
       "    </tr>\n",
       "    <tr>\n",
       "      <th>4  </th>\n",
       "      <td>    train/294_left.jpeg</td>\n",
       "      <td> 4</td>\n",
       "      <td>    294_left</td>\n",
       "      <td>   294</td>\n",
       "      <td>  left</td>\n",
       "    </tr>\n",
       "    <tr>\n",
       "      <th>5  </th>\n",
       "      <td>   train/294_right.jpeg</td>\n",
       "      <td> 4</td>\n",
       "      <td>   294_right</td>\n",
       "      <td>   294</td>\n",
       "      <td> right</td>\n",
       "    </tr>\n",
       "    <tr>\n",
       "      <th>6  </th>\n",
       "      <td>    train/326_left.jpeg</td>\n",
       "      <td> 4</td>\n",
       "      <td>    326_left</td>\n",
       "      <td>   326</td>\n",
       "      <td>  left</td>\n",
       "    </tr>\n",
       "    <tr>\n",
       "      <th>7  </th>\n",
       "      <td>   train/326_right.jpeg</td>\n",
       "      <td> 4</td>\n",
       "      <td>   326_right</td>\n",
       "      <td>   326</td>\n",
       "      <td> right</td>\n",
       "    </tr>\n",
       "    <tr>\n",
       "      <th>8  </th>\n",
       "      <td>    train/367_left.jpeg</td>\n",
       "      <td> 4</td>\n",
       "      <td>    367_left</td>\n",
       "      <td>   367</td>\n",
       "      <td>  left</td>\n",
       "    </tr>\n",
       "    <tr>\n",
       "      <th>9  </th>\n",
       "      <td>   train/367_right.jpeg</td>\n",
       "      <td> 4</td>\n",
       "      <td>   367_right</td>\n",
       "      <td>   367</td>\n",
       "      <td> right</td>\n",
       "    </tr>\n",
       "    <tr>\n",
       "      <th>10 </th>\n",
       "      <td>    train/405_left.jpeg</td>\n",
       "      <td> 4</td>\n",
       "      <td>    405_left</td>\n",
       "      <td>   405</td>\n",
       "      <td>  left</td>\n",
       "    </tr>\n",
       "    <tr>\n",
       "      <th>11 </th>\n",
       "      <td>   train/405_right.jpeg</td>\n",
       "      <td> 4</td>\n",
       "      <td>   405_right</td>\n",
       "      <td>   405</td>\n",
       "      <td> right</td>\n",
       "    </tr>\n",
       "    <tr>\n",
       "      <th>12 </th>\n",
       "      <td>    train/406_left.jpeg</td>\n",
       "      <td> 4</td>\n",
       "      <td>    406_left</td>\n",
       "      <td>   406</td>\n",
       "      <td>  left</td>\n",
       "    </tr>\n",
       "    <tr>\n",
       "      <th>13 </th>\n",
       "      <td>   train/406_right.jpeg</td>\n",
       "      <td> 4</td>\n",
       "      <td>   406_right</td>\n",
       "      <td>   406</td>\n",
       "      <td> right</td>\n",
       "    </tr>\n",
       "    <tr>\n",
       "      <th>14 </th>\n",
       "      <td>   train/439_right.jpeg</td>\n",
       "      <td> 4</td>\n",
       "      <td>   439_right</td>\n",
       "      <td>   439</td>\n",
       "      <td> right</td>\n",
       "    </tr>\n",
       "    <tr>\n",
       "      <th>15 </th>\n",
       "      <td>   train/458_right.jpeg</td>\n",
       "      <td> 4</td>\n",
       "      <td>   458_right</td>\n",
       "      <td>   458</td>\n",
       "      <td> right</td>\n",
       "    </tr>\n",
       "    <tr>\n",
       "      <th>16 </th>\n",
       "      <td>    train/670_left.jpeg</td>\n",
       "      <td> 4</td>\n",
       "      <td>    670_left</td>\n",
       "      <td>   670</td>\n",
       "      <td>  left</td>\n",
       "    </tr>\n",
       "    <tr>\n",
       "      <th>17 </th>\n",
       "      <td>   train/670_right.jpeg</td>\n",
       "      <td> 4</td>\n",
       "      <td>   670_right</td>\n",
       "      <td>   670</td>\n",
       "      <td> right</td>\n",
       "    </tr>\n",
       "    <tr>\n",
       "      <th>18 </th>\n",
       "      <td>    train/936_left.jpeg</td>\n",
       "      <td> 4</td>\n",
       "      <td>    936_left</td>\n",
       "      <td>   936</td>\n",
       "      <td>  left</td>\n",
       "    </tr>\n",
       "    <tr>\n",
       "      <th>19 </th>\n",
       "      <td>   train/936_right.jpeg</td>\n",
       "      <td> 4</td>\n",
       "      <td>   936_right</td>\n",
       "      <td>   936</td>\n",
       "      <td> right</td>\n",
       "    </tr>\n",
       "    <tr>\n",
       "      <th>20 </th>\n",
       "      <td>    train/986_left.jpeg</td>\n",
       "      <td> 4</td>\n",
       "      <td>    986_left</td>\n",
       "      <td>   986</td>\n",
       "      <td>  left</td>\n",
       "    </tr>\n",
       "    <tr>\n",
       "      <th>21 </th>\n",
       "      <td>   train/1084_left.jpeg</td>\n",
       "      <td> 4</td>\n",
       "      <td>   1084_left</td>\n",
       "      <td>  1084</td>\n",
       "      <td>  left</td>\n",
       "    </tr>\n",
       "    <tr>\n",
       "      <th>22 </th>\n",
       "      <td>  train/1084_right.jpeg</td>\n",
       "      <td> 4</td>\n",
       "      <td>  1084_right</td>\n",
       "      <td>  1084</td>\n",
       "      <td> right</td>\n",
       "    </tr>\n",
       "    <tr>\n",
       "      <th>23 </th>\n",
       "      <td>  train/1099_right.jpeg</td>\n",
       "      <td> 4</td>\n",
       "      <td>  1099_right</td>\n",
       "      <td>  1099</td>\n",
       "      <td> right</td>\n",
       "    </tr>\n",
       "    <tr>\n",
       "      <th>24 </th>\n",
       "      <td>   train/1138_left.jpeg</td>\n",
       "      <td> 4</td>\n",
       "      <td>   1138_left</td>\n",
       "      <td>  1138</td>\n",
       "      <td>  left</td>\n",
       "    </tr>\n",
       "    <tr>\n",
       "      <th>25 </th>\n",
       "      <td>  train/1138_right.jpeg</td>\n",
       "      <td> 4</td>\n",
       "      <td>  1138_right</td>\n",
       "      <td>  1138</td>\n",
       "      <td> right</td>\n",
       "    </tr>\n",
       "    <tr>\n",
       "      <th>26 </th>\n",
       "      <td>   train/1350_left.jpeg</td>\n",
       "      <td> 4</td>\n",
       "      <td>   1350_left</td>\n",
       "      <td>  1350</td>\n",
       "      <td>  left</td>\n",
       "    </tr>\n",
       "    <tr>\n",
       "      <th>27 </th>\n",
       "      <td>   train/1430_left.jpeg</td>\n",
       "      <td> 4</td>\n",
       "      <td>   1430_left</td>\n",
       "      <td>  1430</td>\n",
       "      <td>  left</td>\n",
       "    </tr>\n",
       "    <tr>\n",
       "      <th>28 </th>\n",
       "      <td>  train/1430_right.jpeg</td>\n",
       "      <td> 4</td>\n",
       "      <td>  1430_right</td>\n",
       "      <td>  1430</td>\n",
       "      <td> right</td>\n",
       "    </tr>\n",
       "    <tr>\n",
       "      <th>29 </th>\n",
       "      <td>   train/1663_left.jpeg</td>\n",
       "      <td> 4</td>\n",
       "      <td>   1663_left</td>\n",
       "      <td>  1663</td>\n",
       "      <td>  left</td>\n",
       "    </tr>\n",
       "    <tr>\n",
       "      <th>...</th>\n",
       "      <td>...</td>\n",
       "      <td>...</td>\n",
       "      <td>...</td>\n",
       "      <td>...</td>\n",
       "      <td>...</td>\n",
       "    </tr>\n",
       "    <tr>\n",
       "      <th>678</th>\n",
       "      <td> train/41761_right.jpeg</td>\n",
       "      <td> 4</td>\n",
       "      <td> 41761_right</td>\n",
       "      <td> 41761</td>\n",
       "      <td> right</td>\n",
       "    </tr>\n",
       "    <tr>\n",
       "      <th>679</th>\n",
       "      <td> train/41852_right.jpeg</td>\n",
       "      <td> 4</td>\n",
       "      <td> 41852_right</td>\n",
       "      <td> 41852</td>\n",
       "      <td> right</td>\n",
       "    </tr>\n",
       "    <tr>\n",
       "      <th>680</th>\n",
       "      <td> train/42022_right.jpeg</td>\n",
       "      <td> 4</td>\n",
       "      <td> 42022_right</td>\n",
       "      <td> 42022</td>\n",
       "      <td> right</td>\n",
       "    </tr>\n",
       "    <tr>\n",
       "      <th>681</th>\n",
       "      <td>  train/42316_left.jpeg</td>\n",
       "      <td> 4</td>\n",
       "      <td>  42316_left</td>\n",
       "      <td> 42316</td>\n",
       "      <td>  left</td>\n",
       "    </tr>\n",
       "    <tr>\n",
       "      <th>682</th>\n",
       "      <td>  train/42358_left.jpeg</td>\n",
       "      <td> 4</td>\n",
       "      <td>  42358_left</td>\n",
       "      <td> 42358</td>\n",
       "      <td>  left</td>\n",
       "    </tr>\n",
       "    <tr>\n",
       "      <th>683</th>\n",
       "      <td> train/42442_right.jpeg</td>\n",
       "      <td> 4</td>\n",
       "      <td> 42442_right</td>\n",
       "      <td> 42442</td>\n",
       "      <td> right</td>\n",
       "    </tr>\n",
       "    <tr>\n",
       "      <th>684</th>\n",
       "      <td>  train/42484_left.jpeg</td>\n",
       "      <td> 4</td>\n",
       "      <td>  42484_left</td>\n",
       "      <td> 42484</td>\n",
       "      <td>  left</td>\n",
       "    </tr>\n",
       "    <tr>\n",
       "      <th>685</th>\n",
       "      <td> train/42484_right.jpeg</td>\n",
       "      <td> 4</td>\n",
       "      <td> 42484_right</td>\n",
       "      <td> 42484</td>\n",
       "      <td> right</td>\n",
       "    </tr>\n",
       "    <tr>\n",
       "      <th>686</th>\n",
       "      <td>  train/42815_left.jpeg</td>\n",
       "      <td> 4</td>\n",
       "      <td>  42815_left</td>\n",
       "      <td> 42815</td>\n",
       "      <td>  left</td>\n",
       "    </tr>\n",
       "    <tr>\n",
       "      <th>687</th>\n",
       "      <td> train/42815_right.jpeg</td>\n",
       "      <td> 4</td>\n",
       "      <td> 42815_right</td>\n",
       "      <td> 42815</td>\n",
       "      <td> right</td>\n",
       "    </tr>\n",
       "    <tr>\n",
       "      <th>688</th>\n",
       "      <td>  train/43008_left.jpeg</td>\n",
       "      <td> 4</td>\n",
       "      <td>  43008_left</td>\n",
       "      <td> 43008</td>\n",
       "      <td>  left</td>\n",
       "    </tr>\n",
       "    <tr>\n",
       "      <th>689</th>\n",
       "      <td>  train/43050_left.jpeg</td>\n",
       "      <td> 4</td>\n",
       "      <td>  43050_left</td>\n",
       "      <td> 43050</td>\n",
       "      <td>  left</td>\n",
       "    </tr>\n",
       "    <tr>\n",
       "      <th>690</th>\n",
       "      <td> train/43050_right.jpeg</td>\n",
       "      <td> 4</td>\n",
       "      <td> 43050_right</td>\n",
       "      <td> 43050</td>\n",
       "      <td> right</td>\n",
       "    </tr>\n",
       "    <tr>\n",
       "      <th>691</th>\n",
       "      <td>  train/43141_left.jpeg</td>\n",
       "      <td> 4</td>\n",
       "      <td>  43141_left</td>\n",
       "      <td> 43141</td>\n",
       "      <td>  left</td>\n",
       "    </tr>\n",
       "    <tr>\n",
       "      <th>692</th>\n",
       "      <td> train/43141_right.jpeg</td>\n",
       "      <td> 4</td>\n",
       "      <td> 43141_right</td>\n",
       "      <td> 43141</td>\n",
       "      <td> right</td>\n",
       "    </tr>\n",
       "    <tr>\n",
       "      <th>693</th>\n",
       "      <td>  train/43199_left.jpeg</td>\n",
       "      <td> 4</td>\n",
       "      <td>  43199_left</td>\n",
       "      <td> 43199</td>\n",
       "      <td>  left</td>\n",
       "    </tr>\n",
       "    <tr>\n",
       "      <th>694</th>\n",
       "      <td> train/43199_right.jpeg</td>\n",
       "      <td> 4</td>\n",
       "      <td> 43199_right</td>\n",
       "      <td> 43199</td>\n",
       "      <td> right</td>\n",
       "    </tr>\n",
       "    <tr>\n",
       "      <th>695</th>\n",
       "      <td>  train/43339_left.jpeg</td>\n",
       "      <td> 4</td>\n",
       "      <td>  43339_left</td>\n",
       "      <td> 43339</td>\n",
       "      <td>  left</td>\n",
       "    </tr>\n",
       "    <tr>\n",
       "      <th>696</th>\n",
       "      <td> train/43339_right.jpeg</td>\n",
       "      <td> 4</td>\n",
       "      <td> 43339_right</td>\n",
       "      <td> 43339</td>\n",
       "      <td> right</td>\n",
       "    </tr>\n",
       "    <tr>\n",
       "      <th>697</th>\n",
       "      <td>  train/43379_left.jpeg</td>\n",
       "      <td> 4</td>\n",
       "      <td>  43379_left</td>\n",
       "      <td> 43379</td>\n",
       "      <td>  left</td>\n",
       "    </tr>\n",
       "    <tr>\n",
       "      <th>698</th>\n",
       "      <td> train/43379_right.jpeg</td>\n",
       "      <td> 4</td>\n",
       "      <td> 43379_right</td>\n",
       "      <td> 43379</td>\n",
       "      <td> right</td>\n",
       "    </tr>\n",
       "    <tr>\n",
       "      <th>699</th>\n",
       "      <td> train/43839_right.jpeg</td>\n",
       "      <td> 4</td>\n",
       "      <td> 43839_right</td>\n",
       "      <td> 43839</td>\n",
       "      <td> right</td>\n",
       "    </tr>\n",
       "    <tr>\n",
       "      <th>700</th>\n",
       "      <td>  train/43997_left.jpeg</td>\n",
       "      <td> 4</td>\n",
       "      <td>  43997_left</td>\n",
       "      <td> 43997</td>\n",
       "      <td>  left</td>\n",
       "    </tr>\n",
       "    <tr>\n",
       "      <th>701</th>\n",
       "      <td> train/43997_right.jpeg</td>\n",
       "      <td> 4</td>\n",
       "      <td> 43997_right</td>\n",
       "      <td> 43997</td>\n",
       "      <td> right</td>\n",
       "    </tr>\n",
       "    <tr>\n",
       "      <th>702</th>\n",
       "      <td>  train/43998_left.jpeg</td>\n",
       "      <td> 4</td>\n",
       "      <td>  43998_left</td>\n",
       "      <td> 43998</td>\n",
       "      <td>  left</td>\n",
       "    </tr>\n",
       "    <tr>\n",
       "      <th>703</th>\n",
       "      <td>  train/44100_left.jpeg</td>\n",
       "      <td> 4</td>\n",
       "      <td>  44100_left</td>\n",
       "      <td> 44100</td>\n",
       "      <td>  left</td>\n",
       "    </tr>\n",
       "    <tr>\n",
       "      <th>704</th>\n",
       "      <td>  train/44247_left.jpeg</td>\n",
       "      <td> 4</td>\n",
       "      <td>  44247_left</td>\n",
       "      <td> 44247</td>\n",
       "      <td>  left</td>\n",
       "    </tr>\n",
       "    <tr>\n",
       "      <th>705</th>\n",
       "      <td> train/44247_right.jpeg</td>\n",
       "      <td> 4</td>\n",
       "      <td> 44247_right</td>\n",
       "      <td> 44247</td>\n",
       "      <td> right</td>\n",
       "    </tr>\n",
       "    <tr>\n",
       "      <th>706</th>\n",
       "      <td>  train/44249_left.jpeg</td>\n",
       "      <td> 4</td>\n",
       "      <td>  44249_left</td>\n",
       "      <td> 44249</td>\n",
       "      <td>  left</td>\n",
       "    </tr>\n",
       "    <tr>\n",
       "      <th>707</th>\n",
       "      <td> train/44249_right.jpeg</td>\n",
       "      <td> 4</td>\n",
       "      <td> 44249_right</td>\n",
       "      <td> 44249</td>\n",
       "      <td> right</td>\n",
       "    </tr>\n",
       "  </tbody>\n",
       "</table>\n",
       "<p>708 rows × 5 columns</p>\n",
       "</div>"
      ],
      "text/plain": [
       "                      image  label         name  number     lr\n",
       "0        train/16_left.jpeg      4      16_left      16   left\n",
       "1       train/16_right.jpeg      4     16_right      16  right\n",
       "2       train/217_left.jpeg      4     217_left     217   left\n",
       "3      train/217_right.jpeg      4    217_right     217  right\n",
       "4       train/294_left.jpeg      4     294_left     294   left\n",
       "5      train/294_right.jpeg      4    294_right     294  right\n",
       "6       train/326_left.jpeg      4     326_left     326   left\n",
       "7      train/326_right.jpeg      4    326_right     326  right\n",
       "8       train/367_left.jpeg      4     367_left     367   left\n",
       "9      train/367_right.jpeg      4    367_right     367  right\n",
       "10      train/405_left.jpeg      4     405_left     405   left\n",
       "11     train/405_right.jpeg      4    405_right     405  right\n",
       "12      train/406_left.jpeg      4     406_left     406   left\n",
       "13     train/406_right.jpeg      4    406_right     406  right\n",
       "14     train/439_right.jpeg      4    439_right     439  right\n",
       "15     train/458_right.jpeg      4    458_right     458  right\n",
       "16      train/670_left.jpeg      4     670_left     670   left\n",
       "17     train/670_right.jpeg      4    670_right     670  right\n",
       "18      train/936_left.jpeg      4     936_left     936   left\n",
       "19     train/936_right.jpeg      4    936_right     936  right\n",
       "20      train/986_left.jpeg      4     986_left     986   left\n",
       "21     train/1084_left.jpeg      4    1084_left    1084   left\n",
       "22    train/1084_right.jpeg      4   1084_right    1084  right\n",
       "23    train/1099_right.jpeg      4   1099_right    1099  right\n",
       "24     train/1138_left.jpeg      4    1138_left    1138   left\n",
       "25    train/1138_right.jpeg      4   1138_right    1138  right\n",
       "26     train/1350_left.jpeg      4    1350_left    1350   left\n",
       "27     train/1430_left.jpeg      4    1430_left    1430   left\n",
       "28    train/1430_right.jpeg      4   1430_right    1430  right\n",
       "29     train/1663_left.jpeg      4    1663_left    1663   left\n",
       "..                      ...    ...          ...     ...    ...\n",
       "678  train/41761_right.jpeg      4  41761_right   41761  right\n",
       "679  train/41852_right.jpeg      4  41852_right   41852  right\n",
       "680  train/42022_right.jpeg      4  42022_right   42022  right\n",
       "681   train/42316_left.jpeg      4   42316_left   42316   left\n",
       "682   train/42358_left.jpeg      4   42358_left   42358   left\n",
       "683  train/42442_right.jpeg      4  42442_right   42442  right\n",
       "684   train/42484_left.jpeg      4   42484_left   42484   left\n",
       "685  train/42484_right.jpeg      4  42484_right   42484  right\n",
       "686   train/42815_left.jpeg      4   42815_left   42815   left\n",
       "687  train/42815_right.jpeg      4  42815_right   42815  right\n",
       "688   train/43008_left.jpeg      4   43008_left   43008   left\n",
       "689   train/43050_left.jpeg      4   43050_left   43050   left\n",
       "690  train/43050_right.jpeg      4  43050_right   43050  right\n",
       "691   train/43141_left.jpeg      4   43141_left   43141   left\n",
       "692  train/43141_right.jpeg      4  43141_right   43141  right\n",
       "693   train/43199_left.jpeg      4   43199_left   43199   left\n",
       "694  train/43199_right.jpeg      4  43199_right   43199  right\n",
       "695   train/43339_left.jpeg      4   43339_left   43339   left\n",
       "696  train/43339_right.jpeg      4  43339_right   43339  right\n",
       "697   train/43379_left.jpeg      4   43379_left   43379   left\n",
       "698  train/43379_right.jpeg      4  43379_right   43379  right\n",
       "699  train/43839_right.jpeg      4  43839_right   43839  right\n",
       "700   train/43997_left.jpeg      4   43997_left   43997   left\n",
       "701  train/43997_right.jpeg      4  43997_right   43997  right\n",
       "702   train/43998_left.jpeg      4   43998_left   43998   left\n",
       "703   train/44100_left.jpeg      4   44100_left   44100   left\n",
       "704   train/44247_left.jpeg      4   44247_left   44247   left\n",
       "705  train/44247_right.jpeg      4  44247_right   44247  right\n",
       "706   train/44249_left.jpeg      4   44249_left   44249   left\n",
       "707  train/44249_right.jpeg      4  44249_right   44249  right\n",
       "\n",
       "[708 rows x 5 columns]"
      ]
     },
     "execution_count": 95,
     "metadata": {},
     "output_type": "execute_result"
    }
   ],
   "source": [
    "df_all.head(100000)[df_all.head(100000).label==4]"
   ]
  },
  {
   "cell_type": "code",
   "execution_count": 28,
   "metadata": {
    "collapsed": false
   },
   "outputs": [],
   "source": [
    "df_all[['number','lr']]=df_all.name.str.split('_').apply(pd.Series)"
   ]
  },
  {
   "cell_type": "code",
   "execution_count": 29,
   "metadata": {
    "collapsed": true
   },
   "outputs": [],
   "source": [
    "df_all.number=df_all.number.astype(np.int)"
   ]
  },
  {
   "cell_type": "code",
   "execution_count": 106,
   "metadata": {
    "collapsed": false
   },
   "outputs": [],
   "source": [
    "df_all.head(100000)[df_all.head(100000).label==4].loc[:24,'image'].to_clipboard()"
   ]
  },
  {
   "cell_type": "code",
   "execution_count": 102,
   "metadata": {
    "collapsed": false
   },
   "outputs": [],
   "source": [
    "df_all.head(100000)[df_all.head(100000).label==0].loc[:24,'image'].to_clipboard()"
   ]
  },
  {
   "cell_type": "code",
   "execution_count": 25,
   "metadata": {
    "collapsed": true
   },
   "outputs": [],
   "source": [
    "files_dir=\"C:\\\\Users\\\\Sean Violante\\\\Documents\\\\Projects\\\\kaggle\\\\processed\\\\run-normal_01\\\\train\""
   ]
  },
  {
   "cell_type": "code",
   "execution_count": 23,
   "metadata": {
    "collapsed": true
   },
   "outputs": [],
   "source": [
    "w=cv2.namedWindow(\"retina\")"
   ]
  },
  {
   "cell_type": "code",
   "execution_count": 36,
   "metadata": {
    "collapsed": true
   },
   "outputs": [],
   "source": [
    "w1=cv2.namedWindow(\"retina_edge\")"
   ]
  },
  {
   "cell_type": "code",
   "execution_count": 72,
   "metadata": {
    "collapsed": true
   },
   "outputs": [],
   "source": [
    "w2=cv2.namedWindow(\"retina_blur\")"
   ]
  },
  {
   "cell_type": "code",
   "execution_count": 25,
   "metadata": {
    "collapsed": false
   },
   "outputs": [
    {
     "data": {
      "text/plain": [
       "array([258, 258], dtype=int64)"
      ]
     },
     "execution_count": 25,
     "metadata": {},
     "output_type": "execute_result"
    }
   ],
   "source": [
    "np.array(a1.shape[0:2])+2"
   ]
  },
  {
   "cell_type": "code",
   "execution_count": 26,
   "metadata": {
    "collapsed": false
   },
   "outputs": [],
   "source": [
    "mas=np.zeros(np.array(a1.shape[0:2])+2,np.uint8)"
   ]
  },
  {
   "cell_type": "code",
   "execution_count": 189,
   "metadata": {
    "collapsed": true
   },
   "outputs": [],
   "source": [
    "l0_samp=df_all.loc[df_all.label==0,'name'].head(100)"
   ]
  },
  {
   "cell_type": "code",
   "execution_count": 190,
   "metadata": {
    "collapsed": true
   },
   "outputs": [],
   "source": [
    "l4_samp=df_all.loc[df_all.label==4,'name'].head(100)"
   ]
  },
  {
   "cell_type": "code",
   "execution_count": 28,
   "metadata": {
    "collapsed": false
   },
   "outputs": [],
   "source": [
    "a1=cv2.imread(files_dir+\"\\\\\"+\"10030_left.png\")"
   ]
  },
  {
   "cell_type": "code",
   "execution_count": 31,
   "metadata": {
    "collapsed": false
   },
   "outputs": [],
   "source": [
    "a1_g=a1[:,:,1].squeeze()"
   ]
  },
  {
   "cell_type": "code",
   "execution_count": 33,
   "metadata": {
    "collapsed": false
   },
   "outputs": [],
   "source": [
    "cv2.imshow(\"retina\",a1_g)\n",
    "#cv2.waitKey(0)"
   ]
  },
  {
   "cell_type": "code",
   "execution_count": 73,
   "metadata": {
    "collapsed": false
   },
   "outputs": [],
   "source": [
    "blur = cv2.GaussianBlur(a1_g,(11,11),0)\n",
    "cv2.imshow(\"retina_blur\",blur)\n"
   ]
  },
  {
   "cell_type": "code",
   "execution_count": 108,
   "metadata": {
    "collapsed": false
   },
   "outputs": [],
   "source": [
    "laplacian = cv2.Laplacian(a1_g,cv2.CV_64F,ksize=31)\n"
   ]
  },
  {
   "cell_type": "code",
   "execution_count": 104,
   "metadata": {
    "collapsed": false
   },
   "outputs": [
    {
     "data": {
      "text/plain": [
       "(array([    1,     0,     1,     2,     3,     1,     0,     1,     2,\n",
       "            3,     2,     3,     1,     5,     5,     6,     2,     5,\n",
       "            9,    23,    34,    40,    71,    84,    81,    68,    84,\n",
       "          105,    75,    61,    89,    84,   118,   125,   140,   165,\n",
       "          156,   206,   195,   289,   369,   475,   634,   843,  1185,\n",
       "         1794,  2681,  4389,  7169, 21847,  7962,  4002,  2131,  1303,\n",
       "          935,   781,   635,   536,   483,   351,   295,   250,   221,\n",
       "          224,   247,   203,   144,   118,    96,   100,    97,   112,\n",
       "          140,   112,   100,    66,    36,    17,    15,    13,    12,\n",
       "            3,     7,     4,     2,     5,     3,     1,     4,     7,\n",
       "            2,     5,     2,     8,     3,     3,     2,     3,     1,     3]),\n",
       " array([-2492.  , -2441.76, -2391.52, -2341.28, -2291.04, -2240.8 ,\n",
       "        -2190.56, -2140.32, -2090.08, -2039.84, -1989.6 , -1939.36,\n",
       "        -1889.12, -1838.88, -1788.64, -1738.4 , -1688.16, -1637.92,\n",
       "        -1587.68, -1537.44, -1487.2 , -1436.96, -1386.72, -1336.48,\n",
       "        -1286.24, -1236.  , -1185.76, -1135.52, -1085.28, -1035.04,\n",
       "         -984.8 ,  -934.56,  -884.32,  -834.08,  -783.84,  -733.6 ,\n",
       "         -683.36,  -633.12,  -582.88,  -532.64,  -482.4 ,  -432.16,\n",
       "         -381.92,  -331.68,  -281.44,  -231.2 ,  -180.96,  -130.72,\n",
       "          -80.48,   -30.24,    20.  ,    70.24,   120.48,   170.72,\n",
       "          220.96,   271.2 ,   321.44,   371.68,   421.92,   472.16,\n",
       "          522.4 ,   572.64,   622.88,   673.12,   723.36,   773.6 ,\n",
       "          823.84,   874.08,   924.32,   974.56,  1024.8 ,  1075.04,\n",
       "         1125.28,  1175.52,  1225.76,  1276.  ,  1326.24,  1376.48,\n",
       "         1426.72,  1476.96,  1527.2 ,  1577.44,  1627.68,  1677.92,\n",
       "         1728.16,  1778.4 ,  1828.64,  1878.88,  1929.12,  1979.36,\n",
       "         2029.6 ,  2079.84,  2130.08,  2180.32,  2230.56,  2280.8 ,\n",
       "         2331.04,  2381.28,  2431.52,  2481.76,  2532.  ]))"
      ]
     },
     "execution_count": 104,
     "metadata": {},
     "output_type": "execute_result"
    }
   ],
   "source": [
    "np.histogram(laplacian.ravel(),bins=100)"
   ]
  },
  {
   "cell_type": "code",
   "execution_count": 109,
   "metadata": {
    "collapsed": true
   },
   "outputs": [],
   "source": [
    "cv2.imshow(\"retina_edge\",(laplacian>100)*np.ubyte(128))"
   ]
  },
  {
   "cell_type": "code",
   "execution_count": null,
   "metadata": {
    "collapsed": true
   },
   "outputs": [],
   "source": [
    "# canny 25, 75"
   ]
  },
  {
   "cell_type": "code",
   "execution_count": null,
   "metadata": {
    "collapsed": true
   },
   "outputs": [],
   "source": [
    "a=cv2.getDerivKernels"
   ]
  },
  {
   "cell_type": "code",
   "execution_count": 82,
   "metadata": {
    "collapsed": false
   },
   "outputs": [
    {
     "data": {
      "text/plain": [
       "(65536L,)"
      ]
     },
     "execution_count": 82,
     "metadata": {},
     "output_type": "execute_result"
    }
   ],
   "source": [
    "(laplacian.ravel()).shape"
   ]
  },
  {
   "cell_type": "code",
   "execution_count": 105,
   "metadata": {
    "collapsed": false
   },
   "outputs": [
    {
     "data": {
      "text/plain": [
       "(array([  1.00000000e+00,   0.00000000e+00,   1.00000000e+00,\n",
       "          2.00000000e+00,   3.00000000e+00,   1.00000000e+00,\n",
       "          0.00000000e+00,   1.00000000e+00,   2.00000000e+00,\n",
       "          3.00000000e+00,   2.00000000e+00,   3.00000000e+00,\n",
       "          1.00000000e+00,   5.00000000e+00,   5.00000000e+00,\n",
       "          6.00000000e+00,   2.00000000e+00,   5.00000000e+00,\n",
       "          9.00000000e+00,   2.30000000e+01,   3.40000000e+01,\n",
       "          4.00000000e+01,   7.10000000e+01,   8.40000000e+01,\n",
       "          8.10000000e+01,   6.80000000e+01,   8.40000000e+01,\n",
       "          1.05000000e+02,   7.50000000e+01,   6.10000000e+01,\n",
       "          8.90000000e+01,   8.40000000e+01,   1.18000000e+02,\n",
       "          1.25000000e+02,   1.40000000e+02,   1.65000000e+02,\n",
       "          1.56000000e+02,   2.06000000e+02,   1.95000000e+02,\n",
       "          2.89000000e+02,   3.69000000e+02,   4.75000000e+02,\n",
       "          6.34000000e+02,   8.43000000e+02,   1.18500000e+03,\n",
       "          1.79400000e+03,   2.68100000e+03,   4.38900000e+03,\n",
       "          7.16900000e+03,   2.18470000e+04,   7.96200000e+03,\n",
       "          4.00200000e+03,   2.13100000e+03,   1.30300000e+03,\n",
       "          9.35000000e+02,   7.81000000e+02,   6.35000000e+02,\n",
       "          5.36000000e+02,   4.83000000e+02,   3.51000000e+02,\n",
       "          2.95000000e+02,   2.50000000e+02,   2.21000000e+02,\n",
       "          2.24000000e+02,   2.47000000e+02,   2.03000000e+02,\n",
       "          1.44000000e+02,   1.18000000e+02,   9.60000000e+01,\n",
       "          1.00000000e+02,   9.70000000e+01,   1.12000000e+02,\n",
       "          1.40000000e+02,   1.12000000e+02,   1.00000000e+02,\n",
       "          6.60000000e+01,   3.60000000e+01,   1.70000000e+01,\n",
       "          1.50000000e+01,   1.30000000e+01,   1.20000000e+01,\n",
       "          3.00000000e+00,   7.00000000e+00,   4.00000000e+00,\n",
       "          2.00000000e+00,   5.00000000e+00,   3.00000000e+00,\n",
       "          1.00000000e+00,   4.00000000e+00,   7.00000000e+00,\n",
       "          2.00000000e+00,   5.00000000e+00,   2.00000000e+00,\n",
       "          8.00000000e+00,   3.00000000e+00,   3.00000000e+00,\n",
       "          2.00000000e+00,   3.00000000e+00,   1.00000000e+00,\n",
       "          3.00000000e+00]),\n",
       " array([-2492.  , -2441.76, -2391.52, -2341.28, -2291.04, -2240.8 ,\n",
       "        -2190.56, -2140.32, -2090.08, -2039.84, -1989.6 , -1939.36,\n",
       "        -1889.12, -1838.88, -1788.64, -1738.4 , -1688.16, -1637.92,\n",
       "        -1587.68, -1537.44, -1487.2 , -1436.96, -1386.72, -1336.48,\n",
       "        -1286.24, -1236.  , -1185.76, -1135.52, -1085.28, -1035.04,\n",
       "         -984.8 ,  -934.56,  -884.32,  -834.08,  -783.84,  -733.6 ,\n",
       "         -683.36,  -633.12,  -582.88,  -532.64,  -482.4 ,  -432.16,\n",
       "         -381.92,  -331.68,  -281.44,  -231.2 ,  -180.96,  -130.72,\n",
       "          -80.48,   -30.24,    20.  ,    70.24,   120.48,   170.72,\n",
       "          220.96,   271.2 ,   321.44,   371.68,   421.92,   472.16,\n",
       "          522.4 ,   572.64,   622.88,   673.12,   723.36,   773.6 ,\n",
       "          823.84,   874.08,   924.32,   974.56,  1024.8 ,  1075.04,\n",
       "         1125.28,  1175.52,  1225.76,  1276.  ,  1326.24,  1376.48,\n",
       "         1426.72,  1476.96,  1527.2 ,  1577.44,  1627.68,  1677.92,\n",
       "         1728.16,  1778.4 ,  1828.64,  1878.88,  1929.12,  1979.36,\n",
       "         2029.6 ,  2079.84,  2130.08,  2180.32,  2230.56,  2280.8 ,\n",
       "         2331.04,  2381.28,  2431.52,  2481.76,  2532.  ]),\n",
       " <a list of 100 Patch objects>)"
      ]
     },
     "execution_count": 105,
     "metadata": {},
     "output_type": "execute_result"
    }
   ],
   "source": [
    "plt.figure(1)\n",
    "plt.clf()\n",
    "plt.hist(laplacian.ravel(),bins=100)\n"
   ]
  },
  {
   "cell_type": "code",
   "execution_count": 142,
   "metadata": {
    "collapsed": false
   },
   "outputs": [
    {
     "data": {
      "text/plain": [
       "0       16_left\n",
       "1      16_right\n",
       "2      217_left\n",
       "3     217_right\n",
       "4      294_left\n",
       "5     294_right\n",
       "6      326_left\n",
       "7     326_right\n",
       "8      367_left\n",
       "9     367_right\n",
       "10     405_left\n",
       "11    405_right\n",
       "12     406_left\n",
       "13    406_right\n",
       "14    439_right\n",
       "...\n",
       "85    5304_right\n",
       "86     5825_left\n",
       "87    5825_right\n",
       "88     5838_left\n",
       "89     6017_left\n",
       "90    6017_right\n",
       "91     6096_left\n",
       "92    6096_right\n",
       "93     6613_left\n",
       "94    6613_right\n",
       "95     6707_left\n",
       "96    6707_right\n",
       "97     6719_left\n",
       "98    6719_right\n",
       "99    6997_right\n",
       "Name: name, Length: 100, dtype: object"
      ]
     },
     "execution_count": 142,
     "metadata": {},
     "output_type": "execute_result"
    }
   ],
   "source": [
    "l4_samp"
   ]
  },
  {
   "cell_type": "code",
   "execution_count": 195,
   "metadata": {
    "collapsed": false
   },
   "outputs": [],
   "source": [
    "def read_images(image_names):\n",
    "    images=[]\n",
    "    masks=[]\n",
    "    \n",
    "    hists=np.zeros((len(image_names),128,128,128)) # sparse?\n",
    "    for i,im in enumerate(image_names):\n",
    "        a1=cv2.imread(files_dir+\"\\\\\"+im+\".png\")\n",
    "        images.append(a1)\n",
    "        mas=np.zeros(np.array(a1.shape[0:2])+2,np.uint8)\n",
    "        z=cv2.floodFill(a1, mas, (0,0),0,  flags=cv2.FLOODFILL_MASK_ONLY|1<<8|4)\n",
    "        z=cv2.floodFill(a1, mas, (0,255),0,  flags=cv2.FLOODFILL_MASK_ONLY|1<<8|4)\n",
    "        z=cv2.floodFill(a1, mas, (255,0),0,  flags=cv2.FLOODFILL_MASK_ONLY|1<<8|4)\n",
    "        z=cv2.floodFill(a1, mas, (255,255),0,  flags=cv2.FLOODFILL_MASK_ONLY|1<<8|4)\n",
    "        mas1=np.logical_not(mas[1:257,1:257])*np.uint8(1)\n",
    "        masks.append(mas1)\n",
    "        a2 = cv2.cvtColor(a1,cv2.COLOR_BGR2YCrCb)\n",
    "        hist=cv2.calcHist([a2], [0,1,2], mas1, [128]*3,[0,256]*3)\n",
    "        hists[i,:,:,:]=hist\n",
    "    return images,masks,hists"
   ]
  },
  {
   "cell_type": "code",
   "execution_count": 191,
   "metadata": {
    "collapsed": false
   },
   "outputs": [],
   "source": [
    "images_l4=images\n",
    "masks_l4=masks"
   ]
  },
  {
   "cell_type": "code",
   "execution_count": 214,
   "metadata": {
    "collapsed": false
   },
   "outputs": [],
   "source": [
    "def pca_images(images,masks,cvt=None):\n",
    "    mns=np.zeros((len(images),3))\n",
    "    eig_vecs=np.zeros((len(images),3,3))\n",
    "    eig_vals=np.zeros((len(images),3))\n",
    "    for i,im in enumerate(images):\n",
    "        im_cvt= cv2.cvtColor(im,cvt)\n",
    "        #dat=im_cvt.reshape((-1,3))\n",
    "        dat1=im_cvt[ masks[i].astype(bool),:]\n",
    "        mns[i,:] = dat1.mean(axis=0)\n",
    "        u, s, v = np.linalg.svd(dat1 - mns[i,:],full_matrices=False)\n",
    "        eig_vecs[i,:]=v\n",
    "        eig_vals[i,:]=s\n",
    "    return mns,eig_vecs,eig_vals"
   ]
  },
  {
   "cell_type": "code",
   "execution_count": 196,
   "metadata": {
    "collapsed": true
   },
   "outputs": [],
   "source": [
    "images_l0,masks_l0,hists_l0=read_images(l0_samp)"
   ]
  },
  {
   "cell_type": "code",
   "execution_count": null,
   "metadata": {
    "collapsed": true
   },
   "outputs": [],
   "source": [
    "# make hists_l4 a numpy  array"
   ]
  },
  {
   "cell_type": "code",
   "execution_count": 215,
   "metadata": {
    "collapsed": false
   },
   "outputs": [],
   "source": [
    "mns_l0,eig_vecs_l0,eig_vals_l0=pca_images(images_l0,masks_l0,cvt=cv2.COLOR_BGR2YCrCb)"
   ]
  },
  {
   "cell_type": "code",
   "execution_count": 216,
   "metadata": {
    "collapsed": false
   },
   "outputs": [
    {
     "data": {
      "text/plain": [
       "array([[  52.00975198,  131.31240882,  124.43933809],\n",
       "       [  89.04489521,  161.99377043,  100.05295136],\n",
       "       [  89.9298367 ,  162.16595581,   99.48487992],\n",
       "       [  89.33085969,  156.32518933,  102.83858507],\n",
       "       [  57.64518709,  135.34536799,  122.81424355],\n",
       "       [  78.81892799,  138.91697905,  118.85037398],\n",
       "       [ 101.31904598,  149.50086048,  111.60871414],\n",
       "       [ 103.86107959,  149.9102164 ,  110.42972929],\n",
       "       [ 108.68984446,  136.94422842,  117.8136627 ]])"
      ]
     },
     "execution_count": 216,
     "metadata": {},
     "output_type": "execute_result"
    }
   ],
   "source": [
    "mns_l0[1:10,:]"
   ]
  },
  {
   "cell_type": "code",
   "execution_count": 219,
   "metadata": {
    "collapsed": false
   },
   "outputs": [
    {
     "data": {
      "text/plain": [
       "array([  95.39428711,  140.09594727,  118.2167511 ])"
      ]
     },
     "execution_count": 219,
     "metadata": {},
     "output_type": "execute_result"
    }
   ],
   "source": [
    "a1=images[0]\n",
    "a2= cv2.cvtColor(a1,cv2.COLOR_BGR2YCrCb)\n",
    "a2.reshape((-1,3)).mean(axis=0)"
   ]
  },
  {
   "cell_type": "code",
   "execution_count": 211,
   "metadata": {
    "collapsed": false
   },
   "outputs": [
    {
     "name": "stdout",
     "output_type": "stream",
     "text": [
      "> \u001b[1;32mc:\\anaconda\\lib\\site-packages\\numpy\\linalg\\linalg.py\u001b[0m(1328)\u001b[0;36msvd\u001b[1;34m()\u001b[0m\n",
      "\u001b[1;32m   1327 \u001b[1;33m        \u001b[0mu\u001b[0m\u001b[1;33m,\u001b[0m \u001b[0ms\u001b[0m\u001b[1;33m,\u001b[0m \u001b[0mvt\u001b[0m \u001b[1;33m=\u001b[0m \u001b[0mgufunc\u001b[0m\u001b[1;33m(\u001b[0m\u001b[0ma\u001b[0m\u001b[1;33m,\u001b[0m \u001b[0msignature\u001b[0m\u001b[1;33m=\u001b[0m\u001b[0msignature\u001b[0m\u001b[1;33m,\u001b[0m \u001b[0mextobj\u001b[0m\u001b[1;33m=\u001b[0m\u001b[0mextobj\u001b[0m\u001b[1;33m)\u001b[0m\u001b[1;33m\u001b[0m\u001b[0m\n",
      "\u001b[0m\u001b[1;32m-> 1328 \u001b[1;33m        \u001b[0mu\u001b[0m \u001b[1;33m=\u001b[0m \u001b[0mu\u001b[0m\u001b[1;33m.\u001b[0m\u001b[0mastype\u001b[0m\u001b[1;33m(\u001b[0m\u001b[0mresult_t\u001b[0m\u001b[1;33m)\u001b[0m\u001b[1;33m\u001b[0m\u001b[0m\n",
      "\u001b[0m\u001b[1;32m   1329 \u001b[1;33m        \u001b[0ms\u001b[0m \u001b[1;33m=\u001b[0m \u001b[0ms\u001b[0m\u001b[1;33m.\u001b[0m\u001b[0mastype\u001b[0m\u001b[1;33m(\u001b[0m\u001b[0m_realType\u001b[0m\u001b[1;33m(\u001b[0m\u001b[0mresult_t\u001b[0m\u001b[1;33m)\u001b[0m\u001b[1;33m)\u001b[0m\u001b[1;33m\u001b[0m\u001b[0m\n",
      "\u001b[0m\n",
      "ipdb> q\n"
     ]
    }
   ],
   "source": [
    "%debug"
   ]
  },
  {
   "cell_type": "code",
   "execution_count": 259,
   "metadata": {
    "collapsed": false
   },
   "outputs": [],
   "source": [
    "plt.figure(8)\n",
    "plt.clf()\n",
    "for i in range(8):\n",
    "    im_cvt= cv2.cvtColor(images_l4[i][:,:,:],cv2.COLOR_BGR2YCrCb)\n",
    "    for j in range(3):\n",
    "        plt.subplot(8,3,i*3+j+1)\n",
    "        plt.imshow(im_cvt[:,:,j])\n",
    "    "
   ]
  },
  {
   "cell_type": "code",
   "execution_count": 263,
   "metadata": {
    "collapsed": false
   },
   "outputs": [
    {
     "data": {
      "text/plain": [
       "(256L, 256L, 3L)"
      ]
     },
     "execution_count": 263,
     "metadata": {},
     "output_type": "execute_result"
    }
   ],
   "source": [
    "z1=images_l4[i]-mns_l0[i,:]\n",
    "z2=np.tensordot(z1,eig_vecs_l0[i,:,:],1)\n",
    "z2.shape"
   ]
  },
  {
   "cell_type": "code",
   "execution_count": null,
   "metadata": {
    "collapsed": true
   },
   "outputs": [],
   "source": [
    "plt.figure(8)\n",
    "plt.clf()\n",
    "for i in range(8):\n",
    "    images_l4[i][:,:,:]\n",
    "    for j in range(3):\n",
    "        plt.subplot(8,3,i*3+j+1)\n",
    "        plt.imshow(im_cvt[:,:,j])\n",
    "    "
   ]
  },
  {
   "cell_type": "code",
   "execution_count": 252,
   "metadata": {
    "collapsed": false
   },
   "outputs": [
    {
     "data": {
      "text/plain": [
       "37.976685977844369"
      ]
     },
     "execution_count": 252,
     "metadata": {},
     "output_type": "execute_result"
    }
   ],
   "source": [
    "eig_vals_l0[0,0]/np.sqrt(256*256)\n",
    "    "
   ]
  },
  {
   "cell_type": "code",
   "execution_count": null,
   "metadata": {
    "collapsed": true
   },
   "outputs": [],
   "source": [
    "plt.figure(7)\n",
    "plt.clf()\n",
    "for i in range(24):\n",
    "    plt.subplot(6,4,i+1)\n",
    "    \n",
    "    plt.imshow(np.log(hists_l0[i,:,:,:].sum(axis=0)+1).T,origin='bottom',extent=(0,256,0,256))\n",
    "    plt.plot(mns_l0[i,1],mns_l0[i,2],'go')\n",
    "    plt.plot(mns_l0[i,1] + eig_vals_l0[i,0]/np.sqrt(masks[i].sum())*np.array([[0],[eig_vecs_l0[i,0,1]]]), \\\n",
    "             mns_l0[i,2] + eig_vals_l0[i,0]/np.sqrt(masks[i].sum())*np.array([[0],[eig_vecs_l0[i,0,2]]]),'g-')\n",
    "    \n",
    "    plt.title(' {} {} {}'.format(i,int(mns_l0[i,1]),int(mns_l0[i,2])))"
   ]
  },
  {
   "cell_type": "code",
   "execution_count": 275,
   "metadata": {
    "collapsed": false
   },
   "outputs": [
    {
     "name": "stdout",
     "output_type": "stream",
     "text": [
      "1\n"
     ]
    }
   ],
   "source": [
    "plt.figure(4)\n",
    "plt.clf()\n",
    "plt.imshow(masks_l0[0])\n",
    "print masks_l0[0][128,128]"
   ]
  },
  {
   "cell_type": "code",
   "execution_count": 280,
   "metadata": {
    "collapsed": false
   },
   "outputs": [
    {
     "ename": "AttributeError",
     "evalue": "'module' object has no attribute 'sift'",
     "output_type": "error",
     "traceback": [
      "\u001b[1;31m---------------------------------------------------------------------------\u001b[0m",
      "\u001b[1;31mAttributeError\u001b[0m                            Traceback (most recent call last)",
      "\u001b[1;32m<ipython-input-280-3d460b3a4628>\u001b[0m in \u001b[0;36m<module>\u001b[1;34m()\u001b[0m\n\u001b[0;32m      3\u001b[0m \u001b[0mgray\u001b[0m\u001b[1;33m=\u001b[0m \u001b[0ma1\u001b[0m\u001b[1;33m[\u001b[0m\u001b[1;33m:\u001b[0m\u001b[1;33m,\u001b[0m\u001b[1;33m:\u001b[0m\u001b[1;33m,\u001b[0m\u001b[1;36m1\u001b[0m\u001b[1;33m]\u001b[0m\u001b[1;33m\u001b[0m\u001b[0m\n\u001b[0;32m      4\u001b[0m \u001b[1;33m\u001b[0m\u001b[0m\n\u001b[1;32m----> 5\u001b[1;33m \u001b[0msift\u001b[0m \u001b[1;33m=\u001b[0m \u001b[0mcv2\u001b[0m\u001b[1;33m.\u001b[0m\u001b[0msift\u001b[0m\u001b[1;33m(\u001b[0m\u001b[1;33m)\u001b[0m\u001b[1;33m\u001b[0m\u001b[0m\n\u001b[0m\u001b[0;32m      6\u001b[0m \u001b[0mkp\u001b[0m \u001b[1;33m=\u001b[0m \u001b[0msift\u001b[0m\u001b[1;33m.\u001b[0m\u001b[0mdetect\u001b[0m\u001b[1;33m(\u001b[0m\u001b[0mgray\u001b[0m\u001b[1;33m,\u001b[0m\u001b[0mNone\u001b[0m\u001b[1;33m)\u001b[0m\u001b[1;33m\u001b[0m\u001b[0m\n\u001b[0;32m      7\u001b[0m \u001b[1;33m\u001b[0m\u001b[0m\n",
      "\u001b[1;31mAttributeError\u001b[0m: 'module' object has no attribute 'sift'"
     ]
    }
   ],
   "source": [
    "plt.figure(5)\n",
    "a1=cv2.cvtColor(images_l0[0][:,:,:],cv2.COLOR_BGR2RGB)\n",
    "gray= a1[:,:,1]\n",
    "\n",
    "sift = cv2\n",
    "kp = sift.detect(gray,None)\n",
    "\n",
    "img=cv2.drawKeypoints(gray,kp)\n",
    "plt.imshow(img)"
   ]
  },
  {
   "cell_type": "code",
   "execution_count": 162,
   "metadata": {
    "collapsed": false
   },
   "outputs": [
    {
     "data": {
      "text/plain": [
       "<matplotlib.image.AxesImage at 0x12233d68>"
      ]
     },
     "execution_count": 162,
     "metadata": {},
     "output_type": "execute_result"
    }
   ],
   "source": [
    "plt.imshow(i_rgb+np.logical_not(masks[0])[:,:,np.newaxis]*(128,128,128))"
   ]
  },
  {
   "cell_type": "code",
   "execution_count": 177,
   "metadata": {
    "collapsed": false
   },
   "outputs": [
    {
     "data": {
      "text/plain": [
       "<matplotlib.image.AxesImage at 0x12155978>"
      ]
     },
     "execution_count": 177,
     "metadata": {},
     "output_type": "execute_result"
    }
   ],
   "source": [
    "plt.figure(5)\n",
    "plt.imshow(i_rgb+np.logical_not(masks[0])[:,:,np.newaxis]*(128,128,128))"
   ]
  },
  {
   "cell_type": "code",
   "execution_count": 178,
   "metadata": {
    "collapsed": false
   },
   "outputs": [
    {
     "data": {
      "text/plain": [
       "<matplotlib.image.AxesImage at 0x12db7278>"
      ]
     },
     "execution_count": 178,
     "metadata": {},
     "output_type": "execute_result"
    }
   ],
   "source": [
    "plt.figure(4)\n",
    "plt.imshow(i_rgb)"
   ]
  },
  {
   "cell_type": "code",
   "execution_count": 88,
   "metadata": {
    "collapsed": false
   },
   "outputs": [
    {
     "data": {
      "text/plain": [
       "(256L, 256L)"
      ]
     },
     "execution_count": 88,
     "metadata": {},
     "output_type": "execute_result"
    }
   ],
   "source": [
    "mas1.shape"
   ]
  },
  {
   "cell_type": "code",
   "execution_count": 99,
   "metadata": {
    "collapsed": false
   },
   "outputs": [
    {
     "data": {
      "text/plain": [
       "[[0, 256], [0, 256], [0, 256]]"
      ]
     },
     "execution_count": 99,
     "metadata": {},
     "output_type": "execute_result"
    }
   ],
   "source": [
    "[[0,256]]*3"
   ]
  },
  {
   "cell_type": "code",
   "execution_count": null,
   "metadata": {
    "collapsed": true
   },
   "outputs": [],
   "source": [
    "df_all.head(100000)[df_all.head(100000).label==4].loc[:24,'image'].to_clipboard()"
   ]
  },
  {
   "cell_type": "code",
   "execution_count": 131,
   "metadata": {
    "collapsed": false
   },
   "outputs": [],
   "source": [
    "hists=cv2.calcHist([a2], [0,1,2], np.logical_not(mas1)*np.uint8(255), [128]*3,[0,256]*3)"
   ]
  },
  {
   "cell_type": "code",
   "execution_count": 143,
   "metadata": {
    "collapsed": false
   },
   "outputs": [
    {
     "data": {
      "text/plain": [
       "(128L, 128L, 128L)"
      ]
     },
     "execution_count": 143,
     "metadata": {},
     "output_type": "execute_result"
    }
   ],
   "source": [
    "hists.shape"
   ]
  },
  {
   "cell_type": "code",
   "execution_count": 149,
   "metadata": {
    "collapsed": false
   },
   "outputs": [
    {
     "data": {
      "text/plain": [
       "<matplotlib.colorbar.Colorbar instance at 0x0000000010751988>"
      ]
     },
     "execution_count": 149,
     "metadata": {},
     "output_type": "execute_result"
    }
   ],
   "source": [
    "f=plt.figure(3)\n",
    "f.clf()\n",
    "i=f.gca().imshow(np.log(hists.sum(axis=(0))+1))\n",
    "f.colorbar(i)\n"
   ]
  },
  {
   "cell_type": "code",
   "execution_count": 30,
   "metadata": {
    "collapsed": false
   },
   "outputs": [
    {
     "data": {
      "text/plain": [
       "<matplotlib.image.AxesImage at 0x15d629e8>"
      ]
     },
     "execution_count": 30,
     "metadata": {},
     "output_type": "execute_result"
    }
   ],
   "source": [
    "plt.imshow(mas)"
   ]
  },
  {
   "cell_type": "code",
   "execution_count": 290,
   "metadata": {
    "collapsed": false
   },
   "outputs": [],
   "source": [
    "def plot_sift_descriptors(descs,ax=None):\n",
    "    if ax is None:\n",
    "        ax = plt.gca()\n",
    "    for desc in descs:\n",
    "        c=plt.Circle((desc['x'], desc['y']),desc['s'])\n",
    "        ax.add_artist(c)\n",
    "        \n",
    "        "
   ]
  },
  {
   "cell_type": "code",
   "execution_count": 281,
   "metadata": {
    "collapsed": false
   },
   "outputs": [
    {
     "data": {
      "text/plain": [
       "<matplotlib.image.AxesImage at 0x16de0828>"
      ]
     },
     "execution_count": 281,
     "metadata": {},
     "output_type": "execute_result"
    }
   ],
   "source": [
    "z1='C:\\\\Users\\\\Sean Violante\\\\Documents\\\\Projects\\\\vlfeat\\\\vlfeat\\\\x64\\\\Debug\\\\box.pgm'\n",
    "a1=plt.imread(z1)\n",
    "plt.figure(9)\n",
    "plt.clf()\n",
    "plt.imshow(a1)"
   ]
  },
  {
   "cell_type": "code",
   "execution_count": 283,
   "metadata": {
    "collapsed": false
   },
   "outputs": [],
   "source": [
    "z=plt.imshow(a1)\n",
    "z.set_cmap('gray')"
   ]
  },
  {
   "cell_type": "code",
   "execution_count": 299,
   "metadata": {
    "collapsed": true
   },
   "outputs": [],
   "source": [
    "plt.figure(11)\n",
    "plot_sift_descriptors([{'x':133.92, 'y':135.88, 's':1.38}],plt.gca())"
   ]
  },
  {
   "cell_type": "code",
   "execution_count": 300,
   "metadata": {
    "collapsed": false
   },
   "outputs": [],
   "source": [
    "plot_sift_descriptors([{'x':133.92, 'y':135.88, 's':14.38}],z.axes)"
   ]
  },
  {
   "cell_type": "code",
   "execution_count": 295,
   "metadata": {
    "collapsed": false
   },
   "outputs": [],
   "source": [
    "plt.show()"
   ]
  },
  {
   "cell_type": "code",
   "execution_count": 297,
   "metadata": {
    "collapsed": false
   },
   "outputs": [
    {
     "data": {
      "text/plain": [
       "[<matplotlib.lines.Line2D at 0x16c9f048>]"
      ]
     },
     "execution_count": 297,
     "metadata": {},
     "output_type": "execute_result"
    }
   ],
   "source": [
    "plt.plot(133,135,'rx')"
   ]
  },
  {
   "cell_type": "code",
   "execution_count": 43,
   "metadata": {
    "collapsed": false
   },
   "outputs": [],
   "source": [
    "circs=cv2.HoughCircles(mas,method=cv2.HOUGH_GRADIENT,dp=2,minDist=10,param1=1,param2=1,minRadius=75,maxRadius=150)"
   ]
  },
  {
   "cell_type": "code",
   "execution_count": 86,
   "metadata": {
    "collapsed": false
   },
   "outputs": [
    {
     "data": {
      "text/plain": [
       "array([[ 117.        ,  121.        ,  115.24755859],\n",
       "       [ 107.        ,  125.        ,  110.22250366],\n",
       "       [ 135.        ,  129.        ,  134.62911987],\n",
       "       [ 117.        ,  133.        ,  117.9872818 ],\n",
       "       [ 125.        ,  127.        ,  125.17188263],\n",
       "       [ 135.        ,  139.        ,  118.80236053],\n",
       "       [ 143.        ,  121.        ,  113.03981781],\n",
       "       [ 123.        ,  143.        ,  123.35720825],\n",
       "       [ 133.        ,  109.        ,  126.57013702],\n",
       "       [ 147.        ,  131.        ,  111.19802094]], dtype=float32)"
      ]
     },
     "execution_count": 86,
     "metadata": {},
     "output_type": "execute_result"
    }
   ],
   "source": [
    "circs[0,0:10]"
   ]
  },
  {
   "cell_type": "code",
   "execution_count": 76,
   "metadata": {
    "collapsed": false
   },
   "outputs": [],
   "source": [
    "circle1=plt.Circle(tuple(circs[0,0,0:2]),circs[0,0,2],color='k')"
   ]
  },
  {
   "cell_type": "code",
   "execution_count": 39,
   "metadata": {
    "collapsed": false
   },
   "outputs": [],
   "source": [
    "edges=cv2.Canny(mas,threshold1=.1,threshold2=1)"
   ]
  },
  {
   "cell_type": "code",
   "execution_count": 75,
   "metadata": {
    "collapsed": false
   },
   "outputs": [
    {
     "data": {
      "text/plain": [
       "<matplotlib.image.AxesImage at 0x15232198>"
      ]
     },
     "execution_count": 75,
     "metadata": {},
     "output_type": "execute_result"
    }
   ],
   "source": [
    "plt.imshow(edges)"
   ]
  },
  {
   "cell_type": "code",
   "execution_count": 73,
   "metadata": {
    "collapsed": true
   },
   "outputs": [],
   "source": [
    "f1=plt.figure(1)"
   ]
  },
  {
   "cell_type": "code",
   "execution_count": 77,
   "metadata": {
    "collapsed": false
   },
   "outputs": [
    {
     "data": {
      "text/plain": [
       "<matplotlib.patches.Circle at 0x15080748>"
      ]
     },
     "execution_count": 77,
     "metadata": {},
     "output_type": "execute_result"
    }
   ],
   "source": [
    "f1.gca().add_artist(circle1)"
   ]
  },
  {
   "cell_type": "code",
   "execution_count": 74,
   "metadata": {
    "collapsed": false
   },
   "outputs": [],
   "source": [
    "f1.clf()"
   ]
  },
  {
   "cell_type": "code",
   "execution_count": 56,
   "metadata": {
    "collapsed": false
   },
   "outputs": [
    {
     "data": {
      "text/plain": [
       "(1L, 178L, 3L)"
      ]
     },
     "execution_count": 56,
     "metadata": {},
     "output_type": "execute_result"
    }
   ],
   "source": [
    "circs.shape"
   ]
  },
  {
   "cell_type": "code",
   "execution_count": 59,
   "metadata": {
    "collapsed": false
   },
   "outputs": [
    {
     "data": {
      "text/plain": [
       "<matplotlib.patches.Circle at 0x155f7898>"
      ]
     },
     "execution_count": 59,
     "metadata": {},
     "output_type": "execute_result"
    }
   ],
   "source": [
    "z=plt.figure(2)\n",
    "z.gca().add_artist(circle1)"
   ]
  },
  {
   "cell_type": "code",
   "execution_count": 60,
   "metadata": {
    "collapsed": true
   },
   "outputs": [],
   "source": [
    "plt.show()"
   ]
  },
  {
   "cell_type": "code",
   "execution_count": 65,
   "metadata": {
    "collapsed": false
   },
   "outputs": [],
   "source": [
    "z.canvas.draw()"
   ]
  },
  {
   "cell_type": "code",
   "execution_count": 66,
   "metadata": {
    "collapsed": true
   },
   "outputs": [],
   "source": [
    "z.show()"
   ]
  },
  {
   "cell_type": "code",
   "execution_count": 68,
   "metadata": {
    "collapsed": false
   },
   "outputs": [
    {
     "data": {
      "text/plain": [
       "[<matplotlib.patches.Circle at 0x155f7898>]"
      ]
     },
     "execution_count": 68,
     "metadata": {},
     "output_type": "execute_result"
    }
   ],
   "source": [
    "z.gca().artists"
   ]
  },
  {
   "cell_type": "code",
   "execution_count": 69,
   "metadata": {
    "collapsed": false
   },
   "outputs": [
    {
     "data": {
      "text/plain": [
       "array([ 117.,  121.], dtype=float32)"
      ]
     },
     "execution_count": 69,
     "metadata": {},
     "output_type": "execute_result"
    }
   ],
   "source": [
    "circs[0,0,0:2]"
   ]
  },
  {
   "cell_type": "code",
   "execution_count": 78,
   "metadata": {
    "collapsed": false
   },
   "outputs": [],
   "source": [
    "f1.canvas.draw()"
   ]
  },
  {
   "cell_type": "code",
   "execution_count": 84,
   "metadata": {
    "collapsed": false
   },
   "outputs": [
    {
     "ename": "TypeError",
     "evalue": "__init__() takes at most 3 arguments (4 given)",
     "output_type": "error",
     "traceback": [
      "\u001b[1;31m---------------------------------------------------------------------------\u001b[0m",
      "\u001b[1;31mTypeError\u001b[0m                                 Traceback (most recent call last)",
      "\u001b[1;32m<ipython-input-84-3004b698b2f5>\u001b[0m in \u001b[0;36m<module>\u001b[1;34m()\u001b[0m\n\u001b[0;32m      3\u001b[0m \u001b[1;33m\u001b[0m\u001b[0m\n\u001b[0;32m      4\u001b[0m \u001b[1;31m#plot one circle (the biggest one on bottom-right)\u001b[0m\u001b[1;33m\u001b[0m\u001b[1;33m\u001b[0m\u001b[0m\n\u001b[1;32m----> 5\u001b[1;33m \u001b[0mplt\u001b[0m\u001b[1;33m.\u001b[0m\u001b[0mCircle\u001b[0m\u001b[1;33m(\u001b[0m\u001b[1;33m(\u001b[0m\u001b[1;36m1\u001b[0m\u001b[1;33m,\u001b[0m \u001b[1;36m0\u001b[0m\u001b[1;33m)\u001b[0m\u001b[1;33m,\u001b[0m \u001b[1;36m0.5\u001b[0m\u001b[1;33m,\u001b[0m \u001b[1;34m'r'\u001b[0m\u001b[1;33m)\u001b[0m\u001b[1;33m\u001b[0m\u001b[0m\n\u001b[0m\u001b[0;32m      6\u001b[0m \u001b[1;33m\u001b[0m\u001b[0m\n\u001b[0;32m      7\u001b[0m \u001b[1;31m#plot a set of circles (circles in diagonal)\u001b[0m\u001b[1;33m\u001b[0m\u001b[1;33m\u001b[0m\u001b[0m\n",
      "\u001b[1;31mTypeError\u001b[0m: __init__() takes at most 3 arguments (4 given)"
     ]
    }
   ],
   "source": [
    "plt.figure(figsize=(8,8))\n",
    "ax=plt.subplot(aspect='equal')\n",
    "\n",
    "#plot one circle (the biggest one on bottom-right)\n",
    "plt.Circle((1, 0), 0.5, 'r')\n",
    "\n",
    "#plot a set of circles (circles in diagonal)\n",
    "a=np.arange(11)\n",
    "out = plt.Circle((a, a), a*0.2, c=a)\n",
    "plt.colorbar(out)\n",
    "\n",
    "plt.xlim(0,10)\n",
    "plt.ylim(0,10)"
   ]
  },
  {
   "cell_type": "code",
   "execution_count": 5,
   "metadata": {
    "collapsed": true
   },
   "outputs": [],
   "source": [
    "a=plt.imread(r'C:\\Users\\Sean Violante\\Documents\\Projects\\vlfeat\\vlfeat\\x64\\Debug\\box.pgm')"
   ]
  },
  {
   "cell_type": "code",
   "execution_count": 7,
   "metadata": {
    "collapsed": false
   },
   "outputs": [
    {
     "data": {
      "text/plain": [
       "(224L, 324L)"
      ]
     },
     "execution_count": 7,
     "metadata": {},
     "output_type": "execute_result"
    }
   ],
   "source": [
    "a.shape"
   ]
  },
  {
   "cell_type": "code",
   "execution_count": 11,
   "metadata": {
    "collapsed": false
   },
   "outputs": [
    {
     "data": {
      "text/plain": [
       "<matplotlib.image.AxesImage at 0xc41a400>"
      ]
     },
     "execution_count": 11,
     "metadata": {},
     "output_type": "execute_result"
    }
   ],
   "source": [
    "plt.imshow(a,plt.gray())"
   ]
  },
  {
   "cell_type": "code",
   "execution_count": 9,
   "metadata": {
    "collapsed": true
   },
   "outputs": [],
   "source": [
    "%matplotlib qt"
   ]
  },
  {
   "cell_type": "code",
   "execution_count": 13,
   "metadata": {
    "collapsed": false
   },
   "outputs": [],
   "source": [
    "with open(r'C:\\Users\\Sean Violante\\Documents\\Projects\\vlfeat\\vlfeat\\x64\\Debug\\dsift.txt','r') as f:\n",
    "    a_desc=json.load(f)"
   ]
  },
  {
   "cell_type": "code",
   "execution_count": 16,
   "metadata": {
    "collapsed": false,
    "scrolled": true
   },
   "outputs": [
    {
     "data": {
      "text/plain": [
       "128"
      ]
     },
     "execution_count": 16,
     "metadata": {},
     "output_type": "execute_result"
    }
   ],
   "source": [
    "len(a_desc['Descriptors'])"
   ]
  },
  {
   "cell_type": "code",
   "execution_count": null,
   "metadata": {
    "collapsed": true
   },
   "outputs": [],
   "source": []
  }
 ],
 "metadata": {
  "kernelspec": {
   "display_name": "Python 2",
   "language": "python",
   "name": "python2"
  },
  "language_info": {
   "codemirror_mode": {
    "name": "ipython",
    "version": 2
   },
   "file_extension": ".py",
   "mimetype": "text/x-python",
   "name": "python",
   "nbconvert_exporter": "python",
   "pygments_lexer": "ipython2",
   "version": "2.7.8"
  }
 },
 "nbformat": 4,
 "nbformat_minor": 0
}
