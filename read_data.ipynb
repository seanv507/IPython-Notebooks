{
 "metadata": {
  "name": "",
  "signature": "sha256:24898b433ee0b57c26ae82aa98f40ec0c660f205f0400f2cfcc1095eb3cf2642"
 },
 "nbformat": 3,
 "nbformat_minor": 0,
 "worksheets": [
  {
   "cells": [
    {
     "cell_type": "code",
     "collapsed": false,
     "input": [
      "import pandas.io.sql as psql\n",
      "import pandas as pd\n",
      "import sys\n",
      "sys.path.insert(0,'C:\\Users\\Sean Violante\\Documents\\Projects\\lendico\\lib')\n",
      "import dwh\n",
      "\n",
      "\n"
     ],
     "language": "python",
     "metadata": {},
     "outputs": [],
     "prompt_number": 1
    },
    {
     "cell_type": "code",
     "collapsed": false,
     "input": [
      "conn, cur = dwh.get_DWH()\n",
      "sql=\"select * from base.loan_request\"\n",
      "loan_requests=psql.read_sql(sql,conn)\n"
     ],
     "language": "python",
     "metadata": {},
     "outputs": [],
     "prompt_number": 5
    },
    {
     "cell_type": "code",
     "collapsed": false,
     "input": [
      "# cur.execute(sql)\n",
      "#res = cur.fetchall()\n",
      "print loan_requests.head(5)\n",
      "#sql=\"select table_name from INFORMATION_SCHEMA.views where table_schema='base';\"\n",
      "\n",
      "loan_requests.head(5).to_clipboard(index=False)"
     ],
     "language": "python",
     "metadata": {},
     "outputs": [
      {
       "output_type": "stream",
       "stream": "stdout",
       "text": [
        "   dwh_country_id  id_loan_request  fk_user  fk_ranking country_name  \\\n",
        "0               1               10       40          98      Germany   \n",
        "1               1               11       43          94      Germany   \n",
        "2               1               12       42          97      Germany   \n",
        "3               1               13       45         103      Germany   \n",
        "4               1               14       46          88      Germany   \n",
        "\n",
        "  currency_code creation_date  user_age  loan_request_nr  \\\n",
        "0           EUR    2013-11-30        23        820448399   \n",
        "1           EUR    2013-11-30        56        870217693   \n",
        "2           EUR    2013-11-30        23        540765776   \n",
        "3           EUR    2013-11-30        23        263922873   \n",
        "4           EUR    2013-11-30        35        478671893   \n",
        "\n",
        "                                       title            ...              \\\n",
        "0     Eine feste Zahnspange f\u00fcr unseren Sohn            ...               \n",
        "1  Helft uns unser Bauernhaus zu renovieren!            ...               \n",
        "2                 Hochzeit in S\u00fcdfrankfreich            ...               \n",
        "3               Abl\u00f6sung meines Dispokredits            ...               \n",
        "4                      Neuer Job, neues Auto            ...               \n",
        "\n",
        "  pct_funding_outstanding eur_principal_amount eur_fee_amount  \\\n",
        "0                     0.0                 3800           38.0   \n",
        "1                    66.5                15000          262.5   \n",
        "2                     0.0                 6000          120.0   \n",
        "3                     0.0                 3000           37.5   \n",
        "4                   100.0                 3500            0.0   \n",
        "\n",
        "  eur_interest_amount  eur_total_payback  eur_funded_amount  \\\n",
        "0              237.70            4037.70               3800   \n",
        "1              971.18           15971.18               5025   \n",
        "2              443.73            6443.73               6000   \n",
        "3              285.44            3285.44               3000   \n",
        "4                0.00               0.00                  0   \n",
        "\n",
        "           created_at          updated_at                dwh_created  \\\n",
        "0 2013-11-30 21:47:49 2014-04-16 17:38:18 2014-06-12 11:07:11.648750   \n",
        "1 2013-11-30 22:06:40 2014-04-16 17:38:18 2014-06-12 11:07:11.648750   \n",
        "2 2013-11-30 22:08:20 2014-04-16 17:38:18 2014-06-12 11:07:11.648750   \n",
        "3 2013-11-30 22:22:33 2014-04-16 17:38:18 2014-06-12 11:07:11.648750   \n",
        "4 2013-11-30 22:37:39 2014-04-16 17:38:18 2014-06-12 11:07:11.648750   \n",
        "\n",
        "           dwh_last_modified  \n",
        "0 2014-10-23 15:53:44.710874  \n",
        "1 2014-10-23 15:53:44.710874  \n",
        "2 2014-10-23 15:53:44.710874  \n",
        "3 2014-10-23 15:53:44.710874  \n",
        "4 2014-10-23 15:53:44.710874  \n",
        "\n",
        "[5 rows x 59 columns]\n"
       ]
      }
     ],
     "prompt_number": 10
    },
    {
     "cell_type": "code",
     "collapsed": false,
     "input": [
      "(loan_requests.is_active).describe()"
     ],
     "language": "python",
     "metadata": {},
     "outputs": [
      {
       "metadata": {},
       "output_type": "pyout",
       "prompt_number": 11,
       "text": [
        "count     139070\n",
        "unique         2\n",
        "top       active\n",
        "freq      138103\n",
        "Name: is_active, dtype: object"
       ]
      }
     ],
     "prompt_number": 11
    },
    {
     "cell_type": "code",
     "collapsed": false,
     "input": [
      "(loan_requests.is_active).unique()"
     ],
     "language": "python",
     "metadata": {},
     "outputs": [
      {
       "metadata": {},
       "output_type": "pyout",
       "prompt_number": 12,
       "text": [
        "array(['active', 'inactive'], dtype=object)"
       ]
      }
     ],
     "prompt_number": 12
    },
    {
     "cell_type": "code",
     "collapsed": false,
     "input": [
      "loan_requests.ip_address.describe()"
     ],
     "language": "python",
     "metadata": {},
     "outputs": [
      {
       "metadata": {},
       "output_type": "pyout",
       "prompt_number": 13,
       "text": [
        "count            110198\n",
        "unique            67895\n",
        "top       212.78.108.66\n",
        "freq              18655\n",
        "Name: ip_address, dtype: object"
       ]
      }
     ],
     "prompt_number": 13
    },
    {
     "cell_type": "code",
     "collapsed": false,
     "input": [
      "ip_addresses=loan_requests[,['country_name','id_loan_request','fk_user','creation_date','user_age','ip_address']].group"
     ],
     "language": "python",
     "metadata": {},
     "outputs": []
    }
   ],
   "metadata": {}
  }
 ]
}